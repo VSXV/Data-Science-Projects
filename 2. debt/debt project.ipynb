{
 "cells": [
  {
   "cell_type": "markdown",
   "id": "e93357e9",
   "metadata": {
    "deletable": false,
    "editable": false,
    "id": "c81daeeb"
   },
   "source": [
    "# Исследование надежности заемщиков\n"
   ]
  },
  {
   "attachments": {},
   "cell_type": "markdown",
   "id": "fd2d83da",
   "metadata": {},
   "source": [
    "<div class=\"alert alert-block alert-info\">\n",
    "<b>Описание данных:</b> \n",
    "\n",
    "children — количество детей в семье\n",
    "\n",
    "days_employed — общий трудовой стаж в днях\n",
    "\n",
    "dob_years — возраст клиента в годах\n",
    "\n",
    "education — уровень образования клиента\n",
    "\n",
    "education_id — идентификатор уровня образования\n",
    "\n",
    "family_status — семейное положение\n",
    "\n",
    "family_status_id — идентификатор семейного положения\n",
    "\n",
    "gender — пол клиента\n",
    "\n",
    "income_type — тип занятости\n",
    "\n",
    "debt — имел ли задолженность по возврату кредитов\n",
    "\n",
    "total_income — ежемесячный доход\n",
    "\n",
    "purpose — цель получения кредита\n",
    "\n",
    "<b>Цель исследования:</b> \n",
    "\n",
    "Нужно разобраться, влияет ли количество детей, семейное положение, уровень дохода и цель займа на факт погашения кредита в срок. \n",
    "\n",
    "<b>План исследования:</b> \n",
    "\n",
    "1. Изучить полученныю информацию от банка.\n",
    "2. Произвести предобработку данных.\n",
    "3. Расчитать ключевые показатели по требуемым группам заемщиков.\n",
    "</div>"
   ]
  },
  {
   "cell_type": "markdown",
   "id": "d8419eef",
   "metadata": {
    "deletable": false,
    "editable": false,
    "id": "744d7639"
   },
   "source": [
    "## Откройте таблицу и изучите общую информацию о данных"
   ]
  },
  {
   "cell_type": "markdown",
   "id": "0de26fec",
   "metadata": {
    "deletable": false,
    "editable": false,
    "id": "e7a14c31"
   },
   "source": [
    "**Задание 1. Импортируйте библиотеку pandas. Считайте данные из csv-файла в датафрейм и сохраните в переменную `data`. Путь к файлу:**\n",
    "\n",
    "`/datasets/data.csv`"
   ]
  },
  {
   "cell_type": "code",
   "execution_count": 1,
   "id": "87c2f495",
   "metadata": {
    "deletable": false,
    "id": "7bcf75c9"
   },
   "outputs": [],
   "source": [
    "import pandas as pd\n",
    "\n",
    "try:\n",
    "    data = pd.read_csv('/datasets/data.csv')\n",
    "except:\n",
    "    data = pd.read_csv('https://code.s3.yandex.net/datasets/data.csv')"
   ]
  },
  {
   "cell_type": "markdown",
   "id": "8c4da741",
   "metadata": {
    "deletable": false,
    "editable": false,
    "id": "b8038fe3"
   },
   "source": [
    "**Задание 2. Выведите первые 20 строчек датафрейма `data` на экран.**"
   ]
  },
  {
   "cell_type": "code",
   "execution_count": 2,
   "id": "e4cc0368",
   "metadata": {
    "deletable": false,
    "id": "2a7cab99",
    "outputId": "1a8f3ef2-d323-4ec2-ddf7-89670b5944c4"
   },
   "outputs": [
    {
     "data": {
      "text/html": [
       "<div>\n",
       "<style scoped>\n",
       "    .dataframe tbody tr th:only-of-type {\n",
       "        vertical-align: middle;\n",
       "    }\n",
       "\n",
       "    .dataframe tbody tr th {\n",
       "        vertical-align: top;\n",
       "    }\n",
       "\n",
       "    .dataframe thead th {\n",
       "        text-align: right;\n",
       "    }\n",
       "</style>\n",
       "<table border=\"1\" class=\"dataframe\">\n",
       "  <thead>\n",
       "    <tr style=\"text-align: right;\">\n",
       "      <th></th>\n",
       "      <th>children</th>\n",
       "      <th>days_employed</th>\n",
       "      <th>dob_years</th>\n",
       "      <th>education</th>\n",
       "      <th>education_id</th>\n",
       "      <th>family_status</th>\n",
       "      <th>family_status_id</th>\n",
       "      <th>gender</th>\n",
       "      <th>income_type</th>\n",
       "      <th>debt</th>\n",
       "      <th>total_income</th>\n",
       "      <th>purpose</th>\n",
       "    </tr>\n",
       "  </thead>\n",
       "  <tbody>\n",
       "    <tr>\n",
       "      <th>0</th>\n",
       "      <td>1</td>\n",
       "      <td>-8437.673028</td>\n",
       "      <td>42</td>\n",
       "      <td>высшее</td>\n",
       "      <td>0</td>\n",
       "      <td>женат / замужем</td>\n",
       "      <td>0</td>\n",
       "      <td>F</td>\n",
       "      <td>сотрудник</td>\n",
       "      <td>0</td>\n",
       "      <td>253875.639453</td>\n",
       "      <td>покупка жилья</td>\n",
       "    </tr>\n",
       "    <tr>\n",
       "      <th>1</th>\n",
       "      <td>1</td>\n",
       "      <td>-4024.803754</td>\n",
       "      <td>36</td>\n",
       "      <td>среднее</td>\n",
       "      <td>1</td>\n",
       "      <td>женат / замужем</td>\n",
       "      <td>0</td>\n",
       "      <td>F</td>\n",
       "      <td>сотрудник</td>\n",
       "      <td>0</td>\n",
       "      <td>112080.014102</td>\n",
       "      <td>приобретение автомобиля</td>\n",
       "    </tr>\n",
       "    <tr>\n",
       "      <th>2</th>\n",
       "      <td>0</td>\n",
       "      <td>-5623.422610</td>\n",
       "      <td>33</td>\n",
       "      <td>Среднее</td>\n",
       "      <td>1</td>\n",
       "      <td>женат / замужем</td>\n",
       "      <td>0</td>\n",
       "      <td>M</td>\n",
       "      <td>сотрудник</td>\n",
       "      <td>0</td>\n",
       "      <td>145885.952297</td>\n",
       "      <td>покупка жилья</td>\n",
       "    </tr>\n",
       "    <tr>\n",
       "      <th>3</th>\n",
       "      <td>3</td>\n",
       "      <td>-4124.747207</td>\n",
       "      <td>32</td>\n",
       "      <td>среднее</td>\n",
       "      <td>1</td>\n",
       "      <td>женат / замужем</td>\n",
       "      <td>0</td>\n",
       "      <td>M</td>\n",
       "      <td>сотрудник</td>\n",
       "      <td>0</td>\n",
       "      <td>267628.550329</td>\n",
       "      <td>дополнительное образование</td>\n",
       "    </tr>\n",
       "    <tr>\n",
       "      <th>4</th>\n",
       "      <td>0</td>\n",
       "      <td>340266.072047</td>\n",
       "      <td>53</td>\n",
       "      <td>среднее</td>\n",
       "      <td>1</td>\n",
       "      <td>гражданский брак</td>\n",
       "      <td>1</td>\n",
       "      <td>F</td>\n",
       "      <td>пенсионер</td>\n",
       "      <td>0</td>\n",
       "      <td>158616.077870</td>\n",
       "      <td>сыграть свадьбу</td>\n",
       "    </tr>\n",
       "    <tr>\n",
       "      <th>5</th>\n",
       "      <td>0</td>\n",
       "      <td>-926.185831</td>\n",
       "      <td>27</td>\n",
       "      <td>высшее</td>\n",
       "      <td>0</td>\n",
       "      <td>гражданский брак</td>\n",
       "      <td>1</td>\n",
       "      <td>M</td>\n",
       "      <td>компаньон</td>\n",
       "      <td>0</td>\n",
       "      <td>255763.565419</td>\n",
       "      <td>покупка жилья</td>\n",
       "    </tr>\n",
       "    <tr>\n",
       "      <th>6</th>\n",
       "      <td>0</td>\n",
       "      <td>-2879.202052</td>\n",
       "      <td>43</td>\n",
       "      <td>высшее</td>\n",
       "      <td>0</td>\n",
       "      <td>женат / замужем</td>\n",
       "      <td>0</td>\n",
       "      <td>F</td>\n",
       "      <td>компаньон</td>\n",
       "      <td>0</td>\n",
       "      <td>240525.971920</td>\n",
       "      <td>операции с жильем</td>\n",
       "    </tr>\n",
       "    <tr>\n",
       "      <th>7</th>\n",
       "      <td>0</td>\n",
       "      <td>-152.779569</td>\n",
       "      <td>50</td>\n",
       "      <td>СРЕДНЕЕ</td>\n",
       "      <td>1</td>\n",
       "      <td>женат / замужем</td>\n",
       "      <td>0</td>\n",
       "      <td>M</td>\n",
       "      <td>сотрудник</td>\n",
       "      <td>0</td>\n",
       "      <td>135823.934197</td>\n",
       "      <td>образование</td>\n",
       "    </tr>\n",
       "    <tr>\n",
       "      <th>8</th>\n",
       "      <td>2</td>\n",
       "      <td>-6929.865299</td>\n",
       "      <td>35</td>\n",
       "      <td>ВЫСШЕЕ</td>\n",
       "      <td>0</td>\n",
       "      <td>гражданский брак</td>\n",
       "      <td>1</td>\n",
       "      <td>F</td>\n",
       "      <td>сотрудник</td>\n",
       "      <td>0</td>\n",
       "      <td>95856.832424</td>\n",
       "      <td>на проведение свадьбы</td>\n",
       "    </tr>\n",
       "    <tr>\n",
       "      <th>9</th>\n",
       "      <td>0</td>\n",
       "      <td>-2188.756445</td>\n",
       "      <td>41</td>\n",
       "      <td>среднее</td>\n",
       "      <td>1</td>\n",
       "      <td>женат / замужем</td>\n",
       "      <td>0</td>\n",
       "      <td>M</td>\n",
       "      <td>сотрудник</td>\n",
       "      <td>0</td>\n",
       "      <td>144425.938277</td>\n",
       "      <td>покупка жилья для семьи</td>\n",
       "    </tr>\n",
       "    <tr>\n",
       "      <th>10</th>\n",
       "      <td>2</td>\n",
       "      <td>-4171.483647</td>\n",
       "      <td>36</td>\n",
       "      <td>высшее</td>\n",
       "      <td>0</td>\n",
       "      <td>женат / замужем</td>\n",
       "      <td>0</td>\n",
       "      <td>M</td>\n",
       "      <td>компаньон</td>\n",
       "      <td>0</td>\n",
       "      <td>113943.491460</td>\n",
       "      <td>покупка недвижимости</td>\n",
       "    </tr>\n",
       "    <tr>\n",
       "      <th>11</th>\n",
       "      <td>0</td>\n",
       "      <td>-792.701887</td>\n",
       "      <td>40</td>\n",
       "      <td>среднее</td>\n",
       "      <td>1</td>\n",
       "      <td>женат / замужем</td>\n",
       "      <td>0</td>\n",
       "      <td>F</td>\n",
       "      <td>сотрудник</td>\n",
       "      <td>0</td>\n",
       "      <td>77069.234271</td>\n",
       "      <td>покупка коммерческой недвижимости</td>\n",
       "    </tr>\n",
       "    <tr>\n",
       "      <th>12</th>\n",
       "      <td>0</td>\n",
       "      <td>NaN</td>\n",
       "      <td>65</td>\n",
       "      <td>среднее</td>\n",
       "      <td>1</td>\n",
       "      <td>гражданский брак</td>\n",
       "      <td>1</td>\n",
       "      <td>M</td>\n",
       "      <td>пенсионер</td>\n",
       "      <td>0</td>\n",
       "      <td>NaN</td>\n",
       "      <td>сыграть свадьбу</td>\n",
       "    </tr>\n",
       "    <tr>\n",
       "      <th>13</th>\n",
       "      <td>0</td>\n",
       "      <td>-1846.641941</td>\n",
       "      <td>54</td>\n",
       "      <td>неоконченное высшее</td>\n",
       "      <td>2</td>\n",
       "      <td>женат / замужем</td>\n",
       "      <td>0</td>\n",
       "      <td>F</td>\n",
       "      <td>сотрудник</td>\n",
       "      <td>0</td>\n",
       "      <td>130458.228857</td>\n",
       "      <td>приобретение автомобиля</td>\n",
       "    </tr>\n",
       "    <tr>\n",
       "      <th>14</th>\n",
       "      <td>0</td>\n",
       "      <td>-1844.956182</td>\n",
       "      <td>56</td>\n",
       "      <td>высшее</td>\n",
       "      <td>0</td>\n",
       "      <td>гражданский брак</td>\n",
       "      <td>1</td>\n",
       "      <td>F</td>\n",
       "      <td>компаньон</td>\n",
       "      <td>1</td>\n",
       "      <td>165127.911772</td>\n",
       "      <td>покупка жилой недвижимости</td>\n",
       "    </tr>\n",
       "    <tr>\n",
       "      <th>15</th>\n",
       "      <td>1</td>\n",
       "      <td>-972.364419</td>\n",
       "      <td>26</td>\n",
       "      <td>среднее</td>\n",
       "      <td>1</td>\n",
       "      <td>женат / замужем</td>\n",
       "      <td>0</td>\n",
       "      <td>F</td>\n",
       "      <td>сотрудник</td>\n",
       "      <td>0</td>\n",
       "      <td>116820.904450</td>\n",
       "      <td>строительство собственной недвижимости</td>\n",
       "    </tr>\n",
       "    <tr>\n",
       "      <th>16</th>\n",
       "      <td>0</td>\n",
       "      <td>-1719.934226</td>\n",
       "      <td>35</td>\n",
       "      <td>среднее</td>\n",
       "      <td>1</td>\n",
       "      <td>женат / замужем</td>\n",
       "      <td>0</td>\n",
       "      <td>F</td>\n",
       "      <td>сотрудник</td>\n",
       "      <td>0</td>\n",
       "      <td>289202.704229</td>\n",
       "      <td>недвижимость</td>\n",
       "    </tr>\n",
       "    <tr>\n",
       "      <th>17</th>\n",
       "      <td>0</td>\n",
       "      <td>-2369.999720</td>\n",
       "      <td>33</td>\n",
       "      <td>высшее</td>\n",
       "      <td>0</td>\n",
       "      <td>гражданский брак</td>\n",
       "      <td>1</td>\n",
       "      <td>M</td>\n",
       "      <td>сотрудник</td>\n",
       "      <td>0</td>\n",
       "      <td>90410.586745</td>\n",
       "      <td>строительство недвижимости</td>\n",
       "    </tr>\n",
       "    <tr>\n",
       "      <th>18</th>\n",
       "      <td>0</td>\n",
       "      <td>400281.136913</td>\n",
       "      <td>53</td>\n",
       "      <td>среднее</td>\n",
       "      <td>1</td>\n",
       "      <td>вдовец / вдова</td>\n",
       "      <td>2</td>\n",
       "      <td>F</td>\n",
       "      <td>пенсионер</td>\n",
       "      <td>0</td>\n",
       "      <td>56823.777243</td>\n",
       "      <td>на покупку подержанного автомобиля</td>\n",
       "    </tr>\n",
       "    <tr>\n",
       "      <th>19</th>\n",
       "      <td>0</td>\n",
       "      <td>-10038.818549</td>\n",
       "      <td>48</td>\n",
       "      <td>СРЕДНЕЕ</td>\n",
       "      <td>1</td>\n",
       "      <td>в разводе</td>\n",
       "      <td>3</td>\n",
       "      <td>F</td>\n",
       "      <td>сотрудник</td>\n",
       "      <td>0</td>\n",
       "      <td>242831.107982</td>\n",
       "      <td>на покупку своего автомобиля</td>\n",
       "    </tr>\n",
       "  </tbody>\n",
       "</table>\n",
       "</div>"
      ],
      "text/plain": [
       "    children  days_employed  dob_years            education  education_id  \\\n",
       "0          1   -8437.673028         42               высшее             0   \n",
       "1          1   -4024.803754         36              среднее             1   \n",
       "2          0   -5623.422610         33              Среднее             1   \n",
       "3          3   -4124.747207         32              среднее             1   \n",
       "4          0  340266.072047         53              среднее             1   \n",
       "5          0    -926.185831         27               высшее             0   \n",
       "6          0   -2879.202052         43               высшее             0   \n",
       "7          0    -152.779569         50              СРЕДНЕЕ             1   \n",
       "8          2   -6929.865299         35               ВЫСШЕЕ             0   \n",
       "9          0   -2188.756445         41              среднее             1   \n",
       "10         2   -4171.483647         36               высшее             0   \n",
       "11         0    -792.701887         40              среднее             1   \n",
       "12         0            NaN         65              среднее             1   \n",
       "13         0   -1846.641941         54  неоконченное высшее             2   \n",
       "14         0   -1844.956182         56               высшее             0   \n",
       "15         1    -972.364419         26              среднее             1   \n",
       "16         0   -1719.934226         35              среднее             1   \n",
       "17         0   -2369.999720         33               высшее             0   \n",
       "18         0  400281.136913         53              среднее             1   \n",
       "19         0  -10038.818549         48              СРЕДНЕЕ             1   \n",
       "\n",
       "       family_status  family_status_id gender income_type  debt  \\\n",
       "0    женат / замужем                 0      F   сотрудник     0   \n",
       "1    женат / замужем                 0      F   сотрудник     0   \n",
       "2    женат / замужем                 0      M   сотрудник     0   \n",
       "3    женат / замужем                 0      M   сотрудник     0   \n",
       "4   гражданский брак                 1      F   пенсионер     0   \n",
       "5   гражданский брак                 1      M   компаньон     0   \n",
       "6    женат / замужем                 0      F   компаньон     0   \n",
       "7    женат / замужем                 0      M   сотрудник     0   \n",
       "8   гражданский брак                 1      F   сотрудник     0   \n",
       "9    женат / замужем                 0      M   сотрудник     0   \n",
       "10   женат / замужем                 0      M   компаньон     0   \n",
       "11   женат / замужем                 0      F   сотрудник     0   \n",
       "12  гражданский брак                 1      M   пенсионер     0   \n",
       "13   женат / замужем                 0      F   сотрудник     0   \n",
       "14  гражданский брак                 1      F   компаньон     1   \n",
       "15   женат / замужем                 0      F   сотрудник     0   \n",
       "16   женат / замужем                 0      F   сотрудник     0   \n",
       "17  гражданский брак                 1      M   сотрудник     0   \n",
       "18    вдовец / вдова                 2      F   пенсионер     0   \n",
       "19         в разводе                 3      F   сотрудник     0   \n",
       "\n",
       "     total_income                                 purpose  \n",
       "0   253875.639453                           покупка жилья  \n",
       "1   112080.014102                 приобретение автомобиля  \n",
       "2   145885.952297                           покупка жилья  \n",
       "3   267628.550329              дополнительное образование  \n",
       "4   158616.077870                         сыграть свадьбу  \n",
       "5   255763.565419                           покупка жилья  \n",
       "6   240525.971920                       операции с жильем  \n",
       "7   135823.934197                             образование  \n",
       "8    95856.832424                   на проведение свадьбы  \n",
       "9   144425.938277                 покупка жилья для семьи  \n",
       "10  113943.491460                    покупка недвижимости  \n",
       "11   77069.234271       покупка коммерческой недвижимости  \n",
       "12            NaN                         сыграть свадьбу  \n",
       "13  130458.228857                 приобретение автомобиля  \n",
       "14  165127.911772              покупка жилой недвижимости  \n",
       "15  116820.904450  строительство собственной недвижимости  \n",
       "16  289202.704229                            недвижимость  \n",
       "17   90410.586745              строительство недвижимости  \n",
       "18   56823.777243      на покупку подержанного автомобиля  \n",
       "19  242831.107982            на покупку своего автомобиля  "
      ]
     },
     "execution_count": 2,
     "metadata": {},
     "output_type": "execute_result"
    }
   ],
   "source": [
    "data.head(20)"
   ]
  },
  {
   "cell_type": "markdown",
   "id": "8e9beb12",
   "metadata": {
    "deletable": false,
    "editable": false,
    "id": "1c12e233"
   },
   "source": [
    "**Задание 3. Выведите основную информацию о датафрейме с помощью метода `info()`.**"
   ]
  },
  {
   "cell_type": "code",
   "execution_count": 3,
   "id": "bf7f1a5e",
   "metadata": {
    "deletable": false,
    "id": "2b757bca",
    "outputId": "15376089-8dad-46c9-b520-c05248d43158"
   },
   "outputs": [
    {
     "name": "stdout",
     "output_type": "stream",
     "text": [
      "<class 'pandas.core.frame.DataFrame'>\n",
      "RangeIndex: 21525 entries, 0 to 21524\n",
      "Data columns (total 12 columns):\n",
      " #   Column            Non-Null Count  Dtype  \n",
      "---  ------            --------------  -----  \n",
      " 0   children          21525 non-null  int64  \n",
      " 1   days_employed     19351 non-null  float64\n",
      " 2   dob_years         21525 non-null  int64  \n",
      " 3   education         21525 non-null  object \n",
      " 4   education_id      21525 non-null  int64  \n",
      " 5   family_status     21525 non-null  object \n",
      " 6   family_status_id  21525 non-null  int64  \n",
      " 7   gender            21525 non-null  object \n",
      " 8   income_type       21525 non-null  object \n",
      " 9   debt              21525 non-null  int64  \n",
      " 10  total_income      19351 non-null  float64\n",
      " 11  purpose           21525 non-null  object \n",
      "dtypes: float64(2), int64(5), object(5)\n",
      "memory usage: 2.0+ MB\n"
     ]
    }
   ],
   "source": [
    "data.info()"
   ]
  },
  {
   "cell_type": "markdown",
   "id": "a72e0589",
   "metadata": {
    "deletable": false,
    "editable": false,
    "id": "333ec665"
   },
   "source": [
    "## Предобработка данных"
   ]
  },
  {
   "cell_type": "markdown",
   "id": "aefa62c0",
   "metadata": {
    "deletable": false,
    "editable": false,
    "id": "02d92d53"
   },
   "source": [
    "### Удаление пропусков"
   ]
  },
  {
   "cell_type": "markdown",
   "id": "1aac2005",
   "metadata": {
    "deletable": false,
    "editable": false,
    "id": "cd84967c"
   },
   "source": [
    "**Задание 4. Выведите количество пропущенных значений для каждого столбца. Используйте комбинацию двух методов.**"
   ]
  },
  {
   "cell_type": "code",
   "execution_count": 4,
   "id": "52bf4055",
   "metadata": {
    "deletable": false,
    "id": "7f9b2309",
    "outputId": "81f4d817-781c-465c-ed15-91ce4446810d"
   },
   "outputs": [
    {
     "data": {
      "text/plain": [
       "children               0\n",
       "days_employed       2174\n",
       "dob_years              0\n",
       "education              0\n",
       "education_id           0\n",
       "family_status          0\n",
       "family_status_id       0\n",
       "gender                 0\n",
       "income_type            0\n",
       "debt                   0\n",
       "total_income        2174\n",
       "purpose                0\n",
       "dtype: int64"
      ]
     },
     "execution_count": 4,
     "metadata": {},
     "output_type": "execute_result"
    }
   ],
   "source": [
    "data.isna().sum()"
   ]
  },
  {
   "cell_type": "markdown",
   "id": "bedf8950",
   "metadata": {
    "deletable": false,
    "editable": false,
    "id": "db86e27b"
   },
   "source": [
    "**Задание 5. В двух столбцах есть пропущенные значения. Один из них — `days_employed`. Пропуски в этом столбце вы обработаете на следующем этапе. Другой столбец с пропущенными значениями — `total_income` — хранит данные о доходах. На сумму дохода сильнее всего влияет тип занятости, поэтому заполнить пропуски в этом столбце нужно медианным значением по каждому типу из столбца `income_type`. Например, у человека с типом занятости `сотрудник` пропуск в столбце `total_income` должен быть заполнен медианным доходом среди всех записей с тем же типом.**"
   ]
  },
  {
   "cell_type": "code",
   "execution_count": 5,
   "id": "b6858cfd",
   "metadata": {
    "deletable": false,
    "id": "42006a93"
   },
   "outputs": [],
   "source": [
    "for t in data['income_type'].unique():\n",
    "    data.loc[(data['income_type'] == t) & (data['total_income'].isna()), 'total_income'] = \\\n",
    "    data.loc[(data['income_type'] == t), 'total_income'].median()"
   ]
  },
  {
   "cell_type": "markdown",
   "id": "ac3e01c1",
   "metadata": {
    "deletable": false,
    "editable": false,
    "id": "89da5ece"
   },
   "source": [
    "### Обработка аномальных значений"
   ]
  },
  {
   "cell_type": "markdown",
   "id": "928dbc53",
   "metadata": {
    "deletable": false,
    "editable": false,
    "id": "57964554"
   },
   "source": [
    "**Задание 6. В данных могут встречаться артефакты (аномалии) — значения, которые не отражают действительность и появились по какой-то ошибке. таким артефактом будет отрицательное количество дней трудового стажа в столбце `days_employed`. Для реальных данных это нормально. Обработайте значения в этом столбце: замените все отрицательные значения положительными с помощью метода `abs()`.**"
   ]
  },
  {
   "cell_type": "code",
   "execution_count": 6,
   "id": "872c48ff",
   "metadata": {
    "deletable": false,
    "id": "f6f055bf"
   },
   "outputs": [],
   "source": [
    "data['days_employed'] = data['days_employed'].abs()"
   ]
  },
  {
   "cell_type": "markdown",
   "id": "fe1fad6a",
   "metadata": {
    "deletable": false,
    "editable": false,
    "id": "6107dd2f"
   },
   "source": [
    "**Задание 7. Для каждого типа занятости выведите медианное значение трудового стажа `days_employed` в днях.**"
   ]
  },
  {
   "cell_type": "code",
   "execution_count": 7,
   "id": "6d5e957a",
   "metadata": {
    "deletable": false,
    "id": "85a5faf6",
    "outputId": "801ef80e-522b-4668-f34e-565af7432bcf"
   },
   "outputs": [
    {
     "data": {
      "text/plain": [
       "income_type\n",
       "безработный        366413.652744\n",
       "в декрете            3296.759962\n",
       "госслужащий          2689.368353\n",
       "компаньон            1547.382223\n",
       "пенсионер          365213.306266\n",
       "предприниматель       520.848083\n",
       "сотрудник            1574.202821\n",
       "студент               578.751554\n",
       "Name: days_employed, dtype: float64"
      ]
     },
     "execution_count": 7,
     "metadata": {},
     "output_type": "execute_result"
    }
   ],
   "source": [
    "data.groupby('income_type')['days_employed'].agg('median')"
   ]
  },
  {
   "cell_type": "markdown",
   "id": "3d8f98fa",
   "metadata": {
    "deletable": false,
    "editable": false,
    "id": "38d1a030"
   },
   "source": [
    "У двух типов (безработные и пенсионеры) получатся аномально большие значения. Исправить такие значения сложно, поэтому оставьте их как есть. Тем более этот столбец не понадобится вам для исследования."
   ]
  },
  {
   "cell_type": "markdown",
   "id": "fdf4bbe5",
   "metadata": {
    "deletable": false,
    "editable": false,
    "id": "d8a9f147"
   },
   "source": [
    "**Задание 8. Выведите перечень уникальных значений столбца `children`.**"
   ]
  },
  {
   "cell_type": "code",
   "execution_count": 8,
   "id": "a18ff176",
   "metadata": {
    "deletable": false,
    "id": "ef5056eb",
    "outputId": "6975b15c-7f95-4697-d16d-a0c79b657b03"
   },
   "outputs": [
    {
     "data": {
      "text/plain": [
       "array([ 1,  0,  3,  2, -1,  4, 20,  5])"
      ]
     },
     "execution_count": 8,
     "metadata": {},
     "output_type": "execute_result"
    }
   ],
   "source": [
    "data['children'].unique()"
   ]
  },
  {
   "cell_type": "markdown",
   "id": "a5b517f6",
   "metadata": {
    "deletable": false,
    "editable": false,
    "id": "40b9ebf2"
   },
   "source": [
    "**Задание 9. В столбце `children` есть два аномальных значения. Удалите строки, в которых встречаются такие аномальные значения из датафрейма `data`.**"
   ]
  },
  {
   "cell_type": "code",
   "execution_count": 9,
   "id": "c5d54683",
   "metadata": {
    "deletable": false,
    "id": "3ff9801d"
   },
   "outputs": [],
   "source": [
    "data = data[(data['children'] != -1) & (data['children'] != 20)]"
   ]
  },
  {
   "cell_type": "markdown",
   "id": "1dd92a85",
   "metadata": {
    "deletable": false,
    "editable": false,
    "id": "bbc4d0ce"
   },
   "source": [
    "**Задание 10. Ещё раз выведите перечень уникальных значений столбца `children`, чтобы убедиться, что артефакты удалены.**"
   ]
  },
  {
   "cell_type": "code",
   "execution_count": 10,
   "id": "668548d1",
   "metadata": {
    "deletable": false,
    "id": "ad4fa8b7",
    "outputId": "b2097101-d49d-44d9-901b-32a65c9463d1"
   },
   "outputs": [
    {
     "data": {
      "text/plain": [
       "array([1, 0, 3, 2, 4, 5])"
      ]
     },
     "execution_count": 10,
     "metadata": {},
     "output_type": "execute_result"
    }
   ],
   "source": [
    "data['children'].unique()"
   ]
  },
  {
   "cell_type": "markdown",
   "id": "118019af",
   "metadata": {
    "deletable": false,
    "editable": false,
    "id": "75440b63"
   },
   "source": [
    "### Удаление пропусков (продолжение)"
   ]
  },
  {
   "cell_type": "markdown",
   "id": "dfc116c7",
   "metadata": {
    "deletable": false,
    "editable": false,
    "id": "f4ea573f"
   },
   "source": [
    "**Задание 11. Заполните пропуски в столбце `days_employed` медианными значениями по каждого типа занятости `income_type`.**"
   ]
  },
  {
   "cell_type": "code",
   "execution_count": 11,
   "id": "c25ea582",
   "metadata": {
    "deletable": false,
    "id": "af6b1a7e"
   },
   "outputs": [],
   "source": [
    "for t in data['income_type'].unique():\n",
    "    data.loc[(data['income_type'] == t) & (data['days_employed'].isna()), 'days_employed'] = \\\n",
    "    data.loc[(data['income_type'] == t), 'days_employed'].median()"
   ]
  },
  {
   "cell_type": "markdown",
   "id": "027f714d",
   "metadata": {
    "deletable": false,
    "editable": false,
    "id": "2753f40d"
   },
   "source": [
    "**Задание 12. Убедитесь, что все пропуски заполнены. Проверьте себя и ещё раз выведите количество пропущенных значений для каждого столбца с помощью двух методов.**"
   ]
  },
  {
   "cell_type": "code",
   "execution_count": 12,
   "id": "d08d580c",
   "metadata": {
    "deletable": false,
    "id": "55f78bc2",
    "outputId": "8da1e4e1-358e-4e87-98c9-f261bce0a7b2"
   },
   "outputs": [
    {
     "data": {
      "text/plain": [
       "children            0\n",
       "days_employed       0\n",
       "dob_years           0\n",
       "education           0\n",
       "education_id        0\n",
       "family_status       0\n",
       "family_status_id    0\n",
       "gender              0\n",
       "income_type         0\n",
       "debt                0\n",
       "total_income        0\n",
       "purpose             0\n",
       "dtype: int64"
      ]
     },
     "execution_count": 12,
     "metadata": {},
     "output_type": "execute_result"
    }
   ],
   "source": [
    "data.isna().sum()"
   ]
  },
  {
   "cell_type": "markdown",
   "id": "6f538f9a",
   "metadata": {
    "deletable": false,
    "editable": false,
    "id": "ddc81e43"
   },
   "source": [
    "### Изменение типов данных"
   ]
  },
  {
   "cell_type": "markdown",
   "id": "e90a7efa",
   "metadata": {
    "deletable": false,
    "editable": false,
    "id": "42d19d24"
   },
   "source": [
    "**Задание 13. Замените вещественный тип данных в столбце `total_income` на целочисленный с помощью метода `astype()`.**"
   ]
  },
  {
   "cell_type": "code",
   "execution_count": 13,
   "id": "fb4f6bf7",
   "metadata": {
    "deletable": false,
    "id": "920b65ad"
   },
   "outputs": [],
   "source": [
    "data['total_income'] = data['total_income'].astype(int)"
   ]
  },
  {
   "cell_type": "markdown",
   "id": "498ca906",
   "metadata": {
    "deletable": false,
    "editable": false,
    "id": "80c420ba"
   },
   "source": [
    "### Обработка дубликатов"
   ]
  },
  {
   "cell_type": "markdown",
   "id": "5ccf31ed",
   "metadata": {
    "deletable": false,
    "editable": false
   },
   "source": [
    "**Задание 14. Обработайте неявные дубликаты в столбце `education`. В этом столбце есть одни и те же значения, но записанные по-разному: с использованием заглавных и строчных букв. Приведите их к нижнему регистру. Проверьте остальные столбцы.**"
   ]
  },
  {
   "cell_type": "code",
   "execution_count": 14,
   "id": "fbfa271b",
   "metadata": {
    "deletable": false
   },
   "outputs": [],
   "source": [
    "data['education'] = data['education'].str.lower()"
   ]
  },
  {
   "cell_type": "markdown",
   "id": "246b1931",
   "metadata": {
    "deletable": false,
    "editable": false,
    "id": "dc587695"
   },
   "source": [
    "**Задание 15. Выведите на экран количество строк-дубликатов в данных. Если такие строки присутствуют, удалите их.**"
   ]
  },
  {
   "cell_type": "code",
   "execution_count": 15,
   "id": "e3ca651d",
   "metadata": {
    "deletable": false,
    "id": "3ee445e4",
    "outputId": "9684deba-1934-42d1-99e1-cda61740f822"
   },
   "outputs": [
    {
     "data": {
      "text/plain": [
       "71"
      ]
     },
     "execution_count": 15,
     "metadata": {},
     "output_type": "execute_result"
    }
   ],
   "source": [
    "data.duplicated().sum()"
   ]
  },
  {
   "cell_type": "code",
   "execution_count": 16,
   "id": "f6a0f3bd",
   "metadata": {
    "deletable": false,
    "id": "8575fe05"
   },
   "outputs": [],
   "source": [
    "data = data.drop_duplicates()"
   ]
  },
  {
   "cell_type": "markdown",
   "id": "78456a2c",
   "metadata": {
    "deletable": false,
    "editable": false,
    "id": "9904cf55"
   },
   "source": [
    "### Категоризация данных"
   ]
  },
  {
   "cell_type": "markdown",
   "id": "9f5f9f92",
   "metadata": {
    "deletable": false,
    "editable": false,
    "id": "72fcc8a2"
   },
   "source": [
    "**Задание 16. На основании диапазонов, указанных ниже, создайте в датафрейме `data` столбец `total_income_category` с категориями:**\n",
    "\n",
    "- 0–30000 — `'E'`;\n",
    "- 30001–50000 — `'D'`;\n",
    "- 50001–200000 — `'C'`;\n",
    "- 200001–1000000 — `'B'`;\n",
    "- 1000001 и выше — `'A'`.\n",
    "\n",
    "\n",
    "**Например, кредитополучателю с доходом 25000 нужно назначить категорию `'E'`, а клиенту, получающему 235000, — `'B'`. Используйте собственную функцию с именем `categorize_income()` и метод `apply()`.**"
   ]
  },
  {
   "cell_type": "code",
   "execution_count": 17,
   "id": "5ee73570",
   "metadata": {
    "deletable": false,
    "id": "e1771346"
   },
   "outputs": [],
   "source": [
    "def categorize_income(income):\n",
    "    try:\n",
    "        if 0 <= income <= 30000:\n",
    "            return 'E'\n",
    "        elif 30001 <= income <= 50000:\n",
    "            return 'D'\n",
    "        elif 50001 <= income <= 200000:\n",
    "            return 'C'\n",
    "        elif 200001 <= income <= 1000000:\n",
    "            return 'B'\n",
    "        elif income >= 1000001:\n",
    "            return 'A'\n",
    "    except:\n",
    "        pass"
   ]
  },
  {
   "cell_type": "code",
   "execution_count": 18,
   "id": "2fea1b79",
   "metadata": {
    "deletable": false,
    "id": "d5f3586d"
   },
   "outputs": [],
   "source": [
    "data['total_income_category'] = data['total_income'].apply(categorize_income)"
   ]
  },
  {
   "cell_type": "markdown",
   "id": "e0af1b50",
   "metadata": {
    "deletable": false,
    "editable": false,
    "id": "dde49b5c"
   },
   "source": [
    "**Задание 17. Выведите на экран перечень уникальных целей взятия кредита из столбца `purpose`.**"
   ]
  },
  {
   "cell_type": "code",
   "execution_count": 19,
   "id": "810ec419",
   "metadata": {
    "deletable": false,
    "id": "f67ce9b3",
    "outputId": "673c12d9-7d7e-4ae0-9812-c622c89dd244"
   },
   "outputs": [
    {
     "data": {
      "text/plain": [
       "array(['покупка жилья', 'приобретение автомобиля',\n",
       "       'дополнительное образование', 'сыграть свадьбу',\n",
       "       'операции с жильем', 'образование', 'на проведение свадьбы',\n",
       "       'покупка жилья для семьи', 'покупка недвижимости',\n",
       "       'покупка коммерческой недвижимости', 'покупка жилой недвижимости',\n",
       "       'строительство собственной недвижимости', 'недвижимость',\n",
       "       'строительство недвижимости', 'на покупку подержанного автомобиля',\n",
       "       'на покупку своего автомобиля',\n",
       "       'операции с коммерческой недвижимостью',\n",
       "       'строительство жилой недвижимости', 'жилье',\n",
       "       'операции со своей недвижимостью', 'автомобили',\n",
       "       'заняться образованием', 'сделка с подержанным автомобилем',\n",
       "       'получение образования', 'автомобиль', 'свадьба',\n",
       "       'получение дополнительного образования', 'покупка своего жилья',\n",
       "       'операции с недвижимостью', 'получение высшего образования',\n",
       "       'свой автомобиль', 'сделка с автомобилем',\n",
       "       'профильное образование', 'высшее образование',\n",
       "       'покупка жилья для сдачи', 'на покупку автомобиля', 'ремонт жилью',\n",
       "       'заняться высшим образованием'], dtype=object)"
      ]
     },
     "execution_count": 19,
     "metadata": {},
     "output_type": "execute_result"
    }
   ],
   "source": [
    "data['purpose'].unique()"
   ]
  },
  {
   "cell_type": "markdown",
   "id": "e34f2933",
   "metadata": {
    "deletable": false,
    "editable": false,
    "id": "85d0aef0"
   },
   "source": [
    "**Задание 18. Создайте функцию, которая на основании данных из столбца `purpose` сформирует новый столбец `purpose_category`, в который войдут следующие категории:**\n",
    "\n",
    "- `'операции с автомобилем'`,\n",
    "- `'операции с недвижимостью'`,\n",
    "- `'проведение свадьбы'`,\n",
    "- `'получение образования'`.\n",
    "\n",
    "**Например, если в столбце `purpose` находится подстрока `'на покупку автомобиля'`, то в столбце `purpose_category` должна появиться строка `'операции с автомобилем'`.**\n",
    "\n",
    "**Используйте собственную функцию с именем `categorize_purpose()` и метод `apply()`. Изучите данные в столбце `purpose` и определите, какие подстроки помогут вам правильно определить категорию.**"
   ]
  },
  {
   "cell_type": "code",
   "execution_count": 20,
   "id": "234eefa0",
   "metadata": {
    "deletable": false,
    "id": "e149fab4"
   },
   "outputs": [],
   "source": [
    "def categorize_purpose(row):\n",
    "    try:\n",
    "        if 'автом' in row:\n",
    "            return 'операции с автомобилем'\n",
    "        elif 'жил' in row or 'недвиж' in row:\n",
    "            return 'операции с недвижимостью'\n",
    "        elif 'свад' in row:\n",
    "            return 'проведение свадьбы'\n",
    "        elif 'образов' in row:\n",
    "            return 'получение образования'\n",
    "    except:\n",
    "        return 'нет категории'"
   ]
  },
  {
   "cell_type": "code",
   "execution_count": 21,
   "id": "257e8519",
   "metadata": {
    "deletable": false,
    "id": "bf36e69b"
   },
   "outputs": [],
   "source": [
    "data['purpose_category'] = data['purpose'].apply(categorize_purpose)"
   ]
  },
  {
   "cell_type": "markdown",
   "id": "065660ff",
   "metadata": {
    "deletable": false,
    "editable": false,
    "id": "09b242bf"
   },
   "source": [
    "### Шаг 3. Исследуйте данные и ответьте на вопросы"
   ]
  },
  {
   "cell_type": "markdown",
   "id": "a7014c90",
   "metadata": {
    "deletable": false,
    "editable": false,
    "id": "c5d66278"
   },
   "source": [
    "#### 3.1 Есть ли зависимость между количеством детей и возвратом кредита в срок?"
   ]
  },
  {
   "cell_type": "code",
   "execution_count": 26,
   "id": "1bd3ba3d",
   "metadata": {
    "deletable": false,
    "id": "2cacfc4a"
   },
   "outputs": [
    {
     "data": {
      "text/html": [
       "<div>\n",
       "<style scoped>\n",
       "    .dataframe tbody tr th:only-of-type {\n",
       "        vertical-align: middle;\n",
       "    }\n",
       "\n",
       "    .dataframe tbody tr th {\n",
       "        vertical-align: top;\n",
       "    }\n",
       "\n",
       "    .dataframe thead th {\n",
       "        text-align: right;\n",
       "    }\n",
       "</style>\n",
       "<table border=\"1\" class=\"dataframe\">\n",
       "  <thead>\n",
       "    <tr style=\"text-align: right;\">\n",
       "      <th></th>\n",
       "      <th>Процент задолженности</th>\n",
       "      <th>Количество людей в группе</th>\n",
       "    </tr>\n",
       "    <tr>\n",
       "      <th>children</th>\n",
       "      <th></th>\n",
       "      <th></th>\n",
       "    </tr>\n",
       "  </thead>\n",
       "  <tbody>\n",
       "    <tr>\n",
       "      <th>0</th>\n",
       "      <td>7.543822</td>\n",
       "      <td>14091</td>\n",
       "    </tr>\n",
       "    <tr>\n",
       "      <th>1</th>\n",
       "      <td>9.234609</td>\n",
       "      <td>4808</td>\n",
       "    </tr>\n",
       "    <tr>\n",
       "      <th>2</th>\n",
       "      <td>9.454191</td>\n",
       "      <td>2052</td>\n",
       "    </tr>\n",
       "    <tr>\n",
       "      <th>3</th>\n",
       "      <td>8.181818</td>\n",
       "      <td>330</td>\n",
       "    </tr>\n",
       "    <tr>\n",
       "      <th>4</th>\n",
       "      <td>9.756098</td>\n",
       "      <td>41</td>\n",
       "    </tr>\n",
       "    <tr>\n",
       "      <th>5</th>\n",
       "      <td>0.000000</td>\n",
       "      <td>9</td>\n",
       "    </tr>\n",
       "  </tbody>\n",
       "</table>\n",
       "</div>"
      ],
      "text/plain": [
       "          Процент задолженности  Количество людей в группе\n",
       "children                                                  \n",
       "0                      7.543822                      14091\n",
       "1                      9.234609                       4808\n",
       "2                      9.454191                       2052\n",
       "3                      8.181818                        330\n",
       "4                      9.756098                         41\n",
       "5                      0.000000                          9"
      ]
     },
     "execution_count": 26,
     "metadata": {},
     "output_type": "execute_result"
    }
   ],
   "source": [
    "# Ваш код будет здесь. Вы можете создавать новые ячейки.\n",
    "count_of_children = data['children'].unique().sort()\n",
    "debt_ratio = data.groupby('children')['debt'].agg('mean') * 100\n",
    "count_of_people = data.groupby('children')['debt'].count()\n",
    "children_df = {'Процент задолженности': debt_ratio, 'Количество людей в группе': count_of_people}\n",
    "pd.DataFrame(data=children_df, index=count_of_children)      "
   ]
  },
  {
   "attachments": {},
   "cell_type": "markdown",
   "id": "c72d4a31",
   "metadata": {
    "deletable": false,
    "id": "3a6b99ec"
   },
   "source": [
    "**Вывод:** \n",
    "Люди без детей имеют минимальный процент задолженности перед банком.\n",
    "Среди должников с детьми, люди с 3я детьми имеют минимальный процент задолженности, остальные примерно равны.\n",
    "Количество людей в каждой из групп сильно отличается, что может влиять на релевантность выборки. Например: людей с 5ю детьми в данной выборке всего 9."
   ]
  },
  {
   "cell_type": "markdown",
   "id": "7cb518c4",
   "metadata": {
    "deletable": false,
    "editable": false,
    "id": "97be82ca"
   },
   "source": [
    "#### 3.2 Есть ли зависимость между семейным положением и возвратом кредита в срок?"
   ]
  },
  {
   "cell_type": "code",
   "execution_count": 23,
   "id": "c75137a3",
   "metadata": {
    "deletable": false,
    "id": "dc3f7ee8"
   },
   "outputs": [
    {
     "data": {
      "text/plain": [
       "family_status\n",
       "Не женат / не замужем    9.763948\n",
       "в разводе                7.064760\n",
       "вдовец / вдова           6.624606\n",
       "гражданский брак         9.313014\n",
       "женат / замужем          7.560558\n",
       "Name: debt, dtype: float64"
      ]
     },
     "execution_count": 23,
     "metadata": {},
     "output_type": "execute_result"
    }
   ],
   "source": [
    "# Ваш код будет здесь. Вы можете создавать новые ячейки.\n",
    "data.groupby('family_status')['debt'].agg('mean') * 100"
   ]
  },
  {
   "cell_type": "markdown",
   "id": "3901c4c4",
   "metadata": {
    "deletable": false,
    "id": "1cef7837"
   },
   "source": [
    "**Вывод:** \n",
    "Вдовцы и вдовы имею самый низкий процент задолженности.\n",
    "Женатые и в разводе имеют примерно одинаковый процент задолженности и находится на среднем уровне.\n",
    "Незамужние и люди в гражданском браке имеют самый высокий процент задолженности."
   ]
  },
  {
   "cell_type": "markdown",
   "id": "705dcc14",
   "metadata": {
    "deletable": false,
    "editable": false,
    "id": "1e8b2fca"
   },
   "source": [
    "#### 3.3 Есть ли зависимость между уровнем дохода и возвратом кредита в срок?"
   ]
  },
  {
   "cell_type": "code",
   "execution_count": 24,
   "id": "1a58ace1",
   "metadata": {
    "deletable": false,
    "id": "cd7e3720"
   },
   "outputs": [
    {
     "data": {
      "text/html": [
       "<div>\n",
       "<style scoped>\n",
       "    .dataframe tbody tr th:only-of-type {\n",
       "        vertical-align: middle;\n",
       "    }\n",
       "\n",
       "    .dataframe tbody tr th {\n",
       "        vertical-align: top;\n",
       "    }\n",
       "\n",
       "    .dataframe thead th {\n",
       "        text-align: right;\n",
       "    }\n",
       "</style>\n",
       "<table border=\"1\" class=\"dataframe\">\n",
       "  <thead>\n",
       "    <tr style=\"text-align: right;\">\n",
       "      <th></th>\n",
       "      <th>Процент задолженности</th>\n",
       "      <th>Количество людей в группе</th>\n",
       "    </tr>\n",
       "    <tr>\n",
       "      <th>total_income_category</th>\n",
       "      <th></th>\n",
       "      <th></th>\n",
       "    </tr>\n",
       "  </thead>\n",
       "  <tbody>\n",
       "    <tr>\n",
       "      <th>A</th>\n",
       "      <td>8.000000</td>\n",
       "      <td>25</td>\n",
       "    </tr>\n",
       "    <tr>\n",
       "      <th>B</th>\n",
       "      <td>7.060231</td>\n",
       "      <td>5014</td>\n",
       "    </tr>\n",
       "    <tr>\n",
       "      <th>C</th>\n",
       "      <td>8.498210</td>\n",
       "      <td>15921</td>\n",
       "    </tr>\n",
       "    <tr>\n",
       "      <th>D</th>\n",
       "      <td>6.017192</td>\n",
       "      <td>349</td>\n",
       "    </tr>\n",
       "    <tr>\n",
       "      <th>E</th>\n",
       "      <td>9.090909</td>\n",
       "      <td>22</td>\n",
       "    </tr>\n",
       "  </tbody>\n",
       "</table>\n",
       "</div>"
      ],
      "text/plain": [
       "                       Процент задолженности  Количество людей в группе\n",
       "total_income_category                                                  \n",
       "A                                   8.000000                         25\n",
       "B                                   7.060231                       5014\n",
       "C                                   8.498210                      15921\n",
       "D                                   6.017192                        349\n",
       "E                                   9.090909                         22"
      ]
     },
     "execution_count": 24,
     "metadata": {},
     "output_type": "execute_result"
    }
   ],
   "source": [
    "# Ваш код будет здесь. Вы можете создавать новые ячейки.\n",
    "income_categories = data['total_income_category'].unique().sort()\n",
    "income_debt_ratio = data.groupby('total_income_category')['debt'].agg('mean') * 100\n",
    "income_count_of_people = data.groupby('total_income_category')['debt'].count()\n",
    "income_df = {'Процент задолженности': income_debt_ratio, 'Количество людей в группе': income_count_of_people}\n",
    "pd.DataFrame(data=income_df, index=income_categories)"
   ]
  },
  {
   "attachments": {},
   "cell_type": "markdown",
   "id": "29f4ca43",
   "metadata": {
    "deletable": false,
    "id": "e8593def"
   },
   "source": [
    "**Вывод:** \n",
    "Явные отличия у катигорий дохода E и D. Люди из категории E (с самым низким доходом) имеют самый большой процент задолженности, а из категории D (с доходом ниже среднего), самый низкий.\n",
    "В остальных категориях закономерность не прослеживается."
   ]
  },
  {
   "cell_type": "markdown",
   "id": "e785e41d",
   "metadata": {
    "deletable": false,
    "editable": false,
    "id": "99ecbd1f"
   },
   "source": [
    "#### 3.4 Как разные цели кредита влияют на его возврат в срок?"
   ]
  },
  {
   "cell_type": "code",
   "execution_count": 25,
   "id": "a6e183f1",
   "metadata": {
    "deletable": false,
    "id": "2b687290"
   },
   "outputs": [
    {
     "data": {
      "text/plain": [
       "purpose_category\n",
       "операции с автомобилем      9.347978\n",
       "операции с недвижимостью    7.255139\n",
       "получение образования       9.252758\n",
       "проведение свадьбы          7.911803\n",
       "Name: debt, dtype: float64"
      ]
     },
     "execution_count": 25,
     "metadata": {},
     "output_type": "execute_result"
    }
   ],
   "source": [
    "# Ваш код будет здесь. Вы можете создавать новые ячейки.\n",
    "data.groupby('purpose_category')['debt'].agg('mean') * 100"
   ]
  },
  {
   "cell_type": "markdown",
   "id": "e892e24c",
   "metadata": {
    "deletable": false,
    "id": "b4bb2ce6"
   },
   "source": [
    "**Вывод:** \n",
    "Люди, берущие кредит на недвижимость и свадьбы, имеют процент задолженности ниже чем люди, берущие его на автомобили или образование."
   ]
  },
  {
   "cell_type": "markdown",
   "id": "7ea8d146",
   "metadata": {
    "deletable": false,
    "editable": false,
    "id": "09c3ac4c"
   },
   "source": [
    "#### 3.5 Приведите возможные причины появления пропусков в исходных данных."
   ]
  },
  {
   "attachments": {},
   "cell_type": "markdown",
   "id": "e4b0b416",
   "metadata": {
    "deletable": false,
    "id": "9da2ceda"
   },
   "source": [
    "*Ответ:* \n",
    "Пропуски присутствуют в колонках days_employed и total_income. Эти данные могут отсутствовать если у человека income_type является 'пенсионер', 'студент', 'в декрете' или 'безработный'. Также, люди могут быть с неофициальным доходом, самозанятами или ИП.\n",
    "Ошибка может быть технологического характера, когда система неверно обрабатывает информацию людей данных категорий. Стоит провести проверку техническим специалистом для исключения данной возможности."
   ]
  },
  {
   "cell_type": "markdown",
   "id": "5b44dc16",
   "metadata": {
    "deletable": false,
    "editable": false,
    "id": "7b0487d6"
   },
   "source": [
    "#### 3.6 Объясните, почему заполнить пропуски медианным значением — лучшее решение для количественных переменных."
   ]
  },
  {
   "cell_type": "markdown",
   "id": "011296d3",
   "metadata": {
    "deletable": false,
    "id": "7ecf2b8e"
   },
   "source": [
    "*Ответ:* \n",
    "Медианные значения не подвеженны искажению данных анамальными значениями. Например: если мы будем находить среднее значения даходов людей и у некоторых из них будут нулевые доходы или анамально высокие, то и среднее значение будет занижено или завышено. При поиске медианного значения мы выстраиваем все данные в порядке возрастания/убывания и возьмем из них значение среднего индекса."
   ]
  },
  {
   "cell_type": "markdown",
   "id": "0add2e1d",
   "metadata": {
    "deletable": false,
    "editable": false,
    "id": "6db5255a"
   },
   "source": [
    "### Шаг 4: общий вывод."
   ]
  },
  {
   "attachments": {},
   "cell_type": "markdown",
   "id": "3b3c1091",
   "metadata": {
    "deletable": false,
    "id": "bad65432"
   },
   "source": [
    "<b>Цель исследования:</b> \n",
    "\n",
    "В данном исследовании мы не оценивали влияние на срок возврата кредита сводных данных. То есть мы не оценивали, какой процент задолженнсоти у людей имеющие одновременно определенное количество детей, семейное положение, уровень дохода и цель займа. \n",
    "\n",
    "<b>Общие выводы:</b> \n",
    "\n",
    "При данных водных можно сделать следующие выводы: люди без детей, являющиеся вдовцом или вдовой, с доходом ниже среднего и целью которых является покупка недвижимости, я вляются самыми надежными заемщиками. \n",
    "\n",
    "В свою очередь, незамужние люди с детьми, низким доходом и с целью покупки автомобиля являются самыми ненадежными заемщиками.\n",
    "\n",
    "<b>Конкретные данные:</b> \n",
    "\n",
    "Люди без детей имеют минимальный процент задолженности перед банком. \n",
    "Процент задолженности: 7.5 при учете, что это самая большая группа.\n",
    "\n",
    "Люди, состоящие или состоявшие в прошлом в официальном браке, являются более надежными заемщиками. \n",
    "Процент задолженности: 6.2 - 7\n",
    "\n",
    "Люди из категорий 'B' и 'D' явлаются наиболее надежными заемщиками. \n",
    "Процент задолженности: 6 - 7, но количество людей в данной группе примерно в 3 раза меньше чем в группе 'C'.\n",
    "\n",
    "Люди, берущие кредит на недвижимость и свадьбы, имеют процент задолженности являются более надежными заемщиками. \n",
    "Процент задолженности: 7.3 - 7.9"
   ]
  }
 ],
 "metadata": {
  "ExecuteTimeLog": [
   {
    "duration": 454,
    "start_time": "2023-01-06T21:24:12.137Z"
   },
   {
    "duration": 22,
    "start_time": "2023-01-06T21:24:12.595Z"
   },
   {
    "duration": 34,
    "start_time": "2023-01-06T21:24:12.620Z"
   },
   {
    "duration": 43,
    "start_time": "2023-01-06T21:24:12.657Z"
   },
   {
    "duration": 53,
    "start_time": "2023-01-06T21:24:12.702Z"
   },
   {
    "duration": 3,
    "start_time": "2023-01-06T21:24:12.758Z"
   },
   {
    "duration": 26,
    "start_time": "2023-01-06T21:24:12.763Z"
   },
   {
    "duration": 7,
    "start_time": "2023-01-06T21:24:12.791Z"
   },
   {
    "duration": 22,
    "start_time": "2023-01-06T21:24:12.800Z"
   },
   {
    "duration": 17,
    "start_time": "2023-01-06T21:24:12.826Z"
   },
   {
    "duration": 32,
    "start_time": "2023-01-06T21:24:12.845Z"
   },
   {
    "duration": 13,
    "start_time": "2023-01-06T21:24:12.879Z"
   },
   {
    "duration": 4,
    "start_time": "2023-01-06T21:24:12.894Z"
   },
   {
    "duration": 52,
    "start_time": "2023-01-06T21:24:12.899Z"
   },
   {
    "duration": 28,
    "start_time": "2023-01-06T21:24:12.953Z"
   },
   {
    "duration": 25,
    "start_time": "2023-01-06T21:24:12.984Z"
   },
   {
    "duration": 6,
    "start_time": "2023-01-06T21:24:13.011Z"
   },
   {
    "duration": 32,
    "start_time": "2023-01-06T21:24:13.019Z"
   },
   {
    "duration": 9,
    "start_time": "2023-01-06T21:24:13.053Z"
   },
   {
    "duration": 8,
    "start_time": "2023-01-06T21:24:13.064Z"
   },
   {
    "duration": 14,
    "start_time": "2023-01-06T21:24:13.074Z"
   },
   {
    "duration": 3,
    "start_time": "2023-01-06T21:24:13.090Z"
   },
   {
    "duration": 6,
    "start_time": "2023-01-06T21:24:13.094Z"
   },
   {
    "duration": 5,
    "start_time": "2023-01-06T21:24:13.102Z"
   },
   {
    "duration": 9,
    "start_time": "2023-01-06T21:24:13.109Z"
   },
   {
    "duration": 50,
    "start_time": "2023-01-07T13:49:02.222Z"
   },
   {
    "duration": 498,
    "start_time": "2023-01-07T13:49:09.133Z"
   },
   {
    "duration": 21,
    "start_time": "2023-01-07T13:49:09.633Z"
   },
   {
    "duration": 14,
    "start_time": "2023-01-07T13:49:09.655Z"
   },
   {
    "duration": 9,
    "start_time": "2023-01-07T13:49:09.670Z"
   },
   {
    "duration": 47,
    "start_time": "2023-01-07T13:49:09.680Z"
   },
   {
    "duration": 3,
    "start_time": "2023-01-07T13:49:09.729Z"
   },
   {
    "duration": 10,
    "start_time": "2023-01-07T13:49:09.734Z"
   },
   {
    "duration": 6,
    "start_time": "2023-01-07T13:49:09.745Z"
   },
   {
    "duration": 8,
    "start_time": "2023-01-07T13:49:09.752Z"
   },
   {
    "duration": 4,
    "start_time": "2023-01-07T13:49:09.762Z"
   },
   {
    "duration": 60,
    "start_time": "2023-01-07T13:49:09.768Z"
   },
   {
    "duration": 14,
    "start_time": "2023-01-07T13:49:09.830Z"
   },
   {
    "duration": 3,
    "start_time": "2023-01-07T13:49:09.846Z"
   },
   {
    "duration": 15,
    "start_time": "2023-01-07T13:49:09.850Z"
   },
   {
    "duration": 19,
    "start_time": "2023-01-07T13:49:09.867Z"
   },
   {
    "duration": 22,
    "start_time": "2023-01-07T13:49:09.904Z"
   },
   {
    "duration": 3,
    "start_time": "2023-01-07T13:49:09.928Z"
   },
   {
    "duration": 12,
    "start_time": "2023-01-07T13:49:09.933Z"
   },
   {
    "duration": 8,
    "start_time": "2023-01-07T13:49:09.947Z"
   },
   {
    "duration": 4,
    "start_time": "2023-01-07T13:49:09.956Z"
   },
   {
    "duration": 17,
    "start_time": "2023-01-07T13:49:09.961Z"
   },
   {
    "duration": 85,
    "start_time": "2023-01-07T13:49:09.980Z"
   },
   {
    "duration": 0,
    "start_time": "2023-01-07T13:49:10.067Z"
   },
   {
    "duration": 0,
    "start_time": "2023-01-07T13:49:10.068Z"
   },
   {
    "duration": 0,
    "start_time": "2023-01-07T13:49:10.069Z"
   },
   {
    "duration": 7,
    "start_time": "2023-01-07T13:50:07.132Z"
   },
   {
    "duration": 7,
    "start_time": "2023-01-07T13:50:22.182Z"
   },
   {
    "duration": 9,
    "start_time": "2023-01-07T13:50:34.220Z"
   },
   {
    "duration": 7,
    "start_time": "2023-01-07T13:52:35.118Z"
   },
   {
    "duration": 7,
    "start_time": "2023-01-07T13:56:53.651Z"
   },
   {
    "duration": 9,
    "start_time": "2023-01-07T13:57:27.316Z"
   },
   {
    "duration": 21,
    "start_time": "2023-01-07T13:58:12.762Z"
   },
   {
    "duration": 7,
    "start_time": "2023-01-07T13:58:29.452Z"
   },
   {
    "duration": 7,
    "start_time": "2023-01-07T14:02:30.027Z"
   },
   {
    "duration": 8,
    "start_time": "2023-01-07T14:03:19.951Z"
   },
   {
    "duration": 8,
    "start_time": "2023-01-07T14:04:16.831Z"
   },
   {
    "duration": 10,
    "start_time": "2023-01-07T14:04:49.536Z"
   },
   {
    "duration": 47,
    "start_time": "2023-01-08T12:45:12.834Z"
   },
   {
    "duration": 6,
    "start_time": "2023-01-08T12:45:19.632Z"
   },
   {
    "duration": 515,
    "start_time": "2023-01-08T12:45:30.324Z"
   },
   {
    "duration": 22,
    "start_time": "2023-01-08T12:45:30.841Z"
   },
   {
    "duration": 26,
    "start_time": "2023-01-08T12:45:30.864Z"
   },
   {
    "duration": 41,
    "start_time": "2023-01-08T12:45:30.892Z"
   },
   {
    "duration": 55,
    "start_time": "2023-01-08T12:45:30.935Z"
   },
   {
    "duration": 3,
    "start_time": "2023-01-08T12:45:30.991Z"
   },
   {
    "duration": 45,
    "start_time": "2023-01-08T12:45:30.995Z"
   },
   {
    "duration": 20,
    "start_time": "2023-01-08T12:45:31.041Z"
   },
   {
    "duration": 32,
    "start_time": "2023-01-08T12:45:31.063Z"
   },
   {
    "duration": 12,
    "start_time": "2023-01-08T12:45:31.096Z"
   },
   {
    "duration": 61,
    "start_time": "2023-01-08T12:45:31.109Z"
   },
   {
    "duration": 8,
    "start_time": "2023-01-08T12:45:31.171Z"
   },
   {
    "duration": 38,
    "start_time": "2023-01-08T12:45:31.181Z"
   },
   {
    "duration": 26,
    "start_time": "2023-01-08T12:45:31.221Z"
   },
   {
    "duration": 31,
    "start_time": "2023-01-08T12:45:31.248Z"
   },
   {
    "duration": 17,
    "start_time": "2023-01-08T12:45:31.280Z"
   },
   {
    "duration": 10,
    "start_time": "2023-01-08T12:45:31.298Z"
   },
   {
    "duration": 32,
    "start_time": "2023-01-08T12:45:31.309Z"
   },
   {
    "duration": 22,
    "start_time": "2023-01-08T12:45:31.343Z"
   },
   {
    "duration": 18,
    "start_time": "2023-01-08T12:45:31.367Z"
   },
   {
    "duration": 32,
    "start_time": "2023-01-08T12:45:31.387Z"
   },
   {
    "duration": 19,
    "start_time": "2023-01-08T12:45:31.420Z"
   },
   {
    "duration": 25,
    "start_time": "2023-01-08T12:45:31.441Z"
   },
   {
    "duration": 16,
    "start_time": "2023-01-08T12:45:31.467Z"
   },
   {
    "duration": 17,
    "start_time": "2023-01-08T12:45:31.484Z"
   },
   {
    "duration": 10,
    "start_time": "2023-01-08T12:45:57.297Z"
   },
   {
    "duration": 11,
    "start_time": "2023-01-08T12:46:08.851Z"
   },
   {
    "duration": 523,
    "start_time": "2023-01-08T12:52:02.096Z"
   },
   {
    "duration": 23,
    "start_time": "2023-01-08T12:52:02.621Z"
   },
   {
    "duration": 30,
    "start_time": "2023-01-08T12:52:02.646Z"
   },
   {
    "duration": 31,
    "start_time": "2023-01-08T12:52:02.678Z"
   },
   {
    "duration": 49,
    "start_time": "2023-01-08T12:52:02.711Z"
   },
   {
    "duration": 12,
    "start_time": "2023-01-08T12:52:02.762Z"
   },
   {
    "duration": 13,
    "start_time": "2023-01-08T12:52:02.776Z"
   },
   {
    "duration": 16,
    "start_time": "2023-01-08T12:52:02.791Z"
   },
   {
    "duration": 24,
    "start_time": "2023-01-08T12:52:02.808Z"
   },
   {
    "duration": 21,
    "start_time": "2023-01-08T12:52:02.835Z"
   },
   {
    "duration": 47,
    "start_time": "2023-01-08T12:52:02.858Z"
   },
   {
    "duration": 9,
    "start_time": "2023-01-08T12:52:02.907Z"
   },
   {
    "duration": 9,
    "start_time": "2023-01-08T12:52:02.918Z"
   },
   {
    "duration": 22,
    "start_time": "2023-01-08T12:52:02.929Z"
   },
   {
    "duration": 22,
    "start_time": "2023-01-08T12:52:02.953Z"
   },
   {
    "duration": 17,
    "start_time": "2023-01-08T12:52:02.977Z"
   },
   {
    "duration": 11,
    "start_time": "2023-01-08T12:52:02.996Z"
   },
   {
    "duration": 25,
    "start_time": "2023-01-08T12:52:03.008Z"
   },
   {
    "duration": 17,
    "start_time": "2023-01-08T12:52:03.035Z"
   },
   {
    "duration": 20,
    "start_time": "2023-01-08T12:52:03.054Z"
   },
   {
    "duration": 31,
    "start_time": "2023-01-08T12:52:03.076Z"
   },
   {
    "duration": 24,
    "start_time": "2023-01-08T12:52:03.109Z"
   },
   {
    "duration": 30,
    "start_time": "2023-01-08T12:52:03.135Z"
   },
   {
    "duration": 16,
    "start_time": "2023-01-08T12:52:03.167Z"
   },
   {
    "duration": 31,
    "start_time": "2023-01-08T12:52:03.185Z"
   },
   {
    "duration": 22,
    "start_time": "2023-01-08T13:03:39.997Z"
   },
   {
    "duration": 17,
    "start_time": "2023-01-08T13:03:47.778Z"
   },
   {
    "duration": 65,
    "start_time": "2023-01-08T13:04:48.366Z"
   },
   {
    "duration": 22,
    "start_time": "2023-01-08T13:05:02.607Z"
   },
   {
    "duration": 11,
    "start_time": "2023-01-08T13:05:52.311Z"
   },
   {
    "duration": 12,
    "start_time": "2023-01-08T13:06:04.781Z"
   },
   {
    "duration": 12,
    "start_time": "2023-01-08T13:06:09.210Z"
   },
   {
    "duration": 489,
    "start_time": "2023-01-08T13:06:21.204Z"
   },
   {
    "duration": 21,
    "start_time": "2023-01-08T13:06:21.695Z"
   },
   {
    "duration": 14,
    "start_time": "2023-01-08T13:06:21.718Z"
   },
   {
    "duration": 9,
    "start_time": "2023-01-08T13:06:21.734Z"
   },
   {
    "duration": 31,
    "start_time": "2023-01-08T13:06:21.745Z"
   },
   {
    "duration": 3,
    "start_time": "2023-01-08T13:06:21.777Z"
   },
   {
    "duration": 10,
    "start_time": "2023-01-08T13:06:21.781Z"
   },
   {
    "duration": 30,
    "start_time": "2023-01-08T13:06:21.793Z"
   },
   {
    "duration": 10,
    "start_time": "2023-01-08T13:06:21.825Z"
   },
   {
    "duration": 16,
    "start_time": "2023-01-08T13:06:21.837Z"
   },
   {
    "duration": 38,
    "start_time": "2023-01-08T13:06:21.855Z"
   },
   {
    "duration": 9,
    "start_time": "2023-01-08T13:06:21.895Z"
   },
   {
    "duration": 17,
    "start_time": "2023-01-08T13:06:21.905Z"
   },
   {
    "duration": 12,
    "start_time": "2023-01-08T13:06:21.924Z"
   },
   {
    "duration": 21,
    "start_time": "2023-01-08T13:06:21.938Z"
   },
   {
    "duration": 17,
    "start_time": "2023-01-08T13:06:21.960Z"
   },
   {
    "duration": 3,
    "start_time": "2023-01-08T13:06:21.978Z"
   },
   {
    "duration": 16,
    "start_time": "2023-01-08T13:06:21.983Z"
   },
   {
    "duration": 26,
    "start_time": "2023-01-08T13:06:22.001Z"
   },
   {
    "duration": 4,
    "start_time": "2023-01-08T13:06:22.028Z"
   },
   {
    "duration": 23,
    "start_time": "2023-01-08T13:06:22.033Z"
   },
   {
    "duration": 9,
    "start_time": "2023-01-08T13:06:22.058Z"
   },
   {
    "duration": 8,
    "start_time": "2023-01-08T13:06:22.068Z"
   },
   {
    "duration": 8,
    "start_time": "2023-01-08T13:06:22.077Z"
   },
   {
    "duration": 9,
    "start_time": "2023-01-08T13:06:22.086Z"
   },
   {
    "duration": 57,
    "start_time": "2023-01-08T17:35:13.860Z"
   },
   {
    "duration": 523,
    "start_time": "2023-01-08T17:35:28.952Z"
   },
   {
    "duration": 20,
    "start_time": "2023-01-08T17:35:29.477Z"
   },
   {
    "duration": 17,
    "start_time": "2023-01-08T17:35:29.498Z"
   },
   {
    "duration": 8,
    "start_time": "2023-01-08T17:35:29.517Z"
   },
   {
    "duration": 51,
    "start_time": "2023-01-08T17:35:29.527Z"
   },
   {
    "duration": 4,
    "start_time": "2023-01-08T17:35:29.579Z"
   },
   {
    "duration": 17,
    "start_time": "2023-01-08T17:35:29.584Z"
   },
   {
    "duration": 5,
    "start_time": "2023-01-08T17:35:29.604Z"
   },
   {
    "duration": 9,
    "start_time": "2023-01-08T17:35:29.611Z"
   },
   {
    "duration": 4,
    "start_time": "2023-01-08T17:35:29.623Z"
   },
   {
    "duration": 31,
    "start_time": "2023-01-08T17:35:29.629Z"
   },
   {
    "duration": 14,
    "start_time": "2023-01-08T17:35:29.682Z"
   },
   {
    "duration": 4,
    "start_time": "2023-01-08T17:35:29.697Z"
   },
   {
    "duration": 13,
    "start_time": "2023-01-08T17:35:29.703Z"
   },
   {
    "duration": 18,
    "start_time": "2023-01-08T17:35:29.718Z"
   },
   {
    "duration": 15,
    "start_time": "2023-01-08T17:35:29.738Z"
   },
   {
    "duration": 24,
    "start_time": "2023-01-08T17:35:29.754Z"
   },
   {
    "duration": 9,
    "start_time": "2023-01-08T17:35:29.779Z"
   },
   {
    "duration": 10,
    "start_time": "2023-01-08T17:35:29.789Z"
   },
   {
    "duration": 5,
    "start_time": "2023-01-08T17:35:29.800Z"
   },
   {
    "duration": 14,
    "start_time": "2023-01-08T17:35:29.806Z"
   },
   {
    "duration": 10,
    "start_time": "2023-01-08T17:35:29.821Z"
   },
   {
    "duration": 11,
    "start_time": "2023-01-08T17:35:29.832Z"
   },
   {
    "duration": 6,
    "start_time": "2023-01-08T17:35:29.845Z"
   },
   {
    "duration": 28,
    "start_time": "2023-01-08T17:35:29.853Z"
   },
   {
    "duration": 6,
    "start_time": "2023-01-08T17:35:39.406Z"
   },
   {
    "duration": 674,
    "start_time": "2023-01-09T09:30:47.043Z"
   },
   {
    "duration": 27,
    "start_time": "2023-01-09T09:30:47.719Z"
   },
   {
    "duration": 31,
    "start_time": "2023-01-09T09:30:47.748Z"
   },
   {
    "duration": 13,
    "start_time": "2023-01-09T09:30:48.336Z"
   },
   {
    "duration": 42,
    "start_time": "2023-01-09T09:30:48.656Z"
   },
   {
    "duration": 5,
    "start_time": "2023-01-09T09:30:49.183Z"
   },
   {
    "duration": 11,
    "start_time": "2023-01-09T09:30:49.538Z"
   },
   {
    "duration": 5,
    "start_time": "2023-01-09T09:30:50.115Z"
   },
   {
    "duration": 6,
    "start_time": "2023-01-09T09:30:50.614Z"
   },
   {
    "duration": 4,
    "start_time": "2023-01-09T09:30:50.948Z"
   },
   {
    "duration": 45,
    "start_time": "2023-01-09T09:30:51.476Z"
   },
   {
    "duration": 12,
    "start_time": "2023-01-09T09:30:51.861Z"
   },
   {
    "duration": 5,
    "start_time": "2023-01-09T09:30:52.374Z"
   },
   {
    "duration": 11,
    "start_time": "2023-01-09T09:30:52.913Z"
   },
   {
    "duration": 18,
    "start_time": "2023-01-09T09:30:53.238Z"
   },
   {
    "duration": 20,
    "start_time": "2023-01-09T09:30:53.434Z"
   },
   {
    "duration": 3,
    "start_time": "2023-01-09T09:30:54.025Z"
   },
   {
    "duration": 10,
    "start_time": "2023-01-09T09:30:54.217Z"
   },
   {
    "duration": 6,
    "start_time": "2023-01-09T09:30:54.639Z"
   },
   {
    "duration": 3,
    "start_time": "2023-01-09T09:30:55.050Z"
   },
   {
    "duration": 12,
    "start_time": "2023-01-09T09:30:55.289Z"
   },
   {
    "duration": 6,
    "start_time": "2023-01-09T09:30:56.364Z"
   },
   {
    "duration": 8,
    "start_time": "2023-01-09T09:32:05.983Z"
   },
   {
    "duration": 9,
    "start_time": "2023-01-09T09:34:07.143Z"
   },
   {
    "duration": 44,
    "start_time": "2023-01-12T14:11:27.681Z"
   },
   {
    "duration": 6,
    "start_time": "2023-01-12T14:11:31.546Z"
   },
   {
    "duration": 484,
    "start_time": "2023-01-12T14:11:36.375Z"
   },
   {
    "duration": 22,
    "start_time": "2023-01-12T14:11:36.861Z"
   },
   {
    "duration": 13,
    "start_time": "2023-01-12T14:11:36.885Z"
   },
   {
    "duration": 10,
    "start_time": "2023-01-12T14:11:36.899Z"
   },
   {
    "duration": 39,
    "start_time": "2023-01-12T14:11:36.911Z"
   },
   {
    "duration": 3,
    "start_time": "2023-01-12T14:11:36.952Z"
   },
   {
    "duration": 13,
    "start_time": "2023-01-12T14:11:36.957Z"
   },
   {
    "duration": 4,
    "start_time": "2023-01-12T14:11:36.972Z"
   },
   {
    "duration": 12,
    "start_time": "2023-01-12T14:11:36.977Z"
   },
   {
    "duration": 5,
    "start_time": "2023-01-12T14:11:36.990Z"
   },
   {
    "duration": 43,
    "start_time": "2023-01-12T14:11:37.013Z"
   },
   {
    "duration": 9,
    "start_time": "2023-01-12T14:11:37.057Z"
   },
   {
    "duration": 10,
    "start_time": "2023-01-12T14:11:37.067Z"
   },
   {
    "duration": 12,
    "start_time": "2023-01-12T14:11:37.079Z"
   },
   {
    "duration": 28,
    "start_time": "2023-01-12T14:11:37.092Z"
   },
   {
    "duration": 16,
    "start_time": "2023-01-12T14:11:37.122Z"
   },
   {
    "duration": 4,
    "start_time": "2023-01-12T14:11:37.139Z"
   },
   {
    "duration": 18,
    "start_time": "2023-01-12T14:11:37.144Z"
   },
   {
    "duration": 5,
    "start_time": "2023-01-12T14:11:37.164Z"
   },
   {
    "duration": 11,
    "start_time": "2023-01-12T14:11:37.170Z"
   },
   {
    "duration": 14,
    "start_time": "2023-01-12T14:11:37.182Z"
   },
   {
    "duration": 15,
    "start_time": "2023-01-12T14:11:37.198Z"
   },
   {
    "duration": 9,
    "start_time": "2023-01-12T14:11:37.215Z"
   },
   {
    "duration": 8,
    "start_time": "2023-01-12T14:11:37.226Z"
   },
   {
    "duration": 9,
    "start_time": "2023-01-12T14:11:37.235Z"
   },
   {
    "duration": 71,
    "start_time": "2023-01-12T14:13:42.561Z"
   },
   {
    "duration": 12,
    "start_time": "2023-01-12T14:20:47.529Z"
   },
   {
    "duration": 13,
    "start_time": "2023-01-12T14:21:24.303Z"
   },
   {
    "duration": 21,
    "start_time": "2023-01-12T14:24:01.226Z"
   },
   {
    "duration": 18,
    "start_time": "2023-01-12T14:25:41.312Z"
   },
   {
    "duration": 27,
    "start_time": "2023-01-12T14:26:50.083Z"
   },
   {
    "duration": 31,
    "start_time": "2023-01-12T14:27:03.396Z"
   },
   {
    "duration": 22,
    "start_time": "2023-01-12T14:27:16.900Z"
   },
   {
    "duration": 14,
    "start_time": "2023-01-12T14:28:15.900Z"
   },
   {
    "duration": 26,
    "start_time": "2023-01-12T14:29:16.354Z"
   },
   {
    "duration": 49,
    "start_time": "2023-01-12T14:29:38.255Z"
   },
   {
    "duration": 47,
    "start_time": "2023-01-12T14:29:58.083Z"
   },
   {
    "duration": 13,
    "start_time": "2023-01-12T14:30:21.666Z"
   },
   {
    "duration": 14,
    "start_time": "2023-01-12T14:30:42.984Z"
   },
   {
    "duration": 53,
    "start_time": "2023-01-12T14:30:48.999Z"
   },
   {
    "duration": 48,
    "start_time": "2023-01-12T14:31:39.022Z"
   },
   {
    "duration": 19,
    "start_time": "2023-01-12T14:32:17.602Z"
   },
   {
    "duration": 26,
    "start_time": "2023-01-12T14:32:25.400Z"
   },
   {
    "duration": 17,
    "start_time": "2023-01-12T14:32:44.053Z"
   },
   {
    "duration": 9,
    "start_time": "2023-01-12T14:32:52.114Z"
   },
   {
    "duration": 19,
    "start_time": "2023-01-12T14:35:09.940Z"
   },
   {
    "duration": 22,
    "start_time": "2023-01-12T14:37:17.458Z"
   },
   {
    "duration": 12,
    "start_time": "2023-01-12T14:39:04.491Z"
   },
   {
    "duration": 8,
    "start_time": "2023-01-12T14:43:56.135Z"
   },
   {
    "duration": 9,
    "start_time": "2023-01-12T14:44:16.136Z"
   },
   {
    "duration": 8,
    "start_time": "2023-01-12T14:44:31.769Z"
   },
   {
    "duration": 10,
    "start_time": "2023-01-12T14:45:02.968Z"
   },
   {
    "duration": 11,
    "start_time": "2023-01-12T14:45:08.843Z"
   },
   {
    "duration": 10,
    "start_time": "2023-01-12T14:45:31.265Z"
   },
   {
    "duration": 16,
    "start_time": "2023-01-12T14:45:39.789Z"
   },
   {
    "duration": 13,
    "start_time": "2023-01-12T14:48:28.715Z"
   },
   {
    "duration": 27,
    "start_time": "2023-01-12T14:48:53.992Z"
   },
   {
    "duration": 4,
    "start_time": "2023-01-12T14:49:09.503Z"
   },
   {
    "duration": 30,
    "start_time": "2023-01-12T14:49:17.614Z"
   },
   {
    "duration": 27,
    "start_time": "2023-01-12T14:49:52.563Z"
   },
   {
    "duration": 27,
    "start_time": "2023-01-12T14:50:31.861Z"
   },
   {
    "duration": 25,
    "start_time": "2023-01-12T14:50:42.948Z"
   },
   {
    "duration": 16,
    "start_time": "2023-01-12T14:54:55.018Z"
   },
   {
    "duration": 18,
    "start_time": "2023-01-12T14:55:11.600Z"
   },
   {
    "duration": 15,
    "start_time": "2023-01-12T14:55:18.762Z"
   },
   {
    "duration": 16,
    "start_time": "2023-01-12T14:55:54.334Z"
   },
   {
    "duration": 16,
    "start_time": "2023-01-12T14:56:11.690Z"
   },
   {
    "duration": 12,
    "start_time": "2023-01-12T14:56:41.712Z"
   },
   {
    "duration": 16,
    "start_time": "2023-01-12T14:56:47.359Z"
   },
   {
    "duration": 12,
    "start_time": "2023-01-12T14:57:32.728Z"
   },
   {
    "duration": 474,
    "start_time": "2023-01-12T14:58:05.292Z"
   },
   {
    "duration": 22,
    "start_time": "2023-01-12T14:58:05.768Z"
   },
   {
    "duration": 21,
    "start_time": "2023-01-12T14:58:05.792Z"
   },
   {
    "duration": 9,
    "start_time": "2023-01-12T14:58:05.815Z"
   },
   {
    "duration": 34,
    "start_time": "2023-01-12T14:58:05.825Z"
   },
   {
    "duration": 3,
    "start_time": "2023-01-12T14:58:05.861Z"
   },
   {
    "duration": 14,
    "start_time": "2023-01-12T14:58:05.865Z"
   },
   {
    "duration": 7,
    "start_time": "2023-01-12T14:58:05.881Z"
   },
   {
    "duration": 27,
    "start_time": "2023-01-12T14:58:05.889Z"
   },
   {
    "duration": 5,
    "start_time": "2023-01-12T14:58:05.919Z"
   },
   {
    "duration": 32,
    "start_time": "2023-01-12T14:58:05.926Z"
   },
   {
    "duration": 9,
    "start_time": "2023-01-12T14:58:05.959Z"
   },
   {
    "duration": 4,
    "start_time": "2023-01-12T14:58:05.970Z"
   },
   {
    "duration": 13,
    "start_time": "2023-01-12T14:58:05.975Z"
   },
   {
    "duration": 39,
    "start_time": "2023-01-12T14:58:05.990Z"
   },
   {
    "duration": 15,
    "start_time": "2023-01-12T14:58:06.031Z"
   },
   {
    "duration": 3,
    "start_time": "2023-01-12T14:58:06.048Z"
   },
   {
    "duration": 11,
    "start_time": "2023-01-12T14:58:06.053Z"
   },
   {
    "duration": 5,
    "start_time": "2023-01-12T14:58:06.066Z"
   },
   {
    "duration": 6,
    "start_time": "2023-01-12T14:58:06.073Z"
   },
   {
    "duration": 35,
    "start_time": "2023-01-12T14:58:06.081Z"
   },
   {
    "duration": 13,
    "start_time": "2023-01-12T14:58:06.118Z"
   },
   {
    "duration": 8,
    "start_time": "2023-01-12T14:58:06.133Z"
   },
   {
    "duration": 7,
    "start_time": "2023-01-12T14:58:06.142Z"
   },
   {
    "duration": 33,
    "start_time": "2023-01-12T14:58:06.151Z"
   },
   {
    "duration": 12,
    "start_time": "2023-01-12T14:58:39.172Z"
   },
   {
    "duration": 16,
    "start_time": "2023-01-12T14:58:48.475Z"
   },
   {
    "duration": 8,
    "start_time": "2023-01-12T14:59:30.892Z"
   },
   {
    "duration": 16,
    "start_time": "2023-01-12T14:59:38.666Z"
   },
   {
    "duration": 105,
    "start_time": "2023-01-12T15:02:37.465Z"
   },
   {
    "duration": 17,
    "start_time": "2023-01-12T15:02:43.339Z"
   },
   {
    "duration": 23,
    "start_time": "2023-01-12T15:03:00.426Z"
   },
   {
    "duration": 17,
    "start_time": "2023-01-12T15:03:24.881Z"
   },
   {
    "duration": 16,
    "start_time": "2023-01-12T15:04:45.319Z"
   },
   {
    "duration": 17,
    "start_time": "2023-01-12T15:04:53.750Z"
   },
   {
    "duration": 452,
    "start_time": "2023-01-12T15:05:35.424Z"
   },
   {
    "duration": 23,
    "start_time": "2023-01-12T15:05:35.878Z"
   },
   {
    "duration": 29,
    "start_time": "2023-01-12T15:05:35.903Z"
   },
   {
    "duration": 29,
    "start_time": "2023-01-12T15:05:35.934Z"
   },
   {
    "duration": 55,
    "start_time": "2023-01-12T15:05:35.965Z"
   },
   {
    "duration": 8,
    "start_time": "2023-01-12T15:05:36.022Z"
   },
   {
    "duration": 48,
    "start_time": "2023-01-12T15:05:36.032Z"
   },
   {
    "duration": 24,
    "start_time": "2023-01-12T15:05:36.082Z"
   },
   {
    "duration": 28,
    "start_time": "2023-01-12T15:05:36.108Z"
   },
   {
    "duration": 34,
    "start_time": "2023-01-12T15:05:36.138Z"
   },
   {
    "duration": 52,
    "start_time": "2023-01-12T15:05:36.174Z"
   },
   {
    "duration": 19,
    "start_time": "2023-01-12T15:05:36.228Z"
   },
   {
    "duration": 36,
    "start_time": "2023-01-12T15:05:36.249Z"
   },
   {
    "duration": 32,
    "start_time": "2023-01-12T15:05:36.287Z"
   },
   {
    "duration": 43,
    "start_time": "2023-01-12T15:05:36.321Z"
   },
   {
    "duration": 21,
    "start_time": "2023-01-12T15:05:36.366Z"
   },
   {
    "duration": 16,
    "start_time": "2023-01-12T15:05:36.389Z"
   },
   {
    "duration": 51,
    "start_time": "2023-01-12T15:05:36.406Z"
   },
   {
    "duration": 30,
    "start_time": "2023-01-12T15:05:36.459Z"
   },
   {
    "duration": 23,
    "start_time": "2023-01-12T15:05:36.490Z"
   },
   {
    "duration": 55,
    "start_time": "2023-01-12T15:05:36.515Z"
   },
   {
    "duration": 38,
    "start_time": "2023-01-12T15:05:36.572Z"
   },
   {
    "duration": 53,
    "start_time": "2023-01-12T15:05:36.612Z"
   },
   {
    "duration": 75,
    "start_time": "2023-01-12T15:05:36.666Z"
   },
   {
    "duration": 0,
    "start_time": "2023-01-12T15:05:36.743Z"
   },
   {
    "duration": 19,
    "start_time": "2023-01-12T15:06:01.427Z"
   },
   {
    "duration": 18,
    "start_time": "2023-01-12T15:08:26.515Z"
   },
   {
    "duration": 22,
    "start_time": "2023-01-12T15:08:39.301Z"
   },
   {
    "duration": 17,
    "start_time": "2023-01-12T15:08:43.852Z"
   },
   {
    "duration": 15,
    "start_time": "2023-01-12T15:09:01.320Z"
   },
   {
    "duration": 16,
    "start_time": "2023-01-12T15:09:10.694Z"
   },
   {
    "duration": 14,
    "start_time": "2023-01-12T15:09:45.527Z"
   },
   {
    "duration": 16,
    "start_time": "2023-01-12T15:09:49.360Z"
   },
   {
    "duration": 16,
    "start_time": "2023-01-12T15:10:06.392Z"
   },
   {
    "duration": 16,
    "start_time": "2023-01-12T15:10:41.872Z"
   },
   {
    "duration": 16,
    "start_time": "2023-01-12T15:10:46.822Z"
   },
   {
    "duration": 11,
    "start_time": "2023-01-12T15:11:13.082Z"
   },
   {
    "duration": 15,
    "start_time": "2023-01-12T15:11:17.749Z"
   },
   {
    "duration": 16,
    "start_time": "2023-01-12T15:11:37.731Z"
   },
   {
    "duration": 20,
    "start_time": "2023-01-12T15:11:44.953Z"
   },
   {
    "duration": 17,
    "start_time": "2023-01-12T15:11:57.108Z"
   },
   {
    "duration": 16,
    "start_time": "2023-01-12T15:12:04.994Z"
   },
   {
    "duration": 15,
    "start_time": "2023-01-12T15:12:11.653Z"
   },
   {
    "duration": 18,
    "start_time": "2023-01-12T15:13:50.910Z"
   },
   {
    "duration": 17,
    "start_time": "2023-01-12T15:14:20.710Z"
   },
   {
    "duration": 19,
    "start_time": "2023-01-12T15:14:25.769Z"
   },
   {
    "duration": 17,
    "start_time": "2023-01-12T15:14:36.238Z"
   },
   {
    "duration": 17,
    "start_time": "2023-01-12T15:16:26.354Z"
   },
   {
    "duration": 19,
    "start_time": "2023-01-12T15:16:37.535Z"
   },
   {
    "duration": 21,
    "start_time": "2023-01-12T15:16:40.391Z"
   },
   {
    "duration": 22,
    "start_time": "2023-01-12T15:18:28.728Z"
   },
   {
    "duration": 23,
    "start_time": "2023-01-12T15:19:11.128Z"
   },
   {
    "duration": 19,
    "start_time": "2023-01-12T15:19:57.769Z"
   },
   {
    "duration": 18,
    "start_time": "2023-01-12T15:20:55.499Z"
   },
   {
    "duration": 18,
    "start_time": "2023-01-12T15:22:14.334Z"
   },
   {
    "duration": 15,
    "start_time": "2023-01-12T15:22:32.505Z"
   },
   {
    "duration": 21,
    "start_time": "2023-01-12T15:23:27.974Z"
   },
   {
    "duration": 19,
    "start_time": "2023-01-12T15:24:16.378Z"
   },
   {
    "duration": 13,
    "start_time": "2023-01-12T15:25:31.852Z"
   },
   {
    "duration": 15,
    "start_time": "2023-01-12T15:25:45.795Z"
   },
   {
    "duration": 12,
    "start_time": "2023-01-12T15:25:57.869Z"
   },
   {
    "duration": 67,
    "start_time": "2023-01-12T15:26:16.211Z"
   },
   {
    "duration": 9,
    "start_time": "2023-01-12T15:26:25.801Z"
   },
   {
    "duration": 13,
    "start_time": "2023-01-12T15:26:37.841Z"
   },
   {
    "duration": 15,
    "start_time": "2023-01-12T15:26:58.940Z"
   },
   {
    "duration": 16,
    "start_time": "2023-01-12T15:27:07.690Z"
   },
   {
    "duration": 16,
    "start_time": "2023-01-12T15:27:17.597Z"
   },
   {
    "duration": 16,
    "start_time": "2023-01-12T15:27:43.611Z"
   },
   {
    "duration": 20,
    "start_time": "2023-01-12T15:27:47.117Z"
   },
   {
    "duration": 15,
    "start_time": "2023-01-12T15:27:57.786Z"
   },
   {
    "duration": 14,
    "start_time": "2023-01-12T15:28:05.580Z"
   },
   {
    "duration": 14,
    "start_time": "2023-01-12T15:28:19.384Z"
   },
   {
    "duration": 14,
    "start_time": "2023-01-12T15:28:35.924Z"
   },
   {
    "duration": 12,
    "start_time": "2023-01-12T15:28:42.784Z"
   },
   {
    "duration": 19,
    "start_time": "2023-01-12T15:29:08.617Z"
   },
   {
    "duration": 13,
    "start_time": "2023-01-12T15:29:13.586Z"
   },
   {
    "duration": 13,
    "start_time": "2023-01-12T15:30:52.132Z"
   },
   {
    "duration": 523,
    "start_time": "2023-01-12T15:30:57.297Z"
   },
   {
    "duration": 24,
    "start_time": "2023-01-12T15:30:57.822Z"
   },
   {
    "duration": 15,
    "start_time": "2023-01-12T15:30:57.848Z"
   },
   {
    "duration": 10,
    "start_time": "2023-01-12T15:30:57.865Z"
   },
   {
    "duration": 53,
    "start_time": "2023-01-12T15:30:57.877Z"
   },
   {
    "duration": 4,
    "start_time": "2023-01-12T15:30:57.932Z"
   },
   {
    "duration": 10,
    "start_time": "2023-01-12T15:30:57.938Z"
   },
   {
    "duration": 4,
    "start_time": "2023-01-12T15:30:57.949Z"
   },
   {
    "duration": 10,
    "start_time": "2023-01-12T15:30:57.955Z"
   },
   {
    "duration": 5,
    "start_time": "2023-01-12T15:30:57.967Z"
   },
   {
    "duration": 60,
    "start_time": "2023-01-12T15:30:57.973Z"
   },
   {
    "duration": 10,
    "start_time": "2023-01-12T15:30:58.035Z"
   },
   {
    "duration": 9,
    "start_time": "2023-01-12T15:30:58.046Z"
   },
   {
    "duration": 16,
    "start_time": "2023-01-12T15:30:58.056Z"
   },
   {
    "duration": 24,
    "start_time": "2023-01-12T15:30:58.074Z"
   },
   {
    "duration": 28,
    "start_time": "2023-01-12T15:30:58.099Z"
   },
   {
    "duration": 3,
    "start_time": "2023-01-12T15:30:58.129Z"
   },
   {
    "duration": 15,
    "start_time": "2023-01-12T15:30:58.134Z"
   },
   {
    "duration": 9,
    "start_time": "2023-01-12T15:30:58.150Z"
   },
   {
    "duration": 3,
    "start_time": "2023-01-12T15:30:58.161Z"
   },
   {
    "duration": 11,
    "start_time": "2023-01-12T15:30:58.166Z"
   },
   {
    "duration": 46,
    "start_time": "2023-01-12T15:30:58.178Z"
   },
   {
    "duration": 26,
    "start_time": "2023-01-12T15:30:58.226Z"
   },
   {
    "duration": 19,
    "start_time": "2023-01-12T15:30:58.255Z"
   },
   {
    "duration": 9,
    "start_time": "2023-01-12T15:30:58.275Z"
   },
   {
    "duration": 13,
    "start_time": "2023-01-12T15:31:41.676Z"
   },
   {
    "duration": 74,
    "start_time": "2023-01-12T15:32:11.637Z"
   },
   {
    "duration": 15,
    "start_time": "2023-01-12T15:32:24.837Z"
   },
   {
    "duration": 79,
    "start_time": "2023-01-12T15:32:37.554Z"
   },
   {
    "duration": 11,
    "start_time": "2023-01-12T15:32:42.536Z"
   },
   {
    "duration": 17,
    "start_time": "2023-01-12T15:33:29.146Z"
   },
   {
    "duration": 14,
    "start_time": "2023-01-12T15:34:11.241Z"
   },
   {
    "duration": 14,
    "start_time": "2023-01-12T15:34:54.772Z"
   },
   {
    "duration": 488,
    "start_time": "2023-01-12T15:35:02.549Z"
   },
   {
    "duration": 24,
    "start_time": "2023-01-12T15:35:03.040Z"
   },
   {
    "duration": 16,
    "start_time": "2023-01-12T15:35:03.066Z"
   },
   {
    "duration": 35,
    "start_time": "2023-01-12T15:35:03.084Z"
   },
   {
    "duration": 66,
    "start_time": "2023-01-12T15:35:03.122Z"
   },
   {
    "duration": 6,
    "start_time": "2023-01-12T15:35:03.190Z"
   },
   {
    "duration": 37,
    "start_time": "2023-01-12T15:35:03.198Z"
   },
   {
    "duration": 8,
    "start_time": "2023-01-12T15:35:03.237Z"
   },
   {
    "duration": 12,
    "start_time": "2023-01-12T15:35:03.247Z"
   },
   {
    "duration": 5,
    "start_time": "2023-01-12T15:35:03.261Z"
   },
   {
    "duration": 56,
    "start_time": "2023-01-12T15:35:03.268Z"
   },
   {
    "duration": 10,
    "start_time": "2023-01-12T15:35:03.326Z"
   },
   {
    "duration": 4,
    "start_time": "2023-01-12T15:35:03.338Z"
   },
   {
    "duration": 11,
    "start_time": "2023-01-12T15:35:03.345Z"
   },
   {
    "duration": 24,
    "start_time": "2023-01-12T15:35:03.358Z"
   },
   {
    "duration": 49,
    "start_time": "2023-01-12T15:35:03.384Z"
   },
   {
    "duration": 5,
    "start_time": "2023-01-12T15:35:03.435Z"
   },
   {
    "duration": 18,
    "start_time": "2023-01-12T15:35:03.442Z"
   },
   {
    "duration": 7,
    "start_time": "2023-01-12T15:35:03.462Z"
   },
   {
    "duration": 4,
    "start_time": "2023-01-12T15:35:03.471Z"
   },
   {
    "duration": 36,
    "start_time": "2023-01-12T15:35:03.477Z"
   },
   {
    "duration": 12,
    "start_time": "2023-01-12T15:35:03.515Z"
   },
   {
    "duration": 8,
    "start_time": "2023-01-12T15:35:03.529Z"
   },
   {
    "duration": 13,
    "start_time": "2023-01-12T15:35:03.539Z"
   },
   {
    "duration": 10,
    "start_time": "2023-01-12T15:35:03.553Z"
   },
   {
    "duration": 12,
    "start_time": "2023-01-12T15:40:30.818Z"
   },
   {
    "duration": 14,
    "start_time": "2023-01-12T15:40:37.874Z"
   },
   {
    "duration": 431,
    "start_time": "2023-01-12T15:43:34.076Z"
   },
   {
    "duration": 22,
    "start_time": "2023-01-12T15:43:34.509Z"
   },
   {
    "duration": 13,
    "start_time": "2023-01-12T15:43:34.533Z"
   },
   {
    "duration": 8,
    "start_time": "2023-01-12T15:43:34.548Z"
   },
   {
    "duration": 30,
    "start_time": "2023-01-12T15:43:34.558Z"
   },
   {
    "duration": 24,
    "start_time": "2023-01-12T15:43:34.590Z"
   },
   {
    "duration": 17,
    "start_time": "2023-01-12T15:43:34.616Z"
   },
   {
    "duration": 5,
    "start_time": "2023-01-12T15:43:34.635Z"
   },
   {
    "duration": 11,
    "start_time": "2023-01-12T15:43:34.642Z"
   },
   {
    "duration": 8,
    "start_time": "2023-01-12T15:43:34.655Z"
   },
   {
    "duration": 53,
    "start_time": "2023-01-12T15:43:34.665Z"
   },
   {
    "duration": 11,
    "start_time": "2023-01-12T15:43:34.720Z"
   },
   {
    "duration": 3,
    "start_time": "2023-01-12T15:43:34.733Z"
   },
   {
    "duration": 14,
    "start_time": "2023-01-12T15:43:34.739Z"
   },
   {
    "duration": 18,
    "start_time": "2023-01-12T15:43:34.755Z"
   },
   {
    "duration": 41,
    "start_time": "2023-01-12T15:43:34.774Z"
   },
   {
    "duration": 4,
    "start_time": "2023-01-12T15:43:34.816Z"
   },
   {
    "duration": 13,
    "start_time": "2023-01-12T15:43:34.821Z"
   },
   {
    "duration": 10,
    "start_time": "2023-01-12T15:43:34.835Z"
   },
   {
    "duration": 10,
    "start_time": "2023-01-12T15:43:34.846Z"
   },
   {
    "duration": 12,
    "start_time": "2023-01-12T15:43:34.857Z"
   },
   {
    "duration": 12,
    "start_time": "2023-01-12T15:43:34.871Z"
   },
   {
    "duration": 6,
    "start_time": "2023-01-12T15:43:34.885Z"
   },
   {
    "duration": 29,
    "start_time": "2023-01-12T15:43:34.893Z"
   },
   {
    "duration": 10,
    "start_time": "2023-01-12T15:43:34.923Z"
   },
   {
    "duration": 50,
    "start_time": "2023-01-12T18:14:41.648Z"
   },
   {
    "duration": 492,
    "start_time": "2023-01-12T18:14:50.863Z"
   },
   {
    "duration": 22,
    "start_time": "2023-01-12T18:14:51.357Z"
   },
   {
    "duration": 26,
    "start_time": "2023-01-12T18:14:51.381Z"
   },
   {
    "duration": 10,
    "start_time": "2023-01-12T18:14:51.410Z"
   },
   {
    "duration": 54,
    "start_time": "2023-01-12T18:14:51.422Z"
   },
   {
    "duration": 4,
    "start_time": "2023-01-12T18:14:51.478Z"
   },
   {
    "duration": 14,
    "start_time": "2023-01-12T18:14:51.484Z"
   },
   {
    "duration": 9,
    "start_time": "2023-01-12T18:14:51.500Z"
   },
   {
    "duration": 21,
    "start_time": "2023-01-12T18:14:51.511Z"
   },
   {
    "duration": 18,
    "start_time": "2023-01-12T18:14:51.534Z"
   },
   {
    "duration": 46,
    "start_time": "2023-01-12T18:14:51.555Z"
   },
   {
    "duration": 15,
    "start_time": "2023-01-12T18:14:51.603Z"
   },
   {
    "duration": 4,
    "start_time": "2023-01-12T18:14:51.620Z"
   },
   {
    "duration": 15,
    "start_time": "2023-01-12T18:14:51.626Z"
   },
   {
    "duration": 21,
    "start_time": "2023-01-12T18:14:51.651Z"
   },
   {
    "duration": 18,
    "start_time": "2023-01-12T18:14:51.674Z"
   },
   {
    "duration": 4,
    "start_time": "2023-01-12T18:14:51.693Z"
   },
   {
    "duration": 24,
    "start_time": "2023-01-12T18:14:51.699Z"
   },
   {
    "duration": 22,
    "start_time": "2023-01-12T18:14:51.725Z"
   },
   {
    "duration": 4,
    "start_time": "2023-01-12T18:14:51.748Z"
   },
   {
    "duration": 26,
    "start_time": "2023-01-12T18:14:51.753Z"
   },
   {
    "duration": 22,
    "start_time": "2023-01-12T18:14:51.781Z"
   },
   {
    "duration": 21,
    "start_time": "2023-01-12T18:14:51.805Z"
   },
   {
    "duration": 66,
    "start_time": "2023-01-12T18:14:51.828Z"
   },
   {
    "duration": 0,
    "start_time": "2023-01-12T18:14:51.895Z"
   },
   {
    "duration": 0,
    "start_time": "2023-01-12T18:14:51.897Z"
   },
   {
    "duration": 0,
    "start_time": "2023-01-12T18:14:51.898Z"
   },
   {
    "duration": 0,
    "start_time": "2023-01-12T18:14:51.899Z"
   },
   {
    "duration": 20,
    "start_time": "2023-01-12T18:15:03.247Z"
   },
   {
    "duration": 79,
    "start_time": "2023-01-13T13:16:33.942Z"
   },
   {
    "duration": 503,
    "start_time": "2023-01-13T13:16:40.416Z"
   },
   {
    "duration": 21,
    "start_time": "2023-01-13T13:16:40.921Z"
   },
   {
    "duration": 15,
    "start_time": "2023-01-13T13:16:40.944Z"
   },
   {
    "duration": 23,
    "start_time": "2023-01-13T13:16:40.961Z"
   },
   {
    "duration": 81,
    "start_time": "2023-01-13T13:16:40.987Z"
   },
   {
    "duration": 5,
    "start_time": "2023-01-13T13:16:41.070Z"
   },
   {
    "duration": 53,
    "start_time": "2023-01-13T13:16:41.077Z"
   },
   {
    "duration": 18,
    "start_time": "2023-01-13T13:16:41.132Z"
   },
   {
    "duration": 49,
    "start_time": "2023-01-13T13:16:41.152Z"
   },
   {
    "duration": 14,
    "start_time": "2023-01-13T13:16:41.204Z"
   },
   {
    "duration": 78,
    "start_time": "2023-01-13T13:16:41.220Z"
   },
   {
    "duration": 17,
    "start_time": "2023-01-13T13:16:41.299Z"
   },
   {
    "duration": 23,
    "start_time": "2023-01-13T13:16:41.319Z"
   },
   {
    "duration": 30,
    "start_time": "2023-01-13T13:16:41.346Z"
   },
   {
    "duration": 59,
    "start_time": "2023-01-13T13:16:41.378Z"
   },
   {
    "duration": 26,
    "start_time": "2023-01-13T13:16:41.439Z"
   },
   {
    "duration": 25,
    "start_time": "2023-01-13T13:16:41.467Z"
   },
   {
    "duration": 41,
    "start_time": "2023-01-13T13:16:41.495Z"
   },
   {
    "duration": 53,
    "start_time": "2023-01-13T13:16:41.538Z"
   },
   {
    "duration": 33,
    "start_time": "2023-01-13T13:16:41.593Z"
   },
   {
    "duration": 34,
    "start_time": "2023-01-13T13:16:41.627Z"
   },
   {
    "duration": 72,
    "start_time": "2023-01-13T13:16:41.663Z"
   },
   {
    "duration": 11,
    "start_time": "2023-01-13T13:16:41.738Z"
   },
   {
    "duration": 31,
    "start_time": "2023-01-13T13:16:41.751Z"
   },
   {
    "duration": 39,
    "start_time": "2023-01-13T13:16:41.784Z"
   },
   {
    "duration": 15,
    "start_time": "2023-01-13T13:17:06.242Z"
   }
  ],
  "colab": {
   "name": "dpp_template_part2.ipynb",
   "provenance": []
  },
  "kernelspec": {
   "display_name": "Python 3 (ipykernel)",
   "language": "python",
   "name": "python3"
  },
  "language_info": {
   "codemirror_mode": {
    "name": "ipython",
    "version": 3
   },
   "file_extension": ".py",
   "mimetype": "text/x-python",
   "name": "python",
   "nbconvert_exporter": "python",
   "pygments_lexer": "ipython3",
   "version": "3.9.5"
  },
  "toc": {
   "base_numbering": 1,
   "nav_menu": {},
   "number_sections": true,
   "sideBar": true,
   "skip_h1_title": true,
   "title_cell": "Table of Contents",
   "title_sidebar": "Contents",
   "toc_cell": false,
   "toc_position": {},
   "toc_section_display": true,
   "toc_window_display": false
  }
 },
 "nbformat": 4,
 "nbformat_minor": 5
}
