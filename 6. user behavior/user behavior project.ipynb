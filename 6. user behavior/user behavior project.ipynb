{
 "cells": [
  {
   "cell_type": "markdown",
   "metadata": {},
   "source": [
    "# Рекомендация тарифов"
   ]
  },
  {
   "cell_type": "markdown",
   "metadata": {},
   "source": [
    "# Описание проекта\n",
    "Оператор мобильной связи выяснил: многие клиенты пользуются архивными тарифами. Они хотят построить систему, способную проанализировать поведение клиентов и предложить пользователям новый тариф: «Смарт» или «Ультра».\n",
    "\n",
    "В нашем распоряжении данные о поведении клиентов, которые уже перешли на эти тарифы. Нужно построить модель для задачи классификации, которая выберет подходящий тариф.\n",
    "\n",
    "Найдем модель с максимально большим значением accuracy."
   ]
  },
  {
   "cell_type": "markdown",
   "metadata": {},
   "source": [
    "### Описание данных\n",
    "\n",
    "Каждый объект в наборе данных — это информация о поведении одного пользователя за месяц. \n",
    "\n",
    "Известно:\n",
    "- сalls — количество звонков,\n",
    "- minutes — суммарная длительность звонков в минутах,\n",
    "- messages — количество sms-сообщений,\n",
    "- mb_used — израсходованный интернет-трафик в Мб,\n",
    "-  is_ultra — каким тарифом пользовался в течение месяца («Ультра» — 1, «Смарт» — 0)."
   ]
  },
  {
   "cell_type": "code",
   "execution_count": 1,
   "metadata": {},
   "outputs": [],
   "source": [
    "import pandas as pd\n",
    "import numpy as np\n",
    "\n",
    "from sklearn.model_selection import train_test_split\n",
    "\n",
    "from sklearn.tree import DecisionTreeClassifier\n",
    "from sklearn.ensemble import RandomForestClassifier\n",
    "from sklearn.dummy import DummyClassifier\n",
    "\n",
    "import sklearn.metrics\n",
    "from sklearn.metrics import mean_squared_error\n",
    "from sklearn.metrics import accuracy_score"
   ]
  },
  {
   "cell_type": "markdown",
   "metadata": {},
   "source": [
    "### Загружаем файл"
   ]
  },
  {
   "cell_type": "code",
   "execution_count": 2,
   "metadata": {},
   "outputs": [],
   "source": [
    "try:\n",
    "    df = pd.read_csv('users_behavior.csv')\n",
    "except:\n",
    "    df = pd.read_csv('...')"
   ]
  },
  {
   "cell_type": "markdown",
   "metadata": {},
   "source": [
    "### Ознакамливаемся с данными"
   ]
  },
  {
   "cell_type": "code",
   "execution_count": 3,
   "metadata": {},
   "outputs": [
    {
     "data": {
      "text/html": [
       "<div>\n",
       "<style scoped>\n",
       "    .dataframe tbody tr th:only-of-type {\n",
       "        vertical-align: middle;\n",
       "    }\n",
       "\n",
       "    .dataframe tbody tr th {\n",
       "        vertical-align: top;\n",
       "    }\n",
       "\n",
       "    .dataframe thead th {\n",
       "        text-align: right;\n",
       "    }\n",
       "</style>\n",
       "<table border=\"1\" class=\"dataframe\">\n",
       "  <thead>\n",
       "    <tr style=\"text-align: right;\">\n",
       "      <th></th>\n",
       "      <th>calls</th>\n",
       "      <th>minutes</th>\n",
       "      <th>messages</th>\n",
       "      <th>mb_used</th>\n",
       "      <th>is_ultra</th>\n",
       "    </tr>\n",
       "  </thead>\n",
       "  <tbody>\n",
       "    <tr>\n",
       "      <th>0</th>\n",
       "      <td>40.0</td>\n",
       "      <td>311.90</td>\n",
       "      <td>83.0</td>\n",
       "      <td>19915.42</td>\n",
       "      <td>0</td>\n",
       "    </tr>\n",
       "    <tr>\n",
       "      <th>1</th>\n",
       "      <td>85.0</td>\n",
       "      <td>516.75</td>\n",
       "      <td>56.0</td>\n",
       "      <td>22696.96</td>\n",
       "      <td>0</td>\n",
       "    </tr>\n",
       "    <tr>\n",
       "      <th>2</th>\n",
       "      <td>77.0</td>\n",
       "      <td>467.66</td>\n",
       "      <td>86.0</td>\n",
       "      <td>21060.45</td>\n",
       "      <td>0</td>\n",
       "    </tr>\n",
       "    <tr>\n",
       "      <th>3</th>\n",
       "      <td>106.0</td>\n",
       "      <td>745.53</td>\n",
       "      <td>81.0</td>\n",
       "      <td>8437.39</td>\n",
       "      <td>1</td>\n",
       "    </tr>\n",
       "    <tr>\n",
       "      <th>4</th>\n",
       "      <td>66.0</td>\n",
       "      <td>418.74</td>\n",
       "      <td>1.0</td>\n",
       "      <td>14502.75</td>\n",
       "      <td>0</td>\n",
       "    </tr>\n",
       "    <tr>\n",
       "      <th>5</th>\n",
       "      <td>58.0</td>\n",
       "      <td>344.56</td>\n",
       "      <td>21.0</td>\n",
       "      <td>15823.37</td>\n",
       "      <td>0</td>\n",
       "    </tr>\n",
       "    <tr>\n",
       "      <th>6</th>\n",
       "      <td>57.0</td>\n",
       "      <td>431.64</td>\n",
       "      <td>20.0</td>\n",
       "      <td>3738.90</td>\n",
       "      <td>1</td>\n",
       "    </tr>\n",
       "    <tr>\n",
       "      <th>7</th>\n",
       "      <td>15.0</td>\n",
       "      <td>132.40</td>\n",
       "      <td>6.0</td>\n",
       "      <td>21911.60</td>\n",
       "      <td>0</td>\n",
       "    </tr>\n",
       "    <tr>\n",
       "      <th>8</th>\n",
       "      <td>7.0</td>\n",
       "      <td>43.39</td>\n",
       "      <td>3.0</td>\n",
       "      <td>2538.67</td>\n",
       "      <td>1</td>\n",
       "    </tr>\n",
       "    <tr>\n",
       "      <th>9</th>\n",
       "      <td>90.0</td>\n",
       "      <td>665.41</td>\n",
       "      <td>38.0</td>\n",
       "      <td>17358.61</td>\n",
       "      <td>0</td>\n",
       "    </tr>\n",
       "  </tbody>\n",
       "</table>\n",
       "</div>"
      ],
      "text/plain": [
       "   calls  minutes  messages   mb_used  is_ultra\n",
       "0   40.0   311.90      83.0  19915.42         0\n",
       "1   85.0   516.75      56.0  22696.96         0\n",
       "2   77.0   467.66      86.0  21060.45         0\n",
       "3  106.0   745.53      81.0   8437.39         1\n",
       "4   66.0   418.74       1.0  14502.75         0\n",
       "5   58.0   344.56      21.0  15823.37         0\n",
       "6   57.0   431.64      20.0   3738.90         1\n",
       "7   15.0   132.40       6.0  21911.60         0\n",
       "8    7.0    43.39       3.0   2538.67         1\n",
       "9   90.0   665.41      38.0  17358.61         0"
      ]
     },
     "execution_count": 3,
     "metadata": {},
     "output_type": "execute_result"
    }
   ],
   "source": [
    "df.head(10)"
   ]
  },
  {
   "cell_type": "markdown",
   "metadata": {},
   "source": [
    "### Смотрим тип данных и пропуски"
   ]
  },
  {
   "cell_type": "code",
   "execution_count": 4,
   "metadata": {},
   "outputs": [
    {
     "name": "stdout",
     "output_type": "stream",
     "text": [
      "<class 'pandas.core.frame.DataFrame'>\n",
      "RangeIndex: 3214 entries, 0 to 3213\n",
      "Data columns (total 5 columns):\n",
      " #   Column    Non-Null Count  Dtype  \n",
      "---  ------    --------------  -----  \n",
      " 0   calls     3214 non-null   float64\n",
      " 1   minutes   3214 non-null   float64\n",
      " 2   messages  3214 non-null   float64\n",
      " 3   mb_used   3214 non-null   float64\n",
      " 4   is_ultra  3214 non-null   int64  \n",
      "dtypes: float64(4), int64(1)\n",
      "memory usage: 125.7 KB\n"
     ]
    }
   ],
   "source": [
    "df.info()"
   ]
  },
  {
   "cell_type": "markdown",
   "metadata": {},
   "source": [
    "### Разбиваем данные на признаки и целевой признак"
   ]
  },
  {
   "cell_type": "code",
   "execution_count": 5,
   "metadata": {},
   "outputs": [],
   "source": [
    "features = df.drop(['is_ultra'], axis=1)\n",
    "target = df['is_ultra']"
   ]
  },
  {
   "cell_type": "markdown",
   "metadata": {},
   "source": [
    "### Проверяем полученные таблицы"
   ]
  },
  {
   "cell_type": "code",
   "execution_count": 6,
   "metadata": {},
   "outputs": [
    {
     "data": {
      "text/html": [
       "<div>\n",
       "<style scoped>\n",
       "    .dataframe tbody tr th:only-of-type {\n",
       "        vertical-align: middle;\n",
       "    }\n",
       "\n",
       "    .dataframe tbody tr th {\n",
       "        vertical-align: top;\n",
       "    }\n",
       "\n",
       "    .dataframe thead th {\n",
       "        text-align: right;\n",
       "    }\n",
       "</style>\n",
       "<table border=\"1\" class=\"dataframe\">\n",
       "  <thead>\n",
       "    <tr style=\"text-align: right;\">\n",
       "      <th></th>\n",
       "      <th>calls</th>\n",
       "      <th>minutes</th>\n",
       "      <th>messages</th>\n",
       "      <th>mb_used</th>\n",
       "    </tr>\n",
       "  </thead>\n",
       "  <tbody>\n",
       "    <tr>\n",
       "      <th>0</th>\n",
       "      <td>40.0</td>\n",
       "      <td>311.90</td>\n",
       "      <td>83.0</td>\n",
       "      <td>19915.42</td>\n",
       "    </tr>\n",
       "    <tr>\n",
       "      <th>1</th>\n",
       "      <td>85.0</td>\n",
       "      <td>516.75</td>\n",
       "      <td>56.0</td>\n",
       "      <td>22696.96</td>\n",
       "    </tr>\n",
       "    <tr>\n",
       "      <th>2</th>\n",
       "      <td>77.0</td>\n",
       "      <td>467.66</td>\n",
       "      <td>86.0</td>\n",
       "      <td>21060.45</td>\n",
       "    </tr>\n",
       "    <tr>\n",
       "      <th>3</th>\n",
       "      <td>106.0</td>\n",
       "      <td>745.53</td>\n",
       "      <td>81.0</td>\n",
       "      <td>8437.39</td>\n",
       "    </tr>\n",
       "    <tr>\n",
       "      <th>4</th>\n",
       "      <td>66.0</td>\n",
       "      <td>418.74</td>\n",
       "      <td>1.0</td>\n",
       "      <td>14502.75</td>\n",
       "    </tr>\n",
       "  </tbody>\n",
       "</table>\n",
       "</div>"
      ],
      "text/plain": [
       "   calls  minutes  messages   mb_used\n",
       "0   40.0   311.90      83.0  19915.42\n",
       "1   85.0   516.75      56.0  22696.96\n",
       "2   77.0   467.66      86.0  21060.45\n",
       "3  106.0   745.53      81.0   8437.39\n",
       "4   66.0   418.74       1.0  14502.75"
      ]
     },
     "execution_count": 6,
     "metadata": {},
     "output_type": "execute_result"
    }
   ],
   "source": [
    "features.head()"
   ]
  },
  {
   "cell_type": "code",
   "execution_count": 7,
   "metadata": {},
   "outputs": [
    {
     "data": {
      "text/plain": [
       "0    0\n",
       "1    0\n",
       "2    0\n",
       "3    1\n",
       "4    0\n",
       "Name: is_ultra, dtype: int64"
      ]
     },
     "execution_count": 7,
     "metadata": {},
     "output_type": "execute_result"
    }
   ],
   "source": [
    "target.head()"
   ]
  },
  {
   "cell_type": "markdown",
   "metadata": {},
   "source": [
    "### Разделяем данные на выборки"
   ]
  },
  {
   "cell_type": "code",
   "execution_count": 8,
   "metadata": {},
   "outputs": [],
   "source": [
    "features_train, features_test, target_train, target_test = train_test_split(\n",
    "    features, target, test_size=.25, random_state=12345)"
   ]
  },
  {
   "cell_type": "code",
   "execution_count": 9,
   "metadata": {},
   "outputs": [],
   "source": [
    "features_test, features_val, target_test, target_val = train_test_split(\n",
    "    features_test, target_test, test_size=.5, random_state=12345)"
   ]
  },
  {
   "cell_type": "code",
   "execution_count": 10,
   "metadata": {},
   "outputs": [
    {
     "name": "stdout",
     "output_type": "stream",
     "text": [
      "(2410, 4)\n",
      "(402, 4)\n",
      "(402, 4)\n",
      "(2410,)\n",
      "(402,)\n",
      "(402,)\n"
     ]
    }
   ],
   "source": [
    "print(features_train.shape)\n",
    "print(features_test.shape)\n",
    "print(features_val.shape)\n",
    "print(target_train.shape)\n",
    "print(target_test.shape)\n",
    "print(target_val.shape)"
   ]
  },
  {
   "cell_type": "markdown",
   "metadata": {},
   "source": [
    "Получаем следующие выборки: обучающая (75%), валидационная (12.5%) и тестовая (12.5%)."
   ]
  },
  {
   "cell_type": "markdown",
   "metadata": {},
   "source": [
    "## Исследуем модели"
   ]
  },
  {
   "cell_type": "markdown",
   "metadata": {},
   "source": [
    "### Решающее дерево"
   ]
  },
  {
   "cell_type": "code",
   "execution_count": 11,
   "metadata": {},
   "outputs": [
    {
     "name": "stdout",
     "output_type": "stream",
     "text": [
      "Accuracy наилучшей модели на валидационной выборке: 0.7786069651741293 Глубина дерева: 3\n"
     ]
    }
   ],
   "source": [
    "best_tree_model = None\n",
    "best_tree_result = 0\n",
    "best_tree_depth = 0\n",
    "for tree_depth in range(1, 4):\n",
    "    tree_model = DecisionTreeClassifier(random_state=12345, max_depth=tree_depth)\n",
    "    tree_model.fit(features_train, target_train)\n",
    "    tree_predictions_val = tree_model.predict(features_val)\n",
    "    tree_result = accuracy_score(target_val, tree_predictions_val)\n",
    "    if tree_result > best_tree_result:\n",
    "        best_tree_model = tree_model\n",
    "        best_tree_result = tree_result\n",
    "        best_tree_depth = tree_depth\n",
    "print(\"Accuracy наилучшей модели на валидационной выборке:\", best_tree_result, \"Глубина дерева:\", best_tree_depth)"
   ]
  },
  {
   "cell_type": "markdown",
   "metadata": {},
   "source": [
    "### Случайный лес"
   ]
  },
  {
   "cell_type": "code",
   "execution_count": 12,
   "metadata": {},
   "outputs": [
    {
     "name": "stdout",
     "output_type": "stream",
     "text": [
      "Accuracy наилучшей модели на валидационной выборке: 0.8109452736318408 Количество деревьев: 30 Максимальная глубина: 9\n"
     ]
    }
   ],
   "source": [
    "best_forest_model = None\n",
    "best_forest_result = 0\n",
    "best_forest_est = 0\n",
    "best_forest_depth = 0\n",
    "for forest_est in range(10, 51, 10):\n",
    "    for forest_depth in range (1, 11):\n",
    "        forest_model = RandomForestClassifier(random_state=12345, n_estimators=forest_est, max_depth=forest_depth)\n",
    "        forest_model.fit(features_train, target_train)\n",
    "        forest_predictions_val = forest_model.predict(features_val)\n",
    "        forest_result = accuracy_score(target_val, forest_predictions_val)\n",
    "        if forest_result > best_forest_result:\n",
    "            best_forest_model = forest_model\n",
    "            best_forest_result = forest_result\n",
    "            best_forest_est = forest_est\n",
    "            best_forest_depth = forest_depth\n",
    "\n",
    "print(\"Accuracy наилучшей модели на валидационной выборке:\", best_forest_result, \n",
    "      \"Количество деревьев:\", best_forest_est, \"Максимальная глубина:\", best_forest_depth)"
   ]
  },
  {
   "cell_type": "markdown",
   "metadata": {},
   "source": [
    "- Была исследована эффективность 2-х моделей: решающее дерево и случайный лес.\n",
    "- Для решающего дерева были проанализированы глубины с 1 до 5, глубина 3 имела максимальный accuracy.\n",
    "- Для случайного леса были проанализированы десятки деревьев от 10 до 50 и глубины с 1 до 10. Самым эффективным оказалось 30 деревьев с максимальной глубиной равной 9.\n",
    "- Из двух моделей случайный лес показал большую эффективность, accuracy равнялся ~81%."
   ]
  },
  {
   "cell_type": "markdown",
   "metadata": {},
   "source": [
    "## Проверяем модель на тестовой выборке"
   ]
  },
  {
   "cell_type": "code",
   "execution_count": 13,
   "metadata": {},
   "outputs": [
    {
     "name": "stdout",
     "output_type": "stream",
     "text": [
      "Accuracy наилучшей модели на тестовой выборке: 0.8084577114427861\n"
     ]
    }
   ],
   "source": [
    "final_forest_model = RandomForestClassifier(random_state=12345, n_estimators=30, max_depth=9)\n",
    "final_forest_model.fit (features_train, target_train)\n",
    "final_forest_prediction = final_forest_model.predict(features_test)\n",
    "final_forest_result = accuracy_score(target_test, final_forest_prediction)\n",
    "print('Accuracy наилучшей модели на тестовой выборке:', final_forest_result)"
   ]
  },
  {
   "cell_type": "markdown",
   "metadata": {},
   "source": [
    "## Проверяем модели на адекватность"
   ]
  },
  {
   "cell_type": "markdown",
   "metadata": {},
   "source": [
    "### Проверим модель на адекватность при сравнении с DummyClassifier"
   ]
  },
  {
   "cell_type": "code",
   "execution_count": 14,
   "metadata": {},
   "outputs": [],
   "source": [
    "dummy_clf = DummyClassifier(random_state=12345, strategy=\"most_frequent\")\n",
    "dummy_clf.fit(features_train, target_train)\n",
    "dummy_prediction = dummy_clf.predict(features_test)\n",
    "dummy_score = accuracy_score(target_test, dummy_prediction)"
   ]
  },
  {
   "cell_type": "markdown",
   "metadata": {},
   "source": [
    "### Создадим матрицу ошибок для бинарной классификации"
   ]
  },
  {
   "cell_type": "markdown",
   "metadata": {},
   "source": [
    "#### RandomForestClassifier"
   ]
  },
  {
   "cell_type": "code",
   "execution_count": 15,
   "metadata": {},
   "outputs": [
    {
     "data": {
      "text/html": [
       "<div>\n",
       "<style scoped>\n",
       "    .dataframe tbody tr th:only-of-type {\n",
       "        vertical-align: middle;\n",
       "    }\n",
       "\n",
       "    .dataframe tbody tr th {\n",
       "        vertical-align: top;\n",
       "    }\n",
       "\n",
       "    .dataframe thead th {\n",
       "        text-align: right;\n",
       "    }\n",
       "</style>\n",
       "<table border=\"1\" class=\"dataframe\">\n",
       "  <thead>\n",
       "    <tr style=\"text-align: right;\">\n",
       "      <th></th>\n",
       "      <th>+Positive</th>\n",
       "      <th>-Negative</th>\n",
       "    </tr>\n",
       "  </thead>\n",
       "  <tbody>\n",
       "    <tr>\n",
       "      <th>+Positive</th>\n",
       "      <td>63</td>\n",
       "      <td>59</td>\n",
       "    </tr>\n",
       "    <tr>\n",
       "      <th>-Negative</th>\n",
       "      <td>18</td>\n",
       "      <td>262</td>\n",
       "    </tr>\n",
       "  </tbody>\n",
       "</table>\n",
       "</div>"
      ],
      "text/plain": [
       "           +Positive  -Negative\n",
       "+Positive         63         59\n",
       "-Negative         18        262"
      ]
     },
     "execution_count": 15,
     "metadata": {},
     "output_type": "execute_result"
    }
   ],
   "source": [
    "confusion_matrix = sklearn.metrics.confusion_matrix(target_test, final_forest_prediction)\n",
    "confusion_matrix = np.flip(confusion_matrix)\n",
    "confusion_matrix = pd.DataFrame(confusion_matrix, columns = ['+Positive', '-Negative'])\n",
    "confusion_matrix.set_index(pd.Index(['+Positive', '-Negative']))"
   ]
  },
  {
   "cell_type": "code",
   "execution_count": 16,
   "metadata": {},
   "outputs": [
    {
     "name": "stdout",
     "output_type": "stream",
     "text": [
      "15.671641791044777 14.676616915422885 4.477611940298507 65.17412935323384\n"
     ]
    }
   ],
   "source": [
    "true_positive = 63 / len(final_forest_prediction) * 100\n",
    "false_negative = 59 / len(final_forest_prediction) * 100\n",
    "false_positive = 18 / len(final_forest_prediction) * 100\n",
    "true_negative = 262 / len(final_forest_prediction) * 100\n",
    "\n",
    "print(true_positive, false_negative, false_positive, true_negative)"
   ]
  },
  {
   "cell_type": "markdown",
   "metadata": {},
   "source": [
    "64 раз, ~16% модель правильно классифицировала Positive как Positive.\n",
    "\n",
    "58 раз, ~14% модель неправильно классифицировала Positive как Negative.\n",
    "\n",
    "18 раза, ~5% модель неправильно классифицировала Negative как Positive.\n",
    "\n",
    "262 раз, ~65% модель правильно классифицировала Negative как Negative."
   ]
  },
  {
   "cell_type": "markdown",
   "metadata": {},
   "source": [
    "#### DummyClassifier"
   ]
  },
  {
   "cell_type": "code",
   "execution_count": 17,
   "metadata": {},
   "outputs": [
    {
     "data": {
      "text/html": [
       "<div>\n",
       "<style scoped>\n",
       "    .dataframe tbody tr th:only-of-type {\n",
       "        vertical-align: middle;\n",
       "    }\n",
       "\n",
       "    .dataframe tbody tr th {\n",
       "        vertical-align: top;\n",
       "    }\n",
       "\n",
       "    .dataframe thead th {\n",
       "        text-align: right;\n",
       "    }\n",
       "</style>\n",
       "<table border=\"1\" class=\"dataframe\">\n",
       "  <thead>\n",
       "    <tr style=\"text-align: right;\">\n",
       "      <th></th>\n",
       "      <th>+Positive</th>\n",
       "      <th>-Negative</th>\n",
       "    </tr>\n",
       "  </thead>\n",
       "  <tbody>\n",
       "    <tr>\n",
       "      <th>+Positive</th>\n",
       "      <td>0</td>\n",
       "      <td>122</td>\n",
       "    </tr>\n",
       "    <tr>\n",
       "      <th>-Negative</th>\n",
       "      <td>0</td>\n",
       "      <td>280</td>\n",
       "    </tr>\n",
       "  </tbody>\n",
       "</table>\n",
       "</div>"
      ],
      "text/plain": [
       "           +Positive  -Negative\n",
       "+Positive          0        122\n",
       "-Negative          0        280"
      ]
     },
     "execution_count": 17,
     "metadata": {},
     "output_type": "execute_result"
    }
   ],
   "source": [
    "confusion_matrix = sklearn.metrics.confusion_matrix(target_test, dummy_prediction)\n",
    "confusion_matrix = np.flip(confusion_matrix)\n",
    "confusion_matrix = pd.DataFrame(confusion_matrix, columns = ['+Positive', '-Negative'])\n",
    "confusion_matrix.set_index(pd.Index(['+Positive', '-Negative']))"
   ]
  },
  {
   "cell_type": "markdown",
   "metadata": {},
   "source": [
    "Видим, что DummyClassifier фиксирует все ответы, аналогично самым популярным, в нашем случае - 0 или негативными."
   ]
  },
  {
   "cell_type": "markdown",
   "metadata": {},
   "source": [
    "### Проверим Accuracy"
   ]
  },
  {
   "cell_type": "markdown",
   "metadata": {},
   "source": [
    "#### RandomForestClassifier"
   ]
  },
  {
   "cell_type": "code",
   "execution_count": 18,
   "metadata": {},
   "outputs": [
    {
     "data": {
      "text/plain": [
       "0.8084577114427861"
      ]
     },
     "execution_count": 18,
     "metadata": {},
     "output_type": "execute_result"
    }
   ],
   "source": [
    "final_forest_result"
   ]
  },
  {
   "cell_type": "markdown",
   "metadata": {},
   "source": [
    "Модель показывает ~81% точности предсказаний."
   ]
  },
  {
   "cell_type": "markdown",
   "metadata": {},
   "source": [
    "#### DummyClassifier"
   ]
  },
  {
   "cell_type": "code",
   "execution_count": 19,
   "metadata": {},
   "outputs": [
    {
     "data": {
      "text/plain": [
       "0.6965174129353234"
      ]
     },
     "execution_count": 19,
     "metadata": {},
     "output_type": "execute_result"
    }
   ],
   "source": [
    "dummy_score"
   ]
  },
  {
   "cell_type": "markdown",
   "metadata": {},
   "source": [
    "DummyClassifier показывает ~70% точности предсказаний."
   ]
  },
  {
   "cell_type": "markdown",
   "metadata": {},
   "source": [
    "### Проверим Precision"
   ]
  },
  {
   "cell_type": "markdown",
   "metadata": {},
   "source": [
    "#### RandomForestClassifier"
   ]
  },
  {
   "cell_type": "code",
   "execution_count": 20,
   "metadata": {},
   "outputs": [
    {
     "name": "stdout",
     "output_type": "stream",
     "text": [
      "0.7777777777777778\n"
     ]
    }
   ],
   "source": [
    "precision = sklearn.metrics.precision_score(target_test, final_forest_prediction)\n",
    "print(precision)"
   ]
  },
  {
   "cell_type": "markdown",
   "metadata": {},
   "source": [
    "Модель показывает ~78% точности положительных предсказаний.\n",
    "Если модель называет целевой признак положительным, то с вероятностью ~78% это так и есть."
   ]
  },
  {
   "cell_type": "markdown",
   "metadata": {},
   "source": [
    "#### DummyClassifier"
   ]
  },
  {
   "cell_type": "code",
   "execution_count": 21,
   "metadata": {},
   "outputs": [
    {
     "name": "stdout",
     "output_type": "stream",
     "text": [
      "0.0\n"
     ]
    },
    {
     "name": "stderr",
     "output_type": "stream",
     "text": [
      "/Users/sergejvorobev/opt/anaconda3/lib/python3.9/site-packages/sklearn/metrics/_classification.py:1318: UndefinedMetricWarning: Precision is ill-defined and being set to 0.0 due to no predicted samples. Use `zero_division` parameter to control this behavior.\n",
      "  _warn_prf(average, modifier, msg_start, len(result))\n"
     ]
    }
   ],
   "source": [
    "dummy_precision = sklearn.metrics.precision_score(target_test, dummy_prediction)\n",
    "print(dummy_precision)"
   ]
  },
  {
   "cell_type": "markdown",
   "metadata": {},
   "source": [
    "### Проверим Recall"
   ]
  },
  {
   "cell_type": "markdown",
   "metadata": {},
   "source": [
    "#### RandomForestClassifier"
   ]
  },
  {
   "cell_type": "code",
   "execution_count": 22,
   "metadata": {},
   "outputs": [
    {
     "name": "stdout",
     "output_type": "stream",
     "text": [
      "0.5163934426229508\n"
     ]
    }
   ],
   "source": [
    "recall = sklearn.metrics.recall_score(target_test, final_forest_prediction)\n",
    "print(recall)"
   ]
  },
  {
   "cell_type": "markdown",
   "metadata": {},
   "source": [
    "Модель показывает ~52% точности при поиске положительных значений.\n",
    "Модель находит лишь ~52% всех положительных значений. Зная это, мы можем понять, что предсказания по количеству переходов на новый тариф будут ниже, чем фактические показатели."
   ]
  },
  {
   "cell_type": "markdown",
   "metadata": {},
   "source": [
    "#### DummyClassifier"
   ]
  },
  {
   "cell_type": "code",
   "execution_count": 23,
   "metadata": {},
   "outputs": [
    {
     "name": "stdout",
     "output_type": "stream",
     "text": [
      "0.0\n"
     ]
    }
   ],
   "source": [
    "dummy_recall = sklearn.metrics.recall_score(target_test, dummy_prediction)\n",
    "print(dummy_recall)"
   ]
  },
  {
   "cell_type": "markdown",
   "metadata": {},
   "source": [
    "# Выводы\n",
    "- Была исследована эффективность 2-х моделей: решающее дерево и случайный лес.\n",
    "- Для решающего дерева были проанализированы глубины с 1 до 5, глубина 3 имела максимальный accuracy.\n",
    "- Для случайного леса были проанализированы десятки деревьев от 10 до 50 и глубины с 1 до 10. Самым эффективным оказалось 30 деревьев с максимальной глубиной равной 9.\n",
    "- Из двух моделей случайный лес показал большую эффективность, accuracy равнялся ~81%.\n",
    "\n",
    "Данная модель имела следующие показатели:\n",
    "- 64 раз, ~16% модель правильно классифицировала Positive как Positive.\n",
    "- 58 раз, ~14% модель неправильно классифицировала Positive как Negative.\n",
    "- 18 раза, ~5% модель неправильно классифицировала Negative как Positive.\n",
    "- 262 раз, ~65% модель правильно классифицировала Negative как Negative.\n",
    "- Видим, что DummyClassifier фиксирует все ответы, аналогично самым популярным, в нашем случае - 0 или негативными.\n",
    "- Модель показывает ~81% точности предсказаний.\n",
    "- DummyClassifier показывает ~70% точности предсказаний.\n",
    "- Модель показывает ~78% точности положительных предсказаний.\n",
    "- Если модель называет целевой признак положительным, то с вероятностью ~78% это так и есть.\n",
    "- Модель показывает ~52% точности при поиске положительных значений.\n",
    "- Модель находит лишь ~52% всех положительных значений. Зная это, мы можем понять, что предсказания по количеству переходов на новый тариф будут ниже, чем фактические показатели."
   ]
  }
 ],
 "metadata": {
  "ExecuteTimeLog": [
   {
    "duration": 475,
    "start_time": "2023-03-22T14:31:48.027Z"
   },
   {
    "duration": 76,
    "start_time": "2023-03-22T14:32:41.897Z"
   },
   {
    "duration": 32,
    "start_time": "2023-03-22T14:32:51.702Z"
   },
   {
    "duration": 19,
    "start_time": "2023-03-22T14:32:59.932Z"
   },
   {
    "duration": 13,
    "start_time": "2023-03-22T14:33:11.135Z"
   },
   {
    "duration": 5,
    "start_time": "2023-03-22T14:45:56.567Z"
   },
   {
    "duration": 11,
    "start_time": "2023-03-22T14:46:21.426Z"
   },
   {
    "duration": 5,
    "start_time": "2023-03-22T14:46:23.529Z"
   },
   {
    "duration": 76,
    "start_time": "2023-03-22T14:47:21.536Z"
   },
   {
    "duration": 806,
    "start_time": "2023-03-22T14:47:50.029Z"
   },
   {
    "duration": 8,
    "start_time": "2023-03-22T14:47:53.425Z"
   },
   {
    "duration": 1248,
    "start_time": "2023-03-23T09:28:34.658Z"
   },
   {
    "duration": 146,
    "start_time": "2023-03-23T09:28:35.919Z"
   },
   {
    "duration": 24,
    "start_time": "2023-03-23T09:28:36.067Z"
   },
   {
    "duration": 23,
    "start_time": "2023-03-23T09:28:36.111Z"
   },
   {
    "duration": 14,
    "start_time": "2023-03-23T09:28:36.137Z"
   },
   {
    "duration": 14,
    "start_time": "2023-03-23T09:28:36.153Z"
   },
   {
    "duration": 9,
    "start_time": "2023-03-23T09:28:36.168Z"
   },
   {
    "duration": 25,
    "start_time": "2023-03-23T09:28:36.178Z"
   },
   {
    "duration": 177,
    "start_time": "2023-03-23T09:36:10.553Z"
   },
   {
    "duration": 20,
    "start_time": "2023-03-23T09:36:38.286Z"
   },
   {
    "duration": 1172,
    "start_time": "2023-03-27T11:16:24.688Z"
   },
   {
    "duration": 133,
    "start_time": "2023-03-27T11:16:25.863Z"
   },
   {
    "duration": 20,
    "start_time": "2023-03-27T11:16:25.998Z"
   },
   {
    "duration": 12,
    "start_time": "2023-03-27T11:16:26.019Z"
   },
   {
    "duration": 6,
    "start_time": "2023-03-27T11:16:26.033Z"
   },
   {
    "duration": 16,
    "start_time": "2023-03-27T11:16:26.040Z"
   },
   {
    "duration": 7,
    "start_time": "2023-03-27T11:16:26.058Z"
   },
   {
    "duration": 116,
    "start_time": "2023-03-27T11:16:26.067Z"
   },
   {
    "duration": 5,
    "start_time": "2023-03-27T11:16:34.116Z"
   },
   {
    "duration": 54,
    "start_time": "2023-03-27T11:25:15.288Z"
   },
   {
    "duration": 1124,
    "start_time": "2023-03-27T11:25:21.579Z"
   },
   {
    "duration": 182,
    "start_time": "2023-03-27T11:25:22.705Z"
   },
   {
    "duration": 22,
    "start_time": "2023-03-27T11:25:22.889Z"
   },
   {
    "duration": 15,
    "start_time": "2023-03-27T11:25:22.912Z"
   },
   {
    "duration": 4,
    "start_time": "2023-03-27T11:25:22.929Z"
   },
   {
    "duration": 19,
    "start_time": "2023-03-27T11:25:22.934Z"
   },
   {
    "duration": 14,
    "start_time": "2023-03-27T11:25:22.955Z"
   },
   {
    "duration": 7,
    "start_time": "2023-03-27T11:25:22.971Z"
   },
   {
    "duration": 8,
    "start_time": "2023-03-27T11:25:22.979Z"
   },
   {
    "duration": 108,
    "start_time": "2023-03-27T11:26:36.783Z"
   },
   {
    "duration": 21,
    "start_time": "2023-03-27T11:26:48.094Z"
   },
   {
    "duration": 14,
    "start_time": "2023-03-27T11:26:58.300Z"
   },
   {
    "duration": 3,
    "start_time": "2023-03-27T11:27:14.391Z"
   },
   {
    "duration": 15,
    "start_time": "2023-03-27T11:27:16.966Z"
   },
   {
    "duration": 44,
    "start_time": "2023-03-27T11:27:26.913Z"
   },
   {
    "duration": 32,
    "start_time": "2023-03-27T11:28:09.937Z"
   },
   {
    "duration": 33,
    "start_time": "2023-03-27T11:28:29.070Z"
   },
   {
    "duration": 31,
    "start_time": "2023-03-27T11:28:47.734Z"
   },
   {
    "duration": 11,
    "start_time": "2023-03-27T11:30:14.922Z"
   },
   {
    "duration": 12,
    "start_time": "2023-03-27T11:30:27.535Z"
   },
   {
    "duration": 5235,
    "start_time": "2023-03-27T11:30:30.485Z"
   },
   {
    "duration": 30,
    "start_time": "2023-03-27T11:48:36.396Z"
   },
   {
    "duration": 85,
    "start_time": "2023-03-27T11:49:12.892Z"
   },
   {
    "duration": 89,
    "start_time": "2023-03-27T11:49:24.776Z"
   },
   {
    "duration": 82,
    "start_time": "2023-03-27T11:49:38.475Z"
   },
   {
    "duration": 8953,
    "start_time": "2023-03-27T11:50:48.537Z"
   },
   {
    "duration": 1147,
    "start_time": "2023-03-27T11:51:08.943Z"
   },
   {
    "duration": 31,
    "start_time": "2023-03-27T11:51:10.093Z"
   },
   {
    "duration": 19,
    "start_time": "2023-03-27T11:51:10.126Z"
   },
   {
    "duration": 14,
    "start_time": "2023-03-27T11:51:10.147Z"
   },
   {
    "duration": 9,
    "start_time": "2023-03-27T11:51:10.163Z"
   },
   {
    "duration": 18,
    "start_time": "2023-03-27T11:51:10.174Z"
   },
   {
    "duration": 14,
    "start_time": "2023-03-27T11:51:10.194Z"
   },
   {
    "duration": 11,
    "start_time": "2023-03-27T11:51:10.210Z"
   },
   {
    "duration": 11,
    "start_time": "2023-03-27T11:51:10.223Z"
   },
   {
    "duration": 122,
    "start_time": "2023-03-27T11:51:10.236Z"
   },
   {
    "duration": 0,
    "start_time": "2023-03-27T11:51:10.360Z"
   },
   {
    "duration": 1195,
    "start_time": "2023-03-27T11:51:44.087Z"
   },
   {
    "duration": 32,
    "start_time": "2023-03-27T11:51:45.284Z"
   },
   {
    "duration": 22,
    "start_time": "2023-03-27T11:51:45.318Z"
   },
   {
    "duration": 13,
    "start_time": "2023-03-27T11:51:45.341Z"
   },
   {
    "duration": 10,
    "start_time": "2023-03-27T11:51:45.357Z"
   },
   {
    "duration": 17,
    "start_time": "2023-03-27T11:51:45.368Z"
   },
   {
    "duration": 8,
    "start_time": "2023-03-27T11:51:45.387Z"
   },
   {
    "duration": 17,
    "start_time": "2023-03-27T11:51:45.397Z"
   },
   {
    "duration": 17,
    "start_time": "2023-03-27T11:51:45.416Z"
   },
   {
    "duration": 126,
    "start_time": "2023-03-27T11:51:45.435Z"
   },
   {
    "duration": 0,
    "start_time": "2023-03-27T11:51:45.563Z"
   },
   {
    "duration": 1106,
    "start_time": "2023-03-27T11:52:28.790Z"
   },
   {
    "duration": 31,
    "start_time": "2023-03-27T11:52:29.898Z"
   },
   {
    "duration": 26,
    "start_time": "2023-03-27T11:52:29.931Z"
   },
   {
    "duration": 36,
    "start_time": "2023-03-27T11:52:29.959Z"
   },
   {
    "duration": 17,
    "start_time": "2023-03-27T11:52:29.998Z"
   },
   {
    "duration": 48,
    "start_time": "2023-03-27T11:52:30.016Z"
   },
   {
    "duration": 40,
    "start_time": "2023-03-27T11:52:30.066Z"
   },
   {
    "duration": 37,
    "start_time": "2023-03-27T11:52:30.108Z"
   },
   {
    "duration": 46,
    "start_time": "2023-03-27T11:52:30.148Z"
   },
   {
    "duration": 100,
    "start_time": "2023-03-27T11:52:30.196Z"
   },
   {
    "duration": 169,
    "start_time": "2023-03-27T11:52:30.297Z"
   },
   {
    "duration": 5542,
    "start_time": "2023-03-27T11:52:47.750Z"
   },
   {
    "duration": 4,
    "start_time": "2023-03-27T11:54:17.621Z"
   },
   {
    "duration": 22,
    "start_time": "2023-03-27T11:57:47.331Z"
   },
   {
    "duration": 18,
    "start_time": "2023-03-27T12:02:17.123Z"
   },
   {
    "duration": 19,
    "start_time": "2023-03-27T12:04:30.525Z"
   },
   {
    "duration": 33,
    "start_time": "2023-03-27T12:04:40.870Z"
   },
   {
    "duration": 33,
    "start_time": "2023-03-27T12:04:59.627Z"
   },
   {
    "duration": 5722,
    "start_time": "2023-03-27T12:05:33.099Z"
   },
   {
    "duration": 13,
    "start_time": "2023-03-27T12:09:08.402Z"
   },
   {
    "duration": 250,
    "start_time": "2023-03-27T12:09:41.405Z"
   },
   {
    "duration": 1793,
    "start_time": "2023-03-27T12:25:01.923Z"
   },
   {
    "duration": 31,
    "start_time": "2023-03-27T12:25:03.718Z"
   },
   {
    "duration": 21,
    "start_time": "2023-03-27T12:25:03.751Z"
   },
   {
    "duration": 26,
    "start_time": "2023-03-27T12:25:03.775Z"
   },
   {
    "duration": 14,
    "start_time": "2023-03-27T12:25:03.803Z"
   },
   {
    "duration": 32,
    "start_time": "2023-03-27T12:25:03.819Z"
   },
   {
    "duration": 20,
    "start_time": "2023-03-27T12:25:03.854Z"
   },
   {
    "duration": 28,
    "start_time": "2023-03-27T12:25:03.875Z"
   },
   {
    "duration": 12,
    "start_time": "2023-03-27T12:25:03.905Z"
   },
   {
    "duration": 33,
    "start_time": "2023-03-27T12:25:03.920Z"
   },
   {
    "duration": 5402,
    "start_time": "2023-03-27T12:25:03.955Z"
   },
   {
    "duration": 261,
    "start_time": "2023-03-27T12:25:09.360Z"
   },
   {
    "duration": 4,
    "start_time": "2023-03-27T13:10:38.790Z"
   },
   {
    "duration": 107,
    "start_time": "2023-03-27T13:11:56.587Z"
   },
   {
    "duration": 11,
    "start_time": "2023-03-27T13:12:02.011Z"
   },
   {
    "duration": 14,
    "start_time": "2023-03-27T13:12:32.946Z"
   },
   {
    "duration": 3,
    "start_time": "2023-03-27T13:12:59.306Z"
   },
   {
    "duration": 9,
    "start_time": "2023-03-27T13:13:03.692Z"
   },
   {
    "duration": 13,
    "start_time": "2023-03-27T13:14:12.961Z"
   },
   {
    "duration": 4,
    "start_time": "2023-03-27T13:14:18.151Z"
   },
   {
    "duration": 4,
    "start_time": "2023-03-27T13:14:26.154Z"
   },
   {
    "duration": 13,
    "start_time": "2023-03-27T13:14:57.753Z"
   },
   {
    "duration": 6,
    "start_time": "2023-03-27T13:15:09.503Z"
   },
   {
    "duration": 6,
    "start_time": "2023-03-27T13:15:41.137Z"
   },
   {
    "duration": 1227,
    "start_time": "2023-03-27T13:34:57.099Z"
   },
   {
    "duration": 32,
    "start_time": "2023-03-27T13:34:58.328Z"
   },
   {
    "duration": 21,
    "start_time": "2023-03-27T13:34:58.362Z"
   },
   {
    "duration": 13,
    "start_time": "2023-03-27T13:34:58.384Z"
   },
   {
    "duration": 18,
    "start_time": "2023-03-27T13:34:58.400Z"
   },
   {
    "duration": 30,
    "start_time": "2023-03-27T13:34:58.420Z"
   },
   {
    "duration": 29,
    "start_time": "2023-03-27T13:34:58.452Z"
   },
   {
    "duration": 20,
    "start_time": "2023-03-27T13:34:58.483Z"
   },
   {
    "duration": 19,
    "start_time": "2023-03-27T13:34:58.505Z"
   },
   {
    "duration": 141,
    "start_time": "2023-03-27T13:34:58.526Z"
   },
   {
    "duration": 0,
    "start_time": "2023-03-27T13:34:58.669Z"
   },
   {
    "duration": 0,
    "start_time": "2023-03-27T13:34:58.670Z"
   },
   {
    "duration": 0,
    "start_time": "2023-03-27T13:34:58.671Z"
   },
   {
    "duration": 0,
    "start_time": "2023-03-27T13:34:58.672Z"
   },
   {
    "duration": 0,
    "start_time": "2023-03-27T13:34:58.674Z"
   },
   {
    "duration": 0,
    "start_time": "2023-03-27T13:34:58.675Z"
   },
   {
    "duration": 4,
    "start_time": "2023-03-27T13:35:26.912Z"
   },
   {
    "duration": 1409,
    "start_time": "2023-03-27T13:35:32.345Z"
   },
   {
    "duration": 32,
    "start_time": "2023-03-27T13:35:33.756Z"
   },
   {
    "duration": 20,
    "start_time": "2023-03-27T13:35:33.790Z"
   },
   {
    "duration": 13,
    "start_time": "2023-03-27T13:35:33.813Z"
   },
   {
    "duration": 29,
    "start_time": "2023-03-27T13:35:33.830Z"
   },
   {
    "duration": 16,
    "start_time": "2023-03-27T13:35:33.862Z"
   },
   {
    "duration": 15,
    "start_time": "2023-03-27T13:35:33.880Z"
   },
   {
    "duration": 16,
    "start_time": "2023-03-27T13:35:33.896Z"
   },
   {
    "duration": 19,
    "start_time": "2023-03-27T13:35:33.914Z"
   },
   {
    "duration": 58,
    "start_time": "2023-03-27T13:35:33.935Z"
   },
   {
    "duration": 5684,
    "start_time": "2023-03-27T13:35:33.995Z"
   },
   {
    "duration": 290,
    "start_time": "2023-03-27T13:35:39.682Z"
   },
   {
    "duration": 9,
    "start_time": "2023-03-27T13:35:39.974Z"
   },
   {
    "duration": 5,
    "start_time": "2023-03-27T13:35:39.986Z"
   },
   {
    "duration": 10,
    "start_time": "2023-03-27T13:35:39.992Z"
   },
   {
    "duration": 32,
    "start_time": "2023-03-27T13:35:40.004Z"
   },
   {
    "duration": 2,
    "start_time": "2023-03-27T14:00:05.650Z"
   },
   {
    "duration": 75,
    "start_time": "2023-03-27T14:15:01.481Z"
   },
   {
    "duration": 29,
    "start_time": "2023-03-27T14:15:12.187Z"
   },
   {
    "duration": 109,
    "start_time": "2023-03-27T14:15:18.108Z"
   },
   {
    "duration": 24,
    "start_time": "2023-03-27T14:15:24.788Z"
   },
   {
    "duration": 24,
    "start_time": "2023-03-27T14:15:25.447Z"
   },
   {
    "duration": 25,
    "start_time": "2023-03-27T14:15:25.817Z"
   },
   {
    "duration": 25,
    "start_time": "2023-03-27T14:15:26.163Z"
   },
   {
    "duration": 25,
    "start_time": "2023-03-27T14:15:26.433Z"
   },
   {
    "duration": 28,
    "start_time": "2023-03-27T14:15:26.623Z"
   },
   {
    "duration": 29,
    "start_time": "2023-03-27T14:15:26.811Z"
   },
   {
    "duration": 26,
    "start_time": "2023-03-27T14:15:26.981Z"
   },
   {
    "duration": 24,
    "start_time": "2023-03-27T14:15:27.153Z"
   },
   {
    "duration": 24,
    "start_time": "2023-03-27T14:15:27.327Z"
   },
   {
    "duration": 24,
    "start_time": "2023-03-27T14:15:27.479Z"
   },
   {
    "duration": 26,
    "start_time": "2023-03-27T14:15:27.661Z"
   },
   {
    "duration": 31,
    "start_time": "2023-03-27T14:15:27.854Z"
   },
   {
    "duration": 27,
    "start_time": "2023-03-27T14:15:28.012Z"
   },
   {
    "duration": 24,
    "start_time": "2023-03-27T14:15:28.183Z"
   },
   {
    "duration": 25,
    "start_time": "2023-03-27T14:15:28.357Z"
   },
   {
    "duration": 24,
    "start_time": "2023-03-27T14:15:28.525Z"
   },
   {
    "duration": 27,
    "start_time": "2023-03-27T14:15:28.689Z"
   },
   {
    "duration": 25,
    "start_time": "2023-03-27T14:15:28.854Z"
   },
   {
    "duration": 27,
    "start_time": "2023-03-27T14:15:29.015Z"
   },
   {
    "duration": 27,
    "start_time": "2023-03-27T14:15:29.185Z"
   },
   {
    "duration": 24,
    "start_time": "2023-03-27T14:15:29.339Z"
   },
   {
    "duration": 24,
    "start_time": "2023-03-27T14:15:29.505Z"
   },
   {
    "duration": 26,
    "start_time": "2023-03-27T14:15:29.659Z"
   },
   {
    "duration": 24,
    "start_time": "2023-03-27T14:15:29.816Z"
   },
   {
    "duration": 32,
    "start_time": "2023-03-27T14:15:30.013Z"
   },
   {
    "duration": 24,
    "start_time": "2023-03-27T14:15:30.147Z"
   },
   {
    "duration": 26,
    "start_time": "2023-03-27T14:15:30.318Z"
   },
   {
    "duration": 26,
    "start_time": "2023-03-27T14:15:30.512Z"
   },
   {
    "duration": 24,
    "start_time": "2023-03-27T14:15:30.689Z"
   },
   {
    "duration": 24,
    "start_time": "2023-03-27T14:15:30.877Z"
   },
   {
    "duration": 24,
    "start_time": "2023-03-27T14:15:31.045Z"
   },
   {
    "duration": 26,
    "start_time": "2023-03-27T14:15:31.213Z"
   },
   {
    "duration": 24,
    "start_time": "2023-03-27T14:15:31.384Z"
   },
   {
    "duration": 25,
    "start_time": "2023-03-27T14:15:35.634Z"
   },
   {
    "duration": 27,
    "start_time": "2023-03-27T14:15:36.208Z"
   },
   {
    "duration": 31,
    "start_time": "2023-03-27T14:15:36.734Z"
   },
   {
    "duration": 24,
    "start_time": "2023-03-27T14:15:38.642Z"
   },
   {
    "duration": 1159,
    "start_time": "2023-03-27T14:15:43.232Z"
   },
   {
    "duration": 31,
    "start_time": "2023-03-27T14:15:44.393Z"
   },
   {
    "duration": 20,
    "start_time": "2023-03-27T14:15:44.425Z"
   },
   {
    "duration": 12,
    "start_time": "2023-03-27T14:15:44.447Z"
   },
   {
    "duration": 5,
    "start_time": "2023-03-27T14:15:44.462Z"
   },
   {
    "duration": 14,
    "start_time": "2023-03-27T14:15:44.469Z"
   },
   {
    "duration": 8,
    "start_time": "2023-03-27T14:15:44.485Z"
   },
   {
    "duration": 9,
    "start_time": "2023-03-27T14:15:44.494Z"
   },
   {
    "duration": 32,
    "start_time": "2023-03-27T14:15:44.505Z"
   },
   {
    "duration": 31,
    "start_time": "2023-03-27T14:15:44.539Z"
   },
   {
    "duration": 5274,
    "start_time": "2023-03-27T14:15:44.572Z"
   },
   {
    "duration": 266,
    "start_time": "2023-03-27T14:15:49.848Z"
   },
   {
    "duration": 17,
    "start_time": "2023-03-27T14:15:50.116Z"
   },
   {
    "duration": 5,
    "start_time": "2023-03-27T14:15:50.137Z"
   },
   {
    "duration": 21,
    "start_time": "2023-03-27T14:15:50.144Z"
   },
   {
    "duration": 9,
    "start_time": "2023-03-27T14:15:50.167Z"
   },
   {
    "duration": 5,
    "start_time": "2023-03-27T14:43:37.703Z"
   },
   {
    "duration": 4,
    "start_time": "2023-03-27T14:44:50.078Z"
   },
   {
    "duration": 7,
    "start_time": "2023-03-27T14:45:10.752Z"
   },
   {
    "duration": 10,
    "start_time": "2023-03-27T14:46:58.977Z"
   },
   {
    "duration": 14,
    "start_time": "2023-03-27T14:47:13.399Z"
   },
   {
    "duration": 14,
    "start_time": "2023-03-27T14:47:55.121Z"
   },
   {
    "duration": 13,
    "start_time": "2023-03-27T14:48:11.342Z"
   },
   {
    "duration": 369,
    "start_time": "2023-03-27T14:53:52.137Z"
   },
   {
    "duration": 118,
    "start_time": "2023-03-27T14:54:00.774Z"
   },
   {
    "duration": 3,
    "start_time": "2023-03-27T14:54:07.749Z"
   },
   {
    "duration": 3,
    "start_time": "2023-03-27T14:54:27.439Z"
   },
   {
    "duration": 4,
    "start_time": "2023-03-27T14:54:32.190Z"
   },
   {
    "duration": 93,
    "start_time": "2023-03-27T14:56:16.075Z"
   },
   {
    "duration": 12,
    "start_time": "2023-03-27T14:56:33.851Z"
   },
   {
    "duration": 5,
    "start_time": "2023-03-27T14:56:49.024Z"
   },
   {
    "duration": 4,
    "start_time": "2023-03-27T14:57:35.850Z"
   },
   {
    "duration": 276,
    "start_time": "2023-03-27T16:18:27.886Z"
   },
   {
    "duration": 4,
    "start_time": "2023-03-27T16:19:06.287Z"
   },
   {
    "duration": 4,
    "start_time": "2023-03-27T16:19:12.998Z"
   },
   {
    "duration": 1203,
    "start_time": "2023-03-27T16:21:02.796Z"
   },
   {
    "duration": 32,
    "start_time": "2023-03-27T16:21:04.002Z"
   },
   {
    "duration": 21,
    "start_time": "2023-03-27T16:21:04.036Z"
   },
   {
    "duration": 15,
    "start_time": "2023-03-27T16:21:04.059Z"
   },
   {
    "duration": 4,
    "start_time": "2023-03-27T16:21:04.076Z"
   },
   {
    "duration": 18,
    "start_time": "2023-03-27T16:21:04.082Z"
   },
   {
    "duration": 32,
    "start_time": "2023-03-27T16:21:04.102Z"
   },
   {
    "duration": 7,
    "start_time": "2023-03-27T16:21:04.136Z"
   },
   {
    "duration": 18,
    "start_time": "2023-03-27T16:21:04.145Z"
   },
   {
    "duration": 30,
    "start_time": "2023-03-27T16:21:04.165Z"
   },
   {
    "duration": 5594,
    "start_time": "2023-03-27T16:21:04.196Z"
   },
   {
    "duration": 298,
    "start_time": "2023-03-27T16:21:09.791Z"
   },
   {
    "duration": 16,
    "start_time": "2023-03-27T16:21:10.091Z"
   },
   {
    "duration": 4,
    "start_time": "2023-03-27T16:21:10.110Z"
   },
   {
    "duration": 21,
    "start_time": "2023-03-27T16:21:10.115Z"
   },
   {
    "duration": 15,
    "start_time": "2023-03-27T16:21:10.137Z"
   },
   {
    "duration": 12,
    "start_time": "2023-03-27T16:21:10.154Z"
   },
   {
    "duration": 3190,
    "start_time": "2023-03-27T16:50:02.534Z"
   },
   {
    "duration": 129,
    "start_time": "2023-03-27T16:50:05.727Z"
   },
   {
    "duration": 18,
    "start_time": "2023-03-27T16:50:05.858Z"
   },
   {
    "duration": 36,
    "start_time": "2023-03-27T16:50:05.878Z"
   },
   {
    "duration": 22,
    "start_time": "2023-03-27T16:50:05.916Z"
   },
   {
    "duration": 53,
    "start_time": "2023-03-27T16:50:05.940Z"
   },
   {
    "duration": 28,
    "start_time": "2023-03-27T16:50:05.995Z"
   },
   {
    "duration": 32,
    "start_time": "2023-03-27T16:50:06.025Z"
   },
   {
    "duration": 17,
    "start_time": "2023-03-27T16:50:06.059Z"
   },
   {
    "duration": 53,
    "start_time": "2023-03-27T16:50:06.079Z"
   },
   {
    "duration": 5539,
    "start_time": "2023-03-27T16:50:06.134Z"
   },
   {
    "duration": 279,
    "start_time": "2023-03-27T16:50:11.675Z"
   },
   {
    "duration": 15,
    "start_time": "2023-03-27T16:50:11.956Z"
   },
   {
    "duration": 14,
    "start_time": "2023-03-27T16:50:11.973Z"
   },
   {
    "duration": 14,
    "start_time": "2023-03-27T16:50:11.989Z"
   },
   {
    "duration": 16,
    "start_time": "2023-03-27T16:50:12.005Z"
   },
   {
    "duration": 15,
    "start_time": "2023-03-27T16:50:12.023Z"
   },
   {
    "duration": 4,
    "start_time": "2023-03-27T16:54:38.245Z"
   },
   {
    "duration": 6,
    "start_time": "2023-03-27T16:54:43.128Z"
   },
   {
    "duration": 4,
    "start_time": "2023-03-27T16:54:47.415Z"
   },
   {
    "duration": 71,
    "start_time": "2023-03-27T16:55:54.395Z"
   },
   {
    "duration": 1264,
    "start_time": "2023-03-27T16:55:59.233Z"
   },
   {
    "duration": 21,
    "start_time": "2023-03-27T16:56:36.980Z"
   },
   {
    "duration": 47,
    "start_time": "2023-03-29T15:06:28.719Z"
   },
   {
    "duration": 1132,
    "start_time": "2023-03-29T15:06:39.783Z"
   },
   {
    "duration": 66,
    "start_time": "2023-03-29T15:06:40.917Z"
   },
   {
    "duration": 17,
    "start_time": "2023-03-29T15:06:40.985Z"
   },
   {
    "duration": 11,
    "start_time": "2023-03-29T15:06:41.004Z"
   },
   {
    "duration": 5,
    "start_time": "2023-03-29T15:06:41.018Z"
   },
   {
    "duration": 18,
    "start_time": "2023-03-29T15:06:41.024Z"
   },
   {
    "duration": 12,
    "start_time": "2023-03-29T15:06:41.044Z"
   },
   {
    "duration": 14,
    "start_time": "2023-03-29T15:06:41.058Z"
   },
   {
    "duration": 11,
    "start_time": "2023-03-29T15:06:41.073Z"
   },
   {
    "duration": 3,
    "start_time": "2023-03-29T15:06:41.086Z"
   },
   {
    "duration": 21,
    "start_time": "2023-03-29T15:06:41.091Z"
   },
   {
    "duration": 5227,
    "start_time": "2023-03-29T15:06:41.114Z"
   },
   {
    "duration": 259,
    "start_time": "2023-03-29T15:06:46.343Z"
   },
   {
    "duration": 18,
    "start_time": "2023-03-29T15:06:46.605Z"
   },
   {
    "duration": 18,
    "start_time": "2023-03-29T15:06:46.625Z"
   },
   {
    "duration": 19,
    "start_time": "2023-03-29T15:06:46.645Z"
   },
   {
    "duration": 7,
    "start_time": "2023-03-29T15:06:46.666Z"
   },
   {
    "duration": 12,
    "start_time": "2023-03-29T15:06:46.675Z"
   },
   {
    "duration": 4,
    "start_time": "2023-03-29T15:07:45.905Z"
   },
   {
    "duration": 95,
    "start_time": "2023-03-29T15:08:54.035Z"
   },
   {
    "duration": 10,
    "start_time": "2023-03-29T15:10:38.236Z"
   },
   {
    "duration": 3,
    "start_time": "2023-03-29T15:10:41.575Z"
   },
   {
    "duration": 22,
    "start_time": "2023-03-29T15:10:44.670Z"
   },
   {
    "duration": 4366,
    "start_time": "2023-03-29T15:10:48.999Z"
   },
   {
    "duration": 244,
    "start_time": "2023-03-29T15:15:03.268Z"
   },
   {
    "duration": 203,
    "start_time": "2023-03-29T15:15:18.210Z"
   },
   {
    "duration": 3,
    "start_time": "2023-03-29T15:15:35.849Z"
   },
   {
    "duration": 1097,
    "start_time": "2023-03-29T15:15:39.877Z"
   },
   {
    "duration": 27,
    "start_time": "2023-03-29T15:15:40.976Z"
   },
   {
    "duration": 27,
    "start_time": "2023-03-29T15:15:41.005Z"
   },
   {
    "duration": 12,
    "start_time": "2023-03-29T15:15:41.033Z"
   },
   {
    "duration": 6,
    "start_time": "2023-03-29T15:15:41.046Z"
   },
   {
    "duration": 11,
    "start_time": "2023-03-29T15:15:41.053Z"
   },
   {
    "duration": 11,
    "start_time": "2023-03-29T15:15:41.065Z"
   },
   {
    "duration": 6,
    "start_time": "2023-03-29T15:15:41.077Z"
   },
   {
    "duration": 5,
    "start_time": "2023-03-29T15:15:41.085Z"
   },
   {
    "duration": 4,
    "start_time": "2023-03-29T15:15:41.092Z"
   },
   {
    "duration": 49,
    "start_time": "2023-03-29T15:15:41.098Z"
   },
   {
    "duration": 4445,
    "start_time": "2023-03-29T15:15:41.149Z"
   },
   {
    "duration": 218,
    "start_time": "2023-03-29T15:15:45.595Z"
   },
   {
    "duration": 10,
    "start_time": "2023-03-29T15:15:45.815Z"
   },
   {
    "duration": 16,
    "start_time": "2023-03-29T15:15:45.827Z"
   },
   {
    "duration": 5,
    "start_time": "2023-03-29T15:15:45.845Z"
   },
   {
    "duration": 7,
    "start_time": "2023-03-29T15:15:45.852Z"
   },
   {
    "duration": 11,
    "start_time": "2023-03-29T15:15:45.861Z"
   },
   {
    "duration": 4,
    "start_time": "2023-03-29T15:16:45.785Z"
   },
   {
    "duration": 3,
    "start_time": "2023-03-29T15:20:30.321Z"
   },
   {
    "duration": 99,
    "start_time": "2023-03-29T15:23:18.017Z"
   },
   {
    "duration": 6,
    "start_time": "2023-03-29T15:23:38.370Z"
   },
   {
    "duration": 10,
    "start_time": "2023-03-29T15:24:58.561Z"
   },
   {
    "duration": 10,
    "start_time": "2023-03-29T15:25:04.328Z"
   },
   {
    "duration": 4,
    "start_time": "2023-03-29T15:26:51.435Z"
   },
   {
    "duration": 3,
    "start_time": "2023-03-29T15:28:34.230Z"
   },
   {
    "duration": 7,
    "start_time": "2023-03-29T15:28:54.826Z"
   },
   {
    "duration": 5,
    "start_time": "2023-03-29T15:29:13.968Z"
   },
   {
    "duration": 6,
    "start_time": "2023-03-29T15:29:16.739Z"
   },
   {
    "duration": 6,
    "start_time": "2023-03-29T15:29:46.706Z"
   },
   {
    "duration": 1137,
    "start_time": "2023-03-29T15:32:38.048Z"
   },
   {
    "duration": 27,
    "start_time": "2023-03-29T15:32:39.186Z"
   },
   {
    "duration": 16,
    "start_time": "2023-03-29T15:32:39.215Z"
   },
   {
    "duration": 9,
    "start_time": "2023-03-29T15:32:39.233Z"
   },
   {
    "duration": 8,
    "start_time": "2023-03-29T15:32:39.245Z"
   },
   {
    "duration": 16,
    "start_time": "2023-03-29T15:32:39.255Z"
   },
   {
    "duration": 13,
    "start_time": "2023-03-29T15:32:39.273Z"
   },
   {
    "duration": 8,
    "start_time": "2023-03-29T15:32:39.287Z"
   },
   {
    "duration": 11,
    "start_time": "2023-03-29T15:32:39.297Z"
   },
   {
    "duration": 6,
    "start_time": "2023-03-29T15:32:39.309Z"
   },
   {
    "duration": 30,
    "start_time": "2023-03-29T15:32:39.316Z"
   },
   {
    "duration": 4304,
    "start_time": "2023-03-29T15:32:39.348Z"
   },
   {
    "duration": 220,
    "start_time": "2023-03-29T15:32:43.654Z"
   },
   {
    "duration": 4,
    "start_time": "2023-03-29T15:32:43.877Z"
   },
   {
    "duration": 11,
    "start_time": "2023-03-29T15:32:43.882Z"
   },
   {
    "duration": 3,
    "start_time": "2023-03-29T15:32:43.895Z"
   },
   {
    "duration": 13,
    "start_time": "2023-03-29T15:32:43.900Z"
   },
   {
    "duration": 28,
    "start_time": "2023-03-29T15:32:43.914Z"
   },
   {
    "duration": 14,
    "start_time": "2023-03-29T15:32:43.943Z"
   },
   {
    "duration": 7,
    "start_time": "2023-03-29T15:32:43.958Z"
   },
   {
    "duration": 7,
    "start_time": "2023-03-29T15:32:43.966Z"
   },
   {
    "duration": 5,
    "start_time": "2023-03-29T15:32:43.975Z"
   },
   {
    "duration": 9,
    "start_time": "2023-03-29T15:32:43.981Z"
   },
   {
    "duration": 95,
    "start_time": "2023-03-29T15:33:04.942Z"
   },
   {
    "duration": 7,
    "start_time": "2023-03-29T15:33:09.321Z"
   },
   {
    "duration": 5,
    "start_time": "2023-03-29T15:33:17.074Z"
   },
   {
    "duration": 6,
    "start_time": "2023-03-29T15:33:21.033Z"
   },
   {
    "duration": 6,
    "start_time": "2023-03-29T15:33:28.574Z"
   },
   {
    "duration": 10,
    "start_time": "2023-03-29T15:33:35.438Z"
   },
   {
    "duration": 10,
    "start_time": "2023-03-29T15:33:42.614Z"
   },
   {
    "duration": 4,
    "start_time": "2023-03-29T15:33:52.371Z"
   },
   {
    "duration": 4,
    "start_time": "2023-03-29T15:33:56.310Z"
   },
   {
    "duration": 189,
    "start_time": "2023-03-29T15:34:02.933Z"
   },
   {
    "duration": 4190,
    "start_time": "2023-03-29T15:34:10.402Z"
   },
   {
    "duration": 20,
    "start_time": "2023-03-29T15:34:19.874Z"
   },
   {
    "duration": 1115,
    "start_time": "2023-03-29T15:34:49.634Z"
   },
   {
    "duration": 27,
    "start_time": "2023-03-29T15:34:50.751Z"
   },
   {
    "duration": 29,
    "start_time": "2023-03-29T15:34:50.780Z"
   },
   {
    "duration": 48,
    "start_time": "2023-03-29T15:34:50.812Z"
   },
   {
    "duration": 23,
    "start_time": "2023-03-29T15:34:50.862Z"
   },
   {
    "duration": 47,
    "start_time": "2023-03-29T15:34:50.887Z"
   },
   {
    "duration": 26,
    "start_time": "2023-03-29T15:34:50.935Z"
   },
   {
    "duration": 41,
    "start_time": "2023-03-29T15:34:50.963Z"
   },
   {
    "duration": 51,
    "start_time": "2023-03-29T15:34:51.006Z"
   },
   {
    "duration": 28,
    "start_time": "2023-03-29T15:34:51.060Z"
   },
   {
    "duration": 52,
    "start_time": "2023-03-29T15:34:51.090Z"
   },
   {
    "duration": 4227,
    "start_time": "2023-03-29T15:34:51.144Z"
   },
   {
    "duration": 196,
    "start_time": "2023-03-29T15:34:55.372Z"
   },
   {
    "duration": 6,
    "start_time": "2023-03-29T15:34:55.570Z"
   },
   {
    "duration": 18,
    "start_time": "2023-03-29T15:34:55.577Z"
   },
   {
    "duration": 16,
    "start_time": "2023-03-29T15:34:55.597Z"
   },
   {
    "duration": 17,
    "start_time": "2023-03-29T15:34:55.615Z"
   },
   {
    "duration": 8,
    "start_time": "2023-03-29T15:34:55.633Z"
   },
   {
    "duration": 5,
    "start_time": "2023-03-29T15:34:55.643Z"
   },
   {
    "duration": 10,
    "start_time": "2023-03-29T15:34:55.650Z"
   },
   {
    "duration": 49,
    "start_time": "2023-03-29T15:34:55.662Z"
   },
   {
    "duration": 6,
    "start_time": "2023-03-29T15:34:55.713Z"
   },
   {
    "duration": 15,
    "start_time": "2023-03-29T15:34:55.721Z"
   },
   {
    "duration": 1870,
    "start_time": "2023-03-29T16:47:06.611Z"
   },
   {
    "duration": 130,
    "start_time": "2023-03-29T16:47:08.483Z"
   },
   {
    "duration": 17,
    "start_time": "2023-03-29T16:47:08.615Z"
   },
   {
    "duration": 32,
    "start_time": "2023-03-29T16:47:08.634Z"
   },
   {
    "duration": 34,
    "start_time": "2023-03-29T16:47:08.668Z"
   },
   {
    "duration": 55,
    "start_time": "2023-03-29T16:47:08.703Z"
   },
   {
    "duration": 17,
    "start_time": "2023-03-29T16:47:08.760Z"
   },
   {
    "duration": 29,
    "start_time": "2023-03-29T16:47:08.779Z"
   },
   {
    "duration": 9,
    "start_time": "2023-03-29T16:47:08.810Z"
   },
   {
    "duration": 18,
    "start_time": "2023-03-29T16:47:08.821Z"
   },
   {
    "duration": 34,
    "start_time": "2023-03-29T16:47:08.841Z"
   },
   {
    "duration": 4453,
    "start_time": "2023-03-29T16:47:08.877Z"
   },
   {
    "duration": 216,
    "start_time": "2023-03-29T16:47:13.335Z"
   },
   {
    "duration": 6,
    "start_time": "2023-03-29T16:47:13.554Z"
   },
   {
    "duration": 23,
    "start_time": "2023-03-29T16:47:13.561Z"
   },
   {
    "duration": 7,
    "start_time": "2023-03-29T16:47:13.586Z"
   },
   {
    "duration": 10,
    "start_time": "2023-03-29T16:47:13.595Z"
   },
   {
    "duration": 24,
    "start_time": "2023-03-29T16:47:13.606Z"
   },
   {
    "duration": 13,
    "start_time": "2023-03-29T16:47:13.631Z"
   },
   {
    "duration": 20,
    "start_time": "2023-03-29T16:47:13.647Z"
   },
   {
    "duration": 20,
    "start_time": "2023-03-29T16:47:13.668Z"
   },
   {
    "duration": 14,
    "start_time": "2023-03-29T16:47:13.689Z"
   },
   {
    "duration": 11,
    "start_time": "2023-03-29T16:47:13.704Z"
   },
   {
    "duration": 1945,
    "start_time": "2023-03-29T16:47:28.057Z"
   },
   {
    "duration": 30,
    "start_time": "2023-03-29T16:47:30.004Z"
   },
   {
    "duration": 39,
    "start_time": "2023-03-29T16:47:30.037Z"
   },
   {
    "duration": 23,
    "start_time": "2023-03-29T16:47:30.079Z"
   },
   {
    "duration": 34,
    "start_time": "2023-03-29T16:47:30.104Z"
   },
   {
    "duration": 40,
    "start_time": "2023-03-29T16:47:30.139Z"
   },
   {
    "duration": 16,
    "start_time": "2023-03-29T16:47:30.181Z"
   },
   {
    "duration": 35,
    "start_time": "2023-03-29T16:47:30.199Z"
   },
   {
    "duration": 40,
    "start_time": "2023-03-29T16:47:30.236Z"
   },
   {
    "duration": 29,
    "start_time": "2023-03-29T16:47:30.279Z"
   },
   {
    "duration": 57,
    "start_time": "2023-03-29T16:47:30.310Z"
   },
   {
    "duration": 4895,
    "start_time": "2023-03-29T16:47:30.368Z"
   },
   {
    "duration": 255,
    "start_time": "2023-03-29T16:47:35.265Z"
   },
   {
    "duration": 4,
    "start_time": "2023-03-29T16:47:35.522Z"
   },
   {
    "duration": 38,
    "start_time": "2023-03-29T16:47:35.527Z"
   },
   {
    "duration": 5,
    "start_time": "2023-03-29T16:47:35.566Z"
   },
   {
    "duration": 30,
    "start_time": "2023-03-29T16:47:35.572Z"
   },
   {
    "duration": 6,
    "start_time": "2023-03-29T16:47:35.603Z"
   },
   {
    "duration": 22,
    "start_time": "2023-03-29T16:47:35.610Z"
   },
   {
    "duration": 28,
    "start_time": "2023-03-29T16:47:35.633Z"
   },
   {
    "duration": 32,
    "start_time": "2023-03-29T16:47:35.663Z"
   },
   {
    "duration": 25,
    "start_time": "2023-03-29T16:47:35.697Z"
   },
   {
    "duration": 11,
    "start_time": "2023-03-29T16:47:35.724Z"
   },
   {
    "duration": 50,
    "start_time": "2023-03-30T09:36:41.259Z"
   },
   {
    "duration": 1142,
    "start_time": "2023-03-30T09:36:46.212Z"
   },
   {
    "duration": 130,
    "start_time": "2023-03-30T09:36:47.357Z"
   },
   {
    "duration": 20,
    "start_time": "2023-03-30T09:36:47.489Z"
   },
   {
    "duration": 29,
    "start_time": "2023-03-30T09:36:47.511Z"
   },
   {
    "duration": 20,
    "start_time": "2023-03-30T09:36:47.541Z"
   },
   {
    "duration": 18,
    "start_time": "2023-03-30T09:36:47.564Z"
   },
   {
    "duration": 12,
    "start_time": "2023-03-30T09:36:47.585Z"
   },
   {
    "duration": 10,
    "start_time": "2023-03-30T09:36:47.599Z"
   },
   {
    "duration": 9,
    "start_time": "2023-03-30T09:36:47.611Z"
   },
   {
    "duration": 6,
    "start_time": "2023-03-30T09:36:47.623Z"
   },
   {
    "duration": 30,
    "start_time": "2023-03-30T09:36:47.630Z"
   },
   {
    "duration": 4396,
    "start_time": "2023-03-30T09:36:47.663Z"
   },
   {
    "duration": 204,
    "start_time": "2023-03-30T09:36:52.061Z"
   },
   {
    "duration": 4,
    "start_time": "2023-03-30T09:36:52.268Z"
   },
   {
    "duration": 38,
    "start_time": "2023-03-30T09:36:52.275Z"
   },
   {
    "duration": 4,
    "start_time": "2023-03-30T09:36:52.315Z"
   },
   {
    "duration": 17,
    "start_time": "2023-03-30T09:36:52.321Z"
   },
   {
    "duration": 4,
    "start_time": "2023-03-30T09:36:52.340Z"
   },
   {
    "duration": 11,
    "start_time": "2023-03-30T09:36:52.346Z"
   },
   {
    "duration": 31,
    "start_time": "2023-03-30T09:36:52.359Z"
   },
   {
    "duration": 7,
    "start_time": "2023-03-30T09:36:52.391Z"
   },
   {
    "duration": 6,
    "start_time": "2023-03-30T09:36:52.400Z"
   },
   {
    "duration": 13,
    "start_time": "2023-03-30T09:36:52.407Z"
   },
   {
    "duration": 4387,
    "start_time": "2023-03-30T09:38:53.644Z"
   },
   {
    "duration": 5,
    "start_time": "2023-03-30T09:48:47.397Z"
   },
   {
    "duration": 5,
    "start_time": "2023-03-30T09:48:49.291Z"
   },
   {
    "duration": 5,
    "start_time": "2023-03-30T09:48:51.779Z"
   },
   {
    "duration": 21,
    "start_time": "2023-03-30T09:49:39.823Z"
   },
   {
    "duration": 4211,
    "start_time": "2023-03-30T09:49:48.527Z"
   },
   {
    "duration": 190,
    "start_time": "2023-03-30T09:49:57.324Z"
   },
   {
    "duration": 1102,
    "start_time": "2023-03-30T09:56:57.402Z"
   },
   {
    "duration": 31,
    "start_time": "2023-03-30T09:56:58.506Z"
   },
   {
    "duration": 22,
    "start_time": "2023-03-30T09:56:58.539Z"
   },
   {
    "duration": 21,
    "start_time": "2023-03-30T09:56:58.564Z"
   },
   {
    "duration": 11,
    "start_time": "2023-03-30T09:56:58.587Z"
   },
   {
    "duration": 22,
    "start_time": "2023-03-30T09:56:58.600Z"
   },
   {
    "duration": 28,
    "start_time": "2023-03-30T09:56:58.624Z"
   },
   {
    "duration": 16,
    "start_time": "2023-03-30T09:56:58.654Z"
   },
   {
    "duration": 17,
    "start_time": "2023-03-30T09:56:58.671Z"
   },
   {
    "duration": 14,
    "start_time": "2023-03-30T09:56:58.691Z"
   },
   {
    "duration": 43,
    "start_time": "2023-03-30T09:56:58.707Z"
   },
   {
    "duration": 4250,
    "start_time": "2023-03-30T09:56:58.752Z"
   },
   {
    "duration": 209,
    "start_time": "2023-03-30T09:57:03.004Z"
   },
   {
    "duration": 4,
    "start_time": "2023-03-30T09:57:03.215Z"
   },
   {
    "duration": 52,
    "start_time": "2023-03-30T09:57:03.221Z"
   },
   {
    "duration": 14,
    "start_time": "2023-03-30T09:57:03.275Z"
   },
   {
    "duration": 24,
    "start_time": "2023-03-30T09:57:03.291Z"
   },
   {
    "duration": 10,
    "start_time": "2023-03-30T09:57:03.316Z"
   },
   {
    "duration": 17,
    "start_time": "2023-03-30T09:57:03.327Z"
   },
   {
    "duration": 10,
    "start_time": "2023-03-30T09:57:03.346Z"
   },
   {
    "duration": 8,
    "start_time": "2023-03-30T09:57:03.358Z"
   },
   {
    "duration": 7,
    "start_time": "2023-03-30T09:57:03.368Z"
   },
   {
    "duration": 9,
    "start_time": "2023-03-30T09:57:03.376Z"
   },
   {
    "duration": 5,
    "start_time": "2023-03-30T10:01:04.780Z"
   },
   {
    "duration": 117,
    "start_time": "2023-03-30T10:07:20.898Z"
   },
   {
    "duration": 1110,
    "start_time": "2023-03-30T10:07:29.941Z"
   },
   {
    "duration": 31,
    "start_time": "2023-03-30T10:07:31.053Z"
   },
   {
    "duration": 19,
    "start_time": "2023-03-30T10:07:31.086Z"
   },
   {
    "duration": 24,
    "start_time": "2023-03-30T10:07:31.107Z"
   },
   {
    "duration": 33,
    "start_time": "2023-03-30T10:07:31.133Z"
   },
   {
    "duration": 44,
    "start_time": "2023-03-30T10:07:31.168Z"
   },
   {
    "duration": 83,
    "start_time": "2023-03-30T10:07:31.214Z"
   },
   {
    "duration": 39,
    "start_time": "2023-03-30T10:07:31.299Z"
   },
   {
    "duration": 51,
    "start_time": "2023-03-30T10:07:31.340Z"
   },
   {
    "duration": 52,
    "start_time": "2023-03-30T10:07:31.394Z"
   },
   {
    "duration": 71,
    "start_time": "2023-03-30T10:07:31.448Z"
   },
   {
    "duration": 4155,
    "start_time": "2023-03-30T10:07:31.521Z"
   },
   {
    "duration": 115,
    "start_time": "2023-03-30T10:07:35.678Z"
   },
   {
    "duration": 5,
    "start_time": "2023-03-30T10:07:35.794Z"
   },
   {
    "duration": 46,
    "start_time": "2023-03-30T10:07:35.800Z"
   },
   {
    "duration": 60,
    "start_time": "2023-03-30T10:07:35.848Z"
   },
   {
    "duration": 112,
    "start_time": "2023-03-30T10:07:35.910Z"
   },
   {
    "duration": 26,
    "start_time": "2023-03-30T10:07:36.024Z"
   },
   {
    "duration": 29,
    "start_time": "2023-03-30T10:07:36.052Z"
   },
   {
    "duration": 36,
    "start_time": "2023-03-30T10:07:36.083Z"
   },
   {
    "duration": 27,
    "start_time": "2023-03-30T10:07:36.121Z"
   },
   {
    "duration": 25,
    "start_time": "2023-03-30T10:07:36.150Z"
   },
   {
    "duration": 18,
    "start_time": "2023-03-30T10:07:36.177Z"
   },
   {
    "duration": 113,
    "start_time": "2023-03-30T10:26:54.100Z"
   },
   {
    "duration": 109,
    "start_time": "2023-03-30T10:26:55.629Z"
   },
   {
    "duration": 110,
    "start_time": "2023-03-30T10:26:56.252Z"
   },
   {
    "duration": 111,
    "start_time": "2023-03-30T10:26:56.730Z"
   },
   {
    "duration": 123,
    "start_time": "2023-03-30T10:26:57.153Z"
   },
   {
    "duration": 110,
    "start_time": "2023-03-30T10:26:57.666Z"
   },
   {
    "duration": 106,
    "start_time": "2023-03-30T10:26:57.819Z"
   },
   {
    "duration": 118,
    "start_time": "2023-03-30T10:26:58.201Z"
   },
   {
    "duration": 111,
    "start_time": "2023-03-30T10:26:58.717Z"
   },
   {
    "duration": 110,
    "start_time": "2023-03-30T10:26:58.872Z"
   },
   {
    "duration": 116,
    "start_time": "2023-03-30T10:26:59.277Z"
   },
   {
    "duration": 115,
    "start_time": "2023-03-30T10:26:59.767Z"
   },
   {
    "duration": 137,
    "start_time": "2023-03-30T10:27:00.040Z"
   },
   {
    "duration": 5,
    "start_time": "2023-03-30T10:27:33.510Z"
   },
   {
    "duration": 54,
    "start_time": "2023-03-30T10:27:39.619Z"
   },
   {
    "duration": 61,
    "start_time": "2023-03-30T10:27:54.515Z"
   },
   {
    "duration": 10,
    "start_time": "2023-03-30T10:44:14.426Z"
   },
   {
    "duration": 119,
    "start_time": "2023-03-30T10:44:21.919Z"
   },
   {
    "duration": 115,
    "start_time": "2023-03-30T10:45:00.280Z"
   },
   {
    "duration": 1500,
    "start_time": "2023-03-30T10:45:03.900Z"
   },
   {
    "duration": 161,
    "start_time": "2023-03-30T10:45:08.675Z"
   },
   {
    "duration": 207,
    "start_time": "2023-03-30T10:45:19.656Z"
   },
   {
    "duration": 126,
    "start_time": "2023-03-30T10:45:35.206Z"
   },
   {
    "duration": 1121,
    "start_time": "2023-03-30T10:45:47.525Z"
   },
   {
    "duration": 31,
    "start_time": "2023-03-30T10:45:48.648Z"
   },
   {
    "duration": 22,
    "start_time": "2023-03-30T10:45:48.681Z"
   },
   {
    "duration": 49,
    "start_time": "2023-03-30T10:45:48.706Z"
   },
   {
    "duration": 24,
    "start_time": "2023-03-30T10:45:48.758Z"
   },
   {
    "duration": 29,
    "start_time": "2023-03-30T10:45:48.784Z"
   },
   {
    "duration": 21,
    "start_time": "2023-03-30T10:45:48.815Z"
   },
   {
    "duration": 20,
    "start_time": "2023-03-30T10:45:48.837Z"
   },
   {
    "duration": 13,
    "start_time": "2023-03-30T10:45:48.859Z"
   },
   {
    "duration": 6,
    "start_time": "2023-03-30T10:45:48.875Z"
   },
   {
    "duration": 41,
    "start_time": "2023-03-30T10:45:48.883Z"
   },
   {
    "duration": 4437,
    "start_time": "2023-03-30T10:45:48.927Z"
   },
   {
    "duration": 124,
    "start_time": "2023-03-30T10:45:53.366Z"
   },
   {
    "duration": 5,
    "start_time": "2023-03-30T10:45:53.492Z"
   },
   {
    "duration": 13,
    "start_time": "2023-03-30T10:45:53.498Z"
   },
   {
    "duration": 7,
    "start_time": "2023-03-30T10:45:53.512Z"
   },
   {
    "duration": 16,
    "start_time": "2023-03-30T10:45:53.540Z"
   },
   {
    "duration": 7,
    "start_time": "2023-03-30T10:45:53.558Z"
   },
   {
    "duration": 5,
    "start_time": "2023-03-30T10:45:53.567Z"
   },
   {
    "duration": 13,
    "start_time": "2023-03-30T10:45:53.574Z"
   },
   {
    "duration": 17,
    "start_time": "2023-03-30T10:45:53.590Z"
   },
   {
    "duration": 8,
    "start_time": "2023-03-30T10:45:53.609Z"
   },
   {
    "duration": 10,
    "start_time": "2023-03-30T10:45:53.618Z"
   },
   {
    "duration": 4,
    "start_time": "2023-03-30T10:47:13.267Z"
   },
   {
    "duration": 1353,
    "start_time": "2023-03-30T10:52:30.866Z"
   },
   {
    "duration": 33,
    "start_time": "2023-03-30T10:52:32.221Z"
   },
   {
    "duration": 56,
    "start_time": "2023-03-30T10:52:32.256Z"
   },
   {
    "duration": 58,
    "start_time": "2023-03-30T10:52:32.315Z"
   },
   {
    "duration": 73,
    "start_time": "2023-03-30T10:52:32.375Z"
   },
   {
    "duration": 50,
    "start_time": "2023-03-30T10:52:32.450Z"
   },
   {
    "duration": 24,
    "start_time": "2023-03-30T10:52:32.502Z"
   },
   {
    "duration": 22,
    "start_time": "2023-03-30T10:52:32.528Z"
   },
   {
    "duration": 49,
    "start_time": "2023-03-30T10:52:32.552Z"
   },
   {
    "duration": 24,
    "start_time": "2023-03-30T10:52:32.605Z"
   },
   {
    "duration": 43,
    "start_time": "2023-03-30T10:52:32.631Z"
   },
   {
    "duration": 4319,
    "start_time": "2023-03-30T10:52:32.676Z"
   },
   {
    "duration": 122,
    "start_time": "2023-03-30T10:52:36.997Z"
   },
   {
    "duration": 6,
    "start_time": "2023-03-30T10:52:37.121Z"
   },
   {
    "duration": 41,
    "start_time": "2023-03-30T10:52:37.141Z"
   },
   {
    "duration": 25,
    "start_time": "2023-03-30T10:52:37.185Z"
   },
   {
    "duration": 58,
    "start_time": "2023-03-30T10:52:37.212Z"
   },
   {
    "duration": 32,
    "start_time": "2023-03-30T10:52:37.271Z"
   },
   {
    "duration": 34,
    "start_time": "2023-03-30T10:52:37.304Z"
   },
   {
    "duration": 37,
    "start_time": "2023-03-30T10:52:37.339Z"
   },
   {
    "duration": 31,
    "start_time": "2023-03-30T10:52:37.379Z"
   },
   {
    "duration": 47,
    "start_time": "2023-03-30T10:52:37.412Z"
   },
   {
    "duration": 14,
    "start_time": "2023-03-30T10:52:37.461Z"
   },
   {
    "duration": 2556,
    "start_time": "2023-03-30T11:40:30.142Z"
   },
   {
    "duration": 131,
    "start_time": "2023-03-30T11:40:32.700Z"
   },
   {
    "duration": 18,
    "start_time": "2023-03-30T11:40:32.833Z"
   },
   {
    "duration": 26,
    "start_time": "2023-03-30T11:40:32.853Z"
   },
   {
    "duration": 26,
    "start_time": "2023-03-30T11:40:32.880Z"
   },
   {
    "duration": 18,
    "start_time": "2023-03-30T11:40:32.908Z"
   },
   {
    "duration": 12,
    "start_time": "2023-03-30T11:40:32.927Z"
   },
   {
    "duration": 11,
    "start_time": "2023-03-30T11:40:32.941Z"
   },
   {
    "duration": 18,
    "start_time": "2023-03-30T11:40:32.953Z"
   },
   {
    "duration": 12,
    "start_time": "2023-03-30T11:40:32.974Z"
   },
   {
    "duration": 46,
    "start_time": "2023-03-30T11:40:32.987Z"
   },
   {
    "duration": 4149,
    "start_time": "2023-03-30T11:40:33.035Z"
   },
   {
    "duration": 115,
    "start_time": "2023-03-30T11:40:37.186Z"
   },
   {
    "duration": 5,
    "start_time": "2023-03-30T11:40:37.303Z"
   },
   {
    "duration": 17,
    "start_time": "2023-03-30T11:40:37.309Z"
   },
   {
    "duration": 9,
    "start_time": "2023-03-30T11:40:37.334Z"
   },
   {
    "duration": 21,
    "start_time": "2023-03-30T11:40:37.344Z"
   },
   {
    "duration": 3,
    "start_time": "2023-03-30T11:40:37.367Z"
   },
   {
    "duration": 9,
    "start_time": "2023-03-30T11:40:37.371Z"
   },
   {
    "duration": 18,
    "start_time": "2023-03-30T11:40:37.381Z"
   },
   {
    "duration": 11,
    "start_time": "2023-03-30T11:40:37.400Z"
   },
   {
    "duration": 22,
    "start_time": "2023-03-30T11:40:37.412Z"
   },
   {
    "duration": 5,
    "start_time": "2023-03-30T11:40:37.435Z"
   },
   {
    "duration": 4,
    "start_time": "2023-03-30T11:41:03.595Z"
   }
  ],
  "kernelspec": {
   "display_name": "Python 3 (ipykernel)",
   "language": "python",
   "name": "python3"
  },
  "language_info": {
   "codemirror_mode": {
    "name": "ipython",
    "version": 3
   },
   "file_extension": ".py",
   "mimetype": "text/x-python",
   "name": "python",
   "nbconvert_exporter": "python",
   "pygments_lexer": "ipython3",
   "version": "3.9.13"
  },
  "toc": {
   "base_numbering": 1,
   "nav_menu": {},
   "number_sections": true,
   "sideBar": true,
   "skip_h1_title": true,
   "title_cell": "Table of Contents",
   "title_sidebar": "Contents",
   "toc_cell": false,
   "toc_position": {},
   "toc_section_display": true,
   "toc_window_display": false
  }
 },
 "nbformat": 4,
 "nbformat_minor": 2
}
