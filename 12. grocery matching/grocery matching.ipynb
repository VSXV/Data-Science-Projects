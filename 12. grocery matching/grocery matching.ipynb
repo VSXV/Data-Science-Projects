{
 "cells": [
  {
   "cell_type": "markdown",
   "metadata": {},
   "source": [
    "# Анализ данных"
   ]
  },
  {
   "cell_type": "code",
   "execution_count": null,
   "metadata": {},
   "outputs": [],
   "source": [
    "import catboost\n",
    "import faiss\n",
    "import matplotlib.pyplot as plt\n",
    "import numpy as np\n",
    "import pandas as pd\n",
    "import phik\n",
    "\n",
    "from sklearn.model_selection import train_test_split\n",
    "from sklearn.preprocessing import StandardScaler"
   ]
  },
  {
   "cell_type": "code",
   "execution_count": null,
   "metadata": {},
   "outputs": [],
   "source": [
    "df_base = pd.read_csv('data/base.csv', index_col=0)"
   ]
  },
  {
   "cell_type": "code",
   "execution_count": null,
   "metadata": {},
   "outputs": [],
   "source": [
    "df_base"
   ]
  },
  {
   "cell_type": "code",
   "execution_count": null,
   "metadata": {},
   "outputs": [],
   "source": [
    "df_base.shape"
   ]
  },
  {
   "cell_type": "code",
   "execution_count": null,
   "metadata": {},
   "outputs": [],
   "source": [
    "num_columns = df_base.shape[1]\n",
    "num_rows = 15\n",
    "num_cols = 5 \n",
    "\n",
    "fig, axes = plt.subplots(num_rows, num_cols, figsize=(20, 20))\n",
    "\n",
    "for i, ax in enumerate(axes.flat):\n",
    "    if i < num_columns:\n",
    "        df_base.iloc[:, i].hist(bins=100, ax=ax)\n",
    "        ax.set_title(f'Столбец {i}')\n",
    "    else:\n",
    "        ax.axis('off')\n",
    "\n",
    "plt.tight_layout()\n",
    "plt.show()"
   ]
  },
  {
   "cell_type": "code",
   "execution_count": null,
   "metadata": {},
   "outputs": [],
   "source": [
    "df_train = pd.read_csv(\"data/train.csv\", index_col=0)"
   ]
  },
  {
   "cell_type": "code",
   "execution_count": null,
   "metadata": {},
   "outputs": [],
   "source": [
    "df_train.shape"
   ]
  },
  {
   "cell_type": "code",
   "execution_count": null,
   "metadata": {},
   "outputs": [],
   "source": [
    "df_train"
   ]
  },
  {
   "cell_type": "code",
   "execution_count": null,
   "metadata": {},
   "outputs": [],
   "source": [
    "df_train_visualisation = df_train.copy().drop(['Target'], axis=1)"
   ]
  },
  {
   "cell_type": "code",
   "execution_count": null,
   "metadata": {},
   "outputs": [],
   "source": [
    "num_columns = df_train_visualisation.shape[1]\n",
    "\n",
    "fig, axes = plt.subplots(num_rows, num_cols, figsize=(20, 20))\n",
    "\n",
    "for i, ax in enumerate(axes.flat):\n",
    "    if i < num_columns:\n",
    "        df_train_visualisation.iloc[:, i].hist(bins=100, ax=ax)\n",
    "        ax.set_title(f'Столбец {i}')\n",
    "    else:\n",
    "        ax.axis('off')\n",
    "\n",
    "plt.tight_layout()\n",
    "plt.show()"
   ]
  },
  {
   "cell_type": "code",
   "execution_count": null,
   "metadata": {},
   "outputs": [],
   "source": [
    "del df_train_visualisation\n",
    "del num_columns\n",
    "del num_rows\n",
    "del num_cols\n",
    "del fig\n",
    "del axes\n",
    "del ax\n",
    "del i"
   ]
  },
  {
   "cell_type": "markdown",
   "metadata": {},
   "source": [
    "# Обработка данных"
   ]
  },
  {
   "cell_type": "code",
   "execution_count": null,
   "metadata": {},
   "outputs": [],
   "source": [
    "for df in [df_base, df_train]:\n",
    "    for column in ['6', '21', '25', '33', '44', '59', '65', '70']:\n",
    "        df.drop(column, axis=1, inplace=True)"
   ]
  },
  {
   "cell_type": "code",
   "execution_count": null,
   "metadata": {},
   "outputs": [],
   "source": [
    "targets = df_train[\"Target\"]\n",
    "df_train.drop(\"Target\", axis=1, inplace=True)"
   ]
  },
  {
   "cell_type": "code",
   "execution_count": null,
   "metadata": {},
   "outputs": [],
   "source": [
    "base_index = {k: v for k, v in enumerate(df_base.index.to_list())}"
   ]
  },
  {
   "cell_type": "code",
   "execution_count": null,
   "metadata": {},
   "outputs": [],
   "source": [
    "train_index = {k: v for k, v in enumerate(df_train.index.to_list())}"
   ]
  },
  {
   "cell_type": "code",
   "execution_count": null,
   "metadata": {},
   "outputs": [],
   "source": [
    "scaler = StandardScaler()\n",
    "columns_base = df_base.columns\n",
    "df_base = scaler.fit_transform(df_base)\n",
    "df_base = pd.DataFrame(df_base, columns=columns_base)\n",
    "\n",
    "columns_train = df_train.columns\n",
    "df_train = scaler.fit_transform(df_train)\n",
    "df_train = pd.DataFrame(df_train, columns=columns_train)\n",
    "\n",
    "df_base['id'] = base_index\n",
    "df_train['id'] = base_index\n",
    "\n",
    "df_base.set_index('id', inplace=True)\n",
    "df_train.set_index('id', inplace=True)\n",
    "\n",
    "del scaler\n",
    "del columns_base\n",
    "del columns_train"
   ]
  },
  {
   "cell_type": "markdown",
   "metadata": {},
   "source": [
    "# Работа с Faiss"
   ]
  },
  {
   "cell_type": "code",
   "execution_count": null,
   "metadata": {},
   "outputs": [],
   "source": [
    "dims = df_base.shape[1] # количество признаков\n",
    "n_cells = 500 # количество ячеек в индексе\n",
    "\n",
    "quantizer = faiss.IndexFlatL2(dims)\n",
    "idx_l2 = faiss.IndexIVFFlat(quantizer, dims, n_cells)\n",
    "\n",
    "del dims\n",
    "del n_cells\n",
    "del quantizer"
   ]
  },
  {
   "cell_type": "code",
   "execution_count": null,
   "metadata": {},
   "outputs": [],
   "source": [
    "idx_l2.train(np.ascontiguousarray(df_base).astype('float32'))\n",
    "\n",
    "idx_l2.add(np.ascontiguousarray(df_base).astype('float32'))"
   ]
  },
  {
   "cell_type": "code",
   "execution_count": null,
   "metadata": {},
   "outputs": [],
   "source": [
    "idx_l2.nprobe = 100 # количество ячеек, которые будут просмотрены при поиске\n",
    "r, idx = idx_l2.search(np.ascontiguousarray(df_train.values).astype('float32'), 5)"
   ]
  },
  {
   "cell_type": "code",
   "execution_count": null,
   "metadata": {},
   "outputs": [],
   "source": [
    "acc = 0\n",
    "for target, el in zip(targets.values.tolist(), idx.tolist()):\n",
    "    acc += int(target in [base_index[r] for r in el])\n",
    "\n",
    "print(100 * acc / len(idx), \"%\")"
   ]
  },
  {
   "cell_type": "code",
   "execution_count": null,
   "metadata": {},
   "outputs": [],
   "source": [
    "k = 50"
   ]
  },
  {
   "cell_type": "code",
   "execution_count": null,
   "metadata": {},
   "outputs": [],
   "source": [
    "r, idx = idx_l2.search(np.ascontiguousarray(df_train.values).astype('float32'), k)"
   ]
  },
  {
   "cell_type": "markdown",
   "metadata": {},
   "source": [
    "70.87% является лучшим показателем Faiss. Для ранджирования будем использовать большее количество значений k у отдадим их в другие модели. Если модель покажет значение меньше 70.87%, то будем использовать Faiss. Если больше, то заказчик примет решение о эфективности зятрат времени / качества."
   ]
  },
  {
   "cell_type": "markdown",
   "metadata": {},
   "source": [
    "# Ранжирование"
   ]
  },
  {
   "cell_type": "code",
   "execution_count": null,
   "metadata": {},
   "outputs": [],
   "source": [
    "idx = np.array([[base_index[_] for _ in el] for el in idx], dtype=object)"
   ]
  },
  {
   "cell_type": "code",
   "execution_count": null,
   "metadata": {},
   "outputs": [],
   "source": [
    "cb_target = np.array([[1 if x == target else 0 for x in el] for el, target in zip(idx.tolist(), targets.values.tolist())])\n",
    "cb_target = cb_target.reshape(-1, 1)"
   ]
  },
  {
   "cell_type": "code",
   "execution_count": null,
   "metadata": {},
   "outputs": [],
   "source": [
    "candidate_features = df_base.loc[idx.flatten()].values\n",
    "object_features = df_train.values\n",
    "\n",
    "reshaped_dist = r.reshape(-1,1)\n",
    "\n",
    "repeated_object = np.repeat(object_features, k, axis=0)\n",
    "\n",
    "cb_features = np.hstack((reshaped_dist, candidate_features, repeated_object))\n",
    "print('CB_features:', cb_features.shape)"
   ]
  },
  {
   "cell_type": "code",
   "execution_count": null,
   "metadata": {},
   "outputs": [],
   "source": [
    "X_train, X_test, y_train, y_test = train_test_split(cb_features, cb_target, test_size=0.1)"
   ]
  },
  {
   "cell_type": "code",
   "execution_count": null,
   "metadata": {},
   "outputs": [],
   "source": [
    "del acc\n",
    "del base_index\n",
    "del candidate_features\n",
    "del cb_features\n",
    "del cb_target\n",
    "del column\n",
    "del object_features\n",
    "del reshaped_dist\n",
    "del repeated_object\n",
    "del df_base\n",
    "del df_train\n",
    "del targets\n",
    "del df\n",
    "del idx\n",
    "del r"
   ]
  },
  {
   "cell_type": "code",
   "execution_count": null,
   "metadata": {},
   "outputs": [],
   "source": [
    "cb = catboost.CatBoostClassifier(verbose=True, random_state=42)"
   ]
  },
  {
   "cell_type": "code",
   "execution_count": null,
   "metadata": {},
   "outputs": [],
   "source": [
    "cb.fit(X_train, y_train)\n",
    "cb.predict(X_test)"
   ]
  },
  {
   "cell_type": "code",
   "execution_count": null,
   "metadata": {},
   "outputs": [],
   "source": [
    "print(cb.score(X_test, y_test))"
   ]
  },
  {
   "cell_type": "markdown",
   "metadata": {},
   "source": [
    "# Выводы"
   ]
  },
  {
   "cell_type": "markdown",
   "metadata": {},
   "source": [
    "1. Работа с сэмплом базовых данных без предобработки в колличестве 50 000 строк: **13.8%** точность на тестовой выборке\n",
    "2. Кластеры 50, вся база: **8.681%, 14с.** \n",
    "3. Кластеры 50, вся база, n_porbe 10: **13.787%, 140с.**\n",
    "4. Кластеры 50, вся база, n_porbe 10, нормализация: **14.374%, 154с.**\n",
    "5. Вся база, нормализация: **14.396%, 655с.**\n",
    "6. Кластеры 500, вся база, n_probe 100, нормализация: **14.391%, 93с.**\n",
    "7. Кластеры 1700, вся база, n_probe 300, нормализация: **14.392%, 131с.**\n",
    "8. Кластеры 500, вся база, n_probe 100, нормализация, удаление признайов без распределения: **17.044%, 148с.**\n",
    "9. Кластеры 500, вся база, n_probe 100, нормализация, удаление признайов без распределения, удаление признаков с разбросанными показателями: **30.646%, 139с.**\n",
    "10. Кластеры 500, вся база, n_probe 100, нормализация, удаление всех признаков без нормального распределения: **69.661%, 120с.**\n",
    "11. Кластеры 500, вся база, n_probe 100, удаление всех признаков без нормального распределения: **69.601%, 120с.**\n",
    "12. Кластеры 1, вся база, удаление всех признаков без нормального распределения: **69.729%, 570с.**\n",
    "13. Кластеры 500, вся база, n_probe 100, StandartScaler, удаление всех признаков без нормального распределения: **70.87%, 128с.**\n",
    "14. Кластеры 500, вся база, n_probe 100, нормализация, StandartScaler, удаление всех признаков без нормального распределения: **70.432%, 125с.**\n",
    "15. Кластеры 500, вся база, n_probe 100, MinMax, StandartScaler, удаление всех признаков без нормального распределения: **70.659%, 123с.**\n",
    "16. Кластеры 500, вся база, n_probe 100, MinMax, удаление всех признаков без нормального распределения: **70.659%, 125с.**\n",
    "17. Кластеры 500, вся база, n_probe 100, StandartScaler: **65.393%, 147с.**"
   ]
  },
  {
   "cell_type": "markdown",
   "metadata": {},
   "source": []
  }
 ],
 "metadata": {
  "kernelspec": {
   "display_name": "base",
   "language": "python",
   "name": "python3"
  },
  "language_info": {
   "codemirror_mode": {
    "name": "ipython",
    "version": 3
   },
   "file_extension": ".py",
   "mimetype": "text/x-python",
   "name": "python",
   "nbconvert_exporter": "python",
   "pygments_lexer": "ipython3",
   "version": "3.11.0"
  },
  "orig_nbformat": 4
 },
 "nbformat": 4,
 "nbformat_minor": 2
}
