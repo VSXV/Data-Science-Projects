{
 "cells": [
  {
   "cell_type": "markdown",
   "metadata": {
    "toc": true
   },
   "source": [
    "<h1>Содержание<span class=\"tocSkip\"></span></h1>\n",
    "<div class=\"toc\"><ul class=\"toc-item\"><li><span><a href=\"#Подготовка-данных\" data-toc-modified-id=\"Подготовка-данных-1\"><span class=\"toc-item-num\">1&nbsp;&nbsp;</span>Подготовка данных</a></span></li><li><span><a href=\"#Исследование-задачи\" data-toc-modified-id=\"Исследование-задачи-2\"><span class=\"toc-item-num\">2&nbsp;&nbsp;</span>Исследование задачи</a></span></li><li><span><a href=\"#Борьба-с-дисбалансом\" data-toc-modified-id=\"Борьба-с-дисбалансом-3\"><span class=\"toc-item-num\">3&nbsp;&nbsp;</span>Борьба с дисбалансом</a></span></li><li><span><a href=\"#Тестирование-модели\" data-toc-modified-id=\"Тестирование-модели-4\"><span class=\"toc-item-num\">4&nbsp;&nbsp;</span>Тестирование модели</a></span></li><li><span><a href=\"#Чек-лист-готовности-проекта\" data-toc-modified-id=\"Чек-лист-готовности-проекта-5\"><span class=\"toc-item-num\">5&nbsp;&nbsp;</span>Чек-лист готовности проекта</a></span></li></ul></div>"
   ]
  },
  {
   "cell_type": "markdown",
   "metadata": {},
   "source": [
    "# Отток клиентов"
   ]
  },
  {
   "cell_type": "markdown",
   "metadata": {},
   "source": [
    "Из «Бета-Банка» стали уходить клиенты. Каждый месяц. Немного, но заметно. Банковские маркетологи посчитали: сохранять текущих клиентов дешевле, чем привлекать новых.\n",
    "\n",
    "Нужно спрогнозировать, уйдёт клиент из банка в ближайшее время или нет. Вам предоставлены исторические данные о поведении клиентов и расторжении договоров с банком. \n",
    "\n",
    "Постройте модель с предельно большим значением *F1*-меры. Чтобы сдать проект успешно, нужно довести метрику до 0.59. Проверьте *F1*-меру на тестовой выборке самостоятельно.\n",
    "\n",
    "Дополнительно измеряйте *AUC-ROC*, сравнивайте её значение с *F1*-мерой.\n",
    "\n",
    "Источник данных: [https://www.kaggle.com/barelydedicated/bank-customer-churn-modeling](https://www.kaggle.com/barelydedicated/bank-customer-churn-modeling)"
   ]
  },
  {
   "attachments": {},
   "cell_type": "markdown",
   "metadata": {},
   "source": [
    "Признаки\n",
    "\n",
    "- RowNumber — индекс строки в данных\n",
    "- CustomerId — уникальный идентификатор клиента\n",
    "- Surname — фамилия\n",
    "- CreditScore — кредитный рейтинг\n",
    "- Geography — страна проживания\n",
    "- Gender — пол\n",
    "- Age — возраст\n",
    "- Tenure — сколько лет человек является клиентом банка\n",
    "- Balance — баланс на счёте\n",
    "- NumOfProducts — количество продуктов банка, используемых клиентом\n",
    "- HasCrCard — наличие кредитной карты\n",
    "- IsActiveMember — активность клиента\n",
    "- EstimatedSalary — предполагаемая зарплата\n",
    "\n",
    "Целевой признак\n",
    "\n",
    "- Exited — факт ухода клиента"
   ]
  },
  {
   "attachments": {},
   "cell_type": "markdown",
   "metadata": {},
   "source": [
    "## 1. Подготовка данных"
   ]
  },
  {
   "attachments": {},
   "cell_type": "markdown",
   "metadata": {},
   "source": [
    "### Импортируем требуемые библиотеки"
   ]
  },
  {
   "cell_type": "code",
   "execution_count": 37,
   "metadata": {},
   "outputs": [],
   "source": [
    "import pandas as pd\n",
    "import numpy as np\n",
    "import matplotlib.pyplot as plt\n",
    "from sklearn.model_selection import train_test_split\n",
    "from sklearn.preprocessing import OrdinalEncoder, StandardScaler\n",
    "from sklearn.metrics import f1_score, confusion_matrix, recall_score, precision_score, precision_recall_curve, roc_auc_score, roc_curve\n",
    "from sklearn.linear_model import LogisticRegression\n",
    "from sklearn.utils import shuffle\n",
    "from sklearn.tree import DecisionTreeClassifier\n",
    "from sklearn.ensemble import RandomForestClassifier"
   ]
  },
  {
   "attachments": {},
   "cell_type": "markdown",
   "metadata": {},
   "source": [
    "### Загружаем и изучаем датасет"
   ]
  },
  {
   "cell_type": "code",
   "execution_count": 38,
   "metadata": {},
   "outputs": [],
   "source": [
    "try:\n",
    "    data = pd.read_csv('Churn.csv')\n",
    "except:\n",
    "    data = pd.read_csv('https://code.s3.yandex.net/datasets/Churn.csv')"
   ]
  },
  {
   "cell_type": "code",
   "execution_count": 39,
   "metadata": {},
   "outputs": [],
   "source": [
    "data['Tenure'] = data['Tenure'].fillna(0)"
   ]
  },
  {
   "cell_type": "code",
   "execution_count": 40,
   "metadata": {},
   "outputs": [
    {
     "name": "stdout",
     "output_type": "stream",
     "text": [
      "<class 'pandas.core.frame.DataFrame'>\n",
      "RangeIndex: 10000 entries, 0 to 9999\n",
      "Data columns (total 14 columns):\n",
      " #   Column           Non-Null Count  Dtype  \n",
      "---  ------           --------------  -----  \n",
      " 0   RowNumber        10000 non-null  int64  \n",
      " 1   CustomerId       10000 non-null  int64  \n",
      " 2   Surname          10000 non-null  object \n",
      " 3   CreditScore      10000 non-null  int64  \n",
      " 4   Geography        10000 non-null  object \n",
      " 5   Gender           10000 non-null  object \n",
      " 6   Age              10000 non-null  int64  \n",
      " 7   Tenure           10000 non-null  float64\n",
      " 8   Balance          10000 non-null  float64\n",
      " 9   NumOfProducts    10000 non-null  int64  \n",
      " 10  HasCrCard        10000 non-null  int64  \n",
      " 11  IsActiveMember   10000 non-null  int64  \n",
      " 12  EstimatedSalary  10000 non-null  float64\n",
      " 13  Exited           10000 non-null  int64  \n",
      "dtypes: float64(3), int64(8), object(3)\n",
      "memory usage: 1.1+ MB\n",
      "None\n"
     ]
    },
    {
     "data": {
      "text/html": [
       "<div>\n",
       "<style scoped>\n",
       "    .dataframe tbody tr th:only-of-type {\n",
       "        vertical-align: middle;\n",
       "    }\n",
       "\n",
       "    .dataframe tbody tr th {\n",
       "        vertical-align: top;\n",
       "    }\n",
       "\n",
       "    .dataframe thead th {\n",
       "        text-align: right;\n",
       "    }\n",
       "</style>\n",
       "<table border=\"1\" class=\"dataframe\">\n",
       "  <thead>\n",
       "    <tr style=\"text-align: right;\">\n",
       "      <th></th>\n",
       "      <th>RowNumber</th>\n",
       "      <th>CustomerId</th>\n",
       "      <th>Surname</th>\n",
       "      <th>CreditScore</th>\n",
       "      <th>Geography</th>\n",
       "      <th>Gender</th>\n",
       "      <th>Age</th>\n",
       "      <th>Tenure</th>\n",
       "      <th>Balance</th>\n",
       "      <th>NumOfProducts</th>\n",
       "      <th>HasCrCard</th>\n",
       "      <th>IsActiveMember</th>\n",
       "      <th>EstimatedSalary</th>\n",
       "      <th>Exited</th>\n",
       "    </tr>\n",
       "  </thead>\n",
       "  <tbody>\n",
       "    <tr>\n",
       "      <th>0</th>\n",
       "      <td>1</td>\n",
       "      <td>15634602</td>\n",
       "      <td>Hargrave</td>\n",
       "      <td>619</td>\n",
       "      <td>France</td>\n",
       "      <td>Female</td>\n",
       "      <td>42</td>\n",
       "      <td>2.0</td>\n",
       "      <td>0.00</td>\n",
       "      <td>1</td>\n",
       "      <td>1</td>\n",
       "      <td>1</td>\n",
       "      <td>101348.88</td>\n",
       "      <td>1</td>\n",
       "    </tr>\n",
       "    <tr>\n",
       "      <th>1</th>\n",
       "      <td>2</td>\n",
       "      <td>15647311</td>\n",
       "      <td>Hill</td>\n",
       "      <td>608</td>\n",
       "      <td>Spain</td>\n",
       "      <td>Female</td>\n",
       "      <td>41</td>\n",
       "      <td>1.0</td>\n",
       "      <td>83807.86</td>\n",
       "      <td>1</td>\n",
       "      <td>0</td>\n",
       "      <td>1</td>\n",
       "      <td>112542.58</td>\n",
       "      <td>0</td>\n",
       "    </tr>\n",
       "    <tr>\n",
       "      <th>2</th>\n",
       "      <td>3</td>\n",
       "      <td>15619304</td>\n",
       "      <td>Onio</td>\n",
       "      <td>502</td>\n",
       "      <td>France</td>\n",
       "      <td>Female</td>\n",
       "      <td>42</td>\n",
       "      <td>8.0</td>\n",
       "      <td>159660.80</td>\n",
       "      <td>3</td>\n",
       "      <td>1</td>\n",
       "      <td>0</td>\n",
       "      <td>113931.57</td>\n",
       "      <td>1</td>\n",
       "    </tr>\n",
       "    <tr>\n",
       "      <th>3</th>\n",
       "      <td>4</td>\n",
       "      <td>15701354</td>\n",
       "      <td>Boni</td>\n",
       "      <td>699</td>\n",
       "      <td>France</td>\n",
       "      <td>Female</td>\n",
       "      <td>39</td>\n",
       "      <td>1.0</td>\n",
       "      <td>0.00</td>\n",
       "      <td>2</td>\n",
       "      <td>0</td>\n",
       "      <td>0</td>\n",
       "      <td>93826.63</td>\n",
       "      <td>0</td>\n",
       "    </tr>\n",
       "    <tr>\n",
       "      <th>4</th>\n",
       "      <td>5</td>\n",
       "      <td>15737888</td>\n",
       "      <td>Mitchell</td>\n",
       "      <td>850</td>\n",
       "      <td>Spain</td>\n",
       "      <td>Female</td>\n",
       "      <td>43</td>\n",
       "      <td>2.0</td>\n",
       "      <td>125510.82</td>\n",
       "      <td>1</td>\n",
       "      <td>1</td>\n",
       "      <td>1</td>\n",
       "      <td>79084.10</td>\n",
       "      <td>0</td>\n",
       "    </tr>\n",
       "    <tr>\n",
       "      <th>5</th>\n",
       "      <td>6</td>\n",
       "      <td>15574012</td>\n",
       "      <td>Chu</td>\n",
       "      <td>645</td>\n",
       "      <td>Spain</td>\n",
       "      <td>Male</td>\n",
       "      <td>44</td>\n",
       "      <td>8.0</td>\n",
       "      <td>113755.78</td>\n",
       "      <td>2</td>\n",
       "      <td>1</td>\n",
       "      <td>0</td>\n",
       "      <td>149756.71</td>\n",
       "      <td>1</td>\n",
       "    </tr>\n",
       "    <tr>\n",
       "      <th>6</th>\n",
       "      <td>7</td>\n",
       "      <td>15592531</td>\n",
       "      <td>Bartlett</td>\n",
       "      <td>822</td>\n",
       "      <td>France</td>\n",
       "      <td>Male</td>\n",
       "      <td>50</td>\n",
       "      <td>7.0</td>\n",
       "      <td>0.00</td>\n",
       "      <td>2</td>\n",
       "      <td>1</td>\n",
       "      <td>1</td>\n",
       "      <td>10062.80</td>\n",
       "      <td>0</td>\n",
       "    </tr>\n",
       "    <tr>\n",
       "      <th>7</th>\n",
       "      <td>8</td>\n",
       "      <td>15656148</td>\n",
       "      <td>Obinna</td>\n",
       "      <td>376</td>\n",
       "      <td>Germany</td>\n",
       "      <td>Female</td>\n",
       "      <td>29</td>\n",
       "      <td>4.0</td>\n",
       "      <td>115046.74</td>\n",
       "      <td>4</td>\n",
       "      <td>1</td>\n",
       "      <td>0</td>\n",
       "      <td>119346.88</td>\n",
       "      <td>1</td>\n",
       "    </tr>\n",
       "    <tr>\n",
       "      <th>8</th>\n",
       "      <td>9</td>\n",
       "      <td>15792365</td>\n",
       "      <td>He</td>\n",
       "      <td>501</td>\n",
       "      <td>France</td>\n",
       "      <td>Male</td>\n",
       "      <td>44</td>\n",
       "      <td>4.0</td>\n",
       "      <td>142051.07</td>\n",
       "      <td>2</td>\n",
       "      <td>0</td>\n",
       "      <td>1</td>\n",
       "      <td>74940.50</td>\n",
       "      <td>0</td>\n",
       "    </tr>\n",
       "    <tr>\n",
       "      <th>9</th>\n",
       "      <td>10</td>\n",
       "      <td>15592389</td>\n",
       "      <td>H?</td>\n",
       "      <td>684</td>\n",
       "      <td>France</td>\n",
       "      <td>Male</td>\n",
       "      <td>27</td>\n",
       "      <td>2.0</td>\n",
       "      <td>134603.88</td>\n",
       "      <td>1</td>\n",
       "      <td>1</td>\n",
       "      <td>1</td>\n",
       "      <td>71725.73</td>\n",
       "      <td>0</td>\n",
       "    </tr>\n",
       "  </tbody>\n",
       "</table>\n",
       "</div>"
      ],
      "text/plain": [
       "   RowNumber  CustomerId   Surname  CreditScore Geography  Gender  Age  \\\n",
       "0          1    15634602  Hargrave          619    France  Female   42   \n",
       "1          2    15647311      Hill          608     Spain  Female   41   \n",
       "2          3    15619304      Onio          502    France  Female   42   \n",
       "3          4    15701354      Boni          699    France  Female   39   \n",
       "4          5    15737888  Mitchell          850     Spain  Female   43   \n",
       "5          6    15574012       Chu          645     Spain    Male   44   \n",
       "6          7    15592531  Bartlett          822    France    Male   50   \n",
       "7          8    15656148    Obinna          376   Germany  Female   29   \n",
       "8          9    15792365        He          501    France    Male   44   \n",
       "9         10    15592389        H?          684    France    Male   27   \n",
       "\n",
       "   Tenure    Balance  NumOfProducts  HasCrCard  IsActiveMember  \\\n",
       "0     2.0       0.00              1          1               1   \n",
       "1     1.0   83807.86              1          0               1   \n",
       "2     8.0  159660.80              3          1               0   \n",
       "3     1.0       0.00              2          0               0   \n",
       "4     2.0  125510.82              1          1               1   \n",
       "5     8.0  113755.78              2          1               0   \n",
       "6     7.0       0.00              2          1               1   \n",
       "7     4.0  115046.74              4          1               0   \n",
       "8     4.0  142051.07              2          0               1   \n",
       "9     2.0  134603.88              1          1               1   \n",
       "\n",
       "   EstimatedSalary  Exited  \n",
       "0        101348.88       1  \n",
       "1        112542.58       0  \n",
       "2        113931.57       1  \n",
       "3         93826.63       0  \n",
       "4         79084.10       0  \n",
       "5        149756.71       1  \n",
       "6         10062.80       0  \n",
       "7        119346.88       1  \n",
       "8         74940.50       0  \n",
       "9         71725.73       0  "
      ]
     },
     "execution_count": 40,
     "metadata": {},
     "output_type": "execute_result"
    }
   ],
   "source": [
    "print(data.info())\n",
    "data.head(10)"
   ]
  },
  {
   "attachments": {},
   "cell_type": "markdown",
   "metadata": {},
   "source": [
    "### Применяем порядковое кодирование\n",
    "и выводим полученный датасет"
   ]
  },
  {
   "cell_type": "code",
   "execution_count": 41,
   "metadata": {},
   "outputs": [
    {
     "name": "stdout",
     "output_type": "stream",
     "text": [
      "(7500, 13)\n",
      "(2500, 13)\n",
      "<class 'pandas.core.frame.DataFrame'>\n",
      "Int64Index: 7500 entries, 226 to 4578\n",
      "Data columns (total 13 columns):\n",
      " #   Column           Non-Null Count  Dtype  \n",
      "---  ------           --------------  -----  \n",
      " 0   RowNumber        7500 non-null   float64\n",
      " 1   CustomerId       7500 non-null   float64\n",
      " 2   Surname          7500 non-null   float64\n",
      " 3   CreditScore      7500 non-null   float64\n",
      " 4   Geography        7500 non-null   float64\n",
      " 5   Gender           7500 non-null   float64\n",
      " 6   Age              7500 non-null   float64\n",
      " 7   Tenure           7500 non-null   float64\n",
      " 8   Balance          7500 non-null   float64\n",
      " 9   NumOfProducts    7500 non-null   float64\n",
      " 10  HasCrCard        7500 non-null   float64\n",
      " 11  IsActiveMember   7500 non-null   float64\n",
      " 12  EstimatedSalary  7500 non-null   float64\n",
      "dtypes: float64(13)\n",
      "memory usage: 820.3 KB\n",
      "None\n"
     ]
    },
    {
     "data": {
      "text/html": [
       "<div>\n",
       "<style scoped>\n",
       "    .dataframe tbody tr th:only-of-type {\n",
       "        vertical-align: middle;\n",
       "    }\n",
       "\n",
       "    .dataframe tbody tr th {\n",
       "        vertical-align: top;\n",
       "    }\n",
       "\n",
       "    .dataframe thead th {\n",
       "        text-align: right;\n",
       "    }\n",
       "</style>\n",
       "<table border=\"1\" class=\"dataframe\">\n",
       "  <thead>\n",
       "    <tr style=\"text-align: right;\">\n",
       "      <th></th>\n",
       "      <th>RowNumber</th>\n",
       "      <th>CustomerId</th>\n",
       "      <th>Surname</th>\n",
       "      <th>CreditScore</th>\n",
       "      <th>Geography</th>\n",
       "      <th>Gender</th>\n",
       "      <th>Age</th>\n",
       "      <th>Tenure</th>\n",
       "      <th>Balance</th>\n",
       "      <th>NumOfProducts</th>\n",
       "      <th>HasCrCard</th>\n",
       "      <th>IsActiveMember</th>\n",
       "      <th>EstimatedSalary</th>\n",
       "    </tr>\n",
       "  </thead>\n",
       "  <tbody>\n",
       "    <tr>\n",
       "      <th>226</th>\n",
       "      <td>226.0</td>\n",
       "      <td>8349.0</td>\n",
       "      <td>439.0</td>\n",
       "      <td>303.0</td>\n",
       "      <td>0.0</td>\n",
       "      <td>0.0</td>\n",
       "      <td>12.0</td>\n",
       "      <td>9.0</td>\n",
       "      <td>0.0</td>\n",
       "      <td>1.0</td>\n",
       "      <td>1.0</td>\n",
       "      <td>1.0</td>\n",
       "      <td>1322.0</td>\n",
       "    </tr>\n",
       "    <tr>\n",
       "      <th>7756</th>\n",
       "      <td>7756.0</td>\n",
       "      <td>1600.0</td>\n",
       "      <td>1195.0</td>\n",
       "      <td>230.0</td>\n",
       "      <td>2.0</td>\n",
       "      <td>0.0</td>\n",
       "      <td>18.0</td>\n",
       "      <td>7.0</td>\n",
       "      <td>2900.0</td>\n",
       "      <td>0.0</td>\n",
       "      <td>1.0</td>\n",
       "      <td>1.0</td>\n",
       "      <td>7790.0</td>\n",
       "    </tr>\n",
       "    <tr>\n",
       "      <th>2065</th>\n",
       "      <td>2065.0</td>\n",
       "      <td>616.0</td>\n",
       "      <td>690.0</td>\n",
       "      <td>235.0</td>\n",
       "      <td>0.0</td>\n",
       "      <td>1.0</td>\n",
       "      <td>15.0</td>\n",
       "      <td>8.0</td>\n",
       "      <td>0.0</td>\n",
       "      <td>1.0</td>\n",
       "      <td>1.0</td>\n",
       "      <td>0.0</td>\n",
       "      <td>6954.0</td>\n",
       "    </tr>\n",
       "    <tr>\n",
       "      <th>2800</th>\n",
       "      <td>2800.0</td>\n",
       "      <td>3240.0</td>\n",
       "      <td>487.0</td>\n",
       "      <td>378.0</td>\n",
       "      <td>0.0</td>\n",
       "      <td>1.0</td>\n",
       "      <td>33.0</td>\n",
       "      <td>9.0</td>\n",
       "      <td>5709.0</td>\n",
       "      <td>1.0</td>\n",
       "      <td>1.0</td>\n",
       "      <td>0.0</td>\n",
       "      <td>1965.0</td>\n",
       "    </tr>\n",
       "    <tr>\n",
       "      <th>7028</th>\n",
       "      <td>7028.0</td>\n",
       "      <td>2078.0</td>\n",
       "      <td>1888.0</td>\n",
       "      <td>327.0</td>\n",
       "      <td>1.0</td>\n",
       "      <td>1.0</td>\n",
       "      <td>8.0</td>\n",
       "      <td>0.0</td>\n",
       "      <td>5283.0</td>\n",
       "      <td>0.0</td>\n",
       "      <td>0.0</td>\n",
       "      <td>0.0</td>\n",
       "      <td>2501.0</td>\n",
       "    </tr>\n",
       "    <tr>\n",
       "      <th>6894</th>\n",
       "      <td>6894.0</td>\n",
       "      <td>5672.0</td>\n",
       "      <td>2803.0</td>\n",
       "      <td>299.0</td>\n",
       "      <td>2.0</td>\n",
       "      <td>1.0</td>\n",
       "      <td>8.0</td>\n",
       "      <td>8.0</td>\n",
       "      <td>2895.0</td>\n",
       "      <td>0.0</td>\n",
       "      <td>1.0</td>\n",
       "      <td>1.0</td>\n",
       "      <td>4150.0</td>\n",
       "    </tr>\n",
       "    <tr>\n",
       "      <th>4226</th>\n",
       "      <td>4226.0</td>\n",
       "      <td>7498.0</td>\n",
       "      <td>2869.0</td>\n",
       "      <td>260.0</td>\n",
       "      <td>2.0</td>\n",
       "      <td>0.0</td>\n",
       "      <td>18.0</td>\n",
       "      <td>8.0</td>\n",
       "      <td>0.0</td>\n",
       "      <td>1.0</td>\n",
       "      <td>1.0</td>\n",
       "      <td>0.0</td>\n",
       "      <td>4577.0</td>\n",
       "    </tr>\n",
       "    <tr>\n",
       "      <th>5857</th>\n",
       "      <td>5857.0</td>\n",
       "      <td>9922.0</td>\n",
       "      <td>909.0</td>\n",
       "      <td>203.0</td>\n",
       "      <td>0.0</td>\n",
       "      <td>0.0</td>\n",
       "      <td>38.0</td>\n",
       "      <td>0.0</td>\n",
       "      <td>0.0</td>\n",
       "      <td>0.0</td>\n",
       "      <td>1.0</td>\n",
       "      <td>0.0</td>\n",
       "      <td>1279.0</td>\n",
       "    </tr>\n",
       "    <tr>\n",
       "      <th>142</th>\n",
       "      <td>142.0</td>\n",
       "      <td>2484.0</td>\n",
       "      <td>919.0</td>\n",
       "      <td>291.0</td>\n",
       "      <td>0.0</td>\n",
       "      <td>0.0</td>\n",
       "      <td>25.0</td>\n",
       "      <td>5.0</td>\n",
       "      <td>3727.0</td>\n",
       "      <td>0.0</td>\n",
       "      <td>1.0</td>\n",
       "      <td>1.0</td>\n",
       "      <td>9657.0</td>\n",
       "    </tr>\n",
       "    <tr>\n",
       "      <th>7107</th>\n",
       "      <td>7107.0</td>\n",
       "      <td>8053.0</td>\n",
       "      <td>2001.0</td>\n",
       "      <td>320.0</td>\n",
       "      <td>1.0</td>\n",
       "      <td>0.0</td>\n",
       "      <td>27.0</td>\n",
       "      <td>1.0</td>\n",
       "      <td>1409.0</td>\n",
       "      <td>1.0</td>\n",
       "      <td>1.0</td>\n",
       "      <td>0.0</td>\n",
       "      <td>2480.0</td>\n",
       "    </tr>\n",
       "  </tbody>\n",
       "</table>\n",
       "</div>"
      ],
      "text/plain": [
       "      RowNumber  CustomerId  Surname  CreditScore  Geography  Gender   Age  \\\n",
       "226       226.0      8349.0    439.0        303.0        0.0     0.0  12.0   \n",
       "7756     7756.0      1600.0   1195.0        230.0        2.0     0.0  18.0   \n",
       "2065     2065.0       616.0    690.0        235.0        0.0     1.0  15.0   \n",
       "2800     2800.0      3240.0    487.0        378.0        0.0     1.0  33.0   \n",
       "7028     7028.0      2078.0   1888.0        327.0        1.0     1.0   8.0   \n",
       "6894     6894.0      5672.0   2803.0        299.0        2.0     1.0   8.0   \n",
       "4226     4226.0      7498.0   2869.0        260.0        2.0     0.0  18.0   \n",
       "5857     5857.0      9922.0    909.0        203.0        0.0     0.0  38.0   \n",
       "142       142.0      2484.0    919.0        291.0        0.0     0.0  25.0   \n",
       "7107     7107.0      8053.0   2001.0        320.0        1.0     0.0  27.0   \n",
       "\n",
       "      Tenure  Balance  NumOfProducts  HasCrCard  IsActiveMember  \\\n",
       "226      9.0      0.0            1.0        1.0             1.0   \n",
       "7756     7.0   2900.0            0.0        1.0             1.0   \n",
       "2065     8.0      0.0            1.0        1.0             0.0   \n",
       "2800     9.0   5709.0            1.0        1.0             0.0   \n",
       "7028     0.0   5283.0            0.0        0.0             0.0   \n",
       "6894     8.0   2895.0            0.0        1.0             1.0   \n",
       "4226     8.0      0.0            1.0        1.0             0.0   \n",
       "5857     0.0      0.0            0.0        1.0             0.0   \n",
       "142      5.0   3727.0            0.0        1.0             1.0   \n",
       "7107     1.0   1409.0            1.0        1.0             0.0   \n",
       "\n",
       "      EstimatedSalary  \n",
       "226            1322.0  \n",
       "7756           7790.0  \n",
       "2065           6954.0  \n",
       "2800           1965.0  \n",
       "7028           2501.0  \n",
       "6894           4150.0  \n",
       "4226           4577.0  \n",
       "5857           1279.0  \n",
       "142            9657.0  \n",
       "7107           2480.0  "
      ]
     },
     "execution_count": 41,
     "metadata": {},
     "output_type": "execute_result"
    }
   ],
   "source": [
    "encoder = OrdinalEncoder() \n",
    "encoder.fit(data) \n",
    "data_ordinal = encoder.transform(data) \n",
    "data_ordinal = pd.DataFrame(encoder.transform(data), columns=data.columns) \n",
    "\n",
    "features = data_ordinal.drop(['Exited'], axis=1)\n",
    "target = data_ordinal['Exited']\n",
    "\n",
    "features_train, features_valid, target_train, target_valid = train_test_split(\n",
    "    features, target, test_size=.25, random_state=12345)\n",
    "\n",
    "print(features_train.shape)\n",
    "print(features_valid.shape)\n",
    "print(features_train.info())\n",
    "features_train.head(10)"
   ]
  },
  {
   "attachments": {},
   "cell_type": "markdown",
   "metadata": {},
   "source": [
    "### Выполняем масштабирование признаков"
   ]
  },
  {
   "cell_type": "code",
   "execution_count": 42,
   "metadata": {},
   "outputs": [
    {
     "name": "stdout",
     "output_type": "stream",
     "text": [
      "(7500, 13)\n"
     ]
    }
   ],
   "source": [
    "numeric = ['CreditScore', 'Geography', 'Gender', 'Age', 'Tenure', 'Balance', 'NumOfProducts', 'HasCrCard', \n",
    "           'IsActiveMember', 'EstimatedSalary']\n",
    "\n",
    "scaler = StandardScaler()\n",
    "scaler.fit(features_train[numeric])\n",
    "features_train[numeric] = scaler.transform(features_train[numeric])\n",
    "features_valid[numeric] = scaler.transform(features_valid[numeric])\n",
    "\n",
    "print(features_train.shape) "
   ]
  },
  {
   "attachments": {},
   "cell_type": "markdown",
   "metadata": {},
   "source": [
    "## 2. Исследование задачи"
   ]
  },
  {
   "attachments": {},
   "cell_type": "markdown",
   "metadata": {},
   "source": [
    "На основании подготовленных данных проверим показатели нескольких моделей без учета дисбаланса классов."
   ]
  },
  {
   "cell_type": "code",
   "execution_count": 43,
   "metadata": {},
   "outputs": [
    {
     "data": {
      "text/html": [
       "<div>\n",
       "<style scoped>\n",
       "    .dataframe tbody tr th:only-of-type {\n",
       "        vertical-align: middle;\n",
       "    }\n",
       "\n",
       "    .dataframe tbody tr th {\n",
       "        vertical-align: top;\n",
       "    }\n",
       "\n",
       "    .dataframe thead th {\n",
       "        text-align: right;\n",
       "    }\n",
       "</style>\n",
       "<table border=\"1\" class=\"dataframe\">\n",
       "  <thead>\n",
       "    <tr style=\"text-align: right;\">\n",
       "      <th></th>\n",
       "      <th>RowNumber</th>\n",
       "      <th>CustomerId</th>\n",
       "      <th>Surname</th>\n",
       "      <th>CreditScore</th>\n",
       "      <th>Geography</th>\n",
       "      <th>Gender</th>\n",
       "      <th>Age</th>\n",
       "      <th>Tenure</th>\n",
       "      <th>Balance</th>\n",
       "      <th>NumOfProducts</th>\n",
       "      <th>HasCrCard</th>\n",
       "      <th>IsActiveMember</th>\n",
       "      <th>EstimatedSalary</th>\n",
       "    </tr>\n",
       "  </thead>\n",
       "  <tbody>\n",
       "    <tr>\n",
       "      <th>226</th>\n",
       "      <td>226.0</td>\n",
       "      <td>8349.0</td>\n",
       "      <td>439.0</td>\n",
       "      <td>0.442946</td>\n",
       "      <td>-0.903514</td>\n",
       "      <td>-1.091944</td>\n",
       "      <td>-0.841540</td>\n",
       "      <td>1.426885</td>\n",
       "      <td>-0.954573</td>\n",
       "      <td>0.817772</td>\n",
       "      <td>0.644278</td>\n",
       "      <td>0.959999</td>\n",
       "      <td>-1.271910</td>\n",
       "    </tr>\n",
       "    <tr>\n",
       "      <th>7756</th>\n",
       "      <td>7756.0</td>\n",
       "      <td>1600.0</td>\n",
       "      <td>1195.0</td>\n",
       "      <td>-0.311975</td>\n",
       "      <td>1.513160</td>\n",
       "      <td>-1.091944</td>\n",
       "      <td>-0.270755</td>\n",
       "      <td>0.784858</td>\n",
       "      <td>0.409643</td>\n",
       "      <td>-0.896874</td>\n",
       "      <td>0.644278</td>\n",
       "      <td>0.959999</td>\n",
       "      <td>0.959687</td>\n",
       "    </tr>\n",
       "    <tr>\n",
       "      <th>2065</th>\n",
       "      <td>2065.0</td>\n",
       "      <td>616.0</td>\n",
       "      <td>690.0</td>\n",
       "      <td>-0.260268</td>\n",
       "      <td>-0.903514</td>\n",
       "      <td>0.915798</td>\n",
       "      <td>-0.556148</td>\n",
       "      <td>1.105871</td>\n",
       "      <td>-0.954573</td>\n",
       "      <td>0.817772</td>\n",
       "      <td>0.644278</td>\n",
       "      <td>-1.041667</td>\n",
       "      <td>0.671249</td>\n",
       "    </tr>\n",
       "    <tr>\n",
       "      <th>2800</th>\n",
       "      <td>2800.0</td>\n",
       "      <td>3240.0</td>\n",
       "      <td>487.0</td>\n",
       "      <td>1.218550</td>\n",
       "      <td>-0.903514</td>\n",
       "      <td>0.915798</td>\n",
       "      <td>1.156208</td>\n",
       "      <td>1.426885</td>\n",
       "      <td>1.731050</td>\n",
       "      <td>0.817772</td>\n",
       "      <td>0.644278</td>\n",
       "      <td>-1.041667</td>\n",
       "      <td>-1.050061</td>\n",
       "    </tr>\n",
       "    <tr>\n",
       "      <th>7028</th>\n",
       "      <td>7028.0</td>\n",
       "      <td>2078.0</td>\n",
       "      <td>1888.0</td>\n",
       "      <td>0.691140</td>\n",
       "      <td>0.304823</td>\n",
       "      <td>0.915798</td>\n",
       "      <td>-1.222064</td>\n",
       "      <td>-1.462240</td>\n",
       "      <td>1.530652</td>\n",
       "      <td>-0.896874</td>\n",
       "      <td>-1.552125</td>\n",
       "      <td>-1.041667</td>\n",
       "      <td>-0.865130</td>\n",
       "    </tr>\n",
       "    <tr>\n",
       "      <th>6894</th>\n",
       "      <td>6894.0</td>\n",
       "      <td>5672.0</td>\n",
       "      <td>2803.0</td>\n",
       "      <td>0.401581</td>\n",
       "      <td>1.513160</td>\n",
       "      <td>0.915798</td>\n",
       "      <td>-1.222064</td>\n",
       "      <td>1.105871</td>\n",
       "      <td>0.407291</td>\n",
       "      <td>-0.896874</td>\n",
       "      <td>0.644278</td>\n",
       "      <td>0.959999</td>\n",
       "      <td>-0.296190</td>\n",
       "    </tr>\n",
       "    <tr>\n",
       "      <th>4226</th>\n",
       "      <td>4226.0</td>\n",
       "      <td>7498.0</td>\n",
       "      <td>2869.0</td>\n",
       "      <td>-0.001733</td>\n",
       "      <td>1.513160</td>\n",
       "      <td>-1.091944</td>\n",
       "      <td>-0.270755</td>\n",
       "      <td>1.105871</td>\n",
       "      <td>-0.954573</td>\n",
       "      <td>0.817772</td>\n",
       "      <td>0.644278</td>\n",
       "      <td>-1.041667</td>\n",
       "      <td>-0.148866</td>\n",
       "    </tr>\n",
       "    <tr>\n",
       "      <th>5857</th>\n",
       "      <td>5857.0</td>\n",
       "      <td>9922.0</td>\n",
       "      <td>909.0</td>\n",
       "      <td>-0.591192</td>\n",
       "      <td>-0.903514</td>\n",
       "      <td>-1.091944</td>\n",
       "      <td>1.631862</td>\n",
       "      <td>-1.462240</td>\n",
       "      <td>-0.954573</td>\n",
       "      <td>-0.896874</td>\n",
       "      <td>0.644278</td>\n",
       "      <td>-1.041667</td>\n",
       "      <td>-1.286746</td>\n",
       "    </tr>\n",
       "    <tr>\n",
       "      <th>142</th>\n",
       "      <td>142.0</td>\n",
       "      <td>2484.0</td>\n",
       "      <td>919.0</td>\n",
       "      <td>0.318850</td>\n",
       "      <td>-0.903514</td>\n",
       "      <td>-1.091944</td>\n",
       "      <td>0.395161</td>\n",
       "      <td>0.142830</td>\n",
       "      <td>0.798680</td>\n",
       "      <td>-0.896874</td>\n",
       "      <td>0.644278</td>\n",
       "      <td>0.959999</td>\n",
       "      <td>1.603841</td>\n",
       "    </tr>\n",
       "    <tr>\n",
       "      <th>7107</th>\n",
       "      <td>7107.0</td>\n",
       "      <td>8053.0</td>\n",
       "      <td>2001.0</td>\n",
       "      <td>0.618750</td>\n",
       "      <td>0.304823</td>\n",
       "      <td>-1.091944</td>\n",
       "      <td>0.585423</td>\n",
       "      <td>-1.141226</td>\n",
       "      <td>-0.291752</td>\n",
       "      <td>0.817772</td>\n",
       "      <td>0.644278</td>\n",
       "      <td>-1.041667</td>\n",
       "      <td>-0.872376</td>\n",
       "    </tr>\n",
       "  </tbody>\n",
       "</table>\n",
       "</div>"
      ],
      "text/plain": [
       "      RowNumber  CustomerId  Surname  CreditScore  Geography    Gender  \\\n",
       "226       226.0      8349.0    439.0     0.442946  -0.903514 -1.091944   \n",
       "7756     7756.0      1600.0   1195.0    -0.311975   1.513160 -1.091944   \n",
       "2065     2065.0       616.0    690.0    -0.260268  -0.903514  0.915798   \n",
       "2800     2800.0      3240.0    487.0     1.218550  -0.903514  0.915798   \n",
       "7028     7028.0      2078.0   1888.0     0.691140   0.304823  0.915798   \n",
       "6894     6894.0      5672.0   2803.0     0.401581   1.513160  0.915798   \n",
       "4226     4226.0      7498.0   2869.0    -0.001733   1.513160 -1.091944   \n",
       "5857     5857.0      9922.0    909.0    -0.591192  -0.903514 -1.091944   \n",
       "142       142.0      2484.0    919.0     0.318850  -0.903514 -1.091944   \n",
       "7107     7107.0      8053.0   2001.0     0.618750   0.304823 -1.091944   \n",
       "\n",
       "           Age    Tenure   Balance  NumOfProducts  HasCrCard  IsActiveMember  \\\n",
       "226  -0.841540  1.426885 -0.954573       0.817772   0.644278        0.959999   \n",
       "7756 -0.270755  0.784858  0.409643      -0.896874   0.644278        0.959999   \n",
       "2065 -0.556148  1.105871 -0.954573       0.817772   0.644278       -1.041667   \n",
       "2800  1.156208  1.426885  1.731050       0.817772   0.644278       -1.041667   \n",
       "7028 -1.222064 -1.462240  1.530652      -0.896874  -1.552125       -1.041667   \n",
       "6894 -1.222064  1.105871  0.407291      -0.896874   0.644278        0.959999   \n",
       "4226 -0.270755  1.105871 -0.954573       0.817772   0.644278       -1.041667   \n",
       "5857  1.631862 -1.462240 -0.954573      -0.896874   0.644278       -1.041667   \n",
       "142   0.395161  0.142830  0.798680      -0.896874   0.644278        0.959999   \n",
       "7107  0.585423 -1.141226 -0.291752       0.817772   0.644278       -1.041667   \n",
       "\n",
       "      EstimatedSalary  \n",
       "226         -1.271910  \n",
       "7756         0.959687  \n",
       "2065         0.671249  \n",
       "2800        -1.050061  \n",
       "7028        -0.865130  \n",
       "6894        -0.296190  \n",
       "4226        -0.148866  \n",
       "5857        -1.286746  \n",
       "142          1.603841  \n",
       "7107        -0.872376  "
      ]
     },
     "execution_count": 43,
     "metadata": {},
     "output_type": "execute_result"
    }
   ],
   "source": [
    "features_train.head(10)"
   ]
  },
  {
   "attachments": {},
   "cell_type": "markdown",
   "metadata": {},
   "source": [
    "### Проверяем показетели логистической регрессии без учета дисбаланса"
   ]
  },
  {
   "cell_type": "code",
   "execution_count": 44,
   "metadata": {},
   "outputs": [],
   "source": [
    "disbalanced_model_lr = LogisticRegression(random_state=12345, solver='liblinear')\n",
    "disbalanced_model_lr.fit(features_train, target_train)\n",
    "disbalanced_lr_predicted_valid = disbalanced_model_lr.predict(features_valid)"
   ]
  },
  {
   "cell_type": "code",
   "execution_count": 45,
   "metadata": {},
   "outputs": [
    {
     "name": "stdout",
     "output_type": "stream",
     "text": [
      "Disbalanced logistic regression\n",
      "\n",
      "Confusion matrix\n",
      "[[1887   78]\n",
      " [ 427  108]]\n",
      "Recall: 0.20186915887850468\n",
      "Precision: 0.5806451612903226\n",
      "F1: 0.2995839112343967\n"
     ]
    }
   ],
   "source": [
    "print('Disbalanced logistic regression')\n",
    "print()\n",
    "print('Confusion matrix')\n",
    "print(confusion_matrix(target_valid, disbalanced_lr_predicted_valid))\n",
    "print('Recall:', recall_score(target_valid, disbalanced_lr_predicted_valid))\n",
    "print('Precision:', precision_score(target_valid, disbalanced_lr_predicted_valid))\n",
    "print('F1:', f1_score(target_valid, disbalanced_lr_predicted_valid))"
   ]
  },
  {
   "attachments": {},
   "cell_type": "markdown",
   "metadata": {},
   "source": [
    "Понимаю, что эта модель здесь не подходит и не нужна, но было интересно, как она себя покажет:)"
   ]
  },
  {
   "attachments": {},
   "cell_type": "markdown",
   "metadata": {},
   "source": [
    "### Поиск наиболее эффективные гиперпараметры решающего дерева без учета дисбаланса"
   ]
  },
  {
   "cell_type": "code",
   "execution_count": 46,
   "metadata": {},
   "outputs": [
    {
     "name": "stderr",
     "output_type": "stream",
     "text": [
      "/Users/sergejvorobev/opt/anaconda3/lib/python3.9/site-packages/sklearn/metrics/_classification.py:1318: UndefinedMetricWarning: Precision is ill-defined and being set to 0.0 due to no predicted samples. Use `zero_division` parameter to control this behavior.\n",
      "  _warn_prf(average, modifier, msg_start, len(result))\n"
     ]
    },
    {
     "name": "stdout",
     "output_type": "stream",
     "text": [
      "F1 наилучшей модели на валидационной выборке: 0.558472553699284 Глубина дерева: 7\n"
     ]
    }
   ],
   "source": [
    "disbalanced_best_tree_model = None\n",
    "disbalanced_best_tree_f1 = 0\n",
    "disbalanced_best_tree_depth = 0\n",
    "disbalanced_best_tree_recall = 0\n",
    "disbalanced_best_tree_precision = 0\n",
    "\n",
    "for disbalanced_tree_depth in range(1, 10):\n",
    "    disbalanced_tree_model = DecisionTreeClassifier(random_state=12345, max_depth=disbalanced_tree_depth)\n",
    "    disbalanced_tree_model.fit(features_train, target_train)\n",
    "    disbalanced_tree_predictions_valid = disbalanced_tree_model.predict(features_valid)\n",
    "    disbalanced_tree_f1 = f1_score(target_valid, disbalanced_tree_predictions_valid)\n",
    "    disbalanced_tree_recall = recall_score(target_valid, disbalanced_tree_predictions_valid)\n",
    "    disbalanced_tree_precision = precision_score(target_valid, disbalanced_tree_predictions_valid)\n",
    "    if disbalanced_tree_f1 > disbalanced_best_tree_f1:\n",
    "        disbalanced_best_tree_model = disbalanced_tree_model\n",
    "        disbalanced_best_tree_f1 = disbalanced_tree_f1\n",
    "        disbalanced_best_tree_depth = disbalanced_tree_depth\n",
    "        disbalanced_best_tree_recall = disbalanced_tree_recall\n",
    "        disbalanced_best_tree_precision = disbalanced_tree_precision\n",
    "print(\"F1 наилучшей модели на валидационной выборке:\", disbalanced_best_tree_f1, \"Глубина дерева:\", disbalanced_best_tree_depth)"
   ]
  },
  {
   "cell_type": "code",
   "execution_count": 47,
   "metadata": {},
   "outputs": [
    {
     "name": "stdout",
     "output_type": "stream",
     "text": [
      "Disbalanced decision tree classifier\n",
      "\n",
      "Confusion matrix\n",
      "[[1881   84]\n",
      " [ 323  212]]\n",
      "Recall: 0.4373831775700935\n",
      "Precision: 0.7722772277227723\n",
      "F1: 0.558472553699284\n"
     ]
    }
   ],
   "source": [
    "print('Disbalanced decision tree classifier')\n",
    "print()\n",
    "print('Confusion matrix')\n",
    "print(confusion_matrix(target_valid, disbalanced_tree_predictions_valid))\n",
    "print('Recall:', disbalanced_best_tree_recall)\n",
    "print('Precision:', disbalanced_best_tree_precision)\n",
    "print('F1:', disbalanced_best_tree_f1)"
   ]
  },
  {
   "attachments": {},
   "cell_type": "markdown",
   "metadata": {},
   "source": [
    "### Поиск наиболее эффективные гиперпараметры случайного леса без учета дисбаланса"
   ]
  },
  {
   "cell_type": "code",
   "execution_count": 48,
   "metadata": {},
   "outputs": [
    {
     "name": "stderr",
     "output_type": "stream",
     "text": [
      "/Users/sergejvorobev/opt/anaconda3/lib/python3.9/site-packages/sklearn/metrics/_classification.py:1318: UndefinedMetricWarning: Precision is ill-defined and being set to 0.0 due to no predicted samples. Use `zero_division` parameter to control this behavior.\n",
      "  _warn_prf(average, modifier, msg_start, len(result))\n",
      "/Users/sergejvorobev/opt/anaconda3/lib/python3.9/site-packages/sklearn/metrics/_classification.py:1318: UndefinedMetricWarning: Precision is ill-defined and being set to 0.0 due to no predicted samples. Use `zero_division` parameter to control this behavior.\n",
      "  _warn_prf(average, modifier, msg_start, len(result))\n",
      "/Users/sergejvorobev/opt/anaconda3/lib/python3.9/site-packages/sklearn/metrics/_classification.py:1318: UndefinedMetricWarning: Precision is ill-defined and being set to 0.0 due to no predicted samples. Use `zero_division` parameter to control this behavior.\n",
      "  _warn_prf(average, modifier, msg_start, len(result))\n",
      "/Users/sergejvorobev/opt/anaconda3/lib/python3.9/site-packages/sklearn/metrics/_classification.py:1318: UndefinedMetricWarning: Precision is ill-defined and being set to 0.0 due to no predicted samples. Use `zero_division` parameter to control this behavior.\n",
      "  _warn_prf(average, modifier, msg_start, len(result))\n",
      "/Users/sergejvorobev/opt/anaconda3/lib/python3.9/site-packages/sklearn/metrics/_classification.py:1318: UndefinedMetricWarning: Precision is ill-defined and being set to 0.0 due to no predicted samples. Use `zero_division` parameter to control this behavior.\n",
      "  _warn_prf(average, modifier, msg_start, len(result))\n"
     ]
    },
    {
     "name": "stdout",
     "output_type": "stream",
     "text": [
      "F1 наилучшей модели на валидационной выборке: 0.5165394402035624 Количество деревьев: 50 Максимальная глубина: 10\n"
     ]
    }
   ],
   "source": [
    "disbalanced_best_forest_model = None\n",
    "disbalanced_best_forest_f1 = 0\n",
    "disbalanced_best_forest_est = 0\n",
    "disbalanced_best_forest_depth = 0\n",
    "disbalanced_best_forest_recall = 0\n",
    "disbalanced_best_forest_precision = 0\n",
    "for disbalanced_forest_est in range(10, 51, 10):\n",
    "    for disbalanced_forest_depth in range (1, 11):\n",
    "        disbalanced_forest_model = RandomForestClassifier(random_state=12345, n_estimators=disbalanced_forest_est, \n",
    "                                                          max_depth=disbalanced_forest_depth)\n",
    "        disbalanced_forest_model.fit(features_train, target_train)\n",
    "        disbalanced_forest_predictions_valid = disbalanced_forest_model.predict(features_valid)\n",
    "        disbalanced_forest_f1 = f1_score(target_valid, disbalanced_forest_predictions_valid)\n",
    "        disbalanced_forest_recall = recall_score(target_valid, disbalanced_forest_predictions_valid)\n",
    "        disbalanced_forest_precision = precision_score(target_valid, disbalanced_forest_predictions_valid)\n",
    "        if disbalanced_forest_f1 > disbalanced_best_forest_f1:\n",
    "            disbalanced_best_forest_model = disbalanced_forest_model\n",
    "            disbalanced_best_forest_f1 = disbalanced_forest_f1\n",
    "            disbalanced_best_forest_est = disbalanced_forest_est\n",
    "            disbalanced_best_forest_depth = disbalanced_forest_depth\n",
    "            disbalanced_best_forest_recall = disbalanced_forest_recall\n",
    "            disbalanced_best_forest_precision = disbalanced_forest_precision\n",
    "\n",
    "print(\"F1 наилучшей модели на валидационной выборке:\", disbalanced_best_forest_f1, \n",
    "      \"Количество деревьев:\", disbalanced_best_forest_est, \"Максимальная глубина:\", disbalanced_best_forest_depth)"
   ]
  },
  {
   "cell_type": "code",
   "execution_count": 49,
   "metadata": {},
   "outputs": [
    {
     "name": "stdout",
     "output_type": "stream",
     "text": [
      "Disbalanced random forest classifier\n",
      "\n",
      "Confusion matrix\n",
      "[[1917   48]\n",
      " [ 332  203]]\n",
      "Recall: 0.3794392523364486\n",
      "Precision: 0.8087649402390438\n",
      "F1: 0.5165394402035624\n"
     ]
    }
   ],
   "source": [
    "print('Disbalanced random forest classifier')\n",
    "print()\n",
    "print('Confusion matrix')\n",
    "print(confusion_matrix(target_valid, disbalanced_forest_predictions_valid))\n",
    "print('Recall:', disbalanced_best_forest_recall)\n",
    "print('Precision:', disbalanced_best_forest_precision)\n",
    "print('F1:', disbalanced_best_forest_f1)"
   ]
  },
  {
   "attachments": {},
   "cell_type": "markdown",
   "metadata": {},
   "source": [
    "### Выводы"
   ]
  },
  {
   "attachments": {},
   "cell_type": "markdown",
   "metadata": {},
   "source": [
    "Без учета дисбаланса классов лучше всего себя показала модель решающего дерева с глубиной 7, ее показатели:\n",
    "- Recall: 0.4355140186915888\n",
    "- Precision: 0.768976897689769\n",
    "- F1: 0.5560859188544153"
   ]
  },
  {
   "attachments": {},
   "cell_type": "markdown",
   "metadata": {},
   "source": [
    "## 3. Борьба с дисбалансом"
   ]
  },
  {
   "attachments": {},
   "cell_type": "markdown",
   "metadata": {},
   "source": [
    "### Проверяем показетели логистической регрессии"
   ]
  },
  {
   "cell_type": "code",
   "execution_count": 50,
   "metadata": {},
   "outputs": [],
   "source": [
    "model_lr = LogisticRegression(random_state=12345, solver='liblinear', class_weight='balanced')\n",
    "model_lr.fit(features_train, target_train)\n",
    "lr_predicted_valid = model_lr.predict(features_valid)"
   ]
  },
  {
   "cell_type": "code",
   "execution_count": 51,
   "metadata": {},
   "outputs": [
    {
     "name": "stdout",
     "output_type": "stream",
     "text": [
      "Logistic regression\n",
      "\n",
      "Confusion matrix\n",
      "[[1363  602]\n",
      " [ 164  371]]\n",
      "Recall: 0.6934579439252336\n",
      "Precision: 0.381294964028777\n",
      "F1: 0.4920424403183024\n"
     ]
    }
   ],
   "source": [
    "print('Logistic regression')\n",
    "print()\n",
    "print('Confusion matrix')\n",
    "print(confusion_matrix(target_valid, lr_predicted_valid))\n",
    "print('Recall:', recall_score(target_valid, lr_predicted_valid))\n",
    "print('Precision:', precision_score(target_valid, lr_predicted_valid))\n",
    "print('F1:', f1_score(target_valid, lr_predicted_valid))"
   ]
  },
  {
   "attachments": {},
   "cell_type": "markdown",
   "metadata": {},
   "source": [
    "### Поиск наиболее эффективные гиперпараметры решающего дерева"
   ]
  },
  {
   "cell_type": "code",
   "execution_count": 52,
   "metadata": {},
   "outputs": [
    {
     "name": "stdout",
     "output_type": "stream",
     "text": [
      "F1 наилучшей модели на валидационной выборке: 0.59967585089141 Глубина дерева: 5\n"
     ]
    }
   ],
   "source": [
    "best_tree_model = None\n",
    "best_tree_f1 = 0\n",
    "best_tree_depth = 0\n",
    "best_tree_recall = 0\n",
    "best_tree_precision = 0\n",
    "\n",
    "for tree_depth in range(1, 10):\n",
    "    tree_model = DecisionTreeClassifier(random_state=12345, max_depth=tree_depth, class_weight='balanced')\n",
    "    tree_model.fit(features_train, target_train)\n",
    "    tree_predictions_valid = tree_model.predict(features_valid)\n",
    "    tree_f1 = f1_score(target_valid, tree_predictions_valid)\n",
    "    tree_recall = recall_score(target_valid, tree_predictions_valid)\n",
    "    tree_precision = precision_score(target_valid, tree_predictions_valid)\n",
    "    if tree_f1 > best_tree_f1:\n",
    "        best_tree_model = tree_model\n",
    "        best_tree_f1 = tree_f1\n",
    "        best_tree_depth = tree_depth\n",
    "        best_tree_recall = tree_recall\n",
    "        best_tree_precision = tree_precision\n",
    "print(\"F1 наилучшей модели на валидационной выборке:\", best_tree_f1, \"Глубина дерева:\", best_tree_depth)"
   ]
  },
  {
   "cell_type": "code",
   "execution_count": 53,
   "metadata": {},
   "outputs": [
    {
     "name": "stdout",
     "output_type": "stream",
     "text": [
      "Decision tree classifier\n",
      "\n",
      "Confusion matrix\n",
      "[[1457  508]\n",
      " [ 154  381]]\n",
      "Recall: 0.6915887850467289\n",
      "Precision: 0.5293276108726752\n",
      "F1: 0.59967585089141\n"
     ]
    }
   ],
   "source": [
    "print('Decision tree classifier')\n",
    "print()\n",
    "print('Confusion matrix')\n",
    "print(confusion_matrix(target_valid, tree_predictions_valid))\n",
    "print('Recall:', best_tree_recall)\n",
    "print('Precision:', best_tree_precision)\n",
    "print('F1:', best_tree_f1)"
   ]
  },
  {
   "attachments": {},
   "cell_type": "markdown",
   "metadata": {},
   "source": [
    "### Поиск наиболее эффективные гиперпараметры случайного леса"
   ]
  },
  {
   "cell_type": "code",
   "execution_count": 54,
   "metadata": {},
   "outputs": [
    {
     "name": "stdout",
     "output_type": "stream",
     "text": [
      "F1 наилучшей модели на валидационной выборке: 0.6405990016638936 Количество деревьев: 50 Максимальная глубина: 8\n"
     ]
    }
   ],
   "source": [
    "best_forest_model = None\n",
    "best_forest_f1 = 0\n",
    "best_forest_est = 0\n",
    "best_forest_depth = 0\n",
    "best_forest_recall = 0\n",
    "best_forest_precision = 0\n",
    "for forest_est in range(10, 51, 10):\n",
    "    for forest_depth in range (1, 11):\n",
    "        forest_model = RandomForestClassifier(random_state=12345, n_estimators=forest_est, max_depth=forest_depth, class_weight='balanced')\n",
    "        forest_model.fit(features_train, target_train)\n",
    "        forest_predictions_valid = forest_model.predict(features_valid)\n",
    "        forest_f1 = f1_score(target_valid, forest_predictions_valid)\n",
    "        forest_recall = recall_score(target_valid, forest_predictions_valid)\n",
    "        forest_precision = precision_score(target_valid, forest_predictions_valid)\n",
    "        if forest_f1 > best_forest_f1:\n",
    "            best_forest_model = forest_model\n",
    "            best_forest_f1 = forest_f1\n",
    "            best_forest_est = forest_est\n",
    "            best_forest_depth = forest_depth\n",
    "            best_forest_recall = forest_recall\n",
    "            best_forest_precision = forest_precision\n",
    "\n",
    "print(\"F1 наилучшей модели на валидационной выборке:\", best_forest_f1, \n",
    "      \"Количество деревьев:\", best_forest_est, \"Максимальная глубина:\", best_forest_depth)"
   ]
  },
  {
   "cell_type": "code",
   "execution_count": 55,
   "metadata": {},
   "outputs": [
    {
     "name": "stdout",
     "output_type": "stream",
     "text": [
      "Random forest classifier\n",
      "\n",
      "Confusion matrix\n",
      "[[1758  207]\n",
      " [ 203  332]]\n",
      "Recall: 0.719626168224299\n",
      "Precision: 0.5772113943028486\n",
      "F1: 0.6405990016638936\n"
     ]
    }
   ],
   "source": [
    "print('Random forest classifier')\n",
    "print()\n",
    "print('Confusion matrix')\n",
    "print(confusion_matrix(target_valid, forest_predictions_valid))\n",
    "print('Recall:', best_forest_recall)\n",
    "print('Precision:', best_forest_precision)\n",
    "print('F1:', best_forest_f1)"
   ]
  },
  {
   "attachments": {},
   "cell_type": "markdown",
   "metadata": {},
   "source": [
    "С учетом дисбаланса классов и применения гиперпараметра class_weight='balanced' лучшей моделью оказалась случайный лес с количеством деревьев равной 50и и глубиной равной 8и. Ее показатели:\n",
    "- Recall: 0.7065420560747664\n",
    "- Precision: 0.5806451612903226\n",
    "- F1: 0.6374367622259697"
   ]
  },
  {
   "attachments": {},
   "cell_type": "markdown",
   "metadata": {},
   "source": [
    "### Тестируем изменение порога классификации"
   ]
  },
  {
   "cell_type": "code",
   "execution_count": 56,
   "metadata": {},
   "outputs": [
    {
     "name": "stdout",
     "output_type": "stream",
     "text": [
      "Порог = 0.44 | F1 = 0.616\n",
      "Порог = 0.45 | F1 = 0.619\n",
      "Порог = 0.46 | F1 = 0.618\n",
      "Порог = 0.47 | F1 = 0.620\n",
      "Порог = 0.48 | F1 = 0.628\n",
      "Порог = 0.49 | F1 = 0.634\n",
      "Порог = 0.50 | F1 = 0.641\n",
      "Порог = 0.51 | F1 = 0.627\n",
      "Порог = 0.52 | F1 = 0.630\n",
      "Порог = 0.53 | F1 = 0.630\n",
      "Порог = 0.54 | F1 = 0.631\n",
      "Порог = 0.55 | F1 = 0.631\n",
      "Порог = 0.56 | F1 = 0.625\n",
      "Порог = 0.57 | F1 = 0.618\n",
      "Порог = 0.58 | F1 = 0.620\n",
      "Порог = 0.59 | F1 = 0.608\n",
      "Порог = 0.60 | F1 = 0.602\n",
      "Порог = 0.61 | F1 = 0.587\n",
      "Порог = 0.62 | F1 = 0.581\n",
      "Порог = 0.63 | F1 = 0.572\n",
      "Порог = 0.64 | F1 = 0.560\n",
      "Порог = 0.65 | F1 = 0.549\n",
      "Порог = 0.66 | F1 = 0.536\n",
      "Порог = 0.67 | F1 = 0.526\n",
      "Порог = 0.68 | F1 = 0.514\n"
     ]
    }
   ],
   "source": [
    "probabilities_valid = best_forest_model.predict_proba(features_valid)\n",
    "probabilities_one_valid = probabilities_valid[:, 1]\n",
    "\n",
    "for threshold in np.arange(.44, .69, 0.01):\n",
    "    threshold_predicted_valid = probabilities_one_valid > threshold\n",
    "    f1 = f1_score(target_valid, threshold_predicted_valid)\n",
    "                          \n",
    "    print(\"Порог = {:.2f} | F1 = {:.3f}\".format(\n",
    "        threshold, f1))"
   ]
  },
  {
   "attachments": {},
   "cell_type": "markdown",
   "metadata": {},
   "source": [
    "Изменения порога классификации не принесли положительных результатов."
   ]
  },
  {
   "attachments": {},
   "cell_type": "markdown",
   "metadata": {},
   "source": [
    "### Тестируем увеличение и уменьшение выборки"
   ]
  },
  {
   "cell_type": "code",
   "execution_count": 57,
   "metadata": {},
   "outputs": [
    {
     "name": "stdout",
     "output_type": "stream",
     "text": [
      "F1 при увеличении количества положительных результатов: 0.6228983186549238\n"
     ]
    }
   ],
   "source": [
    "def upsample(features, target, repeat):\n",
    "    features_zeros = features[target == 0]\n",
    "    features_ones = features[target == 1]\n",
    "    target_zeros = target[target == 0]\n",
    "    target_ones = target[target == 1]\n",
    "\n",
    "    features_upsampled = pd.concat([features_zeros] + [features_ones] * repeat)\n",
    "    target_upsampled = pd.concat([target_zeros] + [target_ones] * repeat)\n",
    "    \n",
    "    features_upsampled, target_upsampled = shuffle(\n",
    "        features_upsampled, target_upsampled, random_state=12345)\n",
    "    \n",
    "    return features_upsampled, target_upsampled\n",
    "\n",
    "features_upsampled, target_upsampled = upsample(features_train, target_train, 5)\n",
    "\n",
    "best_forest_upsampled_model = best_forest_model.fit(features_upsampled, target_upsampled)\n",
    "upsampled_predicted_valid = best_forest_upsampled_model.predict(features_valid)\n",
    "\n",
    "print(\"F1 при увеличении количества положительных результатов:\", f1_score(target_valid, upsampled_predicted_valid))"
   ]
  },
  {
   "cell_type": "code",
   "execution_count": 58,
   "metadata": {},
   "outputs": [
    {
     "name": "stdout",
     "output_type": "stream",
     "text": [
      "F1 при увеличении количества отрицательных результатов: 0.6259673258813414\n"
     ]
    }
   ],
   "source": [
    "def upsample(features, target, repeat):\n",
    "    features_zeros = features[target == 0]\n",
    "    features_ones = features[target == 1]\n",
    "    target_zeros = target[target == 0]\n",
    "    target_ones = target[target == 1]\n",
    "\n",
    "    features_upsampled = pd.concat([features_zeros] * repeat + [features_ones])\n",
    "    target_upsampled = pd.concat([target_zeros] * repeat + [target_ones])\n",
    "    \n",
    "    features_upsampled, target_upsampled = shuffle(\n",
    "        features_upsampled, target_upsampled, random_state=12345)\n",
    "    \n",
    "    return features_upsampled, target_upsampled\n",
    "\n",
    "features_upsampled, target_upsampled = upsample(features_train, target_train, 5)\n",
    "\n",
    "best_forest_upsampled_model = best_forest_model.fit(features_upsampled, target_upsampled)\n",
    "upsampled_predicted_valid = best_forest_upsampled_model.predict(features_valid)\n",
    "\n",
    "print(\"F1 при увеличении количества отрицательных результатов:\", f1_score(target_valid, upsampled_predicted_valid))"
   ]
  },
  {
   "cell_type": "code",
   "execution_count": 59,
   "metadata": {},
   "outputs": [
    {
     "name": "stdout",
     "output_type": "stream",
     "text": [
      "F1 при уменьшении количества отрицательных результатов: 0.5650224215246638\n"
     ]
    }
   ],
   "source": [
    "def downsample(features, target, fraction):\n",
    "    features_zeros = features[target == 0]\n",
    "    features_ones = features[target == 1]\n",
    "    target_zeros = target[target == 0]\n",
    "    target_ones = target[target == 1]\n",
    "\n",
    "    features_downsampled = pd.concat(\n",
    "        [features_zeros.sample(frac=fraction, random_state=12345)] + [features_ones])\n",
    "    target_downsampled = pd.concat(\n",
    "        [target_zeros.sample(frac=fraction, random_state=12345)] + [target_ones])\n",
    "    \n",
    "    features_downsampled, target_downsampled = shuffle(\n",
    "        features_downsampled, target_downsampled, random_state=12345)\n",
    "    \n",
    "    return features_downsampled, target_downsampled\n",
    "\n",
    "features_downsampled, target_downsampled = downsample(features_train, target_train, 0.1)\n",
    "\n",
    "best_forest_downsampled_model = best_forest_model.fit(features_downsampled, target_downsampled)\n",
    "downsemled_predicted_valid = best_forest_downsampled_model.predict(features_valid)\n",
    "\n",
    "print(\"F1 при уменьшении количества отрицательных результатов:\", f1_score(target_valid, downsemled_predicted_valid))"
   ]
  },
  {
   "cell_type": "code",
   "execution_count": 60,
   "metadata": {},
   "outputs": [
    {
     "name": "stdout",
     "output_type": "stream",
     "text": [
      "F1 при уменьшении количества положительных результатов: 0.31268436578171094\n"
     ]
    }
   ],
   "source": [
    "def downsample(features, target, fraction):\n",
    "    features_zeros = features[target == 0]\n",
    "    features_ones = features[target == 1]\n",
    "    target_zeros = target[target == 0]\n",
    "    target_ones = target[target == 1]\n",
    "\n",
    "    features_downsampled = pd.concat(\n",
    "        [features_zeros] + [features_ones.sample(frac=fraction, random_state=12345)])\n",
    "    target_downsampled = pd.concat(\n",
    "        [target_zeros] + [target_ones.sample(frac=fraction, random_state=12345)])\n",
    "    \n",
    "    features_downsampled, target_downsampled = shuffle(\n",
    "        features_downsampled, target_downsampled, random_state=12345)\n",
    "    \n",
    "    return features_downsampled, target_downsampled\n",
    "\n",
    "features_downsampled, target_downsampled = downsample(features_train, target_train, 0.1)\n",
    "\n",
    "best_forest_downsampled_model = best_forest_model.fit(features_downsampled, target_downsampled)\n",
    "downsemled_predicted_valid = best_forest_downsampled_model.predict(features_valid)\n",
    "\n",
    "print(\"F1 при уменьшении количества положительных результатов:\", f1_score(target_valid, downsemled_predicted_valid))"
   ]
  },
  {
   "attachments": {},
   "cell_type": "markdown",
   "metadata": {},
   "source": [
    "### Выводы"
   ]
  },
  {
   "attachments": {},
   "cell_type": "markdown",
   "metadata": {},
   "source": [
    "Ни один из метедов в дополнении к гиперпараметру не увеличил качество модели."
   ]
  },
  {
   "attachments": {},
   "cell_type": "markdown",
   "metadata": {},
   "source": [
    "## 4. Тестирование модели"
   ]
  },
  {
   "cell_type": "code",
   "execution_count": 61,
   "metadata": {},
   "outputs": [
    {
     "data": {
      "text/plain": [
       "RandomForestClassifier(class_weight='balanced', max_depth=8, n_estimators=50,\n",
       "                       random_state=12345)"
      ]
     },
     "execution_count": 61,
     "metadata": {},
     "output_type": "execute_result"
    }
   ],
   "source": [
    "best_forest_model"
   ]
  },
  {
   "attachments": {},
   "cell_type": "markdown",
   "metadata": {},
   "source": [
    "Финальная модель является случайным лесом со сбалансированными весам классов, количеством деревьев 50 и глубиной 8. Модель обучена на стандартной тренировочной выборке."
   ]
  },
  {
   "cell_type": "code",
   "execution_count": 62,
   "metadata": {},
   "outputs": [
    {
     "name": "stdout",
     "output_type": "stream",
     "text": [
      "Final F1: 0.6405990016638936\n"
     ]
    }
   ],
   "source": [
    "best_forest_model.fit(features_train, target_train)\n",
    "final_result = best_forest_model.predict(features_valid)\n",
    "print(\"Final F1:\", f1_score(target_valid, final_result))"
   ]
  },
  {
   "cell_type": "code",
   "execution_count": 63,
   "metadata": {},
   "outputs": [
    {
     "data": {
      "image/png": "[encoded data removed]",
      "text/plain": [
       "<Figure size 600x600 with 1 Axes>"
      ]
     },
     "metadata": {},
     "output_type": "display_data"
    }
   ],
   "source": [
    "precision, recall, thresholds = precision_recall_curve(target_valid, probabilities_valid[:, 1])\n",
    "\n",
    "plt.figure(figsize=(6, 6))\n",
    "plt.step(recall, precision, where='post')\n",
    "plt.xlabel('Recall')\n",
    "plt.ylabel('Precision')\n",
    "plt.ylim([0.0, 1.05])\n",
    "plt.xlim([0.0, 1.0])\n",
    "plt.title('Кривая Precision-Recall')\n",
    "plt.show() "
   ]
  },
  {
   "attachments": {},
   "cell_type": "markdown",
   "metadata": {},
   "source": [
    "На графике по вертикали наносится значение точности, по горизонтали — полноты. PR-кривая показывает достаточно высокий результат"
   ]
  },
  {
   "cell_type": "code",
   "execution_count": 64,
   "metadata": {},
   "outputs": [
    {
     "data": {
      "image/png": "[encoded data removed]",
      "text/plain": [
       "<Figure size 640x480 with 1 Axes>"
      ]
     },
     "metadata": {},
     "output_type": "display_data"
    },
    {
     "name": "stdout",
     "output_type": "stream",
     "text": [
      "AUC-ROC: 0.8580685358255451\n"
     ]
    }
   ],
   "source": [
    "fpr, tpr, thresholds = roc_curve(target_valid, probabilities_valid[:, 1])\n",
    "\n",
    "plt.figure()\n",
    "plt.plot(fpr, tpr)\n",
    "plt.xlim([0.0, 1.0])\n",
    "plt.ylim([0.0, 1.0])\n",
    "plt.xlabel('False Positive Rate')\n",
    "plt.ylabel('True Positive Rate')\n",
    "plt.title('ROC-кривая')\n",
    "plt.show() \n",
    "\n",
    "print(\"AUC-ROC:\", roc_auc_score(target_valid, probabilities_valid[:, 1]))"
   ]
  },
  {
   "attachments": {},
   "cell_type": "markdown",
   "metadata": {},
   "source": [
    "Показатели ROC-кривой сильно выше случайного классификатора. Это подтверждает и показатель AUC-ROC, который равен ~0.86."
   ]
  },
  {
   "cell_type": "markdown",
   "metadata": {},
   "source": [
    "## Чек-лист готовности проекта"
   ]
  },
  {
   "cell_type": "markdown",
   "metadata": {},
   "source": [
    "Поставьте 'x' в выполненных пунктах. Далее нажмите Shift+Enter."
   ]
  },
  {
   "attachments": {},
   "cell_type": "markdown",
   "metadata": {},
   "source": [
    "- [x]  Jupyter Notebook открыт\n",
    "- [х]  Весь код выполняется без ошибок\n",
    "- [х]  Ячейки с кодом расположены в порядке исполнения\n",
    "- [х]  Выполнен шаг 1: данные подготовлены\n",
    "- [х]  Выполнен шаг 2: задача исследована\n",
    "    - [х]  Исследован баланс классов\n",
    "    - [х]  Изучены модели без учёта дисбаланса\n",
    "    - [х]  Написаны выводы по результатам исследования\n",
    "- [х]  Выполнен шаг 3: учтён дисбаланс\n",
    "    - [х]  Применено несколько способов борьбы с дисбалансом\n",
    "    - [х]  Написаны выводы по результатам исследования\n",
    "- [х]  Выполнен шаг 4: проведено тестирование\n",
    "- [х]  Удалось достичь *F1*-меры не менее 0.59\n",
    "- [х]  Исследована метрика *AUC-ROC*"
   ]
  }
 ],
 "metadata": {
  "ExecuteTimeLog": [
   {
    "duration": 51,
    "start_time": "2023-04-24T11:45:09.630Z"
   },
   {
    "duration": 1221,
    "start_time": "2023-04-24T11:45:12.059Z"
   },
   {
    "duration": 2907,
    "start_time": "2023-04-24T11:45:14.193Z"
   },
   {
    "duration": 7,
    "start_time": "2023-04-24T11:49:21.387Z"
   },
   {
    "duration": 7,
    "start_time": "2023-04-24T11:49:24.349Z"
   },
   {
    "duration": 7,
    "start_time": "2023-04-24T11:49:29.126Z"
   },
   {
    "duration": 1784,
    "start_time": "2023-04-24T11:52:06.807Z"
   },
   {
    "duration": 3,
    "start_time": "2023-04-24T11:52:11.289Z"
   },
   {
    "duration": 47,
    "start_time": "2023-04-24T11:54:44.980Z"
   },
   {
    "duration": 2,
    "start_time": "2023-04-24T11:54:47.242Z"
   },
   {
    "duration": 3,
    "start_time": "2023-04-24T11:55:08.292Z"
   },
   {
    "duration": 381,
    "start_time": "2023-04-24T11:55:25.499Z"
   },
   {
    "duration": 423,
    "start_time": "2023-04-24T11:55:44.882Z"
   },
   {
    "duration": 3,
    "start_time": "2023-04-24T11:56:53.987Z"
   },
   {
    "duration": 2,
    "start_time": "2023-04-24T11:57:46.959Z"
   },
   {
    "duration": 8,
    "start_time": "2023-04-24T11:57:54.518Z"
   },
   {
    "duration": 26,
    "start_time": "2023-04-24T11:58:22.746Z"
   },
   {
    "duration": 33,
    "start_time": "2023-04-24T11:58:30.171Z"
   },
   {
    "duration": 260,
    "start_time": "2023-04-24T11:58:38.439Z"
   },
   {
    "duration": 13,
    "start_time": "2023-04-24T12:01:04.298Z"
   },
   {
    "duration": 13,
    "start_time": "2023-04-24T12:04:44.943Z"
   }
  ],
  "kernelspec": {
   "display_name": "Python 3 (ipykernel)",
   "language": "python",
   "name": "python3"
  },
  "language_info": {
   "codemirror_mode": {
    "name": "ipython",
    "version": 3
   },
   "file_extension": ".py",
   "mimetype": "text/x-python",
   "name": "python",
   "nbconvert_exporter": "python",
   "pygments_lexer": "ipython3",
   "version": "3.9.13"
  },
  "toc": {
   "base_numbering": 1,
   "nav_menu": {},
   "number_sections": true,
   "sideBar": true,
   "skip_h1_title": true,
   "title_cell": "Содержание",
   "title_sidebar": "Contents",
   "toc_cell": true,
   "toc_position": {},
   "toc_section_display": true,
   "toc_window_display": true
  }
 },
 "nbformat": 4,
 "nbformat_minor": 2
}
