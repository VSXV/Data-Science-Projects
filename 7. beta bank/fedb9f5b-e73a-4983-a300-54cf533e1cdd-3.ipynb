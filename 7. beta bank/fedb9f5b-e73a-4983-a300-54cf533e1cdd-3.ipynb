{
 "cells": [
  {
   "cell_type": "markdown",
   "metadata": {},
   "source": [
    "<div style=\"border:solid blue 2px; padding: 20px\">\n",
    "<b>Привет, Сергей!👋</b>\n",
    "\n",
    "Меня зовут Арсений, и я буду ревьюером твоего проекта. Если не против, то давай общаться на «ты» :) Но мы легко можем перейти на «вы», если тебе так будет комфортнее. \n",
    "\n",
    "Моя основная цель — помочь тебе стать крутым специалистом, поэтому давай разберем твой проект и попробуем сделать его еще лучше. Ниже ты найдешь мои комментарии - **пожалуйста, не перемещай, не изменяй и не удаляй их**. Я буду использовать цветовую разметку:\n",
    "\n",
    "<div class=\"alert alert-danger\">\n",
    "<b>Комментарий ревьюера ❌:</b> Так выделены самые важные замечания. Без их отработки проект не будет принят. </div>\n",
    "\n",
    "<div class=\"alert alert-warning\">\n",
    "<b>Комментарий ревьюера ⚠️:</b> Так выделены небольшие замечания. Я надеюсь, что их ты тоже учтешь - твой проект от этого станет только лучше. Но исправлять их необязательно. </div>\n",
    "\n",
    "<div class=\"alert alert-success\">\n",
    "<b>Комментарий ревьюера ✔️:</b> Так я выделяю то, что сделано отлично. </div>\n",
    "\n",
    "Давай работать над проектом в диалоге: **если ты что-то меняешь в проекте или отвечаешь на мои комменатри — пиши об этом. Если нужно удалить часть кода или целую ячейку, то лучше просто закомментируй.** Мне будет легче отследить изменения, если ты выделишь свои комментарии:\n",
    "<div class=\"alert alert-info\"> <b>Комментарий студента:</b> Например, вот так. </div>"
   ]
  },
  {
   "cell_type": "markdown",
   "metadata": {
    "toc": true
   },
   "source": [
    "<h1>Содержание<span class=\"tocSkip\"></span></h1>\n",
    "<div class=\"toc\"><ul class=\"toc-item\"><li><span><a href=\"#1.-Подготовка-данных\" data-toc-modified-id=\"1.-Подготовка-данных-1\"><span class=\"toc-item-num\">1&nbsp;&nbsp;</span>1. Подготовка данных</a></span><ul class=\"toc-item\"><li><span><a href=\"#Импортируем-требуемые-библиотеки\" data-toc-modified-id=\"Импортируем-требуемые-библиотеки-1.1\"><span class=\"toc-item-num\">1.1&nbsp;&nbsp;</span>Импортируем требуемые библиотеки</a></span></li><li><span><a href=\"#Загружаем-и-изучаем-датасет\" data-toc-modified-id=\"Загружаем-и-изучаем-датасет-1.2\"><span class=\"toc-item-num\">1.2&nbsp;&nbsp;</span>Загружаем и изучаем датасет</a></span></li><li><span><a href=\"#Применяем-прямое-кодирование-к-категориальным-признакам\" data-toc-modified-id=\"Применяем-прямое-кодирование-к-категориальным-признакам-1.3\"><span class=\"toc-item-num\">1.3&nbsp;&nbsp;</span>Применяем прямое кодирование к категориальным признакам</a></span></li><li><span><a href=\"#Выполняем-масштабирование-признаков\" data-toc-modified-id=\"Выполняем-масштабирование-признаков-1.4\"><span class=\"toc-item-num\">1.4&nbsp;&nbsp;</span>Выполняем масштабирование признаков</a></span></li></ul></li><li><span><a href=\"#2.-Исследование-задачи\" data-toc-modified-id=\"2.-Исследование-задачи-2\"><span class=\"toc-item-num\">2&nbsp;&nbsp;</span>2. Исследование задачи</a></span><ul class=\"toc-item\"><li><span><a href=\"#Проверяем-показетели-логистической-регрессии-без-учета-дисбаланса\" data-toc-modified-id=\"Проверяем-показетели-логистической-регрессии-без-учета-дисбаланса-2.1\"><span class=\"toc-item-num\">2.1&nbsp;&nbsp;</span>Проверяем показетели логистической регрессии без учета дисбаланса</a></span></li><li><span><a href=\"#Поиск-наиболее-эффективные-гиперпараметры-решающего-дерева-без-учета-дисбаланса\" data-toc-modified-id=\"Поиск-наиболее-эффективные-гиперпараметры-решающего-дерева-без-учета-дисбаланса-2.2\"><span class=\"toc-item-num\">2.2&nbsp;&nbsp;</span>Поиск наиболее эффективные гиперпараметры решающего дерева без учета дисбаланса</a></span></li><li><span><a href=\"#Поиск-наиболее-эффективные-гиперпараметры-случайного-леса-без-учета-дисбаланса\" data-toc-modified-id=\"Поиск-наиболее-эффективные-гиперпараметры-случайного-леса-без-учета-дисбаланса-2.3\"><span class=\"toc-item-num\">2.3&nbsp;&nbsp;</span>Поиск наиболее эффективные гиперпараметры случайного леса без учета дисбаланса</a></span></li><li><span><a href=\"#Выводы\" data-toc-modified-id=\"Выводы-2.4\"><span class=\"toc-item-num\">2.4&nbsp;&nbsp;</span>Выводы</a></span></li></ul></li><li><span><a href=\"#3.-Борьба-с-дисбалансом\" data-toc-modified-id=\"3.-Борьба-с-дисбалансом-3\"><span class=\"toc-item-num\">3&nbsp;&nbsp;</span>3. Борьба с дисбалансом</a></span><ul class=\"toc-item\"><li><span><a href=\"#Проверяем-показетели-логистической-регрессии\" data-toc-modified-id=\"Проверяем-показетели-логистической-регрессии-3.1\"><span class=\"toc-item-num\">3.1&nbsp;&nbsp;</span>Проверяем показетели логистической регрессии</a></span></li><li><span><a href=\"#Поиск-наиболее-эффективные-гиперпараметры-решающего-дерева\" data-toc-modified-id=\"Поиск-наиболее-эффективные-гиперпараметры-решающего-дерева-3.2\"><span class=\"toc-item-num\">3.2&nbsp;&nbsp;</span>Поиск наиболее эффективные гиперпараметры решающего дерева</a></span></li><li><span><a href=\"#Поиск-наиболее-эффективные-гиперпараметры-случайного-леса\" data-toc-modified-id=\"Поиск-наиболее-эффективные-гиперпараметры-случайного-леса-3.3\"><span class=\"toc-item-num\">3.3&nbsp;&nbsp;</span>Поиск наиболее эффективные гиперпараметры случайного леса</a></span></li><li><span><a href=\"#Тестируем-изменение-порога-классификации\" data-toc-modified-id=\"Тестируем-изменение-порога-классификации-3.4\"><span class=\"toc-item-num\">3.4&nbsp;&nbsp;</span>Тестируем изменение порога классификации</a></span></li><li><span><a href=\"#Тестируем-увеличение-и-уменьшение-выборки\" data-toc-modified-id=\"Тестируем-увеличение-и-уменьшение-выборки-3.5\"><span class=\"toc-item-num\">3.5&nbsp;&nbsp;</span>Тестируем увеличение и уменьшение выборки</a></span></li><li><span><a href=\"#Выводы\" data-toc-modified-id=\"Выводы-3.6\"><span class=\"toc-item-num\">3.6&nbsp;&nbsp;</span>Выводы</a></span></li></ul></li><li><span><a href=\"#4.-Тестирование-модели\" data-toc-modified-id=\"4.-Тестирование-модели-4\"><span class=\"toc-item-num\">4&nbsp;&nbsp;</span>4. Тестирование модели</a></span></li><li><span><a href=\"#Чек-лист-готовности-проекта\" data-toc-modified-id=\"Чек-лист-готовности-проекта-5\"><span class=\"toc-item-num\">5&nbsp;&nbsp;</span>Чек-лист готовности проекта</a></span></li></ul></div>"
   ]
  },
  {
   "cell_type": "markdown",
   "metadata": {},
   "source": [
    "# Отток клиентов"
   ]
  },
  {
   "cell_type": "markdown",
   "metadata": {},
   "source": [
    "Из «Бета-Банка» стали уходить клиенты. Каждый месяц. Немного, но заметно. Банковские маркетологи посчитали: сохранять текущих клиентов дешевле, чем привлекать новых.\n",
    "\n",
    "Нужно спрогнозировать, уйдёт клиент из банка в ближайшее время или нет. Вам предоставлены исторические данные о поведении клиентов и расторжении договоров с банком. \n",
    "\n",
    "Постройте модель с предельно большим значением *F1*-меры. Чтобы сдать проект успешно, нужно довести метрику до 0.59. Проверьте *F1*-меру на тестовой выборке самостоятельно.\n",
    "\n",
    "Дополнительно измеряйте *AUC-ROC*, сравнивайте её значение с *F1*-мерой.\n",
    "\n",
    "Источник данных: [https://www.kaggle.com/barelydedicated/bank-customer-churn-modeling](https://www.kaggle.com/barelydedicated/bank-customer-churn-modeling)"
   ]
  },
  {
   "cell_type": "markdown",
   "metadata": {},
   "source": [
    "Признаки\n",
    "\n",
    "- RowNumber — индекс строки в данных\n",
    "- CustomerId — уникальный идентификатор клиента\n",
    "- Surname — фамилия\n",
    "- CreditScore — кредитный рейтинг\n",
    "- Geography — страна проживания\n",
    "- Gender — пол\n",
    "- Age — возраст\n",
    "- Tenure — сколько лет человек является клиентом банка\n",
    "- Balance — баланс на счёте\n",
    "- NumOfProducts — количество продуктов банка, используемых клиентом\n",
    "- HasCrCard — наличие кредитной карты\n",
    "- IsActiveMember — активность клиента\n",
    "- EstimatedSalary — предполагаемая зарплата\n",
    "\n",
    "Целевой признак\n",
    "\n",
    "- Exited — факт ухода клиента"
   ]
  },
  {
   "cell_type": "markdown",
   "metadata": {},
   "source": [
    "<div class=\"alert alert-success\">\n",
    "<b>Комментарий ревьюера ✔️:</b> Отличное содержание и вступление. </div>"
   ]
  },
  {
   "cell_type": "markdown",
   "metadata": {},
   "source": [
    "## 1. Подготовка данных"
   ]
  },
  {
   "cell_type": "markdown",
   "metadata": {},
   "source": [
    "### Импортируем требуемые библиотеки"
   ]
  },
  {
   "cell_type": "code",
   "execution_count": 1,
   "metadata": {},
   "outputs": [],
   "source": [
    "import matplotlib.pyplot as plt\n",
    "import numpy as np\n",
    "import pandas as pd\n",
    "import seaborn as sns\n",
    "\n",
    "from sklearn.ensemble import RandomForestClassifier\n",
    "from sklearn.linear_model import LogisticRegression\n",
    "from sklearn.metrics import f1_score, confusion_matrix, recall_score, precision_score, precision_recall_curve, roc_auc_score, roc_curve\n",
    "from sklearn.model_selection import train_test_split\n",
    "from sklearn.preprocessing import OrdinalEncoder, StandardScaler\n",
    "from sklearn.tree import DecisionTreeClassifier\n",
    "from sklearn.utils import shuffle\n",
    "\n"
   ]
  },
  {
   "cell_type": "markdown",
   "metadata": {},
   "source": [
    "<div class=\"alert alert-success\">\n",
    "<b>Комментарий ревьюера ✔️:</b> Здорово, что все импорты находятся в одной ячейке. Но, чтобы сделать ещё лучше, приведу рекомендации по стандартам PEP-8.<br>\n",
    "    \n",
    "Импорты могут быть сгруппированы в следующем порядке:\n",
    "\n",
    "1.импорты из стандартной библиотеки\n",
    "    \n",
    "2.импорты сторонних библиотек\n",
    "    \n",
    "3.импорты модулей текущего проекта\n",
    "\n",
    "Можно вставить пустую строку между каждой группой импортов.\n",
    "\n",
    "В каждой группе желательно отсортировать импорты в алфавитном порядке.\n",
    "\n",
    "Ccылка для ознакомления: https://pythonworld.ru/osnovy/pep-8-rukovodstvo-po-napisaniyu-koda-na-python.html</div>"
   ]
  },
  {
   "cell_type": "markdown",
   "metadata": {},
   "source": [
    "### Загружаем и изучаем датасет"
   ]
  },
  {
   "cell_type": "code",
   "execution_count": 2,
   "metadata": {},
   "outputs": [],
   "source": [
    "try:\n",
    "    data = pd.read_csv('/datasets/Churn.csv')\n",
    "except:\n",
    "    data = pd.read_csv('https://code.s3.yandex.net/datasets/Churn.csv')"
   ]
  },
  {
   "cell_type": "markdown",
   "metadata": {},
   "source": [
    "<div class=\"alert alert-success\">\n",
    "<b>Комментарий ревьюера ✔️:</b> Данные загружены корректно, здорово, что используешь try-except. </div>"
   ]
  },
  {
   "cell_type": "code",
   "execution_count": 3,
   "metadata": {},
   "outputs": [
    {
     "name": "stdout",
     "output_type": "stream",
     "text": [
      "<class 'pandas.core.frame.DataFrame'>\n",
      "RangeIndex: 10000 entries, 0 to 9999\n",
      "Data columns (total 14 columns):\n",
      " #   Column           Non-Null Count  Dtype  \n",
      "---  ------           --------------  -----  \n",
      " 0   RowNumber        10000 non-null  int64  \n",
      " 1   CustomerId       10000 non-null  int64  \n",
      " 2   Surname          10000 non-null  object \n",
      " 3   CreditScore      10000 non-null  int64  \n",
      " 4   Geography        10000 non-null  object \n",
      " 5   Gender           10000 non-null  object \n",
      " 6   Age              10000 non-null  int64  \n",
      " 7   Tenure           9091 non-null   float64\n",
      " 8   Balance          10000 non-null  float64\n",
      " 9   NumOfProducts    10000 non-null  int64  \n",
      " 10  HasCrCard        10000 non-null  int64  \n",
      " 11  IsActiveMember   10000 non-null  int64  \n",
      " 12  EstimatedSalary  10000 non-null  float64\n",
      " 13  Exited           10000 non-null  int64  \n",
      "dtypes: float64(3), int64(8), object(3)\n",
      "memory usage: 1.1+ MB\n",
      "None\n"
     ]
    },
    {
     "data": {
      "text/html": [
       "<div>\n",
       "<style scoped>\n",
       "    .dataframe tbody tr th:only-of-type {\n",
       "        vertical-align: middle;\n",
       "    }\n",
       "\n",
       "    .dataframe tbody tr th {\n",
       "        vertical-align: top;\n",
       "    }\n",
       "\n",
       "    .dataframe thead th {\n",
       "        text-align: right;\n",
       "    }\n",
       "</style>\n",
       "<table border=\"1\" class=\"dataframe\">\n",
       "  <thead>\n",
       "    <tr style=\"text-align: right;\">\n",
       "      <th></th>\n",
       "      <th>RowNumber</th>\n",
       "      <th>CustomerId</th>\n",
       "      <th>Surname</th>\n",
       "      <th>CreditScore</th>\n",
       "      <th>Geography</th>\n",
       "      <th>Gender</th>\n",
       "      <th>Age</th>\n",
       "      <th>Tenure</th>\n",
       "      <th>Balance</th>\n",
       "      <th>NumOfProducts</th>\n",
       "      <th>HasCrCard</th>\n",
       "      <th>IsActiveMember</th>\n",
       "      <th>EstimatedSalary</th>\n",
       "      <th>Exited</th>\n",
       "    </tr>\n",
       "  </thead>\n",
       "  <tbody>\n",
       "    <tr>\n",
       "      <th>0</th>\n",
       "      <td>1</td>\n",
       "      <td>15634602</td>\n",
       "      <td>Hargrave</td>\n",
       "      <td>619</td>\n",
       "      <td>France</td>\n",
       "      <td>Female</td>\n",
       "      <td>42</td>\n",
       "      <td>2.0</td>\n",
       "      <td>0.00</td>\n",
       "      <td>1</td>\n",
       "      <td>1</td>\n",
       "      <td>1</td>\n",
       "      <td>101348.88</td>\n",
       "      <td>1</td>\n",
       "    </tr>\n",
       "    <tr>\n",
       "      <th>1</th>\n",
       "      <td>2</td>\n",
       "      <td>15647311</td>\n",
       "      <td>Hill</td>\n",
       "      <td>608</td>\n",
       "      <td>Spain</td>\n",
       "      <td>Female</td>\n",
       "      <td>41</td>\n",
       "      <td>1.0</td>\n",
       "      <td>83807.86</td>\n",
       "      <td>1</td>\n",
       "      <td>0</td>\n",
       "      <td>1</td>\n",
       "      <td>112542.58</td>\n",
       "      <td>0</td>\n",
       "    </tr>\n",
       "    <tr>\n",
       "      <th>2</th>\n",
       "      <td>3</td>\n",
       "      <td>15619304</td>\n",
       "      <td>Onio</td>\n",
       "      <td>502</td>\n",
       "      <td>France</td>\n",
       "      <td>Female</td>\n",
       "      <td>42</td>\n",
       "      <td>8.0</td>\n",
       "      <td>159660.80</td>\n",
       "      <td>3</td>\n",
       "      <td>1</td>\n",
       "      <td>0</td>\n",
       "      <td>113931.57</td>\n",
       "      <td>1</td>\n",
       "    </tr>\n",
       "    <tr>\n",
       "      <th>3</th>\n",
       "      <td>4</td>\n",
       "      <td>15701354</td>\n",
       "      <td>Boni</td>\n",
       "      <td>699</td>\n",
       "      <td>France</td>\n",
       "      <td>Female</td>\n",
       "      <td>39</td>\n",
       "      <td>1.0</td>\n",
       "      <td>0.00</td>\n",
       "      <td>2</td>\n",
       "      <td>0</td>\n",
       "      <td>0</td>\n",
       "      <td>93826.63</td>\n",
       "      <td>0</td>\n",
       "    </tr>\n",
       "    <tr>\n",
       "      <th>4</th>\n",
       "      <td>5</td>\n",
       "      <td>15737888</td>\n",
       "      <td>Mitchell</td>\n",
       "      <td>850</td>\n",
       "      <td>Spain</td>\n",
       "      <td>Female</td>\n",
       "      <td>43</td>\n",
       "      <td>2.0</td>\n",
       "      <td>125510.82</td>\n",
       "      <td>1</td>\n",
       "      <td>1</td>\n",
       "      <td>1</td>\n",
       "      <td>79084.10</td>\n",
       "      <td>0</td>\n",
       "    </tr>\n",
       "    <tr>\n",
       "      <th>5</th>\n",
       "      <td>6</td>\n",
       "      <td>15574012</td>\n",
       "      <td>Chu</td>\n",
       "      <td>645</td>\n",
       "      <td>Spain</td>\n",
       "      <td>Male</td>\n",
       "      <td>44</td>\n",
       "      <td>8.0</td>\n",
       "      <td>113755.78</td>\n",
       "      <td>2</td>\n",
       "      <td>1</td>\n",
       "      <td>0</td>\n",
       "      <td>149756.71</td>\n",
       "      <td>1</td>\n",
       "    </tr>\n",
       "    <tr>\n",
       "      <th>6</th>\n",
       "      <td>7</td>\n",
       "      <td>15592531</td>\n",
       "      <td>Bartlett</td>\n",
       "      <td>822</td>\n",
       "      <td>France</td>\n",
       "      <td>Male</td>\n",
       "      <td>50</td>\n",
       "      <td>7.0</td>\n",
       "      <td>0.00</td>\n",
       "      <td>2</td>\n",
       "      <td>1</td>\n",
       "      <td>1</td>\n",
       "      <td>10062.80</td>\n",
       "      <td>0</td>\n",
       "    </tr>\n",
       "    <tr>\n",
       "      <th>7</th>\n",
       "      <td>8</td>\n",
       "      <td>15656148</td>\n",
       "      <td>Obinna</td>\n",
       "      <td>376</td>\n",
       "      <td>Germany</td>\n",
       "      <td>Female</td>\n",
       "      <td>29</td>\n",
       "      <td>4.0</td>\n",
       "      <td>115046.74</td>\n",
       "      <td>4</td>\n",
       "      <td>1</td>\n",
       "      <td>0</td>\n",
       "      <td>119346.88</td>\n",
       "      <td>1</td>\n",
       "    </tr>\n",
       "    <tr>\n",
       "      <th>8</th>\n",
       "      <td>9</td>\n",
       "      <td>15792365</td>\n",
       "      <td>He</td>\n",
       "      <td>501</td>\n",
       "      <td>France</td>\n",
       "      <td>Male</td>\n",
       "      <td>44</td>\n",
       "      <td>4.0</td>\n",
       "      <td>142051.07</td>\n",
       "      <td>2</td>\n",
       "      <td>0</td>\n",
       "      <td>1</td>\n",
       "      <td>74940.50</td>\n",
       "      <td>0</td>\n",
       "    </tr>\n",
       "    <tr>\n",
       "      <th>9</th>\n",
       "      <td>10</td>\n",
       "      <td>15592389</td>\n",
       "      <td>H?</td>\n",
       "      <td>684</td>\n",
       "      <td>France</td>\n",
       "      <td>Male</td>\n",
       "      <td>27</td>\n",
       "      <td>2.0</td>\n",
       "      <td>134603.88</td>\n",
       "      <td>1</td>\n",
       "      <td>1</td>\n",
       "      <td>1</td>\n",
       "      <td>71725.73</td>\n",
       "      <td>0</td>\n",
       "    </tr>\n",
       "  </tbody>\n",
       "</table>\n",
       "</div>"
      ],
      "text/plain": [
       "   RowNumber  CustomerId   Surname  CreditScore Geography  Gender  Age  \\\n",
       "0          1    15634602  Hargrave          619    France  Female   42   \n",
       "1          2    15647311      Hill          608     Spain  Female   41   \n",
       "2          3    15619304      Onio          502    France  Female   42   \n",
       "3          4    15701354      Boni          699    France  Female   39   \n",
       "4          5    15737888  Mitchell          850     Spain  Female   43   \n",
       "5          6    15574012       Chu          645     Spain    Male   44   \n",
       "6          7    15592531  Bartlett          822    France    Male   50   \n",
       "7          8    15656148    Obinna          376   Germany  Female   29   \n",
       "8          9    15792365        He          501    France    Male   44   \n",
       "9         10    15592389        H?          684    France    Male   27   \n",
       "\n",
       "   Tenure    Balance  NumOfProducts  HasCrCard  IsActiveMember  \\\n",
       "0     2.0       0.00              1          1               1   \n",
       "1     1.0   83807.86              1          0               1   \n",
       "2     8.0  159660.80              3          1               0   \n",
       "3     1.0       0.00              2          0               0   \n",
       "4     2.0  125510.82              1          1               1   \n",
       "5     8.0  113755.78              2          1               0   \n",
       "6     7.0       0.00              2          1               1   \n",
       "7     4.0  115046.74              4          1               0   \n",
       "8     4.0  142051.07              2          0               1   \n",
       "9     2.0  134603.88              1          1               1   \n",
       "\n",
       "   EstimatedSalary  Exited  \n",
       "0        101348.88       1  \n",
       "1        112542.58       0  \n",
       "2        113931.57       1  \n",
       "3         93826.63       0  \n",
       "4         79084.10       0  \n",
       "5        149756.71       1  \n",
       "6         10062.80       0  \n",
       "7        119346.88       1  \n",
       "8         74940.50       0  \n",
       "9         71725.73       0  "
      ]
     },
     "execution_count": 3,
     "metadata": {},
     "output_type": "execute_result"
    }
   ],
   "source": [
    "print(data.info())\n",
    "data.head(10)"
   ]
  },
  {
   "cell_type": "markdown",
   "metadata": {},
   "source": [
    "<div class=\"alert alert-danger\">\n",
    "<b>Комментарий ревьюера ❌:</b> Тут код падает с ошибкой, так как переменная data не определена.  </div>"
   ]
  },
  {
   "cell_type": "markdown",
   "metadata": {},
   "source": [
    "<div class=\"alert alert-info\"> <b>Комментарий студента:</b> Датасет на кегле и у нас - разные.\n",
    "Я работал с файлом с кегли на компьютере, поменял источник на файл Яндекса и отправил на проверку, а потом понял, что все сломалось. Сейчас поправил.</div>"
   ]
  },
  {
   "cell_type": "markdown",
   "metadata": {},
   "source": [
    "<div class=\"alert alert-success\">\n",
    "<b>Комментарий ревьюера v2 ✔️:</b> Сейчас все работает. </div>"
   ]
  },
  {
   "cell_type": "markdown",
   "metadata": {},
   "source": [
    "<div class=\"alert alert-warning\">\n",
    "<b>Комментарий ревьюера ⚠️:</b> Еще полезно проверить наличие дубликатов, посмотреть на распределение данных и  взглянуть на корреляцию признаков, ведь может иметь место проблема <a href='http://www.machinelearning.ru/wiki/index.php?title=%D0%9C%D1%83%D0%BB%D1%8C%D1%82%D0%B8%D0%BA%D0%BE%D0%BB%D0%BB%D0%B8%D0%BD%D0%B5%D0%B0%D1%80%D0%BD%D0%BE%D1%81%D1%82%D1%8C'>мультиколлинеарности</a>, а для наглядности можно построить <a href=\"https://medium.com/@szabo.bibor/how-to-create-a-seaborn-correlation-heatmap-in-python-834c0686b88e\">хитмап</a>. </div>"
   ]
  },
  {
   "cell_type": "code",
   "execution_count": 4,
   "metadata": {},
   "outputs": [],
   "source": [
    "data['Tenure'] = data['Tenure'].fillna(0)"
   ]
  },
  {
   "cell_type": "markdown",
   "metadata": {},
   "source": [
    "Заполняем пропуски нулевым значением. Tenure означает сколько лет человек является клиентом банка. Если показатель nAn, значит человек не пробыл года в качестве клиента."
   ]
  },
  {
   "cell_type": "code",
   "execution_count": 5,
   "metadata": {},
   "outputs": [
    {
     "name": "stdout",
     "output_type": "stream",
     "text": [
      "Количество дубликатов: 0\n"
     ]
    }
   ],
   "source": [
    "print('Количество дубликатов:', data.duplicated().sum())"
   ]
  },
  {
   "cell_type": "code",
   "execution_count": 6,
   "metadata": {},
   "outputs": [
    {
     "data": {
      "image/png": "[encoded data removed]",
      "text/plain": [
       "<Figure size 1080x1440 with 12 Axes>"
      ]
     },
     "metadata": {
      "needs_background": "light"
     },
     "output_type": "display_data"
    }
   ],
   "source": [
    "data.hist(figsize=(15, 20));"
   ]
  },
  {
   "cell_type": "code",
   "execution_count": 7,
   "metadata": {},
   "outputs": [
    {
     "name": "stderr",
     "output_type": "stream",
     "text": [
      "/tmp/ipykernel_48/3635352863.py:2: DeprecationWarning: `np.bool` is a deprecated alias for the builtin `bool`. To silence this warning, use `bool` by itself. Doing this will not modify any behavior and is safe. If you specifically wanted the numpy scalar type, use `np.bool_` here.\n",
      "Deprecated in NumPy 1.20; for more details and guidance: https://numpy.org/devdocs/release/1.20.0-notes.html#deprecations\n",
      "  mask = np.triu(np.ones_like(data.corr(), dtype=np.bool))\n"
     ]
    },
    {
     "data": {
      "image/png": "[encoded data removed]",
      "text/plain": [
       "<Figure size 1152x432 with 2 Axes>"
      ]
     },
     "metadata": {
      "needs_background": "light"
     },
     "output_type": "display_data"
    }
   ],
   "source": [
    "plt.figure(figsize=(16, 6))\n",
    "mask = np.triu(np.ones_like(data.corr(), dtype=np.bool))\n",
    "heatmap = sns.heatmap(data.corr(), mask=mask, vmin=-1, vmax=1, annot=True, cmap='BrBG')\n",
    "heatmap.set_title('Triangle Correlation Heatmap', fontdict={'fontsize':18}, pad=16);"
   ]
  },
  {
   "cell_type": "markdown",
   "metadata": {},
   "source": [
    "<div class=\"alert alert-success\">\n",
    "<b>Комментарий ревьюера v2 ✔️:</b> Отличные графики. </div>"
   ]
  },
  {
   "cell_type": "markdown",
   "metadata": {},
   "source": [
    "<div class=\"alert alert-danger\">\n",
    "<b>Комментарий ревьюера ❌:</b> Неинформативные признаки не удалены. Подумай, что это за столбцы, и удали их.  </div>"
   ]
  },
  {
   "cell_type": "code",
   "execution_count": 8,
   "metadata": {},
   "outputs": [],
   "source": [
    "data = data.drop(['RowNumber', 'CustomerId', 'Surname'], axis=1)"
   ]
  },
  {
   "cell_type": "markdown",
   "metadata": {},
   "source": [
    "Номер ряда, ID и имя не являются неинформативными признаками."
   ]
  },
  {
   "cell_type": "markdown",
   "metadata": {},
   "source": [
    "<div class=\"alert alert-info\"> <b>Комментарий студента:</b> Поправил </div>"
   ]
  },
  {
   "cell_type": "markdown",
   "metadata": {},
   "source": [
    "<div class=\"alert alert-success\">\n",
    "<b>Комментарий ревьюера v2 ✔️:</b> Все правильно, молодец. </div>"
   ]
  },
  {
   "cell_type": "markdown",
   "metadata": {},
   "source": [
    "<div class=\"alert alert-danger\">\n",
    "<b>Комментарий ревьюера ❌:</b> Пропуски нужно как-то обработать. Тем более они останутся, когда ты исправишь кодирование признаков, о чем я напишу далее. </div>"
   ]
  },
  {
   "cell_type": "markdown",
   "metadata": {},
   "source": [
    "<div class=\"alert alert-info\"> <b>Комментарий студента:</b> Поправил </div>"
   ]
  },
  {
   "cell_type": "markdown",
   "metadata": {},
   "source": [
    "<div class=\"alert alert-success\">\n",
    "<b>Комментарий ревьюера v2 ✔️:</b> Пропуски обработаны корректно. Отличное обоснование.</div>"
   ]
  },
  {
   "cell_type": "code",
   "execution_count": 9,
   "metadata": {},
   "outputs": [
    {
     "name": "stdout",
     "output_type": "stream",
     "text": [
      "<class 'pandas.core.frame.DataFrame'>\n",
      "RangeIndex: 10000 entries, 0 to 9999\n",
      "Data columns (total 11 columns):\n",
      " #   Column           Non-Null Count  Dtype  \n",
      "---  ------           --------------  -----  \n",
      " 0   CreditScore      10000 non-null  int64  \n",
      " 1   Geography        10000 non-null  object \n",
      " 2   Gender           10000 non-null  object \n",
      " 3   Age              10000 non-null  int64  \n",
      " 4   Tenure           10000 non-null  float64\n",
      " 5   Balance          10000 non-null  float64\n",
      " 6   NumOfProducts    10000 non-null  int64  \n",
      " 7   HasCrCard        10000 non-null  int64  \n",
      " 8   IsActiveMember   10000 non-null  int64  \n",
      " 9   EstimatedSalary  10000 non-null  float64\n",
      " 10  Exited           10000 non-null  int64  \n",
      "dtypes: float64(3), int64(6), object(2)\n",
      "memory usage: 859.5+ KB\n",
      "None\n"
     ]
    },
    {
     "data": {
      "text/html": [
       "<div>\n",
       "<style scoped>\n",
       "    .dataframe tbody tr th:only-of-type {\n",
       "        vertical-align: middle;\n",
       "    }\n",
       "\n",
       "    .dataframe tbody tr th {\n",
       "        vertical-align: top;\n",
       "    }\n",
       "\n",
       "    .dataframe thead th {\n",
       "        text-align: right;\n",
       "    }\n",
       "</style>\n",
       "<table border=\"1\" class=\"dataframe\">\n",
       "  <thead>\n",
       "    <tr style=\"text-align: right;\">\n",
       "      <th></th>\n",
       "      <th>CreditScore</th>\n",
       "      <th>Geography</th>\n",
       "      <th>Gender</th>\n",
       "      <th>Age</th>\n",
       "      <th>Tenure</th>\n",
       "      <th>Balance</th>\n",
       "      <th>NumOfProducts</th>\n",
       "      <th>HasCrCard</th>\n",
       "      <th>IsActiveMember</th>\n",
       "      <th>EstimatedSalary</th>\n",
       "      <th>Exited</th>\n",
       "    </tr>\n",
       "  </thead>\n",
       "  <tbody>\n",
       "    <tr>\n",
       "      <th>0</th>\n",
       "      <td>619</td>\n",
       "      <td>France</td>\n",
       "      <td>Female</td>\n",
       "      <td>42</td>\n",
       "      <td>2.0</td>\n",
       "      <td>0.00</td>\n",
       "      <td>1</td>\n",
       "      <td>1</td>\n",
       "      <td>1</td>\n",
       "      <td>101348.88</td>\n",
       "      <td>1</td>\n",
       "    </tr>\n",
       "    <tr>\n",
       "      <th>1</th>\n",
       "      <td>608</td>\n",
       "      <td>Spain</td>\n",
       "      <td>Female</td>\n",
       "      <td>41</td>\n",
       "      <td>1.0</td>\n",
       "      <td>83807.86</td>\n",
       "      <td>1</td>\n",
       "      <td>0</td>\n",
       "      <td>1</td>\n",
       "      <td>112542.58</td>\n",
       "      <td>0</td>\n",
       "    </tr>\n",
       "    <tr>\n",
       "      <th>2</th>\n",
       "      <td>502</td>\n",
       "      <td>France</td>\n",
       "      <td>Female</td>\n",
       "      <td>42</td>\n",
       "      <td>8.0</td>\n",
       "      <td>159660.80</td>\n",
       "      <td>3</td>\n",
       "      <td>1</td>\n",
       "      <td>0</td>\n",
       "      <td>113931.57</td>\n",
       "      <td>1</td>\n",
       "    </tr>\n",
       "    <tr>\n",
       "      <th>3</th>\n",
       "      <td>699</td>\n",
       "      <td>France</td>\n",
       "      <td>Female</td>\n",
       "      <td>39</td>\n",
       "      <td>1.0</td>\n",
       "      <td>0.00</td>\n",
       "      <td>2</td>\n",
       "      <td>0</td>\n",
       "      <td>0</td>\n",
       "      <td>93826.63</td>\n",
       "      <td>0</td>\n",
       "    </tr>\n",
       "    <tr>\n",
       "      <th>4</th>\n",
       "      <td>850</td>\n",
       "      <td>Spain</td>\n",
       "      <td>Female</td>\n",
       "      <td>43</td>\n",
       "      <td>2.0</td>\n",
       "      <td>125510.82</td>\n",
       "      <td>1</td>\n",
       "      <td>1</td>\n",
       "      <td>1</td>\n",
       "      <td>79084.10</td>\n",
       "      <td>0</td>\n",
       "    </tr>\n",
       "    <tr>\n",
       "      <th>5</th>\n",
       "      <td>645</td>\n",
       "      <td>Spain</td>\n",
       "      <td>Male</td>\n",
       "      <td>44</td>\n",
       "      <td>8.0</td>\n",
       "      <td>113755.78</td>\n",
       "      <td>2</td>\n",
       "      <td>1</td>\n",
       "      <td>0</td>\n",
       "      <td>149756.71</td>\n",
       "      <td>1</td>\n",
       "    </tr>\n",
       "    <tr>\n",
       "      <th>6</th>\n",
       "      <td>822</td>\n",
       "      <td>France</td>\n",
       "      <td>Male</td>\n",
       "      <td>50</td>\n",
       "      <td>7.0</td>\n",
       "      <td>0.00</td>\n",
       "      <td>2</td>\n",
       "      <td>1</td>\n",
       "      <td>1</td>\n",
       "      <td>10062.80</td>\n",
       "      <td>0</td>\n",
       "    </tr>\n",
       "    <tr>\n",
       "      <th>7</th>\n",
       "      <td>376</td>\n",
       "      <td>Germany</td>\n",
       "      <td>Female</td>\n",
       "      <td>29</td>\n",
       "      <td>4.0</td>\n",
       "      <td>115046.74</td>\n",
       "      <td>4</td>\n",
       "      <td>1</td>\n",
       "      <td>0</td>\n",
       "      <td>119346.88</td>\n",
       "      <td>1</td>\n",
       "    </tr>\n",
       "    <tr>\n",
       "      <th>8</th>\n",
       "      <td>501</td>\n",
       "      <td>France</td>\n",
       "      <td>Male</td>\n",
       "      <td>44</td>\n",
       "      <td>4.0</td>\n",
       "      <td>142051.07</td>\n",
       "      <td>2</td>\n",
       "      <td>0</td>\n",
       "      <td>1</td>\n",
       "      <td>74940.50</td>\n",
       "      <td>0</td>\n",
       "    </tr>\n",
       "    <tr>\n",
       "      <th>9</th>\n",
       "      <td>684</td>\n",
       "      <td>France</td>\n",
       "      <td>Male</td>\n",
       "      <td>27</td>\n",
       "      <td>2.0</td>\n",
       "      <td>134603.88</td>\n",
       "      <td>1</td>\n",
       "      <td>1</td>\n",
       "      <td>1</td>\n",
       "      <td>71725.73</td>\n",
       "      <td>0</td>\n",
       "    </tr>\n",
       "  </tbody>\n",
       "</table>\n",
       "</div>"
      ],
      "text/plain": [
       "   CreditScore Geography  Gender  Age  Tenure    Balance  NumOfProducts  \\\n",
       "0          619    France  Female   42     2.0       0.00              1   \n",
       "1          608     Spain  Female   41     1.0   83807.86              1   \n",
       "2          502    France  Female   42     8.0  159660.80              3   \n",
       "3          699    France  Female   39     1.0       0.00              2   \n",
       "4          850     Spain  Female   43     2.0  125510.82              1   \n",
       "5          645     Spain    Male   44     8.0  113755.78              2   \n",
       "6          822    France    Male   50     7.0       0.00              2   \n",
       "7          376   Germany  Female   29     4.0  115046.74              4   \n",
       "8          501    France    Male   44     4.0  142051.07              2   \n",
       "9          684    France    Male   27     2.0  134603.88              1   \n",
       "\n",
       "   HasCrCard  IsActiveMember  EstimatedSalary  Exited  \n",
       "0          1               1        101348.88       1  \n",
       "1          0               1        112542.58       0  \n",
       "2          1               0        113931.57       1  \n",
       "3          0               0         93826.63       0  \n",
       "4          1               1         79084.10       0  \n",
       "5          1               0        149756.71       1  \n",
       "6          1               1         10062.80       0  \n",
       "7          1               0        119346.88       1  \n",
       "8          0               1         74940.50       0  \n",
       "9          1               1         71725.73       0  "
      ]
     },
     "execution_count": 9,
     "metadata": {},
     "output_type": "execute_result"
    }
   ],
   "source": [
    "print(data.info())\n",
    "data.head(10)"
   ]
  },
  {
   "cell_type": "markdown",
   "metadata": {},
   "source": [
    "### Применяем прямое кодирование к категориальным признакам\n",
    "и выводим полученный датасет"
   ]
  },
  {
   "cell_type": "code",
   "execution_count": 10,
   "metadata": {},
   "outputs": [
    {
     "name": "stdout",
     "output_type": "stream",
     "text": [
      "      Germany  Spain\n",
      "0           0      0\n",
      "1           0      1\n",
      "2           0      0\n",
      "3           0      0\n",
      "4           0      1\n",
      "...       ...    ...\n",
      "9995        0      0\n",
      "9996        0      0\n",
      "9997        0      0\n",
      "9998        1      0\n",
      "9999        0      0\n",
      "\n",
      "[10000 rows x 2 columns]\n",
      "      Male\n",
      "0        0\n",
      "1        0\n",
      "2        0\n",
      "3        0\n",
      "4        0\n",
      "...    ...\n",
      "9995     1\n",
      "9996     1\n",
      "9997     0\n",
      "9998     1\n",
      "9999     0\n",
      "\n",
      "[10000 rows x 1 columns]\n"
     ]
    }
   ],
   "source": [
    "ohe_geo = data['Geography']\n",
    "ohe_geo = pd.get_dummies(ohe_geo, drop_first=True)\n",
    "ohe_gender = data['Gender']\n",
    "ohe_gender = pd.get_dummies(ohe_gender, drop_first=True)\n",
    "print(ohe_geo)\n",
    "print(ohe_gender)"
   ]
  },
  {
   "cell_type": "code",
   "execution_count": 11,
   "metadata": {},
   "outputs": [
    {
     "data": {
      "text/html": [
       "<div>\n",
       "<style scoped>\n",
       "    .dataframe tbody tr th:only-of-type {\n",
       "        vertical-align: middle;\n",
       "    }\n",
       "\n",
       "    .dataframe tbody tr th {\n",
       "        vertical-align: top;\n",
       "    }\n",
       "\n",
       "    .dataframe thead th {\n",
       "        text-align: right;\n",
       "    }\n",
       "</style>\n",
       "<table border=\"1\" class=\"dataframe\">\n",
       "  <thead>\n",
       "    <tr style=\"text-align: right;\">\n",
       "      <th></th>\n",
       "      <th>CreditScore</th>\n",
       "      <th>Age</th>\n",
       "      <th>Tenure</th>\n",
       "      <th>Balance</th>\n",
       "      <th>NumOfProducts</th>\n",
       "      <th>HasCrCard</th>\n",
       "      <th>IsActiveMember</th>\n",
       "      <th>EstimatedSalary</th>\n",
       "      <th>Exited</th>\n",
       "      <th>Germany</th>\n",
       "      <th>Spain</th>\n",
       "      <th>Male</th>\n",
       "    </tr>\n",
       "  </thead>\n",
       "  <tbody>\n",
       "    <tr>\n",
       "      <th>0</th>\n",
       "      <td>619</td>\n",
       "      <td>42</td>\n",
       "      <td>2.0</td>\n",
       "      <td>0.00</td>\n",
       "      <td>1</td>\n",
       "      <td>1</td>\n",
       "      <td>1</td>\n",
       "      <td>101348.88</td>\n",
       "      <td>1</td>\n",
       "      <td>0</td>\n",
       "      <td>0</td>\n",
       "      <td>0</td>\n",
       "    </tr>\n",
       "    <tr>\n",
       "      <th>1</th>\n",
       "      <td>608</td>\n",
       "      <td>41</td>\n",
       "      <td>1.0</td>\n",
       "      <td>83807.86</td>\n",
       "      <td>1</td>\n",
       "      <td>0</td>\n",
       "      <td>1</td>\n",
       "      <td>112542.58</td>\n",
       "      <td>0</td>\n",
       "      <td>0</td>\n",
       "      <td>1</td>\n",
       "      <td>0</td>\n",
       "    </tr>\n",
       "    <tr>\n",
       "      <th>2</th>\n",
       "      <td>502</td>\n",
       "      <td>42</td>\n",
       "      <td>8.0</td>\n",
       "      <td>159660.80</td>\n",
       "      <td>3</td>\n",
       "      <td>1</td>\n",
       "      <td>0</td>\n",
       "      <td>113931.57</td>\n",
       "      <td>1</td>\n",
       "      <td>0</td>\n",
       "      <td>0</td>\n",
       "      <td>0</td>\n",
       "    </tr>\n",
       "    <tr>\n",
       "      <th>3</th>\n",
       "      <td>699</td>\n",
       "      <td>39</td>\n",
       "      <td>1.0</td>\n",
       "      <td>0.00</td>\n",
       "      <td>2</td>\n",
       "      <td>0</td>\n",
       "      <td>0</td>\n",
       "      <td>93826.63</td>\n",
       "      <td>0</td>\n",
       "      <td>0</td>\n",
       "      <td>0</td>\n",
       "      <td>0</td>\n",
       "    </tr>\n",
       "    <tr>\n",
       "      <th>4</th>\n",
       "      <td>850</td>\n",
       "      <td>43</td>\n",
       "      <td>2.0</td>\n",
       "      <td>125510.82</td>\n",
       "      <td>1</td>\n",
       "      <td>1</td>\n",
       "      <td>1</td>\n",
       "      <td>79084.10</td>\n",
       "      <td>0</td>\n",
       "      <td>0</td>\n",
       "      <td>1</td>\n",
       "      <td>0</td>\n",
       "    </tr>\n",
       "    <tr>\n",
       "      <th>...</th>\n",
       "      <td>...</td>\n",
       "      <td>...</td>\n",
       "      <td>...</td>\n",
       "      <td>...</td>\n",
       "      <td>...</td>\n",
       "      <td>...</td>\n",
       "      <td>...</td>\n",
       "      <td>...</td>\n",
       "      <td>...</td>\n",
       "      <td>...</td>\n",
       "      <td>...</td>\n",
       "      <td>...</td>\n",
       "    </tr>\n",
       "    <tr>\n",
       "      <th>9995</th>\n",
       "      <td>771</td>\n",
       "      <td>39</td>\n",
       "      <td>5.0</td>\n",
       "      <td>0.00</td>\n",
       "      <td>2</td>\n",
       "      <td>1</td>\n",
       "      <td>0</td>\n",
       "      <td>96270.64</td>\n",
       "      <td>0</td>\n",
       "      <td>0</td>\n",
       "      <td>0</td>\n",
       "      <td>1</td>\n",
       "    </tr>\n",
       "    <tr>\n",
       "      <th>9996</th>\n",
       "      <td>516</td>\n",
       "      <td>35</td>\n",
       "      <td>10.0</td>\n",
       "      <td>57369.61</td>\n",
       "      <td>1</td>\n",
       "      <td>1</td>\n",
       "      <td>1</td>\n",
       "      <td>101699.77</td>\n",
       "      <td>0</td>\n",
       "      <td>0</td>\n",
       "      <td>0</td>\n",
       "      <td>1</td>\n",
       "    </tr>\n",
       "    <tr>\n",
       "      <th>9997</th>\n",
       "      <td>709</td>\n",
       "      <td>36</td>\n",
       "      <td>7.0</td>\n",
       "      <td>0.00</td>\n",
       "      <td>1</td>\n",
       "      <td>0</td>\n",
       "      <td>1</td>\n",
       "      <td>42085.58</td>\n",
       "      <td>1</td>\n",
       "      <td>0</td>\n",
       "      <td>0</td>\n",
       "      <td>0</td>\n",
       "    </tr>\n",
       "    <tr>\n",
       "      <th>9998</th>\n",
       "      <td>772</td>\n",
       "      <td>42</td>\n",
       "      <td>3.0</td>\n",
       "      <td>75075.31</td>\n",
       "      <td>2</td>\n",
       "      <td>1</td>\n",
       "      <td>0</td>\n",
       "      <td>92888.52</td>\n",
       "      <td>1</td>\n",
       "      <td>1</td>\n",
       "      <td>0</td>\n",
       "      <td>1</td>\n",
       "    </tr>\n",
       "    <tr>\n",
       "      <th>9999</th>\n",
       "      <td>792</td>\n",
       "      <td>28</td>\n",
       "      <td>0.0</td>\n",
       "      <td>130142.79</td>\n",
       "      <td>1</td>\n",
       "      <td>1</td>\n",
       "      <td>0</td>\n",
       "      <td>38190.78</td>\n",
       "      <td>0</td>\n",
       "      <td>0</td>\n",
       "      <td>0</td>\n",
       "      <td>0</td>\n",
       "    </tr>\n",
       "  </tbody>\n",
       "</table>\n",
       "<p>10000 rows × 12 columns</p>\n",
       "</div>"
      ],
      "text/plain": [
       "      CreditScore  Age  Tenure    Balance  NumOfProducts  HasCrCard  \\\n",
       "0             619   42     2.0       0.00              1          1   \n",
       "1             608   41     1.0   83807.86              1          0   \n",
       "2             502   42     8.0  159660.80              3          1   \n",
       "3             699   39     1.0       0.00              2          0   \n",
       "4             850   43     2.0  125510.82              1          1   \n",
       "...           ...  ...     ...        ...            ...        ...   \n",
       "9995          771   39     5.0       0.00              2          1   \n",
       "9996          516   35    10.0   57369.61              1          1   \n",
       "9997          709   36     7.0       0.00              1          0   \n",
       "9998          772   42     3.0   75075.31              2          1   \n",
       "9999          792   28     0.0  130142.79              1          1   \n",
       "\n",
       "      IsActiveMember  EstimatedSalary  Exited  Germany  Spain  Male  \n",
       "0                  1        101348.88       1        0      0     0  \n",
       "1                  1        112542.58       0        0      1     0  \n",
       "2                  0        113931.57       1        0      0     0  \n",
       "3                  0         93826.63       0        0      0     0  \n",
       "4                  1         79084.10       0        0      1     0  \n",
       "...              ...              ...     ...      ...    ...   ...  \n",
       "9995               0         96270.64       0        0      0     1  \n",
       "9996               1        101699.77       0        0      0     1  \n",
       "9997               1         42085.58       1        0      0     0  \n",
       "9998               0         92888.52       1        1      0     1  \n",
       "9999               0         38190.78       0        0      0     0  \n",
       "\n",
       "[10000 rows x 12 columns]"
      ]
     },
     "execution_count": 11,
     "metadata": {},
     "output_type": "execute_result"
    }
   ],
   "source": [
    "data['Germany'] = ohe_geo['Germany']\n",
    "data['Spain'] = ohe_geo['Spain']\n",
    "data['Male'] = ohe_gender['Male']\n",
    "data = data.drop(['Geography', 'Gender'], axis=1)\n",
    "data"
   ]
  },
  {
   "cell_type": "markdown",
   "metadata": {},
   "source": [
    "Создаем обучающую, валидационную и тестовую выборки."
   ]
  },
  {
   "cell_type": "code",
   "execution_count": 12,
   "metadata": {},
   "outputs": [
    {
     "name": "stdout",
     "output_type": "stream",
     "text": [
      "(7500, 11)\n",
      "(1250, 11)\n",
      "(1250, 11)\n",
      "<class 'pandas.core.frame.DataFrame'>\n",
      "Int64Index: 7500 entries, 226 to 4578\n",
      "Data columns (total 11 columns):\n",
      " #   Column           Non-Null Count  Dtype  \n",
      "---  ------           --------------  -----  \n",
      " 0   CreditScore      7500 non-null   int64  \n",
      " 1   Age              7500 non-null   int64  \n",
      " 2   Tenure           7500 non-null   float64\n",
      " 3   Balance          7500 non-null   float64\n",
      " 4   NumOfProducts    7500 non-null   int64  \n",
      " 5   HasCrCard        7500 non-null   int64  \n",
      " 6   IsActiveMember   7500 non-null   int64  \n",
      " 7   EstimatedSalary  7500 non-null   float64\n",
      " 8   Germany          7500 non-null   uint8  \n",
      " 9   Spain            7500 non-null   uint8  \n",
      " 10  Male             7500 non-null   uint8  \n",
      "dtypes: float64(3), int64(5), uint8(3)\n",
      "memory usage: 549.3 KB\n",
      "None\n"
     ]
    },
    {
     "data": {
      "text/html": [
       "<div>\n",
       "<style scoped>\n",
       "    .dataframe tbody tr th:only-of-type {\n",
       "        vertical-align: middle;\n",
       "    }\n",
       "\n",
       "    .dataframe tbody tr th {\n",
       "        vertical-align: top;\n",
       "    }\n",
       "\n",
       "    .dataframe thead th {\n",
       "        text-align: right;\n",
       "    }\n",
       "</style>\n",
       "<table border=\"1\" class=\"dataframe\">\n",
       "  <thead>\n",
       "    <tr style=\"text-align: right;\">\n",
       "      <th></th>\n",
       "      <th>CreditScore</th>\n",
       "      <th>Age</th>\n",
       "      <th>Tenure</th>\n",
       "      <th>Balance</th>\n",
       "      <th>NumOfProducts</th>\n",
       "      <th>HasCrCard</th>\n",
       "      <th>IsActiveMember</th>\n",
       "      <th>EstimatedSalary</th>\n",
       "      <th>Germany</th>\n",
       "      <th>Spain</th>\n",
       "      <th>Male</th>\n",
       "    </tr>\n",
       "  </thead>\n",
       "  <tbody>\n",
       "    <tr>\n",
       "      <th>226</th>\n",
       "      <td>694</td>\n",
       "      <td>30</td>\n",
       "      <td>9.0</td>\n",
       "      <td>0.00</td>\n",
       "      <td>2</td>\n",
       "      <td>1</td>\n",
       "      <td>1</td>\n",
       "      <td>26960.31</td>\n",
       "      <td>0</td>\n",
       "      <td>0</td>\n",
       "      <td>0</td>\n",
       "    </tr>\n",
       "    <tr>\n",
       "      <th>7756</th>\n",
       "      <td>621</td>\n",
       "      <td>36</td>\n",
       "      <td>7.0</td>\n",
       "      <td>116338.68</td>\n",
       "      <td>1</td>\n",
       "      <td>1</td>\n",
       "      <td>1</td>\n",
       "      <td>155743.48</td>\n",
       "      <td>0</td>\n",
       "      <td>1</td>\n",
       "      <td>0</td>\n",
       "    </tr>\n",
       "    <tr>\n",
       "      <th>2065</th>\n",
       "      <td>626</td>\n",
       "      <td>33</td>\n",
       "      <td>8.0</td>\n",
       "      <td>0.00</td>\n",
       "      <td>2</td>\n",
       "      <td>1</td>\n",
       "      <td>0</td>\n",
       "      <td>138504.28</td>\n",
       "      <td>0</td>\n",
       "      <td>0</td>\n",
       "      <td>1</td>\n",
       "    </tr>\n",
       "    <tr>\n",
       "      <th>2800</th>\n",
       "      <td>769</td>\n",
       "      <td>51</td>\n",
       "      <td>9.0</td>\n",
       "      <td>156773.78</td>\n",
       "      <td>2</td>\n",
       "      <td>1</td>\n",
       "      <td>0</td>\n",
       "      <td>40257.79</td>\n",
       "      <td>0</td>\n",
       "      <td>0</td>\n",
       "      <td>1</td>\n",
       "    </tr>\n",
       "    <tr>\n",
       "      <th>7028</th>\n",
       "      <td>718</td>\n",
       "      <td>26</td>\n",
       "      <td>0.0</td>\n",
       "      <td>147527.03</td>\n",
       "      <td>1</td>\n",
       "      <td>0</td>\n",
       "      <td>0</td>\n",
       "      <td>51099.56</td>\n",
       "      <td>1</td>\n",
       "      <td>0</td>\n",
       "      <td>1</td>\n",
       "    </tr>\n",
       "    <tr>\n",
       "      <th>6894</th>\n",
       "      <td>690</td>\n",
       "      <td>26</td>\n",
       "      <td>8.0</td>\n",
       "      <td>116318.23</td>\n",
       "      <td>1</td>\n",
       "      <td>1</td>\n",
       "      <td>1</td>\n",
       "      <td>83253.05</td>\n",
       "      <td>0</td>\n",
       "      <td>1</td>\n",
       "      <td>1</td>\n",
       "    </tr>\n",
       "    <tr>\n",
       "      <th>4226</th>\n",
       "      <td>651</td>\n",
       "      <td>36</td>\n",
       "      <td>8.0</td>\n",
       "      <td>0.00</td>\n",
       "      <td>2</td>\n",
       "      <td>1</td>\n",
       "      <td>0</td>\n",
       "      <td>91652.43</td>\n",
       "      <td>0</td>\n",
       "      <td>1</td>\n",
       "      <td>0</td>\n",
       "    </tr>\n",
       "    <tr>\n",
       "      <th>5857</th>\n",
       "      <td>594</td>\n",
       "      <td>56</td>\n",
       "      <td>0.0</td>\n",
       "      <td>0.00</td>\n",
       "      <td>1</td>\n",
       "      <td>1</td>\n",
       "      <td>0</td>\n",
       "      <td>26215.85</td>\n",
       "      <td>0</td>\n",
       "      <td>0</td>\n",
       "      <td>0</td>\n",
       "    </tr>\n",
       "    <tr>\n",
       "      <th>142</th>\n",
       "      <td>682</td>\n",
       "      <td>43</td>\n",
       "      <td>5.0</td>\n",
       "      <td>125851.93</td>\n",
       "      <td>1</td>\n",
       "      <td>1</td>\n",
       "      <td>1</td>\n",
       "      <td>193318.33</td>\n",
       "      <td>0</td>\n",
       "      <td>0</td>\n",
       "      <td>0</td>\n",
       "    </tr>\n",
       "    <tr>\n",
       "      <th>7107</th>\n",
       "      <td>711</td>\n",
       "      <td>45</td>\n",
       "      <td>1.0</td>\n",
       "      <td>97486.15</td>\n",
       "      <td>2</td>\n",
       "      <td>1</td>\n",
       "      <td>0</td>\n",
       "      <td>50610.62</td>\n",
       "      <td>1</td>\n",
       "      <td>0</td>\n",
       "      <td>0</td>\n",
       "    </tr>\n",
       "  </tbody>\n",
       "</table>\n",
       "</div>"
      ],
      "text/plain": [
       "      CreditScore  Age  Tenure    Balance  NumOfProducts  HasCrCard  \\\n",
       "226           694   30     9.0       0.00              2          1   \n",
       "7756          621   36     7.0  116338.68              1          1   \n",
       "2065          626   33     8.0       0.00              2          1   \n",
       "2800          769   51     9.0  156773.78              2          1   \n",
       "7028          718   26     0.0  147527.03              1          0   \n",
       "6894          690   26     8.0  116318.23              1          1   \n",
       "4226          651   36     8.0       0.00              2          1   \n",
       "5857          594   56     0.0       0.00              1          1   \n",
       "142           682   43     5.0  125851.93              1          1   \n",
       "7107          711   45     1.0   97486.15              2          1   \n",
       "\n",
       "      IsActiveMember  EstimatedSalary  Germany  Spain  Male  \n",
       "226                1         26960.31        0      0     0  \n",
       "7756               1        155743.48        0      1     0  \n",
       "2065               0        138504.28        0      0     1  \n",
       "2800               0         40257.79        0      0     1  \n",
       "7028               0         51099.56        1      0     1  \n",
       "6894               1         83253.05        0      1     1  \n",
       "4226               0         91652.43        0      1     0  \n",
       "5857               0         26215.85        0      0     0  \n",
       "142                1        193318.33        0      0     0  \n",
       "7107               0         50610.62        1      0     0  "
      ]
     },
     "execution_count": 12,
     "metadata": {},
     "output_type": "execute_result"
    }
   ],
   "source": [
    "features = data.drop(['Exited'], axis=1)\n",
    "target = data['Exited']\n",
    "\n",
    "features_train, features_valid, target_train, target_valid = train_test_split(\n",
    "    features, target, test_size=.25, random_state=12345)\n",
    "\n",
    "features_valid, features_test, target_valid, target_test = train_test_split(\n",
    "    features_valid, target_valid, test_size=.5, random_state=12345)\n",
    "\n",
    "print(features_train.shape)\n",
    "print(features_valid.shape)\n",
    "print(features_test.shape)\n",
    "print(features_train.info())\n",
    "features_train.head(10)"
   ]
  },
  {
   "cell_type": "markdown",
   "metadata": {},
   "source": [
    "<div class=\"alert alert-danger\">\n",
    "<b>Комментарий ревьюера ❌:</b> Кодировать следует только категориальные фичи, чтобы преобразовать их в числа. А численные признаки не имеет никакого смысла кодировать, ведь они уже в нужном формате.  </div>"
   ]
  },
  {
   "cell_type": "markdown",
   "metadata": {},
   "source": [
    "<div class=\"alert alert-danger\">\n",
    "<b>Комментарий ревьюера ❌:</b> Ordinal Encoding не подходит для логистической регрессии, потому что она всё норовит посчитать по формуле. Если речь идёт о признаке Age, то это разумно, а вот с Gender есть трудности. Например, сложив значения «1» и «0» («женщина» и «мужчина») и разделив на «2», «средний пол» не получить. Поэтому для линейных моделей следует применить OHE-кодирование. Тут ты можешь либо оставить порядковое кодирование для древесных моделей и для регрессии сделать отдельно OHE, либо же использовать OHE вообще для всех моделей. </div>"
   ]
  },
  {
   "cell_type": "markdown",
   "metadata": {},
   "source": [
    "<div class=\"alert alert-info\"> <b>Комментарий студента:</b> Поправил </div>"
   ]
  },
  {
   "cell_type": "markdown",
   "metadata": {},
   "source": [
    "<div class=\"alert alert-warning\">\n",
    "<b>Комментарий ревьюера v2 ⚠️:</b> Супер! Только это можно сделать проще и в одну строчку:\n",
    "    \n",
    "    data = pd.get_dummies(data, drop_first=True)\n",
    "    \n",
    "Категориальные признаки отберутся автоматически и закодируются.\n",
    "    \n",
    "И как я уже говорил, в следующих проектах будут приниматься только энкодеры из sklearn. \n",
    "    </div>"
   ]
  },
  {
   "cell_type": "markdown",
   "metadata": {},
   "source": [
    "<div class=\"alert alert-warning\">\n",
    "<b>Комментарий ревьюера ⚠️:</b> В этом задании допускается кодировать весь датасет целиком, но в будущих проектах будет приниматься кодирование только после разделения данных на выборки, т.к. такой вариант является наиболее правильным. Настоятельно рекомендую изучить ноутбук по <a href=\"https://colab.research.google.com/drive/1_gAMXcQKoCShB_l8FNtYEejMnosm9mvt?usp=sharing\">ссылке</a>. Так тебе станет намного понятнее, как использовать OneHotEncoder.<br>\n",
    "У тебя могут возникнуть ряд вопросов почему и зачем делать именно так, поэтому давай попробую все объяснить.<br>\n",
    "1) Почему признаки нужно кодировать после разделения данных: так мы избежим утечки данных, c которой ты можешь ознакомиться более подродно по этой <a href=\"https://datascience.stackexchange.com/questions/108663/why-label-encoding-before-split-is-data-leakage\">ссылке</a>.<br>\n",
    "2) Почему OHE из sklearn лучше, чем get_dummies(): get_dummies подходит для анализа данных, а для машинного обучения более предпочтителен OHE из sklearn, т.к. он позволяет избежать ряд ошибок при обучении моделей, в том числе может работать с неизвестными ранее уровнями категорий, которых не было изначально (например, если появится еще одна страна Italy). Еще можно почитать <a href=\"https://albertum.medium.com/preprocessing-onehotencoder-vs-pandas-get-dummies-3de1f3d77dcc\">статью</a> с примером о разнице OneHotEncoder() vs get_dummies.<br></div>"
   ]
  },
  {
   "cell_type": "markdown",
   "metadata": {},
   "source": [
    "<div class=\"alert alert-danger\">\n",
    "<b>Комментарий ревьюера ❌:</b> Данные следует разделять на 3 выборки: обучающую, валидационную и тестовую. Последнюю мы используем как «слепую» для приближения финального тестирования к реальным данным. </div>"
   ]
  },
  {
   "cell_type": "markdown",
   "metadata": {},
   "source": [
    "<div class=\"alert alert-info\"> <b>Комментарий студента:</b> Поправил </div>"
   ]
  },
  {
   "cell_type": "markdown",
   "metadata": {},
   "source": [
    "<div class=\"alert alert-success\">\n",
    "<b>Комментарий ревьюера v2 ✔️:</b> Теперь данные разделены корректно. Молодец, что дополнительно выводишь размерности выборок.</div>"
   ]
  },
  {
   "cell_type": "markdown",
   "metadata": {},
   "source": [
    "### Выполняем масштабирование признаков"
   ]
  },
  {
   "cell_type": "code",
   "execution_count": 13,
   "metadata": {},
   "outputs": [
    {
     "name": "stdout",
     "output_type": "stream",
     "text": [
      "(7500, 11)\n"
     ]
    },
    {
     "name": "stderr",
     "output_type": "stream",
     "text": [
      "/tmp/ipykernel_48/4008602316.py:6: SettingWithCopyWarning: \n",
      "A value is trying to be set on a copy of a slice from a DataFrame.\n",
      "Try using .loc[row_indexer,col_indexer] = value instead\n",
      "\n",
      "See the caveats in the documentation: https://pandas.pydata.org/pandas-docs/stable/user_guide/indexing.html#returning-a-view-versus-a-copy\n",
      "  features_train[numeric] = scaler.transform(features_train[numeric])\n",
      "/opt/conda/lib/python3.9/site-packages/pandas/core/indexing.py:1738: SettingWithCopyWarning: \n",
      "A value is trying to be set on a copy of a slice from a DataFrame.\n",
      "Try using .loc[row_indexer,col_indexer] = value instead\n",
      "\n",
      "See the caveats in the documentation: https://pandas.pydata.org/pandas-docs/stable/user_guide/indexing.html#returning-a-view-versus-a-copy\n",
      "  self._setitem_single_column(loc, value[:, i].tolist(), pi)\n"
     ]
    }
   ],
   "source": [
    "numeric = ['CreditScore', 'Age', 'Tenure', 'Balance', 'NumOfProducts', 'HasCrCard', \n",
    "           'IsActiveMember', 'EstimatedSalary', 'Germany', 'Spain', 'Male']\n",
    "\n",
    "scaler = StandardScaler()\n",
    "scaler.fit(features_train[numeric])\n",
    "features_train[numeric] = scaler.transform(features_train[numeric])\n",
    "features_valid[numeric] = scaler.transform(features_valid[numeric])\n",
    "features_test[numeric] = scaler.transform(features_test[numeric])\n",
    "\n",
    "print(features_train.shape) "
   ]
  },
  {
   "cell_type": "markdown",
   "metadata": {},
   "source": [
    "<div class=\"alert alert-success\">\n",
    "<b>Комментарий ревьюера ✔️:</b> Масштабирование выполнено корректно, молодец! Только не забудь отмасштабировать все выборки и в numeric выбрать только численные признаки. </div>"
   ]
  },
  {
   "cell_type": "markdown",
   "metadata": {},
   "source": [
    "<div class=\"alert alert-info\"> <b>Комментарий студента:</b> Поправил </div>"
   ]
  },
  {
   "cell_type": "markdown",
   "metadata": {},
   "source": [
    "## 2. Исследование задачи"
   ]
  },
  {
   "cell_type": "code",
   "execution_count": 14,
   "metadata": {},
   "outputs": [
    {
     "data": {
      "text/plain": [
       "0    7963\n",
       "1    2037\n",
       "Name: Exited, dtype: int64"
      ]
     },
     "execution_count": 14,
     "metadata": {},
     "output_type": "execute_result"
    }
   ],
   "source": [
    "target.value_counts()"
   ]
  },
  {
   "cell_type": "code",
   "execution_count": 15,
   "metadata": {},
   "outputs": [
    {
     "data": {
      "image/png": "[encoded data removed]",
      "text/plain": [
       "<Figure size 432x288 with 1 Axes>"
      ]
     },
     "metadata": {
      "needs_background": "light"
     },
     "output_type": "display_data"
    }
   ],
   "source": [
    "target.hist(bins=2);"
   ]
  },
  {
   "cell_type": "markdown",
   "metadata": {},
   "source": [
    "Видим большой перевес в данных в сторону отрицательных показателей."
   ]
  },
  {
   "cell_type": "markdown",
   "metadata": {},
   "source": [
    "<div class=\"alert alert-danger\">\n",
    "<b>Комментарий ревьюера ❌:</b> Баланс классов не исследован. Чтобы это исправить, посмотри, например, на частоты целевого признака или его распределение и напиши об этом вывод. Еще для наглядности рекомендую построить график. </div>"
   ]
  },
  {
   "cell_type": "markdown",
   "metadata": {},
   "source": [
    "<div class=\"alert alert-info\"> <b>Комментарий студента:</b> Поправил </div>"
   ]
  },
  {
   "cell_type": "markdown",
   "metadata": {},
   "source": [
    "<div class=\"alert alert-success\">\n",
    "<b>Комментарий ревьюера v2 ✔️:</b> 👌 </div>"
   ]
  },
  {
   "cell_type": "code",
   "execution_count": 16,
   "metadata": {},
   "outputs": [
    {
     "data": {
      "text/html": [
       "<div>\n",
       "<style scoped>\n",
       "    .dataframe tbody tr th:only-of-type {\n",
       "        vertical-align: middle;\n",
       "    }\n",
       "\n",
       "    .dataframe tbody tr th {\n",
       "        vertical-align: top;\n",
       "    }\n",
       "\n",
       "    .dataframe thead th {\n",
       "        text-align: right;\n",
       "    }\n",
       "</style>\n",
       "<table border=\"1\" class=\"dataframe\">\n",
       "  <thead>\n",
       "    <tr style=\"text-align: right;\">\n",
       "      <th></th>\n",
       "      <th>CreditScore</th>\n",
       "      <th>Age</th>\n",
       "      <th>Tenure</th>\n",
       "      <th>Balance</th>\n",
       "      <th>NumOfProducts</th>\n",
       "      <th>HasCrCard</th>\n",
       "      <th>IsActiveMember</th>\n",
       "      <th>EstimatedSalary</th>\n",
       "      <th>Germany</th>\n",
       "      <th>Spain</th>\n",
       "      <th>Male</th>\n",
       "    </tr>\n",
       "  </thead>\n",
       "  <tbody>\n",
       "    <tr>\n",
       "      <th>226</th>\n",
       "      <td>0.442805</td>\n",
       "      <td>-0.841274</td>\n",
       "      <td>1.426885</td>\n",
       "      <td>-1.224577</td>\n",
       "      <td>0.817772</td>\n",
       "      <td>0.644278</td>\n",
       "      <td>0.959999</td>\n",
       "      <td>-1.269750</td>\n",
       "      <td>-0.579608</td>\n",
       "      <td>-0.574476</td>\n",
       "      <td>-1.091944</td>\n",
       "    </tr>\n",
       "    <tr>\n",
       "      <th>7756</th>\n",
       "      <td>-0.310897</td>\n",
       "      <td>-0.270730</td>\n",
       "      <td>0.784858</td>\n",
       "      <td>0.641783</td>\n",
       "      <td>-0.896874</td>\n",
       "      <td>0.644278</td>\n",
       "      <td>0.959999</td>\n",
       "      <td>0.960396</td>\n",
       "      <td>-0.579608</td>\n",
       "      <td>1.740716</td>\n",
       "      <td>-1.091944</td>\n",
       "    </tr>\n",
       "    <tr>\n",
       "      <th>2065</th>\n",
       "      <td>-0.259274</td>\n",
       "      <td>-0.556002</td>\n",
       "      <td>1.105871</td>\n",
       "      <td>-1.224577</td>\n",
       "      <td>0.817772</td>\n",
       "      <td>0.644278</td>\n",
       "      <td>-1.041667</td>\n",
       "      <td>0.661864</td>\n",
       "      <td>-0.579608</td>\n",
       "      <td>-0.574476</td>\n",
       "      <td>0.915798</td>\n",
       "    </tr>\n",
       "    <tr>\n",
       "      <th>2800</th>\n",
       "      <td>1.217157</td>\n",
       "      <td>1.155631</td>\n",
       "      <td>1.426885</td>\n",
       "      <td>1.290462</td>\n",
       "      <td>0.817772</td>\n",
       "      <td>0.644278</td>\n",
       "      <td>-1.041667</td>\n",
       "      <td>-1.039476</td>\n",
       "      <td>-0.579608</td>\n",
       "      <td>-0.574476</td>\n",
       "      <td>0.915798</td>\n",
       "    </tr>\n",
       "    <tr>\n",
       "      <th>7028</th>\n",
       "      <td>0.690598</td>\n",
       "      <td>-1.221637</td>\n",
       "      <td>-1.462240</td>\n",
       "      <td>1.142121</td>\n",
       "      <td>-0.896874</td>\n",
       "      <td>-1.552125</td>\n",
       "      <td>-1.041667</td>\n",
       "      <td>-0.851729</td>\n",
       "      <td>1.725303</td>\n",
       "      <td>-0.574476</td>\n",
       "      <td>0.915798</td>\n",
       "    </tr>\n",
       "    <tr>\n",
       "      <th>6894</th>\n",
       "      <td>0.401507</td>\n",
       "      <td>-1.221637</td>\n",
       "      <td>1.105871</td>\n",
       "      <td>0.641455</td>\n",
       "      <td>-0.896874</td>\n",
       "      <td>0.644278</td>\n",
       "      <td>0.959999</td>\n",
       "      <td>-0.294925</td>\n",
       "      <td>-0.579608</td>\n",
       "      <td>1.740716</td>\n",
       "      <td>0.915798</td>\n",
       "    </tr>\n",
       "    <tr>\n",
       "      <th>4226</th>\n",
       "      <td>-0.001156</td>\n",
       "      <td>-0.270730</td>\n",
       "      <td>1.105871</td>\n",
       "      <td>-1.224577</td>\n",
       "      <td>0.817772</td>\n",
       "      <td>0.644278</td>\n",
       "      <td>-1.041667</td>\n",
       "      <td>-0.149472</td>\n",
       "      <td>-0.579608</td>\n",
       "      <td>1.740716</td>\n",
       "      <td>-1.091944</td>\n",
       "    </tr>\n",
       "    <tr>\n",
       "      <th>5857</th>\n",
       "      <td>-0.589664</td>\n",
       "      <td>1.631085</td>\n",
       "      <td>-1.462240</td>\n",
       "      <td>-1.224577</td>\n",
       "      <td>-0.896874</td>\n",
       "      <td>0.644278</td>\n",
       "      <td>-1.041667</td>\n",
       "      <td>-1.282642</td>\n",
       "      <td>-0.579608</td>\n",
       "      <td>-0.574476</td>\n",
       "      <td>-1.091944</td>\n",
       "    </tr>\n",
       "    <tr>\n",
       "      <th>142</th>\n",
       "      <td>0.318909</td>\n",
       "      <td>0.394906</td>\n",
       "      <td>0.142830</td>\n",
       "      <td>0.794399</td>\n",
       "      <td>-0.896874</td>\n",
       "      <td>0.644278</td>\n",
       "      <td>0.959999</td>\n",
       "      <td>1.611082</td>\n",
       "      <td>-0.579608</td>\n",
       "      <td>-0.574476</td>\n",
       "      <td>-1.091944</td>\n",
       "    </tr>\n",
       "    <tr>\n",
       "      <th>7107</th>\n",
       "      <td>0.618325</td>\n",
       "      <td>0.585087</td>\n",
       "      <td>-1.141226</td>\n",
       "      <td>0.339342</td>\n",
       "      <td>0.817772</td>\n",
       "      <td>0.644278</td>\n",
       "      <td>-1.041667</td>\n",
       "      <td>-0.860196</td>\n",
       "      <td>1.725303</td>\n",
       "      <td>-0.574476</td>\n",
       "      <td>-1.091944</td>\n",
       "    </tr>\n",
       "  </tbody>\n",
       "</table>\n",
       "</div>"
      ],
      "text/plain": [
       "      CreditScore       Age    Tenure   Balance  NumOfProducts  HasCrCard  \\\n",
       "226      0.442805 -0.841274  1.426885 -1.224577       0.817772   0.644278   \n",
       "7756    -0.310897 -0.270730  0.784858  0.641783      -0.896874   0.644278   \n",
       "2065    -0.259274 -0.556002  1.105871 -1.224577       0.817772   0.644278   \n",
       "2800     1.217157  1.155631  1.426885  1.290462       0.817772   0.644278   \n",
       "7028     0.690598 -1.221637 -1.462240  1.142121      -0.896874  -1.552125   \n",
       "6894     0.401507 -1.221637  1.105871  0.641455      -0.896874   0.644278   \n",
       "4226    -0.001156 -0.270730  1.105871 -1.224577       0.817772   0.644278   \n",
       "5857    -0.589664  1.631085 -1.462240 -1.224577      -0.896874   0.644278   \n",
       "142      0.318909  0.394906  0.142830  0.794399      -0.896874   0.644278   \n",
       "7107     0.618325  0.585087 -1.141226  0.339342       0.817772   0.644278   \n",
       "\n",
       "      IsActiveMember  EstimatedSalary   Germany     Spain      Male  \n",
       "226         0.959999        -1.269750 -0.579608 -0.574476 -1.091944  \n",
       "7756        0.959999         0.960396 -0.579608  1.740716 -1.091944  \n",
       "2065       -1.041667         0.661864 -0.579608 -0.574476  0.915798  \n",
       "2800       -1.041667        -1.039476 -0.579608 -0.574476  0.915798  \n",
       "7028       -1.041667        -0.851729  1.725303 -0.574476  0.915798  \n",
       "6894        0.959999        -0.294925 -0.579608  1.740716  0.915798  \n",
       "4226       -1.041667        -0.149472 -0.579608  1.740716 -1.091944  \n",
       "5857       -1.041667        -1.282642 -0.579608 -0.574476 -1.091944  \n",
       "142         0.959999         1.611082 -0.579608 -0.574476 -1.091944  \n",
       "7107       -1.041667        -0.860196  1.725303 -0.574476 -1.091944  "
      ]
     },
     "execution_count": 16,
     "metadata": {},
     "output_type": "execute_result"
    }
   ],
   "source": [
    "features_train.head(10)"
   ]
  },
  {
   "cell_type": "markdown",
   "metadata": {},
   "source": [
    "### Проверяем показетели логистической регрессии без учета дисбаланса"
   ]
  },
  {
   "cell_type": "code",
   "execution_count": 17,
   "metadata": {},
   "outputs": [],
   "source": [
    "disbalanced_model_lr = LogisticRegression(random_state=12345, solver='liblinear')\n",
    "disbalanced_model_lr.fit(features_train, target_train)\n",
    "disbalanced_lr_predicted_valid = disbalanced_model_lr.predict(features_valid)"
   ]
  },
  {
   "cell_type": "code",
   "execution_count": 18,
   "metadata": {},
   "outputs": [
    {
     "name": "stdout",
     "output_type": "stream",
     "text": [
      "Disbalanced logistic regression\n",
      "\n",
      "Confusion matrix\n",
      "[[946  41]\n",
      " [211  52]]\n",
      "Recall: 0.19771863117870722\n",
      "Precision: 0.5591397849462365\n",
      "F1: 0.29213483146067415\n",
      "ROC-AUC: 0.766188588533059\n"
     ]
    }
   ],
   "source": [
    "print('Disbalanced logistic regression')\n",
    "print()\n",
    "print('Confusion matrix')\n",
    "print(confusion_matrix(target_valid, disbalanced_lr_predicted_valid))\n",
    "print('Recall:', recall_score(target_valid, disbalanced_lr_predicted_valid))\n",
    "print('Precision:', precision_score(target_valid, disbalanced_lr_predicted_valid))\n",
    "print('F1:', f1_score(target_valid, disbalanced_lr_predicted_valid))\n",
    "print('ROC-AUC:', roc_auc_score(target_valid, disbalanced_model_lr\n",
    "                                .predict_proba(features_valid)[:, 1]))"
   ]
  },
  {
   "cell_type": "markdown",
   "metadata": {},
   "source": [
    "<div class=\"alert alert-danger\">\n",
    "<b>Комментарий ревьюера ❌:</b> По заданию нужно вычислять ROC-AUC, поэтому добавь, пожалуйста, эту метрику для всех моделей.</div>"
   ]
  },
  {
   "cell_type": "markdown",
   "metadata": {},
   "source": [
    "<div class=\"alert alert-info\"> <b>Комментарий студента:</b> Поправил </div>"
   ]
  },
  {
   "cell_type": "markdown",
   "metadata": {},
   "source": [
    "<div class=\"alert alert-success\">\n",
    "<b>Комментарий ревьюера v2 ✔️:</b> Отлично </div>"
   ]
  },
  {
   "cell_type": "markdown",
   "metadata": {},
   "source": [
    "<div class=\"alert alert-warning\">\n",
    "<b>Комментарий ревьюера ⚠️:</b> Почему же не подходит? Это ведь как раз модель для бинарной классификации. </div>"
   ]
  },
  {
   "cell_type": "markdown",
   "metadata": {},
   "source": [
    "### Поиск наиболее эффективные гиперпараметры решающего дерева без учета дисбаланса"
   ]
  },
  {
   "cell_type": "code",
   "execution_count": 19,
   "metadata": {},
   "outputs": [
    {
     "name": "stdout",
     "output_type": "stream",
     "text": [
      "F1 наилучшей модели на валидационной выборке: 0.5773672055427252 Глубина дерева: 5\n"
     ]
    },
    {
     "name": "stderr",
     "output_type": "stream",
     "text": [
      "/opt/conda/lib/python3.9/site-packages/sklearn/metrics/_classification.py:1245: UndefinedMetricWarning: Precision is ill-defined and being set to 0.0 due to no predicted samples. Use `zero_division` parameter to control this behavior.\n",
      "  _warn_prf(average, modifier, msg_start, len(result))\n"
     ]
    }
   ],
   "source": [
    "disbalanced_best_tree_model = None\n",
    "disbalanced_best_tree_f1 = 0\n",
    "disbalanced_best_tree_depth = 0\n",
    "disbalanced_best_tree_recall = 0\n",
    "disbalanced_best_tree_precision = 0\n",
    "\n",
    "for disbalanced_tree_depth in range(1, 10):\n",
    "    disbalanced_tree_model = DecisionTreeClassifier(random_state=12345, max_depth=disbalanced_tree_depth)\n",
    "    disbalanced_tree_model.fit(features_train, target_train)\n",
    "    disbalanced_tree_predictions_valid = disbalanced_tree_model.predict(features_valid)\n",
    "    disbalanced_tree_f1 = f1_score(target_valid, disbalanced_tree_predictions_valid)\n",
    "    disbalanced_tree_recall = recall_score(target_valid, disbalanced_tree_predictions_valid)\n",
    "    disbalanced_tree_precision = precision_score(target_valid, disbalanced_tree_predictions_valid)\n",
    "    if disbalanced_tree_f1 > disbalanced_best_tree_f1:\n",
    "        disbalanced_best_tree_model = disbalanced_tree_model\n",
    "        disbalanced_best_tree_f1 = disbalanced_tree_f1\n",
    "        disbalanced_best_tree_depth = disbalanced_tree_depth\n",
    "        disbalanced_best_tree_recall = disbalanced_tree_recall\n",
    "        disbalanced_best_tree_precision = disbalanced_tree_precision\n",
    "print(\"F1 наилучшей модели на валидационной выборке:\", disbalanced_best_tree_f1, \"Глубина дерева:\", disbalanced_best_tree_depth)"
   ]
  },
  {
   "cell_type": "code",
   "execution_count": 20,
   "metadata": {},
   "outputs": [
    {
     "name": "stdout",
     "output_type": "stream",
     "text": [
      "Disbalanced decision tree classifier\n",
      "\n",
      "Confusion matrix\n",
      "[[936  51]\n",
      " [145 118]]\n",
      "Recall: 0.4752851711026616\n",
      "Precision: 0.7352941176470589\n",
      "F1: 0.5773672055427252\n",
      "ROC-AUC: 0.8416101332532042\n"
     ]
    }
   ],
   "source": [
    "print('Disbalanced decision tree classifier')\n",
    "print()\n",
    "print('Confusion matrix')\n",
    "print(confusion_matrix(target_valid, disbalanced_tree_predictions_valid))\n",
    "print('Recall:', disbalanced_best_tree_recall)\n",
    "print('Precision:', disbalanced_best_tree_precision)\n",
    "print('F1:', disbalanced_best_tree_f1)\n",
    "print('ROC-AUC:', roc_auc_score(target_valid, disbalanced_best_tree_model\n",
    "                                .predict_proba(features_valid)[:, 1]))"
   ]
  },
  {
   "cell_type": "markdown",
   "metadata": {},
   "source": [
    "### Поиск наиболее эффективные гиперпараметры случайного леса без учета дисбаланса"
   ]
  },
  {
   "cell_type": "code",
   "execution_count": 21,
   "metadata": {},
   "outputs": [
    {
     "name": "stderr",
     "output_type": "stream",
     "text": [
      "/opt/conda/lib/python3.9/site-packages/sklearn/metrics/_classification.py:1245: UndefinedMetricWarning: Precision is ill-defined and being set to 0.0 due to no predicted samples. Use `zero_division` parameter to control this behavior.\n",
      "  _warn_prf(average, modifier, msg_start, len(result))\n",
      "/opt/conda/lib/python3.9/site-packages/sklearn/metrics/_classification.py:1245: UndefinedMetricWarning: Precision is ill-defined and being set to 0.0 due to no predicted samples. Use `zero_division` parameter to control this behavior.\n",
      "  _warn_prf(average, modifier, msg_start, len(result))\n",
      "/opt/conda/lib/python3.9/site-packages/sklearn/metrics/_classification.py:1245: UndefinedMetricWarning: Precision is ill-defined and being set to 0.0 due to no predicted samples. Use `zero_division` parameter to control this behavior.\n",
      "  _warn_prf(average, modifier, msg_start, len(result))\n",
      "/opt/conda/lib/python3.9/site-packages/sklearn/metrics/_classification.py:1245: UndefinedMetricWarning: Precision is ill-defined and being set to 0.0 due to no predicted samples. Use `zero_division` parameter to control this behavior.\n",
      "  _warn_prf(average, modifier, msg_start, len(result))\n",
      "/opt/conda/lib/python3.9/site-packages/sklearn/metrics/_classification.py:1245: UndefinedMetricWarning: Precision is ill-defined and being set to 0.0 due to no predicted samples. Use `zero_division` parameter to control this behavior.\n",
      "  _warn_prf(average, modifier, msg_start, len(result))\n"
     ]
    },
    {
     "name": "stdout",
     "output_type": "stream",
     "text": [
      "F1 наилучшей модели на валидационной выборке: 0.5995203836930455 Количество деревьев: 10 Максимальная глубина: 10\n"
     ]
    }
   ],
   "source": [
    "disbalanced_best_forest_model = None\n",
    "disbalanced_best_forest_f1 = 0\n",
    "disbalanced_best_forest_est = 0\n",
    "disbalanced_best_forest_depth = 0\n",
    "disbalanced_best_forest_recall = 0\n",
    "disbalanced_best_forest_precision = 0\n",
    "for disbalanced_forest_est in range(10, 51, 10):\n",
    "    for disbalanced_forest_depth in range (1, 11):\n",
    "        disbalanced_forest_model = RandomForestClassifier(random_state=12345, n_estimators=disbalanced_forest_est, \n",
    "                                                          max_depth=disbalanced_forest_depth)\n",
    "        disbalanced_forest_model.fit(features_train, target_train)\n",
    "        disbalanced_forest_predictions_valid = disbalanced_forest_model.predict(features_valid)\n",
    "        disbalanced_forest_f1 = f1_score(target_valid, disbalanced_forest_predictions_valid)\n",
    "        disbalanced_forest_recall = recall_score(target_valid, disbalanced_forest_predictions_valid)\n",
    "        disbalanced_forest_precision = precision_score(target_valid, disbalanced_forest_predictions_valid)\n",
    "        if disbalanced_forest_f1 > disbalanced_best_forest_f1:\n",
    "            disbalanced_best_forest_model = disbalanced_forest_model\n",
    "            disbalanced_best_forest_f1 = disbalanced_forest_f1\n",
    "            disbalanced_best_forest_est = disbalanced_forest_est\n",
    "            disbalanced_best_forest_depth = disbalanced_forest_depth\n",
    "            disbalanced_best_forest_recall = disbalanced_forest_recall\n",
    "            disbalanced_best_forest_precision = disbalanced_forest_precision\n",
    "\n",
    "print(\"F1 наилучшей модели на валидационной выборке:\", disbalanced_best_forest_f1, \n",
    "      \"Количество деревьев:\", disbalanced_best_forest_est, \"Максимальная глубина:\", disbalanced_best_forest_depth)"
   ]
  },
  {
   "cell_type": "code",
   "execution_count": 22,
   "metadata": {},
   "outputs": [
    {
     "name": "stdout",
     "output_type": "stream",
     "text": [
      "Disbalanced random forest classifier\n",
      "\n",
      "Confusion matrix\n",
      "[[966  21]\n",
      " [147 116]]\n",
      "Recall: 0.4752851711026616\n",
      "Precision: 0.8116883116883117\n",
      "F1: 0.5995203836930455\n",
      "ROC-AUC: 0.8532885688860125\n"
     ]
    }
   ],
   "source": [
    "print('Disbalanced random forest classifier')\n",
    "print()\n",
    "print('Confusion matrix')\n",
    "print(confusion_matrix(target_valid, disbalanced_forest_predictions_valid))\n",
    "print('Recall:', disbalanced_best_forest_recall)\n",
    "print('Precision:', disbalanced_best_forest_precision)\n",
    "print('F1:', disbalanced_best_forest_f1)\n",
    "print('ROC-AUC:', roc_auc_score(target_valid, disbalanced_best_forest_model\n",
    "                                .predict_proba(features_valid)[:, 1]))"
   ]
  },
  {
   "cell_type": "markdown",
   "metadata": {},
   "source": [
    "<div class=\"alert alert-success\">\n",
    "<b>Комментарий ревьюера ✔️:</b> Молодец, что исследуешь столько моделей и значений гиперпараметров для них.</div>"
   ]
  },
  {
   "cell_type": "markdown",
   "metadata": {},
   "source": [
    "### Выводы"
   ]
  },
  {
   "cell_type": "markdown",
   "metadata": {},
   "source": [
    "Без учета дисбаланса классов лучше всего себя показала модель случайного леса с глубиной 10 и количеством деревьев 10, ее показатели:\n",
    "- Recall: 0.4752851711026616\n",
    "- Precision: 0.8116883116883117\n",
    "- F1: 0.5995203836930455\n",
    "- ROC-AUC: 0.8532885688860125"
   ]
  },
  {
   "cell_type": "markdown",
   "metadata": {},
   "source": [
    "## 3. Борьба с дисбалансом"
   ]
  },
  {
   "cell_type": "markdown",
   "metadata": {},
   "source": [
    "### Проверяем показетели логистической регрессии"
   ]
  },
  {
   "cell_type": "code",
   "execution_count": 23,
   "metadata": {},
   "outputs": [],
   "source": [
    "model_lr = LogisticRegression(random_state=12345, solver='liblinear', class_weight='balanced')\n",
    "model_lr.fit(features_train, target_train)\n",
    "lr_predicted_valid = model_lr.predict(features_valid)"
   ]
  },
  {
   "cell_type": "code",
   "execution_count": 24,
   "metadata": {},
   "outputs": [
    {
     "name": "stdout",
     "output_type": "stream",
     "text": [
      "Logistic regression\n",
      "\n",
      "Confusion matrix\n",
      "[[691 296]\n",
      " [ 70 193]]\n",
      "Recall: 0.7338403041825095\n",
      "Precision: 0.3946830265848671\n",
      "F1: 0.5132978723404255\n",
      "ROC-AUC: 0.7699407891948948\n"
     ]
    }
   ],
   "source": [
    "print('Logistic regression')\n",
    "print()\n",
    "print('Confusion matrix')\n",
    "print(confusion_matrix(target_valid, lr_predicted_valid))\n",
    "print('Recall:', recall_score(target_valid, lr_predicted_valid))\n",
    "print('Precision:', precision_score(target_valid, lr_predicted_valid))\n",
    "print('F1:', f1_score(target_valid, lr_predicted_valid))\n",
    "print('ROC-AUC:', roc_auc_score(target_valid, model_lr\n",
    "                                .predict_proba(features_valid)[:, 1]))"
   ]
  },
  {
   "cell_type": "markdown",
   "metadata": {},
   "source": [
    "### Поиск наиболее эффективные гиперпараметры решающего дерева"
   ]
  },
  {
   "cell_type": "code",
   "execution_count": 25,
   "metadata": {},
   "outputs": [
    {
     "name": "stdout",
     "output_type": "stream",
     "text": [
      "F1 наилучшей модели на валидационной выборке: 0.6035889070146819 Глубина дерева: 5\n"
     ]
    }
   ],
   "source": [
    "best_tree_model = None\n",
    "best_tree_f1 = 0\n",
    "best_tree_depth = 0\n",
    "best_tree_recall = 0\n",
    "best_tree_precision = 0\n",
    "\n",
    "for tree_depth in range(1, 10):\n",
    "    tree_model = DecisionTreeClassifier(random_state=12345, max_depth=tree_depth, class_weight='balanced')\n",
    "    tree_model.fit(features_train, target_train)\n",
    "    tree_predictions_valid = tree_model.predict(features_valid)\n",
    "    tree_f1 = f1_score(target_valid, tree_predictions_valid)\n",
    "    tree_recall = recall_score(target_valid, tree_predictions_valid)\n",
    "    tree_precision = precision_score(target_valid, tree_predictions_valid)\n",
    "    if tree_f1 > best_tree_f1:\n",
    "        best_tree_model = tree_model\n",
    "        best_tree_f1 = tree_f1\n",
    "        best_tree_depth = tree_depth\n",
    "        best_tree_recall = tree_recall\n",
    "        best_tree_precision = tree_precision\n",
    "print(\"F1 наилучшей модели на валидационной выборке:\", best_tree_f1, \"Глубина дерева:\", best_tree_depth)"
   ]
  },
  {
   "cell_type": "code",
   "execution_count": 26,
   "metadata": {},
   "outputs": [
    {
     "name": "stdout",
     "output_type": "stream",
     "text": [
      "Decision tree classifier\n",
      "\n",
      "Confusion matrix\n",
      "[[759 228]\n",
      " [ 67 196]]\n",
      "Recall: 0.7034220532319392\n",
      "Precision: 0.5285714285714286\n",
      "F1: 0.6035889070146819\n",
      "ROC-AUC: 0.8487890099814701\n"
     ]
    }
   ],
   "source": [
    "print('Decision tree classifier')\n",
    "print()\n",
    "print('Confusion matrix')\n",
    "print(confusion_matrix(target_valid, tree_predictions_valid))\n",
    "print('Recall:', best_tree_recall)\n",
    "print('Precision:', best_tree_precision)\n",
    "print('F1:', best_tree_f1)\n",
    "print('ROC-AUC:', roc_auc_score(target_valid, best_tree_model\n",
    "                                .predict_proba(features_valid)[:, 1]))"
   ]
  },
  {
   "cell_type": "markdown",
   "metadata": {},
   "source": [
    "### Поиск наиболее эффективные гиперпараметры случайного леса"
   ]
  },
  {
   "cell_type": "code",
   "execution_count": 27,
   "metadata": {},
   "outputs": [
    {
     "name": "stdout",
     "output_type": "stream",
     "text": [
      "F1 наилучшей модели на валидационной выборке: 0.6654804270462633 Количество деревьев: 50 Максимальная глубина: 9\n"
     ]
    }
   ],
   "source": [
    "best_forest_model = None\n",
    "best_forest_f1 = 0\n",
    "best_forest_est = 0\n",
    "best_forest_depth = 0\n",
    "best_forest_recall = 0\n",
    "best_forest_precision = 0\n",
    "for forest_est in range(10, 51, 10):\n",
    "    for forest_depth in range (1, 11):\n",
    "        forest_model = RandomForestClassifier(random_state=12345, n_estimators=forest_est, max_depth=forest_depth, class_weight='balanced')\n",
    "        forest_model.fit(features_train, target_train)\n",
    "        forest_predictions_valid = forest_model.predict(features_valid)\n",
    "        forest_f1 = f1_score(target_valid, forest_predictions_valid)\n",
    "        forest_recall = recall_score(target_valid, forest_predictions_valid)\n",
    "        forest_precision = precision_score(target_valid, forest_predictions_valid)\n",
    "        if forest_f1 > best_forest_f1:\n",
    "            best_forest_model = forest_model\n",
    "            best_forest_f1 = forest_f1\n",
    "            best_forest_est = forest_est\n",
    "            best_forest_depth = forest_depth\n",
    "            best_forest_recall = forest_recall\n",
    "            best_forest_precision = forest_precision\n",
    "\n",
    "print(\"F1 наилучшей модели на валидационной выборке:\", best_forest_f1, \n",
    "      \"Количество деревьев:\", best_forest_est, \"Максимальная глубина:\", best_forest_depth)"
   ]
  },
  {
   "cell_type": "code",
   "execution_count": 28,
   "metadata": {},
   "outputs": [
    {
     "name": "stdout",
     "output_type": "stream",
     "text": [
      "Random forest classifier\n",
      "\n",
      "Confusion matrix\n",
      "[[894  93]\n",
      " [ 95 168]]\n",
      "Recall: 0.7110266159695817\n",
      "Precision: 0.6254180602006689\n",
      "F1: 0.6654804270462633\n",
      "ROC-AUC: 0.8742743112939699\n"
     ]
    }
   ],
   "source": [
    "print('Random forest classifier')\n",
    "print()\n",
    "print('Confusion matrix')\n",
    "print(confusion_matrix(target_valid, forest_predictions_valid))\n",
    "print('Recall:', best_forest_recall)\n",
    "print('Precision:', best_forest_precision)\n",
    "print('F1:', best_forest_f1)\n",
    "print('ROC-AUC:', roc_auc_score(target_valid, best_forest_model\n",
    "                                .predict_proba(features_valid)[:, 1]))"
   ]
  },
  {
   "cell_type": "markdown",
   "metadata": {},
   "source": [
    "С учетом дисбаланса классов и применения гиперпараметра class_weight='balanced' лучшей моделью оказалась случайный лес с количеством деревьев равной 50и и глубиной равной 9и. Ее показатели:\n",
    "- Recall: 0.7110266159695817\n",
    "- Precision: 0.6254180602006689\n",
    "- F1: 0.6654804270462633\n",
    "- ROC-AUC: 0.8742743112939699"
   ]
  },
  {
   "cell_type": "markdown",
   "metadata": {},
   "source": [
    "### Тестируем изменение порога классификации"
   ]
  },
  {
   "cell_type": "code",
   "execution_count": 29,
   "metadata": {},
   "outputs": [
    {
     "name": "stdout",
     "output_type": "stream",
     "text": [
      "Порог = 0.25 | F1 = 0.497\n",
      "Порог = 0.27 | F1 = 0.505\n",
      "Порог = 0.29 | F1 = 0.530\n",
      "Порог = 0.31 | F1 = 0.557\n",
      "Порог = 0.33 | F1 = 0.562\n",
      "Порог = 0.35 | F1 = 0.574\n",
      "Порог = 0.37 | F1 = 0.587\n",
      "Порог = 0.39 | F1 = 0.604\n",
      "Порог = 0.41 | F1 = 0.629\n",
      "Порог = 0.43 | F1 = 0.637\n",
      "Порог = 0.45 | F1 = 0.645\n",
      "Порог = 0.47 | F1 = 0.657\n",
      "Порог = 0.49 | F1 = 0.661\n",
      "Порог = 0.51 | F1 = 0.656\n",
      "Порог = 0.53 | F1 = 0.664\n",
      "Порог = 0.55 | F1 = 0.644\n",
      "Порог = 0.57 | F1 = 0.642\n",
      "Порог = 0.59 | F1 = 0.643\n",
      "Порог = 0.61 | F1 = 0.639\n",
      "Порог = 0.63 | F1 = 0.625\n",
      "Порог = 0.65 | F1 = 0.606\n",
      "Порог = 0.67 | F1 = 0.604\n",
      "Порог = 0.69 | F1 = 0.574\n",
      "Порог = 0.71 | F1 = 0.556\n",
      "Порог = 0.73 | F1 = 0.535\n"
     ]
    }
   ],
   "source": [
    "probabilities_valid = best_forest_model.predict_proba(features_valid)\n",
    "probabilities_one_valid = probabilities_valid[:, 1]\n",
    "\n",
    "for threshold in np.arange(.25, .75, 0.02):\n",
    "    threshold_predicted_valid = probabilities_one_valid > threshold\n",
    "    f1 = f1_score(target_valid, threshold_predicted_valid)\n",
    "                          \n",
    "    print(\"Порог = {:.2f} | F1 = {:.3f}\".format(\n",
    "        threshold, f1))"
   ]
  },
  {
   "cell_type": "markdown",
   "metadata": {},
   "source": [
    "Изменения порога классификации не принесли положительных результатов."
   ]
  },
  {
   "cell_type": "markdown",
   "metadata": {},
   "source": [
    "<div class=\"alert alert-success\">\n",
    "<b>Комментарий ревьюера ✔️:</b> Тут все ок. </div>"
   ]
  },
  {
   "cell_type": "markdown",
   "metadata": {},
   "source": [
    "### Тестируем увеличение и уменьшение выборки"
   ]
  },
  {
   "cell_type": "markdown",
   "metadata": {},
   "source": [
    "Вспоминаем количество разных целевых признаков и создаем множетели для увеличения и уменьшения выборки."
   ]
  },
  {
   "cell_type": "code",
   "execution_count": 30,
   "metadata": {},
   "outputs": [
    {
     "data": {
      "text/plain": [
       "0    7963\n",
       "1    2037\n",
       "Name: Exited, dtype: int64"
      ]
     },
     "execution_count": 30,
     "metadata": {},
     "output_type": "execute_result"
    }
   ],
   "source": [
    "target.value_counts()"
   ]
  },
  {
   "cell_type": "code",
   "execution_count": 31,
   "metadata": {},
   "outputs": [],
   "source": [
    "count_of_targets_zeros = 7963\n",
    "count_of_targets_ones = 2037\n",
    "\n",
    "number_to_upsample = count_of_targets_zeros / count_of_targets_ones\n",
    "number_to_downsample = count_of_targets_ones / count_of_targets_zeros"
   ]
  },
  {
   "cell_type": "code",
   "execution_count": 32,
   "metadata": {},
   "outputs": [
    {
     "name": "stdout",
     "output_type": "stream",
     "text": [
      "Upsampled random forest classifier\n",
      "\n",
      "Confusion matrix\n",
      "[[888  99]\n",
      " [ 96 167]]\n",
      "Recall: 0.6349809885931559\n",
      "Precision: 0.6278195488721805\n",
      "F1: 0.6313799621928167\n",
      "ROC-AUC: 0.8641503037587496\n"
     ]
    }
   ],
   "source": [
    "def upsample(features, target, repeat):\n",
    "    features_zeros = features[target == 0]\n",
    "    features_ones = features[target == 1]\n",
    "    target_zeros = target[target == 0]\n",
    "    target_ones = target[target == 1]\n",
    "\n",
    "    features_upsampled = pd.concat([features_zeros] + [features_ones] * int(number_to_upsample))\n",
    "    target_upsampled = pd.concat([target_zeros] + [target_ones] * int(number_to_upsample))\n",
    "    \n",
    "    features_upsampled, target_upsampled = shuffle(\n",
    "        features_upsampled, target_upsampled, random_state=12345)\n",
    "    \n",
    "    return features_upsampled, target_upsampled\n",
    "\n",
    "features_upsampled, target_upsampled = upsample(features_train, target_train, 5)\n",
    "\n",
    "best_forest_upsampled_model = disbalanced_best_forest_model.fit(features_upsampled, target_upsampled)\n",
    "upsampled_predicted_valid = best_forest_upsampled_model.predict(features_valid)\n",
    "\n",
    "print('Upsampled random forest classifier')\n",
    "print()\n",
    "print('Confusion matrix')\n",
    "print(confusion_matrix(target_valid, upsampled_predicted_valid))\n",
    "print('Recall:', recall_score(target_valid, upsampled_predicted_valid))\n",
    "print('Precision:', precision_score(target_valid, upsampled_predicted_valid))\n",
    "print('F1:', f1_score(target_valid, upsampled_predicted_valid))\n",
    "print('ROC-AUC:', roc_auc_score(target_valid, best_forest_upsampled_model\n",
    "                                .predict_proba(features_valid)[:, 1]))"
   ]
  },
  {
   "cell_type": "markdown",
   "metadata": {},
   "source": [
    "<div class=\"alert alert-success\">\n",
    "<b>Комментарий ревьюера ✔️:</b> Отличная функция, молодец!<br>\n",
    "Но хочу для увеличения выборки порекомендовать использовать <a href=\"https://imbalanced-learn.org/stable/references/generated/imblearn.over_sampling.SMOTE.html\">SMOTE</a>.</div>"
   ]
  },
  {
   "cell_type": "markdown",
   "metadata": {},
   "source": [
    "<div class=\"alert alert-warning\">\n",
    "<b>Комментарий ревьюера ⚠️:</b> Нужно подобрать такое значение repeat, чтобы классы были примерно равны, а при значении 5 дисбаланс все равно останется, только уже в сторону другого класса.  </div>"
   ]
  },
  {
   "cell_type": "markdown",
   "metadata": {},
   "source": [
    "<div class=\"alert alert-danger\">\n",
    "<b>Комментарий ревьюера ❌:</b> Ап(даун)семплинг и class_weight='balanced' - это два разных способа борьбы с дисбалансом, и использовать их одновременно не имеет никакого смысла, т.к. классы будут сбалансированы для обоих случаев. Поэтому рассмотри эти способы отдельно друг от друга. </div>"
   ]
  },
  {
   "cell_type": "markdown",
   "metadata": {},
   "source": [
    "<div class=\"alert alert-info\"> <b>Комментарий студента:</b> Поправил. Долго об этом думал, так и не решил, как правильно. Спасибо! </div>"
   ]
  },
  {
   "cell_type": "markdown",
   "metadata": {},
   "source": [
    "<div class=\"alert alert-warning\">\n",
    "<b>Комментарий ревьюера ⚠️:</b> Дублируется предыдущая ячейка. </div>"
   ]
  },
  {
   "cell_type": "markdown",
   "metadata": {},
   "source": [
    "<div class=\"alert alert-info\"> <b>Комментарий студента:</b> Убрал </div>"
   ]
  },
  {
   "cell_type": "markdown",
   "metadata": {},
   "source": [
    "<div class=\"alert alert-success\">\n",
    "<b>Комментарий ревьюера v2 ✔️:</b> Оба комментария выше учтены, молодец! </div>"
   ]
  },
  {
   "cell_type": "markdown",
   "metadata": {},
   "source": [
    "<div class=\"alert alert-danger\">\n",
    "<b>Комментарий ревьюера v2 ❌:</b> Тут у тебя roc_auc_score считается для disbalanced_best_forest_model вместо best_forest_upsampled_model. </div>"
   ]
  },
  {
   "cell_type": "markdown",
   "metadata": {},
   "source": [
    "<div class=\"alert alert-info\"> <b>Комментарий студента:</b> Поправил:) </div>"
   ]
  },
  {
   "cell_type": "markdown",
   "metadata": {},
   "source": [
    "<div class=\"alert alert-success\">\n",
    "<b>Комментарий ревьюера v3 ✔️:</b> 👍 </div>"
   ]
  },
  {
   "cell_type": "code",
   "execution_count": 33,
   "metadata": {},
   "outputs": [
    {
     "name": "stdout",
     "output_type": "stream",
     "text": [
      "Downsampled random forest classifier\n",
      "\n",
      "Confusion matrix\n",
      "[[804 183]\n",
      " [ 58 205]]\n",
      "Recall: 0.779467680608365\n",
      "Precision: 0.5283505154639175\n",
      "F1: 0.6298003072196621\n",
      "ROC-AUC: 0.8641580084829013\n"
     ]
    }
   ],
   "source": [
    "def downsample(features, target, fraction):\n",
    "    features_zeros = features[target == 0]\n",
    "    features_ones = features[target == 1]\n",
    "    target_zeros = target[target == 0]\n",
    "    target_ones = target[target == 1]\n",
    "\n",
    "    features_downsampled = pd.concat(\n",
    "        [features_zeros.sample(frac=fraction, random_state=12345)] + [features_ones])\n",
    "    target_downsampled = pd.concat(\n",
    "        [target_zeros.sample(frac=fraction, random_state=12345)] + [target_ones])\n",
    "    \n",
    "    features_downsampled, target_downsampled = shuffle(\n",
    "        features_downsampled, target_downsampled, random_state=12345)\n",
    "    \n",
    "    return features_downsampled, target_downsampled\n",
    "\n",
    "features_downsampled, target_downsampled = downsample(features_train, target_train, number_to_downsample)\n",
    "\n",
    "best_forest_downsampled_model = disbalanced_best_forest_model.fit(features_downsampled, target_downsampled)\n",
    "downsemled_predicted_valid = best_forest_downsampled_model.predict(features_valid)\n",
    "\n",
    "print('Downsampled random forest classifier')\n",
    "print()\n",
    "print('Confusion matrix')\n",
    "print(confusion_matrix(target_valid, downsemled_predicted_valid))\n",
    "print('Recall:', recall_score(target_valid, downsemled_predicted_valid))\n",
    "print('Precision:', precision_score(target_valid, downsemled_predicted_valid))\n",
    "print('F1:', f1_score(target_valid, downsemled_predicted_valid))\n",
    "print('ROC-AUC:', roc_auc_score(target_valid, best_forest_downsampled_model\n",
    "                                .predict_proba(features_valid)[:, 1]))"
   ]
  },
  {
   "cell_type": "markdown",
   "metadata": {},
   "source": [
    "<div class=\"alert alert-success\">\n",
    "<b>Комментарий ревьюера ✔️:</b> Функция написана правильно. Но для уменьшения выборки рекомендую использовать <a href=\"https://imbalanced-learn.org/stable/references/generated/imblearn.under_sampling.RandomUnderSampler.html\">RandomUnderSampler</a>. </div>"
   ]
  },
  {
   "cell_type": "markdown",
   "metadata": {},
   "source": [
    "<div class=\"alert alert-danger\">\n",
    "<b>Комментарий ревьюера ❌:</b> При fraction=0.1 дисбаланс никуда не исчезнет, а просто перейдет в сторону класса 1. Лучше возьми значение 0.25, тогда все будет хорошо. </div>"
   ]
  },
  {
   "cell_type": "markdown",
   "metadata": {},
   "source": [
    "<div class=\"alert alert-info\"> <b>Комментарий студента:</b> Сделал по-другому:) </div>"
   ]
  },
  {
   "cell_type": "markdown",
   "metadata": {},
   "source": [
    "<div class=\"alert alert-success\">\n",
    "<b>Комментарий ревьюера v2 ✔️:</b> Так даже лучше) </div>"
   ]
  },
  {
   "cell_type": "markdown",
   "metadata": {},
   "source": [
    "<div class=\"alert alert-warning\">\n",
    "<b>Комментарий ревьюера ⚠️:</b> Тоже дублируется предыдущая ячейка. </div>"
   ]
  },
  {
   "cell_type": "markdown",
   "metadata": {},
   "source": [
    "<div class=\"alert alert-info\"> <b>Комментарий студента:</b> Убрал </div>"
   ]
  },
  {
   "cell_type": "markdown",
   "metadata": {},
   "source": [
    "<div class=\"alert alert-danger\">\n",
    "<b>Комментарий ревьюера v2 ❌:</b> Здесь тоже для roc_auc_score забыл поменять модель.  </div>"
   ]
  },
  {
   "cell_type": "markdown",
   "metadata": {},
   "source": [
    "<div class=\"alert alert-info\"> <b>Комментарий студента:</b> Поправил:) </div>"
   ]
  },
  {
   "cell_type": "markdown",
   "metadata": {},
   "source": [
    "<div class=\"alert alert-success\">\n",
    "<b>Комментарий ревьюера v3 ✔️:</b> 👍 </div>"
   ]
  },
  {
   "cell_type": "markdown",
   "metadata": {},
   "source": [
    "### Выводы"
   ]
  },
  {
   "cell_type": "markdown",
   "metadata": {},
   "source": [
    "Ни один из метедов в дополнении к гиперпараметру не увеличил качество модели."
   ]
  },
  {
   "cell_type": "markdown",
   "metadata": {},
   "source": [
    "<div class=\"alert alert-warning\">\n",
    "<b>Комментарий ревьюера ⚠️:</b> Круто, что ты исследуешь столько способов борьбы с дисбалансом. Рекомендую и для них выполнить поиск оптимальных гиперпараметров.</div>"
   ]
  },
  {
   "cell_type": "markdown",
   "metadata": {},
   "source": [
    "## 4. Тестирование модели"
   ]
  },
  {
   "cell_type": "code",
   "execution_count": 34,
   "metadata": {},
   "outputs": [
    {
     "data": {
      "text/plain": [
       "RandomForestClassifier(class_weight='balanced', max_depth=9, n_estimators=50,\n",
       "                       random_state=12345)"
      ]
     },
     "execution_count": 34,
     "metadata": {},
     "output_type": "execute_result"
    }
   ],
   "source": [
    "best_forest_model"
   ]
  },
  {
   "cell_type": "markdown",
   "metadata": {},
   "source": [
    "Финальная модель является случайным лесом со сбалансированными весам классов, количеством деревьев 50 и глубиной 8. Модель обучена на стандартной тренировочной выборке."
   ]
  },
  {
   "cell_type": "code",
   "execution_count": 35,
   "metadata": {},
   "outputs": [
    {
     "name": "stdout",
     "output_type": "stream",
     "text": [
      "Best random forest classifier\n",
      "\n",
      "Final confusion matrix\n",
      "[[841 137]\n",
      " [ 86 186]]\n",
      "Final recall: 0.6838235294117647\n",
      "Final precision: 0.5758513931888545\n",
      "Final F1: 0.6252100840336134\n"
     ]
    }
   ],
   "source": [
    "best_forest_model.fit(features_train, target_train)\n",
    "final_result = best_forest_model.predict(features_test)\n",
    "\n",
    "print('Best random forest classifier')\n",
    "print()\n",
    "print('Final confusion matrix')\n",
    "print(confusion_matrix(target_test, final_result))\n",
    "print('Final recall:', recall_score(target_test, final_result))\n",
    "print('Final precision:', precision_score(target_test, final_result))\n",
    "print('Final F1:', f1_score(target_test, final_result))"
   ]
  },
  {
   "cell_type": "code",
   "execution_count": 36,
   "metadata": {},
   "outputs": [
    {
     "data": {
      "image/png": "[encoded data removed]",
      "text/plain": [
       "<Figure size 432x432 with 1 Axes>"
      ]
     },
     "metadata": {
      "needs_background": "light"
     },
     "output_type": "display_data"
    }
   ],
   "source": [
    "probabilities_test = best_forest_model.predict_proba(features_test)\n",
    "precision, recall, thresholds = precision_recall_curve(target_test, probabilities_test[:, 1])\n",
    "\n",
    "plt.figure(figsize=(6, 6))\n",
    "plt.step(recall, precision, where='post')\n",
    "plt.xlabel('Recall')\n",
    "plt.ylabel('Precision')\n",
    "plt.ylim([0.0, 1.05])\n",
    "plt.xlim([0.0, 1.0])\n",
    "plt.title('Кривая Precision-Recall')\n",
    "plt.show() "
   ]
  },
  {
   "cell_type": "markdown",
   "metadata": {},
   "source": [
    "На графике по вертикали наносится значение точности, по горизонтали — полноты. PR-кривая показывает достаточно высокий результат"
   ]
  },
  {
   "cell_type": "code",
   "execution_count": 37,
   "metadata": {},
   "outputs": [
    {
     "data": {
      "image/png": "[encoded data removed]",
      "text/plain": [
       "<Figure size 432x288 with 1 Axes>"
      ]
     },
     "metadata": {
      "needs_background": "light"
     },
     "output_type": "display_data"
    },
    {
     "name": "stdout",
     "output_type": "stream",
     "text": [
      "AUC-ROC: 0.8589859256586071\n"
     ]
    }
   ],
   "source": [
    "fpr, tpr, thresholds = roc_curve(target_test, probabilities_test[:, 1])\n",
    "\n",
    "plt.figure()\n",
    "plt.plot(fpr, tpr)\n",
    "plt.xlim([0.0, 1.0])\n",
    "plt.ylim([0.0, 1.0])\n",
    "plt.xlabel('False Positive Rate')\n",
    "plt.ylabel('True Positive Rate')\n",
    "plt.title('ROC-кривая')\n",
    "plt.show() \n",
    "\n",
    "print(\"AUC-ROC:\", roc_auc_score(target_test, probabilities_test[:, 1]))"
   ]
  },
  {
   "cell_type": "markdown",
   "metadata": {},
   "source": [
    "Показатели ROC-кривой сильно выше случайного классификатора. Это подтверждает и показатель AUC-ROC, который равен ~0.86."
   ]
  },
  {
   "cell_type": "markdown",
   "metadata": {},
   "source": [
    "<div class=\"alert alert-danger\">\n",
    "<b>Комментарий ревьюера ❌:</b> Тестирование лучшей модели должно происходить на тестовой выборке, а не на валидации.  </div>"
   ]
  },
  {
   "cell_type": "markdown",
   "metadata": {},
   "source": [
    "<div class=\"alert alert-info\"> <b>Комментарий студента:</b> Поправил:) </div>"
   ]
  },
  {
   "cell_type": "markdown",
   "metadata": {},
   "source": [
    "<div class=\"alert alert-success\">\n",
    "<b>Комментарий ревьюера v2 ✔️:</b> Тестирование выполнено корректно. Целевое значение F1 достигнуто. </div>"
   ]
  },
  {
   "cell_type": "markdown",
   "metadata": {},
   "source": [
    "<div class=\"alert alert-danger\">\n",
    "<b>Комментарий ревьюера ❌:</b> И напиши, пожалуйста, итоговый вывод о полученных результатах.  </div>"
   ]
  },
  {
   "cell_type": "markdown",
   "metadata": {},
   "source": [
    "Было проведено исследование нескольких моделей с учетом дисбаланса классов и без, получились следующие данные:"
   ]
  },
  {
   "cell_type": "code",
   "execution_count": 38,
   "metadata": {},
   "outputs": [
    {
     "data": {
      "text/html": [
       "<div>\n",
       "<style scoped>\n",
       "    .dataframe tbody tr th:only-of-type {\n",
       "        vertical-align: middle;\n",
       "    }\n",
       "\n",
       "    .dataframe tbody tr th {\n",
       "        vertical-align: top;\n",
       "    }\n",
       "\n",
       "    .dataframe thead th {\n",
       "        text-align: right;\n",
       "    }\n",
       "</style>\n",
       "<table border=\"1\" class=\"dataframe\">\n",
       "  <thead>\n",
       "    <tr style=\"text-align: right;\">\n",
       "      <th></th>\n",
       "      <th>Model</th>\n",
       "      <th>Recall</th>\n",
       "      <th>Precision</th>\n",
       "      <th>F1</th>\n",
       "      <th>AUC-ROC</th>\n",
       "    </tr>\n",
       "  </thead>\n",
       "  <tbody>\n",
       "    <tr>\n",
       "      <th>0</th>\n",
       "      <td>Disbalanced logistic regression</td>\n",
       "      <td>0.12</td>\n",
       "      <td>0.56</td>\n",
       "      <td>0.29</td>\n",
       "      <td>0.77</td>\n",
       "    </tr>\n",
       "    <tr>\n",
       "      <th>1</th>\n",
       "      <td>Disbalanced decision tree classifier</td>\n",
       "      <td>0.48</td>\n",
       "      <td>0.74</td>\n",
       "      <td>0.58</td>\n",
       "      <td>0.84</td>\n",
       "    </tr>\n",
       "    <tr>\n",
       "      <th>2</th>\n",
       "      <td>Disbalanced random forest classifier</td>\n",
       "      <td>0.48</td>\n",
       "      <td>0.81</td>\n",
       "      <td>0.60</td>\n",
       "      <td>0.85</td>\n",
       "    </tr>\n",
       "    <tr>\n",
       "      <th>3</th>\n",
       "      <td>Logistic regression</td>\n",
       "      <td>0.73</td>\n",
       "      <td>0.39</td>\n",
       "      <td>0.51</td>\n",
       "      <td>0.77</td>\n",
       "    </tr>\n",
       "    <tr>\n",
       "      <th>4</th>\n",
       "      <td>Decision tree classifier</td>\n",
       "      <td>0.70</td>\n",
       "      <td>0.53</td>\n",
       "      <td>0.60</td>\n",
       "      <td>0.85</td>\n",
       "    </tr>\n",
       "    <tr>\n",
       "      <th>5</th>\n",
       "      <td>Random forest classifier</td>\n",
       "      <td>0.71</td>\n",
       "      <td>0.63</td>\n",
       "      <td>0.67</td>\n",
       "      <td>0.87</td>\n",
       "    </tr>\n",
       "    <tr>\n",
       "      <th>6</th>\n",
       "      <td>Upsampled random forest classifier</td>\n",
       "      <td>0.64</td>\n",
       "      <td>0.63</td>\n",
       "      <td>0.63</td>\n",
       "      <td>0.86</td>\n",
       "    </tr>\n",
       "    <tr>\n",
       "      <th>7</th>\n",
       "      <td>Downsampled random forest classifier</td>\n",
       "      <td>0.78</td>\n",
       "      <td>0.53</td>\n",
       "      <td>0.63</td>\n",
       "      <td>0.86</td>\n",
       "    </tr>\n",
       "    <tr>\n",
       "      <th>8</th>\n",
       "      <td>Best random forest classifier</td>\n",
       "      <td>0.69</td>\n",
       "      <td>0.58</td>\n",
       "      <td>0.63</td>\n",
       "      <td>0.86</td>\n",
       "    </tr>\n",
       "  </tbody>\n",
       "</table>\n",
       "</div>"
      ],
      "text/plain": [
       "                                  Model  Recall  Precision    F1  AUC-ROC\n",
       "0       Disbalanced logistic regression    0.12       0.56  0.29     0.77\n",
       "1  Disbalanced decision tree classifier    0.48       0.74  0.58     0.84\n",
       "2  Disbalanced random forest classifier    0.48       0.81  0.60     0.85\n",
       "3                   Logistic regression    0.73       0.39  0.51     0.77\n",
       "4              Decision tree classifier    0.70       0.53  0.60     0.85\n",
       "5              Random forest classifier    0.71       0.63  0.67     0.87\n",
       "6    Upsampled random forest classifier    0.64       0.63  0.63     0.86\n",
       "7  Downsampled random forest classifier    0.78       0.53  0.63     0.86\n",
       "8         Best random forest classifier    0.69       0.58  0.63     0.86"
      ]
     },
     "execution_count": 38,
     "metadata": {},
     "output_type": "execute_result"
    }
   ],
   "source": [
    "results = {'Model': ['Disbalanced logistic regression', \n",
    "                     'Disbalanced decision tree classifier',\n",
    "                     'Disbalanced random forest classifier',\n",
    "                     'Logistic regression',\n",
    "                     'Decision tree classifier', \n",
    "                     'Random forest classifier',\n",
    "                     'Upsampled random forest classifier',\n",
    "                     'Downsampled random forest classifier',\n",
    "                     'Best random forest classifier'], \n",
    "           'Recall':    [.12, .48, .48, .73, .70, .71, .64, .78, .69],\n",
    "           'Precision': [.56, .74, .81, .39, .53, .63, .63, .53, .58],\n",
    "           'F1':        [.29, .58, .60, .51, .60, .67, .63, .63, .63],\n",
    "           'AUC-ROC':   [.77, .84, .85, .77, .85, .87, .86, .86, .86]}\n",
    "results_data = pd.DataFrame(data=results)\n",
    "results_data"
   ]
  },
  {
   "cell_type": "markdown",
   "metadata": {},
   "source": [
    "С учетом дисбаланса классов и без него лучший показатели имели модели случайного леса.\n",
    "\n",
    "При попытке балансировки показателей езменения порога классификации не принеслo лучших результатов.\n",
    "\n",
    "Также, была взята модель случайного леса без гиперпараметра class_weight='balanced' и протестирована на upsampled и downsampled выборках. Результаты отображены в таблице выше.\n",
    "\n",
    "В итоге лучшей себя показала модель случайного леса с гиперпараметром class_weight='balanced', на ней и провели тестирование и получили следующие показатели:\n",
    "\n",
    "- Recall: 0.69\n",
    "- Precision: 0.58\n",
    "- F1: 0.63\n",
    "- AUC-ROC: 0.86"
   ]
  },
  {
   "cell_type": "markdown",
   "metadata": {},
   "source": [
    "<div class=\"alert alert-success\">\n",
    "<b>Комментарий ревьюера v2 ✔️:</b> Прекрасный вывод! </div>"
   ]
  },
  {
   "cell_type": "markdown",
   "metadata": {},
   "source": [
    "<div style=\"border:solid blue 2px; padding: 20px\">\n",
    "<b>Итоговый комментарий ревьюера</b>\n",
    "<div class=\"alert alert-block alert-success\">\n",
    "<b>✔️ Комментарий ревьюера:</b>\n",
    "Спасибо тебе большое, за хорошее оформление проекта.\n",
    "Чувствуется уверенное знание материала и владение питоном в целом. \n",
    "</div>\n",
    "<b>Но нужно кое-что поправить:</b>\n",
    "<div class=\"alert alert-block alert-danger\">\n",
    "<ul>1) Запустить код без ошибок.</ul>\n",
    "<ul>2) Удалить неинформативные признаки. </ul>\n",
    "<ul>3) Обработать пропуски.</ul>\n",
    "<ul>4) Кодировать только категориальные признаки.</ul>\n",
    "<ul>5) Не использовать порядковое кодирование для линейных моделей.</ul>\n",
    "<ul>6) Разделить данные на 3 выборки.</ul>\n",
    "<ul>7) Исследовать дисбаланс классов.</ul>\n",
    "<ul>8) Посчитать ROC-AUC для всех моделей.</ul>\n",
    "<ul>9) Не использовать одновременно ап(даун)семплинг и class_weight='balanced'.</ul>\n",
    "<ul>10) Исправить даунсемплинг.</ul>\n",
    "<ul>11) Корректно выполнить тестирование.</ul>\n",
    "<ul>12) Написать итоговы вывод.</ul>\n",
    "</div>\n",
    "\n",
    "<b>Осталось совсем немного, буду ждать твою работу на повторное ревью 🙂</b></div>"
   ]
  },
  {
   "cell_type": "markdown",
   "metadata": {},
   "source": [
    "<div style=\"border:solid blue 2px; padding: 20px\">\n",
    "<b>Итоговый комментарий ревьюера v2</b>\n",
    "<div class=\"alert alert-block alert-success\">\n",
    "<b>✔️ Комментарий ревьюера:</b>\n",
    "Осталось совсем чуть-чуть. \n",
    "</div>\n",
    "<b>Нужно поправить:</b>\n",
    "<div class=\"alert alert-block alert-danger\">\n",
    "<ul>1) Корректно посчитать roc_auc_score для ап(даун)семплинга.</ul>\n",
    "\n",
    "</div>"
   ]
  },
  {
   "cell_type": "markdown",
   "metadata": {},
   "source": [
    "<div class=\"alert alert-info\"> <b>Комментарий студента:</b> Поправил:) </div>"
   ]
  },
  {
   "cell_type": "markdown",
   "metadata": {},
   "source": [
    "<div style=\"border:solid blue 2px; padding: 20px\">\n",
    "<b>Итоговый комментарий ревьюера v3</b>\n",
    "<div class=\"alert alert-block alert-success\">\n",
    "<b>✔️ Комментарий ревьюера:</b>\n",
    "Все недочеты исправлены. Проект принят, поздравляю🥳\n",
    "</div>\n",
    "\n",
    "<b>Желаю успехов и удачи!</b></div>"
   ]
  },
  {
   "cell_type": "markdown",
   "metadata": {},
   "source": [
    "## Чек-лист готовности проекта"
   ]
  },
  {
   "cell_type": "markdown",
   "metadata": {},
   "source": [
    "Поставьте 'x' в выполненных пунктах. Далее нажмите Shift+Enter."
   ]
  },
  {
   "cell_type": "markdown",
   "metadata": {},
   "source": [
    "- [x]  Jupyter Notebook открыт\n",
    "- [х]  Весь код выполняется без ошибок\n",
    "- [х]  Ячейки с кодом расположены в порядке исполнения\n",
    "- [х]  Выполнен шаг 1: данные подготовлены\n",
    "- [х]  Выполнен шаг 2: задача исследована\n",
    "    - [х]  Исследован баланс классов\n",
    "    - [х]  Изучены модели без учёта дисбаланса\n",
    "    - [х]  Написаны выводы по результатам исследования\n",
    "- [х]  Выполнен шаг 3: учтён дисбаланс\n",
    "    - [х]  Применено несколько способов борьбы с дисбалансом\n",
    "    - [х]  Написаны выводы по результатам исследования\n",
    "- [х]  Выполнен шаг 4: проведено тестирование\n",
    "- [х]  Удалось достичь *F1*-меры не менее 0.59\n",
    "- [х]  Исследована метрика *AUC-ROC*"
   ]
  }
 ],
 "metadata": {
  "ExecuteTimeLog": [
   {
    "duration": 51,
    "start_time": "2023-04-24T11:45:09.630Z"
   },
   {
    "duration": 1221,
    "start_time": "2023-04-24T11:45:12.059Z"
   },
   {
    "duration": 2907,
    "start_time": "2023-04-24T11:45:14.193Z"
   },
   {
    "duration": 7,
    "start_time": "2023-04-24T11:49:21.387Z"
   },
   {
    "duration": 7,
    "start_time": "2023-04-24T11:49:24.349Z"
   },
   {
    "duration": 7,
    "start_time": "2023-04-24T11:49:29.126Z"
   },
   {
    "duration": 1784,
    "start_time": "2023-04-24T11:52:06.807Z"
   },
   {
    "duration": 3,
    "start_time": "2023-04-24T11:52:11.289Z"
   },
   {
    "duration": 47,
    "start_time": "2023-04-24T11:54:44.980Z"
   },
   {
    "duration": 2,
    "start_time": "2023-04-24T11:54:47.242Z"
   },
   {
    "duration": 3,
    "start_time": "2023-04-24T11:55:08.292Z"
   },
   {
    "duration": 381,
    "start_time": "2023-04-24T11:55:25.499Z"
   },
   {
    "duration": 423,
    "start_time": "2023-04-24T11:55:44.882Z"
   },
   {
    "duration": 3,
    "start_time": "2023-04-24T11:56:53.987Z"
   },
   {
    "duration": 2,
    "start_time": "2023-04-24T11:57:46.959Z"
   },
   {
    "duration": 8,
    "start_time": "2023-04-24T11:57:54.518Z"
   },
   {
    "duration": 26,
    "start_time": "2023-04-24T11:58:22.746Z"
   },
   {
    "duration": 33,
    "start_time": "2023-04-24T11:58:30.171Z"
   },
   {
    "duration": 260,
    "start_time": "2023-04-24T11:58:38.439Z"
   },
   {
    "duration": 13,
    "start_time": "2023-04-24T12:01:04.298Z"
   },
   {
    "duration": 13,
    "start_time": "2023-04-24T12:04:44.943Z"
   },
   {
    "duration": 1732,
    "start_time": "2023-04-26T10:32:00.506Z"
   },
   {
    "duration": 176,
    "start_time": "2023-04-26T10:32:02.240Z"
   },
   {
    "duration": 126,
    "start_time": "2023-04-26T10:32:02.418Z"
   },
   {
    "duration": 0,
    "start_time": "2023-04-26T10:32:02.547Z"
   },
   {
    "duration": 0,
    "start_time": "2023-04-26T10:32:02.548Z"
   },
   {
    "duration": 0,
    "start_time": "2023-04-26T10:32:02.549Z"
   },
   {
    "duration": 0,
    "start_time": "2023-04-26T10:32:02.550Z"
   },
   {
    "duration": 0,
    "start_time": "2023-04-26T10:32:02.551Z"
   },
   {
    "duration": 0,
    "start_time": "2023-04-26T10:32:02.553Z"
   },
   {
    "duration": 0,
    "start_time": "2023-04-26T10:32:02.554Z"
   },
   {
    "duration": 0,
    "start_time": "2023-04-26T10:32:02.555Z"
   },
   {
    "duration": 0,
    "start_time": "2023-04-26T10:32:02.556Z"
   },
   {
    "duration": 0,
    "start_time": "2023-04-26T10:32:02.558Z"
   },
   {
    "duration": 0,
    "start_time": "2023-04-26T10:32:02.559Z"
   },
   {
    "duration": 0,
    "start_time": "2023-04-26T10:32:02.560Z"
   },
   {
    "duration": 0,
    "start_time": "2023-04-26T10:32:02.561Z"
   },
   {
    "duration": 0,
    "start_time": "2023-04-26T10:32:02.562Z"
   },
   {
    "duration": 0,
    "start_time": "2023-04-26T10:32:02.563Z"
   },
   {
    "duration": 1,
    "start_time": "2023-04-26T10:32:02.591Z"
   },
   {
    "duration": 0,
    "start_time": "2023-04-26T10:32:02.594Z"
   },
   {
    "duration": 0,
    "start_time": "2023-04-26T10:32:02.596Z"
   },
   {
    "duration": 0,
    "start_time": "2023-04-26T10:32:02.597Z"
   },
   {
    "duration": 0,
    "start_time": "2023-04-26T10:32:02.598Z"
   },
   {
    "duration": 0,
    "start_time": "2023-04-26T10:32:02.600Z"
   },
   {
    "duration": 0,
    "start_time": "2023-04-26T10:32:02.601Z"
   },
   {
    "duration": 0,
    "start_time": "2023-04-26T10:32:02.602Z"
   },
   {
    "duration": 0,
    "start_time": "2023-04-26T10:32:02.603Z"
   },
   {
    "duration": 73,
    "start_time": "2023-04-26T11:37:54.369Z"
   },
   {
    "duration": 7,
    "start_time": "2023-04-26T11:37:58.561Z"
   },
   {
    "duration": 1924,
    "start_time": "2023-04-26T11:38:06.310Z"
   },
   {
    "duration": 209,
    "start_time": "2023-04-26T11:38:08.236Z"
   },
   {
    "duration": 5,
    "start_time": "2023-04-26T11:38:08.447Z"
   },
   {
    "duration": 49,
    "start_time": "2023-04-26T11:38:08.454Z"
   },
   {
    "duration": 130,
    "start_time": "2023-04-26T11:38:08.506Z"
   },
   {
    "duration": 19,
    "start_time": "2023-04-26T11:38:08.638Z"
   },
   {
    "duration": 19,
    "start_time": "2023-04-26T11:38:08.659Z"
   },
   {
    "duration": 57,
    "start_time": "2023-04-26T11:38:08.699Z"
   },
   {
    "duration": 59,
    "start_time": "2023-04-26T11:38:08.758Z"
   },
   {
    "duration": 423,
    "start_time": "2023-04-26T11:38:08.823Z"
   },
   {
    "duration": 7,
    "start_time": "2023-04-26T11:38:09.248Z"
   },
   {
    "duration": 11037,
    "start_time": "2023-04-26T11:38:09.257Z"
   },
   {
    "duration": 12,
    "start_time": "2023-04-26T11:38:20.309Z"
   },
   {
    "duration": 81,
    "start_time": "2023-04-26T11:38:20.331Z"
   },
   {
    "duration": 121,
    "start_time": "2023-04-26T11:38:20.414Z"
   },
   {
    "duration": 411,
    "start_time": "2023-04-26T11:38:20.539Z"
   },
   {
    "duration": 8,
    "start_time": "2023-04-26T11:38:20.951Z"
   },
   {
    "duration": 11316,
    "start_time": "2023-04-26T11:38:20.961Z"
   },
   {
    "duration": 17,
    "start_time": "2023-04-26T11:38:32.279Z"
   },
   {
    "duration": 108,
    "start_time": "2023-04-26T11:38:32.298Z"
   },
   {
    "duration": 735,
    "start_time": "2023-04-26T11:38:32.408Z"
   },
   {
    "duration": 1395,
    "start_time": "2023-04-26T11:38:33.145Z"
   },
   {
    "duration": 221,
    "start_time": "2023-04-26T11:38:34.542Z"
   },
   {
    "duration": 386,
    "start_time": "2023-04-26T11:38:34.765Z"
   },
   {
    "duration": 5,
    "start_time": "2023-04-26T11:38:35.153Z"
   },
   {
    "duration": 479,
    "start_time": "2023-04-26T11:38:35.160Z"
   },
   {
    "duration": 157,
    "start_time": "2023-04-26T11:38:35.640Z"
   },
   {
    "duration": 152,
    "start_time": "2023-04-26T11:38:35.798Z"
   },
   {
    "duration": 103,
    "start_time": "2023-04-26T11:39:10.561Z"
   },
   {
    "duration": 22,
    "start_time": "2023-04-26T11:42:46.128Z"
   },
   {
    "duration": 31,
    "start_time": "2023-04-26T11:42:59.777Z"
   },
   {
    "duration": 9,
    "start_time": "2023-04-26T11:43:05.790Z"
   },
   {
    "duration": 39,
    "start_time": "2023-04-26T11:43:07.889Z"
   },
   {
    "duration": 163,
    "start_time": "2023-04-26T11:46:02.293Z"
   },
   {
    "duration": 5,
    "start_time": "2023-04-26T11:46:13.005Z"
   },
   {
    "duration": 58,
    "start_time": "2023-04-26T11:46:14.373Z"
   },
   {
    "duration": 25,
    "start_time": "2023-04-26T11:46:15.728Z"
   },
   {
    "duration": 7,
    "start_time": "2023-04-26T11:46:35.225Z"
   },
   {
    "duration": 4,
    "start_time": "2023-04-26T11:46:38.061Z"
   },
   {
    "duration": 31,
    "start_time": "2023-04-26T11:47:01.609Z"
   },
   {
    "duration": 12,
    "start_time": "2023-04-26T11:48:54.410Z"
   },
   {
    "duration": 13,
    "start_time": "2023-04-26T11:48:58.020Z"
   },
   {
    "duration": 11,
    "start_time": "2023-04-26T11:49:51.532Z"
   },
   {
    "duration": 21,
    "start_time": "2023-04-26T11:50:00.626Z"
   },
   {
    "duration": 19,
    "start_time": "2023-04-26T11:50:06.882Z"
   },
   {
    "duration": 17,
    "start_time": "2023-04-26T11:51:37.736Z"
   },
   {
    "duration": 16,
    "start_time": "2023-04-26T11:51:51.436Z"
   },
   {
    "duration": 13,
    "start_time": "2023-04-26T11:52:07.922Z"
   },
   {
    "duration": 9,
    "start_time": "2023-04-26T11:52:28.869Z"
   },
   {
    "duration": 1493,
    "start_time": "2023-04-26T11:52:56.631Z"
   },
   {
    "duration": 30,
    "start_time": "2023-04-26T11:56:20.889Z"
   },
   {
    "duration": 74,
    "start_time": "2023-04-26T11:56:34.822Z"
   },
   {
    "duration": 861,
    "start_time": "2023-04-26T11:56:41.115Z"
   },
   {
    "duration": 23,
    "start_time": "2023-04-26T11:58:36.753Z"
   },
   {
    "duration": 4,
    "start_time": "2023-04-26T11:58:57.349Z"
   },
   {
    "duration": 683,
    "start_time": "2023-04-26T11:59:03.281Z"
   },
   {
    "duration": 14,
    "start_time": "2023-04-26T11:59:41.014Z"
   },
   {
    "duration": 717,
    "start_time": "2023-04-26T12:00:08.451Z"
   },
   {
    "duration": 17,
    "start_time": "2023-04-26T12:00:11.584Z"
   },
   {
    "duration": 3,
    "start_time": "2023-04-26T12:00:13.674Z"
   },
   {
    "duration": 22,
    "start_time": "2023-04-26T12:00:15.756Z"
   },
   {
    "duration": 4,
    "start_time": "2023-04-26T12:27:43.722Z"
   },
   {
    "duration": 46,
    "start_time": "2023-04-26T12:27:45.922Z"
   },
   {
    "duration": 43,
    "start_time": "2023-04-26T12:27:47.385Z"
   },
   {
    "duration": 11,
    "start_time": "2023-04-26T12:27:49.565Z"
   },
   {
    "duration": 1689,
    "start_time": "2023-04-26T12:27:51.062Z"
   },
   {
    "duration": 868,
    "start_time": "2023-04-26T12:27:55.296Z"
   },
   {
    "duration": 5,
    "start_time": "2023-04-26T12:27:58.921Z"
   },
   {
    "duration": 5,
    "start_time": "2023-04-26T12:30:09.919Z"
   },
   {
    "duration": 36,
    "start_time": "2023-04-26T12:30:11.934Z"
   },
   {
    "duration": 31,
    "start_time": "2023-04-26T12:30:12.819Z"
   },
   {
    "duration": 13,
    "start_time": "2023-04-26T12:30:14.923Z"
   },
   {
    "duration": 1830,
    "start_time": "2023-04-26T12:30:16.175Z"
   },
   {
    "duration": 902,
    "start_time": "2023-04-26T12:30:19.326Z"
   },
   {
    "duration": 5,
    "start_time": "2023-04-26T12:30:22.721Z"
   },
   {
    "duration": 4,
    "start_time": "2023-04-26T12:30:24.823Z"
   },
   {
    "duration": 23,
    "start_time": "2023-04-26T12:30:25.860Z"
   },
   {
    "duration": 96,
    "start_time": "2023-04-26T12:30:31.870Z"
   },
   {
    "duration": 14,
    "start_time": "2023-04-26T12:30:48.675Z"
   },
   {
    "duration": 20,
    "start_time": "2023-04-26T12:31:39.627Z"
   },
   {
    "duration": 73,
    "start_time": "2023-04-26T12:32:28.627Z"
   },
   {
    "duration": 48,
    "start_time": "2023-04-26T12:33:00.264Z"
   },
   {
    "duration": 5,
    "start_time": "2023-04-26T12:42:48.317Z"
   },
   {
    "duration": 10,
    "start_time": "2023-04-26T12:42:52.644Z"
   },
   {
    "duration": 10,
    "start_time": "2023-04-26T12:43:23.917Z"
   },
   {
    "duration": 75,
    "start_time": "2023-04-26T12:43:38.189Z"
   },
   {
    "duration": 9,
    "start_time": "2023-04-26T12:43:49.764Z"
   },
   {
    "duration": 11,
    "start_time": "2023-04-26T12:44:18.634Z"
   },
   {
    "duration": 16,
    "start_time": "2023-04-26T12:45:21.261Z"
   },
   {
    "duration": 21,
    "start_time": "2023-04-26T12:45:30.930Z"
   },
   {
    "duration": 34,
    "start_time": "2023-04-26T12:47:49.877Z"
   },
   {
    "duration": 16,
    "start_time": "2023-04-26T12:48:02.724Z"
   },
   {
    "duration": 1613,
    "start_time": "2023-04-26T12:48:09.666Z"
   },
   {
    "duration": 1552,
    "start_time": "2023-04-26T12:48:19.921Z"
   },
   {
    "duration": 48,
    "start_time": "2023-04-26T12:48:32.812Z"
   },
   {
    "duration": 28,
    "start_time": "2023-04-26T12:48:37.565Z"
   },
   {
    "duration": 1623,
    "start_time": "2023-04-26T12:48:46.748Z"
   },
   {
    "duration": 1619,
    "start_time": "2023-04-26T12:48:52.125Z"
   },
   {
    "duration": 52,
    "start_time": "2023-04-26T12:49:04.324Z"
   },
   {
    "duration": 33,
    "start_time": "2023-04-26T12:49:08.290Z"
   },
   {
    "duration": 42,
    "start_time": "2023-04-26T12:50:22.924Z"
   },
   {
    "duration": 14,
    "start_time": "2023-04-26T12:50:29.363Z"
   },
   {
    "duration": 26,
    "start_time": "2023-04-26T12:51:27.220Z"
   },
   {
    "duration": 16,
    "start_time": "2023-04-26T12:51:45.259Z"
   },
   {
    "duration": 62,
    "start_time": "2023-04-26T12:51:50.691Z"
   },
   {
    "duration": 18,
    "start_time": "2023-04-26T12:51:58.310Z"
   },
   {
    "duration": 16,
    "start_time": "2023-04-26T12:52:03.660Z"
   },
   {
    "duration": 59,
    "start_time": "2023-04-26T12:52:17.124Z"
   },
   {
    "duration": 77,
    "start_time": "2023-04-26T12:52:32.414Z"
   },
   {
    "duration": 59,
    "start_time": "2023-04-26T12:53:21.522Z"
   },
   {
    "duration": 1905,
    "start_time": "2023-04-26T12:53:29.723Z"
   },
   {
    "duration": 197,
    "start_time": "2023-04-26T12:53:31.630Z"
   },
   {
    "duration": 36,
    "start_time": "2023-04-26T12:53:34.210Z"
   },
   {
    "duration": 14,
    "start_time": "2023-04-26T12:53:35.251Z"
   },
   {
    "duration": 1900,
    "start_time": "2023-04-26T12:53:35.444Z"
   },
   {
    "duration": 1058,
    "start_time": "2023-04-26T12:53:37.346Z"
   },
   {
    "duration": 9,
    "start_time": "2023-04-26T12:53:38.410Z"
   },
   {
    "duration": 7,
    "start_time": "2023-04-26T12:53:38.426Z"
   },
   {
    "duration": 32,
    "start_time": "2023-04-26T12:53:39.231Z"
   },
   {
    "duration": 26,
    "start_time": "2023-04-26T12:53:43.517Z"
   },
   {
    "duration": 79,
    "start_time": "2023-04-26T12:54:24.467Z"
   },
   {
    "duration": 1785,
    "start_time": "2023-04-26T12:54:30.253Z"
   },
   {
    "duration": 92,
    "start_time": "2023-04-26T12:54:36.241Z"
   },
   {
    "duration": 217,
    "start_time": "2023-04-26T12:54:43.637Z"
   },
   {
    "duration": 1625,
    "start_time": "2023-04-26T12:54:48.326Z"
   },
   {
    "duration": 5,
    "start_time": "2023-04-26T12:55:16.119Z"
   },
   {
    "duration": 47,
    "start_time": "2023-04-26T12:55:16.126Z"
   },
   {
    "duration": 40,
    "start_time": "2023-04-26T12:55:16.175Z"
   },
   {
    "duration": 15,
    "start_time": "2023-04-26T12:55:16.217Z"
   },
   {
    "duration": 1834,
    "start_time": "2023-04-26T12:55:16.234Z"
   },
   {
    "duration": 887,
    "start_time": "2023-04-26T12:55:18.070Z"
   },
   {
    "duration": 5,
    "start_time": "2023-04-26T12:55:18.959Z"
   },
   {
    "duration": 5,
    "start_time": "2023-04-26T12:55:18.966Z"
   },
   {
    "duration": 25,
    "start_time": "2023-04-26T12:55:18.972Z"
   },
   {
    "duration": 20,
    "start_time": "2023-04-26T12:55:18.998Z"
   },
   {
    "duration": 2017,
    "start_time": "2023-04-26T12:56:21.452Z"
   },
   {
    "duration": 193,
    "start_time": "2023-04-26T12:56:23.472Z"
   },
   {
    "duration": 41,
    "start_time": "2023-04-26T12:56:23.666Z"
   },
   {
    "duration": 17,
    "start_time": "2023-04-26T12:56:23.709Z"
   },
   {
    "duration": 1783,
    "start_time": "2023-04-26T12:56:23.729Z"
   },
   {
    "duration": 837,
    "start_time": "2023-04-26T12:56:25.520Z"
   },
   {
    "duration": 5,
    "start_time": "2023-04-26T12:56:26.358Z"
   },
   {
    "duration": 11,
    "start_time": "2023-04-26T12:56:26.364Z"
   },
   {
    "duration": 29,
    "start_time": "2023-04-26T12:56:26.377Z"
   },
   {
    "duration": 28,
    "start_time": "2023-04-26T12:56:26.410Z"
   },
   {
    "duration": 71,
    "start_time": "2023-04-26T12:56:40.968Z"
   },
   {
    "duration": 8,
    "start_time": "2023-04-26T12:56:56.050Z"
   },
   {
    "duration": 1594,
    "start_time": "2023-04-26T12:57:06.011Z"
   },
   {
    "duration": 204,
    "start_time": "2023-04-26T12:57:07.616Z"
   },
   {
    "duration": 52,
    "start_time": "2023-04-26T12:57:07.823Z"
   },
   {
    "duration": 21,
    "start_time": "2023-04-26T12:57:07.878Z"
   },
   {
    "duration": 3262,
    "start_time": "2023-04-26T12:57:07.901Z"
   },
   {
    "duration": 891,
    "start_time": "2023-04-26T12:57:11.165Z"
   },
   {
    "duration": 4,
    "start_time": "2023-04-26T12:57:12.058Z"
   },
   {
    "duration": 14,
    "start_time": "2023-04-26T12:57:12.065Z"
   },
   {
    "duration": 40,
    "start_time": "2023-04-26T12:57:12.080Z"
   },
   {
    "duration": 16,
    "start_time": "2023-04-26T12:57:12.124Z"
   },
   {
    "duration": 1616,
    "start_time": "2023-04-27T12:46:41.725Z"
   },
   {
    "duration": 165,
    "start_time": "2023-04-27T12:46:43.343Z"
   },
   {
    "duration": 30,
    "start_time": "2023-04-27T12:46:43.510Z"
   },
   {
    "duration": 11,
    "start_time": "2023-04-27T12:46:43.542Z"
   },
   {
    "duration": 1630,
    "start_time": "2023-04-27T12:46:43.555Z"
   },
   {
    "duration": 881,
    "start_time": "2023-04-27T12:46:45.187Z"
   },
   {
    "duration": 5,
    "start_time": "2023-04-27T12:46:46.071Z"
   },
   {
    "duration": 11,
    "start_time": "2023-04-27T12:46:46.078Z"
   },
   {
    "duration": 31,
    "start_time": "2023-04-27T12:46:46.092Z"
   },
   {
    "duration": 15,
    "start_time": "2023-04-27T12:46:46.125Z"
   },
   {
    "duration": 14,
    "start_time": "2023-04-27T12:47:24.605Z"
   },
   {
    "duration": 11,
    "start_time": "2023-04-27T12:47:44.105Z"
   },
   {
    "duration": 49,
    "start_time": "2023-04-27T12:49:14.329Z"
   },
   {
    "duration": 1838,
    "start_time": "2023-04-27T12:49:26.615Z"
   },
   {
    "duration": 182,
    "start_time": "2023-04-27T12:49:28.454Z"
   },
   {
    "duration": 30,
    "start_time": "2023-04-27T12:49:28.638Z"
   },
   {
    "duration": 15,
    "start_time": "2023-04-27T12:49:28.671Z"
   },
   {
    "duration": 1662,
    "start_time": "2023-04-27T12:49:28.688Z"
   },
   {
    "duration": 903,
    "start_time": "2023-04-27T12:49:30.353Z"
   },
   {
    "duration": 5,
    "start_time": "2023-04-27T12:49:31.258Z"
   },
   {
    "duration": 36,
    "start_time": "2023-04-27T12:49:31.264Z"
   },
   {
    "duration": 46,
    "start_time": "2023-04-27T12:49:31.302Z"
   },
   {
    "duration": 22,
    "start_time": "2023-04-27T12:49:31.351Z"
   },
   {
    "duration": 30,
    "start_time": "2023-04-27T12:49:35.126Z"
   },
   {
    "duration": 35,
    "start_time": "2023-04-27T12:49:59.012Z"
   },
   {
    "duration": 22,
    "start_time": "2023-04-27T12:50:12.346Z"
   },
   {
    "duration": 20,
    "start_time": "2023-04-27T12:50:34.305Z"
   },
   {
    "duration": 5,
    "start_time": "2023-04-27T12:51:06.980Z"
   },
   {
    "duration": 47,
    "start_time": "2023-04-27T12:51:06.987Z"
   },
   {
    "duration": 26,
    "start_time": "2023-04-27T12:51:07.035Z"
   },
   {
    "duration": 14,
    "start_time": "2023-04-27T12:51:07.063Z"
   },
   {
    "duration": 1444,
    "start_time": "2023-04-27T12:51:07.081Z"
   },
   {
    "duration": 1038,
    "start_time": "2023-04-27T12:51:08.527Z"
   },
   {
    "duration": 5,
    "start_time": "2023-04-27T12:51:09.568Z"
   },
   {
    "duration": 5,
    "start_time": "2023-04-27T12:51:09.575Z"
   },
   {
    "duration": 39,
    "start_time": "2023-04-27T12:51:09.581Z"
   },
   {
    "duration": 12,
    "start_time": "2023-04-27T12:51:09.622Z"
   },
   {
    "duration": 21,
    "start_time": "2023-04-27T12:51:09.636Z"
   },
   {
    "duration": 89,
    "start_time": "2023-04-27T12:51:16.343Z"
   },
   {
    "duration": 29,
    "start_time": "2023-04-27T12:51:27.132Z"
   },
   {
    "duration": 42,
    "start_time": "2023-04-27T12:56:03.356Z"
   },
   {
    "duration": 12,
    "start_time": "2023-04-27T13:04:06.320Z"
   },
   {
    "duration": 5,
    "start_time": "2023-04-27T13:04:53.117Z"
   },
   {
    "duration": 5,
    "start_time": "2023-04-27T13:05:18.578Z"
   },
   {
    "duration": 9,
    "start_time": "2023-04-27T13:07:36.710Z"
   },
   {
    "duration": 80,
    "start_time": "2023-04-27T13:07:39.732Z"
   },
   {
    "duration": 144,
    "start_time": "2023-04-27T13:07:52.713Z"
   },
   {
    "duration": 128,
    "start_time": "2023-04-27T13:08:02.010Z"
   },
   {
    "duration": 127,
    "start_time": "2023-04-27T13:09:46.772Z"
   },
   {
    "duration": 126,
    "start_time": "2023-04-27T13:09:55.924Z"
   },
   {
    "duration": 131,
    "start_time": "2023-04-27T13:10:19.581Z"
   },
   {
    "duration": 121,
    "start_time": "2023-04-27T13:10:28.245Z"
   },
   {
    "duration": 6,
    "start_time": "2023-04-27T13:10:57.874Z"
   },
   {
    "duration": 115,
    "start_time": "2023-04-27T13:11:32.794Z"
   },
   {
    "duration": 121,
    "start_time": "2023-04-27T13:11:36.145Z"
   },
   {
    "duration": 15,
    "start_time": "2023-04-27T13:11:54.762Z"
   },
   {
    "duration": 11,
    "start_time": "2023-04-27T13:30:11.505Z"
   },
   {
    "duration": 19,
    "start_time": "2023-04-27T13:30:27.550Z"
   },
   {
    "duration": 23,
    "start_time": "2023-04-27T13:30:29.166Z"
   },
   {
    "duration": 16,
    "start_time": "2023-04-27T13:31:03.156Z"
   },
   {
    "duration": 198,
    "start_time": "2023-04-27T13:32:03.660Z"
   },
   {
    "duration": 12,
    "start_time": "2023-04-27T13:32:10.301Z"
   },
   {
    "duration": 7399,
    "start_time": "2023-04-27T13:32:15.867Z"
   },
   {
    "duration": 15,
    "start_time": "2023-04-27T13:32:53.399Z"
   },
   {
    "duration": 15,
    "start_time": "2023-04-27T13:33:08.267Z"
   },
   {
    "duration": 21,
    "start_time": "2023-04-27T13:38:29.452Z"
   },
   {
    "duration": 11,
    "start_time": "2023-04-27T13:38:36.783Z"
   },
   {
    "duration": 19,
    "start_time": "2023-04-27T13:39:36.614Z"
   },
   {
    "duration": 203,
    "start_time": "2023-04-27T13:39:52.261Z"
   },
   {
    "duration": 14,
    "start_time": "2023-04-27T13:39:59.025Z"
   },
   {
    "duration": 7479,
    "start_time": "2023-04-27T13:40:19.581Z"
   },
   {
    "duration": 26,
    "start_time": "2023-04-27T13:40:35.600Z"
   },
   {
    "duration": 55,
    "start_time": "2023-04-27T13:49:51.345Z"
   },
   {
    "duration": 56,
    "start_time": "2023-04-27T13:50:09.744Z"
   },
   {
    "duration": 6,
    "start_time": "2023-04-27T13:51:29.838Z"
   },
   {
    "duration": 5,
    "start_time": "2023-04-27T13:55:07.104Z"
   },
   {
    "duration": 11,
    "start_time": "2023-04-27T13:56:40.014Z"
   },
   {
    "duration": 4,
    "start_time": "2023-04-27T13:57:32.731Z"
   },
   {
    "duration": 4,
    "start_time": "2023-04-27T13:57:40.977Z"
   },
   {
    "duration": 4,
    "start_time": "2023-04-27T13:58:13.972Z"
   },
   {
    "duration": 5,
    "start_time": "2023-04-27T13:58:33.152Z"
   },
   {
    "duration": 3,
    "start_time": "2023-04-27T13:58:40.569Z"
   },
   {
    "duration": 20,
    "start_time": "2023-04-27T14:00:41.623Z"
   },
   {
    "duration": 27,
    "start_time": "2023-04-27T14:01:19.414Z"
   },
   {
    "duration": 118,
    "start_time": "2023-04-27T14:01:54.114Z"
   },
   {
    "duration": 106,
    "start_time": "2023-04-27T14:12:50.329Z"
   },
   {
    "duration": 125,
    "start_time": "2023-04-27T14:13:05.761Z"
   },
   {
    "duration": 118,
    "start_time": "2023-04-27T14:13:31.183Z"
   },
   {
    "duration": 124,
    "start_time": "2023-04-27T14:14:20.756Z"
   },
   {
    "duration": 68,
    "start_time": "2023-04-27T14:16:26.715Z"
   },
   {
    "duration": 5,
    "start_time": "2023-04-27T14:16:40.142Z"
   },
   {
    "duration": 350,
    "start_time": "2023-04-27T14:17:29.335Z"
   },
   {
    "duration": 165,
    "start_time": "2023-04-27T14:18:39.272Z"
   },
   {
    "duration": 131,
    "start_time": "2023-04-27T14:19:02.353Z"
   },
   {
    "duration": 1574,
    "start_time": "2023-04-27T14:20:58.025Z"
   },
   {
    "duration": 56,
    "start_time": "2023-04-27T14:20:59.602Z"
   },
   {
    "duration": 42,
    "start_time": "2023-04-27T14:20:59.660Z"
   },
   {
    "duration": 16,
    "start_time": "2023-04-27T14:20:59.704Z"
   },
   {
    "duration": 1816,
    "start_time": "2023-04-27T14:20:59.723Z"
   },
   {
    "duration": 891,
    "start_time": "2023-04-27T14:21:01.541Z"
   },
   {
    "duration": 4,
    "start_time": "2023-04-27T14:21:02.435Z"
   },
   {
    "duration": 18,
    "start_time": "2023-04-27T14:21:02.441Z"
   },
   {
    "duration": 43,
    "start_time": "2023-04-27T14:21:02.461Z"
   },
   {
    "duration": 17,
    "start_time": "2023-04-27T14:21:02.506Z"
   },
   {
    "duration": 24,
    "start_time": "2023-04-27T14:21:02.529Z"
   },
   {
    "duration": 28,
    "start_time": "2023-04-27T14:21:02.555Z"
   },
   {
    "duration": 65,
    "start_time": "2023-04-27T14:21:02.585Z"
   },
   {
    "duration": 5,
    "start_time": "2023-04-27T14:21:02.653Z"
   },
   {
    "duration": 169,
    "start_time": "2023-04-27T14:21:02.660Z"
   },
   {
    "duration": 17,
    "start_time": "2023-04-27T14:21:02.831Z"
   },
   {
    "duration": 39,
    "start_time": "2023-04-27T14:21:02.850Z"
   },
   {
    "duration": 143,
    "start_time": "2023-04-27T14:21:02.892Z"
   },
   {
    "duration": 363,
    "start_time": "2023-04-27T14:21:03.040Z"
   },
   {
    "duration": 15,
    "start_time": "2023-04-27T14:21:03.413Z"
   },
   {
    "duration": 8010,
    "start_time": "2023-04-27T14:21:03.430Z"
   },
   {
    "duration": 15,
    "start_time": "2023-04-27T14:21:11.442Z"
   },
   {
    "duration": 61,
    "start_time": "2023-04-27T14:21:11.459Z"
   },
   {
    "duration": 115,
    "start_time": "2023-04-27T14:21:11.524Z"
   },
   {
    "duration": 308,
    "start_time": "2023-04-27T14:21:11.719Z"
   },
   {
    "duration": 14,
    "start_time": "2023-04-27T14:21:12.028Z"
   },
   {
    "duration": 8073,
    "start_time": "2023-04-27T14:21:12.044Z"
   },
   {
    "duration": 32,
    "start_time": "2023-04-27T14:21:20.119Z"
   },
   {
    "duration": 89,
    "start_time": "2023-04-27T14:21:20.153Z"
   },
   {
    "duration": 7,
    "start_time": "2023-04-27T14:21:20.244Z"
   },
   {
    "duration": 14,
    "start_time": "2023-04-27T14:21:20.253Z"
   },
   {
    "duration": 149,
    "start_time": "2023-04-27T14:21:20.268Z"
   },
   {
    "duration": 88,
    "start_time": "2023-04-27T14:21:20.422Z"
   },
   {
    "duration": 14,
    "start_time": "2023-04-27T14:21:20.519Z"
   },
   {
    "duration": 407,
    "start_time": "2023-04-27T14:21:20.534Z"
   },
   {
    "duration": 157,
    "start_time": "2023-04-27T14:21:20.944Z"
   },
   {
    "duration": 150,
    "start_time": "2023-04-27T14:21:21.102Z"
   },
   {
    "duration": 1576,
    "start_time": "2023-04-27T14:27:02.381Z"
   },
   {
    "duration": 41,
    "start_time": "2023-04-27T14:27:03.959Z"
   },
   {
    "duration": 34,
    "start_time": "2023-04-27T14:27:04.002Z"
   },
   {
    "duration": 3,
    "start_time": "2023-04-27T14:27:04.039Z"
   },
   {
    "duration": 26,
    "start_time": "2023-04-27T14:27:04.044Z"
   },
   {
    "duration": 1680,
    "start_time": "2023-04-27T14:27:04.073Z"
   },
   {
    "duration": 945,
    "start_time": "2023-04-27T14:27:05.755Z"
   },
   {
    "duration": 6,
    "start_time": "2023-04-27T14:27:06.703Z"
   },
   {
    "duration": 34,
    "start_time": "2023-04-27T14:27:06.711Z"
   },
   {
    "duration": 14,
    "start_time": "2023-04-27T14:27:06.749Z"
   },
   {
    "duration": 21,
    "start_time": "2023-04-27T14:27:06.765Z"
   },
   {
    "duration": 56,
    "start_time": "2023-04-27T14:27:06.788Z"
   },
   {
    "duration": 41,
    "start_time": "2023-04-27T14:27:06.846Z"
   },
   {
    "duration": 7,
    "start_time": "2023-04-27T14:27:06.888Z"
   },
   {
    "duration": 134,
    "start_time": "2023-04-27T14:27:06.916Z"
   },
   {
    "duration": 15,
    "start_time": "2023-04-27T14:27:07.052Z"
   },
   {
    "duration": 51,
    "start_time": "2023-04-27T14:27:07.068Z"
   },
   {
    "duration": 116,
    "start_time": "2023-04-27T14:27:07.121Z"
   },
   {
    "duration": 307,
    "start_time": "2023-04-27T14:27:07.312Z"
   },
   {
    "duration": 13,
    "start_time": "2023-04-27T14:27:07.620Z"
   },
   {
    "duration": 7988,
    "start_time": "2023-04-27T14:27:07.635Z"
   },
   {
    "duration": 14,
    "start_time": "2023-04-27T14:27:15.625Z"
   },
   {
    "duration": 77,
    "start_time": "2023-04-27T14:27:15.641Z"
   },
   {
    "duration": 192,
    "start_time": "2023-04-27T14:27:15.720Z"
   },
   {
    "duration": 309,
    "start_time": "2023-04-27T14:27:15.913Z"
   },
   {
    "duration": 11,
    "start_time": "2023-04-27T14:27:16.228Z"
   },
   {
    "duration": 8230,
    "start_time": "2023-04-27T14:27:16.240Z"
   },
   {
    "duration": 42,
    "start_time": "2023-04-27T14:27:24.474Z"
   },
   {
    "duration": 58,
    "start_time": "2023-04-27T14:27:24.525Z"
   },
   {
    "duration": 5,
    "start_time": "2023-04-27T14:27:24.585Z"
   },
   {
    "duration": 32,
    "start_time": "2023-04-27T14:27:24.591Z"
   },
   {
    "duration": 142,
    "start_time": "2023-04-27T14:27:24.625Z"
   },
   {
    "duration": 81,
    "start_time": "2023-04-27T14:27:24.769Z"
   },
   {
    "duration": 5,
    "start_time": "2023-04-27T14:27:24.852Z"
   },
   {
    "duration": 374,
    "start_time": "2023-04-27T14:27:24.858Z"
   },
   {
    "duration": 159,
    "start_time": "2023-04-27T14:27:25.233Z"
   },
   {
    "duration": 136,
    "start_time": "2023-04-27T14:27:25.393Z"
   },
   {
    "duration": 82,
    "start_time": "2023-04-27T14:31:44.751Z"
   },
   {
    "duration": 85,
    "start_time": "2023-04-27T14:35:10.739Z"
   },
   {
    "duration": 336,
    "start_time": "2023-04-27T14:44:17.662Z"
   },
   {
    "duration": 5,
    "start_time": "2023-04-27T14:44:38.025Z"
   },
   {
    "duration": 345,
    "start_time": "2023-04-27T14:44:40.028Z"
   },
   {
    "duration": 141,
    "start_time": "2023-04-27T14:44:53.942Z"
   },
   {
    "duration": 122,
    "start_time": "2023-04-27T14:44:56.576Z"
   },
   {
    "duration": 338,
    "start_time": "2023-04-27T14:45:39.630Z"
   },
   {
    "duration": 125,
    "start_time": "2023-04-27T14:51:17.458Z"
   },
   {
    "duration": 7,
    "start_time": "2023-04-27T14:51:27.067Z"
   },
   {
    "duration": 14,
    "start_time": "2023-04-27T14:59:16.050Z"
   },
   {
    "duration": 1683,
    "start_time": "2023-04-27T15:10:55.928Z"
   },
   {
    "duration": 51,
    "start_time": "2023-04-27T15:10:57.614Z"
   },
   {
    "duration": 30,
    "start_time": "2023-04-27T15:10:57.666Z"
   },
   {
    "duration": 4,
    "start_time": "2023-04-27T15:10:57.698Z"
   },
   {
    "duration": 16,
    "start_time": "2023-04-27T15:10:57.705Z"
   },
   {
    "duration": 1865,
    "start_time": "2023-04-27T15:10:57.725Z"
   },
   {
    "duration": 953,
    "start_time": "2023-04-27T15:10:59.592Z"
   },
   {
    "duration": 7,
    "start_time": "2023-04-27T15:11:00.548Z"
   },
   {
    "duration": 107,
    "start_time": "2023-04-27T15:11:00.557Z"
   },
   {
    "duration": 36,
    "start_time": "2023-04-27T15:11:00.667Z"
   },
   {
    "duration": 50,
    "start_time": "2023-04-27T15:11:00.706Z"
   },
   {
    "duration": 88,
    "start_time": "2023-04-27T15:11:00.758Z"
   },
   {
    "duration": 75,
    "start_time": "2023-04-27T15:11:00.849Z"
   },
   {
    "duration": 21,
    "start_time": "2023-04-27T15:11:00.929Z"
   },
   {
    "duration": 220,
    "start_time": "2023-04-27T15:11:00.952Z"
   },
   {
    "duration": 16,
    "start_time": "2023-04-27T15:11:01.174Z"
   },
   {
    "duration": 70,
    "start_time": "2023-04-27T15:11:01.192Z"
   },
   {
    "duration": 180,
    "start_time": "2023-04-27T15:11:01.266Z"
   },
   {
    "duration": 453,
    "start_time": "2023-04-27T15:11:01.519Z"
   },
   {
    "duration": 14,
    "start_time": "2023-04-27T15:11:01.974Z"
   },
   {
    "duration": 8231,
    "start_time": "2023-04-27T15:11:01.991Z"
   },
   {
    "duration": 21,
    "start_time": "2023-04-27T15:11:10.225Z"
   },
   {
    "duration": 66,
    "start_time": "2023-04-27T15:11:10.248Z"
   },
   {
    "duration": 115,
    "start_time": "2023-04-27T15:11:10.317Z"
   },
   {
    "duration": 377,
    "start_time": "2023-04-27T15:11:10.434Z"
   },
   {
    "duration": 14,
    "start_time": "2023-04-27T15:11:10.814Z"
   },
   {
    "duration": 8397,
    "start_time": "2023-04-27T15:11:10.830Z"
   },
   {
    "duration": 33,
    "start_time": "2023-04-27T15:11:19.229Z"
   },
   {
    "duration": 103,
    "start_time": "2023-04-27T15:11:19.264Z"
   },
   {
    "duration": 8,
    "start_time": "2023-04-27T15:11:19.369Z"
   },
   {
    "duration": 25,
    "start_time": "2023-04-27T15:11:19.379Z"
   },
   {
    "duration": 152,
    "start_time": "2023-04-27T15:11:19.406Z"
   },
   {
    "duration": 87,
    "start_time": "2023-04-27T15:11:19.560Z"
   },
   {
    "duration": 6,
    "start_time": "2023-04-27T15:11:19.649Z"
   },
   {
    "duration": 381,
    "start_time": "2023-04-27T15:11:19.657Z"
   },
   {
    "duration": 165,
    "start_time": "2023-04-27T15:11:20.040Z"
   },
   {
    "duration": 151,
    "start_time": "2023-04-27T15:11:20.206Z"
   },
   {
    "duration": 14,
    "start_time": "2023-04-27T15:11:20.359Z"
   },
   {
    "duration": 1836,
    "start_time": "2023-04-28T08:26:30.485Z"
   },
   {
    "duration": 164,
    "start_time": "2023-04-28T08:26:32.324Z"
   },
   {
    "duration": 40,
    "start_time": "2023-04-28T08:26:32.490Z"
   },
   {
    "duration": 4,
    "start_time": "2023-04-28T08:26:32.532Z"
   },
   {
    "duration": 26,
    "start_time": "2023-04-28T08:26:32.537Z"
   },
   {
    "duration": 1682,
    "start_time": "2023-04-28T08:26:32.565Z"
   },
   {
    "duration": 983,
    "start_time": "2023-04-28T08:26:34.249Z"
   },
   {
    "duration": 5,
    "start_time": "2023-04-28T08:26:35.234Z"
   },
   {
    "duration": 55,
    "start_time": "2023-04-28T08:26:35.240Z"
   },
   {
    "duration": 11,
    "start_time": "2023-04-28T08:26:35.298Z"
   },
   {
    "duration": 37,
    "start_time": "2023-04-28T08:26:35.311Z"
   },
   {
    "duration": 31,
    "start_time": "2023-04-28T08:26:35.349Z"
   },
   {
    "duration": 44,
    "start_time": "2023-04-28T08:26:35.382Z"
   },
   {
    "duration": 5,
    "start_time": "2023-04-28T08:26:35.429Z"
   },
   {
    "duration": 152,
    "start_time": "2023-04-28T08:26:35.436Z"
   },
   {
    "duration": 26,
    "start_time": "2023-04-28T08:26:35.591Z"
   },
   {
    "duration": 26,
    "start_time": "2023-04-28T08:26:35.623Z"
   },
   {
    "duration": 167,
    "start_time": "2023-04-28T08:26:35.652Z"
   },
   {
    "duration": 390,
    "start_time": "2023-04-28T08:26:35.821Z"
   },
   {
    "duration": 21,
    "start_time": "2023-04-28T08:26:36.214Z"
   },
   {
    "duration": 7943,
    "start_time": "2023-04-28T08:26:36.237Z"
   },
   {
    "duration": 14,
    "start_time": "2023-04-28T08:26:44.181Z"
   },
   {
    "duration": 36,
    "start_time": "2023-04-28T08:26:44.196Z"
   },
   {
    "duration": 194,
    "start_time": "2023-04-28T08:26:44.233Z"
   },
   {
    "duration": 395,
    "start_time": "2023-04-28T08:26:44.430Z"
   },
   {
    "duration": 11,
    "start_time": "2023-04-28T08:26:44.827Z"
   },
   {
    "duration": 7435,
    "start_time": "2023-04-28T08:26:44.839Z"
   },
   {
    "duration": 35,
    "start_time": "2023-04-28T08:26:52.278Z"
   },
   {
    "duration": 54,
    "start_time": "2023-04-28T08:26:52.315Z"
   },
   {
    "duration": 4,
    "start_time": "2023-04-28T08:26:52.371Z"
   },
   {
    "duration": 45,
    "start_time": "2023-04-28T08:26:52.377Z"
   },
   {
    "duration": 136,
    "start_time": "2023-04-28T08:26:52.423Z"
   },
   {
    "duration": 76,
    "start_time": "2023-04-28T08:26:52.561Z"
   },
   {
    "duration": 6,
    "start_time": "2023-04-28T08:26:52.639Z"
   },
   {
    "duration": 366,
    "start_time": "2023-04-28T08:26:52.647Z"
   },
   {
    "duration": 147,
    "start_time": "2023-04-28T08:26:53.015Z"
   },
   {
    "duration": 124,
    "start_time": "2023-04-28T08:26:53.163Z"
   },
   {
    "duration": 13,
    "start_time": "2023-04-28T08:26:53.288Z"
   },
   {
    "duration": 1744,
    "start_time": "2023-04-28T09:14:33.755Z"
   },
   {
    "duration": 151,
    "start_time": "2023-04-28T09:14:35.505Z"
   },
   {
    "duration": 39,
    "start_time": "2023-04-28T09:14:35.657Z"
   },
   {
    "duration": 4,
    "start_time": "2023-04-28T09:14:35.698Z"
   },
   {
    "duration": 13,
    "start_time": "2023-04-28T09:14:35.704Z"
   },
   {
    "duration": 1573,
    "start_time": "2023-04-28T09:14:35.719Z"
   },
   {
    "duration": 844,
    "start_time": "2023-04-28T09:14:37.293Z"
   },
   {
    "duration": 4,
    "start_time": "2023-04-28T09:14:38.139Z"
   },
   {
    "duration": 25,
    "start_time": "2023-04-28T09:14:38.145Z"
   },
   {
    "duration": 17,
    "start_time": "2023-04-28T09:14:38.173Z"
   },
   {
    "duration": 22,
    "start_time": "2023-04-28T09:14:38.199Z"
   },
   {
    "duration": 30,
    "start_time": "2023-04-28T09:14:38.223Z"
   },
   {
    "duration": 78,
    "start_time": "2023-04-28T09:14:38.255Z"
   },
   {
    "duration": 7,
    "start_time": "2023-04-28T09:14:38.335Z"
   },
   {
    "duration": 163,
    "start_time": "2023-04-28T09:14:38.344Z"
   },
   {
    "duration": 16,
    "start_time": "2023-04-28T09:14:38.509Z"
   },
   {
    "duration": 69,
    "start_time": "2023-04-28T09:14:38.527Z"
   },
   {
    "duration": 110,
    "start_time": "2023-04-28T09:14:38.599Z"
   },
   {
    "duration": 362,
    "start_time": "2023-04-28T09:14:38.711Z"
   },
   {
    "duration": 16,
    "start_time": "2023-04-28T09:14:39.074Z"
   },
   {
    "duration": 7558,
    "start_time": "2023-04-28T09:14:39.102Z"
   },
   {
    "duration": 14,
    "start_time": "2023-04-28T09:14:46.662Z"
   },
   {
    "duration": 24,
    "start_time": "2023-04-28T09:14:46.686Z"
   },
   {
    "duration": 182,
    "start_time": "2023-04-28T09:14:46.712Z"
   },
   {
    "duration": 286,
    "start_time": "2023-04-28T09:14:46.895Z"
   },
   {
    "duration": 12,
    "start_time": "2023-04-28T09:14:47.185Z"
   },
   {
    "duration": 7400,
    "start_time": "2023-04-28T09:14:47.200Z"
   },
   {
    "duration": 24,
    "start_time": "2023-04-28T09:14:54.603Z"
   },
   {
    "duration": 74,
    "start_time": "2023-04-28T09:14:54.629Z"
   },
   {
    "duration": 6,
    "start_time": "2023-04-28T09:14:54.704Z"
   },
   {
    "duration": 3,
    "start_time": "2023-04-28T09:14:54.712Z"
   },
   {
    "duration": 238,
    "start_time": "2023-04-28T09:14:54.716Z"
   },
   {
    "duration": 0,
    "start_time": "2023-04-28T09:14:54.955Z"
   },
   {
    "duration": 0,
    "start_time": "2023-04-28T09:14:54.956Z"
   },
   {
    "duration": 0,
    "start_time": "2023-04-28T09:14:54.958Z"
   },
   {
    "duration": 0,
    "start_time": "2023-04-28T09:14:54.959Z"
   },
   {
    "duration": 0,
    "start_time": "2023-04-28T09:14:54.960Z"
   },
   {
    "duration": 0,
    "start_time": "2023-04-28T09:14:54.961Z"
   },
   {
    "duration": 119,
    "start_time": "2023-04-28T09:16:52.317Z"
   },
   {
    "duration": 114,
    "start_time": "2023-04-28T09:17:29.249Z"
   },
   {
    "duration": 65,
    "start_time": "2023-04-28T09:17:37.752Z"
   },
   {
    "duration": 82,
    "start_time": "2023-04-28T09:17:43.974Z"
   },
   {
    "duration": 85,
    "start_time": "2023-04-28T09:19:54.436Z"
   },
   {
    "duration": 70,
    "start_time": "2023-04-28T09:20:26.802Z"
   },
   {
    "duration": 1425,
    "start_time": "2023-04-28T09:23:05.044Z"
   },
   {
    "duration": 40,
    "start_time": "2023-04-28T09:23:06.472Z"
   },
   {
    "duration": 29,
    "start_time": "2023-04-28T09:23:06.514Z"
   },
   {
    "duration": 3,
    "start_time": "2023-04-28T09:23:06.545Z"
   },
   {
    "duration": 15,
    "start_time": "2023-04-28T09:23:06.550Z"
   },
   {
    "duration": 1533,
    "start_time": "2023-04-28T09:23:06.566Z"
   },
   {
    "duration": 824,
    "start_time": "2023-04-28T09:23:08.101Z"
   },
   {
    "duration": 4,
    "start_time": "2023-04-28T09:23:08.927Z"
   },
   {
    "duration": 25,
    "start_time": "2023-04-28T09:23:08.932Z"
   },
   {
    "duration": 9,
    "start_time": "2023-04-28T09:23:08.959Z"
   },
   {
    "duration": 20,
    "start_time": "2023-04-28T09:23:08.970Z"
   },
   {
    "duration": 26,
    "start_time": "2023-04-28T09:23:08.998Z"
   },
   {
    "duration": 36,
    "start_time": "2023-04-28T09:23:09.026Z"
   },
   {
    "duration": 5,
    "start_time": "2023-04-28T09:23:09.064Z"
   },
   {
    "duration": 148,
    "start_time": "2023-04-28T09:23:09.070Z"
   },
   {
    "duration": 14,
    "start_time": "2023-04-28T09:23:09.220Z"
   },
   {
    "duration": 56,
    "start_time": "2023-04-28T09:23:09.235Z"
   },
   {
    "duration": 106,
    "start_time": "2023-04-28T09:23:09.294Z"
   },
   {
    "duration": 368,
    "start_time": "2023-04-28T09:23:09.401Z"
   },
   {
    "duration": 25,
    "start_time": "2023-04-28T09:23:09.771Z"
   },
   {
    "duration": 7362,
    "start_time": "2023-04-28T09:23:09.798Z"
   },
   {
    "duration": 13,
    "start_time": "2023-04-28T09:23:17.161Z"
   },
   {
    "duration": 35,
    "start_time": "2023-04-28T09:23:17.175Z"
   },
   {
    "duration": 91,
    "start_time": "2023-04-28T09:23:17.212Z"
   },
   {
    "duration": 371,
    "start_time": "2023-04-28T09:23:17.307Z"
   },
   {
    "duration": 19,
    "start_time": "2023-04-28T09:23:17.680Z"
   },
   {
    "duration": 7444,
    "start_time": "2023-04-28T09:23:17.701Z"
   },
   {
    "duration": 26,
    "start_time": "2023-04-28T09:23:25.148Z"
   },
   {
    "duration": 64,
    "start_time": "2023-04-28T09:23:25.185Z"
   },
   {
    "duration": 4,
    "start_time": "2023-04-28T09:23:25.251Z"
   },
   {
    "duration": 5,
    "start_time": "2023-04-28T09:23:25.257Z"
   },
   {
    "duration": 144,
    "start_time": "2023-04-28T09:23:25.264Z"
   },
   {
    "duration": 86,
    "start_time": "2023-04-28T09:23:25.410Z"
   },
   {
    "duration": 6,
    "start_time": "2023-04-28T09:23:25.498Z"
   },
   {
    "duration": 340,
    "start_time": "2023-04-28T09:23:25.506Z"
   },
   {
    "duration": 155,
    "start_time": "2023-04-28T09:23:25.848Z"
   },
   {
    "duration": 129,
    "start_time": "2023-04-28T09:23:26.004Z"
   },
   {
    "duration": 13,
    "start_time": "2023-04-28T09:23:26.134Z"
   },
   {
    "duration": 1556,
    "start_time": "2023-04-29T09:10:39.348Z"
   },
   {
    "duration": 87,
    "start_time": "2023-04-29T09:10:40.906Z"
   },
   {
    "duration": 25,
    "start_time": "2023-04-29T09:10:40.995Z"
   },
   {
    "duration": 3,
    "start_time": "2023-04-29T09:10:41.022Z"
   },
   {
    "duration": 31,
    "start_time": "2023-04-29T09:10:41.026Z"
   },
   {
    "duration": 1251,
    "start_time": "2023-04-29T09:10:41.058Z"
   },
   {
    "duration": 833,
    "start_time": "2023-04-29T09:10:42.310Z"
   },
   {
    "duration": 5,
    "start_time": "2023-04-29T09:10:43.145Z"
   },
   {
    "duration": 24,
    "start_time": "2023-04-29T09:10:43.151Z"
   },
   {
    "duration": 9,
    "start_time": "2023-04-29T09:10:43.177Z"
   },
   {
    "duration": 18,
    "start_time": "2023-04-29T09:10:43.188Z"
   },
   {
    "duration": 24,
    "start_time": "2023-04-29T09:10:43.207Z"
   },
   {
    "duration": 65,
    "start_time": "2023-04-29T09:10:43.232Z"
   },
   {
    "duration": 5,
    "start_time": "2023-04-29T09:10:43.298Z"
   },
   {
    "duration": 129,
    "start_time": "2023-04-29T09:10:43.304Z"
   },
   {
    "duration": 12,
    "start_time": "2023-04-29T09:10:43.434Z"
   },
   {
    "duration": 41,
    "start_time": "2023-04-29T09:10:43.448Z"
   },
   {
    "duration": 188,
    "start_time": "2023-04-29T09:10:43.490Z"
   },
   {
    "duration": 371,
    "start_time": "2023-04-29T09:10:43.682Z"
   },
   {
    "duration": 18,
    "start_time": "2023-04-29T09:10:44.054Z"
   },
   {
    "duration": 6926,
    "start_time": "2023-04-29T09:10:44.073Z"
   },
   {
    "duration": 12,
    "start_time": "2023-04-29T09:10:51.001Z"
   },
   {
    "duration": 12,
    "start_time": "2023-04-29T09:10:51.015Z"
   },
   {
    "duration": 103,
    "start_time": "2023-04-29T09:10:51.072Z"
   },
   {
    "duration": 313,
    "start_time": "2023-04-29T09:10:51.177Z"
   },
   {
    "duration": 10,
    "start_time": "2023-04-29T09:10:51.491Z"
   },
   {
    "duration": 6845,
    "start_time": "2023-04-29T09:10:51.503Z"
   },
   {
    "duration": 30,
    "start_time": "2023-04-29T09:10:58.352Z"
   },
   {
    "duration": 47,
    "start_time": "2023-04-29T09:10:58.384Z"
   },
   {
    "duration": 4,
    "start_time": "2023-04-29T09:10:58.433Z"
   },
   {
    "duration": 5,
    "start_time": "2023-04-29T09:10:58.438Z"
   },
   {
    "duration": 132,
    "start_time": "2023-04-29T09:10:58.444Z"
   },
   {
    "duration": 56,
    "start_time": "2023-04-29T09:10:58.577Z"
   },
   {
    "duration": 4,
    "start_time": "2023-04-29T09:10:58.635Z"
   },
   {
    "duration": 332,
    "start_time": "2023-04-29T09:10:58.640Z"
   },
   {
    "duration": 120,
    "start_time": "2023-04-29T09:10:58.973Z"
   },
   {
    "duration": 104,
    "start_time": "2023-04-29T09:10:59.095Z"
   },
   {
    "duration": 11,
    "start_time": "2023-04-29T09:10:59.200Z"
   }
  ],
  "kernelspec": {
   "display_name": "Python 3 (ipykernel)",
   "language": "python",
   "name": "python3"
  },
  "language_info": {
   "codemirror_mode": {
    "name": "ipython",
    "version": 3
   },
   "file_extension": ".py",
   "mimetype": "text/x-python",
   "name": "python",
   "nbconvert_exporter": "python",
   "pygments_lexer": "ipython3",
   "version": "3.9.5"
  },
  "toc": {
   "base_numbering": 1,
   "nav_menu": {},
   "number_sections": true,
   "sideBar": true,
   "skip_h1_title": true,
   "title_cell": "Содержание",
   "title_sidebar": "Contents",
   "toc_cell": true,
   "toc_position": {
    "height": "calc(100% - 180px)",
    "left": "10px",
    "top": "150px",
    "width": "165px"
   },
   "toc_section_display": true,
   "toc_window_display": true
  }
 },
 "nbformat": 4,
 "nbformat_minor": 2
}
