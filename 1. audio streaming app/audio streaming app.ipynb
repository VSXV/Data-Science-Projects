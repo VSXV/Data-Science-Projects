{
 "cells": [
  {
   "cell_type": "markdown",
   "metadata": {
    "deletable": false,
    "editable": false,
    "id": "E0vqbgi9ay0H"
   },
   "source": [
    "# Audio streaming app"
   ]
  },
  {
   "cell_type": "markdown",
   "metadata": {
    "deletable": false,
    "editable": false,
    "id": "VUC88oWjTJw2"
   },
   "source": [
    "Comparison between Moscow and St. Petersburg is surrounded by myths. For example:\n",
    "\n",
    "* Moscow is a megapolis, subjected to a strict working week rhythm.\n",
    "* St. Petersburg is the cultural capital, with its own tastes.\n",
    "\n",
    "In this music application, we are comparing the behavior of users from both cities.\n",
    "\n",
    "**Research objective** - We will test three hypotheses:\n",
    "\n",
    "1. User activity depends on the day of the week, and this manifests differently in Moscow and St. Petersburg.\n",
    "2. On Monday mornings, different music genres prevail in Moscow compared to St. Petersburg. The same applies to Friday evenings - different genres dominate depending on the city.\n",
    "3. Moscow and St. Petersburg prefer different music genres. Pop music is more common in Moscow, while Russian rap is more popular in St. Petersburg.\n",
    "\n",
    "**Research process**\n",
    "\n",
    "Nothing is known about the data quality. Therefore, before testing the hypotheses, we need to review the data for errors and assess their impact on the study. \n",
    "\n",
    "Subsequently, during the data preprocessing stage, we will look for ways to rectify the most critical data errors.\n",
    "\n",
    "Hence, the study will consist of three stages:\n",
    "\n",
    "1. Data overview.\n",
    "2. Data preprocessing.\n",
    "3. Hypothesis testing."
   ]
  },
  {
   "cell_type": "markdown",
   "metadata": {
    "deletable": false,
    "editable": false,
    "id": "Ml1hmfXC_Zcs"
   },
   "source": [
    "## Review of data"
   ]
  },
  {
   "cell_type": "code",
   "execution_count": 113,
   "metadata": {
    "deletable": false,
    "id": "AXN7PHPN_Zcs"
   },
   "outputs": [],
   "source": [
    "import pandas as pd"
   ]
  },
  {
   "cell_type": "code",
   "execution_count": 114,
   "metadata": {
    "deletable": false,
    "id": "fFVu7vqh_Zct"
   },
   "outputs": [],
   "source": [
    "df = pd.read_csv('...')"
   ]
  },
  {
   "cell_type": "code",
   "execution_count": 115,
   "metadata": {
    "deletable": false,
    "id": "oWTVX3gW_Zct"
   },
   "outputs": [
    {
     "data": {
      "text/html": [
       "<div>\n",
       "<style scoped>\n",
       "    .dataframe tbody tr th:only-of-type {\n",
       "        vertical-align: middle;\n",
       "    }\n",
       "\n",
       "    .dataframe tbody tr th {\n",
       "        vertical-align: top;\n",
       "    }\n",
       "\n",
       "    .dataframe thead th {\n",
       "        text-align: right;\n",
       "    }\n",
       "</style>\n",
       "<table border=\"1\" class=\"dataframe\">\n",
       "  <thead>\n",
       "    <tr style=\"text-align: right;\">\n",
       "      <th></th>\n",
       "      <th>userID</th>\n",
       "      <th>Track</th>\n",
       "      <th>artist</th>\n",
       "      <th>genre</th>\n",
       "      <th>City</th>\n",
       "      <th>time</th>\n",
       "      <th>Day</th>\n",
       "    </tr>\n",
       "  </thead>\n",
       "  <tbody>\n",
       "    <tr>\n",
       "      <th>0</th>\n",
       "      <td>FFB692EC</td>\n",
       "      <td>Kamigata To Boots</td>\n",
       "      <td>The Mass Missile</td>\n",
       "      <td>rock</td>\n",
       "      <td>Saint-Petersburg</td>\n",
       "      <td>20:28:33</td>\n",
       "      <td>Wednesday</td>\n",
       "    </tr>\n",
       "    <tr>\n",
       "      <th>1</th>\n",
       "      <td>55204538</td>\n",
       "      <td>Delayed Because of Accident</td>\n",
       "      <td>Andreas Rönnberg</td>\n",
       "      <td>rock</td>\n",
       "      <td>Moscow</td>\n",
       "      <td>14:07:09</td>\n",
       "      <td>Friday</td>\n",
       "    </tr>\n",
       "    <tr>\n",
       "      <th>2</th>\n",
       "      <td>20EC38</td>\n",
       "      <td>Funiculì funiculà</td>\n",
       "      <td>Mario Lanza</td>\n",
       "      <td>pop</td>\n",
       "      <td>Saint-Petersburg</td>\n",
       "      <td>20:58:07</td>\n",
       "      <td>Wednesday</td>\n",
       "    </tr>\n",
       "    <tr>\n",
       "      <th>3</th>\n",
       "      <td>A3DD03C9</td>\n",
       "      <td>Dragons in the Sunset</td>\n",
       "      <td>Fire + Ice</td>\n",
       "      <td>folk</td>\n",
       "      <td>Saint-Petersburg</td>\n",
       "      <td>08:37:09</td>\n",
       "      <td>Monday</td>\n",
       "    </tr>\n",
       "    <tr>\n",
       "      <th>4</th>\n",
       "      <td>E2DC1FAE</td>\n",
       "      <td>Soul People</td>\n",
       "      <td>Space Echo</td>\n",
       "      <td>dance</td>\n",
       "      <td>Moscow</td>\n",
       "      <td>08:34:34</td>\n",
       "      <td>Monday</td>\n",
       "    </tr>\n",
       "    <tr>\n",
       "      <th>5</th>\n",
       "      <td>842029A1</td>\n",
       "      <td>Преданная</td>\n",
       "      <td>IMPERVTOR</td>\n",
       "      <td>rusrap</td>\n",
       "      <td>Saint-Petersburg</td>\n",
       "      <td>13:09:41</td>\n",
       "      <td>Friday</td>\n",
       "    </tr>\n",
       "    <tr>\n",
       "      <th>6</th>\n",
       "      <td>4CB90AA5</td>\n",
       "      <td>True</td>\n",
       "      <td>Roman Messer</td>\n",
       "      <td>dance</td>\n",
       "      <td>Moscow</td>\n",
       "      <td>13:00:07</td>\n",
       "      <td>Wednesday</td>\n",
       "    </tr>\n",
       "    <tr>\n",
       "      <th>7</th>\n",
       "      <td>F03E1C1F</td>\n",
       "      <td>Feeling This Way</td>\n",
       "      <td>Polina Griffith</td>\n",
       "      <td>dance</td>\n",
       "      <td>Moscow</td>\n",
       "      <td>20:47:49</td>\n",
       "      <td>Wednesday</td>\n",
       "    </tr>\n",
       "    <tr>\n",
       "      <th>8</th>\n",
       "      <td>8FA1D3BE</td>\n",
       "      <td>И вновь продолжается бой</td>\n",
       "      <td>NaN</td>\n",
       "      <td>ruspop</td>\n",
       "      <td>Moscow</td>\n",
       "      <td>09:17:40</td>\n",
       "      <td>Friday</td>\n",
       "    </tr>\n",
       "    <tr>\n",
       "      <th>9</th>\n",
       "      <td>E772D5C0</td>\n",
       "      <td>Pessimist</td>\n",
       "      <td>NaN</td>\n",
       "      <td>dance</td>\n",
       "      <td>Saint-Petersburg</td>\n",
       "      <td>21:20:49</td>\n",
       "      <td>Wednesday</td>\n",
       "    </tr>\n",
       "  </tbody>\n",
       "</table>\n",
       "</div>"
      ],
      "text/plain": [
       "     userID                        Track            artist   genre  \\\n",
       "0  FFB692EC            Kamigata To Boots  The Mass Missile    rock   \n",
       "1  55204538  Delayed Because of Accident  Andreas Rönnberg    rock   \n",
       "2    20EC38            Funiculì funiculà       Mario Lanza     pop   \n",
       "3  A3DD03C9        Dragons in the Sunset        Fire + Ice    folk   \n",
       "4  E2DC1FAE                  Soul People        Space Echo   dance   \n",
       "5  842029A1                    Преданная         IMPERVTOR  rusrap   \n",
       "6  4CB90AA5                         True      Roman Messer   dance   \n",
       "7  F03E1C1F             Feeling This Way   Polina Griffith   dance   \n",
       "8  8FA1D3BE     И вновь продолжается бой               NaN  ruspop   \n",
       "9  E772D5C0                    Pessimist               NaN   dance   \n",
       "\n",
       "             City        time        Day  \n",
       "0  Saint-Petersburg  20:28:33  Wednesday  \n",
       "1            Moscow  14:07:09     Friday  \n",
       "2  Saint-Petersburg  20:58:07  Wednesday  \n",
       "3  Saint-Petersburg  08:37:09     Monday  \n",
       "4            Moscow  08:34:34     Monday  \n",
       "5  Saint-Petersburg  13:09:41     Friday  \n",
       "6            Moscow  13:00:07  Wednesday  \n",
       "7            Moscow  20:47:49  Wednesday  \n",
       "8            Moscow  09:17:40     Friday  \n",
       "9  Saint-Petersburg  21:20:49  Wednesday  "
      ]
     },
     "execution_count": 115,
     "metadata": {},
     "output_type": "execute_result"
    }
   ],
   "source": [
    "df.head(10)"
   ]
  },
  {
   "cell_type": "code",
   "execution_count": 116,
   "metadata": {
    "deletable": false,
    "id": "DSf2kIb-_Zct"
   },
   "outputs": [
    {
     "name": "stdout",
     "output_type": "stream",
     "text": [
      "<class 'pandas.core.frame.DataFrame'>\n",
      "RangeIndex: 65079 entries, 0 to 65078\n",
      "Data columns (total 7 columns):\n",
      " #   Column    Non-Null Count  Dtype \n",
      "---  ------    --------------  ----- \n",
      " 0     userID  65079 non-null  object\n",
      " 1   Track     63848 non-null  object\n",
      " 2   artist    57876 non-null  object\n",
      " 3   genre     63881 non-null  object\n",
      " 4     City    65079 non-null  object\n",
      " 5   time      65079 non-null  object\n",
      " 6   Day       65079 non-null  object\n",
      "dtypes: object(7)\n",
      "memory usage: 3.5+ MB\n"
     ]
    }
   ],
   "source": [
    "df.info()"
   ]
  },
  {
   "cell_type": "markdown",
   "metadata": {
    "deletable": false,
    "editable": false,
    "id": "TaQ2Iwbr_Zct"
   },
   "source": [
    "Alright, there are seven columns in the table. The data type in all columns is object.\n",
    "\n",
    "According to the data documentation:\n",
    "\n",
    "* userID - User identifier.\n",
    "* Track - Track name.\n",
    "* artist - Artist name.\n",
    "* genre - Genre name.\n",
    "* City - User's city.\n",
    "* time - Start time of listening.\n",
    "* Day - Day of the week.\n",
    "\n",
    "The number of values in the columns varies, indicating that there are missing values in the data."
   ]
  },
  {
   "cell_type": "markdown",
   "metadata": {
    "deletable": false,
    "editable": false,
    "id": "rAfziTBDmf2h",
    "tags": [
     "start_task"
    ]
   },
   "source": [
    "In the column titles you can see style violations:\n",
    "* Lower case letters are combined with upper case letters.\n",
    "* Gaps encountered"
   ]
  },
  {
   "cell_type": "markdown",
   "metadata": {
    "deletable": false,
    "editable": false,
    "id": "MCB6-dXG_Zct"
   },
   "source": [
    "**Conclusions**\n",
    "\n",
    "In each row of the table - data about the listened track. Part of the columns describes the composition itself: name, artist and genre. The rest of the data tells about the user: from what city he was listening to music. \n",
    "\n",
    "It can be provisionally argued that the data are sufficient to test hypotheses. But there are omissions in the data, and in the titles of the columns - differences with a good style.\n",
    "\n",
    "To move forward, we need to fix data problems."
   ]
  },
  {
   "cell_type": "markdown",
   "metadata": {
    "deletable": false,
    "editable": false,
    "id": "SjYF6Ub9_Zct"
   },
   "source": [
    "## Data Preparation"
   ]
  },
  {
   "cell_type": "markdown",
   "metadata": {
    "deletable": false,
    "editable": false,
    "id": "dIaKXr29_Zct",
    "tags": [
     "start_task"
    ]
   },
   "source": [
    "### Columns names style"
   ]
  },
  {
   "cell_type": "code",
   "execution_count": 118,
   "metadata": {
    "deletable": false,
    "id": "oKOTdF_Q_Zct"
   },
   "outputs": [
    {
     "data": {
      "text/plain": [
       "Index(['  userID', 'Track', 'artist', 'genre', '  City  ', 'time', 'Day'], dtype='object')"
      ]
     },
     "execution_count": 118,
     "metadata": {},
     "output_type": "execute_result"
    }
   ],
   "source": [
    "df.columns"
   ]
  },
  {
   "cell_type": "code",
   "execution_count": 119,
   "metadata": {
    "deletable": false,
    "id": "ISlFqs5y_Zct"
   },
   "outputs": [],
   "source": [
    "df = df.rename(\n",
    "    columns={\n",
    "    '  userID': 'user_id',\n",
    "    'Track': 'track',\n",
    "    '  City  ': 'city',\n",
    "    'Day': 'day'\n",
    "    }\n",
    ")"
   ]
  },
  {
   "cell_type": "code",
   "execution_count": 120,
   "metadata": {
    "deletable": false,
    "id": "d4NOAmTW_Zct"
   },
   "outputs": [
    {
     "data": {
      "text/plain": [
       "Index(['user_id', 'track', 'artist', 'genre', 'city', 'time', 'day'], dtype='object')"
      ]
     },
     "execution_count": 120,
     "metadata": {},
     "output_type": "execute_result"
    }
   ],
   "source": [
    "df.columns"
   ]
  },
  {
   "cell_type": "markdown",
   "metadata": {
    "deletable": false,
    "editable": false,
    "id": "5ISfbcfY_Zct",
    "tags": [
     "start_task"
    ]
   },
   "source": [
    "### Missed values  "
   ]
  },
  {
   "cell_type": "code",
   "execution_count": 121,
   "metadata": {
    "deletable": false,
    "id": "RskX29qr_Zct"
   },
   "outputs": [
    {
     "data": {
      "text/plain": [
       "user_id       0\n",
       "track      1231\n",
       "artist     7203\n",
       "genre      1198\n",
       "city          0\n",
       "time          0\n",
       "day           0\n",
       "dtype: int64"
      ]
     },
     "execution_count": 121,
     "metadata": {},
     "output_type": "execute_result"
    }
   ],
   "source": [
    "df.isna().sum()"
   ]
  },
  {
   "cell_type": "code",
   "execution_count": 122,
   "metadata": {
    "deletable": false,
    "id": "KplB5qWs_Zct"
   },
   "outputs": [],
   "source": [
    "columns_to_replace = ['track', 'artist', 'genre']\n",
    "for column in columns_to_replace:\n",
    "    df[column] = df[column].fillna('unknown')"
   ]
  },
  {
   "cell_type": "code",
   "execution_count": 123,
   "metadata": {
    "deletable": false,
    "id": "Tq4nYRX4_Zct"
   },
   "outputs": [
    {
     "data": {
      "text/plain": [
       "user_id    0\n",
       "track      0\n",
       "artist     0\n",
       "genre      0\n",
       "city       0\n",
       "time       0\n",
       "day        0\n",
       "dtype: int64"
      ]
     },
     "execution_count": 123,
     "metadata": {},
     "output_type": "execute_result"
    }
   ],
   "source": [
    "df.isna().sum()"
   ]
  },
  {
   "cell_type": "markdown",
   "metadata": {
    "deletable": false,
    "editable": false,
    "id": "BWKRtBJ3_Zct",
    "tags": [
     "start_task"
    ]
   },
   "source": [
    "### Duplicates"
   ]
  },
  {
   "cell_type": "code",
   "execution_count": 124,
   "metadata": {
    "deletable": false,
    "id": "36eES_S0_Zct"
   },
   "outputs": [
    {
     "data": {
      "text/plain": [
       "3826"
      ]
     },
     "execution_count": 124,
     "metadata": {},
     "output_type": "execute_result"
    }
   ],
   "source": [
    "df.duplicated().sum()"
   ]
  },
  {
   "cell_type": "code",
   "execution_count": 125,
   "metadata": {
    "deletable": false,
    "id": "exFHq6tt_Zct"
   },
   "outputs": [],
   "source": [
    "df = df.drop_duplicates()"
   ]
  },
  {
   "cell_type": "code",
   "execution_count": 126,
   "metadata": {
    "deletable": false,
    "id": "-8PuNWQ0_Zct"
   },
   "outputs": [
    {
     "data": {
      "text/plain": [
       "0"
      ]
     },
     "execution_count": 126,
     "metadata": {},
     "output_type": "execute_result"
    }
   ],
   "source": [
    "df.duplicated().sum()"
   ]
  },
  {
   "cell_type": "code",
   "execution_count": 127,
   "metadata": {
    "deletable": false,
    "id": "JIUcqzZN_Zct"
   },
   "outputs": [
    {
     "data": {
      "text/plain": [
       "array(['acid', 'acoustic', 'action', 'adult', 'africa', 'afrikaans',\n",
       "       'alternative', 'alternativepunk', 'ambient', 'americana',\n",
       "       'animated', 'anime', 'arabesk', 'arabic', 'arena',\n",
       "       'argentinetango', 'art', 'audiobook', 'author', 'avantgarde',\n",
       "       'axé', 'baile', 'balkan', 'beats', 'bigroom', 'black', 'bluegrass',\n",
       "       'blues', 'bollywood', 'bossa', 'brazilian', 'breakbeat', 'breaks',\n",
       "       'broadway', 'cantautori', 'cantopop', 'canzone', 'caribbean',\n",
       "       'caucasian', 'celtic', 'chamber', 'chanson', 'children', 'chill',\n",
       "       'chinese', 'choral', 'christian', 'christmas', 'classical',\n",
       "       'classicmetal', 'club', 'colombian', 'comedy', 'conjazz',\n",
       "       'contemporary', 'country', 'cuban', 'dance', 'dancehall',\n",
       "       'dancepop', 'dark', 'death', 'deep', 'deutschrock', 'deutschspr',\n",
       "       'dirty', 'disco', 'dnb', 'documentary', 'downbeat', 'downtempo',\n",
       "       'drum', 'dub', 'dubstep', 'eastern', 'easy', 'electronic',\n",
       "       'electropop', 'emo', 'entehno', 'epicmetal', 'estrada', 'ethnic',\n",
       "       'eurofolk', 'european', 'experimental', 'extrememetal', 'fado',\n",
       "       'fairytail', 'film', 'fitness', 'flamenco', 'folk', 'folklore',\n",
       "       'folkmetal', 'folkrock', 'folktronica', 'forró', 'frankreich',\n",
       "       'französisch', 'french', 'funk', 'future', 'gangsta', 'garage',\n",
       "       'german', 'ghazal', 'gitarre', 'glitch', 'gospel', 'gothic',\n",
       "       'grime', 'grunge', 'gypsy', 'handsup', \"hard'n'heavy\", 'hardcore',\n",
       "       'hardstyle', 'hardtechno', 'hip', 'hip-hop', 'hiphop',\n",
       "       'historisch', 'holiday', 'hop', 'horror', 'house', 'hymn', 'idm',\n",
       "       'independent', 'indian', 'indie', 'indipop', 'industrial',\n",
       "       'inspirational', 'instrumental', 'international', 'irish', 'jam',\n",
       "       'japanese', 'jazz', 'jewish', 'jpop', 'jungle', 'k-pop',\n",
       "       'karadeniz', 'karaoke', 'kayokyoku', 'korean', 'laiko', 'latin',\n",
       "       'latino', 'leftfield', 'local', 'lounge', 'loungeelectronic',\n",
       "       'lovers', 'malaysian', 'mandopop', 'marschmusik', 'meditative',\n",
       "       'mediterranean', 'melodic', 'metal', 'metalcore', 'mexican',\n",
       "       'middle', 'minimal', 'miscellaneous', 'modern', 'mood', 'mpb',\n",
       "       'muslim', 'native', 'neoklassik', 'neue', 'new', 'newage',\n",
       "       'newwave', 'nu', 'nujazz', 'numetal', 'oceania', 'old', 'opera',\n",
       "       'orchestral', 'other', 'piano', 'podcasts', 'pop', 'popdance',\n",
       "       'popelectronic', 'popeurodance', 'poprussian', 'post',\n",
       "       'posthardcore', 'postrock', 'power', 'progmetal', 'progressive',\n",
       "       'psychedelic', 'punjabi', 'punk', 'quebecois', 'ragga', 'ram',\n",
       "       'rancheras', 'rap', 'rave', 'reggae', 'reggaeton', 'regional',\n",
       "       'relax', 'religious', 'retro', 'rhythm', 'rnb', 'rnr', 'rock',\n",
       "       'rockabilly', 'rockalternative', 'rockindie', 'rockother',\n",
       "       'romance', 'roots', 'ruspop', 'rusrap', 'rusrock', 'russian',\n",
       "       'salsa', 'samba', 'scenic', 'schlager', 'self', 'sertanejo',\n",
       "       'shanson', 'shoegazing', 'showtunes', 'singer', 'ska', 'skarock',\n",
       "       'slow', 'smooth', 'soft', 'soul', 'soulful', 'sound', 'soundtrack',\n",
       "       'southern', 'specialty', 'speech', 'spiritual', 'sport',\n",
       "       'stonerrock', 'surf', 'swing', 'synthpop', 'synthrock',\n",
       "       'sängerportrait', 'tango', 'tanzorchester', 'taraftar', 'tatar',\n",
       "       'tech', 'techno', 'teen', 'thrash', 'top', 'traditional',\n",
       "       'tradjazz', 'trance', 'tribal', 'trip', 'triphop', 'tropical',\n",
       "       'türk', 'türkçe', 'ukrrock', 'unknown', 'urban', 'uzbek',\n",
       "       'variété', 'vi', 'videogame', 'vocal', 'western', 'world',\n",
       "       'worldbeat', 'ïîï', 'электроника'], dtype=object)"
      ]
     },
     "execution_count": 127,
     "metadata": {},
     "output_type": "execute_result"
    }
   ],
   "source": [
    "df['genre'].sort_values().unique()"
   ]
  },
  {
   "cell_type": "code",
   "execution_count": 128,
   "metadata": {
    "deletable": false,
    "id": "ErNDkmns_Zct"
   },
   "outputs": [],
   "source": [
    "df = df.replace('hip', 'hiphop')\n",
    "df = df.replace('hop', 'hiphop')\n",
    "df = df.replace('hip-hop', 'hiphop')"
   ]
  },
  {
   "cell_type": "code",
   "execution_count": 129,
   "metadata": {
    "deletable": false,
    "id": "wvixALnFG15m"
   },
   "outputs": [
    {
     "data": {
      "text/plain": [
       "array(['acid', 'acoustic', 'action', 'adult', 'africa', 'afrikaans',\n",
       "       'alternative', 'alternativepunk', 'ambient', 'americana',\n",
       "       'animated', 'anime', 'arabesk', 'arabic', 'arena',\n",
       "       'argentinetango', 'art', 'audiobook', 'author', 'avantgarde',\n",
       "       'axé', 'baile', 'balkan', 'beats', 'bigroom', 'black', 'bluegrass',\n",
       "       'blues', 'bollywood', 'bossa', 'brazilian', 'breakbeat', 'breaks',\n",
       "       'broadway', 'cantautori', 'cantopop', 'canzone', 'caribbean',\n",
       "       'caucasian', 'celtic', 'chamber', 'chanson', 'children', 'chill',\n",
       "       'chinese', 'choral', 'christian', 'christmas', 'classical',\n",
       "       'classicmetal', 'club', 'colombian', 'comedy', 'conjazz',\n",
       "       'contemporary', 'country', 'cuban', 'dance', 'dancehall',\n",
       "       'dancepop', 'dark', 'death', 'deep', 'deutschrock', 'deutschspr',\n",
       "       'dirty', 'disco', 'dnb', 'documentary', 'downbeat', 'downtempo',\n",
       "       'drum', 'dub', 'dubstep', 'eastern', 'easy', 'electronic',\n",
       "       'electropop', 'emo', 'entehno', 'epicmetal', 'estrada', 'ethnic',\n",
       "       'eurofolk', 'european', 'experimental', 'extrememetal', 'fado',\n",
       "       'fairytail', 'film', 'fitness', 'flamenco', 'folk', 'folklore',\n",
       "       'folkmetal', 'folkrock', 'folktronica', 'forró', 'frankreich',\n",
       "       'französisch', 'french', 'funk', 'future', 'gangsta', 'garage',\n",
       "       'german', 'ghazal', 'gitarre', 'glitch', 'gospel', 'gothic',\n",
       "       'grime', 'grunge', 'gypsy', 'handsup', \"hard'n'heavy\", 'hardcore',\n",
       "       'hardstyle', 'hardtechno', 'hiphop', 'historisch', 'holiday',\n",
       "       'horror', 'house', 'hymn', 'idm', 'independent', 'indian', 'indie',\n",
       "       'indipop', 'industrial', 'inspirational', 'instrumental',\n",
       "       'international', 'irish', 'jam', 'japanese', 'jazz', 'jewish',\n",
       "       'jpop', 'jungle', 'k-pop', 'karadeniz', 'karaoke', 'kayokyoku',\n",
       "       'korean', 'laiko', 'latin', 'latino', 'leftfield', 'local',\n",
       "       'lounge', 'loungeelectronic', 'lovers', 'malaysian', 'mandopop',\n",
       "       'marschmusik', 'meditative', 'mediterranean', 'melodic', 'metal',\n",
       "       'metalcore', 'mexican', 'middle', 'minimal', 'miscellaneous',\n",
       "       'modern', 'mood', 'mpb', 'muslim', 'native', 'neoklassik', 'neue',\n",
       "       'new', 'newage', 'newwave', 'nu', 'nujazz', 'numetal', 'oceania',\n",
       "       'old', 'opera', 'orchestral', 'other', 'piano', 'podcasts', 'pop',\n",
       "       'popdance', 'popelectronic', 'popeurodance', 'poprussian', 'post',\n",
       "       'posthardcore', 'postrock', 'power', 'progmetal', 'progressive',\n",
       "       'psychedelic', 'punjabi', 'punk', 'quebecois', 'ragga', 'ram',\n",
       "       'rancheras', 'rap', 'rave', 'reggae', 'reggaeton', 'regional',\n",
       "       'relax', 'religious', 'retro', 'rhythm', 'rnb', 'rnr', 'rock',\n",
       "       'rockabilly', 'rockalternative', 'rockindie', 'rockother',\n",
       "       'romance', 'roots', 'ruspop', 'rusrap', 'rusrock', 'russian',\n",
       "       'salsa', 'samba', 'scenic', 'schlager', 'self', 'sertanejo',\n",
       "       'shanson', 'shoegazing', 'showtunes', 'singer', 'ska', 'skarock',\n",
       "       'slow', 'smooth', 'soft', 'soul', 'soulful', 'sound', 'soundtrack',\n",
       "       'southern', 'specialty', 'speech', 'spiritual', 'sport',\n",
       "       'stonerrock', 'surf', 'swing', 'synthpop', 'synthrock',\n",
       "       'sängerportrait', 'tango', 'tanzorchester', 'taraftar', 'tatar',\n",
       "       'tech', 'techno', 'teen', 'thrash', 'top', 'traditional',\n",
       "       'tradjazz', 'trance', 'tribal', 'trip', 'triphop', 'tropical',\n",
       "       'türk', 'türkçe', 'ukrrock', 'unknown', 'urban', 'uzbek',\n",
       "       'variété', 'vi', 'videogame', 'vocal', 'western', 'world',\n",
       "       'worldbeat', 'ïîï', 'электроника'], dtype=object)"
      ]
     },
     "execution_count": 129,
     "metadata": {},
     "output_type": "execute_result"
    }
   ],
   "source": [
    "df['genre'].sort_values().unique()"
   ]
  },
  {
   "cell_type": "markdown",
   "metadata": {
    "deletable": false,
    "editable": false,
    "id": "jz6a9-7HQUDd"
   },
   "source": [
    "**Conclusions**\n",
    "\n",
    "The data preprocessing revealed three issues in the dataset:\n",
    "\n",
    "- Violations in the header style.\n",
    "- Missing values.\n",
    "- Explicit and implicit duplicates.\n",
    "\n",
    "We fixed the headers to simplify working with the table, and the removal of duplicates will make the research more accurate.\n",
    "\n",
    "We replaced missing values with 'unknown'. However, we still need to assess whether the missing values in the 'genre' column will affect the research.\n",
    "\n",
    "Now we can proceed with hypothesis testing."
   ]
  },
  {
   "cell_type": "markdown",
   "metadata": {
    "deletable": false,
    "editable": false,
    "id": "WttZHXH0SqKk"
   },
   "source": [
    "## Hypothesis Check"
   ]
  },
  {
   "cell_type": "markdown",
   "metadata": {
    "deletable": false,
    "editable": false,
    "id": "Im936VVi_Zcu"
   },
   "source": [
    "### Comparison of user behavior between two cities"
   ]
  },
  {
   "cell_type": "markdown",
   "metadata": {
    "deletable": false,
    "editable": false,
    "id": "nwt_MuaL_Zcu"
   },
   "source": [
    "The first hypothesis states that users listen to music in different ways in Moscow and Saint Petersburg. Check this assumption for three days of the week - Monday, Wednesday and Friday. To do this:\n",
    "\n",
    "* Let’s divide users of Moscow and Saint Petersburg.\n",
    "* Compare how many tracks each group of users listened to on Monday, Wednesday and Friday.\n"
   ]
  },
  {
   "cell_type": "code",
   "execution_count": 130,
   "metadata": {
    "deletable": false,
    "id": "0_Qs96oh_Zcu"
   },
   "outputs": [
    {
     "data": {
      "text/plain": [
       "city\n",
       "Moscow              42741\n",
       "Saint-Petersburg    18512\n",
       "Name: user_id, dtype: int64"
      ]
     },
     "execution_count": 130,
     "metadata": {},
     "output_type": "execute_result"
    }
   ],
   "source": [
    "df.groupby(by='city')['user_id'].count()"
   ]
  },
  {
   "cell_type": "markdown",
   "metadata": {
    "deletable": false,
    "editable": false,
    "id": "dzli3w8o_Zcu",
    "tags": [
     "start_task"
    ]
   },
   "source": [
    "There are more auditions in Moscow than in St. Petersburg. Just more users in Moscow."
   ]
  },
  {
   "cell_type": "code",
   "execution_count": 131,
   "metadata": {
    "deletable": false,
    "id": "uZMKjiJz_Zcu"
   },
   "outputs": [
    {
     "data": {
      "text/plain": [
       "day\n",
       "Friday       21840\n",
       "Monday       21354\n",
       "Wednesday    18059\n",
       "Name: user_id, dtype: int64"
      ]
     },
     "execution_count": 131,
     "metadata": {},
     "output_type": "execute_result"
    }
   ],
   "source": [
    "df.groupby(by='day')['user_id'].count()"
   ]
  },
  {
   "cell_type": "markdown",
   "metadata": {
    "deletable": false,
    "editable": false,
    "id": "cC2tNrlL_Zcu"
   },
   "source": [
    "On average, users from two cities are less active on Wednesdays. But the picture may change if you consider each city separately."
   ]
  },
  {
   "cell_type": "code",
   "execution_count": null,
   "metadata": {
    "deletable": false,
    "id": "Nz3GdQB1_Zcu"
   },
   "outputs": [],
   "source": [
    "# <Creating the function number_tracks()>\n",
    "# A function is declared with two parameters: day and city.\n",
    "# In the variable track_list, the function stores the rows from the df table\n",
    "# where the value in the 'day' column equals the parameter day and simultaneously\n",
    "# the value in the 'city' column equals the parameter city (use sequential filtering\n",
    "# with logical indexing or complex logical expressions in one line if you are already familiar with them).\n",
    "# The variable track_list_count stores the number of values in the 'user_id' column,\n",
    "# calculated using the count() method for the track_list table.\n",
    "# The function returns the number of values in track_list.\n",
    "# Function for counting track plays for a specific city and day.\n",
    "# Using sequential filtering with logical indexing, it first retrieves the rows with the required day\n",
    "# from the original table. Then, it further filters the result to include only the rows with the required city.\n",
    "# It uses the count() method to calculate the number of values in the 'user_id' column.\n",
    "# The function returns this count as the result.\n",
    "def number_tracks(day, city):\n",
    "    track_list = df[df['day'] == day]\n",
    "    track_list = track_list[track_list['city'] == city]\n",
    "    track_list_count = track_list['user_id'].count()\n",
    "    return track_list_count"
   ]
  },
  {
   "cell_type": "code",
   "execution_count": 133,
   "metadata": {
    "deletable": false,
    "id": "rJcRATNQ_Zcu"
   },
   "outputs": [
    {
     "data": {
      "text/plain": [
       "15740"
      ]
     },
     "execution_count": 133,
     "metadata": {},
     "output_type": "execute_result"
    }
   ],
   "source": [
    "number_tracks('Monday', 'Moscow')"
   ]
  },
  {
   "cell_type": "code",
   "execution_count": 134,
   "metadata": {
    "deletable": false,
    "id": "hq_ncZ5T_Zcu"
   },
   "outputs": [
    {
     "data": {
      "text/plain": [
       "5614"
      ]
     },
     "execution_count": 134,
     "metadata": {},
     "output_type": "execute_result"
    }
   ],
   "source": [
    "number_tracks('Monday', 'Saint-Petersburg')"
   ]
  },
  {
   "cell_type": "code",
   "execution_count": 135,
   "metadata": {
    "deletable": false,
    "id": "_NTy2VPU_Zcu"
   },
   "outputs": [
    {
     "data": {
      "text/plain": [
       "11056"
      ]
     },
     "execution_count": 135,
     "metadata": {},
     "output_type": "execute_result"
    }
   ],
   "source": [
    "number_tracks('Wednesday', 'Moscow')"
   ]
  },
  {
   "cell_type": "code",
   "execution_count": 136,
   "metadata": {
    "deletable": false,
    "id": "j2y3TAwo_Zcu"
   },
   "outputs": [
    {
     "data": {
      "text/plain": [
       "7003"
      ]
     },
     "execution_count": 136,
     "metadata": {},
     "output_type": "execute_result"
    }
   ],
   "source": [
    "number_tracks('Wednesday', 'Saint-Petersburg')"
   ]
  },
  {
   "cell_type": "code",
   "execution_count": 137,
   "metadata": {
    "deletable": false,
    "id": "vYDw5u_K_Zcu"
   },
   "outputs": [
    {
     "data": {
      "text/plain": [
       "15945"
      ]
     },
     "execution_count": 137,
     "metadata": {},
     "output_type": "execute_result"
    }
   ],
   "source": [
    "number_tracks('Friday', 'Moscow')"
   ]
  },
  {
   "cell_type": "code",
   "execution_count": 138,
   "metadata": {
    "deletable": false,
    "id": "8_yzFtW3_Zcu"
   },
   "outputs": [
    {
     "data": {
      "text/plain": [
       "5895"
      ]
     },
     "execution_count": 138,
     "metadata": {},
     "output_type": "execute_result"
    }
   ],
   "source": [
    "number_tracks('Friday', 'Saint-Petersburg')"
   ]
  },
  {
   "cell_type": "code",
   "execution_count": 139,
   "metadata": {
    "deletable": false,
    "id": "APAcLpOr_Zcu"
   },
   "outputs": [
    {
     "data": {
      "text/html": [
       "<div>\n",
       "<style scoped>\n",
       "    .dataframe tbody tr th:only-of-type {\n",
       "        vertical-align: middle;\n",
       "    }\n",
       "\n",
       "    .dataframe tbody tr th {\n",
       "        vertical-align: top;\n",
       "    }\n",
       "\n",
       "    .dataframe thead th {\n",
       "        text-align: right;\n",
       "    }\n",
       "</style>\n",
       "<table border=\"1\" class=\"dataframe\">\n",
       "  <thead>\n",
       "    <tr style=\"text-align: right;\">\n",
       "      <th></th>\n",
       "      <th>city</th>\n",
       "      <th>monday</th>\n",
       "      <th>wednesday</th>\n",
       "      <th>friday</th>\n",
       "    </tr>\n",
       "  </thead>\n",
       "  <tbody>\n",
       "    <tr>\n",
       "      <th>0</th>\n",
       "      <td>Moscow</td>\n",
       "      <td>15740</td>\n",
       "      <td>11056</td>\n",
       "      <td>15945</td>\n",
       "    </tr>\n",
       "    <tr>\n",
       "      <th>1</th>\n",
       "      <td>Saint-Petersburg</td>\n",
       "      <td>5614</td>\n",
       "      <td>7003</td>\n",
       "      <td>5895</td>\n",
       "    </tr>\n",
       "  </tbody>\n",
       "</table>\n",
       "</div>"
      ],
      "text/plain": [
       "               city  monday  wednesday  friday\n",
       "0            Moscow   15740      11056   15945\n",
       "1  Saint-Petersburg    5614       7003    5895"
      ]
     },
     "execution_count": 139,
     "metadata": {},
     "output_type": "execute_result"
    }
   ],
   "source": [
    "columns = ['city', 'monday', 'wednesday', 'friday']\n",
    "data = [['Moscow', 15740, 11056, 15945], ['Saint-Petersburg', 5614, 7003, 5895]]\n",
    "pd.DataFrame(data=data, columns=columns)"
   ]
  },
  {
   "cell_type": "markdown",
   "metadata": {
    "deletable": false,
    "editable": false,
    "id": "-EgPIHYu_Zcu"
   },
   "source": [
    "**Conclusions**\n",
    "\n",
    "The data shows the difference in user behavior:\n",
    "\n",
    "- In Moscow, the peak of auditions falls on Monday and Friday, and on Wednesday a decline is noticeable.\n",
    "- In St. Petersburg, on the contrary, more people listen to music on Wednesdays.\n",
    "\n",
    "So the data supports the first hypothesis."
   ]
  },
  {
   "cell_type": "markdown",
   "metadata": {
    "deletable": false,
    "editable": false,
    "id": "atZAxtq4_Zcu"
   },
   "source": [
    "### Music at the beginning and end of the week"
   ]
  },
  {
   "cell_type": "markdown",
   "metadata": {
    "deletable": false,
    "editable": false,
    "id": "eXrQqXFH_Zcu"
   },
   "source": [
    "According to the second hypothesis, on Monday morning, some genres prevail in Moscow and others in Petersburg. Also on Friday evening, different genres prevail - depending on the city."
   ]
  },
  {
   "cell_type": "code",
   "execution_count": 140,
   "metadata": {
    "deletable": false,
    "id": "qeaFfM_P_Zcu"
   },
   "outputs": [],
   "source": [
    "# getting the moscow_general table from those rows of the table df, \n",
    "# for which the value in the 'city' column is 'Moscow'\n",
    "moscow_general = df[df['city'] == 'Moscow']"
   ]
  },
  {
   "cell_type": "code",
   "execution_count": 141,
   "metadata": {
    "deletable": false,
    "id": "ORaVRKto_Zcu"
   },
   "outputs": [],
   "source": [
    "# getting the spb_general table from those rows of the table df,\n",
    "# for which the value in the 'city' column is 'Saint-Petersburg'\n",
    "spb_general = df[df['city'] == 'Saint-Petersburg']"
   ]
  },
  {
   "cell_type": "code",
   "execution_count": 142,
   "metadata": {
    "deletable": false,
    "id": "laJT9BYl_Zcu"
   },
   "outputs": [],
   "source": [
    "def genre_weekday(df, day, time1, time2):\n",
    "    genre_df = df[df['day'] == day]\n",
    "    genre_df = genre_df[genre_df['time'] < time2]\n",
    "    genre_df = genre_df[genre_df['time'] > time1]\n",
    "    genre_df_grouped = genre_df.groupby(by='genre')['genre'].count()\n",
    "    genre_df_sorted = genre_df_grouped.sort_values(ascending=False)\n",
    "    return genre_df_sorted[:10]"
   ]
  },
  {
   "cell_type": "code",
   "execution_count": 143,
   "metadata": {
    "deletable": false,
    "id": "yz7itPUQ_Zcu"
   },
   "outputs": [
    {
     "data": {
      "text/plain": [
       "genre\n",
       "pop            781\n",
       "dance          549\n",
       "electronic     480\n",
       "rock           474\n",
       "hiphop         286\n",
       "ruspop         186\n",
       "world          181\n",
       "rusrap         175\n",
       "alternative    164\n",
       "unknown        161\n",
       "Name: genre, dtype: int64"
      ]
     },
     "execution_count": 143,
     "metadata": {},
     "output_type": "execute_result"
    }
   ],
   "source": [
    "genre_weekday(moscow_general, 'Monday', '07:00', '11:00')"
   ]
  },
  {
   "cell_type": "code",
   "execution_count": 144,
   "metadata": {
    "deletable": false,
    "id": "kwUcHPdy_Zcu"
   },
   "outputs": [
    {
     "data": {
      "text/plain": [
       "genre\n",
       "pop            218\n",
       "dance          182\n",
       "rock           162\n",
       "electronic     147\n",
       "hiphop          80\n",
       "ruspop          64\n",
       "alternative     58\n",
       "rusrap          55\n",
       "jazz            44\n",
       "classical       40\n",
       "Name: genre, dtype: int64"
      ]
     },
     "execution_count": 144,
     "metadata": {},
     "output_type": "execute_result"
    }
   ],
   "source": [
    "genre_weekday(spb_general, 'Monday', '07:00', '11:00')"
   ]
  },
  {
   "cell_type": "code",
   "execution_count": 145,
   "metadata": {
    "deletable": false,
    "id": "EzXVRE1o_Zcu"
   },
   "outputs": [
    {
     "data": {
      "text/plain": [
       "genre\n",
       "pop            713\n",
       "rock           517\n",
       "dance          495\n",
       "electronic     482\n",
       "hiphop         273\n",
       "world          208\n",
       "ruspop         170\n",
       "alternative    163\n",
       "classical      163\n",
       "rusrap         142\n",
       "Name: genre, dtype: int64"
      ]
     },
     "execution_count": 145,
     "metadata": {},
     "output_type": "execute_result"
    }
   ],
   "source": [
    "genre_weekday(moscow_general, 'Friday', '17:00', '23:00')"
   ]
  },
  {
   "cell_type": "code",
   "execution_count": 146,
   "metadata": {
    "deletable": false,
    "id": "JZaEKu5v_Zcu"
   },
   "outputs": [
    {
     "data": {
      "text/plain": [
       "genre\n",
       "pop            256\n",
       "electronic     216\n",
       "rock           216\n",
       "dance          210\n",
       "hiphop          97\n",
       "alternative     63\n",
       "jazz            61\n",
       "classical       60\n",
       "rusrap          59\n",
       "world           54\n",
       "Name: genre, dtype: int64"
      ]
     },
     "execution_count": 146,
     "metadata": {},
     "output_type": "execute_result"
    }
   ],
   "source": [
    "genre_weekday(spb_general, 'Friday', '17:00', '23:00')"
   ]
  },
  {
   "cell_type": "markdown",
   "metadata": {
    "deletable": false,
    "editable": false,
    "id": "wrCe4MNX_Zcu"
   },
   "source": [
    "**Conclusions**\n",
    "\n",
    "If we compare the top 10 genres on Monday morning, the following conclusions can be drawn:\n",
    "\n",
    "1. Moscow and St. Petersburg have similar music preferences. The only difference is that the \"world\" genre made it to the Moscow's top 10, while jazz and classical genres are present in St. Petersburg's top 10.\n",
    "\n",
    "2. In Moscow, there are so many missing values that the `'unknown'` value ranks tenth among the most popular genres. This suggests that missing values constitute a significant portion of the data and pose a threat to the reliability of the research.\n",
    "\n",
    "Friday evening does not change this picture significantly. Some genres may slightly rise or fall, but the overall top 10 remains the same.\n",
    "\n",
    "Thus, the second hypothesis is only partially confirmed:\n",
    "* Users listen to similar music at the beginning and end of the week.\n",
    "* The difference between Moscow and St. Petersburg is not very pronounced. Moscow leans more towards Russian pop music, while St. Petersburg leans more towards jazz.\n",
    "\n",
    "However, the missing data casts doubt on this result. In Moscow, there are so many missing values that the top 10 ranking could have looked different if the data on genres were not lost."
   ]
  },
  {
   "cell_type": "markdown",
   "metadata": {
    "deletable": false,
    "editable": false,
    "id": "JolODAqr_Zcu"
   },
   "source": [
    "### Genre Preferences in Moscow and Petersburg\n",
    "\n",
    "Hypothesis: Petersburg - the capital of rap, the music of this genre is heard there more often than in Moscow.  And Moscow is a city of contrasts, in which, however, is dominated by pop music."
   ]
  },
  {
   "cell_type": "code",
   "execution_count": 147,
   "metadata": {
    "deletable": false,
    "id": "r19lIPke_Zcu"
   },
   "outputs": [],
   "source": [
    "moscow_genres = moscow_general.groupby('genre')['genre'].count().sort_values(ascending=False)"
   ]
  },
  {
   "cell_type": "code",
   "execution_count": 148,
   "metadata": {
    "deletable": false,
    "id": "WhCSooF8_Zcv"
   },
   "outputs": [
    {
     "data": {
      "text/plain": [
       "genre\n",
       "pop            5892\n",
       "dance          4435\n",
       "rock           3965\n",
       "electronic     3786\n",
       "hiphop         2096\n",
       "classical      1616\n",
       "world          1432\n",
       "alternative    1379\n",
       "ruspop         1372\n",
       "rusrap         1161\n",
       "Name: genre, dtype: int64"
      ]
     },
     "execution_count": 148,
     "metadata": {},
     "output_type": "execute_result"
    }
   ],
   "source": [
    "moscow_genres.head(10)"
   ]
  },
  {
   "cell_type": "code",
   "execution_count": 149,
   "metadata": {
    "deletable": false,
    "id": "gluLIpE7_Zcv"
   },
   "outputs": [],
   "source": [
    "spb_genres = spb_general.groupby('genre')['genre'].count().sort_values(ascending=False)"
   ]
  },
  {
   "cell_type": "code",
   "execution_count": 150,
   "metadata": {
    "deletable": false,
    "id": "uaGJHjVU_Zcv"
   },
   "outputs": [
    {
     "data": {
      "text/plain": [
       "genre\n",
       "pop            2431\n",
       "dance          1932\n",
       "rock           1879\n",
       "electronic     1736\n",
       "hiphop          960\n",
       "alternative     649\n",
       "classical       646\n",
       "rusrap          564\n",
       "ruspop          538\n",
       "world           515\n",
       "Name: genre, dtype: int64"
      ]
     },
     "execution_count": 150,
     "metadata": {},
     "output_type": "execute_result"
    }
   ],
   "source": [
    "spb_genres.head(10)"
   ]
  },
  {
   "cell_type": "markdown",
   "metadata": {
    "deletable": false,
    "editable": false,
    "id": "RY51YJYu_Zcv"
   },
   "source": [
    "**Conclusions**"
   ]
  },
  {
   "cell_type": "markdown",
   "metadata": {
    "deletable": false,
    "editable": false,
    "id": "nVhnJEm__Zcv"
   },
   "source": [
    "The hypothesis was partially confirmed:\n",
    "* Pop music is the most popular genre in Moscow, as the hypothesis suggested. Moreover, in the top 10 genres there is a close genre - Russian popular music.\n",
    "* Contrary to expectations, rap is equally popular in Moscow and Petersburg.\n"
   ]
  },
  {
   "cell_type": "markdown",
   "metadata": {
    "deletable": false,
    "editable": false,
    "id": "ykKQ0N65_Zcv"
   },
   "source": [
    "## Research Results"
   ]
  },
  {
   "cell_type": "markdown",
   "metadata": {
    "deletable": false,
    "editable": false,
    "id": "tjUwbHb3_Zcv"
   },
   "source": [
    "We have tested three hypotheses and established the following:\n",
    "\n",
    "1. The day of the week affects user activity differently in Moscow and St. Petersburg. The first hypothesis was fully confirmed.\n",
    "\n",
    "2. Musical preferences do not change significantly during the week, whether in Moscow or St. Petersburg. Minor differences are noticeable at the beginning of the week, specifically on Mondays:\n",
    "   * In Moscow, users listen to music of the \"world\" genre.\n",
    "   * In St. Petersburg, they lean towards jazz and classical genres.\n",
    "\n",
    "Thus, the second hypothesis was only partially confirmed. This result could have been different if not for the missing data.\n",
    "\n",
    "3. The musical tastes of Moscow and St. Petersburg users have more in common than differences. Contrary to expectations, genre preferences in St. Petersburg resemble those in Moscow.\n",
    "\n",
    "The third hypothesis was not confirmed. If there are any differences in preferences, they are not evident in the majority of users.\n",
    "\n",
    "**In practical research, statistical hypothesis testing is essential.**\n",
    "Conclusions drawn from data of a single service may not always apply to all residents of a city.\n",
    "Statistical hypothesis testing will indicate the level of reliability of findings based on the available data."
   ]
  }
 ],
 "metadata": {
  "ExecuteTimeLog": [
   {
    "duration": 59,
    "start_time": "2022-12-04T11:36:28.085Z"
   },
   {
    "duration": 349,
    "start_time": "2022-12-04T11:36:31.682Z"
   },
   {
    "duration": 262,
    "start_time": "2022-12-04T11:37:16.104Z"
   },
   {
    "duration": 15,
    "start_time": "2022-12-04T11:37:26.387Z"
   },
   {
    "duration": 29,
    "start_time": "2022-12-04T11:37:39.603Z"
   },
   {
    "duration": 73,
    "start_time": "2022-12-04T11:40:15.465Z"
   },
   {
    "duration": 4,
    "start_time": "2022-12-04T11:41:15.373Z"
   },
   {
    "duration": 11,
    "start_time": "2022-12-04T11:44:04.085Z"
   },
   {
    "duration": 4,
    "start_time": "2022-12-04T11:44:16.146Z"
   },
   {
    "duration": 28,
    "start_time": "2022-12-04T11:44:55.150Z"
   },
   {
    "duration": 45,
    "start_time": "2022-12-04T11:44:59.984Z"
   },
   {
    "duration": 7,
    "start_time": "2022-12-04T11:48:01.799Z"
   },
   {
    "duration": 759,
    "start_time": "2022-12-04T11:48:20.386Z"
   },
   {
    "duration": 18,
    "start_time": "2022-12-04T11:49:09.585Z"
   },
   {
    "duration": 24,
    "start_time": "2022-12-04T11:49:20.824Z"
   },
   {
    "duration": 62,
    "start_time": "2022-12-04T11:49:34.650Z"
   },
   {
    "duration": 73,
    "start_time": "2022-12-04T11:50:03.839Z"
   },
   {
    "duration": 61,
    "start_time": "2022-12-04T11:50:10.412Z"
   },
   {
    "duration": 37,
    "start_time": "2022-12-04T11:52:41.997Z"
   },
   {
    "duration": 62,
    "start_time": "2022-12-04T11:54:50.136Z"
   },
   {
    "duration": 40,
    "start_time": "2022-12-04T11:55:00.428Z"
   },
   {
    "duration": 12,
    "start_time": "2022-12-04T11:56:41.647Z"
   },
   {
    "duration": 11,
    "start_time": "2022-12-04T11:57:37.781Z"
   },
   {
    "duration": 8,
    "start_time": "2022-12-04T12:06:34.872Z"
   },
   {
    "duration": 8,
    "start_time": "2022-12-04T12:06:37.409Z"
   },
   {
    "duration": 27,
    "start_time": "2022-12-04T12:06:39.689Z"
   },
   {
    "duration": 4,
    "start_time": "2022-12-04T12:07:07.138Z"
   },
   {
    "duration": 10,
    "start_time": "2022-12-04T12:07:08.738Z"
   },
   {
    "duration": 5,
    "start_time": "2022-12-04T12:08:56.769Z"
   },
   {
    "duration": 16,
    "start_time": "2022-12-04T12:09:01.047Z"
   },
   {
    "duration": 25,
    "start_time": "2022-12-04T12:09:32.195Z"
   },
   {
    "duration": 4,
    "start_time": "2022-12-04T12:09:47.744Z"
   },
   {
    "duration": 25,
    "start_time": "2022-12-04T12:09:49.771Z"
   },
   {
    "duration": 26,
    "start_time": "2022-12-04T12:11:12.646Z"
   },
   {
    "duration": 22,
    "start_time": "2022-12-04T12:11:13.629Z"
   },
   {
    "duration": 16,
    "start_time": "2022-12-04T12:11:14.990Z"
   },
   {
    "duration": 15,
    "start_time": "2022-12-04T12:11:16.135Z"
   },
   {
    "duration": 17,
    "start_time": "2022-12-04T12:11:17.021Z"
   },
   {
    "duration": 15,
    "start_time": "2022-12-04T12:11:18.330Z"
   },
   {
    "duration": 41,
    "start_time": "2022-12-04T12:13:16.936Z"
   },
   {
    "duration": 50,
    "start_time": "2022-12-04T12:16:23.950Z"
   },
   {
    "duration": 8,
    "start_time": "2022-12-04T12:16:32.473Z"
   },
   {
    "duration": 29,
    "start_time": "2022-12-04T12:18:43.300Z"
   },
   {
    "duration": 12,
    "start_time": "2022-12-04T12:18:47.716Z"
   },
   {
    "duration": 9,
    "start_time": "2022-12-04T12:19:12.611Z"
   },
   {
    "duration": 4,
    "start_time": "2022-12-04T12:25:20.838Z"
   },
   {
    "duration": 20,
    "start_time": "2022-12-04T12:28:36.461Z"
   },
   {
    "duration": 4,
    "start_time": "2022-12-04T12:33:50.604Z"
   },
   {
    "duration": 20,
    "start_time": "2022-12-04T12:33:52.509Z"
   },
   {
    "duration": 5,
    "start_time": "2022-12-04T12:37:48.106Z"
   },
   {
    "duration": 20,
    "start_time": "2022-12-04T12:37:49.990Z"
   },
   {
    "duration": 4,
    "start_time": "2022-12-04T12:37:53.043Z"
   },
   {
    "duration": 15,
    "start_time": "2022-12-04T12:38:13.345Z"
   },
   {
    "duration": 20,
    "start_time": "2022-12-04T12:38:16.004Z"
   },
   {
    "duration": 4,
    "start_time": "2022-12-04T12:39:24.596Z"
   },
   {
    "duration": 19,
    "start_time": "2022-12-04T12:39:26.191Z"
   },
   {
    "duration": 16,
    "start_time": "2022-12-04T12:39:26.298Z"
   },
   {
    "duration": 11,
    "start_time": "2022-12-04T12:39:28.958Z"
   },
   {
    "duration": 21,
    "start_time": "2022-12-04T12:39:31.693Z"
   },
   {
    "duration": 12,
    "start_time": "2022-12-04T12:39:33.241Z"
   },
   {
    "duration": 29,
    "start_time": "2022-12-04T12:42:52.573Z"
   },
   {
    "duration": 27,
    "start_time": "2022-12-04T12:43:19.172Z"
   },
   {
    "duration": 23,
    "start_time": "2022-12-04T12:43:26.474Z"
   },
   {
    "duration": 6,
    "start_time": "2022-12-04T12:43:37.042Z"
   },
   {
    "duration": 8,
    "start_time": "2022-12-04T12:43:39.642Z"
   },
   {
    "duration": 8,
    "start_time": "2022-12-04T12:44:10.960Z"
   },
   {
    "duration": 5,
    "start_time": "2022-12-04T12:44:12.886Z"
   },
   {
    "duration": 5,
    "start_time": "2022-12-04T12:44:34.805Z"
   },
   {
    "duration": 5,
    "start_time": "2022-12-04T12:44:43.674Z"
   },
   {
    "duration": 3,
    "start_time": "2022-12-04T12:45:09.400Z"
   },
   {
    "duration": 169,
    "start_time": "2022-12-04T12:45:09.404Z"
   },
   {
    "duration": 10,
    "start_time": "2022-12-04T12:45:09.575Z"
   },
   {
    "duration": 41,
    "start_time": "2022-12-04T12:45:09.586Z"
   },
   {
    "duration": 2,
    "start_time": "2022-12-04T12:45:09.629Z"
   },
   {
    "duration": 7,
    "start_time": "2022-12-04T12:45:09.632Z"
   },
   {
    "duration": 10,
    "start_time": "2022-12-04T12:45:09.641Z"
   },
   {
    "duration": 12,
    "start_time": "2022-12-04T12:45:09.653Z"
   },
   {
    "duration": 35,
    "start_time": "2022-12-04T12:45:09.668Z"
   },
   {
    "duration": 21,
    "start_time": "2022-12-04T12:45:09.705Z"
   },
   {
    "duration": 22,
    "start_time": "2022-12-04T12:45:09.728Z"
   },
   {
    "duration": 70,
    "start_time": "2022-12-04T12:45:09.752Z"
   },
   {
    "duration": 68,
    "start_time": "2022-12-04T12:45:09.823Z"
   },
   {
    "duration": 72,
    "start_time": "2022-12-04T12:45:09.893Z"
   },
   {
    "duration": 39,
    "start_time": "2022-12-04T12:45:09.966Z"
   },
   {
    "duration": 59,
    "start_time": "2022-12-04T12:45:10.007Z"
   },
   {
    "duration": 38,
    "start_time": "2022-12-04T12:45:10.068Z"
   },
   {
    "duration": 23,
    "start_time": "2022-12-04T12:45:10.107Z"
   },
   {
    "duration": 10,
    "start_time": "2022-12-04T12:45:10.132Z"
   },
   {
    "duration": 3,
    "start_time": "2022-12-04T12:45:10.144Z"
   },
   {
    "duration": 28,
    "start_time": "2022-12-04T12:45:10.148Z"
   },
   {
    "duration": 12,
    "start_time": "2022-12-04T12:45:10.177Z"
   },
   {
    "duration": 35,
    "start_time": "2022-12-04T12:45:10.191Z"
   },
   {
    "duration": 14,
    "start_time": "2022-12-04T12:45:10.228Z"
   },
   {
    "duration": 15,
    "start_time": "2022-12-04T12:45:10.243Z"
   },
   {
    "duration": 13,
    "start_time": "2022-12-04T12:45:10.259Z"
   },
   {
    "duration": 11,
    "start_time": "2022-12-04T12:45:10.273Z"
   },
   {
    "duration": 36,
    "start_time": "2022-12-04T12:45:10.285Z"
   },
   {
    "duration": 11,
    "start_time": "2022-12-04T12:45:10.323Z"
   },
   {
    "duration": 5,
    "start_time": "2022-12-04T12:45:10.336Z"
   },
   {
    "duration": 21,
    "start_time": "2022-12-04T12:45:10.343Z"
   },
   {
    "duration": 11,
    "start_time": "2022-12-04T12:45:10.366Z"
   },
   {
    "duration": 42,
    "start_time": "2022-12-04T12:45:10.379Z"
   },
   {
    "duration": 10,
    "start_time": "2022-12-04T12:45:10.423Z"
   },
   {
    "duration": 23,
    "start_time": "2022-12-04T12:45:10.435Z"
   },
   {
    "duration": 51,
    "start_time": "2022-12-04T12:45:10.460Z"
   },
   {
    "duration": 18,
    "start_time": "2022-12-04T12:45:10.513Z"
   },
   {
    "duration": 7,
    "start_time": "2022-12-04T12:45:10.532Z"
   },
   {
    "duration": 67,
    "start_time": "2022-12-04T12:48:12.792Z"
   },
   {
    "duration": 56,
    "start_time": "2022-12-04T12:48:14.924Z"
   },
   {
    "duration": 70,
    "start_time": "2022-12-04T12:48:29.108Z"
   },
   {
    "duration": 75,
    "start_time": "2022-12-04T12:48:56.455Z"
   },
   {
    "duration": 58,
    "start_time": "2022-12-04T12:49:12.330Z"
   },
   {
    "duration": 2,
    "start_time": "2022-12-04T12:51:50.782Z"
   },
   {
    "duration": 183,
    "start_time": "2022-12-04T12:51:50.786Z"
   },
   {
    "duration": 12,
    "start_time": "2022-12-04T12:51:50.970Z"
   },
   {
    "duration": 55,
    "start_time": "2022-12-04T12:51:50.983Z"
   },
   {
    "duration": 11,
    "start_time": "2022-12-04T12:51:51.041Z"
   },
   {
    "duration": 15,
    "start_time": "2022-12-04T12:51:51.054Z"
   },
   {
    "duration": 15,
    "start_time": "2022-12-04T12:51:51.071Z"
   },
   {
    "duration": 28,
    "start_time": "2022-12-04T12:51:51.088Z"
   },
   {
    "duration": 28,
    "start_time": "2022-12-04T12:51:51.118Z"
   },
   {
    "duration": 41,
    "start_time": "2022-12-04T12:51:51.148Z"
   },
   {
    "duration": 26,
    "start_time": "2022-12-04T12:51:51.191Z"
   },
   {
    "duration": 59,
    "start_time": "2022-12-04T12:51:51.218Z"
   },
   {
    "duration": 75,
    "start_time": "2022-12-04T12:51:51.278Z"
   },
   {
    "duration": 52,
    "start_time": "2022-12-04T12:51:51.356Z"
   },
   {
    "duration": 44,
    "start_time": "2022-12-04T12:51:51.410Z"
   },
   {
    "duration": 68,
    "start_time": "2022-12-04T12:51:51.456Z"
   },
   {
    "duration": 48,
    "start_time": "2022-12-04T12:51:51.526Z"
   },
   {
    "duration": 11,
    "start_time": "2022-12-04T12:51:51.576Z"
   },
   {
    "duration": 33,
    "start_time": "2022-12-04T12:51:51.589Z"
   },
   {
    "duration": 4,
    "start_time": "2022-12-04T12:51:51.624Z"
   },
   {
    "duration": 28,
    "start_time": "2022-12-04T12:51:51.630Z"
   },
   {
    "duration": 14,
    "start_time": "2022-12-04T12:51:51.660Z"
   },
   {
    "duration": 21,
    "start_time": "2022-12-04T12:51:51.676Z"
   },
   {
    "duration": 34,
    "start_time": "2022-12-04T12:51:51.698Z"
   },
   {
    "duration": 17,
    "start_time": "2022-12-04T12:51:51.733Z"
   },
   {
    "duration": 29,
    "start_time": "2022-12-04T12:51:51.751Z"
   },
   {
    "duration": 8,
    "start_time": "2022-12-04T12:51:51.782Z"
   },
   {
    "duration": 29,
    "start_time": "2022-12-04T12:51:51.793Z"
   },
   {
    "duration": 10,
    "start_time": "2022-12-04T12:51:51.824Z"
   },
   {
    "duration": 12,
    "start_time": "2022-12-04T12:51:51.835Z"
   },
   {
    "duration": 33,
    "start_time": "2022-12-04T12:51:51.848Z"
   },
   {
    "duration": 15,
    "start_time": "2022-12-04T12:51:51.883Z"
   },
   {
    "duration": 22,
    "start_time": "2022-12-04T12:51:51.900Z"
   },
   {
    "duration": 12,
    "start_time": "2022-12-04T12:51:51.923Z"
   },
   {
    "duration": 15,
    "start_time": "2022-12-04T12:51:51.936Z"
   },
   {
    "duration": 24,
    "start_time": "2022-12-04T12:51:51.952Z"
   },
   {
    "duration": 8,
    "start_time": "2022-12-04T12:51:51.978Z"
   },
   {
    "duration": 4,
    "start_time": "2022-12-04T12:51:51.988Z"
   }
  ],
  "colab": {
   "collapsed_sections": [
    "E0vqbgi9ay0H",
    "VUC88oWjTJw2"
   ],
   "name": "automatization_template_upd4.ipynb",
   "provenance": []
  },
  "kernelspec": {
   "display_name": "Python 3.9.7 ('base')",
   "language": "python",
   "name": "python3"
  },
  "language_info": {
   "codemirror_mode": {
    "name": "ipython",
    "version": 3
   },
   "file_extension": ".py",
   "mimetype": "text/x-python",
   "name": "python",
   "nbconvert_exporter": "python",
   "pygments_lexer": "ipython3",
   "version": "3.9.7"
  },
  "toc": {
   "base_numbering": 1,
   "nav_menu": {
    "height": "215px",
    "width": "403px"
   },
   "number_sections": true,
   "sideBar": true,
   "skip_h1_title": true,
   "title_cell": "Table of Contents",
   "title_sidebar": "Contents",
   "toc_cell": false,
   "toc_position": {
    "height": "calc(100% - 180px)",
    "left": "10px",
    "top": "150px",
    "width": "285.825px"
   },
   "toc_section_display": true,
   "toc_window_display": false
  },
  "vscode": {
   "interpreter": {
    "hash": "40d3a090f54c6569ab1632332b64b2c03c39dcf918b08424e98f38b5ae0af88f"
   }
  }
 },
 "nbformat": 4,
 "nbformat_minor": 1
}
