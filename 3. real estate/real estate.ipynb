{
 "cells": [
  {
   "cell_type": "markdown",
   "metadata": {},
   "source": [
    "# Исследование объявлений о продаже квартир\n",
    "\n",
    "В нашем распоряжении данные сервиса Недвижимости — архив объявлений за несколько лет о продаже квартир в Санкт-Петербурге и соседних населённых пунктах.\n",
    "Наша задача — выполнить предобработку данных и изучить их, чтобы найти интересные особенности и зависимости, которые существуют на рынке недвижимости.\n",
    "\n",
    "О каждой квартире в базе содержится два типа данных: добавленные пользователем и картографические. Например, к первому типу относятся площадь квартиры, её этаж и количество балконов, ко второму — расстояния до центра города, аэропорта и ближайшего парка. "
   ]
  },
  {
   "cell_type": "markdown",
   "metadata": {},
   "source": [
    "### Описание данных"
   ]
  },
  {
   "cell_type": "markdown",
   "metadata": {},
   "source": [
    "airports_nearest — расстояние до ближайшего аэропорта в метрах (м)\n",
    "\n",
    "balcony — число балконов\n",
    "\n",
    "ceiling_height — высота потолков (м)\n",
    "\n",
    "cityCenters_nearest — расстояние до центра города (м)\n",
    "\n",
    "days_exposition — сколько дней было размещено объявление (от публикации до снятия)\n",
    "\n",
    "first_day_exposition — дата публикации\n",
    "\n",
    "floor — этаж\n",
    "\n",
    "floors_total — всего этажей в доме\n",
    "\n",
    "is_apartment — апартаменты (булев тип)\n",
    "\n",
    "kitchen_area — площадь кухни в квадратных метрах (м²)\n",
    "\n",
    "last_price — цена на момент снятия с публикации\n",
    "\n",
    "living_area — жилая площадь в квадратных метрах (м²)\n",
    "\n",
    "locality_name — название населённого пункта\n",
    "\n",
    "open_plan — свободная планировка (булев тип)\n",
    "\n",
    "parks_around3000 — число парков в радиусе 3 км\n",
    "\n",
    "parks_nearest — расстояние до ближайшего парка (м)\n",
    "\n",
    "ponds_around3000 — число водоёмов в радиусе 3 км\n",
    "\n",
    "ponds_nearest — расстояние до ближайшего водоёма (м)\n",
    "\n",
    "rooms — число комнат\n",
    "\n",
    "studio — квартира-студия (булев тип)\n",
    "\n",
    "total_area — общая площадь квартиры в квадратных метрах (м²)\n",
    "\n",
    "total_images — число фотографий квартиры в объявлении"
   ]
  },
  {
   "cell_type": "markdown",
   "metadata": {},
   "source": [
    "### Открываем файл"
   ]
  },
  {
   "cell_type": "code",
   "execution_count": 26,
   "metadata": {},
   "outputs": [],
   "source": [
    "import matplotlib.pyplot as plt\n",
    "import numpy as np\n",
    "import pandas as pd\n",
    "import seaborn as sns\n",
    "import sys\n",
    "\n",
    "pd.set_option('display.float_format', lambda x: '%.3f' % x)"
   ]
  },
  {
   "cell_type": "code",
   "execution_count": 27,
   "metadata": {},
   "outputs": [],
   "source": [
    "try:\n",
    "    data = pd.read_csv('...', sep='\\t')\n",
    "except:\n",
    "    data = pd.read_csv('...', sep='\\t')"
   ]
  },
  {
   "cell_type": "markdown",
   "metadata": {},
   "source": [
    "Импортировали библиотеки.\n",
    "Убрали научные натации.\n",
    "Открыли файл."
   ]
  },
  {
   "cell_type": "markdown",
   "metadata": {},
   "source": [
    "#### Изучаем общую информацию и определяем пропуски"
   ]
  },
  {
   "cell_type": "code",
   "execution_count": 28,
   "metadata": {},
   "outputs": [
    {
     "name": "stdout",
     "output_type": "stream",
     "text": [
      "<class 'pandas.core.frame.DataFrame'>\n",
      "RangeIndex: 23699 entries, 0 to 23698\n",
      "Data columns (total 22 columns):\n",
      " #   Column                Non-Null Count  Dtype  \n",
      "---  ------                --------------  -----  \n",
      " 0   total_images          23699 non-null  int64  \n",
      " 1   last_price            23699 non-null  float64\n",
      " 2   total_area            23699 non-null  float64\n",
      " 3   first_day_exposition  23699 non-null  object \n",
      " 4   rooms                 23699 non-null  int64  \n",
      " 5   ceiling_height        14504 non-null  float64\n",
      " 6   floors_total          23613 non-null  float64\n",
      " 7   living_area           21796 non-null  float64\n",
      " 8   floor                 23699 non-null  int64  \n",
      " 9   is_apartment          2775 non-null   object \n",
      " 10  studio                23699 non-null  bool   \n",
      " 11  open_plan             23699 non-null  bool   \n",
      " 12  kitchen_area          21421 non-null  float64\n",
      " 13  balcony               12180 non-null  float64\n",
      " 14  locality_name         23650 non-null  object \n",
      " 15  airports_nearest      18157 non-null  float64\n",
      " 16  cityCenters_nearest   18180 non-null  float64\n",
      " 17  parks_around3000      18181 non-null  float64\n",
      " 18  parks_nearest         8079 non-null   float64\n",
      " 19  ponds_around3000      18181 non-null  float64\n",
      " 20  ponds_nearest         9110 non-null   float64\n",
      " 21  days_exposition       20518 non-null  float64\n",
      "dtypes: bool(2), float64(14), int64(3), object(3)\n",
      "memory usage: 3.7+ MB\n"
     ]
    }
   ],
   "source": [
    "data.info()"
   ]
  },
  {
   "cell_type": "markdown",
   "metadata": {},
   "source": [
    "Ознакомились с основной информацией о данных."
   ]
  },
  {
   "cell_type": "code",
   "execution_count": 29,
   "metadata": {},
   "outputs": [
    {
     "data": {
      "text/html": [
       "<div>\n",
       "<style scoped>\n",
       "    .dataframe tbody tr th:only-of-type {\n",
       "        vertical-align: middle;\n",
       "    }\n",
       "\n",
       "    .dataframe tbody tr th {\n",
       "        vertical-align: top;\n",
       "    }\n",
       "\n",
       "    .dataframe thead th {\n",
       "        text-align: right;\n",
       "    }\n",
       "</style>\n",
       "<table border=\"1\" class=\"dataframe\">\n",
       "  <thead>\n",
       "    <tr style=\"text-align: right;\">\n",
       "      <th></th>\n",
       "      <th>total_images</th>\n",
       "      <th>last_price</th>\n",
       "      <th>total_area</th>\n",
       "      <th>first_day_exposition</th>\n",
       "      <th>rooms</th>\n",
       "      <th>ceiling_height</th>\n",
       "      <th>floors_total</th>\n",
       "      <th>living_area</th>\n",
       "      <th>floor</th>\n",
       "      <th>is_apartment</th>\n",
       "      <th>...</th>\n",
       "      <th>kitchen_area</th>\n",
       "      <th>balcony</th>\n",
       "      <th>locality_name</th>\n",
       "      <th>airports_nearest</th>\n",
       "      <th>cityCenters_nearest</th>\n",
       "      <th>parks_around3000</th>\n",
       "      <th>parks_nearest</th>\n",
       "      <th>ponds_around3000</th>\n",
       "      <th>ponds_nearest</th>\n",
       "      <th>days_exposition</th>\n",
       "    </tr>\n",
       "  </thead>\n",
       "  <tbody>\n",
       "    <tr>\n",
       "      <th>0</th>\n",
       "      <td>20</td>\n",
       "      <td>13000000.000</td>\n",
       "      <td>108.000</td>\n",
       "      <td>2019-03-07T00:00:00</td>\n",
       "      <td>3</td>\n",
       "      <td>2.700</td>\n",
       "      <td>16.000</td>\n",
       "      <td>51.000</td>\n",
       "      <td>8</td>\n",
       "      <td>NaN</td>\n",
       "      <td>...</td>\n",
       "      <td>25.000</td>\n",
       "      <td>NaN</td>\n",
       "      <td>Санкт-Петербург</td>\n",
       "      <td>18863.000</td>\n",
       "      <td>16028.000</td>\n",
       "      <td>1.000</td>\n",
       "      <td>482.000</td>\n",
       "      <td>2.000</td>\n",
       "      <td>755.000</td>\n",
       "      <td>NaN</td>\n",
       "    </tr>\n",
       "    <tr>\n",
       "      <th>1</th>\n",
       "      <td>7</td>\n",
       "      <td>3350000.000</td>\n",
       "      <td>40.400</td>\n",
       "      <td>2018-12-04T00:00:00</td>\n",
       "      <td>1</td>\n",
       "      <td>NaN</td>\n",
       "      <td>11.000</td>\n",
       "      <td>18.600</td>\n",
       "      <td>1</td>\n",
       "      <td>NaN</td>\n",
       "      <td>...</td>\n",
       "      <td>11.000</td>\n",
       "      <td>2.000</td>\n",
       "      <td>посёлок Шушары</td>\n",
       "      <td>12817.000</td>\n",
       "      <td>18603.000</td>\n",
       "      <td>0.000</td>\n",
       "      <td>NaN</td>\n",
       "      <td>0.000</td>\n",
       "      <td>NaN</td>\n",
       "      <td>81.000</td>\n",
       "    </tr>\n",
       "    <tr>\n",
       "      <th>2</th>\n",
       "      <td>10</td>\n",
       "      <td>5196000.000</td>\n",
       "      <td>56.000</td>\n",
       "      <td>2015-08-20T00:00:00</td>\n",
       "      <td>2</td>\n",
       "      <td>NaN</td>\n",
       "      <td>5.000</td>\n",
       "      <td>34.300</td>\n",
       "      <td>4</td>\n",
       "      <td>NaN</td>\n",
       "      <td>...</td>\n",
       "      <td>8.300</td>\n",
       "      <td>0.000</td>\n",
       "      <td>Санкт-Петербург</td>\n",
       "      <td>21741.000</td>\n",
       "      <td>13933.000</td>\n",
       "      <td>1.000</td>\n",
       "      <td>90.000</td>\n",
       "      <td>2.000</td>\n",
       "      <td>574.000</td>\n",
       "      <td>558.000</td>\n",
       "    </tr>\n",
       "    <tr>\n",
       "      <th>3</th>\n",
       "      <td>0</td>\n",
       "      <td>64900000.000</td>\n",
       "      <td>159.000</td>\n",
       "      <td>2015-07-24T00:00:00</td>\n",
       "      <td>3</td>\n",
       "      <td>NaN</td>\n",
       "      <td>14.000</td>\n",
       "      <td>NaN</td>\n",
       "      <td>9</td>\n",
       "      <td>NaN</td>\n",
       "      <td>...</td>\n",
       "      <td>NaN</td>\n",
       "      <td>0.000</td>\n",
       "      <td>Санкт-Петербург</td>\n",
       "      <td>28098.000</td>\n",
       "      <td>6800.000</td>\n",
       "      <td>2.000</td>\n",
       "      <td>84.000</td>\n",
       "      <td>3.000</td>\n",
       "      <td>234.000</td>\n",
       "      <td>424.000</td>\n",
       "    </tr>\n",
       "    <tr>\n",
       "      <th>4</th>\n",
       "      <td>2</td>\n",
       "      <td>10000000.000</td>\n",
       "      <td>100.000</td>\n",
       "      <td>2018-06-19T00:00:00</td>\n",
       "      <td>2</td>\n",
       "      <td>3.030</td>\n",
       "      <td>14.000</td>\n",
       "      <td>32.000</td>\n",
       "      <td>13</td>\n",
       "      <td>NaN</td>\n",
       "      <td>...</td>\n",
       "      <td>41.000</td>\n",
       "      <td>NaN</td>\n",
       "      <td>Санкт-Петербург</td>\n",
       "      <td>31856.000</td>\n",
       "      <td>8098.000</td>\n",
       "      <td>2.000</td>\n",
       "      <td>112.000</td>\n",
       "      <td>1.000</td>\n",
       "      <td>48.000</td>\n",
       "      <td>121.000</td>\n",
       "    </tr>\n",
       "    <tr>\n",
       "      <th>5</th>\n",
       "      <td>10</td>\n",
       "      <td>2890000.000</td>\n",
       "      <td>30.400</td>\n",
       "      <td>2018-09-10T00:00:00</td>\n",
       "      <td>1</td>\n",
       "      <td>NaN</td>\n",
       "      <td>12.000</td>\n",
       "      <td>14.400</td>\n",
       "      <td>5</td>\n",
       "      <td>NaN</td>\n",
       "      <td>...</td>\n",
       "      <td>9.100</td>\n",
       "      <td>NaN</td>\n",
       "      <td>городской посёлок Янино-1</td>\n",
       "      <td>NaN</td>\n",
       "      <td>NaN</td>\n",
       "      <td>NaN</td>\n",
       "      <td>NaN</td>\n",
       "      <td>NaN</td>\n",
       "      <td>NaN</td>\n",
       "      <td>55.000</td>\n",
       "    </tr>\n",
       "    <tr>\n",
       "      <th>6</th>\n",
       "      <td>6</td>\n",
       "      <td>3700000.000</td>\n",
       "      <td>37.300</td>\n",
       "      <td>2017-11-02T00:00:00</td>\n",
       "      <td>1</td>\n",
       "      <td>NaN</td>\n",
       "      <td>26.000</td>\n",
       "      <td>10.600</td>\n",
       "      <td>6</td>\n",
       "      <td>NaN</td>\n",
       "      <td>...</td>\n",
       "      <td>14.400</td>\n",
       "      <td>1.000</td>\n",
       "      <td>посёлок Парголово</td>\n",
       "      <td>52996.000</td>\n",
       "      <td>19143.000</td>\n",
       "      <td>0.000</td>\n",
       "      <td>NaN</td>\n",
       "      <td>0.000</td>\n",
       "      <td>NaN</td>\n",
       "      <td>155.000</td>\n",
       "    </tr>\n",
       "    <tr>\n",
       "      <th>7</th>\n",
       "      <td>5</td>\n",
       "      <td>7915000.000</td>\n",
       "      <td>71.600</td>\n",
       "      <td>2019-04-18T00:00:00</td>\n",
       "      <td>2</td>\n",
       "      <td>NaN</td>\n",
       "      <td>24.000</td>\n",
       "      <td>NaN</td>\n",
       "      <td>22</td>\n",
       "      <td>NaN</td>\n",
       "      <td>...</td>\n",
       "      <td>18.900</td>\n",
       "      <td>2.000</td>\n",
       "      <td>Санкт-Петербург</td>\n",
       "      <td>23982.000</td>\n",
       "      <td>11634.000</td>\n",
       "      <td>0.000</td>\n",
       "      <td>NaN</td>\n",
       "      <td>0.000</td>\n",
       "      <td>NaN</td>\n",
       "      <td>NaN</td>\n",
       "    </tr>\n",
       "    <tr>\n",
       "      <th>8</th>\n",
       "      <td>20</td>\n",
       "      <td>2900000.000</td>\n",
       "      <td>33.160</td>\n",
       "      <td>2018-05-23T00:00:00</td>\n",
       "      <td>1</td>\n",
       "      <td>NaN</td>\n",
       "      <td>27.000</td>\n",
       "      <td>15.430</td>\n",
       "      <td>26</td>\n",
       "      <td>NaN</td>\n",
       "      <td>...</td>\n",
       "      <td>8.810</td>\n",
       "      <td>NaN</td>\n",
       "      <td>посёлок Мурино</td>\n",
       "      <td>NaN</td>\n",
       "      <td>NaN</td>\n",
       "      <td>NaN</td>\n",
       "      <td>NaN</td>\n",
       "      <td>NaN</td>\n",
       "      <td>NaN</td>\n",
       "      <td>189.000</td>\n",
       "    </tr>\n",
       "    <tr>\n",
       "      <th>9</th>\n",
       "      <td>18</td>\n",
       "      <td>5400000.000</td>\n",
       "      <td>61.000</td>\n",
       "      <td>2017-02-26T00:00:00</td>\n",
       "      <td>3</td>\n",
       "      <td>2.500</td>\n",
       "      <td>9.000</td>\n",
       "      <td>43.600</td>\n",
       "      <td>7</td>\n",
       "      <td>NaN</td>\n",
       "      <td>...</td>\n",
       "      <td>6.500</td>\n",
       "      <td>2.000</td>\n",
       "      <td>Санкт-Петербург</td>\n",
       "      <td>50898.000</td>\n",
       "      <td>15008.000</td>\n",
       "      <td>0.000</td>\n",
       "      <td>NaN</td>\n",
       "      <td>0.000</td>\n",
       "      <td>NaN</td>\n",
       "      <td>289.000</td>\n",
       "    </tr>\n",
       "    <tr>\n",
       "      <th>10</th>\n",
       "      <td>5</td>\n",
       "      <td>5050000.000</td>\n",
       "      <td>39.600</td>\n",
       "      <td>2017-11-16T00:00:00</td>\n",
       "      <td>1</td>\n",
       "      <td>2.670</td>\n",
       "      <td>12.000</td>\n",
       "      <td>20.300</td>\n",
       "      <td>3</td>\n",
       "      <td>NaN</td>\n",
       "      <td>...</td>\n",
       "      <td>8.500</td>\n",
       "      <td>NaN</td>\n",
       "      <td>Санкт-Петербург</td>\n",
       "      <td>38357.000</td>\n",
       "      <td>13878.000</td>\n",
       "      <td>1.000</td>\n",
       "      <td>310.000</td>\n",
       "      <td>2.000</td>\n",
       "      <td>553.000</td>\n",
       "      <td>137.000</td>\n",
       "    </tr>\n",
       "    <tr>\n",
       "      <th>11</th>\n",
       "      <td>9</td>\n",
       "      <td>3300000.000</td>\n",
       "      <td>44.000</td>\n",
       "      <td>2018-08-27T00:00:00</td>\n",
       "      <td>2</td>\n",
       "      <td>NaN</td>\n",
       "      <td>5.000</td>\n",
       "      <td>31.000</td>\n",
       "      <td>4</td>\n",
       "      <td>False</td>\n",
       "      <td>...</td>\n",
       "      <td>6.000</td>\n",
       "      <td>1.000</td>\n",
       "      <td>Ломоносов</td>\n",
       "      <td>48252.000</td>\n",
       "      <td>51677.000</td>\n",
       "      <td>0.000</td>\n",
       "      <td>NaN</td>\n",
       "      <td>0.000</td>\n",
       "      <td>NaN</td>\n",
       "      <td>7.000</td>\n",
       "    </tr>\n",
       "    <tr>\n",
       "      <th>12</th>\n",
       "      <td>10</td>\n",
       "      <td>3890000.000</td>\n",
       "      <td>54.000</td>\n",
       "      <td>2016-06-30T00:00:00</td>\n",
       "      <td>2</td>\n",
       "      <td>NaN</td>\n",
       "      <td>5.000</td>\n",
       "      <td>30.000</td>\n",
       "      <td>5</td>\n",
       "      <td>NaN</td>\n",
       "      <td>...</td>\n",
       "      <td>9.000</td>\n",
       "      <td>0.000</td>\n",
       "      <td>Сертолово</td>\n",
       "      <td>NaN</td>\n",
       "      <td>NaN</td>\n",
       "      <td>NaN</td>\n",
       "      <td>NaN</td>\n",
       "      <td>NaN</td>\n",
       "      <td>NaN</td>\n",
       "      <td>90.000</td>\n",
       "    </tr>\n",
       "    <tr>\n",
       "      <th>13</th>\n",
       "      <td>20</td>\n",
       "      <td>3550000.000</td>\n",
       "      <td>42.800</td>\n",
       "      <td>2017-07-01T00:00:00</td>\n",
       "      <td>2</td>\n",
       "      <td>2.560</td>\n",
       "      <td>5.000</td>\n",
       "      <td>27.000</td>\n",
       "      <td>5</td>\n",
       "      <td>NaN</td>\n",
       "      <td>...</td>\n",
       "      <td>5.200</td>\n",
       "      <td>1.000</td>\n",
       "      <td>Петергоф</td>\n",
       "      <td>37868.000</td>\n",
       "      <td>33058.000</td>\n",
       "      <td>1.000</td>\n",
       "      <td>294.000</td>\n",
       "      <td>3.000</td>\n",
       "      <td>298.000</td>\n",
       "      <td>366.000</td>\n",
       "    </tr>\n",
       "    <tr>\n",
       "      <th>14</th>\n",
       "      <td>1</td>\n",
       "      <td>4400000.000</td>\n",
       "      <td>36.000</td>\n",
       "      <td>2016-06-23T00:00:00</td>\n",
       "      <td>1</td>\n",
       "      <td>NaN</td>\n",
       "      <td>6.000</td>\n",
       "      <td>17.000</td>\n",
       "      <td>1</td>\n",
       "      <td>NaN</td>\n",
       "      <td>...</td>\n",
       "      <td>8.000</td>\n",
       "      <td>0.000</td>\n",
       "      <td>Пушкин</td>\n",
       "      <td>20782.000</td>\n",
       "      <td>30759.000</td>\n",
       "      <td>0.000</td>\n",
       "      <td>NaN</td>\n",
       "      <td>1.000</td>\n",
       "      <td>96.000</td>\n",
       "      <td>203.000</td>\n",
       "    </tr>\n",
       "    <tr>\n",
       "      <th>15</th>\n",
       "      <td>16</td>\n",
       "      <td>4650000.000</td>\n",
       "      <td>39.000</td>\n",
       "      <td>2017-11-18T00:00:00</td>\n",
       "      <td>1</td>\n",
       "      <td>NaN</td>\n",
       "      <td>14.000</td>\n",
       "      <td>20.500</td>\n",
       "      <td>5</td>\n",
       "      <td>NaN</td>\n",
       "      <td>...</td>\n",
       "      <td>7.600</td>\n",
       "      <td>1.000</td>\n",
       "      <td>Санкт-Петербург</td>\n",
       "      <td>12900.000</td>\n",
       "      <td>14259.000</td>\n",
       "      <td>1.000</td>\n",
       "      <td>590.000</td>\n",
       "      <td>1.000</td>\n",
       "      <td>296.000</td>\n",
       "      <td>19.000</td>\n",
       "    </tr>\n",
       "    <tr>\n",
       "      <th>16</th>\n",
       "      <td>11</td>\n",
       "      <td>6700000.000</td>\n",
       "      <td>82.000</td>\n",
       "      <td>2017-11-23T00:00:00</td>\n",
       "      <td>3</td>\n",
       "      <td>3.050</td>\n",
       "      <td>5.000</td>\n",
       "      <td>55.600</td>\n",
       "      <td>1</td>\n",
       "      <td>NaN</td>\n",
       "      <td>...</td>\n",
       "      <td>9.000</td>\n",
       "      <td>NaN</td>\n",
       "      <td>Санкт-Петербург</td>\n",
       "      <td>22108.000</td>\n",
       "      <td>10698.000</td>\n",
       "      <td>3.000</td>\n",
       "      <td>420.000</td>\n",
       "      <td>0.000</td>\n",
       "      <td>NaN</td>\n",
       "      <td>397.000</td>\n",
       "    </tr>\n",
       "    <tr>\n",
       "      <th>17</th>\n",
       "      <td>6</td>\n",
       "      <td>4180000.000</td>\n",
       "      <td>36.000</td>\n",
       "      <td>2016-09-09T00:00:00</td>\n",
       "      <td>1</td>\n",
       "      <td>NaN</td>\n",
       "      <td>17.000</td>\n",
       "      <td>16.500</td>\n",
       "      <td>7</td>\n",
       "      <td>NaN</td>\n",
       "      <td>...</td>\n",
       "      <td>11.000</td>\n",
       "      <td>1.000</td>\n",
       "      <td>Санкт-Петербург</td>\n",
       "      <td>33564.000</td>\n",
       "      <td>14616.000</td>\n",
       "      <td>0.000</td>\n",
       "      <td>NaN</td>\n",
       "      <td>1.000</td>\n",
       "      <td>859.000</td>\n",
       "      <td>571.000</td>\n",
       "    </tr>\n",
       "    <tr>\n",
       "      <th>18</th>\n",
       "      <td>8</td>\n",
       "      <td>3250000.000</td>\n",
       "      <td>31.000</td>\n",
       "      <td>2017-01-27T00:00:00</td>\n",
       "      <td>1</td>\n",
       "      <td>2.500</td>\n",
       "      <td>5.000</td>\n",
       "      <td>19.400</td>\n",
       "      <td>2</td>\n",
       "      <td>NaN</td>\n",
       "      <td>...</td>\n",
       "      <td>5.600</td>\n",
       "      <td>1.000</td>\n",
       "      <td>Санкт-Петербург</td>\n",
       "      <td>44060.000</td>\n",
       "      <td>10842.000</td>\n",
       "      <td>1.000</td>\n",
       "      <td>759.000</td>\n",
       "      <td>0.000</td>\n",
       "      <td>NaN</td>\n",
       "      <td>168.000</td>\n",
       "    </tr>\n",
       "    <tr>\n",
       "      <th>19</th>\n",
       "      <td>16</td>\n",
       "      <td>14200000.000</td>\n",
       "      <td>121.000</td>\n",
       "      <td>2019-01-09T00:00:00</td>\n",
       "      <td>3</td>\n",
       "      <td>2.750</td>\n",
       "      <td>16.000</td>\n",
       "      <td>76.000</td>\n",
       "      <td>8</td>\n",
       "      <td>NaN</td>\n",
       "      <td>...</td>\n",
       "      <td>12.000</td>\n",
       "      <td>NaN</td>\n",
       "      <td>Санкт-Петербург</td>\n",
       "      <td>38900.000</td>\n",
       "      <td>12843.000</td>\n",
       "      <td>0.000</td>\n",
       "      <td>NaN</td>\n",
       "      <td>0.000</td>\n",
       "      <td>NaN</td>\n",
       "      <td>97.000</td>\n",
       "    </tr>\n",
       "  </tbody>\n",
       "</table>\n",
       "<p>20 rows × 22 columns</p>\n",
       "</div>"
      ],
      "text/plain": [
       "    total_images   last_price  total_area first_day_exposition  rooms  \\\n",
       "0             20 13000000.000     108.000  2019-03-07T00:00:00      3   \n",
       "1              7  3350000.000      40.400  2018-12-04T00:00:00      1   \n",
       "2             10  5196000.000      56.000  2015-08-20T00:00:00      2   \n",
       "3              0 64900000.000     159.000  2015-07-24T00:00:00      3   \n",
       "4              2 10000000.000     100.000  2018-06-19T00:00:00      2   \n",
       "5             10  2890000.000      30.400  2018-09-10T00:00:00      1   \n",
       "6              6  3700000.000      37.300  2017-11-02T00:00:00      1   \n",
       "7              5  7915000.000      71.600  2019-04-18T00:00:00      2   \n",
       "8             20  2900000.000      33.160  2018-05-23T00:00:00      1   \n",
       "9             18  5400000.000      61.000  2017-02-26T00:00:00      3   \n",
       "10             5  5050000.000      39.600  2017-11-16T00:00:00      1   \n",
       "11             9  3300000.000      44.000  2018-08-27T00:00:00      2   \n",
       "12            10  3890000.000      54.000  2016-06-30T00:00:00      2   \n",
       "13            20  3550000.000      42.800  2017-07-01T00:00:00      2   \n",
       "14             1  4400000.000      36.000  2016-06-23T00:00:00      1   \n",
       "15            16  4650000.000      39.000  2017-11-18T00:00:00      1   \n",
       "16            11  6700000.000      82.000  2017-11-23T00:00:00      3   \n",
       "17             6  4180000.000      36.000  2016-09-09T00:00:00      1   \n",
       "18             8  3250000.000      31.000  2017-01-27T00:00:00      1   \n",
       "19            16 14200000.000     121.000  2019-01-09T00:00:00      3   \n",
       "\n",
       "    ceiling_height  floors_total  living_area  floor is_apartment  ...  \\\n",
       "0            2.700        16.000       51.000      8          NaN  ...   \n",
       "1              NaN        11.000       18.600      1          NaN  ...   \n",
       "2              NaN         5.000       34.300      4          NaN  ...   \n",
       "3              NaN        14.000          NaN      9          NaN  ...   \n",
       "4            3.030        14.000       32.000     13          NaN  ...   \n",
       "5              NaN        12.000       14.400      5          NaN  ...   \n",
       "6              NaN        26.000       10.600      6          NaN  ...   \n",
       "7              NaN        24.000          NaN     22          NaN  ...   \n",
       "8              NaN        27.000       15.430     26          NaN  ...   \n",
       "9            2.500         9.000       43.600      7          NaN  ...   \n",
       "10           2.670        12.000       20.300      3          NaN  ...   \n",
       "11             NaN         5.000       31.000      4        False  ...   \n",
       "12             NaN         5.000       30.000      5          NaN  ...   \n",
       "13           2.560         5.000       27.000      5          NaN  ...   \n",
       "14             NaN         6.000       17.000      1          NaN  ...   \n",
       "15             NaN        14.000       20.500      5          NaN  ...   \n",
       "16           3.050         5.000       55.600      1          NaN  ...   \n",
       "17             NaN        17.000       16.500      7          NaN  ...   \n",
       "18           2.500         5.000       19.400      2          NaN  ...   \n",
       "19           2.750        16.000       76.000      8          NaN  ...   \n",
       "\n",
       "    kitchen_area  balcony              locality_name  airports_nearest  \\\n",
       "0         25.000      NaN            Санкт-Петербург         18863.000   \n",
       "1         11.000    2.000             посёлок Шушары         12817.000   \n",
       "2          8.300    0.000            Санкт-Петербург         21741.000   \n",
       "3            NaN    0.000            Санкт-Петербург         28098.000   \n",
       "4         41.000      NaN            Санкт-Петербург         31856.000   \n",
       "5          9.100      NaN  городской посёлок Янино-1               NaN   \n",
       "6         14.400    1.000          посёлок Парголово         52996.000   \n",
       "7         18.900    2.000            Санкт-Петербург         23982.000   \n",
       "8          8.810      NaN             посёлок Мурино               NaN   \n",
       "9          6.500    2.000            Санкт-Петербург         50898.000   \n",
       "10         8.500      NaN            Санкт-Петербург         38357.000   \n",
       "11         6.000    1.000                  Ломоносов         48252.000   \n",
       "12         9.000    0.000                  Сертолово               NaN   \n",
       "13         5.200    1.000                   Петергоф         37868.000   \n",
       "14         8.000    0.000                     Пушкин         20782.000   \n",
       "15         7.600    1.000            Санкт-Петербург         12900.000   \n",
       "16         9.000      NaN            Санкт-Петербург         22108.000   \n",
       "17        11.000    1.000            Санкт-Петербург         33564.000   \n",
       "18         5.600    1.000            Санкт-Петербург         44060.000   \n",
       "19        12.000      NaN            Санкт-Петербург         38900.000   \n",
       "\n",
       "   cityCenters_nearest  parks_around3000  parks_nearest  ponds_around3000  \\\n",
       "0            16028.000             1.000        482.000             2.000   \n",
       "1            18603.000             0.000            NaN             0.000   \n",
       "2            13933.000             1.000         90.000             2.000   \n",
       "3             6800.000             2.000         84.000             3.000   \n",
       "4             8098.000             2.000        112.000             1.000   \n",
       "5                  NaN               NaN            NaN               NaN   \n",
       "6            19143.000             0.000            NaN             0.000   \n",
       "7            11634.000             0.000            NaN             0.000   \n",
       "8                  NaN               NaN            NaN               NaN   \n",
       "9            15008.000             0.000            NaN             0.000   \n",
       "10           13878.000             1.000        310.000             2.000   \n",
       "11           51677.000             0.000            NaN             0.000   \n",
       "12                 NaN               NaN            NaN               NaN   \n",
       "13           33058.000             1.000        294.000             3.000   \n",
       "14           30759.000             0.000            NaN             1.000   \n",
       "15           14259.000             1.000        590.000             1.000   \n",
       "16           10698.000             3.000        420.000             0.000   \n",
       "17           14616.000             0.000            NaN             1.000   \n",
       "18           10842.000             1.000        759.000             0.000   \n",
       "19           12843.000             0.000            NaN             0.000   \n",
       "\n",
       "    ponds_nearest  days_exposition  \n",
       "0         755.000              NaN  \n",
       "1             NaN           81.000  \n",
       "2         574.000          558.000  \n",
       "3         234.000          424.000  \n",
       "4          48.000          121.000  \n",
       "5             NaN           55.000  \n",
       "6             NaN          155.000  \n",
       "7             NaN              NaN  \n",
       "8             NaN          189.000  \n",
       "9             NaN          289.000  \n",
       "10        553.000          137.000  \n",
       "11            NaN            7.000  \n",
       "12            NaN           90.000  \n",
       "13        298.000          366.000  \n",
       "14         96.000          203.000  \n",
       "15        296.000           19.000  \n",
       "16            NaN          397.000  \n",
       "17        859.000          571.000  \n",
       "18            NaN          168.000  \n",
       "19            NaN           97.000  \n",
       "\n",
       "[20 rows x 22 columns]"
      ]
     },
     "execution_count": 29,
     "metadata": {},
     "output_type": "execute_result"
    }
   ],
   "source": [
    "data.head(20)"
   ]
  },
  {
   "cell_type": "markdown",
   "metadata": {},
   "source": [
    "Ознакомились с форматом данных таблицами."
   ]
  },
  {
   "cell_type": "code",
   "execution_count": 30,
   "metadata": {},
   "outputs": [
    {
     "data": {
      "image/png": "[encoded data removed]",
      "text/plain": [
       "<Figure size 1080x1440 with 20 Axes>"
      ]
     },
     "metadata": {
      "needs_background": "light"
     },
     "output_type": "display_data"
    }
   ],
   "source": [
    "data.hist(figsize=(15, 20));"
   ]
  },
  {
   "cell_type": "markdown",
   "metadata": {},
   "source": [
    "Ознакомились с гистограммами полученных данных."
   ]
  },
  {
   "cell_type": "markdown",
   "metadata": {},
   "source": [
    "### Предобработка данных"
   ]
  },
  {
   "cell_type": "markdown",
   "metadata": {},
   "source": [
    "#### Описываем пропуски в данных"
   ]
  },
  {
   "cell_type": "code",
   "execution_count": 31,
   "metadata": {},
   "outputs": [
    {
     "data": {
      "text/plain": [
       "total_images                0\n",
       "last_price                  0\n",
       "total_area                  0\n",
       "first_day_exposition        0\n",
       "rooms                       0\n",
       "ceiling_height           9195\n",
       "floors_total               86\n",
       "living_area              1903\n",
       "floor                       0\n",
       "is_apartment            20924\n",
       "studio                      0\n",
       "open_plan                   0\n",
       "kitchen_area             2278\n",
       "balcony                 11519\n",
       "locality_name              49\n",
       "airports_nearest         5542\n",
       "cityCenters_nearest      5519\n",
       "parks_around3000         5518\n",
       "parks_nearest           15620\n",
       "ponds_around3000         5518\n",
       "ponds_nearest           14589\n",
       "days_exposition          3181\n",
       "dtype: int64"
      ]
     },
     "execution_count": 31,
     "metadata": {},
     "output_type": "execute_result"
    }
   ],
   "source": [
    "data.isna().sum()"
   ]
  },
  {
   "cell_type": "markdown",
   "metadata": {},
   "source": [
    "9195 - ceiling_height — высота потолков (м)\n",
    "Люди могли просто не знать/замерить высоту потолков. Данные пропуски заполним медианным значением воизбежании влиение вбросов.\n",
    "\n",
    "86 - floors_total — всего этажей в доме\n",
    "Данный показатель является важным для принятия решений людей о покупке. Мы не можем заполнить эти значения данными, но их не много, мы их удалим.\n",
    "\n",
    "1903 - living_area — жилая площадь в квадратных метрах (м²)\n",
    "Этот показатель очень важен для исследования и пропуски имеют достатично большой объем от общей массы. Посчитаем примерную площадь по медианному значению стоимости одного квадратного метра.\n",
    "\n",
    "20924 - is_apartment — апартаменты (булев тип)\n",
    "Будем считать, что если данные не заполнены, то объект не является апартаментами.\n",
    "\n",
    "2278 - kitchen_area — площадь кухни в квадратных метрах (м²)\n",
    "\n",
    "\n",
    "11519 - balcony — число балконов\n",
    "Будем считать, что если данные не заполнены, то объект не  имеет балкона.\n",
    "\n",
    "59 - locality_name — название населённого пункта\n",
    "В зависимости от населенного пункта цена за квадратный метр может сильно отличаться, строк не много, мы их удалим.\n",
    "\n",
    "5542 - airports_nearest — расстояние до ближайшего аэропорта в метрах (м)\n",
    "Оставляем NaN, так как среднее/медианное посчитать невозможно, а 0 поставить не можем, так как это исказит данные.\n",
    "\n",
    "5519 - cityCenters_nearest — расстояние до центра города (м)\n",
    "Оставляем NaN, так как среднее/медианное посчитать невозможно, а 0 поставить не можем, так как это исказит данные.\n",
    "\n",
    "5518 - parks_around3000 — число парков в радиусе 3 км\n",
    "Будем считать, что если данные не заполнены, то в ближайшем окружении парки отсутствуют.\n",
    "\n",
    "15620 - parks_nearest — расстояние до ближайшего парка (м)\n",
    "Оставляем NaN, так как среднее/медианное посчитать невозможно, а 0 поставить не можем, так как это исказит данные.\n",
    "\n",
    "5518 - ponds_around3000 — число водоёмов в радиусе 3 км\n",
    "Будем считать, что если данные не заполнены, то в ближайшем окружении водоемы отсутствуют.\n",
    "\n",
    "14589 - ponds_nearest — расстояние до ближайшего водоёма (м)\n",
    "Оставляем NaN, так как среднее/медианное посчитать невозможно, а 0 поставить не можем, так как это исказит данные.\n",
    "\n",
    "3181 - days_exposition — сколько дней было размещено объявление (от публикации до снятия)\n",
    "Оставляем NaN, так как среднее/медианное посчитать невозможно, а 0 поставить не можем, так как это исказит данные."
   ]
  },
  {
   "cell_type": "code",
   "execution_count": 32,
   "metadata": {},
   "outputs": [],
   "source": [
    "# пропущенные значения бары\n",
    "\n",
    "def pass_value_barh(df):\n",
    "    try:\n",
    "        (\n",
    "            (df.isna().mean()*100)\n",
    "            .to_frame()\n",
    "            .rename(columns = {0:'space'})\n",
    "            .query('space > 0')\n",
    "            .sort_values(by = 'space', ascending = True)\n",
    "            .plot(kind = 'barh', figsize = (19,6), rot = -5, legend = False, fontsize = 16)\n",
    "            .set_title('Пример' + \"\\n\", fontsize = 22, color = 'SteelBlue')    \n",
    "        );    \n",
    "    except:\n",
    "        print('пропусков не осталось :) или произошла ошибка в первой части функции ')"
   ]
  },
  {
   "cell_type": "code",
   "execution_count": 33,
   "metadata": {},
   "outputs": [
    {
     "data": {
      "image/png": "[encoded data removed]",
      "text/plain": [
       "<Figure size 1368x432 with 1 Axes>"
      ]
     },
     "metadata": {
      "needs_background": "light"
     },
     "output_type": "display_data"
    }
   ],
   "source": [
    "pass_value_barh(data)"
   ]
  },
  {
   "cell_type": "markdown",
   "metadata": {},
   "source": [
    "#### Заполняем пропущенные значения там, где это возможно"
   ]
  },
  {
   "cell_type": "code",
   "execution_count": 34,
   "metadata": {},
   "outputs": [
    {
     "data": {
      "text/html": [
       "<div>\n",
       "<style scoped>\n",
       "    .dataframe tbody tr th:only-of-type {\n",
       "        vertical-align: middle;\n",
       "    }\n",
       "\n",
       "    .dataframe tbody tr th {\n",
       "        vertical-align: top;\n",
       "    }\n",
       "\n",
       "    .dataframe thead th {\n",
       "        text-align: right;\n",
       "    }\n",
       "</style>\n",
       "<table border=\"1\" class=\"dataframe\">\n",
       "  <thead>\n",
       "    <tr style=\"text-align: right;\">\n",
       "      <th></th>\n",
       "      <th>total_images</th>\n",
       "      <th>last_price</th>\n",
       "      <th>total_area</th>\n",
       "      <th>first_day_exposition</th>\n",
       "      <th>rooms</th>\n",
       "      <th>ceiling_height</th>\n",
       "      <th>floors_total</th>\n",
       "      <th>living_area</th>\n",
       "      <th>floor</th>\n",
       "      <th>is_apartment</th>\n",
       "      <th>...</th>\n",
       "      <th>balcony</th>\n",
       "      <th>locality_name</th>\n",
       "      <th>airports_nearest</th>\n",
       "      <th>cityCenters_nearest</th>\n",
       "      <th>parks_around3000</th>\n",
       "      <th>parks_nearest</th>\n",
       "      <th>ponds_around3000</th>\n",
       "      <th>ponds_nearest</th>\n",
       "      <th>days_exposition</th>\n",
       "      <th>avg_area_price</th>\n",
       "    </tr>\n",
       "  </thead>\n",
       "  <tbody>\n",
       "    <tr>\n",
       "      <th>0</th>\n",
       "      <td>20</td>\n",
       "      <td>13000000.000</td>\n",
       "      <td>108.000</td>\n",
       "      <td>2019-03-07T00:00:00</td>\n",
       "      <td>3</td>\n",
       "      <td>2.700</td>\n",
       "      <td>16.000</td>\n",
       "      <td>51.000</td>\n",
       "      <td>8</td>\n",
       "      <td>False</td>\n",
       "      <td>...</td>\n",
       "      <td>0.000</td>\n",
       "      <td>Санкт-Петербург</td>\n",
       "      <td>18863.000</td>\n",
       "      <td>16028.000</td>\n",
       "      <td>1.000</td>\n",
       "      <td>482.000</td>\n",
       "      <td>2.000</td>\n",
       "      <td>755.000</td>\n",
       "      <td>NaN</td>\n",
       "      <td>120370.370</td>\n",
       "    </tr>\n",
       "    <tr>\n",
       "      <th>1</th>\n",
       "      <td>7</td>\n",
       "      <td>3350000.000</td>\n",
       "      <td>40.400</td>\n",
       "      <td>2018-12-04T00:00:00</td>\n",
       "      <td>1</td>\n",
       "      <td>2.650</td>\n",
       "      <td>11.000</td>\n",
       "      <td>18.600</td>\n",
       "      <td>1</td>\n",
       "      <td>False</td>\n",
       "      <td>...</td>\n",
       "      <td>2.000</td>\n",
       "      <td>посёлок Шушары</td>\n",
       "      <td>12817.000</td>\n",
       "      <td>18603.000</td>\n",
       "      <td>0.000</td>\n",
       "      <td>NaN</td>\n",
       "      <td>0.000</td>\n",
       "      <td>NaN</td>\n",
       "      <td>81.000</td>\n",
       "      <td>82920.792</td>\n",
       "    </tr>\n",
       "    <tr>\n",
       "      <th>2</th>\n",
       "      <td>10</td>\n",
       "      <td>5196000.000</td>\n",
       "      <td>56.000</td>\n",
       "      <td>2015-08-20T00:00:00</td>\n",
       "      <td>2</td>\n",
       "      <td>2.650</td>\n",
       "      <td>5.000</td>\n",
       "      <td>34.300</td>\n",
       "      <td>4</td>\n",
       "      <td>False</td>\n",
       "      <td>...</td>\n",
       "      <td>0.000</td>\n",
       "      <td>Санкт-Петербург</td>\n",
       "      <td>21741.000</td>\n",
       "      <td>13933.000</td>\n",
       "      <td>1.000</td>\n",
       "      <td>90.000</td>\n",
       "      <td>2.000</td>\n",
       "      <td>574.000</td>\n",
       "      <td>558.000</td>\n",
       "      <td>92785.714</td>\n",
       "    </tr>\n",
       "    <tr>\n",
       "      <th>3</th>\n",
       "      <td>0</td>\n",
       "      <td>64900000.000</td>\n",
       "      <td>159.000</td>\n",
       "      <td>2015-07-24T00:00:00</td>\n",
       "      <td>3</td>\n",
       "      <td>2.650</td>\n",
       "      <td>14.000</td>\n",
       "      <td>48.947</td>\n",
       "      <td>9</td>\n",
       "      <td>False</td>\n",
       "      <td>...</td>\n",
       "      <td>0.000</td>\n",
       "      <td>Санкт-Петербург</td>\n",
       "      <td>28098.000</td>\n",
       "      <td>6800.000</td>\n",
       "      <td>2.000</td>\n",
       "      <td>84.000</td>\n",
       "      <td>3.000</td>\n",
       "      <td>234.000</td>\n",
       "      <td>424.000</td>\n",
       "      <td>408176.101</td>\n",
       "    </tr>\n",
       "    <tr>\n",
       "      <th>4</th>\n",
       "      <td>2</td>\n",
       "      <td>10000000.000</td>\n",
       "      <td>100.000</td>\n",
       "      <td>2018-06-19T00:00:00</td>\n",
       "      <td>2</td>\n",
       "      <td>3.030</td>\n",
       "      <td>14.000</td>\n",
       "      <td>32.000</td>\n",
       "      <td>13</td>\n",
       "      <td>False</td>\n",
       "      <td>...</td>\n",
       "      <td>0.000</td>\n",
       "      <td>Санкт-Петербург</td>\n",
       "      <td>31856.000</td>\n",
       "      <td>8098.000</td>\n",
       "      <td>2.000</td>\n",
       "      <td>112.000</td>\n",
       "      <td>1.000</td>\n",
       "      <td>48.000</td>\n",
       "      <td>121.000</td>\n",
       "      <td>100000.000</td>\n",
       "    </tr>\n",
       "    <tr>\n",
       "      <th>...</th>\n",
       "      <td>...</td>\n",
       "      <td>...</td>\n",
       "      <td>...</td>\n",
       "      <td>...</td>\n",
       "      <td>...</td>\n",
       "      <td>...</td>\n",
       "      <td>...</td>\n",
       "      <td>...</td>\n",
       "      <td>...</td>\n",
       "      <td>...</td>\n",
       "      <td>...</td>\n",
       "      <td>...</td>\n",
       "      <td>...</td>\n",
       "      <td>...</td>\n",
       "      <td>...</td>\n",
       "      <td>...</td>\n",
       "      <td>...</td>\n",
       "      <td>...</td>\n",
       "      <td>...</td>\n",
       "      <td>...</td>\n",
       "      <td>...</td>\n",
       "    </tr>\n",
       "    <tr>\n",
       "      <th>23560</th>\n",
       "      <td>9</td>\n",
       "      <td>9700000.000</td>\n",
       "      <td>133.810</td>\n",
       "      <td>2017-03-21T00:00:00</td>\n",
       "      <td>3</td>\n",
       "      <td>3.700</td>\n",
       "      <td>5.000</td>\n",
       "      <td>73.300</td>\n",
       "      <td>3</td>\n",
       "      <td>False</td>\n",
       "      <td>...</td>\n",
       "      <td>0.000</td>\n",
       "      <td>Санкт-Петербург</td>\n",
       "      <td>24665.000</td>\n",
       "      <td>4232.000</td>\n",
       "      <td>1.000</td>\n",
       "      <td>796.000</td>\n",
       "      <td>3.000</td>\n",
       "      <td>381.000</td>\n",
       "      <td>NaN</td>\n",
       "      <td>72490.845</td>\n",
       "    </tr>\n",
       "    <tr>\n",
       "      <th>23561</th>\n",
       "      <td>14</td>\n",
       "      <td>3100000.000</td>\n",
       "      <td>59.000</td>\n",
       "      <td>2018-01-15T00:00:00</td>\n",
       "      <td>3</td>\n",
       "      <td>2.650</td>\n",
       "      <td>5.000</td>\n",
       "      <td>38.000</td>\n",
       "      <td>4</td>\n",
       "      <td>False</td>\n",
       "      <td>...</td>\n",
       "      <td>0.000</td>\n",
       "      <td>Тосно</td>\n",
       "      <td>NaN</td>\n",
       "      <td>NaN</td>\n",
       "      <td>0.000</td>\n",
       "      <td>NaN</td>\n",
       "      <td>0.000</td>\n",
       "      <td>NaN</td>\n",
       "      <td>45.000</td>\n",
       "      <td>52542.373</td>\n",
       "    </tr>\n",
       "    <tr>\n",
       "      <th>23562</th>\n",
       "      <td>18</td>\n",
       "      <td>2500000.000</td>\n",
       "      <td>56.700</td>\n",
       "      <td>2018-02-11T00:00:00</td>\n",
       "      <td>2</td>\n",
       "      <td>2.650</td>\n",
       "      <td>3.000</td>\n",
       "      <td>29.700</td>\n",
       "      <td>1</td>\n",
       "      <td>False</td>\n",
       "      <td>...</td>\n",
       "      <td>0.000</td>\n",
       "      <td>село Рождествено</td>\n",
       "      <td>NaN</td>\n",
       "      <td>NaN</td>\n",
       "      <td>0.000</td>\n",
       "      <td>NaN</td>\n",
       "      <td>0.000</td>\n",
       "      <td>NaN</td>\n",
       "      <td>NaN</td>\n",
       "      <td>44091.711</td>\n",
       "    </tr>\n",
       "    <tr>\n",
       "      <th>23563</th>\n",
       "      <td>13</td>\n",
       "      <td>11475000.000</td>\n",
       "      <td>76.750</td>\n",
       "      <td>2017-03-28T00:00:00</td>\n",
       "      <td>2</td>\n",
       "      <td>3.000</td>\n",
       "      <td>17.000</td>\n",
       "      <td>48.947</td>\n",
       "      <td>12</td>\n",
       "      <td>False</td>\n",
       "      <td>...</td>\n",
       "      <td>2.000</td>\n",
       "      <td>Санкт-Петербург</td>\n",
       "      <td>39140.000</td>\n",
       "      <td>10364.000</td>\n",
       "      <td>2.000</td>\n",
       "      <td>173.000</td>\n",
       "      <td>3.000</td>\n",
       "      <td>196.000</td>\n",
       "      <td>602.000</td>\n",
       "      <td>149511.401</td>\n",
       "    </tr>\n",
       "    <tr>\n",
       "      <th>23564</th>\n",
       "      <td>4</td>\n",
       "      <td>1350000.000</td>\n",
       "      <td>32.300</td>\n",
       "      <td>2017-07-21T00:00:00</td>\n",
       "      <td>1</td>\n",
       "      <td>2.500</td>\n",
       "      <td>5.000</td>\n",
       "      <td>12.300</td>\n",
       "      <td>1</td>\n",
       "      <td>False</td>\n",
       "      <td>...</td>\n",
       "      <td>0.000</td>\n",
       "      <td>поселок Новый Учхоз</td>\n",
       "      <td>NaN</td>\n",
       "      <td>NaN</td>\n",
       "      <td>0.000</td>\n",
       "      <td>NaN</td>\n",
       "      <td>0.000</td>\n",
       "      <td>NaN</td>\n",
       "      <td>NaN</td>\n",
       "      <td>41795.666</td>\n",
       "    </tr>\n",
       "  </tbody>\n",
       "</table>\n",
       "<p>23565 rows × 23 columns</p>\n",
       "</div>"
      ],
      "text/plain": [
       "       total_images   last_price  total_area first_day_exposition  rooms  \\\n",
       "0                20 13000000.000     108.000  2019-03-07T00:00:00      3   \n",
       "1                 7  3350000.000      40.400  2018-12-04T00:00:00      1   \n",
       "2                10  5196000.000      56.000  2015-08-20T00:00:00      2   \n",
       "3                 0 64900000.000     159.000  2015-07-24T00:00:00      3   \n",
       "4                 2 10000000.000     100.000  2018-06-19T00:00:00      2   \n",
       "...             ...          ...         ...                  ...    ...   \n",
       "23560             9  9700000.000     133.810  2017-03-21T00:00:00      3   \n",
       "23561            14  3100000.000      59.000  2018-01-15T00:00:00      3   \n",
       "23562            18  2500000.000      56.700  2018-02-11T00:00:00      2   \n",
       "23563            13 11475000.000      76.750  2017-03-28T00:00:00      2   \n",
       "23564             4  1350000.000      32.300  2017-07-21T00:00:00      1   \n",
       "\n",
       "       ceiling_height  floors_total  living_area  floor  is_apartment  ...  \\\n",
       "0               2.700        16.000       51.000      8         False  ...   \n",
       "1               2.650        11.000       18.600      1         False  ...   \n",
       "2               2.650         5.000       34.300      4         False  ...   \n",
       "3               2.650        14.000       48.947      9         False  ...   \n",
       "4               3.030        14.000       32.000     13         False  ...   \n",
       "...               ...           ...          ...    ...           ...  ...   \n",
       "23560           3.700         5.000       73.300      3         False  ...   \n",
       "23561           2.650         5.000       38.000      4         False  ...   \n",
       "23562           2.650         3.000       29.700      1         False  ...   \n",
       "23563           3.000        17.000       48.947     12         False  ...   \n",
       "23564           2.500         5.000       12.300      1         False  ...   \n",
       "\n",
       "       balcony        locality_name  airports_nearest  cityCenters_nearest  \\\n",
       "0        0.000      Санкт-Петербург         18863.000            16028.000   \n",
       "1        2.000       посёлок Шушары         12817.000            18603.000   \n",
       "2        0.000      Санкт-Петербург         21741.000            13933.000   \n",
       "3        0.000      Санкт-Петербург         28098.000             6800.000   \n",
       "4        0.000      Санкт-Петербург         31856.000             8098.000   \n",
       "...        ...                  ...               ...                  ...   \n",
       "23560    0.000      Санкт-Петербург         24665.000             4232.000   \n",
       "23561    0.000                Тосно               NaN                  NaN   \n",
       "23562    0.000     село Рождествено               NaN                  NaN   \n",
       "23563    2.000      Санкт-Петербург         39140.000            10364.000   \n",
       "23564    0.000  поселок Новый Учхоз               NaN                  NaN   \n",
       "\n",
       "      parks_around3000  parks_nearest  ponds_around3000  ponds_nearest  \\\n",
       "0                1.000        482.000             2.000        755.000   \n",
       "1                0.000            NaN             0.000            NaN   \n",
       "2                1.000         90.000             2.000        574.000   \n",
       "3                2.000         84.000             3.000        234.000   \n",
       "4                2.000        112.000             1.000         48.000   \n",
       "...                ...            ...               ...            ...   \n",
       "23560            1.000        796.000             3.000        381.000   \n",
       "23561            0.000            NaN             0.000            NaN   \n",
       "23562            0.000            NaN             0.000            NaN   \n",
       "23563            2.000        173.000             3.000        196.000   \n",
       "23564            0.000            NaN             0.000            NaN   \n",
       "\n",
       "       days_exposition  avg_area_price  \n",
       "0                  NaN      120370.370  \n",
       "1               81.000       82920.792  \n",
       "2              558.000       92785.714  \n",
       "3              424.000      408176.101  \n",
       "4              121.000      100000.000  \n",
       "...                ...             ...  \n",
       "23560              NaN       72490.845  \n",
       "23561           45.000       52542.373  \n",
       "23562              NaN       44091.711  \n",
       "23563          602.000      149511.401  \n",
       "23564              NaN       41795.666  \n",
       "\n",
       "[23565 rows x 23 columns]"
      ]
     },
     "execution_count": 34,
     "metadata": {},
     "output_type": "execute_result"
    }
   ],
   "source": [
    "#Назначили медианное значение для пропусков в столбце 'ceiling_height'\n",
    "data['ceiling_height'] = data['ceiling_height'].fillna(data['ceiling_height'].median())\n",
    "#Удалили строки, где не указано количество этажей\n",
    "data = data.dropna(subset=['floors_total'])\n",
    "#Добавили столбец с ценой за квадратный метр\n",
    "data['avg_area_price'] = data['last_price'] / data['total_area']\n",
    "#В строки с пропущенной жилой площадью вставили значение частного от медиан средней цены квадратного метра и цены объекта\n",
    "data['living_area'] = data['living_area'].fillna(data['last_price'].median() / data['avg_area_price'].median())\n",
    "#В строки с пропущенными данными о том является объект апартаментами ставим False\n",
    "data['is_apartment'] = data['is_apartment'].fillna(False)\n",
    "#В строки с пропущенными данными о количестве балконов отмечаем их отсутствие\n",
    "data['balcony'] = data['balcony'].fillna(0)\n",
    "#Удаляем строки с отсутствующим названием объекта\n",
    "data = data.dropna(subset=['locality_name'])\n",
    "#У строк где отсутствуют данные о наличии в округе парков или прудов фиксируем отсутствие таковых\n",
    "data['parks_around3000'] = data['parks_around3000'].fillna(0)\n",
    "data['ponds_around3000'] = data['ponds_around3000'].fillna(0)\n",
    "\n",
    "data.reset_index(drop=True)"
   ]
  },
  {
   "cell_type": "code",
   "execution_count": 35,
   "metadata": {},
   "outputs": [
    {
     "data": {
      "text/html": [
       "<div>\n",
       "<style scoped>\n",
       "    .dataframe tbody tr th:only-of-type {\n",
       "        vertical-align: middle;\n",
       "    }\n",
       "\n",
       "    .dataframe tbody tr th {\n",
       "        vertical-align: top;\n",
       "    }\n",
       "\n",
       "    .dataframe thead th {\n",
       "        text-align: right;\n",
       "    }\n",
       "</style>\n",
       "<table border=\"1\" class=\"dataframe\">\n",
       "  <thead>\n",
       "    <tr style=\"text-align: right;\">\n",
       "      <th></th>\n",
       "      <th>total_images</th>\n",
       "      <th>last_price</th>\n",
       "      <th>total_area</th>\n",
       "      <th>first_day_exposition</th>\n",
       "      <th>rooms</th>\n",
       "      <th>ceiling_height</th>\n",
       "      <th>floors_total</th>\n",
       "      <th>living_area</th>\n",
       "      <th>floor</th>\n",
       "      <th>is_apartment</th>\n",
       "      <th>...</th>\n",
       "      <th>balcony</th>\n",
       "      <th>locality_name</th>\n",
       "      <th>airports_nearest</th>\n",
       "      <th>cityCenters_nearest</th>\n",
       "      <th>parks_around3000</th>\n",
       "      <th>parks_nearest</th>\n",
       "      <th>ponds_around3000</th>\n",
       "      <th>ponds_nearest</th>\n",
       "      <th>days_exposition</th>\n",
       "      <th>avg_area_price</th>\n",
       "    </tr>\n",
       "  </thead>\n",
       "  <tbody>\n",
       "    <tr>\n",
       "      <th>7</th>\n",
       "      <td>5</td>\n",
       "      <td>7915000.000</td>\n",
       "      <td>71.600</td>\n",
       "      <td>2019-04-18T00:00:00</td>\n",
       "      <td>2</td>\n",
       "      <td>2.650</td>\n",
       "      <td>24.000</td>\n",
       "      <td>48.947</td>\n",
       "      <td>22</td>\n",
       "      <td>False</td>\n",
       "      <td>...</td>\n",
       "      <td>2.000</td>\n",
       "      <td>Санкт-Петербург</td>\n",
       "      <td>23982.000</td>\n",
       "      <td>11634.000</td>\n",
       "      <td>0.000</td>\n",
       "      <td>NaN</td>\n",
       "      <td>0.000</td>\n",
       "      <td>NaN</td>\n",
       "      <td>NaN</td>\n",
       "      <td>110544.693</td>\n",
       "    </tr>\n",
       "    <tr>\n",
       "      <th>41</th>\n",
       "      <td>16</td>\n",
       "      <td>7900000.000</td>\n",
       "      <td>74.000</td>\n",
       "      <td>2016-05-04T00:00:00</td>\n",
       "      <td>3</td>\n",
       "      <td>2.650</td>\n",
       "      <td>14.000</td>\n",
       "      <td>59.000</td>\n",
       "      <td>8</td>\n",
       "      <td>False</td>\n",
       "      <td>...</td>\n",
       "      <td>5.000</td>\n",
       "      <td>Санкт-Петербург</td>\n",
       "      <td>37715.000</td>\n",
       "      <td>12612.000</td>\n",
       "      <td>1.000</td>\n",
       "      <td>725.000</td>\n",
       "      <td>1.000</td>\n",
       "      <td>759.000</td>\n",
       "      <td>179.000</td>\n",
       "      <td>106756.757</td>\n",
       "    </tr>\n",
       "    <tr>\n",
       "      <th>165</th>\n",
       "      <td>17</td>\n",
       "      <td>7430000.000</td>\n",
       "      <td>60.200</td>\n",
       "      <td>2019-02-28T00:00:00</td>\n",
       "      <td>2</td>\n",
       "      <td>2.500</td>\n",
       "      <td>4.000</td>\n",
       "      <td>48.947</td>\n",
       "      <td>2</td>\n",
       "      <td>False</td>\n",
       "      <td>...</td>\n",
       "      <td>0.000</td>\n",
       "      <td>Сестрорецк</td>\n",
       "      <td>54526.000</td>\n",
       "      <td>35625.000</td>\n",
       "      <td>0.000</td>\n",
       "      <td>NaN</td>\n",
       "      <td>0.000</td>\n",
       "      <td>NaN</td>\n",
       "      <td>NaN</td>\n",
       "      <td>123421.927</td>\n",
       "    </tr>\n",
       "    <tr>\n",
       "      <th>171</th>\n",
       "      <td>6</td>\n",
       "      <td>3800000.000</td>\n",
       "      <td>49.000</td>\n",
       "      <td>2019-02-22T00:00:00</td>\n",
       "      <td>2</td>\n",
       "      <td>2.500</td>\n",
       "      <td>9.000</td>\n",
       "      <td>38.000</td>\n",
       "      <td>8</td>\n",
       "      <td>False</td>\n",
       "      <td>...</td>\n",
       "      <td>1.000</td>\n",
       "      <td>посёлок Шушары</td>\n",
       "      <td>18471.000</td>\n",
       "      <td>24272.000</td>\n",
       "      <td>0.000</td>\n",
       "      <td>NaN</td>\n",
       "      <td>0.000</td>\n",
       "      <td>NaN</td>\n",
       "      <td>11.000</td>\n",
       "      <td>77551.020</td>\n",
       "    </tr>\n",
       "    <tr>\n",
       "      <th>184</th>\n",
       "      <td>7</td>\n",
       "      <td>2600000.000</td>\n",
       "      <td>30.200</td>\n",
       "      <td>2018-02-14T00:00:00</td>\n",
       "      <td>1</td>\n",
       "      <td>2.650</td>\n",
       "      <td>9.000</td>\n",
       "      <td>26.100</td>\n",
       "      <td>5</td>\n",
       "      <td>False</td>\n",
       "      <td>...</td>\n",
       "      <td>0.000</td>\n",
       "      <td>Санкт-Петербург</td>\n",
       "      <td>13952.000</td>\n",
       "      <td>15031.000</td>\n",
       "      <td>0.000</td>\n",
       "      <td>NaN</td>\n",
       "      <td>1.000</td>\n",
       "      <td>824.000</td>\n",
       "      <td>12.000</td>\n",
       "      <td>86092.715</td>\n",
       "    </tr>\n",
       "    <tr>\n",
       "      <th>...</th>\n",
       "      <td>...</td>\n",
       "      <td>...</td>\n",
       "      <td>...</td>\n",
       "      <td>...</td>\n",
       "      <td>...</td>\n",
       "      <td>...</td>\n",
       "      <td>...</td>\n",
       "      <td>...</td>\n",
       "      <td>...</td>\n",
       "      <td>...</td>\n",
       "      <td>...</td>\n",
       "      <td>...</td>\n",
       "      <td>...</td>\n",
       "      <td>...</td>\n",
       "      <td>...</td>\n",
       "      <td>...</td>\n",
       "      <td>...</td>\n",
       "      <td>...</td>\n",
       "      <td>...</td>\n",
       "      <td>...</td>\n",
       "      <td>...</td>\n",
       "    </tr>\n",
       "    <tr>\n",
       "      <th>23426</th>\n",
       "      <td>17</td>\n",
       "      <td>8778000.000</td>\n",
       "      <td>47.500</td>\n",
       "      <td>2014-12-29T00:00:00</td>\n",
       "      <td>1</td>\n",
       "      <td>3.000</td>\n",
       "      <td>7.000</td>\n",
       "      <td>48.947</td>\n",
       "      <td>4</td>\n",
       "      <td>False</td>\n",
       "      <td>...</td>\n",
       "      <td>2.000</td>\n",
       "      <td>Санкт-Петербург</td>\n",
       "      <td>39412.000</td>\n",
       "      <td>10186.000</td>\n",
       "      <td>1.000</td>\n",
       "      <td>1424.000</td>\n",
       "      <td>3.000</td>\n",
       "      <td>204.000</td>\n",
       "      <td>1360.000</td>\n",
       "      <td>184800.000</td>\n",
       "    </tr>\n",
       "    <tr>\n",
       "      <th>23521</th>\n",
       "      <td>13</td>\n",
       "      <td>8500000.000</td>\n",
       "      <td>65.000</td>\n",
       "      <td>2018-11-01T00:00:00</td>\n",
       "      <td>2</td>\n",
       "      <td>2.650</td>\n",
       "      <td>4.000</td>\n",
       "      <td>44.000</td>\n",
       "      <td>2</td>\n",
       "      <td>False</td>\n",
       "      <td>...</td>\n",
       "      <td>0.000</td>\n",
       "      <td>Санкт-Петербург</td>\n",
       "      <td>22276.000</td>\n",
       "      <td>3996.000</td>\n",
       "      <td>1.000</td>\n",
       "      <td>627.000</td>\n",
       "      <td>0.000</td>\n",
       "      <td>NaN</td>\n",
       "      <td>NaN</td>\n",
       "      <td>130769.231</td>\n",
       "    </tr>\n",
       "    <tr>\n",
       "      <th>23534</th>\n",
       "      <td>9</td>\n",
       "      <td>3900000.000</td>\n",
       "      <td>39.000</td>\n",
       "      <td>2017-12-01T00:00:00</td>\n",
       "      <td>1</td>\n",
       "      <td>2.650</td>\n",
       "      <td>16.000</td>\n",
       "      <td>48.947</td>\n",
       "      <td>15</td>\n",
       "      <td>False</td>\n",
       "      <td>...</td>\n",
       "      <td>1.000</td>\n",
       "      <td>Санкт-Петербург</td>\n",
       "      <td>14730.000</td>\n",
       "      <td>13526.000</td>\n",
       "      <td>0.000</td>\n",
       "      <td>NaN</td>\n",
       "      <td>0.000</td>\n",
       "      <td>NaN</td>\n",
       "      <td>464.000</td>\n",
       "      <td>100000.000</td>\n",
       "    </tr>\n",
       "    <tr>\n",
       "      <th>23680</th>\n",
       "      <td>14</td>\n",
       "      <td>5000000.000</td>\n",
       "      <td>59.000</td>\n",
       "      <td>2019-04-04T00:00:00</td>\n",
       "      <td>3</td>\n",
       "      <td>2.500</td>\n",
       "      <td>5.000</td>\n",
       "      <td>52.000</td>\n",
       "      <td>1</td>\n",
       "      <td>False</td>\n",
       "      <td>...</td>\n",
       "      <td>0.000</td>\n",
       "      <td>Санкт-Петербург</td>\n",
       "      <td>26835.000</td>\n",
       "      <td>11878.000</td>\n",
       "      <td>0.000</td>\n",
       "      <td>NaN</td>\n",
       "      <td>0.000</td>\n",
       "      <td>NaN</td>\n",
       "      <td>NaN</td>\n",
       "      <td>84745.763</td>\n",
       "    </tr>\n",
       "    <tr>\n",
       "      <th>23697</th>\n",
       "      <td>13</td>\n",
       "      <td>11475000.000</td>\n",
       "      <td>76.750</td>\n",
       "      <td>2017-03-28T00:00:00</td>\n",
       "      <td>2</td>\n",
       "      <td>3.000</td>\n",
       "      <td>17.000</td>\n",
       "      <td>48.947</td>\n",
       "      <td>12</td>\n",
       "      <td>False</td>\n",
       "      <td>...</td>\n",
       "      <td>2.000</td>\n",
       "      <td>Санкт-Петербург</td>\n",
       "      <td>39140.000</td>\n",
       "      <td>10364.000</td>\n",
       "      <td>2.000</td>\n",
       "      <td>173.000</td>\n",
       "      <td>3.000</td>\n",
       "      <td>196.000</td>\n",
       "      <td>602.000</td>\n",
       "      <td>149511.401</td>\n",
       "    </tr>\n",
       "  </tbody>\n",
       "</table>\n",
       "<p>762 rows × 23 columns</p>\n",
       "</div>"
      ],
      "text/plain": [
       "       total_images   last_price  total_area first_day_exposition  rooms  \\\n",
       "7                 5  7915000.000      71.600  2019-04-18T00:00:00      2   \n",
       "41               16  7900000.000      74.000  2016-05-04T00:00:00      3   \n",
       "165              17  7430000.000      60.200  2019-02-28T00:00:00      2   \n",
       "171               6  3800000.000      49.000  2019-02-22T00:00:00      2   \n",
       "184               7  2600000.000      30.200  2018-02-14T00:00:00      1   \n",
       "...             ...          ...         ...                  ...    ...   \n",
       "23426            17  8778000.000      47.500  2014-12-29T00:00:00      1   \n",
       "23521            13  8500000.000      65.000  2018-11-01T00:00:00      2   \n",
       "23534             9  3900000.000      39.000  2017-12-01T00:00:00      1   \n",
       "23680            14  5000000.000      59.000  2019-04-04T00:00:00      3   \n",
       "23697            13 11475000.000      76.750  2017-03-28T00:00:00      2   \n",
       "\n",
       "       ceiling_height  floors_total  living_area  floor  is_apartment  ...  \\\n",
       "7               2.650        24.000       48.947     22         False  ...   \n",
       "41              2.650        14.000       59.000      8         False  ...   \n",
       "165             2.500         4.000       48.947      2         False  ...   \n",
       "171             2.500         9.000       38.000      8         False  ...   \n",
       "184             2.650         9.000       26.100      5         False  ...   \n",
       "...               ...           ...          ...    ...           ...  ...   \n",
       "23426           3.000         7.000       48.947      4         False  ...   \n",
       "23521           2.650         4.000       44.000      2         False  ...   \n",
       "23534           2.650        16.000       48.947     15         False  ...   \n",
       "23680           2.500         5.000       52.000      1         False  ...   \n",
       "23697           3.000        17.000       48.947     12         False  ...   \n",
       "\n",
       "       balcony    locality_name  airports_nearest  cityCenters_nearest  \\\n",
       "7        2.000  Санкт-Петербург         23982.000            11634.000   \n",
       "41       5.000  Санкт-Петербург         37715.000            12612.000   \n",
       "165      0.000       Сестрорецк         54526.000            35625.000   \n",
       "171      1.000   посёлок Шушары         18471.000            24272.000   \n",
       "184      0.000  Санкт-Петербург         13952.000            15031.000   \n",
       "...        ...              ...               ...                  ...   \n",
       "23426    2.000  Санкт-Петербург         39412.000            10186.000   \n",
       "23521    0.000  Санкт-Петербург         22276.000             3996.000   \n",
       "23534    1.000  Санкт-Петербург         14730.000            13526.000   \n",
       "23680    0.000  Санкт-Петербург         26835.000            11878.000   \n",
       "23697    2.000  Санкт-Петербург         39140.000            10364.000   \n",
       "\n",
       "      parks_around3000  parks_nearest  ponds_around3000  ponds_nearest  \\\n",
       "7                0.000            NaN             0.000            NaN   \n",
       "41               1.000        725.000             1.000        759.000   \n",
       "165              0.000            NaN             0.000            NaN   \n",
       "171              0.000            NaN             0.000            NaN   \n",
       "184              0.000            NaN             1.000        824.000   \n",
       "...                ...            ...               ...            ...   \n",
       "23426            1.000       1424.000             3.000        204.000   \n",
       "23521            1.000        627.000             0.000            NaN   \n",
       "23534            0.000            NaN             0.000            NaN   \n",
       "23680            0.000            NaN             0.000            NaN   \n",
       "23697            2.000        173.000             3.000        196.000   \n",
       "\n",
       "       days_exposition  avg_area_price  \n",
       "7                  NaN      110544.693  \n",
       "41             179.000      106756.757  \n",
       "165                NaN      123421.927  \n",
       "171             11.000       77551.020  \n",
       "184             12.000       86092.715  \n",
       "...                ...             ...  \n",
       "23426         1360.000      184800.000  \n",
       "23521              NaN      130769.231  \n",
       "23534          464.000      100000.000  \n",
       "23680              NaN       84745.763  \n",
       "23697          602.000      149511.401  \n",
       "\n",
       "[762 rows x 23 columns]"
      ]
     },
     "execution_count": 35,
     "metadata": {},
     "output_type": "execute_result"
    }
   ],
   "source": [
    "data[data['total_area']*0.9 <= (data['living_area'] + data['kitchen_area'])]"
   ]
  },
  {
   "cell_type": "code",
   "execution_count": 36,
   "metadata": {},
   "outputs": [
    {
     "data": {
      "image/png": "[encoded data removed]",
      "text/plain": [
       "<Figure size 1080x576 with 1 Axes>"
      ]
     },
     "metadata": {
      "needs_background": "light"
     },
     "output_type": "display_data"
    }
   ],
   "source": [
    "data[data['rooms'] == 3].query('total_area < 201 and last_price < 25_000_000').plot(kind='scatter',\n",
    "        y='living_area' , x='total_area', alpha=0.5, subplots=True, figsize=(15,8), c = 'black', s = 4)\n",
    "plt.title('Диаграмма рассеяния — Общая площадь — Жилая');"
   ]
  },
  {
   "cell_type": "markdown",
   "metadata": {},
   "source": [
    "#### Устраняем неявные дубликаты в названиях населенных пунктов"
   ]
  },
  {
   "cell_type": "code",
   "execution_count": 37,
   "metadata": {},
   "outputs": [],
   "source": [
    "#Создаем новый столбец с названиями населенных пунктов. Создаем список строк, которые могут создать дубликаты и циклом убираем из новосозданного столбца.\n",
    "data['clear_locality_name'] = data['locality_name']\n",
    "locality_name_cleaner = ['посёлок ', 'поселок ', 'городского типа ', 'городской ', 'деревня ',\\\n",
    "                         'садовое товарищество ', 'село ', 'коттеджный ', 'станции ',\\\n",
    "                         'садоводческое некоммерческое товарищество ', 'при железнодорожной ']\n",
    "\n",
    "for name in locality_name_cleaner:\n",
    "    data['clear_locality_name'] = data['clear_locality_name'].str.replace(name, '')"
   ]
  },
  {
   "cell_type": "code",
   "execution_count": 38,
   "metadata": {},
   "outputs": [
    {
     "data": {
      "text/plain": [
       "305"
      ]
     },
     "execution_count": 38,
     "metadata": {},
     "output_type": "execute_result"
    }
   ],
   "source": [
    "data.clear_locality_name.nunique()"
   ]
  },
  {
   "cell_type": "code",
   "execution_count": 39,
   "metadata": {
    "scrolled": true
   },
   "outputs": [
    {
     "data": {
      "text/plain": [
       "array(['Санкт-Петербург', 'Шушары', 'Янино-1', 'Парголово', 'Мурино',\n",
       "       'Ломоносов', 'Сертолово', 'Петергоф', 'Пушкин', 'Кудрово',\n",
       "       'Коммунар', 'Колпино', 'Красный Бор', 'Гатчина', 'Фёдоровское',\n",
       "       'Выборг', 'Кронштадт', 'Кировск', 'Новое Девяткино',\n",
       "       'Металлострой', 'Лебяжье', 'Сиверский', 'Молодцово',\n",
       "       'Кузьмоловский', 'Новая Ропша', 'Павловск', 'Пикколово',\n",
       "       'Всеволожск', 'Волхов', 'Кингисепп', 'Приозерск', 'Сестрорецк',\n",
       "       'Куттузи', 'Аннино', 'Ефимовский', 'Плодовое', 'Заклинье',\n",
       "       'Торковичи', 'Первомайское', 'Красное Село', 'Понтонный',\n",
       "       'Сясьстрой', 'Старая', 'Лесколово', 'Новый Свет', 'Сланцы',\n",
       "       'Путилово', 'Ивангород', 'Шлиссельбург', 'Никольское',\n",
       "       'Зеленогорск', 'Сосновый Бор', 'Оржицы', 'Кальтино', 'Романовка',\n",
       "       'Бугры', 'Рощино', 'Кириши', 'Луга', 'Волосово', 'Отрадное',\n",
       "       'Павлово', 'Оредеж', 'Копорье', 'Молодёжное', 'Тихвин', 'Победа',\n",
       "       'Нурма', 'Синявино', 'Тосно', 'Стрельна', 'Бокситогорск',\n",
       "       'Александровская', 'Лопухинка', 'Пикалёво', 'Терволово',\n",
       "       'Советский', 'Подпорожье', 'Петровское', 'Токсово', 'Сельцо',\n",
       "       'Вырица', 'Кипень', 'Келози', 'Вартемяги', 'Тельмана',\n",
       "       'Севастьяново', 'Большая Ижора', 'Агалатово', 'Новогорелово',\n",
       "       'Лесогорский', 'Лаголово', 'Цвелодубово', 'Рахья', 'Белогорка',\n",
       "       'Заводской', 'Новоселье', 'Большие Колпаны', 'Горбунки', 'Батово',\n",
       "       'Заневка', 'Иссад', 'Приморск', 'Мистолово', 'Новая Ладога',\n",
       "       'Зимитицы', 'Барышево', 'Разметелево', 'имени Свердлова', 'Пеники',\n",
       "       'Рябово', 'Пудомяги', 'Корнево', 'Низино', 'Бегуницы', 'Поляны',\n",
       "       'Мга', 'Елизаветино', 'Кузнечное', 'Колтуши', 'Запорожское',\n",
       "       'Гостилицы', 'Малое Карлино', 'Мичуринское', 'имени Морозова',\n",
       "       'Песочный', 'Сосново', 'Аро', 'Ильичёво', 'Тайцы', 'Малое Верево',\n",
       "       'Извара', 'Вещево', 'Паша', 'Калитино', 'Ульяновка', 'Чудской Бор',\n",
       "       'Дубровка', 'Мины', 'Войсковицы', 'Коркино', 'Ропша',\n",
       "       'Приладожский', 'Щеглово', 'Гаврилово', 'Лодейное Поле',\n",
       "       'Рабитицы', 'Никольский', 'Кузьмолово', 'Малые Колпаны',\n",
       "       'Петро-Славянка', 'Назия', 'Репино', 'Углово', 'Старая Малукса',\n",
       "       'Меньково', 'Старые Бегуницы', 'Сапёрный', 'Семрино', 'Глажево',\n",
       "       'Кобринское', 'Гарболово', 'Юкки', 'Приветнинское', 'Мануйлово',\n",
       "       'Пчева', 'Цвылёво', 'Мельниково', 'Пудость', 'Усть-Луга',\n",
       "       'Светогорск', 'Любань', 'Селезнёво', 'Каменногорск', 'Кривко',\n",
       "       'Глебычево', 'Парицы', 'Жилпосёлок', 'Войскорово', 'Стеклянный',\n",
       "       'Важины', 'Мыза-Ивановка', 'Русско-Высоцкое', 'Форносово',\n",
       "       'Старая Ладога', 'Житково', 'Виллози', 'Лампово', 'Шпаньково',\n",
       "       'Лаврики', 'Сумино', 'Возрождение', 'Старосиверская', 'Кикерино',\n",
       "       'Старое Хинколово', 'Пригородный', 'Торфяное', 'Будогощь',\n",
       "       'Суходолье', 'Красная Долина', 'Хапо-Ое', 'Дружная Горка',\n",
       "       'Лисий Нос', 'Яльгелево', 'Рождествено', 'Старополье', 'Левашово',\n",
       "       'Сяськелево', 'Камышовка', 'Лесная Поляна', 'Хязельки',\n",
       "       'Жилгородок', 'Ялгино', 'Новый Учхоз', 'Гончарово', 'Почап',\n",
       "       'Сапёрное', 'Платформа 69-й километр', 'Каложицы', 'Фалилеево',\n",
       "       'Пельгора', 'Торошковичи', 'Белоостров', 'Алексеевка',\n",
       "       'Серебрянский', 'Лукаши', 'Тарасово', 'Кингисеппский', 'Ушаки',\n",
       "       'Котлы', 'Сижно', 'Торосово', 'Форт Красная Горка', 'Новолисино',\n",
       "       'Громово', 'Глинка', 'Старая Пустошь', 'Коммунары', 'Починок',\n",
       "       'Вознесенье', 'Разбегаево', 'Гладкое', 'Тёсово-4', 'Бор',\n",
       "       'Коробицыно', 'Большая Вруда', 'Курковицы', 'Кобралово',\n",
       "       'Суоранда', 'Кондратьево', 'Счастье', 'Реброво', 'Тойворово',\n",
       "       'Семиозерье', 'Лесное', 'Совхозный', 'Ленинское', 'Суйда',\n",
       "       'Нижние Осельки', 'Свирь', 'Перово', 'Высоцк', 'Шум', 'Котельский',\n",
       "       'Лужайка', 'Большая Пустомержа', 'Красносельское', 'Вахнова Кара',\n",
       "       'Пижма', 'Кивеннапа Север', 'Ромашки', 'Каськово', 'Куровицы',\n",
       "       'Плоское', 'Кирпичное', 'Ям-Тесово', 'Раздолье', 'Терпилицы',\n",
       "       'Шугозеро', 'Ваганово', 'Пушное', 'Садко', 'Усть-Ижора',\n",
       "       'Выскатка', 'Свирьстрой', 'Кисельня', 'Трубников Бор',\n",
       "       'Высокоключевой', 'Пансионат Зелёный Бор', 'Ненимяки',\n",
       "       'Снегирёвка', 'Рапполово', 'Пустынка', 'Большой Сабск', 'Русско',\n",
       "       'Лупполово', 'Большое Рейзино', 'Малая Романовка', 'Дружноселье',\n",
       "       'Пчевжа', 'Володарское', 'Нижняя', 'Тихковицы', 'Борисова Грива',\n",
       "       'Дзержинского'], dtype=object)"
      ]
     },
     "execution_count": 39,
     "metadata": {},
     "output_type": "execute_result"
    }
   ],
   "source": [
    "data.clear_locality_name.unique()"
   ]
  },
  {
   "cell_type": "markdown",
   "metadata": {},
   "source": [
    "#### Преобразуем тип данных в столбцах, где это нужно"
   ]
  },
  {
   "cell_type": "code",
   "execution_count": 40,
   "metadata": {},
   "outputs": [],
   "source": [
    "# Убираем десятичные, так как копейки нам не нужны\n",
    "data['last_price'] = data['last_price'].astype('int')\n",
    "# Меняем данные на формат даты\n",
    "data['first_day_exposition'] = pd.to_datetime(data['first_day_exposition'], format='%Y-%m-%dT%H:%M:%S')\n",
    "# Убираем десятичные за ненадобностью\n",
    "data['floors_total'] = data['floors_total'].astype('int')\n",
    "# Приводим к логичному формату\n",
    "data['is_apartment'] = data['is_apartment'].astype('bool')\n",
    "# Убираем десятичные за ненадобностью\n",
    "data['balcony'] = data['balcony'].astype('int')\n",
    "# Убираем десятичные за ненадобностью\n",
    "data['parks_around3000'] = data['parks_around3000'].astype('int')\n",
    "# Убираем десятичные за ненадобностью\n",
    "data['ponds_around3000'] = data['ponds_around3000'].astype('int')\n",
    "# Убираем десятичные, так как копейки нам не нужны\n",
    "data['avg_area_price'] = data['avg_area_price'].astype('int')"
   ]
  },
  {
   "cell_type": "code",
   "execution_count": 41,
   "metadata": {},
   "outputs": [
    {
     "name": "stdout",
     "output_type": "stream",
     "text": [
      "<class 'pandas.core.frame.DataFrame'>\n",
      "Int64Index: 23565 entries, 0 to 23698\n",
      "Data columns (total 24 columns):\n",
      " #   Column                Non-Null Count  Dtype         \n",
      "---  ------                --------------  -----         \n",
      " 0   total_images          23565 non-null  int64         \n",
      " 1   last_price            23565 non-null  int64         \n",
      " 2   total_area            23565 non-null  float64       \n",
      " 3   first_day_exposition  23565 non-null  datetime64[ns]\n",
      " 4   rooms                 23565 non-null  int64         \n",
      " 5   ceiling_height        23565 non-null  float64       \n",
      " 6   floors_total          23565 non-null  int64         \n",
      " 7   living_area           23565 non-null  float64       \n",
      " 8   floor                 23565 non-null  int64         \n",
      " 9   is_apartment          23565 non-null  bool          \n",
      " 10  studio                23565 non-null  bool          \n",
      " 11  open_plan             23565 non-null  bool          \n",
      " 12  kitchen_area          21343 non-null  float64       \n",
      " 13  balcony               23565 non-null  int64         \n",
      " 14  locality_name         23565 non-null  object        \n",
      " 15  airports_nearest      18041 non-null  float64       \n",
      " 16  cityCenters_nearest   18064 non-null  float64       \n",
      " 17  parks_around3000      23565 non-null  int64         \n",
      " 18  parks_nearest         8030 non-null   float64       \n",
      " 19  ponds_around3000      23565 non-null  int64         \n",
      " 20  ponds_nearest         9036 non-null   float64       \n",
      " 21  days_exposition       20394 non-null  float64       \n",
      " 22  avg_area_price        23565 non-null  int64         \n",
      " 23  clear_locality_name   23565 non-null  object        \n",
      "dtypes: bool(3), datetime64[ns](1), float64(9), int64(9), object(2)\n",
      "memory usage: 4.0+ MB\n"
     ]
    }
   ],
   "source": [
    "data.info()"
   ]
  },
  {
   "cell_type": "markdown",
   "metadata": {},
   "source": [
    "#### Убираем выбивающиеся значения"
   ]
  },
  {
   "cell_type": "code",
   "execution_count": 42,
   "metadata": {},
   "outputs": [],
   "source": [
    "#Все значения высот потолков которые равны или больше 20-и метров, мы делим на 10\n",
    "data['ceiling_height'] = data['ceiling_height'].apply(lambda x: x/10 if x>=20 else x)\n",
    "#Заменяем значения расстояния до аэропорта равные 0-ю на тип None\n",
    "data['airports_nearest'] =  data['airports_nearest'].replace(0, None)\n",
    "\n",
    "data = data.query('0 < rooms < 8')\n",
    "data = data.query('22 < total_area < 380')\n",
    "data = data.query('561384 <= last_price <= 36000000')\n",
    "data = data.query('2.4 <= ceiling_height <= 5')\n",
    "data = data.query('2 <= floors_total <= 35')"
   ]
  },
  {
   "cell_type": "markdown",
   "metadata": {},
   "source": [
    "### Посчитайте и добавьте в таблицу новые столбцы"
   ]
  },
  {
   "cell_type": "code",
   "execution_count": 43,
   "metadata": {},
   "outputs": [],
   "source": [
    "#Цена одного квадратного метра подсчитана ранее и добавлена под названием 'avg_area-price'\n",
    "#Добавляем день недели публикации объявления\n",
    "data['weekday'] = data['first_day_exposition'].dt.weekday\n",
    "#Добавляем месяц публикации объявления\n",
    "data['month_number'] = data['first_day_exposition'].dt.month\n",
    "#Добавляем год публикации объявления\n",
    "data['year'] = data['first_day_exposition'].dt.year\n",
    "#Добавлен тип этажа объявления (первый, последний, другой)\n",
    "def categorize_floor(df):\n",
    "    floor = df['floor']\n",
    "    floors_total = df['floors_total']\n",
    "\n",
    "    if floor == 1:\n",
    "            return 'первый'\n",
    "    if floor == floors_total:\n",
    "            return 'последний'\n",
    "    return 'другой'\n",
    "\n",
    "data['floor_type'] = data.apply(categorize_floor, axis=1)\n",
    "#Подсчитано и добавлено расстояние до центра города в километрах\n",
    "data['cityCenters_nearest_km'] = data['cityCenters_nearest'] / 1000"
   ]
  },
  {
   "cell_type": "markdown",
   "metadata": {},
   "source": [
    "### Проведите исследовательский анализ данных"
   ]
  },
  {
   "cell_type": "markdown",
   "metadata": {},
   "source": [
    "#### Площадь объекта"
   ]
  },
  {
   "cell_type": "code",
   "execution_count": 44,
   "metadata": {},
   "outputs": [
    {
     "name": "stdout",
     "output_type": "stream",
     "text": [
      "count   22966.000\n",
      "mean       58.775\n",
      "std        28.178\n",
      "min        22.230\n",
      "25%        40.100\n",
      "50%        52.000\n",
      "75%        69.000\n",
      "max       365.000\n",
      "Name: total_area, dtype: float64\n"
     ]
    },
    {
     "data": {
      "image/png": "[encoded data removed]",
      "text/plain": [
       "<Figure size 1440x360 with 1 Axes>"
      ]
     },
     "metadata": {
      "needs_background": "light"
     },
     "output_type": "display_data"
    }
   ],
   "source": [
    "print(data['total_area'].describe())\n",
    "data['total_area'].hist(bins=334, figsize=(20, 5), range=(22, 356));"
   ]
  },
  {
   "cell_type": "markdown",
   "metadata": {},
   "source": [
    "**Вывод:**\n",
    "Основной объем квартир приходится на площадь с 40 до 70 квадратных метров. Самые типовые квартиры это 40 - 45 и 60 квадратных метров."
   ]
  },
  {
   "cell_type": "markdown",
   "metadata": {},
   "source": [
    "#### Жилая площадь"
   ]
  },
  {
   "cell_type": "code",
   "execution_count": 45,
   "metadata": {},
   "outputs": [
    {
     "name": "stdout",
     "output_type": "stream",
     "text": [
      "count   22966.000\n",
      "mean       34.808\n",
      "std        18.189\n",
      "min         2.000\n",
      "25%        19.100\n",
      "50%        31.000\n",
      "75%        45.500\n",
      "max       248.500\n",
      "Name: living_area, dtype: float64\n"
     ]
    },
    {
     "data": {
      "image/png": "[encoded data removed]",
      "text/plain": [
       "<Figure size 1440x360 with 1 Axes>"
      ]
     },
     "metadata": {
      "needs_background": "light"
     },
     "output_type": "display_data"
    }
   ],
   "source": [
    "print(data['living_area'].describe())\n",
    "data['living_area'].hist(bins=201, figsize=(20, 5), range=(10, 211));"
   ]
  },
  {
   "cell_type": "markdown",
   "metadata": {},
   "source": [
    "**Вывод:**\n",
    "По жилой площади основные объекты находятся между 20 и 49 метрами. Среди них преобладает медианное значение - 31 квадратный метр. Также, мы видим большие скачки на гистограмме всех данных: около 20 и 49 метров."
   ]
  },
  {
   "cell_type": "markdown",
   "metadata": {},
   "source": [
    "#### Площадь кухни"
   ]
  },
  {
   "cell_type": "code",
   "execution_count": 46,
   "metadata": {},
   "outputs": [
    {
     "name": "stdout",
     "output_type": "stream",
     "text": [
      "count   21030.000\n",
      "mean       10.359\n",
      "std         5.220\n",
      "min         1.300\n",
      "25%         7.000\n",
      "50%         9.000\n",
      "75%        11.900\n",
      "max       100.700\n",
      "Name: kitchen_area, dtype: float64\n"
     ]
    },
    {
     "data": {
      "text/plain": [
       "<AxesSubplot:>"
      ]
     },
     "execution_count": 46,
     "metadata": {},
     "output_type": "execute_result"
    },
    {
     "data": {
      "image/png": "[encoded data removed]",
      "text/plain": [
       "<Figure size 1440x360 with 1 Axes>"
      ]
     },
     "metadata": {
      "needs_background": "light"
     },
     "output_type": "display_data"
    }
   ],
   "source": [
    "print(data['kitchen_area'].describe())\n",
    "data['kitchen_area'].hist(bins=57, figsize=(20, 5), range=(3, 60))"
   ]
  },
  {
   "cell_type": "markdown",
   "metadata": {},
   "source": [
    "**Выводы:**\n",
    "Самые частые площади кухонь от 6 до 11 квадратных метров. С явным проявлением 6, 8 и 10 метров."
   ]
  },
  {
   "cell_type": "markdown",
   "metadata": {},
   "source": [
    "#### Цена объекта"
   ]
  },
  {
   "cell_type": "code",
   "execution_count": 47,
   "metadata": {},
   "outputs": [
    {
     "name": "stdout",
     "output_type": "stream",
     "text": [
      "count      22966.000\n",
      "mean     5856838.907\n",
      "std      4308274.610\n",
      "min       565000.000\n",
      "25%      3450000.000\n",
      "50%      4650000.000\n",
      "75%      6700000.000\n",
      "max     36000000.000\n",
      "Name: last_price, dtype: float64\n"
     ]
    },
    {
     "data": {
      "text/plain": [
       "<AxesSubplot:>"
      ]
     },
     "execution_count": 47,
     "metadata": {},
     "output_type": "execute_result"
    },
    {
     "data": {
      "image/png": "[encoded data removed]",
      "text/plain": [
       "<Figure size 1440x360 with 1 Axes>"
      ]
     },
     "metadata": {
      "needs_background": "light"
     },
     "output_type": "display_data"
    }
   ],
   "source": [
    "print(data['last_price'].describe())\n",
    "data['last_price'].hist(bins=4000, figsize=(20, 5), xrot=45, range=(565000, 10000000));"
   ]
  },
  {
   "cell_type": "markdown",
   "metadata": {},
   "source": [
    "**Выводы:**\n",
    "Основная масса квартир продается с 3 до 5 миллионов. Интересное распределение всех цен видно на гистограмме всех цен. Можно увидеть, что шаг цен примерно одинаковый."
   ]
  },
  {
   "cell_type": "markdown",
   "metadata": {},
   "source": [
    "#### Количество комнат"
   ]
  },
  {
   "cell_type": "code",
   "execution_count": 48,
   "metadata": {},
   "outputs": [
    {
     "data": {
      "text/plain": [
       "count   22966.000\n",
       "mean        2.060\n",
       "std         0.997\n",
       "min         1.000\n",
       "25%         1.000\n",
       "50%         2.000\n",
       "75%         3.000\n",
       "max         7.000\n",
       "Name: rooms, dtype: float64"
      ]
     },
     "execution_count": 48,
     "metadata": {},
     "output_type": "execute_result"
    },
    {
     "data": {
      "image/png": "[encoded data removed]",
      "text/plain": [
       "<Figure size 720x360 with 1 Axes>"
      ]
     },
     "metadata": {
      "needs_background": "light"
     },
     "output_type": "display_data"
    }
   ],
   "source": [
    "data['rooms'].hist(bins=10, figsize=(10, 5), range=(1, 10))\n",
    "data['rooms'].describe()"
   ]
  },
  {
   "cell_type": "markdown",
   "metadata": {},
   "source": [
    "**Выводы:**\n",
    "Основные квартиры, которые продаются, с 1, 2 или 3 комнатами."
   ]
  },
  {
   "cell_type": "markdown",
   "metadata": {},
   "source": [
    "#### Высота потолков"
   ]
  },
  {
   "cell_type": "code",
   "execution_count": 49,
   "metadata": {},
   "outputs": [
    {
     "data": {
      "text/plain": [
       "count   22966.000\n",
       "mean        2.692\n",
       "std         0.207\n",
       "min         2.400\n",
       "25%         2.600\n",
       "50%         2.650\n",
       "75%         2.700\n",
       "max         4.800\n",
       "Name: ceiling_height, dtype: float64"
      ]
     },
     "execution_count": 49,
     "metadata": {},
     "output_type": "execute_result"
    },
    {
     "data": {
      "image/png": "[encoded data removed]",
      "text/plain": [
       "<Figure size 720x360 with 1 Axes>"
      ]
     },
     "metadata": {
      "needs_background": "light"
     },
     "output_type": "display_data"
    }
   ],
   "source": [
    "data['ceiling_height'].hist(bins=60, figsize=(10, 5))\n",
    "data['ceiling_height'].describe()"
   ]
  },
  {
   "cell_type": "markdown",
   "metadata": {},
   "source": [
    "**Выводы:**\n",
    "Основная масса квартир имеет самую стандартную высоту потолков."
   ]
  },
  {
   "cell_type": "markdown",
   "metadata": {},
   "source": [
    "#### Этаж квартиры"
   ]
  },
  {
   "cell_type": "code",
   "execution_count": 50,
   "metadata": {},
   "outputs": [
    {
     "data": {
      "text/plain": [
       "count   22966.000\n",
       "mean        5.870\n",
       "std         4.860\n",
       "min         1.000\n",
       "25%         2.000\n",
       "50%         4.000\n",
       "75%         8.000\n",
       "max        33.000\n",
       "Name: floor, dtype: float64"
      ]
     },
     "execution_count": 50,
     "metadata": {},
     "output_type": "execute_result"
    },
    {
     "data": {
      "image/png": "[encoded data removed]",
      "text/plain": [
       "<Figure size 1440x360 with 1 Axes>"
      ]
     },
     "metadata": {
      "needs_background": "light"
     },
     "output_type": "display_data"
    }
   ],
   "source": [
    "data['floor'].hist(bins=33, figsize=(20, 5), range=(1, 30))\n",
    "data['floor'].describe()"
   ]
  },
  {
   "cell_type": "markdown",
   "metadata": {},
   "source": [
    "**Выводы:**\n",
    "Квартиры с 1 по 5 этаж продаются чаще всего. Квартиры с более высоким этажом продаются сильно реже."
   ]
  },
  {
   "cell_type": "markdown",
   "metadata": {},
   "source": [
    "#### Тип этажа квартиры"
   ]
  },
  {
   "cell_type": "code",
   "execution_count": 52,
   "metadata": {},
   "outputs": [
    {
     "data": {
      "text/plain": [
       "<AxesSubplot:>"
      ]
     },
     "execution_count": 52,
     "metadata": {},
     "output_type": "execute_result"
    },
    {
     "data": {
      "image/png": "[encoded data removed]",
      "text/plain": [
       "<Figure size 720x360 with 1 Axes>"
      ]
     },
     "metadata": {
      "needs_background": "light"
     },
     "output_type": "display_data"
    }
   ],
   "source": [
    "data['floor_type'].hist(bins=3, figsize=(10, 5));"
   ]
  },
  {
   "cell_type": "markdown",
   "metadata": {},
   "source": [
    "**Выводы:**\n",
    "Первые и последние этажи продаются примерно в одинаковом соотношении. Каждая категория покрывает собой примерно 10% выборки."
   ]
  },
  {
   "cell_type": "markdown",
   "metadata": {},
   "source": [
    "#### Общее количество этажей в доме"
   ]
  },
  {
   "cell_type": "code",
   "execution_count": 53,
   "metadata": {},
   "outputs": [
    {
     "data": {
      "text/plain": [
       "count   22966.000\n",
       "mean       10.672\n",
       "std         6.559\n",
       "min         2.000\n",
       "25%         5.000\n",
       "50%         9.000\n",
       "75%        16.000\n",
       "max        35.000\n",
       "Name: floors_total, dtype: float64"
      ]
     },
     "execution_count": 53,
     "metadata": {},
     "output_type": "execute_result"
    },
    {
     "data": {
      "image/png": "[encoded data removed]",
      "text/plain": [
       "<Figure size 720x360 with 1 Axes>"
      ]
     },
     "metadata": {
      "needs_background": "light"
     },
     "output_type": "display_data"
    }
   ],
   "source": [
    "data['floors_total'].hist(bins=60, figsize=(10, 5), range=(1, 30))\n",
    "data['floors_total'].describe()"
   ]
  },
  {
   "cell_type": "markdown",
   "metadata": {},
   "source": [
    "**Выводы:**\n",
    "Самые типовые постройки имеют 5 и 9 этажей."
   ]
  },
  {
   "cell_type": "markdown",
   "metadata": {},
   "source": [
    "#### Расстояние до центра города"
   ]
  },
  {
   "cell_type": "code",
   "execution_count": 54,
   "metadata": {},
   "outputs": [
    {
     "data": {
      "text/plain": [
       "count   17638.000\n",
       "mean       14.324\n",
       "std         8.606\n",
       "min         0.181\n",
       "25%         9.492\n",
       "50%        13.169\n",
       "75%        16.333\n",
       "max        65.968\n",
       "Name: cityCenters_nearest_km, dtype: float64"
      ]
     },
     "execution_count": 54,
     "metadata": {},
     "output_type": "execute_result"
    },
    {
     "data": {
      "image/png": "[encoded data removed]",
      "text/plain": [
       "<Figure size 1440x360 with 1 Axes>"
      ]
     },
     "metadata": {
      "needs_background": "light"
     },
     "output_type": "display_data"
    }
   ],
   "source": [
    "data['cityCenters_nearest_km'].hist(bins=60, figsize=(20, 5),)\n",
    "data['cityCenters_nearest_km'].describe()"
   ]
  },
  {
   "cell_type": "markdown",
   "metadata": {},
   "source": [
    "**Выводы:**\n",
    "Основная часть объектов продается на расстоянии с 11 до 16 километров от центра города. Но можно заметить большой скачек объектов в диапазоне от 4 до 5 километров. "
   ]
  },
  {
   "cell_type": "markdown",
   "metadata": {},
   "source": [
    "#### Расстояние до ближайшего аэропорта"
   ]
  },
  {
   "cell_type": "code",
   "execution_count": 55,
   "metadata": {},
   "outputs": [
    {
     "data": {
      "text/plain": [
       "count   17618.000\n",
       "mean    28864.663\n",
       "std     12694.390\n",
       "min      6450.000\n",
       "25%     18498.500\n",
       "50%     26866.500\n",
       "75%     37407.000\n",
       "max     84869.000\n",
       "Name: airports_nearest, dtype: float64"
      ]
     },
     "execution_count": 55,
     "metadata": {},
     "output_type": "execute_result"
    },
    {
     "data": {
      "image/png": "[encoded data removed]",
      "text/plain": [
       "<Figure size 1440x360 with 1 Axes>"
      ]
     },
     "metadata": {
      "needs_background": "light"
     },
     "output_type": "display_data"
    }
   ],
   "source": [
    "data['airports_nearest'].hist(bins=1000, figsize=(20, 5), range=(0, 60000))\n",
    "data['airports_nearest'].describe()"
   ]
  },
  {
   "cell_type": "markdown",
   "metadata": {},
   "source": [
    "**Выводы:**\n",
    "Основная часть объектов продается на расстоянии с 15 до 40 километров. Ближе 6 и дальше 60 километров объектов, практически, не продается."
   ]
  },
  {
   "cell_type": "markdown",
   "metadata": {},
   "source": [
    "#### Расстояние до ближайшего парка"
   ]
  },
  {
   "cell_type": "code",
   "execution_count": 56,
   "metadata": {},
   "outputs": [
    {
     "data": {
      "text/plain": [
       "count   7786.000\n",
       "mean     492.401\n",
       "std      342.123\n",
       "min        1.000\n",
       "25%      288.250\n",
       "50%      456.000\n",
       "75%      613.000\n",
       "max     3190.000\n",
       "Name: parks_nearest, dtype: float64"
      ]
     },
     "execution_count": 56,
     "metadata": {},
     "output_type": "execute_result"
    },
    {
     "data": {
      "image/png": "[encoded data removed]",
      "text/plain": [
       "<Figure size 1440x360 with 1 Axes>"
      ]
     },
     "metadata": {
      "needs_background": "light"
     },
     "output_type": "display_data"
    }
   ],
   "source": [
    "data['parks_nearest'].hist(bins=1500, figsize=(20, 5))\n",
    "data['parks_nearest'].describe()"
   ]
  },
  {
   "cell_type": "markdown",
   "metadata": {},
   "source": [
    "**Выводы:**\n",
    "Основная часть объектов продается на расстоянии с 1 до 600 метров от ближайшего парка."
   ]
  },
  {
   "cell_type": "markdown",
   "metadata": {},
   "source": [
    "#### День и месяц публикации объявления"
   ]
  },
  {
   "cell_type": "code",
   "execution_count": 57,
   "metadata": {},
   "outputs": [
    {
     "data": {
      "text/plain": [
       "<AxesSubplot:>"
      ]
     },
     "execution_count": 57,
     "metadata": {},
     "output_type": "execute_result"
    },
    {
     "data": {
      "image/png": "[encoded data removed]",
      "text/plain": [
       "<Figure size 432x288 with 1 Axes>"
      ]
     },
     "metadata": {
      "needs_background": "light"
     },
     "output_type": "display_data"
    }
   ],
   "source": [
    "data['weekday'].hist(bins=7);"
   ]
  },
  {
   "cell_type": "markdown",
   "metadata": {},
   "source": [
    "**Выводы:**\n",
    "В основном продажей квартир занимаются в будние дни."
   ]
  },
  {
   "cell_type": "code",
   "execution_count": 58,
   "metadata": {},
   "outputs": [
    {
     "data": {
      "text/plain": [
       "<AxesSubplot:>"
      ]
     },
     "execution_count": 58,
     "metadata": {},
     "output_type": "execute_result"
    },
    {
     "data": {
      "image/png": "[encoded data removed]",
      "text/plain": [
       "<Figure size 432x288 with 1 Axes>"
      ]
     },
     "metadata": {
      "needs_background": "light"
     },
     "output_type": "display_data"
    }
   ],
   "source": [
    "data['month_number'].hist(bins=12);"
   ]
  },
  {
   "cell_type": "markdown",
   "metadata": {},
   "source": [
    "**Выводы:**\n",
    "В январе, мае и декабре активность продажи квартир ниже всего. От января до лета происходит падение интереса к продаже квартир. Летом количество продаж на одном уровне, осенью он начинает расти."
   ]
  },
  {
   "cell_type": "markdown",
   "metadata": {},
   "source": [
    "#### Как быстро продавались квартиры"
   ]
  },
  {
   "cell_type": "code",
   "execution_count": 59,
   "metadata": {},
   "outputs": [
    {
     "data": {
      "text/plain": [
       "count   19890.000\n",
       "mean      180.370\n",
       "std       219.202\n",
       "min         1.000\n",
       "25%        45.000\n",
       "50%        95.000\n",
       "75%       230.000\n",
       "max      1580.000\n",
       "Name: days_exposition, dtype: float64"
      ]
     },
     "execution_count": 59,
     "metadata": {},
     "output_type": "execute_result"
    },
    {
     "data": {
      "image/png": "[encoded data removed]",
      "text/plain": [
       "<Figure size 1440x360 with 1 Axes>"
      ]
     },
     "metadata": {
      "needs_background": "light"
     },
     "output_type": "display_data"
    }
   ],
   "source": [
    "data['days_exposition'].hist(bins=500, figsize=(20, 5))\n",
    "data['days_exposition'].describe()"
   ]
  },
  {
   "cell_type": "markdown",
   "metadata": {},
   "source": [
    "**Выводы:**\n",
    "От 45 до 229 дня занимает продажа объекта у основной массы людей.\n",
    "Более быстрая или медленная продажа является необычным показателем. Возможно, более долгие продажи обусловленны тем, что люди перестают заниматься объявлением и/или отвечать на звонки или сообщения от потенциальных покупателей."
   ]
  },
  {
   "cell_type": "markdown",
   "metadata": {},
   "source": [
    "#### Определяем какие факторы больше всего влияют на общую стоимость объекта."
   ]
  },
  {
   "cell_type": "code",
   "execution_count": 60,
   "metadata": {},
   "outputs": [
    {
     "data": {
      "text/plain": [
       "0.7897366457594953"
      ]
     },
     "execution_count": 60,
     "metadata": {},
     "output_type": "execute_result"
    },
    {
     "data": {
      "image/png": "[encoded data removed]",
      "text/plain": [
       "<Figure size 432x288 with 1 Axes>"
      ]
     },
     "metadata": {
      "needs_background": "light"
     },
     "output_type": "display_data"
    }
   ],
   "source": [
    "# Влияние общей площади\n",
    "data.plot(x='total_area', y='last_price', kind='scatter', alpha=0.05)\n",
    "data['last_price'].corr(data['total_area'])"
   ]
  },
  {
   "cell_type": "markdown",
   "metadata": {},
   "source": [
    "**Выводы:**\n",
    "Видна достаточно сильная и равномерная зависимость цены от площади объекта. Чем больше площадь, тем большая средняя цена. Корреляция в 0.79 может обуславливаться сторонними факторами, например: состоянием квартиры. Так как маленькая квартира с хорошим ремонтом может стоить на уровне или даже выше чем большая квартира с плохим ремонтом."
   ]
  },
  {
   "cell_type": "code",
   "execution_count": 61,
   "metadata": {},
   "outputs": [
    {
     "data": {
      "text/plain": [
       "0.6353187666492588"
      ]
     },
     "execution_count": 61,
     "metadata": {},
     "output_type": "execute_result"
    },
    {
     "data": {
      "image/png": "[encoded data removed]",
      "text/plain": [
       "<Figure size 432x288 with 1 Axes>"
      ]
     },
     "metadata": {
      "needs_background": "light"
     },
     "output_type": "display_data"
    }
   ],
   "source": [
    "# Влияние жилой площади\n",
    "data.plot(x='living_area', y='last_price', kind='scatter', alpha=0.03)\n",
    "data['last_price'].corr(data['living_area'])"
   ]
  },
  {
   "cell_type": "markdown",
   "metadata": {},
   "source": [
    "**Выводы:**\n",
    "Видна достаточно сильная и равномерная зависимость цены от жилой площади объекта. Чем больше площадь, тем большая средняя цена. Корреляция в 0.63 показывасет сильную зависимость цены от жилой площади, но меньшую, чем общая.\n",
    "Заметно, что жилая площадь в 50 квадратных метров часто является стандартным размером в большем количестве объектов."
   ]
  },
  {
   "cell_type": "code",
   "execution_count": 62,
   "metadata": {},
   "outputs": [
    {
     "data": {
      "text/plain": [
       "0.6020676982667916"
      ]
     },
     "execution_count": 62,
     "metadata": {},
     "output_type": "execute_result"
    },
    {
     "data": {
      "image/png": "[encoded data removed]",
      "text/plain": [
       "<Figure size 432x288 with 1 Axes>"
      ]
     },
     "metadata": {
      "needs_background": "light"
     },
     "output_type": "display_data"
    }
   ],
   "source": [
    "# Влияние площади кухни\n",
    "data.plot(x='kitchen_area', y='last_price', kind='scatter', alpha=0.03)\n",
    "data['last_price'].corr(data['kitchen_area'])"
   ]
  },
  {
   "cell_type": "markdown",
   "metadata": {},
   "source": [
    "**Выводы:**\n",
    "Диаграмма похожа на ту, что отображала зависимость цены от жилой площади, но с меньшей корреляцией в 0.61. Также, нет стандартной площади, как это было с жилой в 50 метров."
   ]
  },
  {
   "cell_type": "code",
   "execution_count": 63,
   "metadata": {},
   "outputs": [
    {
     "data": {
      "text/plain": [
       "0.5107824496754148"
      ]
     },
     "execution_count": 63,
     "metadata": {},
     "output_type": "execute_result"
    },
    {
     "data": {
      "image/png": "[encoded data removed]",
      "text/plain": [
       "<Figure size 432x288 with 1 Axes>"
      ]
     },
     "metadata": {
      "needs_background": "light"
     },
     "output_type": "display_data"
    }
   ],
   "source": [
    "# Влияние количества комнат\n",
    "data.plot(x='rooms', y='last_price', kind='scatter', alpha=0.03)\n",
    "data['last_price'].corr(data['rooms'])"
   ]
  },
  {
   "cell_type": "markdown",
   "metadata": {},
   "source": [
    "**Выводы:**\n",
    "Видна зависимость от количества комнат. Чем меньше комнат тем большая концентрация низкой стоимости объекта и наоборот."
   ]
  },
  {
   "cell_type": "code",
   "execution_count": 64,
   "metadata": {},
   "outputs": [
    {
     "data": {
      "text/plain": [
       "<AxesSubplot:xlabel='floor_type'>"
      ]
     },
     "execution_count": 64,
     "metadata": {},
     "output_type": "execute_result"
    },
    {
     "data": {
      "image/png": "[encoded data removed]",
      "text/plain": [
       "<Figure size 432x288 with 1 Axes>"
      ]
     },
     "metadata": {
      "needs_background": "light"
     },
     "output_type": "display_data"
    }
   ],
   "source": [
    "# Влияние типа этажа\n",
    "(\n",
    "data.groupby('floor_type')['last_price'].agg('median')\n",
    ".plot(x='floor_type', y='median', kind='bar')\n",
    ")"
   ]
  },
  {
   "cell_type": "markdown",
   "metadata": {},
   "source": [
    "**Выводы:**\n",
    "В среднем, цена квартиры на первом этаже ниже чем квартиры на последнем, но и те и другие ниже по цене, чем квартиры на других этажах."
   ]
  },
  {
   "cell_type": "code",
   "execution_count": 80,
   "metadata": {},
   "outputs": [
    {
     "data": {
      "image/png": "[encoded data removed]",
      "text/plain": [
       "<Figure size 432x288 with 1 Axes>"
      ]
     },
     "metadata": {
      "needs_background": "light"
     },
     "output_type": "display_data"
    }
   ],
   "source": [
    "# Влияние дня недели\n",
    "(\n",
    "data.groupby('weekday')['last_price'].agg('count')\n",
    ".plot(x='weekday', y='median', kind='line')\n",
    ");"
   ]
  },
  {
   "cell_type": "code",
   "execution_count": 81,
   "metadata": {},
   "outputs": [
    {
     "data": {
      "image/png": "[encoded data removed]",
      "text/plain": [
       "<Figure size 432x288 with 1 Axes>"
      ]
     },
     "metadata": {
      "needs_background": "light"
     },
     "output_type": "display_data"
    }
   ],
   "source": [
    "(\n",
    "data.groupby('weekday')['last_price'].agg('median')\n",
    ".plot(x='weekday', y='median', kind='line')\n",
    ");"
   ]
  },
  {
   "cell_type": "markdown",
   "metadata": {},
   "source": [
    "**Выводы:**\n",
    "Основной объем объявлений публикуется в будние дни. Скорее всего, понедельник является тяжелым днем для основной массы людей, в связи с этим есть небольшая просадка по количеству объявлений. В субботу и воскресенье публикаций минимальное количество.\n",
    "Медианная цена объявления самая высокая во вторник и среду с четверга по субботу идет падение до минимума, в воскресенье минимум держится, а в понедельник начинается рост."
   ]
  },
  {
   "cell_type": "code",
   "execution_count": 67,
   "metadata": {},
   "outputs": [
    {
     "data": {
      "text/plain": [
       "<AxesSubplot:xlabel='month_number'>"
      ]
     },
     "execution_count": 67,
     "metadata": {},
     "output_type": "execute_result"
    },
    {
     "data": {
      "image/png": "[encoded data removed]",
      "text/plain": [
       "<Figure size 432x288 with 1 Axes>"
      ]
     },
     "metadata": {
      "needs_background": "light"
     },
     "output_type": "display_data"
    }
   ],
   "source": [
    "# Влияние месяца\n",
    "(\n",
    "data.groupby('month_number')['last_price'].agg('count')\n",
    ".plot(x='month_number', y='median', kind='bar')\n",
    ");"
   ]
  },
  {
   "cell_type": "code",
   "execution_count": 68,
   "metadata": {},
   "outputs": [
    {
     "data": {
      "text/plain": [
       "<AxesSubplot:xlabel='month_number'>"
      ]
     },
     "execution_count": 68,
     "metadata": {},
     "output_type": "execute_result"
    },
    {
     "data": {
      "image/png": "[encoded data removed]",
      "text/plain": [
       "<Figure size 432x288 with 1 Axes>"
      ]
     },
     "metadata": {
      "needs_background": "light"
     },
     "output_type": "display_data"
    }
   ],
   "source": [
    "(\n",
    "data.groupby('month_number')['last_price'].agg('median')\n",
    ".plot(x='month_number', y='median', kind='line')\n",
    ");"
   ]
  },
  {
   "cell_type": "markdown",
   "metadata": {},
   "source": [
    "**Выводы:**\n",
    "В апреле медианная цена является наивысшей, к июню идет резкое падения до минимума. В остальные месяцы цена находится около медианной."
   ]
  },
  {
   "cell_type": "code",
   "execution_count": 69,
   "metadata": {},
   "outputs": [
    {
     "data": {
      "text/plain": [
       "<AxesSubplot:xlabel='year'>"
      ]
     },
     "execution_count": 69,
     "metadata": {},
     "output_type": "execute_result"
    },
    {
     "data": {
      "image/png": "[encoded data removed]",
      "text/plain": [
       "<Figure size 432x288 with 1 Axes>"
      ]
     },
     "metadata": {
      "needs_background": "light"
     },
     "output_type": "display_data"
    }
   ],
   "source": [
    "# Влияние года\n",
    "(\n",
    "data.groupby('year')['last_price'].agg('median')\n",
    ".plot(x='year', y='median', kind='line')\n",
    ");"
   ]
  },
  {
   "cell_type": "code",
   "execution_count": 70,
   "metadata": {},
   "outputs": [
    {
     "data": {
      "text/html": [
       "<div>\n",
       "<style scoped>\n",
       "    .dataframe tbody tr th:only-of-type {\n",
       "        vertical-align: middle;\n",
       "    }\n",
       "\n",
       "    .dataframe tbody tr th {\n",
       "        vertical-align: top;\n",
       "    }\n",
       "\n",
       "    .dataframe thead th {\n",
       "        text-align: right;\n",
       "    }\n",
       "</style>\n",
       "<table border=\"1\" class=\"dataframe\">\n",
       "  <thead>\n",
       "    <tr style=\"text-align: right;\">\n",
       "      <th></th>\n",
       "      <th>sales_count</th>\n",
       "      <th>median_price</th>\n",
       "      <th>median_area</th>\n",
       "    </tr>\n",
       "    <tr>\n",
       "      <th>year</th>\n",
       "      <th></th>\n",
       "      <th></th>\n",
       "      <th></th>\n",
       "    </tr>\n",
       "  </thead>\n",
       "  <tbody>\n",
       "    <tr>\n",
       "      <th>2014</th>\n",
       "      <td>129</td>\n",
       "      <td>7476560.000</td>\n",
       "      <td>75.030</td>\n",
       "    </tr>\n",
       "    <tr>\n",
       "      <th>2015</th>\n",
       "      <td>1125</td>\n",
       "      <td>5239000.000</td>\n",
       "      <td>60.000</td>\n",
       "    </tr>\n",
       "    <tr>\n",
       "      <th>2016</th>\n",
       "      <td>2685</td>\n",
       "      <td>4500000.000</td>\n",
       "      <td>53.000</td>\n",
       "    </tr>\n",
       "    <tr>\n",
       "      <th>2017</th>\n",
       "      <td>7934</td>\n",
       "      <td>4500000.000</td>\n",
       "      <td>52.000</td>\n",
       "    </tr>\n",
       "    <tr>\n",
       "      <th>2018</th>\n",
       "      <td>8292</td>\n",
       "      <td>4600000.000</td>\n",
       "      <td>50.735</td>\n",
       "    </tr>\n",
       "    <tr>\n",
       "      <th>2019</th>\n",
       "      <td>2801</td>\n",
       "      <td>5050000.000</td>\n",
       "      <td>51.800</td>\n",
       "    </tr>\n",
       "  </tbody>\n",
       "</table>\n",
       "</div>"
      ],
      "text/plain": [
       "      sales_count  median_price  median_area\n",
       "year                                        \n",
       "2014          129   7476560.000       75.030\n",
       "2015         1125   5239000.000       60.000\n",
       "2016         2685   4500000.000       53.000\n",
       "2017         7934   4500000.000       52.000\n",
       "2018         8292   4600000.000       50.735\n",
       "2019         2801   5050000.000       51.800"
      ]
     },
     "execution_count": 70,
     "metadata": {},
     "output_type": "execute_result"
    }
   ],
   "source": [
    "year_df = data.groupby('year')['last_price'].agg(['count', 'median'])\n",
    "area_df = data.groupby('year')['total_area'].agg(['count', 'median'])\n",
    "year_df.columns = ['sales_count', 'median_price']\n",
    "year_df['median_area'] = area_df['median']\n",
    "year_df"
   ]
  },
  {
   "cell_type": "markdown",
   "metadata": {},
   "source": [
    "**Выводы:**\n",
    "Видна зависимость количества объявлений к медианной цене. Чем меньше объявлений, тем больше медианная цена. Рыночная зависимость - чем меньше предложения при том же спросе тем выше цена. Возможно, здесь виден данный закон. Также, заметно падение метража объектов, с 2017 до 2019 метраж стабилизируется.\n",
    "Также, заметен быстрый рост количества, объявлений с 2014 года до 2017, в 2018 году рост сильно замедляется. В 2019 году заметно резкое падение количество объявлений (в условиях, что датасет имеет данные за весь 2019 год)."
   ]
  },
  {
   "cell_type": "markdown",
   "metadata": {},
   "source": [
    "#### Определяем среднюю цену одного квадратного метра в 10 населённых пунктах с наибольшим числом объявлений."
   ]
  },
  {
   "cell_type": "code",
   "execution_count": 71,
   "metadata": {},
   "outputs": [
    {
     "name": "stdout",
     "output_type": "stream",
     "text": [
      "                     sales_count  avg_area_price\n",
      "clear_locality_name                             \n",
      "Санкт-Петербург            15239      111053.510\n",
      "Мурино                       553       85419.165\n",
      "Кудрово                      447       95052.083\n",
      "Шушары                       434       78227.422\n",
      "Всеволожск                   390       68711.972\n",
      "Пушкин                       366      103085.503\n",
      "Колпино                      336       75239.161\n",
      "Парголово                    323       90289.353\n",
      "Гатчина                      307       68745.694\n",
      "Выборг                       233       57967.043\n"
     ]
    },
    {
     "data": {
      "text/plain": [
       "<AxesSubplot:xlabel='clear_locality_name'>"
      ]
     },
     "execution_count": 71,
     "metadata": {},
     "output_type": "execute_result"
    },
    {
     "data": {
      "image/png": "[encoded data removed]",
      "text/plain": [
       "<Figure size 432x288 with 1 Axes>"
      ]
     },
     "metadata": {
      "needs_background": "light"
     },
     "output_type": "display_data"
    }
   ],
   "source": [
    "popular_locations = data.groupby('clear_locality_name')['avg_area_price'].agg(['count', 'mean'])\n",
    "popular_locations.columns = ['sales_count', 'avg_area_price']\n",
    "final_popular_locations = popular_locations.sort_values('sales_count', ascending=False).head(10)\n",
    "print(final_popular_locations)\n",
    "(\n",
    "final_popular_locations.reset_index()\n",
    ".sort_values('avg_area_price', ascending=False)\n",
    ".plot(x='clear_locality_name', y='avg_area_price', kind='bar')\n",
    ");"
   ]
  },
  {
   "cell_type": "markdown",
   "metadata": {},
   "source": [
    "**Выводы:**\n",
    "Самая высокая цена одного квадратного метра из 10и населенных пунктов с самым большим количеством объявлений в Санкт-Петербурге и равняется 110 тысячам, а самая низкая в Выборге и равняется 58 тысячам."
   ]
  },
  {
   "cell_type": "markdown",
   "metadata": {},
   "source": [
    "#### Определяем среднюю цену каждого километра"
   ]
  },
  {
   "cell_type": "code",
   "execution_count": 72,
   "metadata": {},
   "outputs": [
    {
     "name": "stdout",
     "output_type": "stream",
     "text": [
      "-0.41229605885043663\n",
      "                        count         mean\n",
      "cityCenters_nearest_km                    \n",
      "0.000                      20 16592877.800\n",
      "1.000                     170 12490717.641\n",
      "2.000                     273 11112164.835\n",
      "3.000                     338 10058663.760\n",
      "4.000                     665 10768379.741\n",
      "5.000                     856 11068205.627\n",
      "6.000                     557 10589548.084\n",
      "7.000                     378 10215303.868\n",
      "8.000                     579  8937915.648\n",
      "9.000                     586  6933222.435\n",
      "10.000                    709  6382936.147\n",
      "11.000                   1165  6119696.307\n",
      "12.000                   1580  5852550.430\n",
      "13.000                   1430  6115952.735\n",
      "14.000                   1257  5655219.171\n",
      "15.000                   1549  5841977.200\n",
      "16.000                   1253  5397718.402\n",
      "17.000                    855  5253395.388\n",
      "18.000                    260  5099374.904\n",
      "19.000                    154  5081623.149\n",
      "20.000                     43  5980041.326\n",
      "21.000                    115  5489007.965\n",
      "22.000                    202  5415524.282\n",
      "23.000                     83  5042855.422\n",
      "24.000                     25  3890686.800\n",
      "25.000                     26  4052839.923\n",
      "26.000                     43  4014287.047\n",
      "27.000                      2  8300000.000\n",
      "28.000                      7  5026428.571\n",
      "29.000                      6  4236666.667\n"
     ]
    },
    {
     "name": "stderr",
     "output_type": "stream",
     "text": [
      "/var/folders/r2/3pwdwlyj6gd_lhry1fbfyqdr0000gn/T/ipykernel_73333/3936396502.py:2: SettingWithCopyWarning: \n",
      "A value is trying to be set on a copy of a slice from a DataFrame.\n",
      "Try using .loc[row_indexer,col_indexer] = value instead\n",
      "\n",
      "See the caveats in the documentation: https://pandas.pydata.org/pandas-docs/stable/user_guide/indexing.html#returning-a-view-versus-a-copy\n",
      "  peter_kilometr_price['cityCenters_nearest_km'] = peter_kilometr_price['cityCenters_nearest_km'].round()\n"
     ]
    },
    {
     "data": {
      "text/plain": [
       "<AxesSubplot:xlabel='cityCenters_nearest_km'>"
      ]
     },
     "execution_count": 72,
     "metadata": {},
     "output_type": "execute_result"
    },
    {
     "data": {
      "image/png": "[encoded data removed]",
      "text/plain": [
       "<Figure size 432x288 with 1 Axes>"
      ]
     },
     "metadata": {
      "needs_background": "light"
     },
     "output_type": "display_data"
    }
   ],
   "source": [
    "peter_kilometr_price = data.query('clear_locality_name == \"Санкт-Петербург\"')\n",
    "peter_kilometr_price['cityCenters_nearest_km'] = peter_kilometr_price['cityCenters_nearest_km'].round()\n",
    "print(peter_kilometr_price['last_price'].corr(peter_kilometr_price['cityCenters_nearest_km']))\n",
    "final_peter_kilometr_price = peter_kilometr_price.groupby('cityCenters_nearest_km')['last_price'].agg(['count', 'mean'])\n",
    "print(final_peter_kilometr_price)\n",
    "\n",
    "\n",
    "\n",
    "(\n",
    "final_peter_kilometr_price.reset_index()\n",
    ".plot(x='cityCenters_nearest_km', y='mean', kind='line')\n",
    ")"
   ]
  },
  {
   "cell_type": "code",
   "execution_count": 73,
   "metadata": {
    "scrolled": true
   },
   "outputs": [
    {
     "data": {
      "text/html": [
       "<div>\n",
       "<style scoped>\n",
       "    .dataframe tbody tr th:only-of-type {\n",
       "        vertical-align: middle;\n",
       "    }\n",
       "\n",
       "    .dataframe tbody tr th {\n",
       "        vertical-align: top;\n",
       "    }\n",
       "\n",
       "    .dataframe thead th {\n",
       "        text-align: right;\n",
       "    }\n",
       "</style>\n",
       "<table border=\"1\" class=\"dataframe\">\n",
       "  <thead>\n",
       "    <tr style=\"text-align: right;\">\n",
       "      <th></th>\n",
       "      <th>total_images</th>\n",
       "      <th>last_price</th>\n",
       "      <th>total_area</th>\n",
       "      <th>first_day_exposition</th>\n",
       "      <th>rooms</th>\n",
       "      <th>ceiling_height</th>\n",
       "      <th>floors_total</th>\n",
       "      <th>living_area</th>\n",
       "      <th>floor</th>\n",
       "      <th>is_apartment</th>\n",
       "      <th>...</th>\n",
       "      <th>ponds_around3000</th>\n",
       "      <th>ponds_nearest</th>\n",
       "      <th>days_exposition</th>\n",
       "      <th>avg_area_price</th>\n",
       "      <th>clear_locality_name</th>\n",
       "      <th>weekday</th>\n",
       "      <th>month_number</th>\n",
       "      <th>year</th>\n",
       "      <th>floor_type</th>\n",
       "      <th>cityCenters_nearest_km</th>\n",
       "    </tr>\n",
       "  </thead>\n",
       "  <tbody>\n",
       "    <tr>\n",
       "      <th>748</th>\n",
       "      <td>13</td>\n",
       "      <td>14350000</td>\n",
       "      <td>74.000</td>\n",
       "      <td>2017-11-28</td>\n",
       "      <td>2</td>\n",
       "      <td>3.130</td>\n",
       "      <td>5</td>\n",
       "      <td>30.000</td>\n",
       "      <td>3</td>\n",
       "      <td>False</td>\n",
       "      <td>...</td>\n",
       "      <td>0</td>\n",
       "      <td>NaN</td>\n",
       "      <td>128.000</td>\n",
       "      <td>193918</td>\n",
       "      <td>Санкт-Петербург</td>\n",
       "      <td>1</td>\n",
       "      <td>11</td>\n",
       "      <td>2017</td>\n",
       "      <td>другой</td>\n",
       "      <td>27.000</td>\n",
       "    </tr>\n",
       "    <tr>\n",
       "      <th>5961</th>\n",
       "      <td>6</td>\n",
       "      <td>2250000</td>\n",
       "      <td>32.000</td>\n",
       "      <td>2018-02-27</td>\n",
       "      <td>1</td>\n",
       "      <td>2.650</td>\n",
       "      <td>2</td>\n",
       "      <td>16.500</td>\n",
       "      <td>2</td>\n",
       "      <td>False</td>\n",
       "      <td>...</td>\n",
       "      <td>0</td>\n",
       "      <td>NaN</td>\n",
       "      <td>178.000</td>\n",
       "      <td>70312</td>\n",
       "      <td>Санкт-Петербург</td>\n",
       "      <td>1</td>\n",
       "      <td>2</td>\n",
       "      <td>2018</td>\n",
       "      <td>последний</td>\n",
       "      <td>27.000</td>\n",
       "    </tr>\n",
       "  </tbody>\n",
       "</table>\n",
       "<p>2 rows × 29 columns</p>\n",
       "</div>"
      ],
      "text/plain": [
       "      total_images  last_price  total_area first_day_exposition  rooms  \\\n",
       "748             13    14350000      74.000           2017-11-28      2   \n",
       "5961             6     2250000      32.000           2018-02-27      1   \n",
       "\n",
       "      ceiling_height  floors_total  living_area  floor  is_apartment  ...  \\\n",
       "748            3.130             5       30.000      3         False  ...   \n",
       "5961           2.650             2       16.500      2         False  ...   \n",
       "\n",
       "      ponds_around3000  ponds_nearest  days_exposition  avg_area_price  \\\n",
       "748                  0            NaN          128.000          193918   \n",
       "5961                 0            NaN          178.000           70312   \n",
       "\n",
       "     clear_locality_name  weekday  month_number  year  floor_type  \\\n",
       "748      Санкт-Петербург        1            11  2017      другой   \n",
       "5961     Санкт-Петербург        1             2  2018   последний   \n",
       "\n",
       "      cityCenters_nearest_km  \n",
       "748                   27.000  \n",
       "5961                  27.000  \n",
       "\n",
       "[2 rows x 29 columns]"
      ]
     },
     "execution_count": 73,
     "metadata": {},
     "output_type": "execute_result"
    }
   ],
   "source": [
    "peter_kilometr_price[peter_kilometr_price['cityCenters_nearest_km'] == 27]"
   ]
  },
  {
   "cell_type": "markdown",
   "metadata": {},
   "source": [
    "**Выводы:**\n",
    "Чем ближе квартира к центру, тем она стоит дороже.  \n",
    "Заметно небольшое падение цены на 3м километре, к 5у цена увеличивается и начинается стабильное падение. На 27м километре виден резкий скачек цены, он появляется из-за наличия на данном километре только 2 объявления, один из них с ценой в 14.4 миллиона."
   ]
  },
  {
   "cell_type": "code",
   "execution_count": 74,
   "metadata": {},
   "outputs": [
    {
     "data": {
      "text/plain": [
       "floor_type\n",
       "другой       207\n",
       "первый        54\n",
       "последний     77\n",
       "Name: floor_type, dtype: int64"
      ]
     },
     "execution_count": 74,
     "metadata": {},
     "output_type": "execute_result"
    }
   ],
   "source": [
    "peter_kilometr_price[peter_kilometr_price['cityCenters_nearest_km'] == 3].groupby('floor_type')['floor_type'].agg('count')"
   ]
  },
  {
   "cell_type": "code",
   "execution_count": 75,
   "metadata": {},
   "outputs": [
    {
     "data": {
      "text/plain": [
       "floor_type\n",
       "другой       647\n",
       "первый        77\n",
       "последний    132\n",
       "Name: floor_type, dtype: int64"
      ]
     },
     "execution_count": 75,
     "metadata": {},
     "output_type": "execute_result"
    }
   ],
   "source": [
    "peter_kilometr_price[peter_kilometr_price['cityCenters_nearest_km'] == 5].groupby('floor_type')['floor_type'].agg('count')"
   ]
  },
  {
   "cell_type": "markdown",
   "metadata": {},
   "source": [
    "### Общий вывод"
   ]
  },
  {
   "cell_type": "markdown",
   "metadata": {},
   "source": [
    "**Самые частые показатели выборки:**\n",
    "- Основной объем квартир приходится на площадь с 40 до 70 квадратных метров. \n",
    "- Самые типовые квартиры это 40 - 45 и 60 квадратных метров.\n",
    "- По жилой площади основные объекты находятся между 19 и 46 метрами. Среди них преобладает медианное значение - 31 квадратный метр. \n",
    "- Видим большие скачки на гистограмме всех данных: около 17 и 47 метров.\n",
    "- Самые частые площади кухонь от 7 до 9 квадратных метров. С явным проявлением 9 и 10.5 метров.\n",
    "- Основная масса квартир продается с 3.5 до 6.5 миллионов. Интересное распределение всех цен видно на гистограмме всех цен. Можно увидеть, что шаг цен примерно одинаковый.\n",
    "- Основные квартиры, которые продаются, с 1, 2 или 3 комнатами.\n",
    "- Основная масса квартир имеет самую стандартную высоту потолков.\n",
    "- Квартиры с 1 по 5 этаж продаются чаще всего. Квартиры с более высоким этажом продаются сильно реже.\n",
    "- Первые и последние этажи продаются примерно в одинаковом соотношении. Каждая категория покрывает собой примерно 10% выборки.\n",
    "- Самые типовые постройки имеют 5 и 9 этажей.\n",
    "- Основная часть объектов продается на расстоянии с 9 до 16 километров от центра города. Но можно заметить большой скачек объектов в диапазоне от 4 до 6 километров. \n",
    "- Основная часть объектов продается на расстоянии с 18.5 до 37 километров. Ближе 6 и дальше 60 километров объектов, практически, не продается.\n",
    "- Основная часть объектов продается на расстоянии с 1 до 600 метров от ближайшего парка.\n",
    "- В основном продажей квартир занимаются в будние дни.\n",
    "- В январе, мае и декабре активность продажи квартир ниже всего. От января до лета происходит падение интереса к продаже квартир. Летом количество продаж на одном уровне, осенью он начинает расти.\n",
    "\n",
    "**Время продажи объекта:**\n",
    "- От 45 до 231 дня занимает продажа объекта у основной массы людей.\n",
    "- Более быстрая или медленная продажа является необычным показателем. Возможно, более долгие продажи обусловленны тем, что люди перестают заниматься объявлением и/или отвечать на звонки или сообщения от потенциальных покупателей.\n",
    "\n",
    "**Зависимость цены от других факторов:**\n",
    "- Видна достаточно сильная и равномерная зависимость цены от площади объекта. Чем больше площадь, тем большая средняя цена. Корреляция в 0.79 может обуславливаться сторонними факторами, например: состоянием квартиры. Так как маленькая квартира с хорошим ремонтом может стоить на уровне или даже выше чем большая квартира с плохим ремонтом.\n",
    "- Видна достаточно сильная и равномерная зависимость цены от жилой площади объекта. Чем больше площадь, тем большая средняя цена. Корреляция в 0.63 показывасет сильную зависимость цены от жилой площади, но меньшую, чем общая.\n",
    "- Заметно, что жилая площадь в 50 квадратных метров часто является стандартным размером в большем количестве объектов.\n",
    "- Диаграмма похожа на ту, что отображала зависимость цены от жилой площади, но с меньшей корреляцией в 0.61. Также, нет стандартной площади, как это было с жилой в 50 метров.\n",
    "- Видна зависимость от количества комнат. Чем меньше комнат тем большая концентрация низкой стоимости объекта и наоборот.\n",
    "- В среднем, цена квартиры на первом этаже ниже чем квартиры на последнем, но и те и другие ниже по цене, чем квартиры на других этажах.\n",
    "- Основной объем объявлений публикуется в будние дни. Скорее всего, понедельник является тяжелым днем для основной массы людей, в связи с этим есть небольшая просадка по количеству объявлений. В субботу и воскресенье публикаций минимальное количество.\n",
    "- Медианная цена объявления самая высокая во вторник и среду с четверга по субботу идет падение до минимума, в воскресенье минимум держится, а в понедельник начинается рост.\n",
    "- В апреле медианная цена является наивысшей, к июню идет резкое падения до минимума. В остальные месяцы цена находится около медианной.\n",
    "- Видна зависимость количества объявлений к медианной цене. Чем меньше объявлений, тем больше медианная цена. Рыночная зависимость - чем меньше предложения при том же спросе тем выше цена. Возможно, здесь виден данный закон. Также, заметно падение метража объектов, с 2017 до 2019 метраж стабилизируется.\n",
    "- Также, заметен быстрый рост количества, объявлений с 2014 года до 2017, в 2018 году рост сильно замедляется. В 2019 году заметно резкое падение количество объявлений (в условиях, что датасет имеет данные за весь 2019 год).\n",
    "\n",
    "**Населенные пункты с самым большим количеством объявлений:**\n",
    "- Самая высокая цена одного квадратного метра из 10и населенных пунктов с самым большим количеством объявлений в Санкт-Петербурге и равняется 110 тысячам, а самая низкая в Выборге и равняется 58 тысячам.\n",
    "\n",
    "**Зависимость цены от расстояния до центра города:**\n",
    "- Чем ближе квартира к центру, тем она стоит дороже. \n",
    "- Заметно небольшое падение цены на 3м километре, к 5у цена увеличивается и начинается стабильное падение. На 27м километре виден резкий скачек цены, он появляется из-за наличия на данном километре только 2 объявления, один из них с ценой в 14.4 миллиона.\n"
   ]
  }
 ],
 "metadata": {
  "ExecuteTimeLog": [
   {
    "duration": 663,
    "start_time": "2023-01-25T12:35:53.415Z"
   },
   {
    "duration": 13,
    "start_time": "2023-01-25T12:36:01.744Z"
   },
   {
    "duration": 372,
    "start_time": "2023-01-25T12:36:39.542Z"
   },
   {
    "duration": 17,
    "start_time": "2023-01-25T12:37:06.547Z"
   },
   {
    "duration": 81,
    "start_time": "2023-01-25T12:39:20.787Z"
   },
   {
    "duration": 13,
    "start_time": "2023-01-25T12:39:23.123Z"
   },
   {
    "duration": 7,
    "start_time": "2023-01-25T12:39:27.107Z"
   },
   {
    "duration": 83,
    "start_time": "2023-01-25T12:40:15.946Z"
   },
   {
    "duration": 12,
    "start_time": "2023-01-25T12:40:21.706Z"
   },
   {
    "duration": 52,
    "start_time": "2023-01-25T12:41:23.729Z"
   },
   {
    "duration": 97,
    "start_time": "2023-01-25T12:41:36.449Z"
   },
   {
    "duration": 15,
    "start_time": "2023-01-25T12:41:37.847Z"
   },
   {
    "duration": 26,
    "start_time": "2023-01-25T12:41:40.967Z"
   },
   {
    "duration": 2097,
    "start_time": "2023-01-25T12:46:39.119Z"
   },
   {
    "duration": 91,
    "start_time": "2023-01-25T12:50:37.330Z"
   },
   {
    "duration": 16,
    "start_time": "2023-01-25T12:50:41.931Z"
   },
   {
    "duration": 52,
    "start_time": "2023-01-25T12:51:14.863Z"
   },
   {
    "duration": 9,
    "start_time": "2023-01-25T12:52:27.236Z"
   },
   {
    "duration": 10,
    "start_time": "2023-01-25T13:50:19.015Z"
   },
   {
    "duration": 18,
    "start_time": "2023-01-25T13:55:28.059Z"
   },
   {
    "duration": 9,
    "start_time": "2023-01-25T13:55:39.143Z"
   },
   {
    "duration": 12,
    "start_time": "2023-01-25T13:55:44.962Z"
   },
   {
    "duration": 12,
    "start_time": "2023-01-25T13:55:57.310Z"
   },
   {
    "duration": 9,
    "start_time": "2023-01-25T13:56:02.355Z"
   },
   {
    "duration": 11,
    "start_time": "2023-01-25T13:56:09.477Z"
   },
   {
    "duration": 9,
    "start_time": "2023-01-25T13:56:13.690Z"
   },
   {
    "duration": 9,
    "start_time": "2023-01-25T13:56:17.924Z"
   },
   {
    "duration": 8,
    "start_time": "2023-01-25T13:56:21.022Z"
   },
   {
    "duration": 588,
    "start_time": "2023-01-30T18:08:20.856Z"
   },
   {
    "duration": 23,
    "start_time": "2023-01-30T18:08:21.446Z"
   },
   {
    "duration": 45,
    "start_time": "2023-01-30T18:08:21.471Z"
   },
   {
    "duration": 2562,
    "start_time": "2023-01-30T18:08:21.519Z"
   },
   {
    "duration": 10,
    "start_time": "2023-01-30T18:08:24.083Z"
   },
   {
    "duration": 79,
    "start_time": "2023-01-30T18:08:24.094Z"
   },
   {
    "duration": 149,
    "start_time": "2023-01-30T18:08:24.175Z"
   },
   {
    "duration": 31,
    "start_time": "2023-01-30T18:08:24.326Z"
   },
   {
    "duration": 16,
    "start_time": "2023-01-30T18:08:24.359Z"
   },
   {
    "duration": 20,
    "start_time": "2023-01-30T18:08:24.379Z"
   },
   {
    "duration": 77,
    "start_time": "2023-01-30T18:08:24.401Z"
   },
   {
    "duration": 140,
    "start_time": "2023-01-30T18:08:24.479Z"
   },
   {
    "duration": 9,
    "start_time": "2023-01-30T18:08:24.620Z"
   },
   {
    "duration": 311,
    "start_time": "2023-01-30T18:08:24.632Z"
   },
   {
    "duration": 496,
    "start_time": "2023-01-30T18:08:24.948Z"
   },
   {
    "duration": 515,
    "start_time": "2023-01-30T18:08:25.449Z"
   },
   {
    "duration": 216,
    "start_time": "2023-01-30T18:08:25.967Z"
   },
   {
    "duration": 20,
    "start_time": "2023-01-30T18:08:26.185Z"
   },
   {
    "duration": 528,
    "start_time": "2023-01-30T18:08:26.207Z"
   },
   {
    "duration": 181,
    "start_time": "2023-01-30T18:08:26.737Z"
   },
   {
    "duration": 1018,
    "start_time": "2023-01-30T18:08:26.920Z"
   },
   {
    "duration": 652,
    "start_time": "2023-01-30T18:08:27.949Z"
   },
   {
    "duration": 9602,
    "start_time": "2023-01-30T18:08:28.603Z"
   },
   {
    "duration": 169,
    "start_time": "2023-01-30T18:08:38.207Z"
   },
   {
    "duration": 587,
    "start_time": "2023-01-30T18:08:38.379Z"
   },
   {
    "duration": 282,
    "start_time": "2023-01-30T18:08:38.969Z"
   },
   {
    "duration": 236,
    "start_time": "2023-01-30T18:08:39.253Z"
   },
   {
    "duration": 409,
    "start_time": "2023-01-30T18:08:39.550Z"
   },
   {
    "duration": 1536,
    "start_time": "2023-01-30T18:08:39.961Z"
   },
   {
    "duration": 1585,
    "start_time": "2023-01-30T18:08:41.499Z"
   },
   {
    "duration": 2976,
    "start_time": "2023-01-30T18:08:43.086Z"
   },
   {
    "duration": 153,
    "start_time": "2023-01-30T18:08:46.064Z"
   },
   {
    "duration": 162,
    "start_time": "2023-01-30T18:08:46.219Z"
   },
   {
    "duration": 968,
    "start_time": "2023-01-30T18:08:46.382Z"
   },
   {
    "duration": 218,
    "start_time": "2023-01-30T18:08:47.351Z"
   },
   {
    "duration": 465,
    "start_time": "2023-01-30T18:08:47.570Z"
   },
   {
    "duration": 197,
    "start_time": "2023-01-30T18:08:48.036Z"
   },
   {
    "duration": 234,
    "start_time": "2023-01-30T18:08:48.235Z"
   },
   {
    "duration": 155,
    "start_time": "2023-01-30T18:08:48.470Z"
   },
   {
    "duration": 241,
    "start_time": "2023-01-30T18:08:48.627Z"
   },
   {
    "duration": 172,
    "start_time": "2023-01-30T18:08:48.870Z"
   },
   {
    "duration": 408,
    "start_time": "2023-01-30T18:08:49.048Z"
   },
   {
    "duration": 20,
    "start_time": "2023-01-30T18:08:49.459Z"
   },
   {
    "duration": 213,
    "start_time": "2023-01-30T18:08:49.481Z"
   },
   {
    "duration": 26,
    "start_time": "2023-01-30T18:09:11.843Z"
   },
   {
    "duration": 17,
    "start_time": "2023-01-30T20:25:10.529Z"
   },
   {
    "duration": 241,
    "start_time": "2023-01-30T20:33:46.413Z"
   },
   {
    "duration": 4,
    "start_time": "2023-01-30T20:34:21.346Z"
   },
   {
    "duration": 195,
    "start_time": "2023-01-30T20:34:21.994Z"
   },
   {
    "duration": 150,
    "start_time": "2023-01-30T20:35:40.188Z"
   },
   {
    "duration": 140,
    "start_time": "2023-01-30T20:35:49.760Z"
   },
   {
    "duration": 734,
    "start_time": "2023-01-30T20:40:20.972Z"
   },
   {
    "duration": 22,
    "start_time": "2023-01-30T20:40:21.708Z"
   },
   {
    "duration": 40,
    "start_time": "2023-01-30T20:40:21.732Z"
   },
   {
    "duration": 2397,
    "start_time": "2023-01-30T20:40:21.775Z"
   },
   {
    "duration": 10,
    "start_time": "2023-01-30T20:40:24.174Z"
   },
   {
    "duration": 5,
    "start_time": "2023-01-30T20:40:24.185Z"
   },
   {
    "duration": 256,
    "start_time": "2023-01-30T20:40:24.192Z"
   },
   {
    "duration": 62,
    "start_time": "2023-01-30T20:40:24.451Z"
   },
   {
    "duration": 162,
    "start_time": "2023-01-30T20:40:24.515Z"
   },
   {
    "duration": 9,
    "start_time": "2023-01-30T20:40:24.681Z"
   },
   {
    "duration": 15,
    "start_time": "2023-01-30T20:40:24.692Z"
   },
   {
    "duration": 26,
    "start_time": "2023-01-30T20:40:24.709Z"
   },
   {
    "duration": 24,
    "start_time": "2023-01-30T20:40:24.736Z"
   },
   {
    "duration": 25,
    "start_time": "2023-01-30T20:40:24.762Z"
   },
   {
    "duration": 48,
    "start_time": "2023-01-30T20:40:24.789Z"
   },
   {
    "duration": 169,
    "start_time": "2023-01-30T20:40:24.839Z"
   },
   {
    "duration": 8,
    "start_time": "2023-01-30T20:40:25.009Z"
   },
   {
    "duration": 297,
    "start_time": "2023-01-30T20:40:25.019Z"
   },
   {
    "duration": 307,
    "start_time": "2023-01-30T20:40:25.318Z"
   },
   {
    "duration": 210,
    "start_time": "2023-01-30T20:40:25.626Z"
   },
   {
    "duration": 144,
    "start_time": "2023-01-30T20:40:25.838Z"
   },
   {
    "duration": 15,
    "start_time": "2023-01-30T20:40:25.984Z"
   },
   {
    "duration": 293,
    "start_time": "2023-01-30T20:40:26.001Z"
   },
   {
    "duration": 192,
    "start_time": "2023-01-30T20:40:26.296Z"
   },
   {
    "duration": 484,
    "start_time": "2023-01-30T20:40:26.489Z"
   },
   {
    "duration": 391,
    "start_time": "2023-01-30T20:40:26.975Z"
   },
   {
    "duration": 5548,
    "start_time": "2023-01-30T20:40:27.367Z"
   },
   {
    "duration": 168,
    "start_time": "2023-01-30T20:40:32.920Z"
   },
   {
    "duration": 564,
    "start_time": "2023-01-30T20:40:33.090Z"
   },
   {
    "duration": 207,
    "start_time": "2023-01-30T20:40:33.656Z"
   },
   {
    "duration": 123,
    "start_time": "2023-01-30T20:40:33.864Z"
   },
   {
    "duration": 173,
    "start_time": "2023-01-30T20:40:33.989Z"
   },
   {
    "duration": 1417,
    "start_time": "2023-01-30T20:40:34.164Z"
   },
   {
    "duration": 1583,
    "start_time": "2023-01-30T20:40:35.582Z"
   },
   {
    "duration": 2179,
    "start_time": "2023-01-30T20:40:37.166Z"
   },
   {
    "duration": 154,
    "start_time": "2023-01-30T20:40:39.348Z"
   },
   {
    "duration": 144,
    "start_time": "2023-01-30T20:40:39.504Z"
   },
   {
    "duration": 898,
    "start_time": "2023-01-30T20:40:39.651Z"
   },
   {
    "duration": 179,
    "start_time": "2023-01-30T20:40:40.551Z"
   },
   {
    "duration": 416,
    "start_time": "2023-01-30T20:40:40.732Z"
   },
   {
    "duration": 169,
    "start_time": "2023-01-30T20:40:41.150Z"
   },
   {
    "duration": 218,
    "start_time": "2023-01-30T20:40:41.321Z"
   },
   {
    "duration": 157,
    "start_time": "2023-01-30T20:40:41.541Z"
   },
   {
    "duration": 234,
    "start_time": "2023-01-30T20:40:41.700Z"
   },
   {
    "duration": 181,
    "start_time": "2023-01-30T20:40:41.936Z"
   },
   {
    "duration": 381,
    "start_time": "2023-01-30T20:40:42.120Z"
   },
   {
    "duration": 18,
    "start_time": "2023-01-30T20:40:42.503Z"
   },
   {
    "duration": 214,
    "start_time": "2023-01-30T20:40:42.523Z"
   },
   {
    "duration": 525,
    "start_time": "2023-02-01T14:04:03.504Z"
   },
   {
    "duration": 14,
    "start_time": "2023-02-01T14:04:04.031Z"
   },
   {
    "duration": 27,
    "start_time": "2023-02-01T14:04:04.046Z"
   },
   {
    "duration": 2114,
    "start_time": "2023-02-01T14:04:04.074Z"
   },
   {
    "duration": 11,
    "start_time": "2023-02-01T14:04:06.191Z"
   },
   {
    "duration": 7,
    "start_time": "2023-02-01T14:04:06.203Z"
   },
   {
    "duration": 214,
    "start_time": "2023-02-01T14:04:06.212Z"
   },
   {
    "duration": 59,
    "start_time": "2023-02-01T14:04:06.428Z"
   },
   {
    "duration": 118,
    "start_time": "2023-02-01T14:04:06.488Z"
   },
   {
    "duration": 8,
    "start_time": "2023-02-01T14:04:06.608Z"
   },
   {
    "duration": 8,
    "start_time": "2023-02-01T14:04:06.617Z"
   },
   {
    "duration": 14,
    "start_time": "2023-02-01T14:04:06.627Z"
   },
   {
    "duration": 9,
    "start_time": "2023-02-01T14:04:06.643Z"
   },
   {
    "duration": 39,
    "start_time": "2023-02-01T14:04:06.655Z"
   },
   {
    "duration": 48,
    "start_time": "2023-02-01T14:04:06.696Z"
   },
   {
    "duration": 179,
    "start_time": "2023-02-01T14:04:06.745Z"
   },
   {
    "duration": 8,
    "start_time": "2023-02-01T14:04:06.925Z"
   },
   {
    "duration": 276,
    "start_time": "2023-02-01T14:04:06.935Z"
   },
   {
    "duration": 352,
    "start_time": "2023-02-01T14:04:07.212Z"
   },
   {
    "duration": 130,
    "start_time": "2023-02-01T14:04:07.566Z"
   },
   {
    "duration": 130,
    "start_time": "2023-02-01T14:04:07.697Z"
   },
   {
    "duration": 15,
    "start_time": "2023-02-01T14:04:07.828Z"
   },
   {
    "duration": 278,
    "start_time": "2023-02-01T14:04:07.844Z"
   },
   {
    "duration": 153,
    "start_time": "2023-02-01T14:04:08.123Z"
   },
   {
    "duration": 429,
    "start_time": "2023-02-01T14:04:08.278Z"
   },
   {
    "duration": 456,
    "start_time": "2023-02-01T14:04:08.709Z"
   },
   {
    "duration": 4954,
    "start_time": "2023-02-01T14:04:09.167Z"
   },
   {
    "duration": 504,
    "start_time": "2023-02-01T14:04:14.123Z"
   },
   {
    "duration": 135,
    "start_time": "2023-02-01T14:04:14.628Z"
   },
   {
    "duration": 178,
    "start_time": "2023-02-01T14:04:14.764Z"
   },
   {
    "duration": 118,
    "start_time": "2023-02-01T14:04:14.944Z"
   },
   {
    "duration": 154,
    "start_time": "2023-02-01T14:04:15.064Z"
   },
   {
    "duration": 1323,
    "start_time": "2023-02-01T14:04:15.219Z"
   },
   {
    "duration": 1363,
    "start_time": "2023-02-01T14:04:16.544Z"
   },
   {
    "duration": 1936,
    "start_time": "2023-02-01T14:04:17.909Z"
   },
   {
    "duration": 133,
    "start_time": "2023-02-01T14:04:19.846Z"
   },
   {
    "duration": 122,
    "start_time": "2023-02-01T14:04:19.980Z"
   },
   {
    "duration": 813,
    "start_time": "2023-02-01T14:04:20.104Z"
   },
   {
    "duration": 375,
    "start_time": "2023-02-01T14:04:20.919Z"
   },
   {
    "duration": 158,
    "start_time": "2023-02-01T14:04:21.295Z"
   },
   {
    "duration": 155,
    "start_time": "2023-02-01T14:04:21.457Z"
   },
   {
    "duration": 208,
    "start_time": "2023-02-01T14:04:21.613Z"
   },
   {
    "duration": 135,
    "start_time": "2023-02-01T14:04:21.822Z"
   },
   {
    "duration": 214,
    "start_time": "2023-02-01T14:04:21.959Z"
   },
   {
    "duration": 159,
    "start_time": "2023-02-01T14:04:22.175Z"
   },
   {
    "duration": 342,
    "start_time": "2023-02-01T14:04:22.336Z"
   },
   {
    "duration": 17,
    "start_time": "2023-02-01T14:04:22.679Z"
   },
   {
    "duration": 177,
    "start_time": "2023-02-01T14:04:22.698Z"
   },
   {
    "duration": 66,
    "start_time": "2023-02-01T14:14:07.926Z"
   },
   {
    "duration": 29,
    "start_time": "2023-02-01T14:14:57.782Z"
   },
   {
    "duration": 23,
    "start_time": "2023-02-01T14:16:10.874Z"
   },
   {
    "duration": 1149,
    "start_time": "2023-02-01T14:18:32.373Z"
   },
   {
    "duration": 59,
    "start_time": "2023-02-01T14:26:15.585Z"
   },
   {
    "duration": 29,
    "start_time": "2023-02-01T14:26:20.117Z"
   },
   {
    "duration": 38,
    "start_time": "2023-02-01T14:26:35.238Z"
   },
   {
    "duration": 31,
    "start_time": "2023-02-01T14:26:50.099Z"
   },
   {
    "duration": 86,
    "start_time": "2023-02-01T14:27:56.075Z"
   },
   {
    "duration": 13,
    "start_time": "2023-02-01T14:27:56.163Z"
   },
   {
    "duration": 26,
    "start_time": "2023-02-01T14:27:56.178Z"
   },
   {
    "duration": 2129,
    "start_time": "2023-02-01T14:27:56.206Z"
   },
   {
    "duration": 9,
    "start_time": "2023-02-01T14:27:58.337Z"
   },
   {
    "duration": 11,
    "start_time": "2023-02-01T14:27:58.347Z"
   },
   {
    "duration": 244,
    "start_time": "2023-02-01T14:27:58.359Z"
   },
   {
    "duration": 47,
    "start_time": "2023-02-01T14:27:58.605Z"
   },
   {
    "duration": 6,
    "start_time": "2023-02-01T14:28:49.896Z"
   },
   {
    "duration": 44,
    "start_time": "2023-02-01T14:29:23.509Z"
   },
   {
    "duration": 27,
    "start_time": "2023-02-01T14:29:28.527Z"
   },
   {
    "duration": 114,
    "start_time": "2023-02-01T14:32:39.654Z"
   },
   {
    "duration": 23,
    "start_time": "2023-02-01T14:33:44.981Z"
   },
   {
    "duration": 20,
    "start_time": "2023-02-01T14:49:41.491Z"
   },
   {
    "duration": 32,
    "start_time": "2023-02-01T14:50:17.113Z"
   },
   {
    "duration": 37,
    "start_time": "2023-02-01T14:50:59.414Z"
   },
   {
    "duration": 24,
    "start_time": "2023-02-01T14:55:01.638Z"
   },
   {
    "duration": 34,
    "start_time": "2023-02-01T14:55:12.013Z"
   },
   {
    "duration": 54,
    "start_time": "2023-02-01T14:55:55.626Z"
   },
   {
    "duration": 43,
    "start_time": "2023-02-01T14:56:56.799Z"
   },
   {
    "duration": 46,
    "start_time": "2023-02-01T14:57:42.799Z"
   },
   {
    "duration": 68,
    "start_time": "2023-02-01T14:57:55.945Z"
   },
   {
    "duration": 46,
    "start_time": "2023-02-01T14:57:58.897Z"
   },
   {
    "duration": 45,
    "start_time": "2023-02-01T14:58:10.460Z"
   },
   {
    "duration": 44,
    "start_time": "2023-02-01T14:58:32.669Z"
   },
   {
    "duration": 35,
    "start_time": "2023-02-01T15:00:37.658Z"
   },
   {
    "duration": 434,
    "start_time": "2023-02-01T15:00:47.427Z"
   },
   {
    "duration": 15,
    "start_time": "2023-02-01T15:00:47.863Z"
   },
   {
    "duration": 27,
    "start_time": "2023-02-01T15:00:47.880Z"
   },
   {
    "duration": 1967,
    "start_time": "2023-02-01T15:00:47.909Z"
   },
   {
    "duration": 8,
    "start_time": "2023-02-01T15:00:49.878Z"
   },
   {
    "duration": 8,
    "start_time": "2023-02-01T15:00:49.888Z"
   },
   {
    "duration": 225,
    "start_time": "2023-02-01T15:00:49.897Z"
   },
   {
    "duration": 51,
    "start_time": "2023-02-01T15:00:50.124Z"
   },
   {
    "duration": 31,
    "start_time": "2023-02-01T15:00:50.177Z"
   },
   {
    "duration": 118,
    "start_time": "2023-02-01T15:00:50.211Z"
   },
   {
    "duration": 6,
    "start_time": "2023-02-01T15:00:50.331Z"
   },
   {
    "duration": 18,
    "start_time": "2023-02-01T15:00:50.339Z"
   },
   {
    "duration": 18,
    "start_time": "2023-02-01T15:00:50.359Z"
   },
   {
    "duration": 53,
    "start_time": "2023-02-01T15:00:50.379Z"
   },
   {
    "duration": 13,
    "start_time": "2023-02-01T15:00:50.433Z"
   },
   {
    "duration": 63,
    "start_time": "2023-02-01T15:00:50.447Z"
   },
   {
    "duration": 41,
    "start_time": "2023-02-01T15:00:50.511Z"
   },
   {
    "duration": 147,
    "start_time": "2023-02-01T15:00:50.553Z"
   },
   {
    "duration": 7,
    "start_time": "2023-02-01T15:00:50.702Z"
   },
   {
    "duration": 277,
    "start_time": "2023-02-01T15:00:50.710Z"
   },
   {
    "duration": 368,
    "start_time": "2023-02-01T15:00:50.988Z"
   },
   {
    "duration": 120,
    "start_time": "2023-02-01T15:00:51.357Z"
   },
   {
    "duration": 123,
    "start_time": "2023-02-01T15:00:51.478Z"
   },
   {
    "duration": 13,
    "start_time": "2023-02-01T15:00:51.603Z"
   },
   {
    "duration": 300,
    "start_time": "2023-02-01T15:00:51.618Z"
   },
   {
    "duration": 159,
    "start_time": "2023-02-01T15:00:51.921Z"
   },
   {
    "duration": 426,
    "start_time": "2023-02-01T15:00:52.082Z"
   },
   {
    "duration": 875,
    "start_time": "2023-02-01T15:00:52.511Z"
   },
   {
    "duration": 5369,
    "start_time": "2023-02-01T15:00:53.387Z"
   },
   {
    "duration": 538,
    "start_time": "2023-02-01T15:00:58.758Z"
   },
   {
    "duration": 145,
    "start_time": "2023-02-01T15:00:59.298Z"
   },
   {
    "duration": 172,
    "start_time": "2023-02-01T15:00:59.445Z"
   },
   {
    "duration": 110,
    "start_time": "2023-02-01T15:00:59.618Z"
   },
   {
    "duration": 156,
    "start_time": "2023-02-01T15:00:59.730Z"
   },
   {
    "duration": 1273,
    "start_time": "2023-02-01T15:00:59.887Z"
   },
   {
    "duration": 1339,
    "start_time": "2023-02-01T15:01:01.162Z"
   },
   {
    "duration": 1952,
    "start_time": "2023-02-01T15:01:02.503Z"
   },
   {
    "duration": 130,
    "start_time": "2023-02-01T15:01:04.457Z"
   },
   {
    "duration": 119,
    "start_time": "2023-02-01T15:01:04.589Z"
   },
   {
    "duration": 830,
    "start_time": "2023-02-01T15:01:04.709Z"
   },
   {
    "duration": 409,
    "start_time": "2023-02-01T15:01:05.541Z"
   },
   {
    "duration": 167,
    "start_time": "2023-02-01T15:01:05.952Z"
   },
   {
    "duration": 160,
    "start_time": "2023-02-01T15:01:06.121Z"
   },
   {
    "duration": 209,
    "start_time": "2023-02-01T15:01:06.285Z"
   },
   {
    "duration": 133,
    "start_time": "2023-02-01T15:01:06.495Z"
   },
   {
    "duration": 207,
    "start_time": "2023-02-01T15:01:06.629Z"
   },
   {
    "duration": 157,
    "start_time": "2023-02-01T15:01:06.837Z"
   },
   {
    "duration": 377,
    "start_time": "2023-02-01T15:01:06.996Z"
   },
   {
    "duration": 23,
    "start_time": "2023-02-01T15:01:07.374Z"
   },
   {
    "duration": 184,
    "start_time": "2023-02-01T15:01:07.398Z"
   },
   {
    "duration": 41,
    "start_time": "2023-02-01T15:01:25.000Z"
   },
   {
    "duration": 12,
    "start_time": "2023-02-01T15:03:01.167Z"
   },
   {
    "duration": 14,
    "start_time": "2023-02-01T15:03:09.296Z"
   },
   {
    "duration": 41,
    "start_time": "2023-02-01T15:03:31.805Z"
   },
   {
    "duration": 52,
    "start_time": "2023-02-01T15:03:59.865Z"
   },
   {
    "duration": 46,
    "start_time": "2023-02-01T15:04:12.597Z"
   },
   {
    "duration": 51,
    "start_time": "2023-02-01T15:04:18.834Z"
   },
   {
    "duration": 18,
    "start_time": "2023-02-01T15:04:33.101Z"
   },
   {
    "duration": 90,
    "start_time": "2023-02-01T15:04:41.805Z"
   },
   {
    "duration": 17,
    "start_time": "2023-02-01T15:04:46.701Z"
   },
   {
    "duration": 31,
    "start_time": "2023-02-01T15:04:52.640Z"
   },
   {
    "duration": 31,
    "start_time": "2023-02-01T15:05:22.645Z"
   },
   {
    "duration": 14,
    "start_time": "2023-02-01T15:05:28.406Z"
   },
   {
    "duration": 31,
    "start_time": "2023-02-01T15:05:53.270Z"
   },
   {
    "duration": 84,
    "start_time": "2023-02-01T15:06:07.997Z"
   },
   {
    "duration": 21,
    "start_time": "2023-02-01T15:06:08.083Z"
   },
   {
    "duration": 34,
    "start_time": "2023-02-01T15:06:08.105Z"
   },
   {
    "duration": 2106,
    "start_time": "2023-02-01T15:06:08.141Z"
   },
   {
    "duration": 11,
    "start_time": "2023-02-01T15:06:10.250Z"
   },
   {
    "duration": 26,
    "start_time": "2023-02-01T15:06:10.263Z"
   },
   {
    "duration": 244,
    "start_time": "2023-02-01T15:06:10.294Z"
   },
   {
    "duration": 76,
    "start_time": "2023-02-01T15:06:10.540Z"
   },
   {
    "duration": 41,
    "start_time": "2023-02-01T15:06:10.619Z"
   },
   {
    "duration": 153,
    "start_time": "2023-02-01T15:06:10.663Z"
   },
   {
    "duration": 7,
    "start_time": "2023-02-01T15:06:10.818Z"
   },
   {
    "duration": 20,
    "start_time": "2023-02-01T15:06:10.827Z"
   },
   {
    "duration": 31,
    "start_time": "2023-02-01T15:06:10.849Z"
   },
   {
    "duration": 104,
    "start_time": "2023-02-01T15:06:24.002Z"
   },
   {
    "duration": 21,
    "start_time": "2023-02-01T15:06:24.109Z"
   },
   {
    "duration": 24,
    "start_time": "2023-02-01T15:06:24.132Z"
   },
   {
    "duration": 2063,
    "start_time": "2023-02-01T15:06:24.157Z"
   },
   {
    "duration": 9,
    "start_time": "2023-02-01T15:06:26.222Z"
   },
   {
    "duration": 6,
    "start_time": "2023-02-01T15:06:26.233Z"
   },
   {
    "duration": 241,
    "start_time": "2023-02-01T15:06:26.241Z"
   },
   {
    "duration": 62,
    "start_time": "2023-02-01T15:06:26.485Z"
   },
   {
    "duration": 39,
    "start_time": "2023-02-01T15:06:26.549Z"
   },
   {
    "duration": 133,
    "start_time": "2023-02-01T15:06:26.593Z"
   },
   {
    "duration": 8,
    "start_time": "2023-02-01T15:06:26.728Z"
   },
   {
    "duration": 9,
    "start_time": "2023-02-01T15:06:26.737Z"
   },
   {
    "duration": 32,
    "start_time": "2023-02-01T15:06:26.748Z"
   },
   {
    "duration": 56,
    "start_time": "2023-02-01T15:06:32.062Z"
   },
   {
    "duration": 58,
    "start_time": "2023-02-01T15:07:04.624Z"
   },
   {
    "duration": 43,
    "start_time": "2023-02-01T15:08:25.163Z"
   },
   {
    "duration": 51,
    "start_time": "2023-02-01T15:08:46.668Z"
   },
   {
    "duration": 42,
    "start_time": "2023-02-01T15:11:34.603Z"
   },
   {
    "duration": 72,
    "start_time": "2023-02-01T15:11:54.172Z"
   },
   {
    "duration": 70,
    "start_time": "2023-02-01T15:11:58.054Z"
   },
   {
    "duration": 57,
    "start_time": "2023-02-01T15:14:44.550Z"
   },
   {
    "duration": 88,
    "start_time": "2023-02-01T15:15:19.826Z"
   },
   {
    "duration": 97,
    "start_time": "2023-02-01T15:16:17.701Z"
   },
   {
    "duration": 13,
    "start_time": "2023-02-01T15:16:17.802Z"
   },
   {
    "duration": 22,
    "start_time": "2023-02-01T15:16:17.817Z"
   },
   {
    "duration": 2043,
    "start_time": "2023-02-01T15:16:17.841Z"
   },
   {
    "duration": 17,
    "start_time": "2023-02-01T15:16:19.886Z"
   },
   {
    "duration": 7,
    "start_time": "2023-02-01T15:16:19.905Z"
   },
   {
    "duration": 244,
    "start_time": "2023-02-01T15:16:19.914Z"
   },
   {
    "duration": 57,
    "start_time": "2023-02-01T15:16:20.160Z"
   },
   {
    "duration": 27,
    "start_time": "2023-02-01T15:16:20.219Z"
   },
   {
    "duration": 150,
    "start_time": "2023-02-01T15:16:20.248Z"
   },
   {
    "duration": 7,
    "start_time": "2023-02-01T15:16:20.402Z"
   },
   {
    "duration": 15,
    "start_time": "2023-02-01T15:16:20.410Z"
   },
   {
    "duration": 21,
    "start_time": "2023-02-01T15:16:20.427Z"
   },
   {
    "duration": 118,
    "start_time": "2023-02-01T15:16:23.394Z"
   },
   {
    "duration": 87,
    "start_time": "2023-02-01T15:17:22.625Z"
   },
   {
    "duration": 13,
    "start_time": "2023-02-01T15:17:22.714Z"
   },
   {
    "duration": 37,
    "start_time": "2023-02-01T15:17:22.729Z"
   },
   {
    "duration": 2095,
    "start_time": "2023-02-01T15:17:22.768Z"
   },
   {
    "duration": 9,
    "start_time": "2023-02-01T15:17:24.864Z"
   },
   {
    "duration": 34,
    "start_time": "2023-02-01T15:17:24.875Z"
   },
   {
    "duration": 245,
    "start_time": "2023-02-01T15:17:24.911Z"
   },
   {
    "duration": 63,
    "start_time": "2023-02-01T15:17:25.159Z"
   },
   {
    "duration": 32,
    "start_time": "2023-02-01T15:17:25.223Z"
   },
   {
    "duration": 154,
    "start_time": "2023-02-01T15:17:25.258Z"
   },
   {
    "duration": 7,
    "start_time": "2023-02-01T15:17:25.413Z"
   },
   {
    "duration": 8,
    "start_time": "2023-02-01T15:17:25.422Z"
   },
   {
    "duration": 16,
    "start_time": "2023-02-01T15:17:25.432Z"
   },
   {
    "duration": 54,
    "start_time": "2023-02-01T15:17:29.302Z"
   },
   {
    "duration": 64,
    "start_time": "2023-02-01T15:17:38.245Z"
   },
   {
    "duration": 70,
    "start_time": "2023-02-01T15:17:44.730Z"
   },
   {
    "duration": 92,
    "start_time": "2023-02-01T15:17:53.312Z"
   },
   {
    "duration": 13,
    "start_time": "2023-02-01T15:17:53.406Z"
   },
   {
    "duration": 31,
    "start_time": "2023-02-01T15:17:53.420Z"
   },
   {
    "duration": 2007,
    "start_time": "2023-02-01T15:17:53.453Z"
   },
   {
    "duration": 9,
    "start_time": "2023-02-01T15:17:55.462Z"
   },
   {
    "duration": 19,
    "start_time": "2023-02-01T15:17:55.473Z"
   },
   {
    "duration": 281,
    "start_time": "2023-02-01T15:17:55.493Z"
   },
   {
    "duration": 70,
    "start_time": "2023-02-01T15:17:55.776Z"
   },
   {
    "duration": 50,
    "start_time": "2023-02-01T15:17:55.848Z"
   },
   {
    "duration": 128,
    "start_time": "2023-02-01T15:17:55.901Z"
   },
   {
    "duration": 8,
    "start_time": "2023-02-01T15:17:56.031Z"
   },
   {
    "duration": 11,
    "start_time": "2023-02-01T15:17:56.040Z"
   },
   {
    "duration": 258,
    "start_time": "2023-02-01T15:17:56.052Z"
   },
   {
    "duration": 29,
    "start_time": "2023-02-01T15:18:03.102Z"
   },
   {
    "duration": 32,
    "start_time": "2023-02-01T15:18:08.485Z"
   },
   {
    "duration": 56,
    "start_time": "2023-02-01T15:18:12.595Z"
   },
   {
    "duration": 93,
    "start_time": "2023-02-01T15:18:25.310Z"
   },
   {
    "duration": 21,
    "start_time": "2023-02-01T15:18:25.406Z"
   },
   {
    "duration": 31,
    "start_time": "2023-02-01T15:18:25.429Z"
   },
   {
    "duration": 1976,
    "start_time": "2023-02-01T15:18:25.462Z"
   },
   {
    "duration": 11,
    "start_time": "2023-02-01T15:18:27.441Z"
   },
   {
    "duration": 28,
    "start_time": "2023-02-01T15:18:27.454Z"
   },
   {
    "duration": 263,
    "start_time": "2023-02-01T15:18:27.483Z"
   },
   {
    "duration": 64,
    "start_time": "2023-02-01T15:18:27.748Z"
   },
   {
    "duration": 29,
    "start_time": "2023-02-01T15:18:27.814Z"
   },
   {
    "duration": 150,
    "start_time": "2023-02-01T15:18:27.845Z"
   },
   {
    "duration": 12,
    "start_time": "2023-02-01T15:18:27.996Z"
   },
   {
    "duration": 21,
    "start_time": "2023-02-01T15:18:28.009Z"
   },
   {
    "duration": 36,
    "start_time": "2023-02-01T15:18:28.032Z"
   },
   {
    "duration": 77,
    "start_time": "2023-02-01T15:18:42.656Z"
   },
   {
    "duration": 69,
    "start_time": "2023-02-01T15:18:46.473Z"
   },
   {
    "duration": 58,
    "start_time": "2023-02-01T15:18:51.505Z"
   },
   {
    "duration": 91,
    "start_time": "2023-02-01T15:19:03.544Z"
   },
   {
    "duration": 13,
    "start_time": "2023-02-01T15:19:03.637Z"
   },
   {
    "duration": 24,
    "start_time": "2023-02-01T15:19:03.652Z"
   },
   {
    "duration": 2237,
    "start_time": "2023-02-01T15:19:03.677Z"
   },
   {
    "duration": 9,
    "start_time": "2023-02-01T15:19:05.916Z"
   },
   {
    "duration": 8,
    "start_time": "2023-02-01T15:19:05.927Z"
   },
   {
    "duration": 243,
    "start_time": "2023-02-01T15:19:05.936Z"
   },
   {
    "duration": 61,
    "start_time": "2023-02-01T15:19:06.181Z"
   },
   {
    "duration": 27,
    "start_time": "2023-02-01T15:19:06.244Z"
   },
   {
    "duration": 149,
    "start_time": "2023-02-01T15:19:06.272Z"
   },
   {
    "duration": 6,
    "start_time": "2023-02-01T15:19:06.423Z"
   },
   {
    "duration": 20,
    "start_time": "2023-02-01T15:19:06.431Z"
   },
   {
    "duration": 24,
    "start_time": "2023-02-01T15:19:06.452Z"
   },
   {
    "duration": 37,
    "start_time": "2023-02-01T15:19:21.954Z"
   },
   {
    "duration": 70,
    "start_time": "2023-02-01T15:19:29.705Z"
   },
   {
    "duration": 88,
    "start_time": "2023-02-01T15:19:39.812Z"
   },
   {
    "duration": 19,
    "start_time": "2023-02-01T15:19:39.903Z"
   },
   {
    "duration": 31,
    "start_time": "2023-02-01T15:19:39.924Z"
   },
   {
    "duration": 2132,
    "start_time": "2023-02-01T15:19:39.957Z"
   },
   {
    "duration": 14,
    "start_time": "2023-02-01T15:19:42.092Z"
   },
   {
    "duration": 15,
    "start_time": "2023-02-01T15:19:42.109Z"
   },
   {
    "duration": 309,
    "start_time": "2023-02-01T15:19:42.125Z"
   },
   {
    "duration": 74,
    "start_time": "2023-02-01T15:19:42.437Z"
   },
   {
    "duration": 29,
    "start_time": "2023-02-01T15:19:42.514Z"
   },
   {
    "duration": 164,
    "start_time": "2023-02-01T15:19:42.545Z"
   },
   {
    "duration": 8,
    "start_time": "2023-02-01T15:19:42.711Z"
   },
   {
    "duration": 8,
    "start_time": "2023-02-01T15:19:42.721Z"
   },
   {
    "duration": 18,
    "start_time": "2023-02-01T15:19:42.731Z"
   },
   {
    "duration": 100,
    "start_time": "2023-02-01T15:19:46.269Z"
   },
   {
    "duration": 105,
    "start_time": "2023-02-01T15:20:10.301Z"
   },
   {
    "duration": 34,
    "start_time": "2023-02-01T15:20:10.410Z"
   },
   {
    "duration": 24,
    "start_time": "2023-02-01T15:20:10.445Z"
   },
   {
    "duration": 2131,
    "start_time": "2023-02-01T15:20:10.471Z"
   },
   {
    "duration": 11,
    "start_time": "2023-02-01T15:20:12.606Z"
   },
   {
    "duration": 4,
    "start_time": "2023-02-01T15:20:12.619Z"
   },
   {
    "duration": 285,
    "start_time": "2023-02-01T15:20:12.624Z"
   },
   {
    "duration": 91,
    "start_time": "2023-02-01T15:20:12.911Z"
   },
   {
    "duration": 33,
    "start_time": "2023-02-01T15:20:13.006Z"
   },
   {
    "duration": 140,
    "start_time": "2023-02-01T15:20:13.041Z"
   },
   {
    "duration": 10,
    "start_time": "2023-02-01T15:20:13.186Z"
   },
   {
    "duration": 52,
    "start_time": "2023-02-01T15:20:13.198Z"
   },
   {
    "duration": 34,
    "start_time": "2023-02-01T15:20:13.251Z"
   },
   {
    "duration": 382,
    "start_time": "2023-02-01T15:20:18.767Z"
   },
   {
    "duration": 81,
    "start_time": "2023-02-01T15:21:37.794Z"
   },
   {
    "duration": 21,
    "start_time": "2023-02-01T15:21:37.877Z"
   },
   {
    "duration": 28,
    "start_time": "2023-02-01T15:21:37.900Z"
   },
   {
    "duration": 1954,
    "start_time": "2023-02-01T15:21:37.929Z"
   },
   {
    "duration": 15,
    "start_time": "2023-02-01T15:21:39.886Z"
   },
   {
    "duration": 7,
    "start_time": "2023-02-01T15:21:39.903Z"
   },
   {
    "duration": 255,
    "start_time": "2023-02-01T15:21:39.912Z"
   },
   {
    "duration": 69,
    "start_time": "2023-02-01T15:21:40.169Z"
   },
   {
    "duration": 30,
    "start_time": "2023-02-01T15:21:40.239Z"
   },
   {
    "duration": 167,
    "start_time": "2023-02-01T15:21:40.271Z"
   },
   {
    "duration": 7,
    "start_time": "2023-02-01T15:21:40.439Z"
   },
   {
    "duration": 10,
    "start_time": "2023-02-01T15:21:40.447Z"
   },
   {
    "duration": 31,
    "start_time": "2023-02-01T15:21:40.459Z"
   },
   {
    "duration": 145,
    "start_time": "2023-02-01T15:21:57.456Z"
   },
   {
    "duration": 47,
    "start_time": "2023-02-01T15:23:33.858Z"
   },
   {
    "duration": 87,
    "start_time": "2023-02-01T15:23:39.315Z"
   },
   {
    "duration": 13,
    "start_time": "2023-02-01T15:23:39.406Z"
   },
   {
    "duration": 24,
    "start_time": "2023-02-01T15:23:39.421Z"
   },
   {
    "duration": 1829,
    "start_time": "2023-02-01T15:23:39.448Z"
   },
   {
    "duration": 12,
    "start_time": "2023-02-01T15:23:41.286Z"
   },
   {
    "duration": 23,
    "start_time": "2023-02-01T15:23:41.300Z"
   },
   {
    "duration": 225,
    "start_time": "2023-02-01T15:23:41.324Z"
   },
   {
    "duration": 60,
    "start_time": "2023-02-01T15:23:41.550Z"
   },
   {
    "duration": 27,
    "start_time": "2023-02-01T15:23:41.611Z"
   },
   {
    "duration": 135,
    "start_time": "2023-02-01T15:23:41.640Z"
   },
   {
    "duration": 18,
    "start_time": "2023-02-01T15:23:41.777Z"
   },
   {
    "duration": 20,
    "start_time": "2023-02-01T15:23:41.797Z"
   },
   {
    "duration": 15,
    "start_time": "2023-02-01T15:23:41.818Z"
   },
   {
    "duration": 58,
    "start_time": "2023-02-01T15:23:41.836Z"
   },
   {
    "duration": 48,
    "start_time": "2023-02-01T15:23:46.529Z"
   },
   {
    "duration": 22,
    "start_time": "2023-02-01T15:27:26.002Z"
   },
   {
    "duration": 30,
    "start_time": "2023-02-01T15:28:10.910Z"
   },
   {
    "duration": 27,
    "start_time": "2023-02-01T15:28:13.543Z"
   },
   {
    "duration": 49,
    "start_time": "2023-02-01T15:28:16.203Z"
   },
   {
    "duration": 100,
    "start_time": "2023-02-01T15:28:22.003Z"
   },
   {
    "duration": 12,
    "start_time": "2023-02-01T15:28:22.105Z"
   },
   {
    "duration": 23,
    "start_time": "2023-02-01T15:28:22.118Z"
   },
   {
    "duration": 2192,
    "start_time": "2023-02-01T15:28:22.143Z"
   },
   {
    "duration": 9,
    "start_time": "2023-02-01T15:28:24.336Z"
   },
   {
    "duration": 21,
    "start_time": "2023-02-01T15:28:24.347Z"
   },
   {
    "duration": 260,
    "start_time": "2023-02-01T15:28:24.370Z"
   },
   {
    "duration": 56,
    "start_time": "2023-02-01T15:28:24.632Z"
   },
   {
    "duration": 30,
    "start_time": "2023-02-01T15:28:24.691Z"
   },
   {
    "duration": 144,
    "start_time": "2023-02-01T15:28:24.724Z"
   },
   {
    "duration": 28,
    "start_time": "2023-02-01T15:28:24.870Z"
   },
   {
    "duration": 7,
    "start_time": "2023-02-01T15:28:24.899Z"
   },
   {
    "duration": 15,
    "start_time": "2023-02-01T15:28:24.908Z"
   },
   {
    "duration": 80,
    "start_time": "2023-02-01T15:28:27.919Z"
   },
   {
    "duration": 41,
    "start_time": "2023-02-01T15:29:24.312Z"
   },
   {
    "duration": 42,
    "start_time": "2023-02-01T15:29:46.403Z"
   },
   {
    "duration": 34,
    "start_time": "2023-02-01T15:37:13.086Z"
   },
   {
    "duration": 13,
    "start_time": "2023-02-01T15:39:18.203Z"
   },
   {
    "duration": 86,
    "start_time": "2023-02-01T15:39:39.621Z"
   },
   {
    "duration": 13,
    "start_time": "2023-02-01T15:39:39.709Z"
   },
   {
    "duration": 29,
    "start_time": "2023-02-01T15:39:39.723Z"
   },
   {
    "duration": 1876,
    "start_time": "2023-02-01T15:39:39.754Z"
   },
   {
    "duration": 9,
    "start_time": "2023-02-01T15:39:41.632Z"
   },
   {
    "duration": 64,
    "start_time": "2023-02-01T15:39:41.642Z"
   },
   {
    "duration": 294,
    "start_time": "2023-02-01T15:39:41.708Z"
   },
   {
    "duration": 6591,
    "start_time": "2023-02-01T15:39:42.004Z"
   },
   {
    "duration": 44,
    "start_time": "2023-02-01T15:43:27.759Z"
   },
   {
    "duration": 20,
    "start_time": "2023-02-01T15:43:58.140Z"
   },
   {
    "duration": 70,
    "start_time": "2023-02-01T15:44:09.167Z"
   },
   {
    "duration": 82,
    "start_time": "2023-02-01T15:44:24.778Z"
   },
   {
    "duration": 15,
    "start_time": "2023-02-01T15:44:24.863Z"
   },
   {
    "duration": 42,
    "start_time": "2023-02-01T15:44:24.880Z"
   },
   {
    "duration": 1878,
    "start_time": "2023-02-01T15:44:24.924Z"
   },
   {
    "duration": 12,
    "start_time": "2023-02-01T15:44:26.811Z"
   },
   {
    "duration": 13,
    "start_time": "2023-02-01T15:44:26.825Z"
   },
   {
    "duration": 267,
    "start_time": "2023-02-01T15:44:26.840Z"
   },
   {
    "duration": 52,
    "start_time": "2023-02-01T15:44:27.109Z"
   },
   {
    "duration": 62,
    "start_time": "2023-02-01T15:44:27.163Z"
   },
   {
    "duration": 134,
    "start_time": "2023-02-01T15:44:27.227Z"
   },
   {
    "duration": 8,
    "start_time": "2023-02-01T15:44:27.362Z"
   },
   {
    "duration": 47,
    "start_time": "2023-02-01T15:44:27.371Z"
   },
   {
    "duration": 30,
    "start_time": "2023-02-01T15:44:27.419Z"
   },
   {
    "duration": 14,
    "start_time": "2023-02-01T15:44:27.451Z"
   },
   {
    "duration": 87,
    "start_time": "2023-02-01T15:44:36.045Z"
   },
   {
    "duration": 80,
    "start_time": "2023-02-01T15:45:17.525Z"
   },
   {
    "duration": 85,
    "start_time": "2023-02-01T15:45:42.310Z"
   },
   {
    "duration": 17,
    "start_time": "2023-02-01T15:45:42.397Z"
   },
   {
    "duration": 28,
    "start_time": "2023-02-01T15:45:42.415Z"
   },
   {
    "duration": 2312,
    "start_time": "2023-02-01T15:45:42.445Z"
   },
   {
    "duration": 8,
    "start_time": "2023-02-01T15:45:44.759Z"
   },
   {
    "duration": 20,
    "start_time": "2023-02-01T15:45:44.769Z"
   },
   {
    "duration": 244,
    "start_time": "2023-02-01T15:45:44.792Z"
   },
   {
    "duration": 66,
    "start_time": "2023-02-01T15:45:45.038Z"
   },
   {
    "duration": 32,
    "start_time": "2023-02-01T15:45:45.106Z"
   },
   {
    "duration": 150,
    "start_time": "2023-02-01T15:45:45.139Z"
   },
   {
    "duration": 10,
    "start_time": "2023-02-01T15:45:45.296Z"
   },
   {
    "duration": 19,
    "start_time": "2023-02-01T15:45:45.307Z"
   },
   {
    "duration": 16,
    "start_time": "2023-02-01T15:45:45.328Z"
   },
   {
    "duration": 15,
    "start_time": "2023-02-01T15:45:45.346Z"
   },
   {
    "duration": 39,
    "start_time": "2023-02-01T15:45:52.433Z"
   },
   {
    "duration": 51,
    "start_time": "2023-02-01T15:46:16.811Z"
   },
   {
    "duration": 38,
    "start_time": "2023-02-01T15:46:35.724Z"
   },
   {
    "duration": 45,
    "start_time": "2023-02-01T15:46:48.307Z"
   },
   {
    "duration": 22,
    "start_time": "2023-02-01T15:47:46.701Z"
   },
   {
    "duration": 111,
    "start_time": "2023-02-01T15:47:46.725Z"
   },
   {
    "duration": 65,
    "start_time": "2023-02-01T15:47:46.839Z"
   },
   {
    "duration": 42,
    "start_time": "2023-02-01T15:47:46.906Z"
   },
   {
    "duration": 1923,
    "start_time": "2023-02-01T15:47:46.950Z"
   },
   {
    "duration": 28,
    "start_time": "2023-02-01T15:47:48.875Z"
   },
   {
    "duration": 7,
    "start_time": "2023-02-01T15:47:48.904Z"
   },
   {
    "duration": 253,
    "start_time": "2023-02-01T15:47:48.912Z"
   },
   {
    "duration": 63,
    "start_time": "2023-02-01T15:47:49.166Z"
   },
   {
    "duration": 27,
    "start_time": "2023-02-01T15:47:49.230Z"
   },
   {
    "duration": 161,
    "start_time": "2023-02-01T15:47:49.259Z"
   },
   {
    "duration": 8,
    "start_time": "2023-02-01T15:47:49.422Z"
   },
   {
    "duration": 29,
    "start_time": "2023-02-01T15:47:49.431Z"
   },
   {
    "duration": 57,
    "start_time": "2023-02-01T15:47:49.461Z"
   },
   {
    "duration": 36,
    "start_time": "2023-02-01T15:47:49.520Z"
   },
   {
    "duration": 57,
    "start_time": "2023-02-01T15:48:23.168Z"
   },
   {
    "duration": 55,
    "start_time": "2023-02-01T15:48:30.548Z"
   },
   {
    "duration": 3,
    "start_time": "2023-02-01T15:48:48.649Z"
   },
   {
    "duration": 96,
    "start_time": "2023-02-01T15:48:48.655Z"
   },
   {
    "duration": 14,
    "start_time": "2023-02-01T15:48:48.753Z"
   },
   {
    "duration": 44,
    "start_time": "2023-02-01T15:48:48.770Z"
   },
   {
    "duration": 1866,
    "start_time": "2023-02-01T15:48:48.816Z"
   },
   {
    "duration": 17,
    "start_time": "2023-02-01T15:48:50.689Z"
   },
   {
    "duration": 6,
    "start_time": "2023-02-01T15:48:50.709Z"
   },
   {
    "duration": 284,
    "start_time": "2023-02-01T15:48:50.717Z"
   },
   {
    "duration": 48,
    "start_time": "2023-02-01T15:48:51.003Z"
   },
   {
    "duration": 38,
    "start_time": "2023-02-01T15:48:51.053Z"
   },
   {
    "duration": 135,
    "start_time": "2023-02-01T15:48:51.092Z"
   },
   {
    "duration": 8,
    "start_time": "2023-02-01T15:48:51.228Z"
   },
   {
    "duration": 8,
    "start_time": "2023-02-01T15:48:51.238Z"
   },
   {
    "duration": 16,
    "start_time": "2023-02-01T15:48:51.247Z"
   },
   {
    "duration": 46,
    "start_time": "2023-02-01T15:48:51.265Z"
   },
   {
    "duration": 72,
    "start_time": "2023-02-01T15:48:55.210Z"
   },
   {
    "duration": 5,
    "start_time": "2023-02-01T15:50:17.699Z"
   },
   {
    "duration": 111,
    "start_time": "2023-02-01T15:50:17.706Z"
   },
   {
    "duration": 13,
    "start_time": "2023-02-01T15:50:17.819Z"
   },
   {
    "duration": 56,
    "start_time": "2023-02-01T15:50:17.834Z"
   },
   {
    "duration": 2507,
    "start_time": "2023-02-01T15:50:17.901Z"
   },
   {
    "duration": 13,
    "start_time": "2023-02-01T15:50:20.410Z"
   },
   {
    "duration": 6,
    "start_time": "2023-02-01T15:50:20.425Z"
   },
   {
    "duration": 263,
    "start_time": "2023-02-01T15:50:20.433Z"
   },
   {
    "duration": 51,
    "start_time": "2023-02-01T15:50:20.698Z"
   },
   {
    "duration": 57,
    "start_time": "2023-02-01T15:50:20.750Z"
   },
   {
    "duration": 210,
    "start_time": "2023-02-01T15:50:20.810Z"
   },
   {
    "duration": 7,
    "start_time": "2023-02-01T15:50:21.022Z"
   },
   {
    "duration": 40,
    "start_time": "2023-02-01T15:50:21.031Z"
   },
   {
    "duration": 72,
    "start_time": "2023-02-01T15:50:21.075Z"
   },
   {
    "duration": 72,
    "start_time": "2023-02-01T15:50:21.148Z"
   },
   {
    "duration": 124,
    "start_time": "2023-02-01T15:50:25.230Z"
   },
   {
    "duration": 14,
    "start_time": "2023-02-01T15:53:56.156Z"
   },
   {
    "duration": 372,
    "start_time": "2023-02-01T15:54:09.043Z"
   },
   {
    "duration": 90,
    "start_time": "2023-02-01T15:54:09.417Z"
   },
   {
    "duration": 17,
    "start_time": "2023-02-01T15:54:09.508Z"
   },
   {
    "duration": 26,
    "start_time": "2023-02-01T15:54:09.528Z"
   },
   {
    "duration": 2221,
    "start_time": "2023-02-01T15:54:09.556Z"
   },
   {
    "duration": 13,
    "start_time": "2023-02-01T15:54:11.778Z"
   },
   {
    "duration": 36,
    "start_time": "2023-02-01T15:54:11.792Z"
   },
   {
    "duration": 257,
    "start_time": "2023-02-01T15:54:11.829Z"
   },
   {
    "duration": 55,
    "start_time": "2023-02-01T15:54:12.088Z"
   },
   {
    "duration": 26,
    "start_time": "2023-02-01T15:54:12.146Z"
   },
   {
    "duration": 150,
    "start_time": "2023-02-01T15:54:12.173Z"
   },
   {
    "duration": 8,
    "start_time": "2023-02-01T15:54:12.325Z"
   },
   {
    "duration": 29,
    "start_time": "2023-02-01T15:54:12.334Z"
   },
   {
    "duration": 46,
    "start_time": "2023-02-01T15:54:12.365Z"
   },
   {
    "duration": 18,
    "start_time": "2023-02-01T15:54:12.413Z"
   },
   {
    "duration": 39,
    "start_time": "2023-02-01T15:54:12.433Z"
   },
   {
    "duration": 15,
    "start_time": "2023-02-01T15:54:12.474Z"
   },
   {
    "duration": 60,
    "start_time": "2023-02-01T15:54:12.494Z"
   },
   {
    "duration": 51,
    "start_time": "2023-02-01T15:54:12.556Z"
   },
   {
    "duration": 227,
    "start_time": "2023-02-01T15:54:12.609Z"
   },
   {
    "duration": 7,
    "start_time": "2023-02-01T15:54:12.838Z"
   },
   {
    "duration": 355,
    "start_time": "2023-02-01T15:54:12.847Z"
   },
   {
    "duration": 409,
    "start_time": "2023-02-01T15:54:13.203Z"
   },
   {
    "duration": 137,
    "start_time": "2023-02-01T15:54:13.614Z"
   },
   {
    "duration": 152,
    "start_time": "2023-02-01T15:54:13.752Z"
   },
   {
    "duration": 16,
    "start_time": "2023-02-01T15:54:13.906Z"
   },
   {
    "duration": 288,
    "start_time": "2023-02-01T15:54:13.924Z"
   },
   {
    "duration": 159,
    "start_time": "2023-02-01T15:54:14.216Z"
   },
   {
    "duration": 464,
    "start_time": "2023-02-01T15:54:14.376Z"
   },
   {
    "duration": 515,
    "start_time": "2023-02-01T15:54:14.841Z"
   },
   {
    "duration": 5608,
    "start_time": "2023-02-01T15:54:15.358Z"
   },
   {
    "duration": 557,
    "start_time": "2023-02-01T15:54:20.968Z"
   },
   {
    "duration": 153,
    "start_time": "2023-02-01T15:54:21.526Z"
   },
   {
    "duration": 188,
    "start_time": "2023-02-01T15:54:21.681Z"
   },
   {
    "duration": 133,
    "start_time": "2023-02-01T15:54:21.871Z"
   },
   {
    "duration": 166,
    "start_time": "2023-02-01T15:54:22.006Z"
   },
   {
    "duration": 1449,
    "start_time": "2023-02-01T15:54:22.173Z"
   },
   {
    "duration": 1451,
    "start_time": "2023-02-01T15:54:23.624Z"
   },
   {
    "duration": 2227,
    "start_time": "2023-02-01T15:54:25.076Z"
   },
   {
    "duration": 134,
    "start_time": "2023-02-01T15:54:27.304Z"
   },
   {
    "duration": 129,
    "start_time": "2023-02-01T15:54:27.440Z"
   },
   {
    "duration": 889,
    "start_time": "2023-02-01T15:54:27.571Z"
   },
   {
    "duration": 407,
    "start_time": "2023-02-01T15:54:28.461Z"
   },
   {
    "duration": 176,
    "start_time": "2023-02-01T15:54:28.870Z"
   },
   {
    "duration": 177,
    "start_time": "2023-02-01T15:54:29.048Z"
   },
   {
    "duration": 210,
    "start_time": "2023-02-01T15:54:29.226Z"
   },
   {
    "duration": 150,
    "start_time": "2023-02-01T15:54:29.438Z"
   },
   {
    "duration": 251,
    "start_time": "2023-02-01T15:54:29.594Z"
   },
   {
    "duration": 173,
    "start_time": "2023-02-01T15:54:29.847Z"
   },
   {
    "duration": 392,
    "start_time": "2023-02-01T15:54:30.022Z"
   },
   {
    "duration": 17,
    "start_time": "2023-02-01T15:54:30.415Z"
   },
   {
    "duration": 202,
    "start_time": "2023-02-01T15:54:30.433Z"
   },
   {
    "duration": 14,
    "start_time": "2023-02-01T15:54:41.531Z"
   },
   {
    "duration": 20,
    "start_time": "2023-02-01T15:55:06.317Z"
   },
   {
    "duration": 460,
    "start_time": "2023-02-01T15:55:30.460Z"
   },
   {
    "duration": 269,
    "start_time": "2023-02-01T15:56:10.720Z"
   },
   {
    "duration": 30,
    "start_time": "2023-02-01T15:56:12.936Z"
   },
   {
    "duration": 284,
    "start_time": "2023-02-01T15:56:53.679Z"
   },
   {
    "duration": 280,
    "start_time": "2023-02-01T15:58:39.711Z"
   },
   {
    "duration": 403,
    "start_time": "2023-02-01T15:59:45.400Z"
   },
   {
    "duration": 280,
    "start_time": "2023-02-01T16:00:10.404Z"
   },
   {
    "duration": 281,
    "start_time": "2023-02-01T16:00:17.454Z"
   },
   {
    "duration": 291,
    "start_time": "2023-02-01T16:00:39.046Z"
   },
   {
    "duration": 378,
    "start_time": "2023-02-01T16:00:57.900Z"
   },
   {
    "duration": 286,
    "start_time": "2023-02-01T16:01:00.131Z"
   },
   {
    "duration": 277,
    "start_time": "2023-02-01T16:01:20.008Z"
   },
   {
    "duration": 14,
    "start_time": "2023-02-01T16:01:29.801Z"
   },
   {
    "duration": 271,
    "start_time": "2023-02-01T16:01:39.208Z"
   },
   {
    "duration": 18,
    "start_time": "2023-02-01T16:01:43.107Z"
   },
   {
    "duration": 21,
    "start_time": "2023-02-01T16:01:48.100Z"
   },
   {
    "duration": 393,
    "start_time": "2023-02-01T16:02:23.208Z"
   },
   {
    "duration": 22,
    "start_time": "2023-02-01T16:02:25.239Z"
   },
   {
    "duration": 20,
    "start_time": "2023-02-01T16:02:37.506Z"
   },
   {
    "duration": 429,
    "start_time": "2023-02-01T16:02:55.803Z"
   },
   {
    "duration": 90,
    "start_time": "2023-02-01T16:02:56.234Z"
   },
   {
    "duration": 14,
    "start_time": "2023-02-01T16:02:56.326Z"
   },
   {
    "duration": 27,
    "start_time": "2023-02-01T16:02:56.342Z"
   },
   {
    "duration": 2166,
    "start_time": "2023-02-01T16:02:56.370Z"
   },
   {
    "duration": 9,
    "start_time": "2023-02-01T16:02:58.538Z"
   },
   {
    "duration": 4,
    "start_time": "2023-02-01T16:02:58.549Z"
   },
   {
    "duration": 248,
    "start_time": "2023-02-01T16:02:58.555Z"
   },
   {
    "duration": 55,
    "start_time": "2023-02-01T16:02:58.805Z"
   },
   {
    "duration": 43,
    "start_time": "2023-02-01T16:02:58.862Z"
   },
   {
    "duration": 130,
    "start_time": "2023-02-01T16:02:58.906Z"
   },
   {
    "duration": 7,
    "start_time": "2023-02-01T16:02:59.037Z"
   },
   {
    "duration": 14,
    "start_time": "2023-02-01T16:02:59.046Z"
   },
   {
    "duration": 31,
    "start_time": "2023-02-01T16:02:59.062Z"
   },
   {
    "duration": 17,
    "start_time": "2023-02-01T16:02:59.094Z"
   },
   {
    "duration": 40,
    "start_time": "2023-02-01T16:02:59.113Z"
   },
   {
    "duration": 36,
    "start_time": "2023-02-01T16:02:59.155Z"
   },
   {
    "duration": 56,
    "start_time": "2023-02-01T16:02:59.198Z"
   },
   {
    "duration": 54,
    "start_time": "2023-02-01T16:02:59.256Z"
   },
   {
    "duration": 180,
    "start_time": "2023-02-01T16:02:59.311Z"
   },
   {
    "duration": 8,
    "start_time": "2023-02-01T16:02:59.494Z"
   },
   {
    "duration": 294,
    "start_time": "2023-02-01T16:02:59.504Z"
   },
   {
    "duration": 377,
    "start_time": "2023-02-01T16:02:59.804Z"
   },
   {
    "duration": 137,
    "start_time": "2023-02-01T16:03:00.185Z"
   },
   {
    "duration": 144,
    "start_time": "2023-02-01T16:03:00.324Z"
   },
   {
    "duration": 29,
    "start_time": "2023-02-01T16:03:00.469Z"
   },
   {
    "duration": 282,
    "start_time": "2023-02-01T16:03:00.502Z"
   },
   {
    "duration": 29,
    "start_time": "2023-02-01T16:03:00.788Z"
   },
   {
    "duration": 184,
    "start_time": "2023-02-01T16:03:00.819Z"
   },
   {
    "duration": 456,
    "start_time": "2023-02-01T16:03:01.004Z"
   },
   {
    "duration": 521,
    "start_time": "2023-02-01T16:03:01.462Z"
   },
   {
    "duration": 6412,
    "start_time": "2023-02-01T16:03:01.985Z"
   },
   {
    "duration": 610,
    "start_time": "2023-02-01T16:03:08.400Z"
   },
   {
    "duration": 162,
    "start_time": "2023-02-01T16:03:09.011Z"
   },
   {
    "duration": 192,
    "start_time": "2023-02-01T16:03:09.174Z"
   },
   {
    "duration": 142,
    "start_time": "2023-02-01T16:03:09.367Z"
   },
   {
    "duration": 193,
    "start_time": "2023-02-01T16:03:09.511Z"
   },
   {
    "duration": 1404,
    "start_time": "2023-02-01T16:03:09.706Z"
   },
   {
    "duration": 1447,
    "start_time": "2023-02-01T16:03:11.112Z"
   },
   {
    "duration": 2159,
    "start_time": "2023-02-01T16:03:12.560Z"
   },
   {
    "duration": 147,
    "start_time": "2023-02-01T16:03:14.722Z"
   },
   {
    "duration": 140,
    "start_time": "2023-02-01T16:03:14.871Z"
   },
   {
    "duration": 920,
    "start_time": "2023-02-01T16:03:15.013Z"
   },
   {
    "duration": 448,
    "start_time": "2023-02-01T16:03:15.935Z"
   },
   {
    "duration": 175,
    "start_time": "2023-02-01T16:03:16.386Z"
   },
   {
    "duration": 173,
    "start_time": "2023-02-01T16:03:16.562Z"
   },
   {
    "duration": 216,
    "start_time": "2023-02-01T16:03:16.737Z"
   },
   {
    "duration": 147,
    "start_time": "2023-02-01T16:03:16.954Z"
   },
   {
    "duration": 226,
    "start_time": "2023-02-01T16:03:17.104Z"
   },
   {
    "duration": 172,
    "start_time": "2023-02-01T16:03:17.331Z"
   },
   {
    "duration": 367,
    "start_time": "2023-02-01T16:03:17.504Z"
   },
   {
    "duration": 29,
    "start_time": "2023-02-01T16:03:17.872Z"
   },
   {
    "duration": 195,
    "start_time": "2023-02-01T16:03:17.902Z"
   },
   {
    "duration": 14,
    "start_time": "2023-02-01T16:03:18.105Z"
   },
   {
    "duration": 20,
    "start_time": "2023-02-01T16:03:27.140Z"
   },
   {
    "duration": 368,
    "start_time": "2023-02-01T16:03:40.810Z"
   },
   {
    "duration": 14,
    "start_time": "2023-02-01T16:03:55.333Z"
   },
   {
    "duration": 357,
    "start_time": "2023-02-01T16:04:53.527Z"
   },
   {
    "duration": 18,
    "start_time": "2023-02-01T16:04:55.203Z"
   },
   {
    "duration": 447,
    "start_time": "2023-02-01T16:05:08.659Z"
   },
   {
    "duration": 17,
    "start_time": "2023-02-01T16:05:13.025Z"
   },
   {
    "duration": 332,
    "start_time": "2023-02-01T16:05:40.040Z"
   },
   {
    "duration": 21,
    "start_time": "2023-02-01T16:05:56.516Z"
   },
   {
    "duration": 114,
    "start_time": "2023-02-01T16:06:35.995Z"
   },
   {
    "duration": 223,
    "start_time": "2023-02-01T16:07:17.508Z"
   },
   {
    "duration": 206,
    "start_time": "2023-02-01T16:08:22.339Z"
   },
   {
    "duration": 837,
    "start_time": "2023-02-01T16:08:54.610Z"
   },
   {
    "duration": 1554,
    "start_time": "2023-02-01T16:09:21.911Z"
   },
   {
    "duration": 1533,
    "start_time": "2023-02-01T16:09:38.571Z"
   },
   {
    "duration": 264,
    "start_time": "2023-02-01T16:09:53.809Z"
   },
   {
    "duration": 219,
    "start_time": "2023-02-01T16:09:59.207Z"
   },
   {
    "duration": 5779,
    "start_time": "2023-02-01T16:10:41.238Z"
   },
   {
    "duration": 5,
    "start_time": "2023-02-01T16:11:20.317Z"
   },
   {
    "duration": 176,
    "start_time": "2023-02-01T16:11:28.242Z"
   },
   {
    "duration": 170,
    "start_time": "2023-02-01T16:11:35.636Z"
   },
   {
    "duration": 464,
    "start_time": "2023-02-01T16:11:45.641Z"
   },
   {
    "duration": 404,
    "start_time": "2023-02-01T16:14:05.901Z"
   },
   {
    "duration": 93,
    "start_time": "2023-02-01T16:14:06.307Z"
   },
   {
    "duration": 15,
    "start_time": "2023-02-01T16:14:06.404Z"
   },
   {
    "duration": 29,
    "start_time": "2023-02-01T16:14:06.421Z"
   },
   {
    "duration": 2246,
    "start_time": "2023-02-01T16:14:06.452Z"
   },
   {
    "duration": 9,
    "start_time": "2023-02-01T16:14:08.699Z"
   },
   {
    "duration": 10,
    "start_time": "2023-02-01T16:14:08.709Z"
   },
   {
    "duration": 229,
    "start_time": "2023-02-01T16:14:08.720Z"
   },
   {
    "duration": 60,
    "start_time": "2023-02-01T16:14:08.951Z"
   },
   {
    "duration": 27,
    "start_time": "2023-02-01T16:14:09.014Z"
   },
   {
    "duration": 134,
    "start_time": "2023-02-01T16:14:09.043Z"
   },
   {
    "duration": 21,
    "start_time": "2023-02-01T16:14:09.179Z"
   },
   {
    "duration": 7,
    "start_time": "2023-02-01T16:14:09.204Z"
   },
   {
    "duration": 15,
    "start_time": "2023-02-01T16:14:09.212Z"
   },
   {
    "duration": 18,
    "start_time": "2023-02-01T16:14:09.228Z"
   },
   {
    "duration": 49,
    "start_time": "2023-02-01T16:14:09.248Z"
   },
   {
    "duration": 12,
    "start_time": "2023-02-01T16:14:09.302Z"
   },
   {
    "duration": 52,
    "start_time": "2023-02-01T16:14:09.315Z"
   },
   {
    "duration": 55,
    "start_time": "2023-02-01T16:14:09.369Z"
   },
   {
    "duration": 228,
    "start_time": "2023-02-01T16:14:09.425Z"
   },
   {
    "duration": 8,
    "start_time": "2023-02-01T16:14:09.655Z"
   },
   {
    "duration": 292,
    "start_time": "2023-02-01T16:14:09.664Z"
   },
   {
    "duration": 386,
    "start_time": "2023-02-01T16:14:09.957Z"
   },
   {
    "duration": 147,
    "start_time": "2023-02-01T16:14:10.345Z"
   },
   {
    "duration": 132,
    "start_time": "2023-02-01T16:14:10.493Z"
   },
   {
    "duration": 15,
    "start_time": "2023-02-01T16:14:10.627Z"
   },
   {
    "duration": 381,
    "start_time": "2023-02-01T16:14:10.644Z"
   },
   {
    "duration": 0,
    "start_time": "2023-02-01T16:14:11.027Z"
   },
   {
    "duration": 0,
    "start_time": "2023-02-01T16:14:11.028Z"
   },
   {
    "duration": 0,
    "start_time": "2023-02-01T16:14:11.030Z"
   },
   {
    "duration": 0,
    "start_time": "2023-02-01T16:14:11.031Z"
   },
   {
    "duration": 0,
    "start_time": "2023-02-01T16:14:11.033Z"
   },
   {
    "duration": 0,
    "start_time": "2023-02-01T16:14:11.034Z"
   },
   {
    "duration": 0,
    "start_time": "2023-02-01T16:14:11.036Z"
   },
   {
    "duration": 0,
    "start_time": "2023-02-01T16:14:11.037Z"
   },
   {
    "duration": 0,
    "start_time": "2023-02-01T16:14:11.039Z"
   },
   {
    "duration": 0,
    "start_time": "2023-02-01T16:14:11.040Z"
   },
   {
    "duration": 0,
    "start_time": "2023-02-01T16:14:11.041Z"
   },
   {
    "duration": 0,
    "start_time": "2023-02-01T16:14:11.042Z"
   },
   {
    "duration": 0,
    "start_time": "2023-02-01T16:14:11.044Z"
   },
   {
    "duration": 0,
    "start_time": "2023-02-01T16:14:11.045Z"
   },
   {
    "duration": 0,
    "start_time": "2023-02-01T16:14:11.046Z"
   },
   {
    "duration": 0,
    "start_time": "2023-02-01T16:14:11.048Z"
   },
   {
    "duration": 0,
    "start_time": "2023-02-01T16:14:11.085Z"
   },
   {
    "duration": 0,
    "start_time": "2023-02-01T16:14:11.086Z"
   },
   {
    "duration": 0,
    "start_time": "2023-02-01T16:14:11.087Z"
   },
   {
    "duration": 0,
    "start_time": "2023-02-01T16:14:11.088Z"
   },
   {
    "duration": 0,
    "start_time": "2023-02-01T16:14:11.089Z"
   },
   {
    "duration": 0,
    "start_time": "2023-02-01T16:14:11.089Z"
   },
   {
    "duration": 0,
    "start_time": "2023-02-01T16:14:11.091Z"
   },
   {
    "duration": 0,
    "start_time": "2023-02-01T16:14:11.095Z"
   },
   {
    "duration": 0,
    "start_time": "2023-02-01T16:14:11.096Z"
   },
   {
    "duration": 5364,
    "start_time": "2023-02-01T16:14:32.403Z"
   },
   {
    "duration": 148,
    "start_time": "2023-02-01T16:14:44.709Z"
   },
   {
    "duration": 213,
    "start_time": "2023-02-01T16:14:44.859Z"
   },
   {
    "duration": 221,
    "start_time": "2023-02-01T16:14:45.073Z"
   },
   {
    "duration": 137,
    "start_time": "2023-02-01T16:14:45.296Z"
   },
   {
    "duration": 229,
    "start_time": "2023-02-01T16:14:45.436Z"
   },
   {
    "duration": 535,
    "start_time": "2023-02-01T16:14:45.668Z"
   },
   {
    "duration": 410,
    "start_time": "2023-02-02T09:15:38.205Z"
   },
   {
    "duration": 150,
    "start_time": "2023-02-02T09:15:38.617Z"
   },
   {
    "duration": 15,
    "start_time": "2023-02-02T09:15:38.769Z"
   },
   {
    "duration": 58,
    "start_time": "2023-02-02T09:15:38.786Z"
   },
   {
    "duration": 2599,
    "start_time": "2023-02-02T09:15:38.846Z"
   },
   {
    "duration": 10,
    "start_time": "2023-02-02T09:15:41.447Z"
   },
   {
    "duration": 41,
    "start_time": "2023-02-02T09:15:41.458Z"
   },
   {
    "duration": 294,
    "start_time": "2023-02-02T09:15:41.501Z"
   },
   {
    "duration": 57,
    "start_time": "2023-02-02T09:15:41.798Z"
   },
   {
    "duration": 29,
    "start_time": "2023-02-02T09:15:41.858Z"
   },
   {
    "duration": 145,
    "start_time": "2023-02-02T09:15:41.888Z"
   },
   {
    "duration": 11,
    "start_time": "2023-02-02T09:15:42.034Z"
   },
   {
    "duration": 43,
    "start_time": "2023-02-02T09:15:42.046Z"
   },
   {
    "duration": 52,
    "start_time": "2023-02-02T09:15:42.091Z"
   },
   {
    "duration": 33,
    "start_time": "2023-02-02T09:15:42.145Z"
   },
   {
    "duration": 58,
    "start_time": "2023-02-02T09:15:42.179Z"
   },
   {
    "duration": 36,
    "start_time": "2023-02-02T09:15:42.238Z"
   },
   {
    "duration": 88,
    "start_time": "2023-02-02T09:15:42.276Z"
   },
   {
    "duration": 51,
    "start_time": "2023-02-02T09:15:42.366Z"
   },
   {
    "duration": 180,
    "start_time": "2023-02-02T09:15:42.419Z"
   },
   {
    "duration": 8,
    "start_time": "2023-02-02T09:15:42.601Z"
   },
   {
    "duration": 338,
    "start_time": "2023-02-02T09:15:42.610Z"
   },
   {
    "duration": 404,
    "start_time": "2023-02-02T09:15:42.950Z"
   },
   {
    "duration": 210,
    "start_time": "2023-02-02T09:15:43.356Z"
   },
   {
    "duration": 177,
    "start_time": "2023-02-02T09:15:43.568Z"
   },
   {
    "duration": 19,
    "start_time": "2023-02-02T09:15:43.747Z"
   },
   {
    "duration": 497,
    "start_time": "2023-02-02T09:15:43.768Z"
   },
   {
    "duration": 0,
    "start_time": "2023-02-02T09:15:44.269Z"
   },
   {
    "duration": 0,
    "start_time": "2023-02-02T09:15:44.271Z"
   },
   {
    "duration": 0,
    "start_time": "2023-02-02T09:15:44.276Z"
   },
   {
    "duration": 0,
    "start_time": "2023-02-02T09:15:44.277Z"
   },
   {
    "duration": 0,
    "start_time": "2023-02-02T09:15:44.277Z"
   },
   {
    "duration": 0,
    "start_time": "2023-02-02T09:15:44.278Z"
   },
   {
    "duration": 0,
    "start_time": "2023-02-02T09:15:44.278Z"
   },
   {
    "duration": 0,
    "start_time": "2023-02-02T09:15:44.279Z"
   },
   {
    "duration": 0,
    "start_time": "2023-02-02T09:15:44.282Z"
   },
   {
    "duration": 0,
    "start_time": "2023-02-02T09:15:44.284Z"
   },
   {
    "duration": 0,
    "start_time": "2023-02-02T09:15:44.305Z"
   },
   {
    "duration": 0,
    "start_time": "2023-02-02T09:15:44.306Z"
   },
   {
    "duration": 0,
    "start_time": "2023-02-02T09:15:44.307Z"
   },
   {
    "duration": 0,
    "start_time": "2023-02-02T09:15:44.310Z"
   },
   {
    "duration": 0,
    "start_time": "2023-02-02T09:15:44.311Z"
   },
   {
    "duration": 0,
    "start_time": "2023-02-02T09:15:44.312Z"
   },
   {
    "duration": 0,
    "start_time": "2023-02-02T09:15:44.314Z"
   },
   {
    "duration": 0,
    "start_time": "2023-02-02T09:15:44.316Z"
   },
   {
    "duration": 0,
    "start_time": "2023-02-02T09:15:44.317Z"
   },
   {
    "duration": 0,
    "start_time": "2023-02-02T09:15:44.318Z"
   },
   {
    "duration": 0,
    "start_time": "2023-02-02T09:15:44.321Z"
   },
   {
    "duration": 0,
    "start_time": "2023-02-02T09:15:44.322Z"
   },
   {
    "duration": 0,
    "start_time": "2023-02-02T09:15:44.324Z"
   },
   {
    "duration": 0,
    "start_time": "2023-02-02T09:15:44.326Z"
   },
   {
    "duration": 0,
    "start_time": "2023-02-02T09:15:44.327Z"
   },
   {
    "duration": 33,
    "start_time": "2023-02-02T09:25:14.383Z"
   },
   {
    "duration": 48,
    "start_time": "2023-02-02T09:25:30.052Z"
   },
   {
    "duration": 15,
    "start_time": "2023-02-02T09:26:21.056Z"
   },
   {
    "duration": 21,
    "start_time": "2023-02-02T09:27:35.976Z"
   },
   {
    "duration": 19,
    "start_time": "2023-02-02T09:27:46.923Z"
   },
   {
    "duration": 43,
    "start_time": "2023-02-02T09:27:57.313Z"
   },
   {
    "duration": 28,
    "start_time": "2023-02-02T09:28:07.387Z"
   },
   {
    "duration": 44,
    "start_time": "2023-02-02T09:28:11.527Z"
   },
   {
    "duration": 45,
    "start_time": "2023-02-02T09:28:15.736Z"
   },
   {
    "duration": 26,
    "start_time": "2023-02-02T09:28:21.635Z"
   },
   {
    "duration": 14,
    "start_time": "2023-02-02T09:28:36.009Z"
   },
   {
    "duration": 43,
    "start_time": "2023-02-02T09:29:44.242Z"
   },
   {
    "duration": 57,
    "start_time": "2023-02-02T09:30:01.441Z"
   },
   {
    "duration": 47,
    "start_time": "2023-02-02T09:30:25.053Z"
   },
   {
    "duration": 78,
    "start_time": "2023-02-02T09:30:39.066Z"
   },
   {
    "duration": 23,
    "start_time": "2023-02-02T09:31:04.375Z"
   },
   {
    "duration": 57,
    "start_time": "2023-02-02T09:32:10.291Z"
   },
   {
    "duration": 16,
    "start_time": "2023-02-02T09:32:18.570Z"
   },
   {
    "duration": 47,
    "start_time": "2023-02-02T09:32:29.306Z"
   },
   {
    "duration": 86,
    "start_time": "2023-02-02T09:32:39.609Z"
   },
   {
    "duration": 79,
    "start_time": "2023-02-02T09:32:51.596Z"
   },
   {
    "duration": 16,
    "start_time": "2023-02-02T09:33:31.170Z"
   },
   {
    "duration": 58,
    "start_time": "2023-02-02T09:33:54.717Z"
   },
   {
    "duration": 50,
    "start_time": "2023-02-02T09:34:04.687Z"
   },
   {
    "duration": 94,
    "start_time": "2023-02-02T09:34:20.964Z"
   },
   {
    "duration": 15,
    "start_time": "2023-02-02T09:34:41.663Z"
   },
   {
    "duration": 44,
    "start_time": "2023-02-02T09:35:13.777Z"
   },
   {
    "duration": 93,
    "start_time": "2023-02-02T09:35:30.656Z"
   },
   {
    "duration": 16,
    "start_time": "2023-02-02T09:35:47.265Z"
   },
   {
    "duration": 43,
    "start_time": "2023-02-02T09:37:02.397Z"
   },
   {
    "duration": 107,
    "start_time": "2023-02-02T09:37:15.396Z"
   },
   {
    "duration": 75,
    "start_time": "2023-02-02T09:37:26.182Z"
   },
   {
    "duration": 61,
    "start_time": "2023-02-02T09:37:29.300Z"
   },
   {
    "duration": 284,
    "start_time": "2023-02-02T09:38:41.579Z"
   },
   {
    "duration": 402,
    "start_time": "2023-02-02T09:40:06.914Z"
   },
   {
    "duration": 286,
    "start_time": "2023-02-02T09:42:39.744Z"
   },
   {
    "duration": 284,
    "start_time": "2023-02-02T09:43:03.212Z"
   },
   {
    "duration": 290,
    "start_time": "2023-02-02T09:44:25.386Z"
   },
   {
    "duration": 365,
    "start_time": "2023-02-02T09:44:31.638Z"
   },
   {
    "duration": 301,
    "start_time": "2023-02-02T09:44:45.650Z"
   },
   {
    "duration": 306,
    "start_time": "2023-02-02T09:47:31.034Z"
   },
   {
    "duration": 278,
    "start_time": "2023-02-02T09:47:36.342Z"
   },
   {
    "duration": 369,
    "start_time": "2023-02-02T09:48:12.092Z"
   },
   {
    "duration": 275,
    "start_time": "2023-02-02T09:48:21.737Z"
   },
   {
    "duration": 287,
    "start_time": "2023-02-02T09:48:28.430Z"
   },
   {
    "duration": 1254,
    "start_time": "2023-02-02T09:49:23.239Z"
   },
   {
    "duration": 864,
    "start_time": "2023-02-02T09:49:56.091Z"
   },
   {
    "duration": 901,
    "start_time": "2023-02-02T09:50:11.485Z"
   },
   {
    "duration": 863,
    "start_time": "2023-02-02T09:50:18.708Z"
   },
   {
    "duration": 887,
    "start_time": "2023-02-02T09:50:29.082Z"
   },
   {
    "duration": 847,
    "start_time": "2023-02-02T09:50:32.642Z"
   },
   {
    "duration": 383,
    "start_time": "2023-02-02T09:51:09.648Z"
   },
   {
    "duration": 95,
    "start_time": "2023-02-02T09:51:10.033Z"
   },
   {
    "duration": 15,
    "start_time": "2023-02-02T09:51:10.130Z"
   },
   {
    "duration": 34,
    "start_time": "2023-02-02T09:51:10.147Z"
   },
   {
    "duration": 2250,
    "start_time": "2023-02-02T09:51:10.183Z"
   },
   {
    "duration": 9,
    "start_time": "2023-02-02T09:51:12.435Z"
   },
   {
    "duration": 12,
    "start_time": "2023-02-02T09:51:12.446Z"
   },
   {
    "duration": 253,
    "start_time": "2023-02-02T09:51:12.460Z"
   },
   {
    "duration": 59,
    "start_time": "2023-02-02T09:51:12.715Z"
   },
   {
    "duration": 46,
    "start_time": "2023-02-02T09:51:12.778Z"
   },
   {
    "duration": 150,
    "start_time": "2023-02-02T09:51:12.826Z"
   },
   {
    "duration": 8,
    "start_time": "2023-02-02T09:51:12.978Z"
   },
   {
    "duration": 17,
    "start_time": "2023-02-02T09:51:12.987Z"
   },
   {
    "duration": 18,
    "start_time": "2023-02-02T09:51:13.006Z"
   },
   {
    "duration": 16,
    "start_time": "2023-02-02T09:51:13.026Z"
   },
   {
    "duration": 79,
    "start_time": "2023-02-02T09:51:13.043Z"
   },
   {
    "duration": 13,
    "start_time": "2023-02-02T09:51:13.124Z"
   },
   {
    "duration": 71,
    "start_time": "2023-02-02T09:51:13.139Z"
   },
   {
    "duration": 46,
    "start_time": "2023-02-02T09:51:13.212Z"
   },
   {
    "duration": 147,
    "start_time": "2023-02-02T09:51:13.260Z"
   },
   {
    "duration": 9,
    "start_time": "2023-02-02T09:51:13.409Z"
   },
   {
    "duration": 357,
    "start_time": "2023-02-02T09:51:13.420Z"
   },
   {
    "duration": 459,
    "start_time": "2023-02-02T09:51:13.779Z"
   },
   {
    "duration": 181,
    "start_time": "2023-02-02T09:51:14.240Z"
   },
   {
    "duration": 149,
    "start_time": "2023-02-02T09:51:14.423Z"
   },
   {
    "duration": 15,
    "start_time": "2023-02-02T09:51:14.574Z"
   },
   {
    "duration": 1469,
    "start_time": "2023-02-02T09:51:14.603Z"
   },
   {
    "duration": 0,
    "start_time": "2023-02-02T09:51:16.075Z"
   },
   {
    "duration": 0,
    "start_time": "2023-02-02T09:51:16.076Z"
   },
   {
    "duration": 0,
    "start_time": "2023-02-02T09:51:16.077Z"
   },
   {
    "duration": 0,
    "start_time": "2023-02-02T09:51:16.078Z"
   },
   {
    "duration": 0,
    "start_time": "2023-02-02T09:51:16.079Z"
   },
   {
    "duration": 0,
    "start_time": "2023-02-02T09:51:16.080Z"
   },
   {
    "duration": 0,
    "start_time": "2023-02-02T09:51:16.080Z"
   },
   {
    "duration": 0,
    "start_time": "2023-02-02T09:51:16.082Z"
   },
   {
    "duration": 0,
    "start_time": "2023-02-02T09:51:16.082Z"
   },
   {
    "duration": 0,
    "start_time": "2023-02-02T09:51:16.084Z"
   },
   {
    "duration": 0,
    "start_time": "2023-02-02T09:51:16.085Z"
   },
   {
    "duration": 0,
    "start_time": "2023-02-02T09:51:16.087Z"
   },
   {
    "duration": 0,
    "start_time": "2023-02-02T09:51:16.088Z"
   },
   {
    "duration": 0,
    "start_time": "2023-02-02T09:51:16.089Z"
   },
   {
    "duration": 0,
    "start_time": "2023-02-02T09:51:16.090Z"
   },
   {
    "duration": 0,
    "start_time": "2023-02-02T09:51:16.092Z"
   },
   {
    "duration": 0,
    "start_time": "2023-02-02T09:51:16.092Z"
   },
   {
    "duration": 0,
    "start_time": "2023-02-02T09:51:16.094Z"
   },
   {
    "duration": 0,
    "start_time": "2023-02-02T09:51:16.095Z"
   },
   {
    "duration": 0,
    "start_time": "2023-02-02T09:51:16.096Z"
   },
   {
    "duration": 0,
    "start_time": "2023-02-02T09:51:16.097Z"
   },
   {
    "duration": 0,
    "start_time": "2023-02-02T09:51:16.098Z"
   },
   {
    "duration": 0,
    "start_time": "2023-02-02T09:51:16.099Z"
   },
   {
    "duration": 0,
    "start_time": "2023-02-02T09:51:16.100Z"
   },
   {
    "duration": 0,
    "start_time": "2023-02-02T09:51:16.101Z"
   },
   {
    "duration": 295,
    "start_time": "2023-02-02T09:54:21.850Z"
   },
   {
    "duration": 374,
    "start_time": "2023-02-02T09:56:01.856Z"
   },
   {
    "duration": 272,
    "start_time": "2023-02-02T09:56:40.991Z"
   },
   {
    "duration": 291,
    "start_time": "2023-02-02T09:57:08.781Z"
   },
   {
    "duration": 284,
    "start_time": "2023-02-02T10:00:38.136Z"
   },
   {
    "duration": 359,
    "start_time": "2023-02-02T10:01:24.673Z"
   },
   {
    "duration": 423,
    "start_time": "2023-02-02T11:33:30.373Z"
   },
   {
    "duration": 94,
    "start_time": "2023-02-02T11:33:30.798Z"
   },
   {
    "duration": 21,
    "start_time": "2023-02-02T11:33:30.894Z"
   },
   {
    "duration": 61,
    "start_time": "2023-02-02T11:33:30.918Z"
   },
   {
    "duration": 2585,
    "start_time": "2023-02-02T11:33:30.980Z"
   },
   {
    "duration": 9,
    "start_time": "2023-02-02T11:33:33.566Z"
   },
   {
    "duration": 9,
    "start_time": "2023-02-02T11:33:33.577Z"
   },
   {
    "duration": 254,
    "start_time": "2023-02-02T11:33:33.588Z"
   },
   {
    "duration": 65,
    "start_time": "2023-02-02T11:33:33.844Z"
   },
   {
    "duration": 29,
    "start_time": "2023-02-02T11:33:33.913Z"
   },
   {
    "duration": 173,
    "start_time": "2023-02-02T11:33:33.945Z"
   },
   {
    "duration": 10,
    "start_time": "2023-02-02T11:33:34.120Z"
   },
   {
    "duration": 17,
    "start_time": "2023-02-02T11:33:34.132Z"
   },
   {
    "duration": 28,
    "start_time": "2023-02-02T11:33:34.152Z"
   },
   {
    "duration": 36,
    "start_time": "2023-02-02T11:33:34.182Z"
   },
   {
    "duration": 92,
    "start_time": "2023-02-02T11:33:34.220Z"
   },
   {
    "duration": 18,
    "start_time": "2023-02-02T11:33:34.317Z"
   },
   {
    "duration": 59,
    "start_time": "2023-02-02T11:33:34.337Z"
   },
   {
    "duration": 53,
    "start_time": "2023-02-02T11:33:34.405Z"
   },
   {
    "duration": 163,
    "start_time": "2023-02-02T11:33:34.459Z"
   },
   {
    "duration": 8,
    "start_time": "2023-02-02T11:33:34.625Z"
   },
   {
    "duration": 319,
    "start_time": "2023-02-02T11:33:34.635Z"
   },
   {
    "duration": 430,
    "start_time": "2023-02-02T11:33:34.956Z"
   },
   {
    "duration": 153,
    "start_time": "2023-02-02T11:33:35.388Z"
   },
   {
    "duration": 160,
    "start_time": "2023-02-02T11:33:35.543Z"
   },
   {
    "duration": 24,
    "start_time": "2023-02-02T11:33:35.706Z"
   },
   {
    "duration": 296,
    "start_time": "2023-02-02T11:33:35.732Z"
   },
   {
    "duration": 174,
    "start_time": "2023-02-02T11:33:36.032Z"
   },
   {
    "duration": 538,
    "start_time": "2023-02-02T11:33:36.211Z"
   },
   {
    "duration": 544,
    "start_time": "2023-02-02T11:33:36.751Z"
   },
   {
    "duration": 5563,
    "start_time": "2023-02-02T11:33:37.296Z"
   },
   {
    "duration": 421,
    "start_time": "2023-02-02T11:33:42.861Z"
   },
   {
    "duration": 233,
    "start_time": "2023-02-02T11:33:43.284Z"
   },
   {
    "duration": 235,
    "start_time": "2023-02-02T11:33:43.519Z"
   },
   {
    "duration": 142,
    "start_time": "2023-02-02T11:33:43.756Z"
   },
   {
    "duration": 248,
    "start_time": "2023-02-02T11:33:43.900Z"
   },
   {
    "duration": 321,
    "start_time": "2023-02-02T11:33:44.150Z"
   },
   {
    "duration": 1442,
    "start_time": "2023-02-02T11:33:44.472Z"
   },
   {
    "duration": 2886,
    "start_time": "2023-02-02T11:33:45.917Z"
   },
   {
    "duration": 171,
    "start_time": "2023-02-02T11:33:48.806Z"
   },
   {
    "duration": 159,
    "start_time": "2023-02-02T11:33:48.979Z"
   },
   {
    "duration": 867,
    "start_time": "2023-02-02T11:33:49.140Z"
   },
   {
    "duration": 211,
    "start_time": "2023-02-02T11:33:50.010Z"
   },
   {
    "duration": 192,
    "start_time": "2023-02-02T11:33:50.223Z"
   },
   {
    "duration": 194,
    "start_time": "2023-02-02T11:33:50.418Z"
   },
   {
    "duration": 237,
    "start_time": "2023-02-02T11:33:50.615Z"
   },
   {
    "duration": 156,
    "start_time": "2023-02-02T11:33:50.854Z"
   },
   {
    "duration": 252,
    "start_time": "2023-02-02T11:33:51.012Z"
   },
   {
    "duration": 182,
    "start_time": "2023-02-02T11:33:51.265Z"
   },
   {
    "duration": 407,
    "start_time": "2023-02-02T11:33:51.449Z"
   },
   {
    "duration": 17,
    "start_time": "2023-02-02T11:33:51.858Z"
   },
   {
    "duration": 226,
    "start_time": "2023-02-02T11:33:51.877Z"
   },
   {
    "duration": 144,
    "start_time": "2023-02-02T12:13:05.993Z"
   },
   {
    "duration": 348,
    "start_time": "2023-02-02T12:13:40.560Z"
   },
   {
    "duration": 1063,
    "start_time": "2023-02-02T12:15:14.221Z"
   },
   {
    "duration": 553,
    "start_time": "2023-02-02T12:15:40.318Z"
   },
   {
    "duration": 554,
    "start_time": "2023-02-02T12:15:47.529Z"
   },
   {
    "duration": 349,
    "start_time": "2023-02-02T12:16:18.321Z"
   },
   {
    "duration": 701,
    "start_time": "2023-02-02T12:16:37.797Z"
   },
   {
    "duration": 251,
    "start_time": "2023-02-02T12:16:58.195Z"
   },
   {
    "duration": 230,
    "start_time": "2023-02-02T12:17:17.191Z"
   },
   {
    "duration": 5872,
    "start_time": "2023-02-02T12:18:09.826Z"
   },
   {
    "duration": 6298,
    "start_time": "2023-02-02T12:18:32.639Z"
   },
   {
    "duration": 438,
    "start_time": "2023-02-02T14:36:32.272Z"
   },
   {
    "duration": 100,
    "start_time": "2023-02-02T14:36:32.712Z"
   },
   {
    "duration": 17,
    "start_time": "2023-02-02T14:36:32.814Z"
   },
   {
    "duration": 44,
    "start_time": "2023-02-02T14:36:32.833Z"
   },
   {
    "duration": 2342,
    "start_time": "2023-02-02T14:36:32.879Z"
   },
   {
    "duration": 15,
    "start_time": "2023-02-02T14:36:35.223Z"
   },
   {
    "duration": 22,
    "start_time": "2023-02-02T14:36:35.240Z"
   },
   {
    "duration": 268,
    "start_time": "2023-02-02T14:36:35.264Z"
   },
   {
    "duration": 73,
    "start_time": "2023-02-02T14:36:35.534Z"
   },
   {
    "duration": 32,
    "start_time": "2023-02-02T14:36:35.609Z"
   },
   {
    "duration": 145,
    "start_time": "2023-02-02T14:36:35.642Z"
   },
   {
    "duration": 15,
    "start_time": "2023-02-02T14:36:35.789Z"
   },
   {
    "duration": 16,
    "start_time": "2023-02-02T14:36:35.806Z"
   },
   {
    "duration": 53,
    "start_time": "2023-02-02T14:36:35.824Z"
   },
   {
    "duration": 20,
    "start_time": "2023-02-02T14:36:35.879Z"
   },
   {
    "duration": 64,
    "start_time": "2023-02-02T14:36:35.900Z"
   },
   {
    "duration": 14,
    "start_time": "2023-02-02T14:36:35.965Z"
   },
   {
    "duration": 73,
    "start_time": "2023-02-02T14:36:35.980Z"
   },
   {
    "duration": 55,
    "start_time": "2023-02-02T14:36:36.055Z"
   },
   {
    "duration": 213,
    "start_time": "2023-02-02T14:36:36.112Z"
   },
   {
    "duration": 10,
    "start_time": "2023-02-02T14:36:36.327Z"
   },
   {
    "duration": 405,
    "start_time": "2023-02-02T14:36:36.338Z"
   },
   {
    "duration": 411,
    "start_time": "2023-02-02T14:36:36.745Z"
   },
   {
    "duration": 170,
    "start_time": "2023-02-02T14:36:37.158Z"
   },
   {
    "duration": 156,
    "start_time": "2023-02-02T14:36:37.330Z"
   },
   {
    "duration": 22,
    "start_time": "2023-02-02T14:36:37.488Z"
   },
   {
    "duration": 276,
    "start_time": "2023-02-02T14:36:37.512Z"
   },
   {
    "duration": 558,
    "start_time": "2023-02-02T14:36:37.792Z"
   },
   {
    "duration": 527,
    "start_time": "2023-02-02T14:36:38.353Z"
   },
   {
    "duration": 226,
    "start_time": "2023-02-02T14:36:38.882Z"
   },
   {
    "duration": 5949,
    "start_time": "2023-02-02T14:36:39.110Z"
   },
   {
    "duration": 174,
    "start_time": "2023-02-02T14:36:45.060Z"
   },
   {
    "duration": 210,
    "start_time": "2023-02-02T14:36:45.236Z"
   },
   {
    "duration": 217,
    "start_time": "2023-02-02T14:36:45.448Z"
   },
   {
    "duration": 143,
    "start_time": "2023-02-02T14:36:45.666Z"
   },
   {
    "duration": 207,
    "start_time": "2023-02-02T14:36:45.811Z"
   },
   {
    "duration": 246,
    "start_time": "2023-02-02T14:36:46.020Z"
   },
   {
    "duration": 1738,
    "start_time": "2023-02-02T14:36:46.268Z"
   },
   {
    "duration": 2253,
    "start_time": "2023-02-02T14:36:48.008Z"
   },
   {
    "duration": 535,
    "start_time": "2023-02-02T14:36:50.263Z"
   },
   {
    "duration": 143,
    "start_time": "2023-02-02T14:36:50.804Z"
   },
   {
    "duration": 784,
    "start_time": "2023-02-02T14:36:50.949Z"
   },
   {
    "duration": 213,
    "start_time": "2023-02-02T14:36:51.736Z"
   },
   {
    "duration": 175,
    "start_time": "2023-02-02T14:36:51.951Z"
   },
   {
    "duration": 175,
    "start_time": "2023-02-02T14:36:52.128Z"
   },
   {
    "duration": 221,
    "start_time": "2023-02-02T14:36:52.304Z"
   },
   {
    "duration": 162,
    "start_time": "2023-02-02T14:36:52.527Z"
   },
   {
    "duration": 239,
    "start_time": "2023-02-02T14:36:52.691Z"
   },
   {
    "duration": 194,
    "start_time": "2023-02-02T14:36:52.931Z"
   },
   {
    "duration": 400,
    "start_time": "2023-02-02T14:36:53.127Z"
   },
   {
    "duration": 17,
    "start_time": "2023-02-02T14:36:53.528Z"
   },
   {
    "duration": 200,
    "start_time": "2023-02-02T14:36:53.547Z"
   },
   {
    "duration": 50,
    "start_time": "2023-02-03T11:16:51.874Z"
   },
   {
    "duration": 395,
    "start_time": "2023-02-03T11:16:57.603Z"
   },
   {
    "duration": 366,
    "start_time": "2023-02-03T11:16:58.000Z"
   },
   {
    "duration": 17,
    "start_time": "2023-02-03T11:16:58.368Z"
   },
   {
    "duration": 28,
    "start_time": "2023-02-03T11:16:58.387Z"
   },
   {
    "duration": 2478,
    "start_time": "2023-02-03T11:16:58.417Z"
   },
   {
    "duration": 9,
    "start_time": "2023-02-03T11:17:00.897Z"
   },
   {
    "duration": 20,
    "start_time": "2023-02-03T11:17:00.907Z"
   },
   {
    "duration": 292,
    "start_time": "2023-02-03T11:17:00.928Z"
   },
   {
    "duration": 65,
    "start_time": "2023-02-03T11:17:01.222Z"
   },
   {
    "duration": 35,
    "start_time": "2023-02-03T11:17:01.288Z"
   },
   {
    "duration": 152,
    "start_time": "2023-02-03T11:17:01.325Z"
   },
   {
    "duration": 7,
    "start_time": "2023-02-03T11:17:01.480Z"
   },
   {
    "duration": 13,
    "start_time": "2023-02-03T11:17:01.488Z"
   },
   {
    "duration": 17,
    "start_time": "2023-02-03T11:17:01.504Z"
   },
   {
    "duration": 36,
    "start_time": "2023-02-03T11:17:01.522Z"
   },
   {
    "duration": 109,
    "start_time": "2023-02-03T11:17:01.567Z"
   },
   {
    "duration": 15,
    "start_time": "2023-02-03T11:17:01.678Z"
   },
   {
    "duration": 104,
    "start_time": "2023-02-03T11:17:01.695Z"
   },
   {
    "duration": 55,
    "start_time": "2023-02-03T11:17:01.801Z"
   },
   {
    "duration": 251,
    "start_time": "2023-02-03T11:17:01.859Z"
   },
   {
    "duration": 7,
    "start_time": "2023-02-03T11:17:02.112Z"
   },
   {
    "duration": 335,
    "start_time": "2023-02-03T11:17:02.120Z"
   },
   {
    "duration": 442,
    "start_time": "2023-02-03T11:17:02.458Z"
   },
   {
    "duration": 142,
    "start_time": "2023-02-03T11:17:02.902Z"
   },
   {
    "duration": 163,
    "start_time": "2023-02-03T11:17:03.048Z"
   },
   {
    "duration": 16,
    "start_time": "2023-02-03T11:17:03.213Z"
   },
   {
    "duration": 324,
    "start_time": "2023-02-03T11:17:03.231Z"
   },
   {
    "duration": 612,
    "start_time": "2023-02-03T11:17:03.558Z"
   },
   {
    "duration": 511,
    "start_time": "2023-02-03T11:17:04.172Z"
   },
   {
    "duration": 235,
    "start_time": "2023-02-03T11:17:04.684Z"
   },
   {
    "duration": 5814,
    "start_time": "2023-02-03T11:17:04.923Z"
   },
   {
    "duration": 161,
    "start_time": "2023-02-03T11:17:10.739Z"
   },
   {
    "duration": 209,
    "start_time": "2023-02-03T11:17:10.902Z"
   },
   {
    "duration": 205,
    "start_time": "2023-02-03T11:17:11.113Z"
   },
   {
    "duration": 139,
    "start_time": "2023-02-03T11:17:11.319Z"
   },
   {
    "duration": 195,
    "start_time": "2023-02-03T11:17:11.460Z"
   },
   {
    "duration": 258,
    "start_time": "2023-02-03T11:17:11.657Z"
   },
   {
    "duration": 1699,
    "start_time": "2023-02-03T11:17:11.917Z"
   },
   {
    "duration": 2579,
    "start_time": "2023-02-03T11:17:13.618Z"
   },
   {
    "duration": 497,
    "start_time": "2023-02-03T11:17:16.199Z"
   },
   {
    "duration": 142,
    "start_time": "2023-02-03T11:17:16.700Z"
   },
   {
    "duration": 801,
    "start_time": "2023-02-03T11:17:16.844Z"
   },
   {
    "duration": 217,
    "start_time": "2023-02-03T11:17:17.647Z"
   },
   {
    "duration": 187,
    "start_time": "2023-02-03T11:17:17.866Z"
   },
   {
    "duration": 175,
    "start_time": "2023-02-03T11:17:18.055Z"
   },
   {
    "duration": 246,
    "start_time": "2023-02-03T11:17:18.231Z"
   },
   {
    "duration": 144,
    "start_time": "2023-02-03T11:17:18.479Z"
   },
   {
    "duration": 260,
    "start_time": "2023-02-03T11:17:18.625Z"
   },
   {
    "duration": 173,
    "start_time": "2023-02-03T11:17:18.887Z"
   },
   {
    "duration": 436,
    "start_time": "2023-02-03T11:17:19.063Z"
   },
   {
    "duration": 18,
    "start_time": "2023-02-03T11:17:19.501Z"
   },
   {
    "duration": 214,
    "start_time": "2023-02-03T11:17:19.521Z"
   },
   {
    "duration": 190,
    "start_time": "2023-02-03T11:18:41.061Z"
   },
   {
    "duration": 61,
    "start_time": "2023-02-03T11:19:00.262Z"
   },
   {
    "duration": 203,
    "start_time": "2023-02-03T11:19:04.461Z"
   },
   {
    "duration": 140,
    "start_time": "2023-02-03T11:19:22.102Z"
   },
   {
    "duration": 142,
    "start_time": "2023-02-03T11:19:26.820Z"
   },
   {
    "duration": 149,
    "start_time": "2023-02-03T11:19:32.581Z"
   },
   {
    "duration": 147,
    "start_time": "2023-02-03T11:19:40.796Z"
   },
   {
    "duration": 159,
    "start_time": "2023-02-03T11:20:13.202Z"
   },
   {
    "duration": 178,
    "start_time": "2023-02-03T11:20:22.225Z"
   },
   {
    "duration": 547,
    "start_time": "2023-02-03T11:20:27.368Z"
   },
   {
    "duration": 229,
    "start_time": "2023-02-03T11:21:47.811Z"
   },
   {
    "duration": 216,
    "start_time": "2023-02-03T11:22:54.414Z"
   },
   {
    "duration": 1295,
    "start_time": "2023-02-03T11:23:24.704Z"
   },
   {
    "duration": 992,
    "start_time": "2023-02-03T11:26:03.458Z"
   },
   {
    "duration": 2039,
    "start_time": "2023-02-03T11:26:09.526Z"
   },
   {
    "duration": 433,
    "start_time": "2023-02-04T14:18:20.422Z"
   },
   {
    "duration": 331,
    "start_time": "2023-02-04T14:18:20.858Z"
   },
   {
    "duration": 16,
    "start_time": "2023-02-04T14:18:21.191Z"
   },
   {
    "duration": 35,
    "start_time": "2023-02-04T14:18:21.209Z"
   },
   {
    "duration": 2589,
    "start_time": "2023-02-04T14:18:21.246Z"
   },
   {
    "duration": 15,
    "start_time": "2023-02-04T14:18:23.837Z"
   },
   {
    "duration": 7,
    "start_time": "2023-02-04T14:18:23.854Z"
   },
   {
    "duration": 261,
    "start_time": "2023-02-04T14:18:23.863Z"
   },
   {
    "duration": 68,
    "start_time": "2023-02-04T14:18:24.125Z"
   },
   {
    "duration": 26,
    "start_time": "2023-02-04T14:18:24.195Z"
   },
   {
    "duration": 136,
    "start_time": "2023-02-04T14:18:24.237Z"
   },
   {
    "duration": 8,
    "start_time": "2023-02-04T14:18:24.374Z"
   },
   {
    "duration": 11,
    "start_time": "2023-02-04T14:18:24.383Z"
   },
   {
    "duration": 16,
    "start_time": "2023-02-04T14:18:24.397Z"
   },
   {
    "duration": 38,
    "start_time": "2023-02-04T14:18:24.415Z"
   },
   {
    "duration": 60,
    "start_time": "2023-02-04T14:18:24.454Z"
   },
   {
    "duration": 35,
    "start_time": "2023-02-04T14:18:24.516Z"
   },
   {
    "duration": 61,
    "start_time": "2023-02-04T14:18:24.553Z"
   },
   {
    "duration": 65,
    "start_time": "2023-02-04T14:18:24.616Z"
   },
   {
    "duration": 222,
    "start_time": "2023-02-04T14:18:24.682Z"
   },
   {
    "duration": 9,
    "start_time": "2023-02-04T14:18:24.906Z"
   },
   {
    "duration": 346,
    "start_time": "2023-02-04T14:18:24.917Z"
   },
   {
    "duration": 399,
    "start_time": "2023-02-04T14:18:25.265Z"
   },
   {
    "duration": 144,
    "start_time": "2023-02-04T14:18:25.665Z"
   },
   {
    "duration": 163,
    "start_time": "2023-02-04T14:18:25.811Z"
   },
   {
    "duration": 16,
    "start_time": "2023-02-04T14:18:25.976Z"
   },
   {
    "duration": 315,
    "start_time": "2023-02-04T14:18:25.993Z"
   },
   {
    "duration": 592,
    "start_time": "2023-02-04T14:18:26.310Z"
   },
   {
    "duration": 535,
    "start_time": "2023-02-04T14:18:26.904Z"
   },
   {
    "duration": 239,
    "start_time": "2023-02-04T14:18:27.442Z"
   },
   {
    "duration": 5990,
    "start_time": "2023-02-04T14:18:27.683Z"
   },
   {
    "duration": 163,
    "start_time": "2023-02-04T14:18:33.675Z"
   },
   {
    "duration": 177,
    "start_time": "2023-02-04T14:18:33.840Z"
   },
   {
    "duration": 232,
    "start_time": "2023-02-04T14:18:34.019Z"
   },
   {
    "duration": 140,
    "start_time": "2023-02-04T14:18:34.253Z"
   },
   {
    "duration": 227,
    "start_time": "2023-02-04T14:18:34.395Z"
   },
   {
    "duration": 281,
    "start_time": "2023-02-04T14:18:34.624Z"
   },
   {
    "duration": 1771,
    "start_time": "2023-02-04T14:18:34.907Z"
   },
   {
    "duration": 2542,
    "start_time": "2023-02-04T14:18:36.679Z"
   },
   {
    "duration": 487,
    "start_time": "2023-02-04T14:18:39.223Z"
   },
   {
    "duration": 157,
    "start_time": "2023-02-04T14:18:39.715Z"
   },
   {
    "duration": 2165,
    "start_time": "2023-02-04T14:18:39.874Z"
   },
   {
    "duration": 622,
    "start_time": "2023-02-04T14:18:42.041Z"
   },
   {
    "duration": 215,
    "start_time": "2023-02-04T14:18:42.665Z"
   },
   {
    "duration": 190,
    "start_time": "2023-02-04T14:18:42.881Z"
   },
   {
    "duration": 266,
    "start_time": "2023-02-04T14:18:43.072Z"
   },
   {
    "duration": 200,
    "start_time": "2023-02-04T14:18:43.341Z"
   },
   {
    "duration": 281,
    "start_time": "2023-02-04T14:18:43.543Z"
   },
   {
    "duration": 219,
    "start_time": "2023-02-04T14:18:43.826Z"
   },
   {
    "duration": 449,
    "start_time": "2023-02-04T14:18:44.047Z"
   },
   {
    "duration": 19,
    "start_time": "2023-02-04T14:18:44.498Z"
   },
   {
    "duration": 213,
    "start_time": "2023-02-04T14:18:44.519Z"
   },
   {
    "duration": 72,
    "start_time": "2023-02-04T14:22:48.289Z"
   },
   {
    "duration": 450,
    "start_time": "2023-02-05T09:20:57.109Z"
   },
   {
    "duration": 153,
    "start_time": "2023-02-05T09:20:57.561Z"
   },
   {
    "duration": 18,
    "start_time": "2023-02-05T09:20:57.716Z"
   },
   {
    "duration": 31,
    "start_time": "2023-02-05T09:20:57.736Z"
   },
   {
    "duration": 2651,
    "start_time": "2023-02-05T09:20:57.770Z"
   },
   {
    "duration": 11,
    "start_time": "2023-02-05T09:21:00.423Z"
   },
   {
    "duration": 6,
    "start_time": "2023-02-05T09:21:00.436Z"
   },
   {
    "duration": 276,
    "start_time": "2023-02-05T09:21:00.444Z"
   },
   {
    "duration": 76,
    "start_time": "2023-02-05T09:21:00.723Z"
   },
   {
    "duration": 44,
    "start_time": "2023-02-05T09:21:00.801Z"
   },
   {
    "duration": 161,
    "start_time": "2023-02-05T09:21:00.847Z"
   },
   {
    "duration": 7,
    "start_time": "2023-02-05T09:21:01.010Z"
   },
   {
    "duration": 86,
    "start_time": "2023-02-05T09:21:01.019Z"
   },
   {
    "duration": 107,
    "start_time": "2023-02-05T09:21:01.109Z"
   },
   {
    "duration": 280,
    "start_time": "2023-02-05T09:21:01.217Z"
   },
   {
    "duration": 214,
    "start_time": "2023-02-05T09:21:01.499Z"
   },
   {
    "duration": 56,
    "start_time": "2023-02-05T09:21:01.715Z"
   },
   {
    "duration": 224,
    "start_time": "2023-02-05T09:21:01.773Z"
   },
   {
    "duration": 149,
    "start_time": "2023-02-05T09:21:01.999Z"
   },
   {
    "duration": 221,
    "start_time": "2023-02-05T09:21:02.150Z"
   },
   {
    "duration": 11,
    "start_time": "2023-02-05T09:21:02.373Z"
   },
   {
    "duration": 428,
    "start_time": "2023-02-05T09:21:02.386Z"
   },
   {
    "duration": 415,
    "start_time": "2023-02-05T09:21:02.817Z"
   },
   {
    "duration": 166,
    "start_time": "2023-02-05T09:21:03.234Z"
   },
   {
    "duration": 162,
    "start_time": "2023-02-05T09:21:03.401Z"
   },
   {
    "duration": 18,
    "start_time": "2023-02-05T09:21:03.565Z"
   },
   {
    "duration": 341,
    "start_time": "2023-02-05T09:21:03.584Z"
   },
   {
    "duration": 638,
    "start_time": "2023-02-05T09:21:03.926Z"
   },
   {
    "duration": 644,
    "start_time": "2023-02-05T09:21:04.566Z"
   },
   {
    "duration": 282,
    "start_time": "2023-02-05T09:21:05.212Z"
   },
   {
    "duration": 6327,
    "start_time": "2023-02-05T09:21:05.496Z"
   },
   {
    "duration": 173,
    "start_time": "2023-02-05T09:21:11.826Z"
   },
   {
    "duration": 179,
    "start_time": "2023-02-05T09:21:12.001Z"
   },
   {
    "duration": 230,
    "start_time": "2023-02-05T09:21:12.181Z"
   },
   {
    "duration": 145,
    "start_time": "2023-02-05T09:21:12.413Z"
   },
   {
    "duration": 235,
    "start_time": "2023-02-05T09:21:12.560Z"
   },
   {
    "duration": 261,
    "start_time": "2023-02-05T09:21:12.796Z"
   },
   {
    "duration": 1921,
    "start_time": "2023-02-05T09:21:13.058Z"
   },
   {
    "duration": 2532,
    "start_time": "2023-02-05T09:21:14.981Z"
   },
   {
    "duration": 537,
    "start_time": "2023-02-05T09:21:17.515Z"
   },
   {
    "duration": 154,
    "start_time": "2023-02-05T09:21:18.056Z"
   },
   {
    "duration": 2210,
    "start_time": "2023-02-05T09:21:18.212Z"
   },
   {
    "duration": 587,
    "start_time": "2023-02-05T09:21:20.425Z"
   },
   {
    "duration": 199,
    "start_time": "2023-02-05T09:21:21.014Z"
   },
   {
    "duration": 199,
    "start_time": "2023-02-05T09:21:21.215Z"
   },
   {
    "duration": 268,
    "start_time": "2023-02-05T09:21:21.417Z"
   },
   {
    "duration": 163,
    "start_time": "2023-02-05T09:21:21.687Z"
   },
   {
    "duration": 261,
    "start_time": "2023-02-05T09:21:21.852Z"
   },
   {
    "duration": 194,
    "start_time": "2023-02-05T09:21:22.115Z"
   },
   {
    "duration": 441,
    "start_time": "2023-02-05T09:21:22.312Z"
   },
   {
    "duration": 19,
    "start_time": "2023-02-05T09:21:22.755Z"
   },
   {
    "duration": 242,
    "start_time": "2023-02-05T09:21:22.777Z"
   },
   {
    "duration": 212,
    "start_time": "2023-02-05T09:28:56.277Z"
   },
   {
    "duration": 197,
    "start_time": "2023-02-05T09:29:06.318Z"
   },
   {
    "duration": 224,
    "start_time": "2023-02-05T09:29:26.503Z"
   },
   {
    "duration": 244,
    "start_time": "2023-02-05T09:29:37.133Z"
   },
   {
    "duration": 1705,
    "start_time": "2023-02-05T09:29:49.351Z"
   },
   {
    "duration": 2116,
    "start_time": "2023-02-05T09:29:57.450Z"
   },
   {
    "duration": 1474,
    "start_time": "2023-02-05T09:30:13.498Z"
   },
   {
    "duration": 216,
    "start_time": "2023-02-05T09:30:25.811Z"
   },
   {
    "duration": 224,
    "start_time": "2023-02-05T09:30:32.517Z"
   },
   {
    "duration": 199,
    "start_time": "2023-02-05T09:30:40.184Z"
   },
   {
    "duration": 197,
    "start_time": "2023-02-05T09:30:47.716Z"
   },
   {
    "duration": 120,
    "start_time": "2023-02-05T09:30:56.634Z"
   },
   {
    "duration": 148,
    "start_time": "2023-02-05T09:31:03.942Z"
   },
   {
    "duration": 137,
    "start_time": "2023-02-05T09:31:46.778Z"
   },
   {
    "duration": 126,
    "start_time": "2023-02-05T09:31:57.786Z"
   },
   {
    "duration": 16,
    "start_time": "2023-02-05T09:32:20.521Z"
   },
   {
    "duration": 180,
    "start_time": "2023-02-05T09:32:37.365Z"
   },
   {
    "duration": 165,
    "start_time": "2023-02-05T09:32:53.776Z"
   },
   {
    "duration": 23,
    "start_time": "2023-02-05T09:33:22.226Z"
   },
   {
    "duration": 9,
    "start_time": "2023-02-05T09:33:32.945Z"
   },
   {
    "duration": 9,
    "start_time": "2023-02-05T09:33:42.130Z"
   },
   {
    "duration": 468,
    "start_time": "2023-02-05T09:33:51.320Z"
   },
   {
    "duration": 101,
    "start_time": "2023-02-05T09:33:51.791Z"
   },
   {
    "duration": 16,
    "start_time": "2023-02-05T09:33:51.894Z"
   },
   {
    "duration": 45,
    "start_time": "2023-02-05T09:33:51.912Z"
   },
   {
    "duration": 2406,
    "start_time": "2023-02-05T09:33:51.959Z"
   },
   {
    "duration": 11,
    "start_time": "2023-02-05T09:33:54.366Z"
   },
   {
    "duration": 4,
    "start_time": "2023-02-05T09:33:54.379Z"
   },
   {
    "duration": 246,
    "start_time": "2023-02-05T09:33:54.384Z"
   },
   {
    "duration": 59,
    "start_time": "2023-02-05T09:33:54.631Z"
   },
   {
    "duration": 28,
    "start_time": "2023-02-05T09:33:54.692Z"
   },
   {
    "duration": 154,
    "start_time": "2023-02-05T09:33:54.741Z"
   },
   {
    "duration": 8,
    "start_time": "2023-02-05T09:33:54.897Z"
   },
   {
    "duration": 11,
    "start_time": "2023-02-05T09:33:54.906Z"
   },
   {
    "duration": 39,
    "start_time": "2023-02-05T09:33:54.921Z"
   },
   {
    "duration": 22,
    "start_time": "2023-02-05T09:33:54.962Z"
   },
   {
    "duration": 65,
    "start_time": "2023-02-05T09:33:54.985Z"
   },
   {
    "duration": 14,
    "start_time": "2023-02-05T09:33:55.052Z"
   },
   {
    "duration": 85,
    "start_time": "2023-02-05T09:33:55.067Z"
   },
   {
    "duration": 45,
    "start_time": "2023-02-05T09:33:55.154Z"
   },
   {
    "duration": 155,
    "start_time": "2023-02-05T09:33:55.201Z"
   },
   {
    "duration": 7,
    "start_time": "2023-02-05T09:33:55.358Z"
   },
   {
    "duration": 319,
    "start_time": "2023-02-05T09:33:55.367Z"
   },
   {
    "duration": 409,
    "start_time": "2023-02-05T09:33:55.687Z"
   },
   {
    "duration": 145,
    "start_time": "2023-02-05T09:33:56.098Z"
   },
   {
    "duration": 150,
    "start_time": "2023-02-05T09:33:56.245Z"
   },
   {
    "duration": 17,
    "start_time": "2023-02-05T09:33:56.397Z"
   },
   {
    "duration": 321,
    "start_time": "2023-02-05T09:33:56.415Z"
   },
   {
    "duration": 570,
    "start_time": "2023-02-05T09:33:56.740Z"
   },
   {
    "duration": 540,
    "start_time": "2023-02-05T09:33:57.312Z"
   },
   {
    "duration": 247,
    "start_time": "2023-02-05T09:33:57.854Z"
   },
   {
    "duration": 5863,
    "start_time": "2023-02-05T09:33:58.103Z"
   },
   {
    "duration": 175,
    "start_time": "2023-02-05T09:34:03.968Z"
   },
   {
    "duration": 222,
    "start_time": "2023-02-05T09:34:04.145Z"
   },
   {
    "duration": 204,
    "start_time": "2023-02-05T09:34:04.370Z"
   },
   {
    "duration": 143,
    "start_time": "2023-02-05T09:34:04.576Z"
   },
   {
    "duration": 211,
    "start_time": "2023-02-05T09:34:04.720Z"
   },
   {
    "duration": 253,
    "start_time": "2023-02-05T09:34:04.933Z"
   },
   {
    "duration": 1655,
    "start_time": "2023-02-05T09:34:05.188Z"
   },
   {
    "duration": 2815,
    "start_time": "2023-02-05T09:34:06.845Z"
   },
   {
    "duration": 158,
    "start_time": "2023-02-05T09:34:09.661Z"
   },
   {
    "duration": 144,
    "start_time": "2023-02-05T09:34:09.823Z"
   },
   {
    "duration": 783,
    "start_time": "2023-02-05T09:34:09.969Z"
   },
   {
    "duration": 228,
    "start_time": "2023-02-05T09:34:10.755Z"
   },
   {
    "duration": 236,
    "start_time": "2023-02-05T09:34:10.984Z"
   },
   {
    "duration": 215,
    "start_time": "2023-02-05T09:34:11.222Z"
   },
   {
    "duration": 221,
    "start_time": "2023-02-05T09:34:11.440Z"
   },
   {
    "duration": 128,
    "start_time": "2023-02-05T09:34:11.663Z"
   },
   {
    "duration": 153,
    "start_time": "2023-02-05T09:34:11.792Z"
   },
   {
    "duration": 152,
    "start_time": "2023-02-05T09:34:11.946Z"
   },
   {
    "duration": 120,
    "start_time": "2023-02-05T09:34:12.100Z"
   },
   {
    "duration": 31,
    "start_time": "2023-02-05T09:34:12.222Z"
   },
   {
    "duration": 193,
    "start_time": "2023-02-05T09:34:12.255Z"
   },
   {
    "duration": 199,
    "start_time": "2023-02-05T09:34:12.450Z"
   },
   {
    "duration": 21,
    "start_time": "2023-02-05T09:34:12.650Z"
   },
   {
    "duration": 8,
    "start_time": "2023-02-05T09:34:12.673Z"
   },
   {
    "duration": 7,
    "start_time": "2023-02-05T09:34:12.682Z"
   },
   {
    "duration": 133,
    "start_time": "2023-02-05T09:41:32.475Z"
   },
   {
    "duration": 132,
    "start_time": "2023-02-05T10:08:01.036Z"
   },
   {
    "duration": 133,
    "start_time": "2023-02-05T10:13:03.313Z"
   },
   {
    "duration": 118,
    "start_time": "2023-02-05T10:13:08.636Z"
   },
   {
    "duration": 128,
    "start_time": "2023-02-05T10:13:29.395Z"
   },
   {
    "duration": 162,
    "start_time": "2023-02-05T10:13:31.430Z"
   },
   {
    "duration": 150,
    "start_time": "2023-02-05T10:13:43.816Z"
   },
   {
    "duration": 395,
    "start_time": "2023-02-05T14:15:52.449Z"
   },
   {
    "duration": 86,
    "start_time": "2023-02-05T14:15:52.845Z"
   },
   {
    "duration": 15,
    "start_time": "2023-02-05T14:15:52.932Z"
   },
   {
    "duration": 28,
    "start_time": "2023-02-05T14:15:52.949Z"
   },
   {
    "duration": 2156,
    "start_time": "2023-02-05T14:15:52.979Z"
   },
   {
    "duration": 9,
    "start_time": "2023-02-05T14:15:55.137Z"
   },
   {
    "duration": 5,
    "start_time": "2023-02-05T14:15:55.147Z"
   },
   {
    "duration": 261,
    "start_time": "2023-02-05T14:15:55.153Z"
   },
   {
    "duration": 64,
    "start_time": "2023-02-05T14:15:55.415Z"
   },
   {
    "duration": 27,
    "start_time": "2023-02-05T14:15:55.480Z"
   },
   {
    "duration": 139,
    "start_time": "2023-02-05T14:15:55.509Z"
   },
   {
    "duration": 8,
    "start_time": "2023-02-05T14:15:55.650Z"
   },
   {
    "duration": 20,
    "start_time": "2023-02-05T14:15:55.659Z"
   },
   {
    "duration": 18,
    "start_time": "2023-02-05T14:15:55.682Z"
   },
   {
    "duration": 32,
    "start_time": "2023-02-05T14:15:55.702Z"
   },
   {
    "duration": 60,
    "start_time": "2023-02-05T14:15:55.736Z"
   },
   {
    "duration": 14,
    "start_time": "2023-02-05T14:15:55.798Z"
   },
   {
    "duration": 72,
    "start_time": "2023-02-05T14:15:55.813Z"
   },
   {
    "duration": 57,
    "start_time": "2023-02-05T14:15:55.887Z"
   },
   {
    "duration": 147,
    "start_time": "2023-02-05T14:15:55.946Z"
   },
   {
    "duration": 9,
    "start_time": "2023-02-05T14:15:56.095Z"
   },
   {
    "duration": 331,
    "start_time": "2023-02-05T14:15:56.106Z"
   },
   {
    "duration": 604,
    "start_time": "2023-02-05T14:15:56.439Z"
   },
   {
    "duration": 302,
    "start_time": "2023-02-05T14:15:57.045Z"
   },
   {
    "duration": 297,
    "start_time": "2023-02-05T14:15:57.349Z"
   },
   {
    "duration": 14,
    "start_time": "2023-02-05T14:15:57.648Z"
   },
   {
    "duration": 333,
    "start_time": "2023-02-05T14:15:57.664Z"
   },
   {
    "duration": 1136,
    "start_time": "2023-02-05T14:15:57.999Z"
   },
   {
    "duration": 1020,
    "start_time": "2023-02-05T14:15:59.137Z"
   },
   {
    "duration": 511,
    "start_time": "2023-02-05T14:16:00.159Z"
   },
   {
    "duration": 12695,
    "start_time": "2023-02-05T14:16:00.672Z"
   },
   {
    "duration": 302,
    "start_time": "2023-02-05T14:16:13.369Z"
   },
   {
    "duration": 462,
    "start_time": "2023-02-05T14:16:13.672Z"
   },
   {
    "duration": 403,
    "start_time": "2023-02-05T14:16:14.136Z"
   },
   {
    "duration": 290,
    "start_time": "2023-02-05T14:16:14.541Z"
   },
   {
    "duration": 422,
    "start_time": "2023-02-05T14:16:14.833Z"
   },
   {
    "duration": 493,
    "start_time": "2023-02-05T14:16:15.257Z"
   },
   {
    "duration": 3302,
    "start_time": "2023-02-05T14:16:15.752Z"
   },
   {
    "duration": 5408,
    "start_time": "2023-02-05T14:16:19.056Z"
   },
   {
    "duration": 303,
    "start_time": "2023-02-05T14:16:24.466Z"
   },
   {
    "duration": 237,
    "start_time": "2023-02-05T14:16:24.827Z"
   },
   {
    "duration": 1694,
    "start_time": "2023-02-05T14:16:25.067Z"
   },
   {
    "duration": 470,
    "start_time": "2023-02-05T14:16:26.762Z"
   },
   {
    "duration": 505,
    "start_time": "2023-02-05T14:16:27.234Z"
   },
   {
    "duration": 410,
    "start_time": "2023-02-05T14:16:27.741Z"
   },
   {
    "duration": 485,
    "start_time": "2023-02-05T14:16:28.153Z"
   },
   {
    "duration": 331,
    "start_time": "2023-02-05T14:16:28.641Z"
   },
   {
    "duration": 301,
    "start_time": "2023-02-05T14:16:29.028Z"
   },
   {
    "duration": 295,
    "start_time": "2023-02-05T14:16:29.332Z"
   },
   {
    "duration": 324,
    "start_time": "2023-02-05T14:16:29.629Z"
   },
   {
    "duration": 315,
    "start_time": "2023-02-05T14:16:29.954Z"
   },
   {
    "duration": 399,
    "start_time": "2023-02-05T14:16:30.272Z"
   },
   {
    "duration": 64,
    "start_time": "2023-02-05T14:16:30.673Z"
   },
   {
    "duration": 425,
    "start_time": "2023-02-05T14:16:30.739Z"
   },
   {
    "duration": 486,
    "start_time": "2023-02-05T14:16:31.166Z"
   },
   {
    "duration": 74,
    "start_time": "2023-02-05T14:16:31.654Z"
   },
   {
    "duration": 9,
    "start_time": "2023-02-05T14:16:31.731Z"
   },
   {
    "duration": 12,
    "start_time": "2023-02-05T14:16:31.742Z"
   },
   {
    "duration": 321,
    "start_time": "2023-02-05T14:16:51.918Z"
   },
   {
    "duration": 189,
    "start_time": "2023-02-05T14:18:23.059Z"
   },
   {
    "duration": 8,
    "start_time": "2023-02-05T14:18:36.828Z"
   },
   {
    "duration": 949,
    "start_time": "2023-02-05T14:18:38.298Z"
   },
   {
    "duration": 3689,
    "start_time": "2023-02-05T14:18:39.249Z"
   },
   {
    "duration": 486,
    "start_time": "2023-02-05T14:18:42.941Z"
   },
   {
    "duration": 1051,
    "start_time": "2023-02-05T14:18:43.430Z"
   },
   {
    "duration": 1089,
    "start_time": "2023-02-05T14:18:49.070Z"
   },
   {
    "duration": 2,
    "start_time": "2023-02-05T14:18:50.161Z"
   },
   {
    "duration": 92,
    "start_time": "2023-02-05T14:18:50.165Z"
   },
   {
    "duration": 16,
    "start_time": "2023-02-05T14:18:50.258Z"
   },
   {
    "duration": 29,
    "start_time": "2023-02-05T14:18:50.276Z"
   },
   {
    "duration": 2959,
    "start_time": "2023-02-05T14:18:50.306Z"
   },
   {
    "duration": 60,
    "start_time": "2023-02-05T14:18:53.267Z"
   },
   {
    "duration": 4,
    "start_time": "2023-02-05T14:18:53.329Z"
   },
   {
    "duration": 369,
    "start_time": "2023-02-05T14:18:53.335Z"
   },
   {
    "duration": 66,
    "start_time": "2023-02-05T14:18:53.706Z"
   },
   {
    "duration": 31,
    "start_time": "2023-02-05T14:18:53.774Z"
   },
   {
    "duration": 207,
    "start_time": "2023-02-05T14:18:53.807Z"
   },
   {
    "duration": 129,
    "start_time": "2023-02-05T14:18:54.016Z"
   },
   {
    "duration": 7,
    "start_time": "2023-02-05T14:18:54.149Z"
   },
   {
    "duration": 13,
    "start_time": "2023-02-05T14:18:54.158Z"
   },
   {
    "duration": 25,
    "start_time": "2023-02-05T14:18:54.173Z"
   },
   {
    "duration": 25,
    "start_time": "2023-02-05T14:18:54.199Z"
   },
   {
    "duration": 57,
    "start_time": "2023-02-05T14:18:54.226Z"
   },
   {
    "duration": 12,
    "start_time": "2023-02-05T14:18:54.285Z"
   },
   {
    "duration": 67,
    "start_time": "2023-02-05T14:18:54.299Z"
   },
   {
    "duration": 43,
    "start_time": "2023-02-05T14:18:54.368Z"
   },
   {
    "duration": 174,
    "start_time": "2023-02-05T14:18:54.413Z"
   },
   {
    "duration": 9,
    "start_time": "2023-02-05T14:18:54.588Z"
   },
   {
    "duration": 310,
    "start_time": "2023-02-05T14:18:54.598Z"
   },
   {
    "duration": 327,
    "start_time": "2023-02-05T14:18:54.910Z"
   },
   {
    "duration": 141,
    "start_time": "2023-02-05T14:18:55.239Z"
   },
   {
    "duration": 147,
    "start_time": "2023-02-05T14:18:55.382Z"
   },
   {
    "duration": 16,
    "start_time": "2023-02-05T14:18:55.531Z"
   },
   {
    "duration": 405,
    "start_time": "2023-02-05T14:18:55.549Z"
   },
   {
    "duration": 594,
    "start_time": "2023-02-05T14:18:55.956Z"
   },
   {
    "duration": 435,
    "start_time": "2023-02-05T14:18:56.552Z"
   },
   {
    "duration": 238,
    "start_time": "2023-02-05T14:18:56.989Z"
   },
   {
    "duration": 9910,
    "start_time": "2023-02-05T14:18:57.229Z"
   },
   {
    "duration": 310,
    "start_time": "2023-02-05T14:19:07.141Z"
   },
   {
    "duration": 495,
    "start_time": "2023-02-05T14:19:07.453Z"
   },
   {
    "duration": 489,
    "start_time": "2023-02-05T14:19:07.950Z"
   },
   {
    "duration": 321,
    "start_time": "2023-02-05T14:19:08.441Z"
   },
   {
    "duration": 1082,
    "start_time": "2023-02-05T14:19:08.764Z"
   },
   {
    "duration": 589,
    "start_time": "2023-02-05T14:19:09.848Z"
   },
   {
    "duration": 2306,
    "start_time": "2023-02-05T14:19:10.439Z"
   },
   {
    "duration": 2725,
    "start_time": "2023-02-05T14:19:12.749Z"
   },
   {
    "duration": 145,
    "start_time": "2023-02-05T14:19:15.476Z"
   },
   {
    "duration": 142,
    "start_time": "2023-02-05T14:19:15.627Z"
   },
   {
    "duration": 806,
    "start_time": "2023-02-05T14:19:15.770Z"
   },
   {
    "duration": 210,
    "start_time": "2023-02-05T14:19:16.578Z"
   },
   {
    "duration": 212,
    "start_time": "2023-02-05T14:19:16.789Z"
   },
   {
    "duration": 202,
    "start_time": "2023-02-05T14:19:17.003Z"
   },
   {
    "duration": 203,
    "start_time": "2023-02-05T14:19:17.206Z"
   },
   {
    "duration": 117,
    "start_time": "2023-02-05T14:19:17.410Z"
   },
   {
    "duration": 121,
    "start_time": "2023-02-05T14:19:17.528Z"
   },
   {
    "duration": 144,
    "start_time": "2023-02-05T14:19:17.650Z"
   },
   {
    "duration": 148,
    "start_time": "2023-02-05T14:19:17.796Z"
   },
   {
    "duration": 147,
    "start_time": "2023-02-05T14:19:17.945Z"
   },
   {
    "duration": 134,
    "start_time": "2023-02-05T14:19:18.093Z"
   },
   {
    "duration": 15,
    "start_time": "2023-02-05T14:19:18.228Z"
   },
   {
    "duration": 195,
    "start_time": "2023-02-05T14:19:18.245Z"
   },
   {
    "duration": 175,
    "start_time": "2023-02-05T14:19:18.442Z"
   },
   {
    "duration": 25,
    "start_time": "2023-02-05T14:19:18.619Z"
   },
   {
    "duration": 9,
    "start_time": "2023-02-05T14:19:18.646Z"
   },
   {
    "duration": 15,
    "start_time": "2023-02-05T14:19:18.657Z"
   },
   {
    "duration": 3,
    "start_time": "2023-02-05T14:19:18.674Z"
   },
   {
    "duration": 4233,
    "start_time": "2023-02-05T14:19:18.679Z"
   },
   {
    "duration": 417,
    "start_time": "2023-02-05T14:19:22.914Z"
   },
   {
    "duration": 962,
    "start_time": "2023-02-05T14:19:23.332Z"
   },
   {
    "duration": 394,
    "start_time": "2023-02-05T14:20:01.301Z"
   },
   {
    "duration": 308,
    "start_time": "2023-02-05T14:22:59.735Z"
   },
   {
    "duration": 318,
    "start_time": "2023-02-05T14:23:09.797Z"
   },
   {
    "duration": 1168,
    "start_time": "2023-02-05T14:29:15.939Z"
   },
   {
    "duration": 3,
    "start_time": "2023-02-05T14:29:17.109Z"
   },
   {
    "duration": 111,
    "start_time": "2023-02-05T14:29:17.114Z"
   },
   {
    "duration": 16,
    "start_time": "2023-02-05T14:29:17.227Z"
   },
   {
    "duration": 40,
    "start_time": "2023-02-05T14:29:17.245Z"
   },
   {
    "duration": 1917,
    "start_time": "2023-02-05T14:29:17.287Z"
   },
   {
    "duration": 9,
    "start_time": "2023-02-05T14:29:19.206Z"
   },
   {
    "duration": 24,
    "start_time": "2023-02-05T14:29:19.216Z"
   },
   {
    "duration": 328,
    "start_time": "2023-02-05T14:29:19.242Z"
   },
   {
    "duration": 61,
    "start_time": "2023-02-05T14:29:19.572Z"
   },
   {
    "duration": 26,
    "start_time": "2023-02-05T14:29:19.635Z"
   },
   {
    "duration": 208,
    "start_time": "2023-02-05T14:29:19.663Z"
   },
   {
    "duration": 135,
    "start_time": "2023-02-05T14:29:19.872Z"
   },
   {
    "duration": 8,
    "start_time": "2023-02-05T14:29:20.010Z"
   },
   {
    "duration": 20,
    "start_time": "2023-02-05T14:29:20.026Z"
   },
   {
    "duration": 25,
    "start_time": "2023-02-05T14:29:20.047Z"
   },
   {
    "duration": 14,
    "start_time": "2023-02-05T14:29:20.074Z"
   },
   {
    "duration": 65,
    "start_time": "2023-02-05T14:29:20.089Z"
   },
   {
    "duration": 13,
    "start_time": "2023-02-05T14:29:20.156Z"
   },
   {
    "duration": 66,
    "start_time": "2023-02-05T14:29:20.170Z"
   },
   {
    "duration": 49,
    "start_time": "2023-02-05T14:29:20.238Z"
   },
   {
    "duration": 499,
    "start_time": "2023-02-05T14:29:20.288Z"
   },
   {
    "duration": 229,
    "start_time": "2023-02-05T14:29:20.789Z"
   },
   {
    "duration": 9,
    "start_time": "2023-02-05T14:29:21.020Z"
   },
   {
    "duration": 308,
    "start_time": "2023-02-05T14:29:21.031Z"
   },
   {
    "duration": 298,
    "start_time": "2023-02-05T14:29:21.340Z"
   },
   {
    "duration": 244,
    "start_time": "2023-02-05T14:29:21.639Z"
   },
   {
    "duration": 143,
    "start_time": "2023-02-05T14:29:21.884Z"
   },
   {
    "duration": 14,
    "start_time": "2023-02-05T14:29:22.028Z"
   },
   {
    "duration": 290,
    "start_time": "2023-02-05T14:29:22.044Z"
   },
   {
    "duration": 561,
    "start_time": "2023-02-05T14:29:22.336Z"
   },
   {
    "duration": 545,
    "start_time": "2023-02-05T14:29:22.899Z"
   },
   {
    "duration": 222,
    "start_time": "2023-02-05T14:29:23.447Z"
   },
   {
    "duration": 5601,
    "start_time": "2023-02-05T14:29:23.671Z"
   },
   {
    "duration": 431,
    "start_time": "2023-02-05T14:29:29.274Z"
   },
   {
    "duration": 216,
    "start_time": "2023-02-05T14:29:29.708Z"
   },
   {
    "duration": 205,
    "start_time": "2023-02-05T14:29:29.927Z"
   },
   {
    "duration": 402,
    "start_time": "2023-02-05T14:29:30.133Z"
   },
   {
    "duration": 164,
    "start_time": "2023-02-05T14:29:30.537Z"
   },
   {
    "duration": 218,
    "start_time": "2023-02-05T14:29:30.703Z"
   },
   {
    "duration": 247,
    "start_time": "2023-02-05T14:29:30.925Z"
   },
   {
    "duration": 1358,
    "start_time": "2023-02-05T14:29:31.174Z"
   },
   {
    "duration": 2832,
    "start_time": "2023-02-05T14:29:32.534Z"
   },
   {
    "duration": 164,
    "start_time": "2023-02-05T14:29:35.368Z"
   },
   {
    "duration": 143,
    "start_time": "2023-02-05T14:29:35.534Z"
   },
   {
    "duration": 834,
    "start_time": "2023-02-05T14:29:35.679Z"
   },
   {
    "duration": 212,
    "start_time": "2023-02-05T14:29:36.515Z"
   },
   {
    "duration": 229,
    "start_time": "2023-02-05T14:29:36.729Z"
   },
   {
    "duration": 212,
    "start_time": "2023-02-05T14:29:36.959Z"
   },
   {
    "duration": 206,
    "start_time": "2023-02-05T14:29:37.172Z"
   },
   {
    "duration": 115,
    "start_time": "2023-02-05T14:29:37.379Z"
   },
   {
    "duration": 124,
    "start_time": "2023-02-05T14:29:37.496Z"
   },
   {
    "duration": 142,
    "start_time": "2023-02-05T14:29:37.622Z"
   },
   {
    "duration": 149,
    "start_time": "2023-02-05T14:29:37.766Z"
   },
   {
    "duration": 143,
    "start_time": "2023-02-05T14:29:37.917Z"
   },
   {
    "duration": 137,
    "start_time": "2023-02-05T14:29:38.062Z"
   },
   {
    "duration": 15,
    "start_time": "2023-02-05T14:29:38.202Z"
   },
   {
    "duration": 211,
    "start_time": "2023-02-05T14:29:38.218Z"
   },
   {
    "duration": 181,
    "start_time": "2023-02-05T14:29:38.431Z"
   },
   {
    "duration": 31,
    "start_time": "2023-02-05T14:29:38.614Z"
   },
   {
    "duration": 32,
    "start_time": "2023-02-05T14:29:38.647Z"
   },
   {
    "duration": 13,
    "start_time": "2023-02-05T14:29:38.681Z"
   },
   {
    "duration": 17,
    "start_time": "2023-02-05T14:29:38.695Z"
   },
   {
    "duration": 4146,
    "start_time": "2023-02-05T14:29:38.713Z"
   },
   {
    "duration": 412,
    "start_time": "2023-02-05T14:29:42.861Z"
   },
   {
    "duration": 996,
    "start_time": "2023-02-05T14:29:43.275Z"
   }
  ],
  "kernelspec": {
   "display_name": "Python 3 (ipykernel)",
   "language": "python",
   "name": "python3"
  },
  "language_info": {
   "codemirror_mode": {
    "name": "ipython",
    "version": 3
   },
   "file_extension": ".py",
   "mimetype": "text/x-python",
   "name": "python",
   "nbconvert_exporter": "python",
   "pygments_lexer": "ipython3",
   "version": "3.9.7"
  },
  "toc": {
   "base_numbering": 1,
   "nav_menu": {},
   "number_sections": true,
   "sideBar": true,
   "skip_h1_title": true,
   "title_cell": "Table of Contents",
   "title_sidebar": "Contents",
   "toc_cell": false,
   "toc_position": {
    "height": "calc(100% - 180px)",
    "left": "10px",
    "top": "150px",
    "width": "271.53125px"
   },
   "toc_section_display": true,
   "toc_window_display": true
  },
  "vscode": {
   "interpreter": {
    "hash": "40d3a090f54c6569ab1632332b64b2c03c39dcf918b08424e98f38b5ae0af88f"
   }
  }
 },
 "nbformat": 4,
 "nbformat_minor": 2
}
