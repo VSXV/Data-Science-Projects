{
 "cells": [
  {
   "cell_type": "markdown",
   "metadata": {},
   "source": [
    "# Импорты"
   ]
  },
  {
   "cell_type": "code",
   "execution_count": 281,
   "metadata": {},
   "outputs": [],
   "source": [
    "import matplotlib.pyplot as plt\n",
    "import pandas as pd\n",
    "import seaborn as sns\n",
    "\n",
    "from sqlalchemy import create_engine, text"
   ]
  },
  {
   "cell_type": "code",
   "execution_count": 282,
   "metadata": {},
   "outputs": [],
   "source": [
    "RANDOM_STATE = 190224"
   ]
  },
  {
   "cell_type": "markdown",
   "metadata": {},
   "source": [
    "# Загрузка и анализ данных"
   ]
  },
  {
   "cell_type": "markdown",
   "metadata": {},
   "source": [
    "## Загрузка данных"
   ]
  },
  {
   "cell_type": "code",
   "execution_count": 283,
   "metadata": {},
   "outputs": [],
   "source": [
    "db_config = {\n",
    "'user': 'praktikum_student',# имя пользователя\n",
    "'pwd': 'Sdf4$2;d-d30pp',# пароль\n",
    "'host': 'rc1b-wcoijxj3yxfsf3fs.mdb.yandexcloud.net',\n",
    "'port': 6432,# порт подключения\n",
    "'db': 'data-science-final'# название базы данных,\n",
    "}\n",
    "\n",
    "connection_string = 'postgresql://{}:{}@{}:{}/{}'.format(\n",
    "    db_config['user'],\n",
    "    db_config['pwd'],\n",
    "    db_config['host'],\n",
    "    db_config['port'],\n",
    "    db_config['db'],\n",
    ")"
   ]
  },
  {
   "cell_type": "code",
   "execution_count": 284,
   "metadata": {},
   "outputs": [],
   "source": [
    "engine = create_engine(connection_string)\n",
    "del db_config\n",
    "del connection_string"
   ]
  },
  {
   "cell_type": "code",
   "execution_count": 285,
   "metadata": {},
   "outputs": [],
   "source": [
    "data_arc = None\n",
    "data_bulk = None\n",
    "data_bulk_time = None\n",
    "data_gas = None\n",
    "data_temp = None\n",
    "data_wire = None\n",
    "data_wire_time = None\n",
    "\n",
    "TABLES = [data_arc,\n",
    "          data_bulk,\n",
    "          data_bulk_time,\n",
    "          data_gas,\n",
    "          data_temp,\n",
    "          data_wire,\n",
    "          data_wire_time]\n",
    "\n",
    "DB_TABLES = ['steel.data_arc',\n",
    "             'steel.data_bulk',\n",
    "             'steel.data_bulk_time',\n",
    "             'steel.data_gas',\n",
    "             'steel.data_temp',\n",
    "             'steel.data_wire',\n",
    "             'steel.data_wire_time']\n",
    "\n",
    "for i, table in enumerate(TABLES):\n",
    "    query = f'''\n",
    "        SELECT *\n",
    "        FROM {DB_TABLES[i]};\n",
    "        '''\n",
    "\n",
    "    TABLES[i] = pd.read_sql_query(query, engine)\n",
    "\n",
    "data_arc, data_bulk, data_bulk_time, data_gas, data_temp, data_wire, data_wire_time = TABLES\n"
   ]
  },
  {
   "cell_type": "markdown",
   "metadata": {},
   "source": [
    "## Данные об электродах"
   ]
  },
  {
   "cell_type": "markdown",
   "metadata": {},
   "source": [
    "Таблица steel.data_arc\n",
    "* key — номер партии;\n",
    "* BeginHeat — время начала нагрева;\n",
    "* EndHeat — время окончания нагрева;\n",
    "* ActivePower — значение активной мощности;\n",
    "* ReactivePower — значение реактивной мощности."
   ]
  },
  {
   "cell_type": "code",
   "execution_count": 286,
   "metadata": {},
   "outputs": [
    {
     "name": "stdout",
     "output_type": "stream",
     "text": [
      "<class 'pandas.core.frame.DataFrame'>\n",
      "RangeIndex: 14876 entries, 0 to 14875\n",
      "Data columns (total 5 columns):\n",
      " #   Column         Non-Null Count  Dtype  \n",
      "---  ------         --------------  -----  \n",
      " 0   key            14876 non-null  int64  \n",
      " 1   BeginHeat      14876 non-null  object \n",
      " 2   EndHeat        14876 non-null  object \n",
      " 3   ActivePower    14876 non-null  float64\n",
      " 4   ReactivePower  14876 non-null  float64\n",
      "dtypes: float64(2), int64(1), object(2)\n",
      "memory usage: 581.2+ KB\n"
     ]
    }
   ],
   "source": [
    "data_arc.info()"
   ]
  },
  {
   "cell_type": "code",
   "execution_count": 287,
   "metadata": {},
   "outputs": [
    {
     "data": {
      "text/html": [
       "<div>\n",
       "<style scoped>\n",
       "    .dataframe tbody tr th:only-of-type {\n",
       "        vertical-align: middle;\n",
       "    }\n",
       "\n",
       "    .dataframe tbody tr th {\n",
       "        vertical-align: top;\n",
       "    }\n",
       "\n",
       "    .dataframe thead th {\n",
       "        text-align: right;\n",
       "    }\n",
       "</style>\n",
       "<table border=\"1\" class=\"dataframe\">\n",
       "  <thead>\n",
       "    <tr style=\"text-align: right;\">\n",
       "      <th></th>\n",
       "      <th>key</th>\n",
       "      <th>ActivePower</th>\n",
       "      <th>ReactivePower</th>\n",
       "    </tr>\n",
       "  </thead>\n",
       "  <tbody>\n",
       "    <tr>\n",
       "      <th>count</th>\n",
       "      <td>14876.000000</td>\n",
       "      <td>14876.000000</td>\n",
       "      <td>14876.000000</td>\n",
       "    </tr>\n",
       "    <tr>\n",
       "      <th>mean</th>\n",
       "      <td>1615.220422</td>\n",
       "      <td>0.670441</td>\n",
       "      <td>0.452592</td>\n",
       "    </tr>\n",
       "    <tr>\n",
       "      <th>std</th>\n",
       "      <td>934.571502</td>\n",
       "      <td>0.408159</td>\n",
       "      <td>5.878702</td>\n",
       "    </tr>\n",
       "    <tr>\n",
       "      <th>min</th>\n",
       "      <td>1.000000</td>\n",
       "      <td>0.030002</td>\n",
       "      <td>-715.504924</td>\n",
       "    </tr>\n",
       "    <tr>\n",
       "      <th>25%</th>\n",
       "      <td>806.000000</td>\n",
       "      <td>0.395297</td>\n",
       "      <td>0.290991</td>\n",
       "    </tr>\n",
       "    <tr>\n",
       "      <th>50%</th>\n",
       "      <td>1617.000000</td>\n",
       "      <td>0.555517</td>\n",
       "      <td>0.415962</td>\n",
       "    </tr>\n",
       "    <tr>\n",
       "      <th>75%</th>\n",
       "      <td>2429.000000</td>\n",
       "      <td>0.857034</td>\n",
       "      <td>0.637371</td>\n",
       "    </tr>\n",
       "    <tr>\n",
       "      <th>max</th>\n",
       "      <td>3241.000000</td>\n",
       "      <td>3.731596</td>\n",
       "      <td>2.676388</td>\n",
       "    </tr>\n",
       "  </tbody>\n",
       "</table>\n",
       "</div>"
      ],
      "text/plain": [
       "                key   ActivePower  ReactivePower\n",
       "count  14876.000000  14876.000000   14876.000000\n",
       "mean    1615.220422      0.670441       0.452592\n",
       "std      934.571502      0.408159       5.878702\n",
       "min        1.000000      0.030002    -715.504924\n",
       "25%      806.000000      0.395297       0.290991\n",
       "50%     1617.000000      0.555517       0.415962\n",
       "75%     2429.000000      0.857034       0.637371\n",
       "max     3241.000000      3.731596       2.676388"
      ]
     },
     "execution_count": 287,
     "metadata": {},
     "output_type": "execute_result"
    }
   ],
   "source": [
    "data_arc.describe()"
   ]
  },
  {
   "cell_type": "code",
   "execution_count": 288,
   "metadata": {},
   "outputs": [
    {
     "data": {
      "text/html": [
       "<div>\n",
       "<style scoped>\n",
       "    .dataframe tbody tr th:only-of-type {\n",
       "        vertical-align: middle;\n",
       "    }\n",
       "\n",
       "    .dataframe tbody tr th {\n",
       "        vertical-align: top;\n",
       "    }\n",
       "\n",
       "    .dataframe thead th {\n",
       "        text-align: right;\n",
       "    }\n",
       "</style>\n",
       "<table border=\"1\" class=\"dataframe\">\n",
       "  <thead>\n",
       "    <tr style=\"text-align: right;\">\n",
       "      <th></th>\n",
       "      <th>key</th>\n",
       "      <th>BeginHeat</th>\n",
       "      <th>EndHeat</th>\n",
       "      <th>ActivePower</th>\n",
       "      <th>ReactivePower</th>\n",
       "    </tr>\n",
       "  </thead>\n",
       "  <tbody>\n",
       "    <tr>\n",
       "      <th>5994</th>\n",
       "      <td>1306</td>\n",
       "      <td>11:11:09</td>\n",
       "      <td>11:12:44</td>\n",
       "      <td>0.301684</td>\n",
       "      <td>0.288729</td>\n",
       "    </tr>\n",
       "    <tr>\n",
       "      <th>14771</th>\n",
       "      <td>3218</td>\n",
       "      <td>07:56:06</td>\n",
       "      <td>07:58:08</td>\n",
       "      <td>0.424120</td>\n",
       "      <td>0.356813</td>\n",
       "    </tr>\n",
       "    <tr>\n",
       "      <th>5071</th>\n",
       "      <td>1098</td>\n",
       "      <td>12:29:27</td>\n",
       "      <td>12:30:18</td>\n",
       "      <td>0.185125</td>\n",
       "      <td>0.225177</td>\n",
       "    </tr>\n",
       "    <tr>\n",
       "      <th>13959</th>\n",
       "      <td>3030</td>\n",
       "      <td>07:10:54</td>\n",
       "      <td>07:12:57</td>\n",
       "      <td>0.432336</td>\n",
       "      <td>0.344169</td>\n",
       "    </tr>\n",
       "    <tr>\n",
       "      <th>7753</th>\n",
       "      <td>1680</td>\n",
       "      <td>07:41:55</td>\n",
       "      <td>07:43:19</td>\n",
       "      <td>0.310622</td>\n",
       "      <td>0.221656</td>\n",
       "    </tr>\n",
       "  </tbody>\n",
       "</table>\n",
       "</div>"
      ],
      "text/plain": [
       "        key BeginHeat   EndHeat  ActivePower  ReactivePower\n",
       "5994   1306  11:11:09  11:12:44     0.301684       0.288729\n",
       "14771  3218  07:56:06  07:58:08     0.424120       0.356813\n",
       "5071   1098  12:29:27  12:30:18     0.185125       0.225177\n",
       "13959  3030  07:10:54  07:12:57     0.432336       0.344169\n",
       "7753   1680  07:41:55  07:43:19     0.310622       0.221656"
      ]
     },
     "execution_count": 288,
     "metadata": {},
     "output_type": "execute_result"
    }
   ],
   "source": [
    "data_arc.sample(5)"
   ]
  },
  {
   "cell_type": "code",
   "execution_count": 289,
   "metadata": {},
   "outputs": [],
   "source": [
    "data_arc['BeginHeat'] = pd.to_datetime(data_arc['BeginHeat'], format='%H:%M:%S').dt.time\n",
    "data_arc['EndHeat'] = pd.to_datetime(data_arc['EndHeat'], format='%H:%M:%S').dt.time"
   ]
  },
  {
   "cell_type": "code",
   "execution_count": 290,
   "metadata": {},
   "outputs": [
    {
     "data": {
      "text/plain": [
       "0"
      ]
     },
     "execution_count": 290,
     "metadata": {},
     "output_type": "execute_result"
    }
   ],
   "source": [
    "data_arc.duplicated().sum()"
   ]
  },
  {
   "cell_type": "code",
   "execution_count": 291,
   "metadata": {},
   "outputs": [
    {
     "data": {
      "text/html": [
       "<div>\n",
       "<style scoped>\n",
       "    .dataframe tbody tr th:only-of-type {\n",
       "        vertical-align: middle;\n",
       "    }\n",
       "\n",
       "    .dataframe tbody tr th {\n",
       "        vertical-align: top;\n",
       "    }\n",
       "\n",
       "    .dataframe thead th {\n",
       "        text-align: right;\n",
       "    }\n",
       "</style>\n",
       "<table border=\"1\" class=\"dataframe\">\n",
       "  <thead>\n",
       "    <tr style=\"text-align: right;\">\n",
       "      <th></th>\n",
       "      <th>key</th>\n",
       "      <th>BeginHeat</th>\n",
       "      <th>EndHeat</th>\n",
       "      <th>ActivePower</th>\n",
       "      <th>ReactivePower</th>\n",
       "    </tr>\n",
       "  </thead>\n",
       "  <tbody>\n",
       "    <tr>\n",
       "      <th>9781</th>\n",
       "      <td>2116</td>\n",
       "      <td>00:44:48</td>\n",
       "      <td>00:46:37</td>\n",
       "      <td>0.495782</td>\n",
       "      <td>-715.504924</td>\n",
       "    </tr>\n",
       "  </tbody>\n",
       "</table>\n",
       "</div>"
      ],
      "text/plain": [
       "       key BeginHeat   EndHeat  ActivePower  ReactivePower\n",
       "9781  2116  00:44:48  00:46:37     0.495782    -715.504924"
      ]
     },
     "execution_count": 291,
     "metadata": {},
     "output_type": "execute_result"
    }
   ],
   "source": [
    "data_arc[data_arc['ReactivePower'] < 0]"
   ]
  },
  {
   "cell_type": "code",
   "execution_count": 292,
   "metadata": {},
   "outputs": [],
   "source": [
    "data_arc_analysis = data_arc.copy()\n",
    "data_arc_analysis = data_arc_analysis.drop(data_arc_analysis.query('key == 2116').index).reset_index(drop=True)"
   ]
  },
  {
   "cell_type": "markdown",
   "metadata": {},
   "source": [
    "### Аналитика"
   ]
  },
  {
   "cell_type": "code",
   "execution_count": 293,
   "metadata": {},
   "outputs": [
    {
     "name": "stderr",
     "output_type": "stream",
     "text": [
      "/Users/vs/anaconda3/lib/python3.11/site-packages/seaborn/_oldcore.py:1119: FutureWarning: use_inf_as_na option is deprecated and will be removed in a future version. Convert inf values to NaN before operating instead.\n",
      "  with pd.option_context('mode.use_inf_as_na', True):\n"
     ]
    },
    {
     "data": {
      "image/png": "[encoded data removed]",
      "text/plain": [
       "<Figure size 1200x300 with 1 Axes>"
      ]
     },
     "metadata": {},
     "output_type": "display_data"
    }
   ],
   "source": [
    "plt.figure(figsize=(12, 3))\n",
    "\n",
    "sns.kdeplot(data_arc_analysis['ActivePower'], color='indianred', legend=True, fill=True)\n",
    "plt.xlabel('Активная мощность')\n",
    "plt.ylabel('Плотность распределения')\n",
    "plt.title('Распределение активной мощности', fontsize=15)\n",
    "plt.grid();"
   ]
  },
  {
   "cell_type": "code",
   "execution_count": 294,
   "metadata": {},
   "outputs": [
    {
     "data": {
      "image/png": "[encoded data removed]",
      "text/plain": [
       "<Figure size 1200x300 with 1 Axes>"
      ]
     },
     "metadata": {},
     "output_type": "display_data"
    }
   ],
   "source": [
    "plt.figure(figsize=(12, 3))\n",
    "\n",
    "sns.boxplot(data=data_arc_analysis['ActivePower'], color='royalblue', orient='h')\n",
    "plt.title('Boxplot для активной мощности')\n",
    "plt.ylabel('Мощность')\n",
    "plt.grid();"
   ]
  },
  {
   "cell_type": "code",
   "execution_count": 295,
   "metadata": {},
   "outputs": [
    {
     "name": "stderr",
     "output_type": "stream",
     "text": [
      "/Users/vs/anaconda3/lib/python3.11/site-packages/seaborn/_oldcore.py:1119: FutureWarning: use_inf_as_na option is deprecated and will be removed in a future version. Convert inf values to NaN before operating instead.\n",
      "  with pd.option_context('mode.use_inf_as_na', True):\n"
     ]
    },
    {
     "data": {
      "image/png": "[encoded data removed]",
      "text/plain": [
       "<Figure size 1200x300 with 1 Axes>"
      ]
     },
     "metadata": {},
     "output_type": "display_data"
    }
   ],
   "source": [
    "plt.figure(figsize=(12, 3))\n",
    "\n",
    "sns.kdeplot(data_arc_analysis['ReactivePower'], color='indianred', legend=True, fill=True)\n",
    "plt.xlabel('Реактивная мощность')\n",
    "plt.ylabel('Плотность распределения')\n",
    "plt.title('Распределение реактивной мощности', fontsize=15)\n",
    "plt.grid();"
   ]
  },
  {
   "cell_type": "code",
   "execution_count": 296,
   "metadata": {},
   "outputs": [
    {
     "data": {
      "image/png": "[encoded data removed]",
      "text/plain": [
       "<Figure size 1200x300 with 1 Axes>"
      ]
     },
     "metadata": {},
     "output_type": "display_data"
    }
   ],
   "source": [
    "plt.figure(figsize=(12, 3))\n",
    "\n",
    "sns.boxplot(data=data_arc_analysis['ReactivePower'], color='royalblue', orient='h')\n",
    "plt.title('Boxplot для реактивной мощности')\n",
    "plt.ylabel('Мощность')\n",
    "plt.grid();"
   ]
  },
  {
   "cell_type": "code",
   "execution_count": 297,
   "metadata": {},
   "outputs": [
    {
     "data": {
      "image/png": "[encoded data removed]",
      "text/plain": [
       "<Figure size 800x600 with 2 Axes>"
      ]
     },
     "metadata": {},
     "output_type": "display_data"
    }
   ],
   "source": [
    "correlation_matrix = data_arc_analysis[['ActivePower', 'ReactivePower']].corr()\n",
    "plt.figure(figsize=(8, 6))\n",
    "sns.heatmap(correlation_matrix, annot=True, cmap=\"coolwarm\")\n",
    "plt.title('Корреляция между активной и реактивной мощностью');"
   ]
  },
  {
   "cell_type": "code",
   "execution_count": 298,
   "metadata": {},
   "outputs": [
    {
     "data": {
      "image/png": "[encoded data removed]",
      "text/plain": [
       "<Figure size 1200x300 with 1 Axes>"
      ]
     },
     "metadata": {},
     "output_type": "display_data"
    }
   ],
   "source": [
    "plt.figure(figsize=(12, 3))\n",
    "plt.scatter(data_arc_analysis['ActivePower'], data_arc_analysis['ReactivePower'], color='royalblue')\n",
    "plt.title('Связь активной и реактивной мощности')\n",
    "plt.xlabel('Активная мощность')\n",
    "plt.ylabel('Реактивная мощность');"
   ]
  },
  {
   "cell_type": "markdown",
   "metadata": {},
   "source": [
    "### Создание признаков"
   ]
  },
  {
   "cell_type": "code",
   "execution_count": 299,
   "metadata": {},
   "outputs": [],
   "source": [
    "data_arc['TimeDifference'] = pd.to_datetime(data_arc['EndHeat'], format='%H:%M:%S') - pd.to_datetime(data_arc['BeginHeat'], format='%H:%M:%S')"
   ]
  },
  {
   "cell_type": "code",
   "execution_count": 300,
   "metadata": {},
   "outputs": [],
   "source": [
    "data_arc['PowerCorr'] = data_arc['ActivePower'] / data_arc['ReactivePower']"
   ]
  },
  {
   "cell_type": "code",
   "execution_count": 301,
   "metadata": {},
   "outputs": [],
   "source": [
    "data_arc['KeyCount'] = data_arc['key'].map(data_arc['key'].value_counts())"
   ]
  },
  {
   "cell_type": "code",
   "execution_count": 302,
   "metadata": {},
   "outputs": [
    {
     "data": {
      "text/html": [
       "<div>\n",
       "<style scoped>\n",
       "    .dataframe tbody tr th:only-of-type {\n",
       "        vertical-align: middle;\n",
       "    }\n",
       "\n",
       "    .dataframe tbody tr th {\n",
       "        vertical-align: top;\n",
       "    }\n",
       "\n",
       "    .dataframe thead th {\n",
       "        text-align: right;\n",
       "    }\n",
       "</style>\n",
       "<table border=\"1\" class=\"dataframe\">\n",
       "  <thead>\n",
       "    <tr style=\"text-align: right;\">\n",
       "      <th></th>\n",
       "      <th>key</th>\n",
       "      <th>BeginHeat</th>\n",
       "      <th>EndHeat</th>\n",
       "      <th>ActivePower</th>\n",
       "      <th>ReactivePower</th>\n",
       "      <th>TimeDifference</th>\n",
       "      <th>PowerCorr</th>\n",
       "      <th>KeyCount</th>\n",
       "    </tr>\n",
       "  </thead>\n",
       "  <tbody>\n",
       "    <tr>\n",
       "      <th>0</th>\n",
       "      <td>1</td>\n",
       "      <td>11:02:14</td>\n",
       "      <td>11:06:02</td>\n",
       "      <td>0.976059</td>\n",
       "      <td>0.687084</td>\n",
       "      <td>0 days 00:03:48</td>\n",
       "      <td>1.420582</td>\n",
       "      <td>5</td>\n",
       "    </tr>\n",
       "    <tr>\n",
       "      <th>1</th>\n",
       "      <td>1</td>\n",
       "      <td>11:07:28</td>\n",
       "      <td>11:10:33</td>\n",
       "      <td>0.805607</td>\n",
       "      <td>0.520285</td>\n",
       "      <td>0 days 00:03:05</td>\n",
       "      <td>1.548395</td>\n",
       "      <td>5</td>\n",
       "    </tr>\n",
       "    <tr>\n",
       "      <th>2</th>\n",
       "      <td>1</td>\n",
       "      <td>11:11:44</td>\n",
       "      <td>11:14:36</td>\n",
       "      <td>0.744363</td>\n",
       "      <td>0.498805</td>\n",
       "      <td>0 days 00:02:52</td>\n",
       "      <td>1.492292</td>\n",
       "      <td>5</td>\n",
       "    </tr>\n",
       "    <tr>\n",
       "      <th>3</th>\n",
       "      <td>1</td>\n",
       "      <td>11:18:14</td>\n",
       "      <td>11:24:19</td>\n",
       "      <td>1.659363</td>\n",
       "      <td>1.062669</td>\n",
       "      <td>0 days 00:06:05</td>\n",
       "      <td>1.561504</td>\n",
       "      <td>5</td>\n",
       "    </tr>\n",
       "    <tr>\n",
       "      <th>4</th>\n",
       "      <td>1</td>\n",
       "      <td>11:26:09</td>\n",
       "      <td>11:28:37</td>\n",
       "      <td>0.692755</td>\n",
       "      <td>0.414397</td>\n",
       "      <td>0 days 00:02:28</td>\n",
       "      <td>1.671717</td>\n",
       "      <td>5</td>\n",
       "    </tr>\n",
       "    <tr>\n",
       "      <th>5</th>\n",
       "      <td>2</td>\n",
       "      <td>11:34:14</td>\n",
       "      <td>11:36:31</td>\n",
       "      <td>0.438063</td>\n",
       "      <td>0.283043</td>\n",
       "      <td>0 days 00:02:17</td>\n",
       "      <td>1.547690</td>\n",
       "      <td>4</td>\n",
       "    </tr>\n",
       "    <tr>\n",
       "      <th>6</th>\n",
       "      <td>2</td>\n",
       "      <td>11:38:50</td>\n",
       "      <td>11:44:28</td>\n",
       "      <td>1.296415</td>\n",
       "      <td>0.892914</td>\n",
       "      <td>0 days 00:05:38</td>\n",
       "      <td>1.451893</td>\n",
       "      <td>4</td>\n",
       "    </tr>\n",
       "    <tr>\n",
       "      <th>7</th>\n",
       "      <td>2</td>\n",
       "      <td>11:46:19</td>\n",
       "      <td>11:48:25</td>\n",
       "      <td>0.490377</td>\n",
       "      <td>0.305281</td>\n",
       "      <td>0 days 00:02:06</td>\n",
       "      <td>1.606312</td>\n",
       "      <td>4</td>\n",
       "    </tr>\n",
       "    <tr>\n",
       "      <th>8</th>\n",
       "      <td>2</td>\n",
       "      <td>11:49:48</td>\n",
       "      <td>11:53:18</td>\n",
       "      <td>0.827743</td>\n",
       "      <td>0.516874</td>\n",
       "      <td>0 days 00:03:30</td>\n",
       "      <td>1.601441</td>\n",
       "      <td>4</td>\n",
       "    </tr>\n",
       "    <tr>\n",
       "      <th>9</th>\n",
       "      <td>3</td>\n",
       "      <td>12:06:54</td>\n",
       "      <td>12:11:34</td>\n",
       "      <td>1.062053</td>\n",
       "      <td>0.671494</td>\n",
       "      <td>0 days 00:04:40</td>\n",
       "      <td>1.581626</td>\n",
       "      <td>5</td>\n",
       "    </tr>\n",
       "  </tbody>\n",
       "</table>\n",
       "</div>"
      ],
      "text/plain": [
       "   key BeginHeat   EndHeat  ActivePower  ReactivePower  TimeDifference  \\\n",
       "0    1  11:02:14  11:06:02     0.976059       0.687084 0 days 00:03:48   \n",
       "1    1  11:07:28  11:10:33     0.805607       0.520285 0 days 00:03:05   \n",
       "2    1  11:11:44  11:14:36     0.744363       0.498805 0 days 00:02:52   \n",
       "3    1  11:18:14  11:24:19     1.659363       1.062669 0 days 00:06:05   \n",
       "4    1  11:26:09  11:28:37     0.692755       0.414397 0 days 00:02:28   \n",
       "5    2  11:34:14  11:36:31     0.438063       0.283043 0 days 00:02:17   \n",
       "6    2  11:38:50  11:44:28     1.296415       0.892914 0 days 00:05:38   \n",
       "7    2  11:46:19  11:48:25     0.490377       0.305281 0 days 00:02:06   \n",
       "8    2  11:49:48  11:53:18     0.827743       0.516874 0 days 00:03:30   \n",
       "9    3  12:06:54  12:11:34     1.062053       0.671494 0 days 00:04:40   \n",
       "\n",
       "   PowerCorr  KeyCount  \n",
       "0   1.420582         5  \n",
       "1   1.548395         5  \n",
       "2   1.492292         5  \n",
       "3   1.561504         5  \n",
       "4   1.671717         5  \n",
       "5   1.547690         4  \n",
       "6   1.451893         4  \n",
       "7   1.606312         4  \n",
       "8   1.601441         4  \n",
       "9   1.581626         5  "
      ]
     },
     "execution_count": 302,
     "metadata": {},
     "output_type": "execute_result"
    }
   ],
   "source": [
    "data_arc.head(10)"
   ]
  },
  {
   "cell_type": "markdown",
   "metadata": {},
   "source": [
    "## Данные об объёме сыпучих материалов"
   ]
  },
  {
   "cell_type": "markdown",
   "metadata": {},
   "source": [
    "Таблица steel.data_bulk\n",
    "* key — номер партии;\n",
    "* Bulk1 … Bulk15 — объём подаваемого материала."
   ]
  },
  {
   "cell_type": "code",
   "execution_count": 303,
   "metadata": {},
   "outputs": [
    {
     "name": "stdout",
     "output_type": "stream",
     "text": [
      "<class 'pandas.core.frame.DataFrame'>\n",
      "RangeIndex: 3129 entries, 0 to 3128\n",
      "Data columns (total 16 columns):\n",
      " #   Column   Non-Null Count  Dtype  \n",
      "---  ------   --------------  -----  \n",
      " 0   key      3129 non-null   int64  \n",
      " 1   Bulk 1   252 non-null    float64\n",
      " 2   Bulk 2   22 non-null     float64\n",
      " 3   Bulk 3   1298 non-null   float64\n",
      " 4   Bulk 4   1014 non-null   float64\n",
      " 5   Bulk 5   77 non-null     float64\n",
      " 6   Bulk 6   576 non-null    float64\n",
      " 7   Bulk 7   25 non-null     float64\n",
      " 8   Bulk 8   1 non-null      float64\n",
      " 9   Bulk 9   19 non-null     float64\n",
      " 10  Bulk 10  176 non-null    float64\n",
      " 11  Bulk 11  177 non-null    float64\n",
      " 12  Bulk 12  2450 non-null   float64\n",
      " 13  Bulk 13  18 non-null     float64\n",
      " 14  Bulk 14  2806 non-null   float64\n",
      " 15  Bulk 15  2248 non-null   float64\n",
      "dtypes: float64(15), int64(1)\n",
      "memory usage: 391.2 KB\n"
     ]
    }
   ],
   "source": [
    "data_bulk.info()"
   ]
  },
  {
   "cell_type": "code",
   "execution_count": 304,
   "metadata": {},
   "outputs": [
    {
     "data": {
      "text/html": [
       "<div>\n",
       "<style scoped>\n",
       "    .dataframe tbody tr th:only-of-type {\n",
       "        vertical-align: middle;\n",
       "    }\n",
       "\n",
       "    .dataframe tbody tr th {\n",
       "        vertical-align: top;\n",
       "    }\n",
       "\n",
       "    .dataframe thead th {\n",
       "        text-align: right;\n",
       "    }\n",
       "</style>\n",
       "<table border=\"1\" class=\"dataframe\">\n",
       "  <thead>\n",
       "    <tr style=\"text-align: right;\">\n",
       "      <th></th>\n",
       "      <th>key</th>\n",
       "      <th>Bulk 1</th>\n",
       "      <th>Bulk 2</th>\n",
       "      <th>Bulk 3</th>\n",
       "      <th>Bulk 4</th>\n",
       "      <th>Bulk 5</th>\n",
       "      <th>Bulk 6</th>\n",
       "      <th>Bulk 7</th>\n",
       "      <th>Bulk 8</th>\n",
       "      <th>Bulk 9</th>\n",
       "      <th>Bulk 10</th>\n",
       "      <th>Bulk 11</th>\n",
       "      <th>Bulk 12</th>\n",
       "      <th>Bulk 13</th>\n",
       "      <th>Bulk 14</th>\n",
       "      <th>Bulk 15</th>\n",
       "    </tr>\n",
       "  </thead>\n",
       "  <tbody>\n",
       "    <tr>\n",
       "      <th>count</th>\n",
       "      <td>3129.000000</td>\n",
       "      <td>252.000000</td>\n",
       "      <td>22.000000</td>\n",
       "      <td>1298.000000</td>\n",
       "      <td>1014.000000</td>\n",
       "      <td>77.000000</td>\n",
       "      <td>576.000000</td>\n",
       "      <td>25.000000</td>\n",
       "      <td>1.0</td>\n",
       "      <td>19.000000</td>\n",
       "      <td>176.000000</td>\n",
       "      <td>177.000000</td>\n",
       "      <td>2450.000000</td>\n",
       "      <td>18.000000</td>\n",
       "      <td>2806.000000</td>\n",
       "      <td>2248.000000</td>\n",
       "    </tr>\n",
       "    <tr>\n",
       "      <th>mean</th>\n",
       "      <td>1624.383509</td>\n",
       "      <td>39.242063</td>\n",
       "      <td>253.045455</td>\n",
       "      <td>113.879045</td>\n",
       "      <td>104.394477</td>\n",
       "      <td>107.025974</td>\n",
       "      <td>118.925347</td>\n",
       "      <td>305.600000</td>\n",
       "      <td>49.0</td>\n",
       "      <td>76.315789</td>\n",
       "      <td>83.284091</td>\n",
       "      <td>76.819209</td>\n",
       "      <td>260.471020</td>\n",
       "      <td>181.111111</td>\n",
       "      <td>170.284747</td>\n",
       "      <td>160.513345</td>\n",
       "    </tr>\n",
       "    <tr>\n",
       "      <th>std</th>\n",
       "      <td>933.337642</td>\n",
       "      <td>18.277654</td>\n",
       "      <td>21.180578</td>\n",
       "      <td>75.483494</td>\n",
       "      <td>48.184126</td>\n",
       "      <td>81.790646</td>\n",
       "      <td>72.057776</td>\n",
       "      <td>191.022904</td>\n",
       "      <td>NaN</td>\n",
       "      <td>21.720581</td>\n",
       "      <td>26.060347</td>\n",
       "      <td>59.655365</td>\n",
       "      <td>120.649269</td>\n",
       "      <td>46.088009</td>\n",
       "      <td>65.868652</td>\n",
       "      <td>51.765319</td>\n",
       "    </tr>\n",
       "    <tr>\n",
       "      <th>min</th>\n",
       "      <td>1.000000</td>\n",
       "      <td>10.000000</td>\n",
       "      <td>228.000000</td>\n",
       "      <td>6.000000</td>\n",
       "      <td>12.000000</td>\n",
       "      <td>11.000000</td>\n",
       "      <td>17.000000</td>\n",
       "      <td>47.000000</td>\n",
       "      <td>49.0</td>\n",
       "      <td>63.000000</td>\n",
       "      <td>24.000000</td>\n",
       "      <td>8.000000</td>\n",
       "      <td>53.000000</td>\n",
       "      <td>151.000000</td>\n",
       "      <td>16.000000</td>\n",
       "      <td>1.000000</td>\n",
       "    </tr>\n",
       "    <tr>\n",
       "      <th>25%</th>\n",
       "      <td>816.000000</td>\n",
       "      <td>27.000000</td>\n",
       "      <td>242.000000</td>\n",
       "      <td>58.000000</td>\n",
       "      <td>72.000000</td>\n",
       "      <td>70.000000</td>\n",
       "      <td>69.750000</td>\n",
       "      <td>155.000000</td>\n",
       "      <td>49.0</td>\n",
       "      <td>66.000000</td>\n",
       "      <td>64.000000</td>\n",
       "      <td>25.000000</td>\n",
       "      <td>204.000000</td>\n",
       "      <td>153.250000</td>\n",
       "      <td>119.000000</td>\n",
       "      <td>105.000000</td>\n",
       "    </tr>\n",
       "    <tr>\n",
       "      <th>50%</th>\n",
       "      <td>1622.000000</td>\n",
       "      <td>31.000000</td>\n",
       "      <td>251.500000</td>\n",
       "      <td>97.500000</td>\n",
       "      <td>102.000000</td>\n",
       "      <td>86.000000</td>\n",
       "      <td>100.000000</td>\n",
       "      <td>298.000000</td>\n",
       "      <td>49.0</td>\n",
       "      <td>68.000000</td>\n",
       "      <td>86.500000</td>\n",
       "      <td>64.000000</td>\n",
       "      <td>208.000000</td>\n",
       "      <td>155.500000</td>\n",
       "      <td>151.000000</td>\n",
       "      <td>160.000000</td>\n",
       "    </tr>\n",
       "    <tr>\n",
       "      <th>75%</th>\n",
       "      <td>2431.000000</td>\n",
       "      <td>46.000000</td>\n",
       "      <td>257.750000</td>\n",
       "      <td>152.000000</td>\n",
       "      <td>133.000000</td>\n",
       "      <td>132.000000</td>\n",
       "      <td>157.000000</td>\n",
       "      <td>406.000000</td>\n",
       "      <td>49.0</td>\n",
       "      <td>70.500000</td>\n",
       "      <td>102.000000</td>\n",
       "      <td>106.000000</td>\n",
       "      <td>316.000000</td>\n",
       "      <td>203.500000</td>\n",
       "      <td>205.750000</td>\n",
       "      <td>205.000000</td>\n",
       "    </tr>\n",
       "    <tr>\n",
       "      <th>max</th>\n",
       "      <td>3241.000000</td>\n",
       "      <td>185.000000</td>\n",
       "      <td>325.000000</td>\n",
       "      <td>454.000000</td>\n",
       "      <td>281.000000</td>\n",
       "      <td>603.000000</td>\n",
       "      <td>503.000000</td>\n",
       "      <td>772.000000</td>\n",
       "      <td>49.0</td>\n",
       "      <td>147.000000</td>\n",
       "      <td>159.000000</td>\n",
       "      <td>313.000000</td>\n",
       "      <td>1849.000000</td>\n",
       "      <td>305.000000</td>\n",
       "      <td>636.000000</td>\n",
       "      <td>405.000000</td>\n",
       "    </tr>\n",
       "  </tbody>\n",
       "</table>\n",
       "</div>"
      ],
      "text/plain": [
       "               key      Bulk 1      Bulk 2       Bulk 3       Bulk 4  \\\n",
       "count  3129.000000  252.000000   22.000000  1298.000000  1014.000000   \n",
       "mean   1624.383509   39.242063  253.045455   113.879045   104.394477   \n",
       "std     933.337642   18.277654   21.180578    75.483494    48.184126   \n",
       "min       1.000000   10.000000  228.000000     6.000000    12.000000   \n",
       "25%     816.000000   27.000000  242.000000    58.000000    72.000000   \n",
       "50%    1622.000000   31.000000  251.500000    97.500000   102.000000   \n",
       "75%    2431.000000   46.000000  257.750000   152.000000   133.000000   \n",
       "max    3241.000000  185.000000  325.000000   454.000000   281.000000   \n",
       "\n",
       "           Bulk 5      Bulk 6      Bulk 7  Bulk 8      Bulk 9     Bulk 10  \\\n",
       "count   77.000000  576.000000   25.000000     1.0   19.000000  176.000000   \n",
       "mean   107.025974  118.925347  305.600000    49.0   76.315789   83.284091   \n",
       "std     81.790646   72.057776  191.022904     NaN   21.720581   26.060347   \n",
       "min     11.000000   17.000000   47.000000    49.0   63.000000   24.000000   \n",
       "25%     70.000000   69.750000  155.000000    49.0   66.000000   64.000000   \n",
       "50%     86.000000  100.000000  298.000000    49.0   68.000000   86.500000   \n",
       "75%    132.000000  157.000000  406.000000    49.0   70.500000  102.000000   \n",
       "max    603.000000  503.000000  772.000000    49.0  147.000000  159.000000   \n",
       "\n",
       "          Bulk 11      Bulk 12     Bulk 13      Bulk 14      Bulk 15  \n",
       "count  177.000000  2450.000000   18.000000  2806.000000  2248.000000  \n",
       "mean    76.819209   260.471020  181.111111   170.284747   160.513345  \n",
       "std     59.655365   120.649269   46.088009    65.868652    51.765319  \n",
       "min      8.000000    53.000000  151.000000    16.000000     1.000000  \n",
       "25%     25.000000   204.000000  153.250000   119.000000   105.000000  \n",
       "50%     64.000000   208.000000  155.500000   151.000000   160.000000  \n",
       "75%    106.000000   316.000000  203.500000   205.750000   205.000000  \n",
       "max    313.000000  1849.000000  305.000000   636.000000   405.000000  "
      ]
     },
     "execution_count": 304,
     "metadata": {},
     "output_type": "execute_result"
    }
   ],
   "source": [
    "data_bulk.describe()"
   ]
  },
  {
   "cell_type": "code",
   "execution_count": 305,
   "metadata": {},
   "outputs": [
    {
     "data": {
      "text/html": [
       "<div>\n",
       "<style scoped>\n",
       "    .dataframe tbody tr th:only-of-type {\n",
       "        vertical-align: middle;\n",
       "    }\n",
       "\n",
       "    .dataframe tbody tr th {\n",
       "        vertical-align: top;\n",
       "    }\n",
       "\n",
       "    .dataframe thead th {\n",
       "        text-align: right;\n",
       "    }\n",
       "</style>\n",
       "<table border=\"1\" class=\"dataframe\">\n",
       "  <thead>\n",
       "    <tr style=\"text-align: right;\">\n",
       "      <th></th>\n",
       "      <th>key</th>\n",
       "      <th>Bulk 1</th>\n",
       "      <th>Bulk 2</th>\n",
       "      <th>Bulk 3</th>\n",
       "      <th>Bulk 4</th>\n",
       "      <th>Bulk 5</th>\n",
       "      <th>Bulk 6</th>\n",
       "      <th>Bulk 7</th>\n",
       "      <th>Bulk 8</th>\n",
       "      <th>Bulk 9</th>\n",
       "      <th>Bulk 10</th>\n",
       "      <th>Bulk 11</th>\n",
       "      <th>Bulk 12</th>\n",
       "      <th>Bulk 13</th>\n",
       "      <th>Bulk 14</th>\n",
       "      <th>Bulk 15</th>\n",
       "    </tr>\n",
       "  </thead>\n",
       "  <tbody>\n",
       "    <tr>\n",
       "      <th>2080</th>\n",
       "      <td>2152</td>\n",
       "      <td>NaN</td>\n",
       "      <td>NaN</td>\n",
       "      <td>NaN</td>\n",
       "      <td>193.0</td>\n",
       "      <td>NaN</td>\n",
       "      <td>NaN</td>\n",
       "      <td>NaN</td>\n",
       "      <td>NaN</td>\n",
       "      <td>NaN</td>\n",
       "      <td>NaN</td>\n",
       "      <td>NaN</td>\n",
       "      <td>290.0</td>\n",
       "      <td>NaN</td>\n",
       "      <td>198.0</td>\n",
       "      <td>161.0</td>\n",
       "    </tr>\n",
       "    <tr>\n",
       "      <th>2633</th>\n",
       "      <td>2732</td>\n",
       "      <td>28.0</td>\n",
       "      <td>NaN</td>\n",
       "      <td>NaN</td>\n",
       "      <td>218.0</td>\n",
       "      <td>NaN</td>\n",
       "      <td>NaN</td>\n",
       "      <td>NaN</td>\n",
       "      <td>NaN</td>\n",
       "      <td>NaN</td>\n",
       "      <td>NaN</td>\n",
       "      <td>NaN</td>\n",
       "      <td>160.0</td>\n",
       "      <td>NaN</td>\n",
       "      <td>98.0</td>\n",
       "      <td>104.0</td>\n",
       "    </tr>\n",
       "    <tr>\n",
       "      <th>361</th>\n",
       "      <td>387</td>\n",
       "      <td>NaN</td>\n",
       "      <td>NaN</td>\n",
       "      <td>152.0</td>\n",
       "      <td>NaN</td>\n",
       "      <td>NaN</td>\n",
       "      <td>NaN</td>\n",
       "      <td>NaN</td>\n",
       "      <td>NaN</td>\n",
       "      <td>NaN</td>\n",
       "      <td>NaN</td>\n",
       "      <td>NaN</td>\n",
       "      <td>156.0</td>\n",
       "      <td>NaN</td>\n",
       "      <td>140.0</td>\n",
       "      <td>NaN</td>\n",
       "    </tr>\n",
       "    <tr>\n",
       "      <th>541</th>\n",
       "      <td>570</td>\n",
       "      <td>NaN</td>\n",
       "      <td>NaN</td>\n",
       "      <td>65.0</td>\n",
       "      <td>NaN</td>\n",
       "      <td>NaN</td>\n",
       "      <td>NaN</td>\n",
       "      <td>NaN</td>\n",
       "      <td>NaN</td>\n",
       "      <td>NaN</td>\n",
       "      <td>NaN</td>\n",
       "      <td>NaN</td>\n",
       "      <td>NaN</td>\n",
       "      <td>NaN</td>\n",
       "      <td>245.0</td>\n",
       "      <td>NaN</td>\n",
       "    </tr>\n",
       "    <tr>\n",
       "      <th>906</th>\n",
       "      <td>945</td>\n",
       "      <td>NaN</td>\n",
       "      <td>NaN</td>\n",
       "      <td>128.0</td>\n",
       "      <td>NaN</td>\n",
       "      <td>NaN</td>\n",
       "      <td>156.0</td>\n",
       "      <td>NaN</td>\n",
       "      <td>NaN</td>\n",
       "      <td>NaN</td>\n",
       "      <td>NaN</td>\n",
       "      <td>NaN</td>\n",
       "      <td>107.0</td>\n",
       "      <td>NaN</td>\n",
       "      <td>210.0</td>\n",
       "      <td>102.0</td>\n",
       "    </tr>\n",
       "  </tbody>\n",
       "</table>\n",
       "</div>"
      ],
      "text/plain": [
       "       key  Bulk 1  Bulk 2  Bulk 3  Bulk 4  Bulk 5  Bulk 6  Bulk 7  Bulk 8  \\\n",
       "2080  2152     NaN     NaN     NaN   193.0     NaN     NaN     NaN     NaN   \n",
       "2633  2732    28.0     NaN     NaN   218.0     NaN     NaN     NaN     NaN   \n",
       "361    387     NaN     NaN   152.0     NaN     NaN     NaN     NaN     NaN   \n",
       "541    570     NaN     NaN    65.0     NaN     NaN     NaN     NaN     NaN   \n",
       "906    945     NaN     NaN   128.0     NaN     NaN   156.0     NaN     NaN   \n",
       "\n",
       "      Bulk 9  Bulk 10  Bulk 11  Bulk 12  Bulk 13  Bulk 14  Bulk 15  \n",
       "2080     NaN      NaN      NaN    290.0      NaN    198.0    161.0  \n",
       "2633     NaN      NaN      NaN    160.0      NaN     98.0    104.0  \n",
       "361      NaN      NaN      NaN    156.0      NaN    140.0      NaN  \n",
       "541      NaN      NaN      NaN      NaN      NaN    245.0      NaN  \n",
       "906      NaN      NaN      NaN    107.0      NaN    210.0    102.0  "
      ]
     },
     "execution_count": 305,
     "metadata": {},
     "output_type": "execute_result"
    }
   ],
   "source": [
    "data_bulk.sample(5)"
   ]
  },
  {
   "cell_type": "code",
   "execution_count": 306,
   "metadata": {},
   "outputs": [
    {
     "data": {
      "text/plain": [
       "Bulk 1\n",
       "27.0     75\n",
       "46.0     30\n",
       "48.0     16\n",
       "44.0     16\n",
       "31.0     14\n",
       "28.0     11\n",
       "54.0     10\n",
       "34.0      6\n",
       "29.0      6\n",
       "26.0      5\n",
       "22.0      5\n",
       "30.0      5\n",
       "38.0      5\n",
       "62.0      3\n",
       "52.0      3\n",
       "73.0      3\n",
       "39.0      2\n",
       "37.0      2\n",
       "50.0      2\n",
       "92.0      2\n",
       "36.0      2\n",
       "16.0      2\n",
       "24.0      2\n",
       "43.0      2\n",
       "32.0      1\n",
       "19.0      1\n",
       "104.0     1\n",
       "69.0      1\n",
       "74.0      1\n",
       "118.0     1\n",
       "47.0      1\n",
       "78.0      1\n",
       "21.0      1\n",
       "67.0      1\n",
       "63.0      1\n",
       "51.0      1\n",
       "58.0      1\n",
       "83.0      1\n",
       "33.0      1\n",
       "60.0      1\n",
       "65.0      1\n",
       "90.0      1\n",
       "75.0      1\n",
       "94.0      1\n",
       "185.0     1\n",
       "10.0      1\n",
       "41.0      1\n",
       "Name: count, dtype: int64"
      ]
     },
     "execution_count": 306,
     "metadata": {},
     "output_type": "execute_result"
    }
   ],
   "source": [
    "data_bulk['Bulk 1'].value_counts()"
   ]
  },
  {
   "cell_type": "code",
   "execution_count": 174,
   "metadata": {},
   "outputs": [],
   "source": [
    "data_bulk = data_bulk.fillna(0)\n",
    "data_bulk = data_bulk.astype(int)"
   ]
  },
  {
   "cell_type": "code",
   "execution_count": 175,
   "metadata": {},
   "outputs": [
    {
     "name": "stdout",
     "output_type": "stream",
     "text": [
      "<class 'pandas.core.frame.DataFrame'>\n",
      "RangeIndex: 3129 entries, 0 to 3128\n",
      "Data columns (total 16 columns):\n",
      " #   Column   Non-Null Count  Dtype\n",
      "---  ------   --------------  -----\n",
      " 0   key      3129 non-null   int64\n",
      " 1   Bulk 1   3129 non-null   int64\n",
      " 2   Bulk 2   3129 non-null   int64\n",
      " 3   Bulk 3   3129 non-null   int64\n",
      " 4   Bulk 4   3129 non-null   int64\n",
      " 5   Bulk 5   3129 non-null   int64\n",
      " 6   Bulk 6   3129 non-null   int64\n",
      " 7   Bulk 7   3129 non-null   int64\n",
      " 8   Bulk 8   3129 non-null   int64\n",
      " 9   Bulk 9   3129 non-null   int64\n",
      " 10  Bulk 10  3129 non-null   int64\n",
      " 11  Bulk 11  3129 non-null   int64\n",
      " 12  Bulk 12  3129 non-null   int64\n",
      " 13  Bulk 13  3129 non-null   int64\n",
      " 14  Bulk 14  3129 non-null   int64\n",
      " 15  Bulk 15  3129 non-null   int64\n",
      "dtypes: int64(16)\n",
      "memory usage: 391.2 KB\n"
     ]
    }
   ],
   "source": [
    "data_bulk.info()"
   ]
  },
  {
   "cell_type": "code",
   "execution_count": 176,
   "metadata": {},
   "outputs": [
    {
     "data": {
      "text/plain": [
       "0"
      ]
     },
     "execution_count": 176,
     "metadata": {},
     "output_type": "execute_result"
    }
   ],
   "source": [
    "data_bulk.duplicated().sum()"
   ]
  },
  {
   "cell_type": "code",
   "execution_count": 312,
   "metadata": {},
   "outputs": [],
   "source": [
    "bulk_columns = [col for col in data_bulk.columns if \"Bulk \" in col]"
   ]
  },
  {
   "cell_type": "code",
   "execution_count": 315,
   "metadata": {},
   "outputs": [
    {
     "data": {
      "image/png": "[encoded data removed]",
      "text/plain": [
       "<Figure size 1500x500 with 1 Axes>"
      ]
     },
     "metadata": {},
     "output_type": "display_data"
    }
   ],
   "source": [
    "plt.figure(figsize=(15, 5))\n",
    "sns.boxplot(data=data_bulk[bulk_columns], orient='h', palette='Set1')\n",
    "plt.title('Boxplot для каждого сыпучего материала')\n",
    "plt.ylabel('Объем')\n",
    "plt.show()"
   ]
  },
  {
   "cell_type": "code",
   "execution_count": 318,
   "metadata": {},
   "outputs": [
    {
     "data": {
      "image/png": "[encoded data removed]",
      "text/plain": [
       "<Figure size 1200x300 with 1 Axes>"
      ]
     },
     "metadata": {},
     "output_type": "display_data"
    }
   ],
   "source": [
    "plt.figure(figsize=(12, 3))\n",
    "data_bulk['Bulk 12'].hist(bins=30, color='royalblue')\n",
    "plt.title(f'Распределение объема для Bulk 12')\n",
    "plt.xlabel('Объем')\n",
    "plt.ylabel('Количество')\n",
    "plt.grid(True)\n",
    "plt.show()"
   ]
  },
  {
   "cell_type": "markdown",
   "metadata": {},
   "source": [
    "## Данные о времени подачи сыпучих материалов"
   ]
  },
  {
   "cell_type": "markdown",
   "metadata": {},
   "source": [
    "Таблица steel.data_bulk_time\n",
    "* key — номер партии;\n",
    "* Bulk1 … Bulk15 — время подачи материала."
   ]
  },
  {
   "cell_type": "code",
   "execution_count": 177,
   "metadata": {},
   "outputs": [
    {
     "name": "stdout",
     "output_type": "stream",
     "text": [
      "<class 'pandas.core.frame.DataFrame'>\n",
      "RangeIndex: 3129 entries, 0 to 3128\n",
      "Data columns (total 16 columns):\n",
      " #   Column   Non-Null Count  Dtype \n",
      "---  ------   --------------  ----- \n",
      " 0   key      3129 non-null   int64 \n",
      " 1   Bulk 1   252 non-null    object\n",
      " 2   Bulk 2   22 non-null     object\n",
      " 3   Bulk 3   1298 non-null   object\n",
      " 4   Bulk 4   1014 non-null   object\n",
      " 5   Bulk 5   77 non-null     object\n",
      " 6   Bulk 6   576 non-null    object\n",
      " 7   Bulk 7   25 non-null     object\n",
      " 8   Bulk 8   1 non-null      object\n",
      " 9   Bulk 9   19 non-null     object\n",
      " 10  Bulk 10  176 non-null    object\n",
      " 11  Bulk 11  177 non-null    object\n",
      " 12  Bulk 12  2450 non-null   object\n",
      " 13  Bulk 13  18 non-null     object\n",
      " 14  Bulk 14  2806 non-null   object\n",
      " 15  Bulk 15  2248 non-null   object\n",
      "dtypes: int64(1), object(15)\n",
      "memory usage: 391.2+ KB\n"
     ]
    }
   ],
   "source": [
    "data_bulk_time.info()"
   ]
  },
  {
   "cell_type": "code",
   "execution_count": 178,
   "metadata": {},
   "outputs": [
    {
     "data": {
      "text/html": [
       "<div>\n",
       "<style scoped>\n",
       "    .dataframe tbody tr th:only-of-type {\n",
       "        vertical-align: middle;\n",
       "    }\n",
       "\n",
       "    .dataframe tbody tr th {\n",
       "        vertical-align: top;\n",
       "    }\n",
       "\n",
       "    .dataframe thead th {\n",
       "        text-align: right;\n",
       "    }\n",
       "</style>\n",
       "<table border=\"1\" class=\"dataframe\">\n",
       "  <thead>\n",
       "    <tr style=\"text-align: right;\">\n",
       "      <th></th>\n",
       "      <th>key</th>\n",
       "    </tr>\n",
       "  </thead>\n",
       "  <tbody>\n",
       "    <tr>\n",
       "      <th>count</th>\n",
       "      <td>3129.000000</td>\n",
       "    </tr>\n",
       "    <tr>\n",
       "      <th>mean</th>\n",
       "      <td>1624.383509</td>\n",
       "    </tr>\n",
       "    <tr>\n",
       "      <th>std</th>\n",
       "      <td>933.337642</td>\n",
       "    </tr>\n",
       "    <tr>\n",
       "      <th>min</th>\n",
       "      <td>1.000000</td>\n",
       "    </tr>\n",
       "    <tr>\n",
       "      <th>25%</th>\n",
       "      <td>816.000000</td>\n",
       "    </tr>\n",
       "    <tr>\n",
       "      <th>50%</th>\n",
       "      <td>1622.000000</td>\n",
       "    </tr>\n",
       "    <tr>\n",
       "      <th>75%</th>\n",
       "      <td>2431.000000</td>\n",
       "    </tr>\n",
       "    <tr>\n",
       "      <th>max</th>\n",
       "      <td>3241.000000</td>\n",
       "    </tr>\n",
       "  </tbody>\n",
       "</table>\n",
       "</div>"
      ],
      "text/plain": [
       "               key\n",
       "count  3129.000000\n",
       "mean   1624.383509\n",
       "std     933.337642\n",
       "min       1.000000\n",
       "25%     816.000000\n",
       "50%    1622.000000\n",
       "75%    2431.000000\n",
       "max    3241.000000"
      ]
     },
     "execution_count": 178,
     "metadata": {},
     "output_type": "execute_result"
    }
   ],
   "source": [
    "data_bulk_time.describe()"
   ]
  },
  {
   "cell_type": "code",
   "execution_count": 179,
   "metadata": {},
   "outputs": [
    {
     "data": {
      "text/html": [
       "<div>\n",
       "<style scoped>\n",
       "    .dataframe tbody tr th:only-of-type {\n",
       "        vertical-align: middle;\n",
       "    }\n",
       "\n",
       "    .dataframe tbody tr th {\n",
       "        vertical-align: top;\n",
       "    }\n",
       "\n",
       "    .dataframe thead th {\n",
       "        text-align: right;\n",
       "    }\n",
       "</style>\n",
       "<table border=\"1\" class=\"dataframe\">\n",
       "  <thead>\n",
       "    <tr style=\"text-align: right;\">\n",
       "      <th></th>\n",
       "      <th>key</th>\n",
       "      <th>Bulk 1</th>\n",
       "      <th>Bulk 2</th>\n",
       "      <th>Bulk 3</th>\n",
       "      <th>Bulk 4</th>\n",
       "      <th>Bulk 5</th>\n",
       "      <th>Bulk 6</th>\n",
       "      <th>Bulk 7</th>\n",
       "      <th>Bulk 8</th>\n",
       "      <th>Bulk 9</th>\n",
       "      <th>Bulk 10</th>\n",
       "      <th>Bulk 11</th>\n",
       "      <th>Bulk 12</th>\n",
       "      <th>Bulk 13</th>\n",
       "      <th>Bulk 14</th>\n",
       "      <th>Bulk 15</th>\n",
       "    </tr>\n",
       "  </thead>\n",
       "  <tbody>\n",
       "    <tr>\n",
       "      <th>819</th>\n",
       "      <td>851</td>\n",
       "      <td>None</td>\n",
       "      <td>None</td>\n",
       "      <td>None</td>\n",
       "      <td>00:20:14</td>\n",
       "      <td>None</td>\n",
       "      <td>None</td>\n",
       "      <td>None</td>\n",
       "      <td>None</td>\n",
       "      <td>None</td>\n",
       "      <td>None</td>\n",
       "      <td>None</td>\n",
       "      <td>00:12:40</td>\n",
       "      <td>None</td>\n",
       "      <td>00:12:40</td>\n",
       "      <td>00:12:40</td>\n",
       "    </tr>\n",
       "    <tr>\n",
       "      <th>367</th>\n",
       "      <td>392</td>\n",
       "      <td>None</td>\n",
       "      <td>None</td>\n",
       "      <td>None</td>\n",
       "      <td>03:08:46</td>\n",
       "      <td>None</td>\n",
       "      <td>None</td>\n",
       "      <td>None</td>\n",
       "      <td>None</td>\n",
       "      <td>None</td>\n",
       "      <td>None</td>\n",
       "      <td>None</td>\n",
       "      <td>03:03:35</td>\n",
       "      <td>None</td>\n",
       "      <td>03:03:35</td>\n",
       "      <td>03:03:35</td>\n",
       "    </tr>\n",
       "    <tr>\n",
       "      <th>1150</th>\n",
       "      <td>1196</td>\n",
       "      <td>16:02:39</td>\n",
       "      <td>None</td>\n",
       "      <td>16:18:52</td>\n",
       "      <td>16:18:52</td>\n",
       "      <td>None</td>\n",
       "      <td>None</td>\n",
       "      <td>None</td>\n",
       "      <td>None</td>\n",
       "      <td>None</td>\n",
       "      <td>None</td>\n",
       "      <td>None</td>\n",
       "      <td>15:57:36</td>\n",
       "      <td>None</td>\n",
       "      <td>15:57:36</td>\n",
       "      <td>15:57:36</td>\n",
       "    </tr>\n",
       "    <tr>\n",
       "      <th>930</th>\n",
       "      <td>970</td>\n",
       "      <td>None</td>\n",
       "      <td>None</td>\n",
       "      <td>None</td>\n",
       "      <td>None</td>\n",
       "      <td>None</td>\n",
       "      <td>None</td>\n",
       "      <td>None</td>\n",
       "      <td>None</td>\n",
       "      <td>None</td>\n",
       "      <td>None</td>\n",
       "      <td>None</td>\n",
       "      <td>01:40:39</td>\n",
       "      <td>None</td>\n",
       "      <td>01:40:39</td>\n",
       "      <td>01:40:39</td>\n",
       "    </tr>\n",
       "    <tr>\n",
       "      <th>644</th>\n",
       "      <td>672</td>\n",
       "      <td>None</td>\n",
       "      <td>None</td>\n",
       "      <td>None</td>\n",
       "      <td>04:38:42</td>\n",
       "      <td>None</td>\n",
       "      <td>None</td>\n",
       "      <td>None</td>\n",
       "      <td>None</td>\n",
       "      <td>None</td>\n",
       "      <td>None</td>\n",
       "      <td>None</td>\n",
       "      <td>04:32:14</td>\n",
       "      <td>None</td>\n",
       "      <td>04:32:14</td>\n",
       "      <td>04:32:14</td>\n",
       "    </tr>\n",
       "  </tbody>\n",
       "</table>\n",
       "</div>"
      ],
      "text/plain": [
       "       key    Bulk 1 Bulk 2    Bulk 3    Bulk 4 Bulk 5 Bulk 6 Bulk 7 Bulk 8  \\\n",
       "819    851      None   None      None  00:20:14   None   None   None   None   \n",
       "367    392      None   None      None  03:08:46   None   None   None   None   \n",
       "1150  1196  16:02:39   None  16:18:52  16:18:52   None   None   None   None   \n",
       "930    970      None   None      None      None   None   None   None   None   \n",
       "644    672      None   None      None  04:38:42   None   None   None   None   \n",
       "\n",
       "     Bulk 9 Bulk 10 Bulk 11   Bulk 12 Bulk 13   Bulk 14   Bulk 15  \n",
       "819    None    None    None  00:12:40    None  00:12:40  00:12:40  \n",
       "367    None    None    None  03:03:35    None  03:03:35  03:03:35  \n",
       "1150   None    None    None  15:57:36    None  15:57:36  15:57:36  \n",
       "930    None    None    None  01:40:39    None  01:40:39  01:40:39  \n",
       "644    None    None    None  04:32:14    None  04:32:14  04:32:14  "
      ]
     },
     "execution_count": 179,
     "metadata": {},
     "output_type": "execute_result"
    }
   ],
   "source": [
    "data_bulk_time.sample(5)"
   ]
  },
  {
   "cell_type": "code",
   "execution_count": 180,
   "metadata": {},
   "outputs": [],
   "source": [
    "data_bulk_time = data_bulk_time.fillna('00:00:00')\n",
    "for i in range(1,16):\n",
    "    data_bulk_time[f\"Bulk {i}\"] = pd.to_datetime(data_bulk_time[f\"Bulk {i}\"], format='%H:%M:%S').dt.time"
   ]
  },
  {
   "cell_type": "code",
   "execution_count": 181,
   "metadata": {},
   "outputs": [
    {
     "name": "stdout",
     "output_type": "stream",
     "text": [
      "<class 'pandas.core.frame.DataFrame'>\n",
      "RangeIndex: 3129 entries, 0 to 3128\n",
      "Data columns (total 16 columns):\n",
      " #   Column   Non-Null Count  Dtype \n",
      "---  ------   --------------  ----- \n",
      " 0   key      3129 non-null   int64 \n",
      " 1   Bulk 1   3129 non-null   object\n",
      " 2   Bulk 2   3129 non-null   object\n",
      " 3   Bulk 3   3129 non-null   object\n",
      " 4   Bulk 4   3129 non-null   object\n",
      " 5   Bulk 5   3129 non-null   object\n",
      " 6   Bulk 6   3129 non-null   object\n",
      " 7   Bulk 7   3129 non-null   object\n",
      " 8   Bulk 8   3129 non-null   object\n",
      " 9   Bulk 9   3129 non-null   object\n",
      " 10  Bulk 10  3129 non-null   object\n",
      " 11  Bulk 11  3129 non-null   object\n",
      " 12  Bulk 12  3129 non-null   object\n",
      " 13  Bulk 13  3129 non-null   object\n",
      " 14  Bulk 14  3129 non-null   object\n",
      " 15  Bulk 15  3129 non-null   object\n",
      "dtypes: int64(1), object(15)\n",
      "memory usage: 391.2+ KB\n"
     ]
    }
   ],
   "source": [
    "data_bulk_time.info()"
   ]
  },
  {
   "cell_type": "code",
   "execution_count": 182,
   "metadata": {},
   "outputs": [
    {
     "data": {
      "text/plain": [
       "0"
      ]
     },
     "execution_count": 182,
     "metadata": {},
     "output_type": "execute_result"
    }
   ],
   "source": [
    "data_bulk_time.duplicated().sum()"
   ]
  },
  {
   "cell_type": "markdown",
   "metadata": {},
   "source": [
    "## Данные о продувке сплава газом"
   ]
  },
  {
   "cell_type": "markdown",
   "metadata": {},
   "source": [
    "Таблица steel.data_gas\n",
    "* key — номер партии;\n",
    "* gas — объём подаваемого газа."
   ]
  },
  {
   "cell_type": "code",
   "execution_count": 183,
   "metadata": {},
   "outputs": [
    {
     "name": "stdout",
     "output_type": "stream",
     "text": [
      "<class 'pandas.core.frame.DataFrame'>\n",
      "RangeIndex: 3239 entries, 0 to 3238\n",
      "Data columns (total 2 columns):\n",
      " #   Column  Non-Null Count  Dtype  \n",
      "---  ------  --------------  -----  \n",
      " 0   key     3239 non-null   int64  \n",
      " 1   gas     3239 non-null   float64\n",
      "dtypes: float64(1), int64(1)\n",
      "memory usage: 50.7 KB\n"
     ]
    }
   ],
   "source": [
    "data_gas.info()"
   ]
  },
  {
   "cell_type": "code",
   "execution_count": 184,
   "metadata": {},
   "outputs": [
    {
     "data": {
      "text/html": [
       "<div>\n",
       "<style scoped>\n",
       "    .dataframe tbody tr th:only-of-type {\n",
       "        vertical-align: middle;\n",
       "    }\n",
       "\n",
       "    .dataframe tbody tr th {\n",
       "        vertical-align: top;\n",
       "    }\n",
       "\n",
       "    .dataframe thead th {\n",
       "        text-align: right;\n",
       "    }\n",
       "</style>\n",
       "<table border=\"1\" class=\"dataframe\">\n",
       "  <thead>\n",
       "    <tr style=\"text-align: right;\">\n",
       "      <th></th>\n",
       "      <th>key</th>\n",
       "      <th>gas</th>\n",
       "    </tr>\n",
       "  </thead>\n",
       "  <tbody>\n",
       "    <tr>\n",
       "      <th>count</th>\n",
       "      <td>3239.000000</td>\n",
       "      <td>3239.000000</td>\n",
       "    </tr>\n",
       "    <tr>\n",
       "      <th>mean</th>\n",
       "      <td>1621.861377</td>\n",
       "      <td>11.002062</td>\n",
       "    </tr>\n",
       "    <tr>\n",
       "      <th>std</th>\n",
       "      <td>935.386334</td>\n",
       "      <td>6.220327</td>\n",
       "    </tr>\n",
       "    <tr>\n",
       "      <th>min</th>\n",
       "      <td>1.000000</td>\n",
       "      <td>0.008399</td>\n",
       "    </tr>\n",
       "    <tr>\n",
       "      <th>25%</th>\n",
       "      <td>812.500000</td>\n",
       "      <td>7.043089</td>\n",
       "    </tr>\n",
       "    <tr>\n",
       "      <th>50%</th>\n",
       "      <td>1622.000000</td>\n",
       "      <td>9.836267</td>\n",
       "    </tr>\n",
       "    <tr>\n",
       "      <th>75%</th>\n",
       "      <td>2431.500000</td>\n",
       "      <td>13.769915</td>\n",
       "    </tr>\n",
       "    <tr>\n",
       "      <th>max</th>\n",
       "      <td>3241.000000</td>\n",
       "      <td>77.995040</td>\n",
       "    </tr>\n",
       "  </tbody>\n",
       "</table>\n",
       "</div>"
      ],
      "text/plain": [
       "               key          gas\n",
       "count  3239.000000  3239.000000\n",
       "mean   1621.861377    11.002062\n",
       "std     935.386334     6.220327\n",
       "min       1.000000     0.008399\n",
       "25%     812.500000     7.043089\n",
       "50%    1622.000000     9.836267\n",
       "75%    2431.500000    13.769915\n",
       "max    3241.000000    77.995040"
      ]
     },
     "execution_count": 184,
     "metadata": {},
     "output_type": "execute_result"
    }
   ],
   "source": [
    "data_gas.describe()"
   ]
  },
  {
   "cell_type": "code",
   "execution_count": 185,
   "metadata": {},
   "outputs": [
    {
     "data": {
      "text/html": [
       "<div>\n",
       "<style scoped>\n",
       "    .dataframe tbody tr th:only-of-type {\n",
       "        vertical-align: middle;\n",
       "    }\n",
       "\n",
       "    .dataframe tbody tr th {\n",
       "        vertical-align: top;\n",
       "    }\n",
       "\n",
       "    .dataframe thead th {\n",
       "        text-align: right;\n",
       "    }\n",
       "</style>\n",
       "<table border=\"1\" class=\"dataframe\">\n",
       "  <thead>\n",
       "    <tr style=\"text-align: right;\">\n",
       "      <th></th>\n",
       "      <th>key</th>\n",
       "      <th>gas</th>\n",
       "    </tr>\n",
       "  </thead>\n",
       "  <tbody>\n",
       "    <tr>\n",
       "      <th>837</th>\n",
       "      <td>840</td>\n",
       "      <td>8.373110</td>\n",
       "    </tr>\n",
       "    <tr>\n",
       "      <th>665</th>\n",
       "      <td>668</td>\n",
       "      <td>10.562096</td>\n",
       "    </tr>\n",
       "    <tr>\n",
       "      <th>1854</th>\n",
       "      <td>1857</td>\n",
       "      <td>6.080227</td>\n",
       "    </tr>\n",
       "    <tr>\n",
       "      <th>1663</th>\n",
       "      <td>1666</td>\n",
       "      <td>21.026331</td>\n",
       "    </tr>\n",
       "    <tr>\n",
       "      <th>2807</th>\n",
       "      <td>2810</td>\n",
       "      <td>8.286403</td>\n",
       "    </tr>\n",
       "  </tbody>\n",
       "</table>\n",
       "</div>"
      ],
      "text/plain": [
       "       key        gas\n",
       "837    840   8.373110\n",
       "665    668  10.562096\n",
       "1854  1857   6.080227\n",
       "1663  1666  21.026331\n",
       "2807  2810   8.286403"
      ]
     },
     "execution_count": 185,
     "metadata": {},
     "output_type": "execute_result"
    }
   ],
   "source": [
    "data_gas.sample(5)"
   ]
  },
  {
   "cell_type": "code",
   "execution_count": 186,
   "metadata": {},
   "outputs": [
    {
     "data": {
      "text/plain": [
       "0"
      ]
     },
     "execution_count": 186,
     "metadata": {},
     "output_type": "execute_result"
    }
   ],
   "source": [
    "data_gas.duplicated().sum()"
   ]
  },
  {
   "cell_type": "markdown",
   "metadata": {},
   "source": [
    "## Данные об измерениях температуры"
   ]
  },
  {
   "cell_type": "markdown",
   "metadata": {},
   "source": [
    "Таблица steel.data_temp\n",
    "* key — номер партии;\n",
    "* MesaureTime — время замера;\n",
    "* Temperature — значение температуры."
   ]
  },
  {
   "cell_type": "code",
   "execution_count": 187,
   "metadata": {},
   "outputs": [
    {
     "name": "stdout",
     "output_type": "stream",
     "text": [
      "<class 'pandas.core.frame.DataFrame'>\n",
      "RangeIndex: 15907 entries, 0 to 15906\n",
      "Data columns (total 3 columns):\n",
      " #   Column       Non-Null Count  Dtype  \n",
      "---  ------       --------------  -----  \n",
      " 0   key          15907 non-null  int64  \n",
      " 1   MesaureTime  15907 non-null  object \n",
      " 2   Temperature  13006 non-null  float64\n",
      "dtypes: float64(1), int64(1), object(1)\n",
      "memory usage: 372.9+ KB\n"
     ]
    }
   ],
   "source": [
    "data_temp.info()"
   ]
  },
  {
   "cell_type": "code",
   "execution_count": 188,
   "metadata": {},
   "outputs": [
    {
     "data": {
      "text/html": [
       "<div>\n",
       "<style scoped>\n",
       "    .dataframe tbody tr th:only-of-type {\n",
       "        vertical-align: middle;\n",
       "    }\n",
       "\n",
       "    .dataframe tbody tr th {\n",
       "        vertical-align: top;\n",
       "    }\n",
       "\n",
       "    .dataframe thead th {\n",
       "        text-align: right;\n",
       "    }\n",
       "</style>\n",
       "<table border=\"1\" class=\"dataframe\">\n",
       "  <thead>\n",
       "    <tr style=\"text-align: right;\">\n",
       "      <th></th>\n",
       "      <th>key</th>\n",
       "      <th>Temperature</th>\n",
       "    </tr>\n",
       "  </thead>\n",
       "  <tbody>\n",
       "    <tr>\n",
       "      <th>count</th>\n",
       "      <td>15907.000000</td>\n",
       "      <td>13006.000000</td>\n",
       "    </tr>\n",
       "    <tr>\n",
       "      <th>mean</th>\n",
       "      <td>1607.880870</td>\n",
       "      <td>1591.840920</td>\n",
       "    </tr>\n",
       "    <tr>\n",
       "      <th>std</th>\n",
       "      <td>942.212073</td>\n",
       "      <td>21.375851</td>\n",
       "    </tr>\n",
       "    <tr>\n",
       "      <th>min</th>\n",
       "      <td>1.000000</td>\n",
       "      <td>1191.000000</td>\n",
       "    </tr>\n",
       "    <tr>\n",
       "      <th>25%</th>\n",
       "      <td>790.000000</td>\n",
       "      <td>1581.000000</td>\n",
       "    </tr>\n",
       "    <tr>\n",
       "      <th>50%</th>\n",
       "      <td>1618.000000</td>\n",
       "      <td>1591.000000</td>\n",
       "    </tr>\n",
       "    <tr>\n",
       "      <th>75%</th>\n",
       "      <td>2427.000000</td>\n",
       "      <td>1601.000000</td>\n",
       "    </tr>\n",
       "    <tr>\n",
       "      <th>max</th>\n",
       "      <td>3241.000000</td>\n",
       "      <td>1705.000000</td>\n",
       "    </tr>\n",
       "  </tbody>\n",
       "</table>\n",
       "</div>"
      ],
      "text/plain": [
       "                key   Temperature\n",
       "count  15907.000000  13006.000000\n",
       "mean    1607.880870   1591.840920\n",
       "std      942.212073     21.375851\n",
       "min        1.000000   1191.000000\n",
       "25%      790.000000   1581.000000\n",
       "50%     1618.000000   1591.000000\n",
       "75%     2427.000000   1601.000000\n",
       "max     3241.000000   1705.000000"
      ]
     },
     "execution_count": 188,
     "metadata": {},
     "output_type": "execute_result"
    }
   ],
   "source": [
    "data_temp.describe()"
   ]
  },
  {
   "cell_type": "code",
   "execution_count": 189,
   "metadata": {},
   "outputs": [
    {
     "data": {
      "text/html": [
       "<div>\n",
       "<style scoped>\n",
       "    .dataframe tbody tr th:only-of-type {\n",
       "        vertical-align: middle;\n",
       "    }\n",
       "\n",
       "    .dataframe tbody tr th {\n",
       "        vertical-align: top;\n",
       "    }\n",
       "\n",
       "    .dataframe thead th {\n",
       "        text-align: right;\n",
       "    }\n",
       "</style>\n",
       "<table border=\"1\" class=\"dataframe\">\n",
       "  <thead>\n",
       "    <tr style=\"text-align: right;\">\n",
       "      <th></th>\n",
       "      <th>key</th>\n",
       "      <th>MesaureTime</th>\n",
       "      <th>Temperature</th>\n",
       "    </tr>\n",
       "  </thead>\n",
       "  <tbody>\n",
       "    <tr>\n",
       "      <th>10263</th>\n",
       "      <td>2078</td>\n",
       "      <td>11:52:20</td>\n",
       "      <td>1588.0</td>\n",
       "    </tr>\n",
       "    <tr>\n",
       "      <th>1324</th>\n",
       "      <td>235</td>\n",
       "      <td>03:43:51</td>\n",
       "      <td>1593.0</td>\n",
       "    </tr>\n",
       "    <tr>\n",
       "      <th>1192</th>\n",
       "      <td>214</td>\n",
       "      <td>04:52:11</td>\n",
       "      <td>1619.0</td>\n",
       "    </tr>\n",
       "    <tr>\n",
       "      <th>15876</th>\n",
       "      <td>3236</td>\n",
       "      <td>22:25:38</td>\n",
       "      <td>NaN</td>\n",
       "    </tr>\n",
       "    <tr>\n",
       "      <th>5840</th>\n",
       "      <td>1186</td>\n",
       "      <td>09:21:23</td>\n",
       "      <td>1572.0</td>\n",
       "    </tr>\n",
       "  </tbody>\n",
       "</table>\n",
       "</div>"
      ],
      "text/plain": [
       "        key MesaureTime  Temperature\n",
       "10263  2078    11:52:20       1588.0\n",
       "1324    235    03:43:51       1593.0\n",
       "1192    214    04:52:11       1619.0\n",
       "15876  3236    22:25:38          NaN\n",
       "5840   1186    09:21:23       1572.0"
      ]
     },
     "execution_count": 189,
     "metadata": {},
     "output_type": "execute_result"
    }
   ],
   "source": [
    "data_temp.sample(5)"
   ]
  },
  {
   "cell_type": "code",
   "execution_count": 190,
   "metadata": {},
   "outputs": [],
   "source": [
    "data_temp[\"MesaureTime\"] = pd.to_datetime(data_temp[\"MesaureTime\"], format='%H:%M:%S').dt.time"
   ]
  },
  {
   "cell_type": "code",
   "execution_count": 191,
   "metadata": {},
   "outputs": [
    {
     "name": "stderr",
     "output_type": "stream",
     "text": [
      "/Users/vs/anaconda3/lib/python3.11/site-packages/seaborn/_oldcore.py:1119: FutureWarning: use_inf_as_na option is deprecated and will be removed in a future version. Convert inf values to NaN before operating instead.\n",
      "  with pd.option_context('mode.use_inf_as_na', True):\n"
     ]
    },
    {
     "data": {
      "image/png": "[encoded data removed]",
      "text/plain": [
       "<Figure size 1200x300 with 1 Axes>"
      ]
     },
     "metadata": {},
     "output_type": "display_data"
    }
   ],
   "source": [
    "plt.figure(figsize=(12, 3))\n",
    "sns.kdeplot(data_temp['Temperature'], color='indianred', legend=True, fill=True)\n",
    "plt.xlabel('Temperature')\n",
    "plt.ylabel('Плотность распределения')\n",
    "plt.title('Распределение температуры', fontsize=15)\n",
    "plt.grid();"
   ]
  },
  {
   "cell_type": "code",
   "execution_count": 192,
   "metadata": {},
   "outputs": [
    {
     "data": {
      "image/png": "[encoded data removed]",
      "text/plain": [
       "<Figure size 1200x300 with 1 Axes>"
      ]
     },
     "metadata": {},
     "output_type": "display_data"
    }
   ],
   "source": [
    "plt.figure(figsize=(12, 3))\n",
    "sns.boxplot(data=data_temp['Temperature'], orient='h', color='royalblue')\n",
    "plt.xlabel('Temperature')\n",
    "plt.title('Boxplot для температуры', fontsize=15)\n",
    "plt.grid()"
   ]
  },
  {
   "cell_type": "code",
   "execution_count": 193,
   "metadata": {},
   "outputs": [
    {
     "data": {
      "text/plain": [
       "0"
      ]
     },
     "execution_count": 193,
     "metadata": {},
     "output_type": "execute_result"
    }
   ],
   "source": [
    "data_temp.duplicated().sum()"
   ]
  },
  {
   "cell_type": "markdown",
   "metadata": {},
   "source": [
    "## Данные об объёме проволочных материалов"
   ]
  },
  {
   "cell_type": "markdown",
   "metadata": {},
   "source": [
    "Таблица steel.data_wire\n",
    "* key — номер партии;\n",
    "* Wire1 … Wire15 — объём подаваемых проволочных материалов."
   ]
  },
  {
   "cell_type": "code",
   "execution_count": 194,
   "metadata": {},
   "outputs": [
    {
     "name": "stdout",
     "output_type": "stream",
     "text": [
      "<class 'pandas.core.frame.DataFrame'>\n",
      "RangeIndex: 3081 entries, 0 to 3080\n",
      "Data columns (total 10 columns):\n",
      " #   Column  Non-Null Count  Dtype  \n",
      "---  ------  --------------  -----  \n",
      " 0   key     3081 non-null   int64  \n",
      " 1   Wire 1  3055 non-null   float64\n",
      " 2   Wire 2  1079 non-null   float64\n",
      " 3   Wire 3  63 non-null     float64\n",
      " 4   Wire 4  14 non-null     float64\n",
      " 5   Wire 5  1 non-null      float64\n",
      " 6   Wire 6  73 non-null     float64\n",
      " 7   Wire 7  11 non-null     float64\n",
      " 8   Wire 8  19 non-null     float64\n",
      " 9   Wire 9  29 non-null     float64\n",
      "dtypes: float64(9), int64(1)\n",
      "memory usage: 240.8 KB\n"
     ]
    }
   ],
   "source": [
    "data_wire.info()"
   ]
  },
  {
   "cell_type": "code",
   "execution_count": 195,
   "metadata": {},
   "outputs": [
    {
     "data": {
      "text/html": [
       "<div>\n",
       "<style scoped>\n",
       "    .dataframe tbody tr th:only-of-type {\n",
       "        vertical-align: middle;\n",
       "    }\n",
       "\n",
       "    .dataframe tbody tr th {\n",
       "        vertical-align: top;\n",
       "    }\n",
       "\n",
       "    .dataframe thead th {\n",
       "        text-align: right;\n",
       "    }\n",
       "</style>\n",
       "<table border=\"1\" class=\"dataframe\">\n",
       "  <thead>\n",
       "    <tr style=\"text-align: right;\">\n",
       "      <th></th>\n",
       "      <th>key</th>\n",
       "      <th>Wire 1</th>\n",
       "      <th>Wire 2</th>\n",
       "      <th>Wire 3</th>\n",
       "      <th>Wire 4</th>\n",
       "      <th>Wire 5</th>\n",
       "      <th>Wire 6</th>\n",
       "      <th>Wire 7</th>\n",
       "      <th>Wire 8</th>\n",
       "      <th>Wire 9</th>\n",
       "    </tr>\n",
       "  </thead>\n",
       "  <tbody>\n",
       "    <tr>\n",
       "      <th>count</th>\n",
       "      <td>3081.000000</td>\n",
       "      <td>3055.000000</td>\n",
       "      <td>1079.000000</td>\n",
       "      <td>63.000000</td>\n",
       "      <td>14.000000</td>\n",
       "      <td>1.000</td>\n",
       "      <td>73.000000</td>\n",
       "      <td>11.000000</td>\n",
       "      <td>19.000000</td>\n",
       "      <td>29.000000</td>\n",
       "    </tr>\n",
       "    <tr>\n",
       "      <th>mean</th>\n",
       "      <td>1623.426485</td>\n",
       "      <td>100.895853</td>\n",
       "      <td>50.577323</td>\n",
       "      <td>189.482681</td>\n",
       "      <td>57.442841</td>\n",
       "      <td>15.132</td>\n",
       "      <td>48.016974</td>\n",
       "      <td>10.039007</td>\n",
       "      <td>53.625193</td>\n",
       "      <td>34.155752</td>\n",
       "    </tr>\n",
       "    <tr>\n",
       "      <th>std</th>\n",
       "      <td>932.996726</td>\n",
       "      <td>42.012518</td>\n",
       "      <td>39.320216</td>\n",
       "      <td>99.513444</td>\n",
       "      <td>28.824667</td>\n",
       "      <td>NaN</td>\n",
       "      <td>33.919845</td>\n",
       "      <td>8.610584</td>\n",
       "      <td>16.881728</td>\n",
       "      <td>19.931616</td>\n",
       "    </tr>\n",
       "    <tr>\n",
       "      <th>min</th>\n",
       "      <td>1.000000</td>\n",
       "      <td>1.918800</td>\n",
       "      <td>0.030160</td>\n",
       "      <td>0.144144</td>\n",
       "      <td>24.148801</td>\n",
       "      <td>15.132</td>\n",
       "      <td>0.034320</td>\n",
       "      <td>0.234208</td>\n",
       "      <td>45.076721</td>\n",
       "      <td>4.622800</td>\n",
       "    </tr>\n",
       "    <tr>\n",
       "      <th>25%</th>\n",
       "      <td>823.000000</td>\n",
       "      <td>72.115684</td>\n",
       "      <td>20.193680</td>\n",
       "      <td>95.135044</td>\n",
       "      <td>40.807002</td>\n",
       "      <td>15.132</td>\n",
       "      <td>25.053600</td>\n",
       "      <td>6.762756</td>\n",
       "      <td>46.094879</td>\n",
       "      <td>22.058401</td>\n",
       "    </tr>\n",
       "    <tr>\n",
       "      <th>50%</th>\n",
       "      <td>1619.000000</td>\n",
       "      <td>100.158234</td>\n",
       "      <td>40.142956</td>\n",
       "      <td>235.194977</td>\n",
       "      <td>45.234282</td>\n",
       "      <td>15.132</td>\n",
       "      <td>42.076324</td>\n",
       "      <td>9.017009</td>\n",
       "      <td>46.279999</td>\n",
       "      <td>30.066399</td>\n",
       "    </tr>\n",
       "    <tr>\n",
       "      <th>75%</th>\n",
       "      <td>2434.000000</td>\n",
       "      <td>126.060484</td>\n",
       "      <td>70.227558</td>\n",
       "      <td>276.252014</td>\n",
       "      <td>76.124619</td>\n",
       "      <td>15.132</td>\n",
       "      <td>64.212723</td>\n",
       "      <td>11.886057</td>\n",
       "      <td>48.089603</td>\n",
       "      <td>43.862003</td>\n",
       "    </tr>\n",
       "    <tr>\n",
       "      <th>max</th>\n",
       "      <td>3241.000000</td>\n",
       "      <td>330.314424</td>\n",
       "      <td>282.780152</td>\n",
       "      <td>385.008668</td>\n",
       "      <td>113.231044</td>\n",
       "      <td>15.132</td>\n",
       "      <td>180.454575</td>\n",
       "      <td>32.847674</td>\n",
       "      <td>102.762401</td>\n",
       "      <td>90.053604</td>\n",
       "    </tr>\n",
       "  </tbody>\n",
       "</table>\n",
       "</div>"
      ],
      "text/plain": [
       "               key       Wire 1       Wire 2      Wire 3      Wire 4  Wire 5  \\\n",
       "count  3081.000000  3055.000000  1079.000000   63.000000   14.000000   1.000   \n",
       "mean   1623.426485   100.895853    50.577323  189.482681   57.442841  15.132   \n",
       "std     932.996726    42.012518    39.320216   99.513444   28.824667     NaN   \n",
       "min       1.000000     1.918800     0.030160    0.144144   24.148801  15.132   \n",
       "25%     823.000000    72.115684    20.193680   95.135044   40.807002  15.132   \n",
       "50%    1619.000000   100.158234    40.142956  235.194977   45.234282  15.132   \n",
       "75%    2434.000000   126.060484    70.227558  276.252014   76.124619  15.132   \n",
       "max    3241.000000   330.314424   282.780152  385.008668  113.231044  15.132   \n",
       "\n",
       "           Wire 6     Wire 7      Wire 8     Wire 9  \n",
       "count   73.000000  11.000000   19.000000  29.000000  \n",
       "mean    48.016974  10.039007   53.625193  34.155752  \n",
       "std     33.919845   8.610584   16.881728  19.931616  \n",
       "min      0.034320   0.234208   45.076721   4.622800  \n",
       "25%     25.053600   6.762756   46.094879  22.058401  \n",
       "50%     42.076324   9.017009   46.279999  30.066399  \n",
       "75%     64.212723  11.886057   48.089603  43.862003  \n",
       "max    180.454575  32.847674  102.762401  90.053604  "
      ]
     },
     "execution_count": 195,
     "metadata": {},
     "output_type": "execute_result"
    }
   ],
   "source": [
    "data_wire.describe()"
   ]
  },
  {
   "cell_type": "code",
   "execution_count": 196,
   "metadata": {},
   "outputs": [
    {
     "data": {
      "text/html": [
       "<div>\n",
       "<style scoped>\n",
       "    .dataframe tbody tr th:only-of-type {\n",
       "        vertical-align: middle;\n",
       "    }\n",
       "\n",
       "    .dataframe tbody tr th {\n",
       "        vertical-align: top;\n",
       "    }\n",
       "\n",
       "    .dataframe thead th {\n",
       "        text-align: right;\n",
       "    }\n",
       "</style>\n",
       "<table border=\"1\" class=\"dataframe\">\n",
       "  <thead>\n",
       "    <tr style=\"text-align: right;\">\n",
       "      <th></th>\n",
       "      <th>key</th>\n",
       "      <th>Wire 1</th>\n",
       "      <th>Wire 2</th>\n",
       "      <th>Wire 3</th>\n",
       "      <th>Wire 4</th>\n",
       "      <th>Wire 5</th>\n",
       "      <th>Wire 6</th>\n",
       "      <th>Wire 7</th>\n",
       "      <th>Wire 8</th>\n",
       "      <th>Wire 9</th>\n",
       "    </tr>\n",
       "  </thead>\n",
       "  <tbody>\n",
       "    <tr>\n",
       "      <th>791</th>\n",
       "      <td>845</td>\n",
       "      <td>110.167198</td>\n",
       "      <td>NaN</td>\n",
       "      <td>NaN</td>\n",
       "      <td>NaN</td>\n",
       "      <td>NaN</td>\n",
       "      <td>NaN</td>\n",
       "      <td>NaN</td>\n",
       "      <td>NaN</td>\n",
       "      <td>NaN</td>\n",
       "    </tr>\n",
       "    <tr>\n",
       "      <th>1323</th>\n",
       "      <td>1394</td>\n",
       "      <td>159.634796</td>\n",
       "      <td>98.050155</td>\n",
       "      <td>NaN</td>\n",
       "      <td>NaN</td>\n",
       "      <td>NaN</td>\n",
       "      <td>NaN</td>\n",
       "      <td>NaN</td>\n",
       "      <td>NaN</td>\n",
       "      <td>NaN</td>\n",
       "    </tr>\n",
       "    <tr>\n",
       "      <th>271</th>\n",
       "      <td>294</td>\n",
       "      <td>99.372001</td>\n",
       "      <td>NaN</td>\n",
       "      <td>NaN</td>\n",
       "      <td>NaN</td>\n",
       "      <td>NaN</td>\n",
       "      <td>NaN</td>\n",
       "      <td>NaN</td>\n",
       "      <td>NaN</td>\n",
       "      <td>NaN</td>\n",
       "    </tr>\n",
       "    <tr>\n",
       "      <th>1032</th>\n",
       "      <td>1092</td>\n",
       "      <td>220.147201</td>\n",
       "      <td>NaN</td>\n",
       "      <td>NaN</td>\n",
       "      <td>NaN</td>\n",
       "      <td>NaN</td>\n",
       "      <td>NaN</td>\n",
       "      <td>NaN</td>\n",
       "      <td>NaN</td>\n",
       "      <td>NaN</td>\n",
       "    </tr>\n",
       "    <tr>\n",
       "      <th>274</th>\n",
       "      <td>297</td>\n",
       "      <td>158.296310</td>\n",
       "      <td>NaN</td>\n",
       "      <td>NaN</td>\n",
       "      <td>NaN</td>\n",
       "      <td>NaN</td>\n",
       "      <td>NaN</td>\n",
       "      <td>NaN</td>\n",
       "      <td>NaN</td>\n",
       "      <td>NaN</td>\n",
       "    </tr>\n",
       "  </tbody>\n",
       "</table>\n",
       "</div>"
      ],
      "text/plain": [
       "       key      Wire 1     Wire 2  Wire 3  Wire 4  Wire 5  Wire 6  Wire 7  \\\n",
       "791    845  110.167198        NaN     NaN     NaN     NaN     NaN     NaN   \n",
       "1323  1394  159.634796  98.050155     NaN     NaN     NaN     NaN     NaN   \n",
       "271    294   99.372001        NaN     NaN     NaN     NaN     NaN     NaN   \n",
       "1032  1092  220.147201        NaN     NaN     NaN     NaN     NaN     NaN   \n",
       "274    297  158.296310        NaN     NaN     NaN     NaN     NaN     NaN   \n",
       "\n",
       "      Wire 8  Wire 9  \n",
       "791      NaN     NaN  \n",
       "1323     NaN     NaN  \n",
       "271      NaN     NaN  \n",
       "1032     NaN     NaN  \n",
       "274      NaN     NaN  "
      ]
     },
     "execution_count": 196,
     "metadata": {},
     "output_type": "execute_result"
    }
   ],
   "source": [
    "data_wire.sample(5)"
   ]
  },
  {
   "cell_type": "code",
   "execution_count": 197,
   "metadata": {},
   "outputs": [],
   "source": [
    "data_wire = data_wire.fillna(0)"
   ]
  },
  {
   "cell_type": "code",
   "execution_count": 198,
   "metadata": {},
   "outputs": [
    {
     "data": {
      "text/plain": [
       "0"
      ]
     },
     "execution_count": 198,
     "metadata": {},
     "output_type": "execute_result"
    }
   ],
   "source": [
    "data_wire.duplicated().sum()"
   ]
  },
  {
   "cell_type": "markdown",
   "metadata": {},
   "source": [
    "## Данные о времени подачи проволочных материалов"
   ]
  },
  {
   "cell_type": "markdown",
   "metadata": {},
   "source": [
    "Таблица steel.data_wire_time\n",
    "* key — номер партии;\n",
    "* Wire1 … Wire15 — время подачи проволочных материалов."
   ]
  },
  {
   "cell_type": "code",
   "execution_count": 199,
   "metadata": {},
   "outputs": [
    {
     "name": "stdout",
     "output_type": "stream",
     "text": [
      "<class 'pandas.core.frame.DataFrame'>\n",
      "RangeIndex: 3081 entries, 0 to 3080\n",
      "Data columns (total 10 columns):\n",
      " #   Column  Non-Null Count  Dtype \n",
      "---  ------  --------------  ----- \n",
      " 0   key     3081 non-null   int64 \n",
      " 1   Wire 1  3055 non-null   object\n",
      " 2   Wire 2  1079 non-null   object\n",
      " 3   Wire 3  63 non-null     object\n",
      " 4   Wire 4  14 non-null     object\n",
      " 5   Wire 5  1 non-null      object\n",
      " 6   Wire 6  73 non-null     object\n",
      " 7   Wire 7  11 non-null     object\n",
      " 8   Wire 8  19 non-null     object\n",
      " 9   Wire 9  29 non-null     object\n",
      "dtypes: int64(1), object(9)\n",
      "memory usage: 240.8+ KB\n"
     ]
    }
   ],
   "source": [
    "data_wire_time.info()"
   ]
  },
  {
   "cell_type": "code",
   "execution_count": 200,
   "metadata": {},
   "outputs": [
    {
     "data": {
      "text/html": [
       "<div>\n",
       "<style scoped>\n",
       "    .dataframe tbody tr th:only-of-type {\n",
       "        vertical-align: middle;\n",
       "    }\n",
       "\n",
       "    .dataframe tbody tr th {\n",
       "        vertical-align: top;\n",
       "    }\n",
       "\n",
       "    .dataframe thead th {\n",
       "        text-align: right;\n",
       "    }\n",
       "</style>\n",
       "<table border=\"1\" class=\"dataframe\">\n",
       "  <thead>\n",
       "    <tr style=\"text-align: right;\">\n",
       "      <th></th>\n",
       "      <th>key</th>\n",
       "    </tr>\n",
       "  </thead>\n",
       "  <tbody>\n",
       "    <tr>\n",
       "      <th>count</th>\n",
       "      <td>3081.000000</td>\n",
       "    </tr>\n",
       "    <tr>\n",
       "      <th>mean</th>\n",
       "      <td>1623.426485</td>\n",
       "    </tr>\n",
       "    <tr>\n",
       "      <th>std</th>\n",
       "      <td>932.996726</td>\n",
       "    </tr>\n",
       "    <tr>\n",
       "      <th>min</th>\n",
       "      <td>1.000000</td>\n",
       "    </tr>\n",
       "    <tr>\n",
       "      <th>25%</th>\n",
       "      <td>823.000000</td>\n",
       "    </tr>\n",
       "    <tr>\n",
       "      <th>50%</th>\n",
       "      <td>1619.000000</td>\n",
       "    </tr>\n",
       "    <tr>\n",
       "      <th>75%</th>\n",
       "      <td>2434.000000</td>\n",
       "    </tr>\n",
       "    <tr>\n",
       "      <th>max</th>\n",
       "      <td>3241.000000</td>\n",
       "    </tr>\n",
       "  </tbody>\n",
       "</table>\n",
       "</div>"
      ],
      "text/plain": [
       "               key\n",
       "count  3081.000000\n",
       "mean   1623.426485\n",
       "std     932.996726\n",
       "min       1.000000\n",
       "25%     823.000000\n",
       "50%    1619.000000\n",
       "75%    2434.000000\n",
       "max    3241.000000"
      ]
     },
     "execution_count": 200,
     "metadata": {},
     "output_type": "execute_result"
    }
   ],
   "source": [
    "data_wire_time.describe()"
   ]
  },
  {
   "cell_type": "code",
   "execution_count": 201,
   "metadata": {},
   "outputs": [
    {
     "data": {
      "text/html": [
       "<div>\n",
       "<style scoped>\n",
       "    .dataframe tbody tr th:only-of-type {\n",
       "        vertical-align: middle;\n",
       "    }\n",
       "\n",
       "    .dataframe tbody tr th {\n",
       "        vertical-align: top;\n",
       "    }\n",
       "\n",
       "    .dataframe thead th {\n",
       "        text-align: right;\n",
       "    }\n",
       "</style>\n",
       "<table border=\"1\" class=\"dataframe\">\n",
       "  <thead>\n",
       "    <tr style=\"text-align: right;\">\n",
       "      <th></th>\n",
       "      <th>key</th>\n",
       "      <th>Wire 1</th>\n",
       "      <th>Wire 2</th>\n",
       "      <th>Wire 3</th>\n",
       "      <th>Wire 4</th>\n",
       "      <th>Wire 5</th>\n",
       "      <th>Wire 6</th>\n",
       "      <th>Wire 7</th>\n",
       "      <th>Wire 8</th>\n",
       "      <th>Wire 9</th>\n",
       "    </tr>\n",
       "  </thead>\n",
       "  <tbody>\n",
       "    <tr>\n",
       "      <th>2214</th>\n",
       "      <td>2325</td>\n",
       "      <td>21:08:13</td>\n",
       "      <td>21:11:55</td>\n",
       "      <td>None</td>\n",
       "      <td>None</td>\n",
       "      <td>None</td>\n",
       "      <td>None</td>\n",
       "      <td>None</td>\n",
       "      <td>None</td>\n",
       "      <td>None</td>\n",
       "    </tr>\n",
       "    <tr>\n",
       "      <th>1031</th>\n",
       "      <td>1091</td>\n",
       "      <td>06:18:34</td>\n",
       "      <td>None</td>\n",
       "      <td>None</td>\n",
       "      <td>None</td>\n",
       "      <td>None</td>\n",
       "      <td>None</td>\n",
       "      <td>None</td>\n",
       "      <td>None</td>\n",
       "      <td>None</td>\n",
       "    </tr>\n",
       "    <tr>\n",
       "      <th>2296</th>\n",
       "      <td>2420</td>\n",
       "      <td>08:22:49</td>\n",
       "      <td>08:24:07</td>\n",
       "      <td>None</td>\n",
       "      <td>None</td>\n",
       "      <td>None</td>\n",
       "      <td>None</td>\n",
       "      <td>None</td>\n",
       "      <td>None</td>\n",
       "      <td>None</td>\n",
       "    </tr>\n",
       "    <tr>\n",
       "      <th>1174</th>\n",
       "      <td>1242</td>\n",
       "      <td>06:49:29</td>\n",
       "      <td>None</td>\n",
       "      <td>None</td>\n",
       "      <td>None</td>\n",
       "      <td>None</td>\n",
       "      <td>None</td>\n",
       "      <td>None</td>\n",
       "      <td>None</td>\n",
       "      <td>None</td>\n",
       "    </tr>\n",
       "    <tr>\n",
       "      <th>467</th>\n",
       "      <td>499</td>\n",
       "      <td>23:25:51</td>\n",
       "      <td>None</td>\n",
       "      <td>None</td>\n",
       "      <td>None</td>\n",
       "      <td>None</td>\n",
       "      <td>None</td>\n",
       "      <td>None</td>\n",
       "      <td>None</td>\n",
       "      <td>None</td>\n",
       "    </tr>\n",
       "  </tbody>\n",
       "</table>\n",
       "</div>"
      ],
      "text/plain": [
       "       key    Wire 1    Wire 2 Wire 3 Wire 4 Wire 5 Wire 6 Wire 7 Wire 8  \\\n",
       "2214  2325  21:08:13  21:11:55   None   None   None   None   None   None   \n",
       "1031  1091  06:18:34      None   None   None   None   None   None   None   \n",
       "2296  2420  08:22:49  08:24:07   None   None   None   None   None   None   \n",
       "1174  1242  06:49:29      None   None   None   None   None   None   None   \n",
       "467    499  23:25:51      None   None   None   None   None   None   None   \n",
       "\n",
       "     Wire 9  \n",
       "2214   None  \n",
       "1031   None  \n",
       "2296   None  \n",
       "1174   None  \n",
       "467    None  "
      ]
     },
     "execution_count": 201,
     "metadata": {},
     "output_type": "execute_result"
    }
   ],
   "source": [
    "data_wire_time.sample(5)"
   ]
  },
  {
   "cell_type": "code",
   "execution_count": 202,
   "metadata": {},
   "outputs": [],
   "source": [
    "data_wire_time = data_wire_time.fillna('00:00:00')\n",
    "for i in range(1,10):\n",
    "    data_wire_time[f\"Wire {i}\"] = pd.to_datetime(data_wire_time[f\"Wire {i}\"], format='%H:%M:%S').dt.time"
   ]
  },
  {
   "cell_type": "code",
   "execution_count": 203,
   "metadata": {},
   "outputs": [
    {
     "data": {
      "text/plain": [
       "0"
      ]
     },
     "execution_count": 203,
     "metadata": {},
     "output_type": "execute_result"
    }
   ],
   "source": [
    "data_wire_time.duplicated().sum()"
   ]
  },
  {
   "cell_type": "markdown",
   "metadata": {},
   "source": [
    "## Объединение и подготовка данных"
   ]
  },
  {
   "cell_type": "markdown",
   "metadata": {},
   "source": [
    "df = []"
   ]
  },
  {
   "cell_type": "code",
   "execution_count": null,
   "metadata": {},
   "outputs": [],
   "source": [
    "df = df.drop(df.query('key == 2116').index).reset_index(drop=True)\n",
    "df = df[df['Bulk 12'] < 1750]"
   ]
  }
 ],
 "metadata": {
  "kernelspec": {
   "display_name": "base",
   "language": "python",
   "name": "python3"
  },
  "language_info": {
   "codemirror_mode": {
    "name": "ipython",
    "version": 3
   },
   "file_extension": ".py",
   "mimetype": "text/x-python",
   "name": "python",
   "nbconvert_exporter": "python",
   "pygments_lexer": "ipython3",
   "version": "3.11.0"
  }
 },
 "nbformat": 4,
 "nbformat_minor": 2
}
